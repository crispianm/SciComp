{
 "cells": [
  {
   "cell_type": "code",
   "execution_count": 32,
   "metadata": {},
   "outputs": [
    {
     "data": {
      "text/plain": [
       "pseudo_arclength (generic function with 1 method)"
      ]
     },
     "execution_count": 32,
     "metadata": {},
     "output_type": "execute_result"
    }
   ],
   "source": [
    "include(\"../ode_solver.jl\")\n",
    "include(\"../numerical_shooting.jl\")\n",
    "include(\"../examples/example_functions.jl\")\n",
    "include(\"../visualisation.jl\")\n",
    "include(\"../finite_difference.jl\")\n",
    "include(\"../numerical_continuation.jl\")"
   ]
  },
  {
   "cell_type": "code",
   "execution_count": 159,
   "metadata": {},
   "outputs": [
    {
     "data": {
      "text/plain": [
       "(0.0:0.01:2.0, [-0.0011406615456035674 -9.346260637541235e-14 6.283184897710069; -1.3236927973877773e-15 -1.196504658541496e-18 6.2831849133496345; … ; -1.3236927973877773e-15 -1.196504658541496e-18 6.2831849133496345; -1.3236927973877773e-15 -1.196504658541496e-18 6.2831849133496345])"
      ]
     },
     "execution_count": 159,
     "metadata": {},
     "output_type": "execute_result"
    }
   ],
   "source": [
    "par_values, conditions = np_continuation(hopf2d, [1 1], 6, \"beta\", 0:0.01:2, discretisation=\"shooting\")\n",
    "\n",
    "# Create trace\n",
    "u1 = scatter(\n",
    "    x = par_values,\n",
    "    y = conditions[:,1],\n",
    "    mode=\"lines\",\n",
    "    name=\"u1\",\n",
    "    showlegend=true\n",
    "    )\n",
    "u2 = scatter(\n",
    "    x = par_values,\n",
    "    y = conditions[:,2],\n",
    "    mode=\"lines\",\n",
    "    name=\"u2\",\n",
    "    showlegend=true\n",
    "    )\n",
    "\n",
    "layout = Layout(\n",
    "    xaxis_title = \"parameter\",\n",
    "    # yaxis_type=\"log\",\n",
    "    yaxis_exponentformat=\"power\",\n",
    "    # yaxis_title = \"\",\n",
    "    width=700, height=350,\n",
    "    )\n",
    "\n",
    "plot([u1, u2], layout)"
   ]
  },
  {
   "cell_type": "code",
   "execution_count": 162,
   "metadata": {},
   "outputs": [
    {
     "ename": "LoadError",
     "evalue": "UndefVarError: Range not defined",
     "output_type": "error",
     "traceback": [
      "UndefVarError: Range not defined",
      "",
      "Stacktrace:",
      " [1] np_continuation(f::Function, x0::Matrix{Int64}, T::Int64, parameter::String, par_values::StepRangeLen{Float64, Base.TwicePrecision{Float64}, Base.TwicePrecision{Float64}, Int64}; discretisation::String, arg::Base.Pairs{Symbol, Union{}, Tuple{}, NamedTuple{(), Tuple{}}})",
      "   @ Main c:\\Users\\crisp\\Desktop\\Uni\\SciComp\\numerical_continuation.jl:34",
      " [2] top-level scope",
      "   @ In[162]:2",
      " [3] eval",
      "   @ .\\boot.jl:373 [inlined]",
      " [4] include_string(mapexpr::typeof(REPL.softscope), mod::Module, code::String, filename::String)",
      "   @ Base .\\loading.jl:1196"
     ]
    }
   ],
   "source": [
    "# include(\"../numerical_continuation.jl\")\n",
    "np_continuation(hopf2d, [1 1], 6, \"bea\", 0:0.01:2, discretisation=\"shooting\")"
   ]
  },
  {
   "cell_type": "code",
   "execution_count": 181,
   "metadata": {},
   "outputs": [
    {
     "data": {
      "text/plain": [
       "0.01"
      ]
     },
     "execution_count": 181,
     "metadata": {},
     "output_type": "execute_result"
    }
   ],
   "source": [
    "par_values = 0:0.01:2\n",
    "par_values = 0:0.01:2\n",
    "# typeof(t)\n",
    "# Range\n",
    "# step(par_values)\n",
    "\n",
    "try \n",
    "    step(par_values);\n",
    "catch \n",
    "    error(\"Please enter a range for the parameter values.\")\n",
    "end"
   ]
  },
  {
   "cell_type": "code",
   "execution_count": 158,
   "metadata": {},
   "outputs": [
    {
     "data": {
      "text/plain": [
       "([0.2, 0.21, 0.22118486371160345, 0.23379982041904207, 0.24816381001634996, 0.26418464692927585, 0.2777252635564887, 0.29126588018370153, 0.3048064968109144], [0.5778714846989212 0.2861488834424689 20.8168665836801; 0.5469147596381356 0.29310753080924395 20.2249745418589; … ; 0.27015621263841344 0.27015621168428244 16.645615375594517; 0.2701562134773507 0.27015621149547747 16.03318800995114])"
      ]
     },
     "execution_count": 158,
     "metadata": {},
     "output_type": "execute_result"
    }
   ],
   "source": [
    "function pseudo_arclength_eq(secant, v, v_pred)\n",
    "\n",
    "\n",
    "    estimate = dot(secant, v - v_pred)\n",
    "\n",
    "\n",
    "    return estimate\n",
    "end\n",
    "\n",
    "\n",
    "function pseudo_arclength(f, x0, T, parameter, par_values; discretisation=\"shooting\", arg...)\n",
    "\n",
    "    \"\"\"\n",
    "    Attempts to find a function's solution for each parameter value using the last found solution as an initial guess.\n",
    "    First solution is found using the inputted initial conditions, x0.\n",
    "\n",
    "        Parameters:\n",
    "            f (function): Function which returns a singular value or 1 x n matrix of values.\n",
    "                The parameter \n",
    "            x0 (matrix): Matrix of initial values in the 1 x n form, eg: [1] or [1 1].\n",
    "            T (float): Initial guess for the period.\n",
    "            parameter (string): The parameter in the system to vary.\n",
    "                Allowable method inputs: a, alpha, b, beta, c, d, delta, sigma\n",
    "            par_values (range): Parameter values to solve between, made with colons, eg: 0:0.1:2.\n",
    "            discretisation (string): The discretisation to use, either \"shooting\" or \"none.\"\n",
    "            arg (list, optional): Arguments to pass to f.\n",
    "\n",
    "        Returns:\n",
    "            new_par_values, conditions: the parameter values and corresponding solutions.\n",
    "\n",
    "        Example Usage:\n",
    "        pseudo_arclength(hopf2d, [1 1], 6, \"beta\", 0:0.01:2, discretisation=\"shooting\")\n",
    "    \"\"\"\n",
    "\n",
    "    # convert ints to floats for use in nlsolve\n",
    "    x0 = [x0 T]\n",
    "    x0 = [Float64(number) for number in x0] \n",
    "    \n",
    "    # Handle parameter and discretisation assignment\n",
    "    if discretisation == \"shooting\"\n",
    "        if parameter == \"a\"\n",
    "            discretisation = (u0, par) -> shoot(f, u0, phase_index=0, a=par)\n",
    "        elseif parameter == \"alpha\"\n",
    "            discretisation = (u0, par) -> shoot(f, u0, phase_index=0, alpha=par)\n",
    "        elseif parameter == \"b\"\n",
    "            discretisation = (u0, par) -> shoot(f, u0, phase_index=0, b=par)\n",
    "        elseif parameter == \"beta\"\n",
    "            discretisation = (u0, par) -> shoot(f, u0, phase_index=0, beta=par)\n",
    "        elseif parameter == \"c\"\n",
    "            discretisation = (u0, par) -> shoot(f, u0, phase_index=0, c=par)\n",
    "        elseif parameter == \"d\"\n",
    "            discretisation = (u0, par) -> shoot(f, u0, phase_index=0, d=par)\n",
    "        elseif parameter == \"delta\"\n",
    "            discretisation = (u0, par) -> shoot(f, u0, phase_index=0, delta=par)\n",
    "        elseif parameter == \"sigma\"\n",
    "            discretisation = (u0, par) -> shoot(f, u0, phase_index=0, sigma=par)\n",
    "        end\n",
    "    elseif discretisation == \"none\" \n",
    "        if parameter == \"a\"\n",
    "            discretisation = (u0, par) -> f(u0, a=par)\n",
    "        elseif parameter == \"alpha\"\n",
    "            discretisation = (u0, par) -> f(u0, alpha=par)\n",
    "        elseif parameter == \"b\"\n",
    "            discretisation = (u0, par) -> f(u0, b=par)\n",
    "        elseif parameter == \"beta\"\n",
    "            discretisation = (u0, par) -> f(u0, beta=par)\n",
    "        elseif parameter == \"c\"\n",
    "            discretisation = (u0, par) -> f(u0, c=par)\n",
    "        elseif parameter == \"d\"\n",
    "            discretisation = (u0, par) -> f(u0, d=par)\n",
    "        elseif parameter == \"delta\"\n",
    "            discretisation = (u0, par) -> f(u0, delta=par)\n",
    "        elseif parameter == \"sigma\"\n",
    "            discretisation = (u0, par) -> f(u0, sigma=par)\n",
    "        end\n",
    "    else\n",
    "        error(\"Invalid discretisation.\")\n",
    "    end\n",
    "\n",
    "    # Create a list of new parameter values to try\n",
    "    new_par_values = [par_values[1]; par_values[2]]\n",
    "\n",
    "    # Check if the parameter difference is positive or negative \n",
    "    if par_values[end] - par_values[1] < 0\n",
    "        end_function = (value) -> value > par_values[end]\n",
    "    else\n",
    "        end_function = (value) -> value < par_values[end]\n",
    "    end\n",
    "\n",
    "    # Use the first solution as an initial guess for the next\n",
    "    conditions = nlsolve((u) -> discretisation(u, par_values[1]), x0).zero\n",
    "    conditions = [conditions; nlsolve((u) -> discretisation(u, new_par_values[2]), conditions).zero]\n",
    "   \n",
    "    # Computation\n",
    "    i = 1\n",
    "    while end_function(new_par_values[end])\n",
    "\n",
    "        # Define augmented state vectors\n",
    "        v0 = [new_par_values[i] conditions[[i],:]]\n",
    "        v1 = [new_par_values[i+1] conditions[[i+1],:]]\n",
    "        \n",
    "        # Find the secant\n",
    "        secant = v1 - v0\n",
    "        \n",
    "        # Find the pseudo-arclength estimate\n",
    "        v_pred = v1 + secant\n",
    "        sol = nlsolve((v2) -> [discretisation(v2[:,2:end], v2[1]) pseudo_arclength_eq(secant, v2, v_pred)], v_pred).zero\n",
    "        \n",
    "        # Append the new condition and parameter value\n",
    "        conditions = [conditions; sol[:,2:end]]\n",
    "        push!(new_par_values, sol[1])\n",
    "\n",
    "        i += 1\n",
    "    end\n",
    "    \n",
    "    return new_par_values, conditions\n",
    "end\n",
    "\n",
    "par_values, conditions = pseudo_arclength(predprey, [1 1], 6, \"b\", 0.2:0.01:0.3, \n",
    "        discretisation=\"shooting\")"
   ]
  },
  {
   "cell_type": "code",
   "execution_count": 153,
   "metadata": {},
   "outputs": [
    {
     "data": {
      "application/vnd.plotly.v1+json": {
       "config": {
        "editable": false,
        "responsive": true,
        "scrollZoom": true,
        "showLink": false,
        "staticPlot": false
       },
       "data": [
        {
         "mode": "lines",
         "name": "u1",
         "showlegend": true,
         "type": "scatter",
         "x": [
          0.2,
          0.201,
          0.20201112046106062,
          0.20303356309367923,
          0.20406753124583668,
          0.20511323458110903,
          0.20617088820538326,
          0.20724071285247161,
          0.2083229350780348,
          0.20941778746044873,
          0.21052550880905455,
          0.21164634437961563,
          0.2127805460969196,
          0.21392837278438265,
          0.2150900904001556,
          0.2162659722790998,
          0.21745629937994032,
          0.21866136053610488,
          0.21988145270875595,
          0.2211168812394475,
          0.22236796009940046,
          0.2236350172710268,
          0.22491837503489812,
          0.226218379257912,
          0.22753538068970114,
          0.2288697396964319,
          0.23022182632745897,
          0.2315920202916915,
          0.2329807108076679,
          0.2343882962770961,
          0.23581518371067503,
          0.23726178780392065,
          0.23872852951350598,
          0.24021583391119547,
          0.24172412697537599,
          0.24325383078772436,
          0.24480535627531033,
          0.24637909205969627,
          0.24797538690269713,
          0.24959452114242012,
          0.25123665813605495,
          0.25290175681880434,
          0.2545894016599265,
          0.2562984351768873,
          0.2580260329285433,
          0.25976473809698164,
          0.2614872202773408,
          0.2630896435683609,
          0.2651143531452347,
          0.26713906272210847,
          0.26916377229898225,
          0.27118848187585604,
          0.2732131914527298,
          0.2752379010296036,
          0.2772626106064774,
          0.2792873201833512,
          0.28131202976022496,
          0.28333673933709874,
          0.2853614489139725,
          0.2873861584908463,
          0.2894108680677201,
          0.2914355776445939,
          0.29346028722146766,
          0.29548499679834145,
          0.29750970637521523,
          0.299534415952089,
          0.3015591255289628
         ],
         "y": [
          0.5778714846989212,
          0.5748622521110464,
          0.5718011128359962,
          0.568686450020338,
          0.565516570517976,
          0.5622896920739957,
          0.5590039388948612,
          0.5556573343120538,
          0.5522477926463671,
          0.5487731101676324,
          0.5452309550199893,
          0.5416188559597356,
          0.5379341897256603,
          0.5341741668278417,
          0.5303358155001737,
          0.526415963510582,
          0.5224112174600918,
          0.5183179391256832,
          0.5141322183004124,
          0.5098498414645667,
          0.5054662554616293,
          0.5009764958118867,
          0.49637524971886393,
          0.4916566345046866,
          0.4868142330248653,
          0.4818409848701032,
          0.4767290858186661,
          0.4714698654808986,
          0.46605363699353336,
          0.46046951045734835,
          0.4547051587158198,
          0.4487465195616744,
          0.4425774117511824,
          0.43617903200610153,
          0.42952928427149606,
          0.4226018669535946,
          0.41536500148811056,
          0.4077796125907059,
          0.39979663912139374,
          0.3913529052307613,
          0.3823644780509217,
          0.3727153398632943,
          0.3622365600245084,
          0.3506639192904777,
          0.3375382493189014,
          0.3219100137625394,
          0.30095700876305664,
          0.270156211901653,
          0.27015621187999694,
          0.2701562118583409,
          0.2701562118366848,
          0.27015621181502875,
          0.2701562117933727,
          0.2701562117717166,
          0.27015621175006055,
          0.2701562117284045,
          0.2701562117067484,
          0.27015621168509235,
          0.2701562116634363,
          0.2701562116417802,
          0.27015621162012415,
          0.2701562115984681,
          0.270156211576812,
          0.27015621155515596,
          0.2701562115334999,
          0.2701562115118438,
          0.27015621149018776
         ]
        },
        {
         "mode": "lines",
         "name": "u2",
         "showlegend": true,
         "type": "scatter",
         "x": [
          0.2,
          0.201,
          0.20201112046106062,
          0.20303356309367923,
          0.20406753124583668,
          0.20511323458110903,
          0.20617088820538326,
          0.20724071285247161,
          0.2083229350780348,
          0.20941778746044873,
          0.21052550880905455,
          0.21164634437961563,
          0.2127805460969196,
          0.21392837278438265,
          0.2150900904001556,
          0.2162659722790998,
          0.21745629937994032,
          0.21866136053610488,
          0.21988145270875595,
          0.2211168812394475,
          0.22236796009940046,
          0.2236350172710268,
          0.22491837503489812,
          0.226218379257912,
          0.22753538068970114,
          0.2288697396964319,
          0.23022182632745897,
          0.2315920202916915,
          0.2329807108076679,
          0.2343882962770961,
          0.23581518371067503,
          0.23726178780392065,
          0.23872852951350598,
          0.24021583391119547,
          0.24172412697537599,
          0.24325383078772436,
          0.24480535627531033,
          0.24637909205969627,
          0.24797538690269713,
          0.24959452114242012,
          0.25123665813605495,
          0.25290175681880434,
          0.2545894016599265,
          0.2562984351768873,
          0.2580260329285433,
          0.25976473809698164,
          0.2614872202773408,
          0.2630896435683609,
          0.2651143531452347,
          0.26713906272210847,
          0.26916377229898225,
          0.27118848187585604,
          0.2732131914527298,
          0.2752379010296036,
          0.2772626106064774,
          0.2792873201833512,
          0.28131202976022496,
          0.28333673933709874,
          0.2853614489139725,
          0.2873861584908463,
          0.2894108680677201,
          0.2914355776445939,
          0.29346028722146766,
          0.29548499679834145,
          0.29750970637521523,
          0.299534415952089,
          0.3015591255289628
         ],
         "y": [
          0.2861488834424689,
          0.2869094198797062,
          0.28766449185095194,
          0.28841352971013245,
          0.28915592526930034,
          0.28989102861039495,
          0.29061814510446493,
          0.29133653176960983,
          0.29204539325139606,
          0.2927438773765224,
          0.293431070221651,
          0.29410599062982984,
          0.2947675840950755,
          0.29541471592147495,
          0.29604616354577645,
          0.2966606078913448,
          0.2972566235952537,
          0.29783266791762736,
          0.2983870681025227,
          0.2989180069082603,
          0.29942350596122647,
          0.2999013968747417,
          0.3003493362135144,
          0.3007647248017447,
          0.30114471224679334,
          0.30148615168250537,
          0.30178555597130324,
          0.3020390448762391,
          0.3022422807392901,
          0.3023903893507988,
          0.3024778614814822,
          0.30249842878682703,
          0.30244490518374656,
          0.30230898084380686,
          0.3020809497977244,
          0.30174934230585576,
          0.30130041687860354,
          0.3007174388880181,
          0.2999796225585659,
          0.2990605182797223,
          0.2979254361818663,
          0.29652708133836386,
          0.29479757870367945,
          0.29263234347892086,
          0.28985235702040135,
          0.2860929554260698,
          0.2802861881782952,
          0.2701562118840578,
          0.2701562118764188,
          0.2701562118687798,
          0.2701562118611408,
          0.2701562118535018,
          0.2701562118458628,
          0.2701562118382238,
          0.2701562118305848,
          0.2701562118229458,
          0.2701562118153068,
          0.2701562118076678,
          0.2701562118000288,
          0.2701562117923898,
          0.2701562117847508,
          0.2701562117771118,
          0.2701562117694728,
          0.2701562117618338,
          0.2701562117541948,
          0.2701562117465558,
          0.2701562117389168
         ]
        }
       ],
       "frames": [],
       "layout": {
        "height": 350,
        "margin": {
         "b": 50,
         "l": 50,
         "r": 50,
         "t": 60
        },
        "template": {
         "data": {
          "bar": [
           {
            "error_x": {
             "color": "#2a3f5f"
            },
            "error_y": {
             "color": "#2a3f5f"
            },
            "marker": {
             "line": {
              "color": "#E5ECF6",
              "width": 0.5
             }
            },
            "type": "bar"
           }
          ],
          "barpolar": [
           {
            "marker": {
             "line": {
              "color": "#E5ECF6",
              "width": 0.5
             }
            },
            "type": "barpolar"
           }
          ],
          "carpet": [
           {
            "aaxis": {
             "endlinecolor": "#2a3f5f",
             "gridcolor": "white",
             "linecolor": "white",
             "minorgridcolor": "white",
             "startlinecolor": "#2a3f5f"
            },
            "baxis": {
             "endlinecolor": "#2a3f5f",
             "gridcolor": "white",
             "linecolor": "white",
             "minorgridcolor": "white",
             "startlinecolor": "#2a3f5f"
            },
            "type": "carpet"
           }
          ],
          "choropleth": [
           {
            "colorbar": {
             "outlinewidth": 0,
             "ticks": ""
            },
            "type": "choropleth"
           }
          ],
          "contour": [
           {
            "colorbar": {
             "outlinewidth": 0,
             "ticks": ""
            },
            "colorscale": [
             [
              0,
              "#0d0887"
             ],
             [
              0.1111111111111111,
              "#46039f"
             ],
             [
              0.2222222222222222,
              "#7201a8"
             ],
             [
              0.3333333333333333,
              "#9c179e"
             ],
             [
              0.4444444444444444,
              "#bd3786"
             ],
             [
              0.5555555555555556,
              "#d8576b"
             ],
             [
              0.6666666666666666,
              "#ed7953"
             ],
             [
              0.7777777777777778,
              "#fb9f3a"
             ],
             [
              0.8888888888888888,
              "#fdca26"
             ],
             [
              1,
              "#f0f921"
             ]
            ],
            "type": "contour"
           }
          ],
          "contourcarpet": [
           {
            "colorbar": {
             "outlinewidth": 0,
             "ticks": ""
            },
            "type": "contourcarpet"
           }
          ],
          "heatmap": [
           {
            "colorbar": {
             "outlinewidth": 0,
             "ticks": ""
            },
            "colorscale": [
             [
              0,
              "#0d0887"
             ],
             [
              0.1111111111111111,
              "#46039f"
             ],
             [
              0.2222222222222222,
              "#7201a8"
             ],
             [
              0.3333333333333333,
              "#9c179e"
             ],
             [
              0.4444444444444444,
              "#bd3786"
             ],
             [
              0.5555555555555556,
              "#d8576b"
             ],
             [
              0.6666666666666666,
              "#ed7953"
             ],
             [
              0.7777777777777778,
              "#fb9f3a"
             ],
             [
              0.8888888888888888,
              "#fdca26"
             ],
             [
              1,
              "#f0f921"
             ]
            ],
            "type": "heatmap"
           }
          ],
          "heatmapgl": [
           {
            "colorbar": {
             "outlinewidth": 0,
             "ticks": ""
            },
            "colorscale": [
             [
              0,
              "#0d0887"
             ],
             [
              0.1111111111111111,
              "#46039f"
             ],
             [
              0.2222222222222222,
              "#7201a8"
             ],
             [
              0.3333333333333333,
              "#9c179e"
             ],
             [
              0.4444444444444444,
              "#bd3786"
             ],
             [
              0.5555555555555556,
              "#d8576b"
             ],
             [
              0.6666666666666666,
              "#ed7953"
             ],
             [
              0.7777777777777778,
              "#fb9f3a"
             ],
             [
              0.8888888888888888,
              "#fdca26"
             ],
             [
              1,
              "#f0f921"
             ]
            ],
            "type": "heatmapgl"
           }
          ],
          "histogram": [
           {
            "marker": {
             "colorbar": {
              "outlinewidth": 0,
              "ticks": ""
             }
            },
            "type": "histogram"
           }
          ],
          "histogram2d": [
           {
            "colorbar": {
             "outlinewidth": 0,
             "ticks": ""
            },
            "colorscale": [
             [
              0,
              "#0d0887"
             ],
             [
              0.1111111111111111,
              "#46039f"
             ],
             [
              0.2222222222222222,
              "#7201a8"
             ],
             [
              0.3333333333333333,
              "#9c179e"
             ],
             [
              0.4444444444444444,
              "#bd3786"
             ],
             [
              0.5555555555555556,
              "#d8576b"
             ],
             [
              0.6666666666666666,
              "#ed7953"
             ],
             [
              0.7777777777777778,
              "#fb9f3a"
             ],
             [
              0.8888888888888888,
              "#fdca26"
             ],
             [
              1,
              "#f0f921"
             ]
            ],
            "type": "histogram2d"
           }
          ],
          "histogram2dcontour": [
           {
            "colorbar": {
             "outlinewidth": 0,
             "ticks": ""
            },
            "colorscale": [
             [
              0,
              "#0d0887"
             ],
             [
              0.1111111111111111,
              "#46039f"
             ],
             [
              0.2222222222222222,
              "#7201a8"
             ],
             [
              0.3333333333333333,
              "#9c179e"
             ],
             [
              0.4444444444444444,
              "#bd3786"
             ],
             [
              0.5555555555555556,
              "#d8576b"
             ],
             [
              0.6666666666666666,
              "#ed7953"
             ],
             [
              0.7777777777777778,
              "#fb9f3a"
             ],
             [
              0.8888888888888888,
              "#fdca26"
             ],
             [
              1,
              "#f0f921"
             ]
            ],
            "type": "histogram2dcontour"
           }
          ],
          "mesh3d": [
           {
            "colorbar": {
             "outlinewidth": 0,
             "ticks": ""
            },
            "type": "mesh3d"
           }
          ],
          "parcoords": [
           {
            "line": {
             "colorbar": {
              "outlinewidth": 0,
              "ticks": ""
             }
            },
            "type": "parcoords"
           }
          ],
          "pie": [
           {
            "automargin": true,
            "type": "pie"
           }
          ],
          "scatter": [
           {
            "marker": {
             "colorbar": {
              "outlinewidth": 0,
              "ticks": ""
             }
            },
            "type": "scatter"
           }
          ],
          "scatter3d": [
           {
            "line": {
             "colorbar": {
              "outlinewidth": 0,
              "ticks": ""
             }
            },
            "marker": {
             "colorbar": {
              "outlinewidth": 0,
              "ticks": ""
             }
            },
            "type": "scatter3d"
           }
          ],
          "scattercarpet": [
           {
            "marker": {
             "colorbar": {
              "outlinewidth": 0,
              "ticks": ""
             }
            },
            "type": "scattercarpet"
           }
          ],
          "scattergeo": [
           {
            "marker": {
             "colorbar": {
              "outlinewidth": 0,
              "ticks": ""
             }
            },
            "type": "scattergeo"
           }
          ],
          "scattergl": [
           {
            "marker": {
             "colorbar": {
              "outlinewidth": 0,
              "ticks": ""
             }
            },
            "type": "scattergl"
           }
          ],
          "scattermapbox": [
           {
            "marker": {
             "colorbar": {
              "outlinewidth": 0,
              "ticks": ""
             }
            },
            "type": "scattermapbox"
           }
          ],
          "scatterpolar": [
           {
            "marker": {
             "colorbar": {
              "outlinewidth": 0,
              "ticks": ""
             }
            },
            "type": "scatterpolar"
           }
          ],
          "scatterpolargl": [
           {
            "marker": {
             "colorbar": {
              "outlinewidth": 0,
              "ticks": ""
             }
            },
            "type": "scatterpolargl"
           }
          ],
          "scatterternary": [
           {
            "marker": {
             "colorbar": {
              "outlinewidth": 0,
              "ticks": ""
             }
            },
            "type": "scatterternary"
           }
          ],
          "surface": [
           {
            "colorbar": {
             "outlinewidth": 0,
             "ticks": ""
            },
            "colorscale": [
             [
              0,
              "#0d0887"
             ],
             [
              0.1111111111111111,
              "#46039f"
             ],
             [
              0.2222222222222222,
              "#7201a8"
             ],
             [
              0.3333333333333333,
              "#9c179e"
             ],
             [
              0.4444444444444444,
              "#bd3786"
             ],
             [
              0.5555555555555556,
              "#d8576b"
             ],
             [
              0.6666666666666666,
              "#ed7953"
             ],
             [
              0.7777777777777778,
              "#fb9f3a"
             ],
             [
              0.8888888888888888,
              "#fdca26"
             ],
             [
              1,
              "#f0f921"
             ]
            ],
            "type": "surface"
           }
          ],
          "table": [
           {
            "cells": {
             "fill": {
              "color": "#EBF0F8"
             },
             "line": {
              "color": "white"
             }
            },
            "header": {
             "fill": {
              "color": "#C8D4E3"
             },
             "line": {
              "color": "white"
             }
            },
            "type": "table"
           }
          ]
         },
         "layout": {
          "annotationdefaults": {
           "arrowcolor": "#2a3f5f",
           "arrowhead": 0,
           "arrowwidth": 1
          },
          "autotypenumbers": "strict",
          "coloraxis": {
           "colorbar": {
            "outlinewidth": 0,
            "ticks": ""
           }
          },
          "colorscale": {
           "diverging": [
            [
             0,
             "#8e0152"
            ],
            [
             0.1,
             "#c51b7d"
            ],
            [
             0.2,
             "#de77ae"
            ],
            [
             0.3,
             "#f1b6da"
            ],
            [
             0.4,
             "#fde0ef"
            ],
            [
             0.5,
             "#f7f7f7"
            ],
            [
             0.6,
             "#e6f5d0"
            ],
            [
             0.7,
             "#b8e186"
            ],
            [
             0.8,
             "#7fbc41"
            ],
            [
             0.9,
             "#4d9221"
            ],
            [
             1,
             "#276419"
            ]
           ],
           "sequential": [
            [
             0,
             "#0d0887"
            ],
            [
             0.1111111111111111,
             "#46039f"
            ],
            [
             0.2222222222222222,
             "#7201a8"
            ],
            [
             0.3333333333333333,
             "#9c179e"
            ],
            [
             0.4444444444444444,
             "#bd3786"
            ],
            [
             0.5555555555555556,
             "#d8576b"
            ],
            [
             0.6666666666666666,
             "#ed7953"
            ],
            [
             0.7777777777777778,
             "#fb9f3a"
            ],
            [
             0.8888888888888888,
             "#fdca26"
            ],
            [
             1,
             "#f0f921"
            ]
           ],
           "sequentialminus": [
            [
             0,
             "#0d0887"
            ],
            [
             0.1111111111111111,
             "#46039f"
            ],
            [
             0.2222222222222222,
             "#7201a8"
            ],
            [
             0.3333333333333333,
             "#9c179e"
            ],
            [
             0.4444444444444444,
             "#bd3786"
            ],
            [
             0.5555555555555556,
             "#d8576b"
            ],
            [
             0.6666666666666666,
             "#ed7953"
            ],
            [
             0.7777777777777778,
             "#fb9f3a"
            ],
            [
             0.8888888888888888,
             "#fdca26"
            ],
            [
             1,
             "#f0f921"
            ]
           ]
          },
          "colorway": [
           "#636efa",
           "#EF553B",
           "#00cc96",
           "#ab63fa",
           "#FFA15A",
           "#19d3f3",
           "#FF6692",
           "#B6E880",
           "#FF97FF",
           "#FECB52"
          ],
          "font": {
           "color": "#2a3f5f"
          },
          "geo": {
           "bgcolor": "white",
           "lakecolor": "white",
           "landcolor": "#E5ECF6",
           "showlakes": true,
           "showland": true,
           "subunitcolor": "white"
          },
          "hoverlabel": {
           "align": "left"
          },
          "hovermode": "closest",
          "mapbox": {
           "style": "light"
          },
          "paper_bgcolor": "white",
          "plot_bgcolor": "#E5ECF6",
          "polar": {
           "angularaxis": {
            "gridcolor": "white",
            "linecolor": "white",
            "ticks": ""
           },
           "bgcolor": "#E5ECF6",
           "radialaxis": {
            "gridcolor": "white",
            "linecolor": "white",
            "ticks": ""
           }
          },
          "scene": {
           "xaxis": {
            "backgroundcolor": "#E5ECF6",
            "gridcolor": "white",
            "gridwidth": 2,
            "linecolor": "white",
            "showbackground": true,
            "ticks": "",
            "zerolinecolor": "white"
           },
           "yaxis": {
            "backgroundcolor": "#E5ECF6",
            "gridcolor": "white",
            "gridwidth": 2,
            "linecolor": "white",
            "showbackground": true,
            "ticks": "",
            "zerolinecolor": "white"
           },
           "zaxis": {
            "backgroundcolor": "#E5ECF6",
            "gridcolor": "white",
            "gridwidth": 2,
            "linecolor": "white",
            "showbackground": true,
            "ticks": "",
            "zerolinecolor": "white"
           }
          },
          "shapedefaults": {
           "line": {
            "color": "#2a3f5f"
           }
          },
          "ternary": {
           "aaxis": {
            "gridcolor": "white",
            "linecolor": "white",
            "ticks": ""
           },
           "baxis": {
            "gridcolor": "white",
            "linecolor": "white",
            "ticks": ""
           },
           "bgcolor": "#E5ECF6",
           "caxis": {
            "gridcolor": "white",
            "linecolor": "white",
            "ticks": ""
           }
          },
          "title": {
           "x": 0.05
          },
          "xaxis": {
           "automargin": true,
           "gridcolor": "white",
           "linecolor": "white",
           "ticks": "",
           "title": {
            "standoff": 15
           },
           "zerolinecolor": "white",
           "zerolinewidth": 2
          },
          "yaxis": {
           "automargin": true,
           "gridcolor": "white",
           "linecolor": "white",
           "ticks": "",
           "title": {
            "standoff": 15
           },
           "zerolinecolor": "white",
           "zerolinewidth": 2
          }
         }
        },
        "width": 700,
        "xaxis": {
         "title": {
          "text": "parameter"
         }
        },
        "yaxis": {
         "exponentformat": "power"
        }
       }
      },
      "text/html": [
       "<div\n",
       "    class=\"webio-mountpoint\"\n",
       "    data-webio-mountpoint=\"3217957112097991460\"\n",
       ">\n",
       "    <script>\n",
       "    (function(){\n",
       "    // Some integrations (namely, IJulia/Jupyter) use an alternate render pathway than\n",
       "    // just putting the html on the page. If WebIO isn't defined, then it's pretty likely\n",
       "    // that we're in one of those situations and the integration just isn't installed\n",
       "    // correctly.\n",
       "    if (typeof window.WebIO === \"undefined\") {\n",
       "        document\n",
       "            .querySelector('[data-webio-mountpoint=\"3217957112097991460\"]')\n",
       "            .innerHTML = (\n",
       "                '<div style=\"padding: 1em; background-color: #f8d6da; border: 1px solid #f5c6cb; font-weight: bold;\">' +\n",
       "                '<p><strong>WebIO not detected.</strong></p>' +\n",
       "                '<p>Please read ' +\n",
       "                '<a href=\"https://juliagizmos.github.io/WebIO.jl/latest/troubleshooting/not-detected/\" target=\"_blank\">the troubleshooting guide</a> ' +\n",
       "                'for more information on how to resolve this issue.</p>' +\n",
       "                '<p><a href=\"https://juliagizmos.github.io/WebIO.jl/latest/troubleshooting/not-detected/\" target=\"_blank\">https://juliagizmos.github.io/WebIO.jl/latest/troubleshooting/not-detected/</a></p>' +\n",
       "                '</div>'\n",
       "            );\n",
       "        return;\n",
       "    }\n",
       "    WebIO.mount(\n",
       "        document.querySelector('[data-webio-mountpoint=\"3217957112097991460\"]'),\n",
       "        {\"props\":{},\"nodeType\":\"Scope\",\"type\":\"node\",\"instanceArgs\":{\"imports\":{\"data\":[{\"name\":\"Plotly\",\"type\":\"js\",\"url\":\"\\/assetserver\\/5b0bcbbb362c204ec77e728ffa8c7da4be28ce8a-plotly.min.js\"},{\"name\":null,\"type\":\"js\",\"url\":\"\\/assetserver\\/6303ac4e25f5217851dbb12ecf3059151c237374-plotly_webio.bundle.js\"}],\"type\":\"async_block\"},\"id\":\"15369656455917460448\",\"handlers\":{\"_toImage\":[\"(function (options){return this.Plotly.toImage(this.plotElem,options).then((function (data){return WebIO.setval({\\\"name\\\":\\\"image\\\",\\\"scope\\\":\\\"15369656455917460448\\\",\\\"id\\\":\\\"4362513532286772471\\\",\\\"type\\\":\\\"observable\\\"},data)}))})\"],\"__get_gd_contents\":[\"(function (prop){prop==\\\"data\\\" ? (WebIO.setval({\\\"name\\\":\\\"__gd_contents\\\",\\\"scope\\\":\\\"15369656455917460448\\\",\\\"id\\\":\\\"1521451005348065538\\\",\\\"type\\\":\\\"observable\\\"},this.plotElem.data)) : undefined; return prop==\\\"layout\\\" ? (WebIO.setval({\\\"name\\\":\\\"__gd_contents\\\",\\\"scope\\\":\\\"15369656455917460448\\\",\\\"id\\\":\\\"1521451005348065538\\\",\\\"type\\\":\\\"observable\\\"},this.plotElem.layout)) : undefined})\"],\"_downloadImage\":[\"(function (options){return this.Plotly.downloadImage(this.plotElem,options)})\"],\"_commands\":[\"(function (args){var fn=args.shift(); var elem=this.plotElem; var Plotly=this.Plotly; args.unshift(elem); return Plotly[fn].apply(this,args)})\"]},\"systemjs_options\":null,\"mount_callbacks\":[\"function () {\\n    var handler = ((function (Plotly,PlotlyWebIO){PlotlyWebIO.init(WebIO); var gd=this.dom.querySelector(\\\"#plot-8f1d1272-23ca-4aaf-b1b6-f9413f0850bb\\\"); this.plotElem=gd; this.Plotly=Plotly; (window.Blink!==undefined) ? (gd.style.width=\\\"100%\\\", gd.style.height=\\\"100vh\\\", gd.style.marginLeft=\\\"0%\\\", gd.style.marginTop=\\\"0vh\\\") : undefined; window.onresize=(function (){return Plotly.Plots.resize(gd)}); Plotly.newPlot(gd,[{\\\"showlegend\\\":true,\\\"mode\\\":\\\"lines\\\",\\\"y\\\":[0.5778714846989212,0.5748622521110464,0.5718011128359962,0.568686450020338,0.565516570517976,0.5622896920739957,0.5590039388948612,0.5556573343120538,0.5522477926463671,0.5487731101676324,0.5452309550199893,0.5416188559597356,0.5379341897256603,0.5341741668278417,0.5303358155001737,0.526415963510582,0.5224112174600918,0.5183179391256832,0.5141322183004124,0.5098498414645667,0.5054662554616293,0.5009764958118867,0.49637524971886393,0.4916566345046866,0.4868142330248653,0.4818409848701032,0.4767290858186661,0.4714698654808986,0.46605363699353336,0.46046951045734835,0.4547051587158198,0.4487465195616744,0.4425774117511824,0.43617903200610153,0.42952928427149606,0.4226018669535946,0.41536500148811056,0.4077796125907059,0.39979663912139374,0.3913529052307613,0.3823644780509217,0.3727153398632943,0.3622365600245084,0.3506639192904777,0.3375382493189014,0.3219100137625394,0.30095700876305664,0.270156211901653,0.27015621187999694,0.2701562118583409,0.2701562118366848,0.27015621181502875,0.2701562117933727,0.2701562117717166,0.27015621175006055,0.2701562117284045,0.2701562117067484,0.27015621168509235,0.2701562116634363,0.2701562116417802,0.27015621162012415,0.2701562115984681,0.270156211576812,0.27015621155515596,0.2701562115334999,0.2701562115118438,0.27015621149018776],\\\"type\\\":\\\"scatter\\\",\\\"name\\\":\\\"u1\\\",\\\"x\\\":[0.2,0.201,0.20201112046106062,0.20303356309367923,0.20406753124583668,0.20511323458110903,0.20617088820538326,0.20724071285247161,0.2083229350780348,0.20941778746044873,0.21052550880905455,0.21164634437961563,0.2127805460969196,0.21392837278438265,0.2150900904001556,0.2162659722790998,0.21745629937994032,0.21866136053610488,0.21988145270875595,0.2211168812394475,0.22236796009940046,0.2236350172710268,0.22491837503489812,0.226218379257912,0.22753538068970114,0.2288697396964319,0.23022182632745897,0.2315920202916915,0.2329807108076679,0.2343882962770961,0.23581518371067503,0.23726178780392065,0.23872852951350598,0.24021583391119547,0.24172412697537599,0.24325383078772436,0.24480535627531033,0.24637909205969627,0.24797538690269713,0.24959452114242012,0.25123665813605495,0.25290175681880434,0.2545894016599265,0.2562984351768873,0.2580260329285433,0.25976473809698164,0.2614872202773408,0.2630896435683609,0.2651143531452347,0.26713906272210847,0.26916377229898225,0.27118848187585604,0.2732131914527298,0.2752379010296036,0.2772626106064774,0.2792873201833512,0.28131202976022496,0.28333673933709874,0.2853614489139725,0.2873861584908463,0.2894108680677201,0.2914355776445939,0.29346028722146766,0.29548499679834145,0.29750970637521523,0.299534415952089,0.3015591255289628]},{\\\"showlegend\\\":true,\\\"mode\\\":\\\"lines\\\",\\\"y\\\":[0.2861488834424689,0.2869094198797062,0.28766449185095194,0.28841352971013245,0.28915592526930034,0.28989102861039495,0.29061814510446493,0.29133653176960983,0.29204539325139606,0.2927438773765224,0.293431070221651,0.29410599062982984,0.2947675840950755,0.29541471592147495,0.29604616354577645,0.2966606078913448,0.2972566235952537,0.29783266791762736,0.2983870681025227,0.2989180069082603,0.29942350596122647,0.2999013968747417,0.3003493362135144,0.3007647248017447,0.30114471224679334,0.30148615168250537,0.30178555597130324,0.3020390448762391,0.3022422807392901,0.3023903893507988,0.3024778614814822,0.30249842878682703,0.30244490518374656,0.30230898084380686,0.3020809497977244,0.30174934230585576,0.30130041687860354,0.3007174388880181,0.2999796225585659,0.2990605182797223,0.2979254361818663,0.29652708133836386,0.29479757870367945,0.29263234347892086,0.28985235702040135,0.2860929554260698,0.2802861881782952,0.2701562118840578,0.2701562118764188,0.2701562118687798,0.2701562118611408,0.2701562118535018,0.2701562118458628,0.2701562118382238,0.2701562118305848,0.2701562118229458,0.2701562118153068,0.2701562118076678,0.2701562118000288,0.2701562117923898,0.2701562117847508,0.2701562117771118,0.2701562117694728,0.2701562117618338,0.2701562117541948,0.2701562117465558,0.2701562117389168],\\\"type\\\":\\\"scatter\\\",\\\"name\\\":\\\"u2\\\",\\\"x\\\":[0.2,0.201,0.20201112046106062,0.20303356309367923,0.20406753124583668,0.20511323458110903,0.20617088820538326,0.20724071285247161,0.2083229350780348,0.20941778746044873,0.21052550880905455,0.21164634437961563,0.2127805460969196,0.21392837278438265,0.2150900904001556,0.2162659722790998,0.21745629937994032,0.21866136053610488,0.21988145270875595,0.2211168812394475,0.22236796009940046,0.2236350172710268,0.22491837503489812,0.226218379257912,0.22753538068970114,0.2288697396964319,0.23022182632745897,0.2315920202916915,0.2329807108076679,0.2343882962770961,0.23581518371067503,0.23726178780392065,0.23872852951350598,0.24021583391119547,0.24172412697537599,0.24325383078772436,0.24480535627531033,0.24637909205969627,0.24797538690269713,0.24959452114242012,0.25123665813605495,0.25290175681880434,0.2545894016599265,0.2562984351768873,0.2580260329285433,0.25976473809698164,0.2614872202773408,0.2630896435683609,0.2651143531452347,0.26713906272210847,0.26916377229898225,0.27118848187585604,0.2732131914527298,0.2752379010296036,0.2772626106064774,0.2792873201833512,0.28131202976022496,0.28333673933709874,0.2853614489139725,0.2873861584908463,0.2894108680677201,0.2914355776445939,0.29346028722146766,0.29548499679834145,0.29750970637521523,0.299534415952089,0.3015591255289628]}],{\\\"xaxis\\\":{\\\"title\\\":{\\\"text\\\":\\\"parameter\\\"}},\\\"template\\\":{\\\"layout\\\":{\\\"coloraxis\\\":{\\\"colorbar\\\":{\\\"ticks\\\":\\\"\\\",\\\"outlinewidth\\\":0}},\\\"xaxis\\\":{\\\"gridcolor\\\":\\\"white\\\",\\\"zerolinewidth\\\":2,\\\"title\\\":{\\\"standoff\\\":15},\\\"ticks\\\":\\\"\\\",\\\"zerolinecolor\\\":\\\"white\\\",\\\"automargin\\\":true,\\\"linecolor\\\":\\\"white\\\"},\\\"hovermode\\\":\\\"closest\\\",\\\"paper_bgcolor\\\":\\\"white\\\",\\\"geo\\\":{\\\"showlakes\\\":true,\\\"showland\\\":true,\\\"landcolor\\\":\\\"#E5ECF6\\\",\\\"bgcolor\\\":\\\"white\\\",\\\"subunitcolor\\\":\\\"white\\\",\\\"lakecolor\\\":\\\"white\\\"},\\\"colorscale\\\":{\\\"sequential\\\":[[0.0,\\\"#0d0887\\\"],[0.1111111111111111,\\\"#46039f\\\"],[0.2222222222222222,\\\"#7201a8\\\"],[0.3333333333333333,\\\"#9c179e\\\"],[0.4444444444444444,\\\"#bd3786\\\"],[0.5555555555555556,\\\"#d8576b\\\"],[0.6666666666666666,\\\"#ed7953\\\"],[0.7777777777777778,\\\"#fb9f3a\\\"],[0.8888888888888888,\\\"#fdca26\\\"],[1.0,\\\"#f0f921\\\"]],\\\"diverging\\\":[[0,\\\"#8e0152\\\"],[0.1,\\\"#c51b7d\\\"],[0.2,\\\"#de77ae\\\"],[0.3,\\\"#f1b6da\\\"],[0.4,\\\"#fde0ef\\\"],[0.5,\\\"#f7f7f7\\\"],[0.6,\\\"#e6f5d0\\\"],[0.7,\\\"#b8e186\\\"],[0.8,\\\"#7fbc41\\\"],[0.9,\\\"#4d9221\\\"],[1,\\\"#276419\\\"]],\\\"sequentialminus\\\":[[0.0,\\\"#0d0887\\\"],[0.1111111111111111,\\\"#46039f\\\"],[0.2222222222222222,\\\"#7201a8\\\"],[0.3333333333333333,\\\"#9c179e\\\"],[0.4444444444444444,\\\"#bd3786\\\"],[0.5555555555555556,\\\"#d8576b\\\"],[0.6666666666666666,\\\"#ed7953\\\"],[0.7777777777777778,\\\"#fb9f3a\\\"],[0.8888888888888888,\\\"#fdca26\\\"],[1.0,\\\"#f0f921\\\"]]},\\\"yaxis\\\":{\\\"gridcolor\\\":\\\"white\\\",\\\"zerolinewidth\\\":2,\\\"title\\\":{\\\"standoff\\\":15},\\\"ticks\\\":\\\"\\\",\\\"zerolinecolor\\\":\\\"white\\\",\\\"automargin\\\":true,\\\"linecolor\\\":\\\"white\\\"},\\\"shapedefaults\\\":{\\\"line\\\":{\\\"color\\\":\\\"#2a3f5f\\\"}},\\\"hoverlabel\\\":{\\\"align\\\":\\\"left\\\"},\\\"mapbox\\\":{\\\"style\\\":\\\"light\\\"},\\\"polar\\\":{\\\"angularaxis\\\":{\\\"gridcolor\\\":\\\"white\\\",\\\"ticks\\\":\\\"\\\",\\\"linecolor\\\":\\\"white\\\"},\\\"bgcolor\\\":\\\"#E5ECF6\\\",\\\"radialaxis\\\":{\\\"gridcolor\\\":\\\"white\\\",\\\"ticks\\\":\\\"\\\",\\\"linecolor\\\":\\\"white\\\"}},\\\"autotypenumbers\\\":\\\"strict\\\",\\\"font\\\":{\\\"color\\\":\\\"#2a3f5f\\\"},\\\"ternary\\\":{\\\"baxis\\\":{\\\"gridcolor\\\":\\\"white\\\",\\\"ticks\\\":\\\"\\\",\\\"linecolor\\\":\\\"white\\\"},\\\"bgcolor\\\":\\\"#E5ECF6\\\",\\\"caxis\\\":{\\\"gridcolor\\\":\\\"white\\\",\\\"ticks\\\":\\\"\\\",\\\"linecolor\\\":\\\"white\\\"},\\\"aaxis\\\":{\\\"gridcolor\\\":\\\"white\\\",\\\"ticks\\\":\\\"\\\",\\\"linecolor\\\":\\\"white\\\"}},\\\"annotationdefaults\\\":{\\\"arrowhead\\\":0,\\\"arrowwidth\\\":1,\\\"arrowcolor\\\":\\\"#2a3f5f\\\"},\\\"plot_bgcolor\\\":\\\"#E5ECF6\\\",\\\"title\\\":{\\\"x\\\":0.05},\\\"scene\\\":{\\\"xaxis\\\":{\\\"gridcolor\\\":\\\"white\\\",\\\"gridwidth\\\":2,\\\"backgroundcolor\\\":\\\"#E5ECF6\\\",\\\"ticks\\\":\\\"\\\",\\\"showbackground\\\":true,\\\"zerolinecolor\\\":\\\"white\\\",\\\"linecolor\\\":\\\"white\\\"},\\\"zaxis\\\":{\\\"gridcolor\\\":\\\"white\\\",\\\"gridwidth\\\":2,\\\"backgroundcolor\\\":\\\"#E5ECF6\\\",\\\"ticks\\\":\\\"\\\",\\\"showbackground\\\":true,\\\"zerolinecolor\\\":\\\"white\\\",\\\"linecolor\\\":\\\"white\\\"},\\\"yaxis\\\":{\\\"gridcolor\\\":\\\"white\\\",\\\"gridwidth\\\":2,\\\"backgroundcolor\\\":\\\"#E5ECF6\\\",\\\"ticks\\\":\\\"\\\",\\\"showbackground\\\":true,\\\"zerolinecolor\\\":\\\"white\\\",\\\"linecolor\\\":\\\"white\\\"}},\\\"colorway\\\":[\\\"#636efa\\\",\\\"#EF553B\\\",\\\"#00cc96\\\",\\\"#ab63fa\\\",\\\"#FFA15A\\\",\\\"#19d3f3\\\",\\\"#FF6692\\\",\\\"#B6E880\\\",\\\"#FF97FF\\\",\\\"#FECB52\\\"]},\\\"data\\\":{\\\"barpolar\\\":[{\\\"type\\\":\\\"barpolar\\\",\\\"marker\\\":{\\\"line\\\":{\\\"color\\\":\\\"#E5ECF6\\\",\\\"width\\\":0.5}}}],\\\"carpet\\\":[{\\\"aaxis\\\":{\\\"gridcolor\\\":\\\"white\\\",\\\"endlinecolor\\\":\\\"#2a3f5f\\\",\\\"minorgridcolor\\\":\\\"white\\\",\\\"startlinecolor\\\":\\\"#2a3f5f\\\",\\\"linecolor\\\":\\\"white\\\"},\\\"type\\\":\\\"carpet\\\",\\\"baxis\\\":{\\\"gridcolor\\\":\\\"white\\\",\\\"endlinecolor\\\":\\\"#2a3f5f\\\",\\\"minorgridcolor\\\":\\\"white\\\",\\\"startlinecolor\\\":\\\"#2a3f5f\\\",\\\"linecolor\\\":\\\"white\\\"}}],\\\"scatterpolar\\\":[{\\\"type\\\":\\\"scatterpolar\\\",\\\"marker\\\":{\\\"colorbar\\\":{\\\"ticks\\\":\\\"\\\",\\\"outlinewidth\\\":0}}}],\\\"parcoords\\\":[{\\\"line\\\":{\\\"colorbar\\\":{\\\"ticks\\\":\\\"\\\",\\\"outlinewidth\\\":0}},\\\"type\\\":\\\"parcoords\\\"}],\\\"scatter\\\":[{\\\"type\\\":\\\"scatter\\\",\\\"marker\\\":{\\\"colorbar\\\":{\\\"ticks\\\":\\\"\\\",\\\"outlinewidth\\\":0}}}],\\\"histogram2dcontour\\\":[{\\\"colorbar\\\":{\\\"ticks\\\":\\\"\\\",\\\"outlinewidth\\\":0},\\\"type\\\":\\\"histogram2dcontour\\\",\\\"colorscale\\\":[[0.0,\\\"#0d0887\\\"],[0.1111111111111111,\\\"#46039f\\\"],[0.2222222222222222,\\\"#7201a8\\\"],[0.3333333333333333,\\\"#9c179e\\\"],[0.4444444444444444,\\\"#bd3786\\\"],[0.5555555555555556,\\\"#d8576b\\\"],[0.6666666666666666,\\\"#ed7953\\\"],[0.7777777777777778,\\\"#fb9f3a\\\"],[0.8888888888888888,\\\"#fdca26\\\"],[1.0,\\\"#f0f921\\\"]]}],\\\"contour\\\":[{\\\"colorbar\\\":{\\\"ticks\\\":\\\"\\\",\\\"outlinewidth\\\":0},\\\"type\\\":\\\"contour\\\",\\\"colorscale\\\":[[0.0,\\\"#0d0887\\\"],[0.1111111111111111,\\\"#46039f\\\"],[0.2222222222222222,\\\"#7201a8\\\"],[0.3333333333333333,\\\"#9c179e\\\"],[0.4444444444444444,\\\"#bd3786\\\"],[0.5555555555555556,\\\"#d8576b\\\"],[0.6666666666666666,\\\"#ed7953\\\"],[0.7777777777777778,\\\"#fb9f3a\\\"],[0.8888888888888888,\\\"#fdca26\\\"],[1.0,\\\"#f0f921\\\"]]}],\\\"scattercarpet\\\":[{\\\"type\\\":\\\"scattercarpet\\\",\\\"marker\\\":{\\\"colorbar\\\":{\\\"ticks\\\":\\\"\\\",\\\"outlinewidth\\\":0}}}],\\\"mesh3d\\\":[{\\\"colorbar\\\":{\\\"ticks\\\":\\\"\\\",\\\"outlinewidth\\\":0},\\\"type\\\":\\\"mesh3d\\\"}],\\\"surface\\\":[{\\\"colorbar\\\":{\\\"ticks\\\":\\\"\\\",\\\"outlinewidth\\\":0},\\\"type\\\":\\\"surface\\\",\\\"colorscale\\\":[[0.0,\\\"#0d0887\\\"],[0.1111111111111111,\\\"#46039f\\\"],[0.2222222222222222,\\\"#7201a8\\\"],[0.3333333333333333,\\\"#9c179e\\\"],[0.4444444444444444,\\\"#bd3786\\\"],[0.5555555555555556,\\\"#d8576b\\\"],[0.6666666666666666,\\\"#ed7953\\\"],[0.7777777777777778,\\\"#fb9f3a\\\"],[0.8888888888888888,\\\"#fdca26\\\"],[1.0,\\\"#f0f921\\\"]]}],\\\"scattermapbox\\\":[{\\\"type\\\":\\\"scattermapbox\\\",\\\"marker\\\":{\\\"colorbar\\\":{\\\"ticks\\\":\\\"\\\",\\\"outlinewidth\\\":0}}}],\\\"scattergeo\\\":[{\\\"type\\\":\\\"scattergeo\\\",\\\"marker\\\":{\\\"colorbar\\\":{\\\"ticks\\\":\\\"\\\",\\\"outlinewidth\\\":0}}}],\\\"histogram\\\":[{\\\"type\\\":\\\"histogram\\\",\\\"marker\\\":{\\\"colorbar\\\":{\\\"ticks\\\":\\\"\\\",\\\"outlinewidth\\\":0}}}],\\\"pie\\\":[{\\\"type\\\":\\\"pie\\\",\\\"automargin\\\":true}],\\\"choropleth\\\":[{\\\"colorbar\\\":{\\\"ticks\\\":\\\"\\\",\\\"outlinewidth\\\":0},\\\"type\\\":\\\"choropleth\\\"}],\\\"heatmapgl\\\":[{\\\"colorbar\\\":{\\\"ticks\\\":\\\"\\\",\\\"outlinewidth\\\":0},\\\"type\\\":\\\"heatmapgl\\\",\\\"colorscale\\\":[[0.0,\\\"#0d0887\\\"],[0.1111111111111111,\\\"#46039f\\\"],[0.2222222222222222,\\\"#7201a8\\\"],[0.3333333333333333,\\\"#9c179e\\\"],[0.4444444444444444,\\\"#bd3786\\\"],[0.5555555555555556,\\\"#d8576b\\\"],[0.6666666666666666,\\\"#ed7953\\\"],[0.7777777777777778,\\\"#fb9f3a\\\"],[0.8888888888888888,\\\"#fdca26\\\"],[1.0,\\\"#f0f921\\\"]]}],\\\"bar\\\":[{\\\"type\\\":\\\"bar\\\",\\\"error_y\\\":{\\\"color\\\":\\\"#2a3f5f\\\"},\\\"error_x\\\":{\\\"color\\\":\\\"#2a3f5f\\\"},\\\"marker\\\":{\\\"line\\\":{\\\"color\\\":\\\"#E5ECF6\\\",\\\"width\\\":0.5}}}],\\\"heatmap\\\":[{\\\"colorbar\\\":{\\\"ticks\\\":\\\"\\\",\\\"outlinewidth\\\":0},\\\"type\\\":\\\"heatmap\\\",\\\"colorscale\\\":[[0.0,\\\"#0d0887\\\"],[0.1111111111111111,\\\"#46039f\\\"],[0.2222222222222222,\\\"#7201a8\\\"],[0.3333333333333333,\\\"#9c179e\\\"],[0.4444444444444444,\\\"#bd3786\\\"],[0.5555555555555556,\\\"#d8576b\\\"],[0.6666666666666666,\\\"#ed7953\\\"],[0.7777777777777778,\\\"#fb9f3a\\\"],[0.8888888888888888,\\\"#fdca26\\\"],[1.0,\\\"#f0f921\\\"]]}],\\\"contourcarpet\\\":[{\\\"colorbar\\\":{\\\"ticks\\\":\\\"\\\",\\\"outlinewidth\\\":0},\\\"type\\\":\\\"contourcarpet\\\"}],\\\"table\\\":[{\\\"type\\\":\\\"table\\\",\\\"header\\\":{\\\"line\\\":{\\\"color\\\":\\\"white\\\"},\\\"fill\\\":{\\\"color\\\":\\\"#C8D4E3\\\"}},\\\"cells\\\":{\\\"line\\\":{\\\"color\\\":\\\"white\\\"},\\\"fill\\\":{\\\"color\\\":\\\"#EBF0F8\\\"}}}],\\\"scatter3d\\\":[{\\\"line\\\":{\\\"colorbar\\\":{\\\"ticks\\\":\\\"\\\",\\\"outlinewidth\\\":0}},\\\"type\\\":\\\"scatter3d\\\",\\\"marker\\\":{\\\"colorbar\\\":{\\\"ticks\\\":\\\"\\\",\\\"outlinewidth\\\":0}}}],\\\"scattergl\\\":[{\\\"type\\\":\\\"scattergl\\\",\\\"marker\\\":{\\\"colorbar\\\":{\\\"ticks\\\":\\\"\\\",\\\"outlinewidth\\\":0}}}],\\\"histogram2d\\\":[{\\\"colorbar\\\":{\\\"ticks\\\":\\\"\\\",\\\"outlinewidth\\\":0},\\\"type\\\":\\\"histogram2d\\\",\\\"colorscale\\\":[[0.0,\\\"#0d0887\\\"],[0.1111111111111111,\\\"#46039f\\\"],[0.2222222222222222,\\\"#7201a8\\\"],[0.3333333333333333,\\\"#9c179e\\\"],[0.4444444444444444,\\\"#bd3786\\\"],[0.5555555555555556,\\\"#d8576b\\\"],[0.6666666666666666,\\\"#ed7953\\\"],[0.7777777777777778,\\\"#fb9f3a\\\"],[0.8888888888888888,\\\"#fdca26\\\"],[1.0,\\\"#f0f921\\\"]]}],\\\"scatterternary\\\":[{\\\"type\\\":\\\"scatterternary\\\",\\\"marker\\\":{\\\"colorbar\\\":{\\\"ticks\\\":\\\"\\\",\\\"outlinewidth\\\":0}}}],\\\"scatterpolargl\\\":[{\\\"type\\\":\\\"scatterpolargl\\\",\\\"marker\\\":{\\\"colorbar\\\":{\\\"ticks\\\":\\\"\\\",\\\"outlinewidth\\\":0}}}]}},\\\"height\\\":350,\\\"margin\\\":{\\\"l\\\":50,\\\"b\\\":50,\\\"r\\\":50,\\\"t\\\":60},\\\"yaxis\\\":{\\\"exponentformat\\\":\\\"power\\\"},\\\"width\\\":700},{\\\"showLink\\\":false,\\\"editable\\\":false,\\\"responsive\\\":true,\\\"staticPlot\\\":false,\\\"scrollZoom\\\":true}); gd.on(\\\"plotly_hover\\\",(function (data){var filtered_data=WebIO.PlotlyCommands.filterEventData(gd,data,\\\"hover\\\"); return !(filtered_data.isnil) ? (WebIO.setval({\\\"name\\\":\\\"hover\\\",\\\"scope\\\":\\\"15369656455917460448\\\",\\\"id\\\":\\\"525290979038108698\\\",\\\"type\\\":\\\"observable\\\"},filtered_data.out)) : undefined})); gd.on(\\\"plotly_unhover\\\",(function (){return WebIO.setval({\\\"name\\\":\\\"hover\\\",\\\"scope\\\":\\\"15369656455917460448\\\",\\\"id\\\":\\\"525290979038108698\\\",\\\"type\\\":\\\"observable\\\"},{})})); gd.on(\\\"plotly_selected\\\",(function (data){var filtered_data=WebIO.PlotlyCommands.filterEventData(gd,data,\\\"selected\\\"); return !(filtered_data.isnil) ? (WebIO.setval({\\\"name\\\":\\\"selected\\\",\\\"scope\\\":\\\"15369656455917460448\\\",\\\"id\\\":\\\"2419642110331113196\\\",\\\"type\\\":\\\"observable\\\"},filtered_data.out)) : undefined})); gd.on(\\\"plotly_deselect\\\",(function (){return WebIO.setval({\\\"name\\\":\\\"selected\\\",\\\"scope\\\":\\\"15369656455917460448\\\",\\\"id\\\":\\\"2419642110331113196\\\",\\\"type\\\":\\\"observable\\\"},{})})); gd.on(\\\"plotly_relayout\\\",(function (data){var filtered_data=WebIO.PlotlyCommands.filterEventData(gd,data,\\\"relayout\\\"); return !(filtered_data.isnil) ? (WebIO.setval({\\\"name\\\":\\\"relayout\\\",\\\"scope\\\":\\\"15369656455917460448\\\",\\\"id\\\":\\\"8430250162989868418\\\",\\\"type\\\":\\\"observable\\\"},filtered_data.out)) : undefined})); return gd.on(\\\"plotly_click\\\",(function (data){var filtered_data=WebIO.PlotlyCommands.filterEventData(gd,data,\\\"click\\\"); return !(filtered_data.isnil) ? (WebIO.setval({\\\"name\\\":\\\"click\\\",\\\"scope\\\":\\\"15369656455917460448\\\",\\\"id\\\":\\\"3565853235877847744\\\",\\\"type\\\":\\\"observable\\\"},filtered_data.out)) : undefined}))}));\\n    (WebIO.importBlock({\\\"data\\\":[{\\\"name\\\":\\\"Plotly\\\",\\\"type\\\":\\\"js\\\",\\\"url\\\":\\\"\\/assetserver\\/5b0bcbbb362c204ec77e728ffa8c7da4be28ce8a-plotly.min.js\\\"},{\\\"name\\\":null,\\\"type\\\":\\\"js\\\",\\\"url\\\":\\\"\\/assetserver\\/6303ac4e25f5217851dbb12ecf3059151c237374-plotly_webio.bundle.js\\\"}],\\\"type\\\":\\\"async_block\\\"})).then((imports) => handler.apply(this, imports));\\n}\\n\"],\"observables\":{\"_toImage\":{\"sync\":false,\"id\":\"16845502707346348185\",\"value\":{}},\"hover\":{\"sync\":false,\"id\":\"525290979038108698\",\"value\":{}},\"selected\":{\"sync\":false,\"id\":\"2419642110331113196\",\"value\":{}},\"__gd_contents\":{\"sync\":false,\"id\":\"1521451005348065538\",\"value\":{}},\"click\":{\"sync\":false,\"id\":\"3565853235877847744\",\"value\":{}},\"image\":{\"sync\":true,\"id\":\"4362513532286772471\",\"value\":\"\"},\"__get_gd_contents\":{\"sync\":false,\"id\":\"3078644764206641764\",\"value\":\"\"},\"_downloadImage\":{\"sync\":false,\"id\":\"9581259290994478130\",\"value\":{}},\"relayout\":{\"sync\":false,\"id\":\"8430250162989868418\",\"value\":{}},\"_commands\":{\"sync\":false,\"id\":\"10133841472793435804\",\"value\":[]}}},\"children\":[{\"props\":{\"id\":\"plot-8f1d1272-23ca-4aaf-b1b6-f9413f0850bb\"},\"nodeType\":\"DOM\",\"type\":\"node\",\"instanceArgs\":{\"namespace\":\"html\",\"tag\":\"div\"},\"children\":[]}]},\n",
       "        window,\n",
       "    );\n",
       "    })()\n",
       "    </script>\n",
       "</div>\n"
      ],
      "text/plain": [
       "data: [\n",
       "  \"scatter with fields mode, name, showlegend, type, x, and y\",\n",
       "  \"scatter with fields mode, name, showlegend, type, x, and y\"\n",
       "]\n",
       "\n",
       "layout: \"layout with fields height, margin, template, width, xaxis, and yaxis\"\n",
       "\n"
      ]
     },
     "execution_count": 153,
     "metadata": {},
     "output_type": "execute_result"
    }
   ],
   "source": [
    "# Create trace\n",
    "u1 = scatter(\n",
    "    x = par_values,\n",
    "    y = conditions[:,1],\n",
    "    mode=\"lines\",\n",
    "    name=\"u1\",\n",
    "    showlegend=true\n",
    "    )\n",
    "u2 = scatter(\n",
    "    x = par_values,\n",
    "    y = conditions[:,2],\n",
    "    mode=\"lines\",\n",
    "    name=\"u2\",\n",
    "    showlegend=true\n",
    "    )\n",
    "\n",
    "layout = Layout(\n",
    "    xaxis_title = \"parameter\",\n",
    "    # yaxis_type=\"log\",\n",
    "    yaxis_exponentformat=\"power\",\n",
    "    # yaxis_title = \"\",\n",
    "    width=700, height=350,\n",
    "    )\n",
    "\n",
    "plot([u1, u2], layout)"
   ]
  },
  {
   "cell_type": "code",
   "execution_count": null,
   "metadata": {},
   "outputs": [],
   "source": []
  }
 ],
 "metadata": {
  "kernelspec": {
   "display_name": "Julia 1.7.2",
   "language": "julia",
   "name": "julia-1.7"
  },
  "language_info": {
   "file_extension": ".jl",
   "mimetype": "application/julia",
   "name": "julia",
   "version": "1.7.2"
  },
  "orig_nbformat": 4
 },
 "nbformat": 4,
 "nbformat_minor": 2
}
