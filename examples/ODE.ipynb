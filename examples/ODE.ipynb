{
 "cells": [
  {
   "cell_type": "code",
   "execution_count": 1,
   "metadata": {},
   "outputs": [
    {
     "data": {
      "application/vnd.webio.node+json": {
       "children": [],
       "instanceArgs": {
        "namespace": "html",
        "tag": "div"
       },
       "nodeType": "DOM",
       "props": {},
       "type": "node"
      },
      "text/html": [
       "<div style=\"padding: 1em; background-color: #f8d6da; border: 1px solid #f5c6cb; font-weight: bold;\">\n",
       "<p>The WebIO Jupyter extension was not detected. See the\n",
       "<a href=\"https://juliagizmos.github.io/WebIO.jl/latest/providers/ijulia/\" target=\"_blank\">\n",
       "    WebIO Jupyter integration documentation\n",
       "</a>\n",
       "for more information.\n",
       "</div>\n"
      ],
      "text/plain": [
       "WebIO._IJuliaInit()"
      ]
     },
     "metadata": {},
     "output_type": "display_data"
    }
   ],
   "source": [
    "# Import ODE Solver\n",
    "include(\"../ode_solver.jl\")\n",
    "using PlotlyJS"
   ]
  },
  {
   "cell_type": "markdown",
   "metadata": {},
   "source": [
    "Function Definition"
   ]
  },
  {
   "cell_type": "code",
   "execution_count": 2,
   "metadata": {},
   "outputs": [
    {
     "data": {
      "text/plain": [
       "f (generic function with 1 method)"
      ]
     },
     "execution_count": 2,
     "metadata": {},
     "output_type": "execute_result"
    }
   ],
   "source": [
    "\"\"\"\n",
    "dx/dt = x\n",
    "\"\"\"\n",
    "\n",
    "function f(x, t)\n",
    "    return x\n",
    "end"
   ]
  },
  {
   "cell_type": "markdown",
   "metadata": {},
   "source": [
    "Plot of approximation methods compared to solution"
   ]
  },
  {
   "cell_type": "code",
   "execution_count": 5,
   "metadata": {},
   "outputs": [
    {
     "name": "stdout",
     "output_type": "stream",
     "text": [
      "  0.045568 seconds (108.17 k allocations: 6.283 MiB, 23.66% gc time, 99.04% compilation time)\n",
      "  0.000674 seconds (8.13 k allocations: 315.531 KiB)\n",
      "  0.000743 seconds (12.35 k allocations: 550.688 KiB)\n",
      "  0.000869 seconds (9.64 k allocations: 381.375 KiB)\n",
      "  0.000598 seconds (10.84 k allocations: 456.641 KiB)\n"
     ]
    },
    {
     "data": {
      "application/vnd.plotly.v1+json": {
       "config": {
        "editable": false,
        "responsive": true,
        "scrollZoom": true,
        "showLink": false,
        "staticPlot": false
       },
       "data": [
        {
         "mode": "lines",
         "name": "euler",
         "type": "scatter",
         "x": [
          0,
          3
         ],
         "y": [
          1,
          19.788466261924775
         ]
        },
        {
         "mode": "lines",
         "name": "heun3",
         "type": "scatter",
         "x": [
          0,
          3
         ],
         "y": [
          1,
          20.085534432498186
         ]
        },
        {
         "mode": "lines",
         "name": "ralston4",
         "type": "scatter",
         "x": [
          0,
          3
         ],
         "y": [
          1,
          20.08553088958199
         ]
        },
        {
         "mode": "lines",
         "name": "rk4",
         "type": "scatter",
         "x": [
          0,
          3
         ],
         "y": [
          1,
          20.085534432498186
         ]
        },
        {
         "mode": "lines",
         "name": "three_eighths_rule",
         "type": "scatter",
         "x": [
          0,
          3
         ],
         "y": [
          1,
          20.08553691820839
         ]
        },
        {
         "mode": "lines",
         "name": "solution (e^(x))",
         "type": "scatter",
         "x": [
          0,
          0.01,
          0.02,
          0.03,
          0.04,
          0.05,
          0.06,
          0.07,
          0.08,
          0.09,
          0.1,
          0.11,
          0.12,
          0.13,
          0.14,
          0.15,
          0.16,
          0.17,
          0.18,
          0.19,
          0.2,
          0.21,
          0.22,
          0.23,
          0.24,
          0.25,
          0.26,
          0.27,
          0.28,
          0.29,
          0.3,
          0.31,
          0.32,
          0.33,
          0.34,
          0.35,
          0.36,
          0.37,
          0.38,
          0.39,
          0.4,
          0.41,
          0.42,
          0.43,
          0.44,
          0.45,
          0.46,
          0.47,
          0.48,
          0.49,
          0.5,
          0.51,
          0.52,
          0.53,
          0.54,
          0.55,
          0.56,
          0.57,
          0.58,
          0.59,
          0.6,
          0.61,
          0.62,
          0.63,
          0.64,
          0.65,
          0.66,
          0.67,
          0.68,
          0.69,
          0.7,
          0.71,
          0.72,
          0.73,
          0.74,
          0.75,
          0.76,
          0.77,
          0.78,
          0.79,
          0.8,
          0.81,
          0.82,
          0.83,
          0.84,
          0.85,
          0.86,
          0.87,
          0.88,
          0.89,
          0.9,
          0.91,
          0.92,
          0.93,
          0.94,
          0.95,
          0.96,
          0.97,
          0.98,
          0.99,
          1,
          1.01,
          1.02,
          1.03,
          1.04,
          1.05,
          1.06,
          1.07,
          1.08,
          1.09,
          1.1,
          1.11,
          1.12,
          1.13,
          1.14,
          1.15,
          1.16,
          1.17,
          1.18,
          1.19,
          1.2,
          1.21,
          1.22,
          1.23,
          1.24,
          1.25,
          1.26,
          1.27,
          1.28,
          1.29,
          1.3,
          1.31,
          1.32,
          1.33,
          1.34,
          1.35,
          1.36,
          1.37,
          1.38,
          1.39,
          1.4,
          1.41,
          1.42,
          1.43,
          1.44,
          1.45,
          1.46,
          1.47,
          1.48,
          1.49,
          1.5,
          1.51,
          1.52,
          1.53,
          1.54,
          1.55,
          1.56,
          1.57,
          1.58,
          1.59,
          1.6,
          1.61,
          1.62,
          1.63,
          1.64,
          1.65,
          1.66,
          1.67,
          1.68,
          1.69,
          1.7,
          1.71,
          1.72,
          1.73,
          1.74,
          1.75,
          1.76,
          1.77,
          1.78,
          1.79,
          1.8,
          1.81,
          1.82,
          1.83,
          1.84,
          1.85,
          1.86,
          1.87,
          1.88,
          1.89,
          1.9,
          1.91,
          1.92,
          1.93,
          1.94,
          1.95,
          1.96,
          1.97,
          1.98,
          1.99,
          2,
          2.01,
          2.02,
          2.03,
          2.04,
          2.05,
          2.06,
          2.07,
          2.08,
          2.09,
          2.1,
          2.11,
          2.12,
          2.13,
          2.14,
          2.15,
          2.16,
          2.17,
          2.18,
          2.19,
          2.2,
          2.21,
          2.22,
          2.23,
          2.24,
          2.25,
          2.26,
          2.27,
          2.28,
          2.29,
          2.3,
          2.31,
          2.32,
          2.33,
          2.34,
          2.35,
          2.36,
          2.37,
          2.38,
          2.39,
          2.4,
          2.41,
          2.42,
          2.43,
          2.44,
          2.45,
          2.46,
          2.47,
          2.48,
          2.49,
          2.5,
          2.51,
          2.52,
          2.53,
          2.54,
          2.55,
          2.56,
          2.57,
          2.58,
          2.59,
          2.6,
          2.61,
          2.62,
          2.63,
          2.64,
          2.65,
          2.66,
          2.67,
          2.68,
          2.69,
          2.7,
          2.71,
          2.72,
          2.73,
          2.74,
          2.75,
          2.76,
          2.77,
          2.78,
          2.79,
          2.8,
          2.81,
          2.82,
          2.83,
          2.84,
          2.85,
          2.86,
          2.87,
          2.88,
          2.89,
          2.9,
          2.91,
          2.92,
          2.93,
          2.94,
          2.95,
          2.96,
          2.97,
          2.98,
          2.99,
          3
         ],
         "y": [
          1,
          1.010050167084168,
          1.0202013400267558,
          1.030454533953517,
          1.0408107741923882,
          1.0512710963760241,
          1.0618365465453596,
          1.0725081812542165,
          1.0832870676749586,
          1.0941742837052104,
          1.1051709180756477,
          1.1162780704588713,
          1.1274968515793757,
          1.1388283833246218,
          1.1502737988572274,
          1.161834242728283,
          1.1735108709918103,
          1.1853048513203654,
          1.1972173631218102,
          1.2092495976572515,
          1.2214027581601699,
          1.2336780599567432,
          1.2460767305873808,
          1.2586000099294778,
          1.2712491503214047,
          1.2840254166877414,
          1.2969300866657718,
          1.3099644507332473,
          1.3231298123374369,
          1.336427488025472,
          1.3498588075760032,
          1.3634251141321778,
          1.3771277643359572,
          1.3909681284637803,
          1.4049475905635938,
          1.4190675485932571,
          1.4333294145603401,
          1.4477346146633245,
          1.4622845894342245,
          1.4769807938826427,
          1.4918246976412703,
          1.5068177851128535,
          1.5219615556186337,
          1.5372575235482815,
          1.552707218511336,
          1.568312185490169,
          1.5840739849944818,
          1.5999941932173602,
          1.6160744021928934,
          1.632316219955379,
          1.6487212707001282,
          1.6652911949458864,
          1.6820276496988864,
          1.6989323086185506,
          1.7160068621848585,
          1.7332530178673953,
          1.7506725002961012,
          1.768267051433735,
          1.7860384307500734,
          1.803988415397857,
          1.8221188003905089,
          1.8404313987816374,
          1.858928041846342,
          1.8776105792643432,
          1.8964808793049515,
          1.9155408290138962,
          1.9347923344020317,
          1.9542373206359396,
          1.9738777322304477,
          1.9937155332430823,
          2.0137527074704766,
          2.0339912586467506,
          2.0544332106438876,
          2.0750806076741224,
          2.0959355144943643,
          2.117000016612675,
          2.1382762204968184,
          2.159766253784915,
          2.181472265498201,
          2.203396426255937,
          2.225540928492468,
          2.2479079866764717,
          2.2704998375324057,
          2.2933187402641826,
          2.3163669767810915,
          2.3396468519259908,
          2.3631606937057947,
          2.3869108535242765,
          2.4108997064172097,
          2.4351296512898744,
          2.45960311115695,
          2.4843225333848165,
          2.509290389936298,
          2.534509177617855,
          2.5599814183292713,
          2.585709659315846,
          2.611696473423118,
          2.6379444593541526,
          2.664456241929417,
          2.691234472349262,
          2.718281828459045,
          2.7456010150169163,
          2.7731947639642978,
          2.801065834699079,
          2.82921701435156,
          2.857651118063164,
          2.8863709892679585,
          2.915379499976997,
          2.944679551065524,
          2.9742740725630656,
          3.0041660239464334,
          3.034358394435676,
          3.0648542032930024,
          3.0956565001247114,
          3.1267683651861553,
          3.158192909689767,
          3.1899332761161845,
          3.2219926385284996,
          3.2543742028896707,
          3.287081207383118,
          3.3201169227365472,
          3.3534846525490236,
          3.3871877336213347,
          3.4212295362896734,
          3.4556134647626755,
          3.4903429574618414,
          3.5254214873653824,
          3.5608525623555205,
          3.5966397255692817,
          3.6327865557528094,
          3.6692966676192444,
          3.706173712210199,
          3.7434213772608627,
          3.781043387568781,
          3.819043505366336,
          3.8574255306969745,
          3.896193301795215,
          3.9353506954704733,
          3.9749016274947477,
          4.014850052994201,
          4.0551999668446745,
          4.095955404071176,
          4.137120440251392,
          4.178699191923246,
          4.220695816996552,
          4.263114515168817,
          4.305959528345206,
          4.349235141062741,
          4.392945680918757,
          4.437095519003664,
          4.4816890703380645,
          4.526730794314252,
          4.572225195142159,
          4.618176822299781,
          4.664590270988126,
          4.711470182590742,
          4.758821245137854,
          4.806648193775178,
          4.854955811237434,
          4.903748928326623,
          4.953032424395115,
          5.002811227833588,
          5.053090316563868,
          5.1038747185367255,
          5.15516951223468,
          5.206979827179849,
          5.259310844446898,
          5.312167797181167,
          5.3655559711219745,
          5.419480705131206,
          5.4739473917272,
          5.528961477624004,
          5.584528464276054,
          5.6406539084283205,
          5.697343422671991,
          5.754602676005731,
          5.812437394402589,
          5.8708533613826015,
          5.929856418591146,
          5.9894524663831135,
          6.0496474644129465,
          6.11044743223061,
          6.171858449883554,
          6.2338866585247175,
          6.296538261026657,
          6.359819522601832,
          6.423736771429135,
          6.488296399286712,
          6.553504862191148,
          6.619368681043077,
          6.6858944422792685,
          6.753088798531286,
          6.8209584692907494,
          6.889510241581292,
          6.958750970637272,
          7.028687580589293,
          7.099327065156633,
          7.170676488346613,
          7.242742985161012,
          7.315533762309567,
          7.38905609893065,
          7.463317347319193,
          7.538324933661922,
          7.614086358779973,
          7.690609198878998,
          7.767901106306771,
          7.845969810318449,
          7.924823117849487,
          8.004468914296353,
          8.084915164305059,
          8.16616991256765,
          8.24824128462666,
          8.331137487687693,
          8.41486681144013,
          8.499437628886124,
          8.584858397177893,
          8.671137658463456,
          8.758284040740834,
          8.846306258720883,
          8.93521311469875,
          9.025013499434122,
          9.115716393040305,
          9.207330865882252,
          9.299866079483586,
          9.393331287442784,
          9.487735836358526,
          9.583089166764376,
          9.67940081407284,
          9.776680409528904,
          9.874937681173183,
          9.974182454814718,
          10.074424655013587,
          10.175674306073333,
          10.277941533043448,
          10.381236562731843,
          10.485569724727576,
          10.59095145243378,
          10.697392284111054,
          10.804902863931257,
          10.913493943041976,
          11.023176380641601,
          11.133961145065307,
          11.245859314881844,
          11.358882080001457,
          11.473040742794833,
          11.588346719223392,
          11.704811539980854,
          11.822446851646363,
          11.941264417849103,
          12.06127612044472,
          12.182493960703473,
          12.30493006051041,
          12.428596663577544,
          12.55350613666823,
          12.679670970833877,
          12.80710378266303,
          12.935817315543076,
          13.065824440934556,
          13.197138159658358,
          13.329771603195772,
          13.463738035001692,
          13.599050851830924,
          13.735723585077926,
          13.873769902129904,
          14.013203607733615,
          14.1540386453758,
          14.296289098677603,
          14.43996919280288,
          14.585093295880792,
          14.73167592044257,
          14.879731724872837,
          15.029275514875401,
          15.1803222449539,
          15.332887019907195,
          15.486985096339938,
          15.642631884188171,
          15.799842948260395,
          15.958634009794029,
          16.119020948027543,
          16.28101980178843,
          16.444646771097048,
          16.6099182187867,
          16.776850672139872,
          16.94546082454102,
          17.115765537145876,
          17.28778184056764,
          17.46152693657999,
          17.63701819983732,
          17.814273179612197,
          17.99330960155032,
          18.17414536944306,
          18.356798567017925,
          18.54128745974687,
          18.72763049667292,
          18.915846312255038,
          19.10595372823165,
          19.297971755502758,
          19.49191959603112,
          19.6878166447624,
          19.88568249156473,
          20.085536923187668
         ]
        }
       ],
       "frames": [],
       "layout": {
        "margin": {
         "b": 50,
         "l": 50,
         "r": 50,
         "t": 60
        },
        "template": {
         "data": {
          "bar": [
           {
            "error_x": {
             "color": "#2a3f5f"
            },
            "error_y": {
             "color": "#2a3f5f"
            },
            "marker": {
             "line": {
              "color": "#E5ECF6",
              "width": 0.5
             }
            },
            "type": "bar"
           }
          ],
          "barpolar": [
           {
            "marker": {
             "line": {
              "color": "#E5ECF6",
              "width": 0.5
             }
            },
            "type": "barpolar"
           }
          ],
          "carpet": [
           {
            "aaxis": {
             "endlinecolor": "#2a3f5f",
             "gridcolor": "white",
             "linecolor": "white",
             "minorgridcolor": "white",
             "startlinecolor": "#2a3f5f"
            },
            "baxis": {
             "endlinecolor": "#2a3f5f",
             "gridcolor": "white",
             "linecolor": "white",
             "minorgridcolor": "white",
             "startlinecolor": "#2a3f5f"
            },
            "type": "carpet"
           }
          ],
          "choropleth": [
           {
            "colorbar": {
             "outlinewidth": 0,
             "ticks": ""
            },
            "type": "choropleth"
           }
          ],
          "contour": [
           {
            "colorbar": {
             "outlinewidth": 0,
             "ticks": ""
            },
            "colorscale": [
             [
              0,
              "#0d0887"
             ],
             [
              0.1111111111111111,
              "#46039f"
             ],
             [
              0.2222222222222222,
              "#7201a8"
             ],
             [
              0.3333333333333333,
              "#9c179e"
             ],
             [
              0.4444444444444444,
              "#bd3786"
             ],
             [
              0.5555555555555556,
              "#d8576b"
             ],
             [
              0.6666666666666666,
              "#ed7953"
             ],
             [
              0.7777777777777778,
              "#fb9f3a"
             ],
             [
              0.8888888888888888,
              "#fdca26"
             ],
             [
              1,
              "#f0f921"
             ]
            ],
            "type": "contour"
           }
          ],
          "contourcarpet": [
           {
            "colorbar": {
             "outlinewidth": 0,
             "ticks": ""
            },
            "type": "contourcarpet"
           }
          ],
          "heatmap": [
           {
            "colorbar": {
             "outlinewidth": 0,
             "ticks": ""
            },
            "colorscale": [
             [
              0,
              "#0d0887"
             ],
             [
              0.1111111111111111,
              "#46039f"
             ],
             [
              0.2222222222222222,
              "#7201a8"
             ],
             [
              0.3333333333333333,
              "#9c179e"
             ],
             [
              0.4444444444444444,
              "#bd3786"
             ],
             [
              0.5555555555555556,
              "#d8576b"
             ],
             [
              0.6666666666666666,
              "#ed7953"
             ],
             [
              0.7777777777777778,
              "#fb9f3a"
             ],
             [
              0.8888888888888888,
              "#fdca26"
             ],
             [
              1,
              "#f0f921"
             ]
            ],
            "type": "heatmap"
           }
          ],
          "heatmapgl": [
           {
            "colorbar": {
             "outlinewidth": 0,
             "ticks": ""
            },
            "colorscale": [
             [
              0,
              "#0d0887"
             ],
             [
              0.1111111111111111,
              "#46039f"
             ],
             [
              0.2222222222222222,
              "#7201a8"
             ],
             [
              0.3333333333333333,
              "#9c179e"
             ],
             [
              0.4444444444444444,
              "#bd3786"
             ],
             [
              0.5555555555555556,
              "#d8576b"
             ],
             [
              0.6666666666666666,
              "#ed7953"
             ],
             [
              0.7777777777777778,
              "#fb9f3a"
             ],
             [
              0.8888888888888888,
              "#fdca26"
             ],
             [
              1,
              "#f0f921"
             ]
            ],
            "type": "heatmapgl"
           }
          ],
          "histogram": [
           {
            "marker": {
             "colorbar": {
              "outlinewidth": 0,
              "ticks": ""
             }
            },
            "type": "histogram"
           }
          ],
          "histogram2d": [
           {
            "colorbar": {
             "outlinewidth": 0,
             "ticks": ""
            },
            "colorscale": [
             [
              0,
              "#0d0887"
             ],
             [
              0.1111111111111111,
              "#46039f"
             ],
             [
              0.2222222222222222,
              "#7201a8"
             ],
             [
              0.3333333333333333,
              "#9c179e"
             ],
             [
              0.4444444444444444,
              "#bd3786"
             ],
             [
              0.5555555555555556,
              "#d8576b"
             ],
             [
              0.6666666666666666,
              "#ed7953"
             ],
             [
              0.7777777777777778,
              "#fb9f3a"
             ],
             [
              0.8888888888888888,
              "#fdca26"
             ],
             [
              1,
              "#f0f921"
             ]
            ],
            "type": "histogram2d"
           }
          ],
          "histogram2dcontour": [
           {
            "colorbar": {
             "outlinewidth": 0,
             "ticks": ""
            },
            "colorscale": [
             [
              0,
              "#0d0887"
             ],
             [
              0.1111111111111111,
              "#46039f"
             ],
             [
              0.2222222222222222,
              "#7201a8"
             ],
             [
              0.3333333333333333,
              "#9c179e"
             ],
             [
              0.4444444444444444,
              "#bd3786"
             ],
             [
              0.5555555555555556,
              "#d8576b"
             ],
             [
              0.6666666666666666,
              "#ed7953"
             ],
             [
              0.7777777777777778,
              "#fb9f3a"
             ],
             [
              0.8888888888888888,
              "#fdca26"
             ],
             [
              1,
              "#f0f921"
             ]
            ],
            "type": "histogram2dcontour"
           }
          ],
          "mesh3d": [
           {
            "colorbar": {
             "outlinewidth": 0,
             "ticks": ""
            },
            "type": "mesh3d"
           }
          ],
          "parcoords": [
           {
            "line": {
             "colorbar": {
              "outlinewidth": 0,
              "ticks": ""
             }
            },
            "type": "parcoords"
           }
          ],
          "pie": [
           {
            "automargin": true,
            "type": "pie"
           }
          ],
          "scatter": [
           {
            "marker": {
             "colorbar": {
              "outlinewidth": 0,
              "ticks": ""
             }
            },
            "type": "scatter"
           }
          ],
          "scatter3d": [
           {
            "line": {
             "colorbar": {
              "outlinewidth": 0,
              "ticks": ""
             }
            },
            "marker": {
             "colorbar": {
              "outlinewidth": 0,
              "ticks": ""
             }
            },
            "type": "scatter3d"
           }
          ],
          "scattercarpet": [
           {
            "marker": {
             "colorbar": {
              "outlinewidth": 0,
              "ticks": ""
             }
            },
            "type": "scattercarpet"
           }
          ],
          "scattergeo": [
           {
            "marker": {
             "colorbar": {
              "outlinewidth": 0,
              "ticks": ""
             }
            },
            "type": "scattergeo"
           }
          ],
          "scattergl": [
           {
            "marker": {
             "colorbar": {
              "outlinewidth": 0,
              "ticks": ""
             }
            },
            "type": "scattergl"
           }
          ],
          "scattermapbox": [
           {
            "marker": {
             "colorbar": {
              "outlinewidth": 0,
              "ticks": ""
             }
            },
            "type": "scattermapbox"
           }
          ],
          "scatterpolar": [
           {
            "marker": {
             "colorbar": {
              "outlinewidth": 0,
              "ticks": ""
             }
            },
            "type": "scatterpolar"
           }
          ],
          "scatterpolargl": [
           {
            "marker": {
             "colorbar": {
              "outlinewidth": 0,
              "ticks": ""
             }
            },
            "type": "scatterpolargl"
           }
          ],
          "scatterternary": [
           {
            "marker": {
             "colorbar": {
              "outlinewidth": 0,
              "ticks": ""
             }
            },
            "type": "scatterternary"
           }
          ],
          "surface": [
           {
            "colorbar": {
             "outlinewidth": 0,
             "ticks": ""
            },
            "colorscale": [
             [
              0,
              "#0d0887"
             ],
             [
              0.1111111111111111,
              "#46039f"
             ],
             [
              0.2222222222222222,
              "#7201a8"
             ],
             [
              0.3333333333333333,
              "#9c179e"
             ],
             [
              0.4444444444444444,
              "#bd3786"
             ],
             [
              0.5555555555555556,
              "#d8576b"
             ],
             [
              0.6666666666666666,
              "#ed7953"
             ],
             [
              0.7777777777777778,
              "#fb9f3a"
             ],
             [
              0.8888888888888888,
              "#fdca26"
             ],
             [
              1,
              "#f0f921"
             ]
            ],
            "type": "surface"
           }
          ],
          "table": [
           {
            "cells": {
             "fill": {
              "color": "#EBF0F8"
             },
             "line": {
              "color": "white"
             }
            },
            "header": {
             "fill": {
              "color": "#C8D4E3"
             },
             "line": {
              "color": "white"
             }
            },
            "type": "table"
           }
          ]
         },
         "layout": {
          "annotationdefaults": {
           "arrowcolor": "#2a3f5f",
           "arrowhead": 0,
           "arrowwidth": 1
          },
          "autotypenumbers": "strict",
          "coloraxis": {
           "colorbar": {
            "outlinewidth": 0,
            "ticks": ""
           }
          },
          "colorscale": {
           "diverging": [
            [
             0,
             "#8e0152"
            ],
            [
             0.1,
             "#c51b7d"
            ],
            [
             0.2,
             "#de77ae"
            ],
            [
             0.3,
             "#f1b6da"
            ],
            [
             0.4,
             "#fde0ef"
            ],
            [
             0.5,
             "#f7f7f7"
            ],
            [
             0.6,
             "#e6f5d0"
            ],
            [
             0.7,
             "#b8e186"
            ],
            [
             0.8,
             "#7fbc41"
            ],
            [
             0.9,
             "#4d9221"
            ],
            [
             1,
             "#276419"
            ]
           ],
           "sequential": [
            [
             0,
             "#0d0887"
            ],
            [
             0.1111111111111111,
             "#46039f"
            ],
            [
             0.2222222222222222,
             "#7201a8"
            ],
            [
             0.3333333333333333,
             "#9c179e"
            ],
            [
             0.4444444444444444,
             "#bd3786"
            ],
            [
             0.5555555555555556,
             "#d8576b"
            ],
            [
             0.6666666666666666,
             "#ed7953"
            ],
            [
             0.7777777777777778,
             "#fb9f3a"
            ],
            [
             0.8888888888888888,
             "#fdca26"
            ],
            [
             1,
             "#f0f921"
            ]
           ],
           "sequentialminus": [
            [
             0,
             "#0d0887"
            ],
            [
             0.1111111111111111,
             "#46039f"
            ],
            [
             0.2222222222222222,
             "#7201a8"
            ],
            [
             0.3333333333333333,
             "#9c179e"
            ],
            [
             0.4444444444444444,
             "#bd3786"
            ],
            [
             0.5555555555555556,
             "#d8576b"
            ],
            [
             0.6666666666666666,
             "#ed7953"
            ],
            [
             0.7777777777777778,
             "#fb9f3a"
            ],
            [
             0.8888888888888888,
             "#fdca26"
            ],
            [
             1,
             "#f0f921"
            ]
           ]
          },
          "colorway": [
           "#636efa",
           "#EF553B",
           "#00cc96",
           "#ab63fa",
           "#FFA15A",
           "#19d3f3",
           "#FF6692",
           "#B6E880",
           "#FF97FF",
           "#FECB52"
          ],
          "font": {
           "color": "#2a3f5f"
          },
          "geo": {
           "bgcolor": "white",
           "lakecolor": "white",
           "landcolor": "#E5ECF6",
           "showlakes": true,
           "showland": true,
           "subunitcolor": "white"
          },
          "hoverlabel": {
           "align": "left"
          },
          "hovermode": "closest",
          "mapbox": {
           "style": "light"
          },
          "paper_bgcolor": "white",
          "plot_bgcolor": "#E5ECF6",
          "polar": {
           "angularaxis": {
            "gridcolor": "white",
            "linecolor": "white",
            "ticks": ""
           },
           "bgcolor": "#E5ECF6",
           "radialaxis": {
            "gridcolor": "white",
            "linecolor": "white",
            "ticks": ""
           }
          },
          "scene": {
           "xaxis": {
            "backgroundcolor": "#E5ECF6",
            "gridcolor": "white",
            "gridwidth": 2,
            "linecolor": "white",
            "showbackground": true,
            "ticks": "",
            "zerolinecolor": "white"
           },
           "yaxis": {
            "backgroundcolor": "#E5ECF6",
            "gridcolor": "white",
            "gridwidth": 2,
            "linecolor": "white",
            "showbackground": true,
            "ticks": "",
            "zerolinecolor": "white"
           },
           "zaxis": {
            "backgroundcolor": "#E5ECF6",
            "gridcolor": "white",
            "gridwidth": 2,
            "linecolor": "white",
            "showbackground": true,
            "ticks": "",
            "zerolinecolor": "white"
           }
          },
          "shapedefaults": {
           "line": {
            "color": "#2a3f5f"
           }
          },
          "ternary": {
           "aaxis": {
            "gridcolor": "white",
            "linecolor": "white",
            "ticks": ""
           },
           "baxis": {
            "gridcolor": "white",
            "linecolor": "white",
            "ticks": ""
           },
           "bgcolor": "#E5ECF6",
           "caxis": {
            "gridcolor": "white",
            "linecolor": "white",
            "ticks": ""
           }
          },
          "title": {
           "x": 0.05
          },
          "xaxis": {
           "automargin": true,
           "gridcolor": "white",
           "linecolor": "white",
           "ticks": "",
           "title": {
            "standoff": 15
           },
           "zerolinecolor": "white",
           "zerolinewidth": 2
          },
          "yaxis": {
           "automargin": true,
           "gridcolor": "white",
           "linecolor": "white",
           "ticks": "",
           "title": {
            "standoff": 15
           },
           "zerolinecolor": "white",
           "zerolinewidth": 2
          }
         }
        }
       }
      },
      "text/html": [
       "<div\n",
       "    class=\"webio-mountpoint\"\n",
       "    data-webio-mountpoint=\"3984133741311821451\"\n",
       ">\n",
       "    <script>\n",
       "    (function(){\n",
       "    // Some integrations (namely, IJulia/Jupyter) use an alternate render pathway than\n",
       "    // just putting the html on the page. If WebIO isn't defined, then it's pretty likely\n",
       "    // that we're in one of those situations and the integration just isn't installed\n",
       "    // correctly.\n",
       "    if (typeof window.WebIO === \"undefined\") {\n",
       "        document\n",
       "            .querySelector('[data-webio-mountpoint=\"3984133741311821451\"]')\n",
       "            .innerHTML = (\n",
       "                '<div style=\"padding: 1em; background-color: #f8d6da; border: 1px solid #f5c6cb; font-weight: bold;\">' +\n",
       "                '<p><strong>WebIO not detected.</strong></p>' +\n",
       "                '<p>Please read ' +\n",
       "                '<a href=\"https://juliagizmos.github.io/WebIO.jl/latest/troubleshooting/not-detected/\" target=\"_blank\">the troubleshooting guide</a> ' +\n",
       "                'for more information on how to resolve this issue.</p>' +\n",
       "                '<p><a href=\"https://juliagizmos.github.io/WebIO.jl/latest/troubleshooting/not-detected/\" target=\"_blank\">https://juliagizmos.github.io/WebIO.jl/latest/troubleshooting/not-detected/</a></p>' +\n",
       "                '</div>'\n",
       "            );\n",
       "        return;\n",
       "    }\n",
       "    WebIO.mount(\n",
       "        document.querySelector('[data-webio-mountpoint=\"3984133741311821451\"]'),\n",
       "        {\"props\":{},\"nodeType\":\"Scope\",\"type\":\"node\",\"instanceArgs\":{\"imports\":{\"data\":[{\"name\":\"Plotly\",\"type\":\"js\",\"url\":\"\\/assetserver\\/5b0bcbbb362c204ec77e728ffa8c7da4be28ce8a-plotly.min.js\"},{\"name\":null,\"type\":\"js\",\"url\":\"\\/assetserver\\/6303ac4e25f5217851dbb12ecf3059151c237374-plotly_webio.bundle.js\"}],\"type\":\"async_block\"},\"id\":\"3823561471522525641\",\"handlers\":{\"_toImage\":[\"(function (options){return this.Plotly.toImage(this.plotElem,options).then((function (data){return WebIO.setval({\\\"name\\\":\\\"image\\\",\\\"scope\\\":\\\"3823561471522525641\\\",\\\"id\\\":\\\"7295778846912663357\\\",\\\"type\\\":\\\"observable\\\"},data)}))})\"],\"__get_gd_contents\":[\"(function (prop){prop==\\\"data\\\" ? (WebIO.setval({\\\"name\\\":\\\"__gd_contents\\\",\\\"scope\\\":\\\"3823561471522525641\\\",\\\"id\\\":\\\"1602279364567961868\\\",\\\"type\\\":\\\"observable\\\"},this.plotElem.data)) : undefined; return prop==\\\"layout\\\" ? (WebIO.setval({\\\"name\\\":\\\"__gd_contents\\\",\\\"scope\\\":\\\"3823561471522525641\\\",\\\"id\\\":\\\"1602279364567961868\\\",\\\"type\\\":\\\"observable\\\"},this.plotElem.layout)) : undefined})\"],\"_downloadImage\":[\"(function (options){return this.Plotly.downloadImage(this.plotElem,options)})\"],\"_commands\":[\"(function (args){var fn=args.shift(); var elem=this.plotElem; var Plotly=this.Plotly; args.unshift(elem); return Plotly[fn].apply(this,args)})\"]},\"systemjs_options\":null,\"mount_callbacks\":[\"function () {\\n    var handler = ((function (Plotly,PlotlyWebIO){PlotlyWebIO.init(WebIO); var gd=this.dom.querySelector(\\\"#plot-a974bc86-e17c-4e2c-b6f5-b0bcde0add52\\\"); this.plotElem=gd; this.Plotly=Plotly; (window.Blink!==undefined) ? (gd.style.width=\\\"100%\\\", gd.style.height=\\\"100vh\\\", gd.style.marginLeft=\\\"0%\\\", gd.style.marginTop=\\\"0vh\\\") : undefined; window.onresize=(function (){return Plotly.Plots.resize(gd)}); Plotly.newPlot(gd,[{\\\"mode\\\":\\\"lines\\\",\\\"y\\\":[1.0,19.788466261924775],\\\"type\\\":\\\"scatter\\\",\\\"name\\\":\\\"euler\\\",\\\"x\\\":[0,3]},{\\\"mode\\\":\\\"lines\\\",\\\"y\\\":[1.0,20.085534432498186],\\\"type\\\":\\\"scatter\\\",\\\"name\\\":\\\"heun3\\\",\\\"x\\\":[0,3]},{\\\"mode\\\":\\\"lines\\\",\\\"y\\\":[1.0,20.08553088958199],\\\"type\\\":\\\"scatter\\\",\\\"name\\\":\\\"ralston4\\\",\\\"x\\\":[0,3]},{\\\"mode\\\":\\\"lines\\\",\\\"y\\\":[1.0,20.085534432498186],\\\"type\\\":\\\"scatter\\\",\\\"name\\\":\\\"rk4\\\",\\\"x\\\":[0,3]},{\\\"mode\\\":\\\"lines\\\",\\\"y\\\":[1.0,20.08553691820839],\\\"type\\\":\\\"scatter\\\",\\\"name\\\":\\\"three_eighths_rule\\\",\\\"x\\\":[0,3]},{\\\"mode\\\":\\\"lines\\\",\\\"y\\\":[1.0,1.010050167084168,1.0202013400267558,1.030454533953517,1.0408107741923882,1.0512710963760241,1.0618365465453596,1.0725081812542165,1.0832870676749586,1.0941742837052104,1.1051709180756477,1.1162780704588713,1.1274968515793757,1.1388283833246218,1.1502737988572274,1.161834242728283,1.1735108709918103,1.1853048513203654,1.1972173631218102,1.2092495976572515,1.2214027581601699,1.2336780599567432,1.2460767305873808,1.2586000099294778,1.2712491503214047,1.2840254166877414,1.2969300866657718,1.3099644507332473,1.3231298123374369,1.336427488025472,1.3498588075760032,1.3634251141321778,1.3771277643359572,1.3909681284637803,1.4049475905635938,1.4190675485932571,1.4333294145603401,1.4477346146633245,1.4622845894342245,1.4769807938826427,1.4918246976412703,1.5068177851128535,1.5219615556186337,1.5372575235482815,1.552707218511336,1.568312185490169,1.5840739849944818,1.5999941932173602,1.6160744021928934,1.632316219955379,1.6487212707001282,1.6652911949458864,1.6820276496988864,1.6989323086185506,1.7160068621848585,1.7332530178673953,1.7506725002961012,1.768267051433735,1.7860384307500734,1.803988415397857,1.8221188003905089,1.8404313987816374,1.858928041846342,1.8776105792643432,1.8964808793049515,1.9155408290138962,1.9347923344020317,1.9542373206359396,1.9738777322304477,1.9937155332430823,2.0137527074704766,2.0339912586467506,2.0544332106438876,2.0750806076741224,2.0959355144943643,2.117000016612675,2.1382762204968184,2.159766253784915,2.181472265498201,2.203396426255937,2.225540928492468,2.2479079866764717,2.2704998375324057,2.2933187402641826,2.3163669767810915,2.3396468519259908,2.3631606937057947,2.3869108535242765,2.4108997064172097,2.4351296512898744,2.45960311115695,2.4843225333848165,2.509290389936298,2.534509177617855,2.5599814183292713,2.585709659315846,2.611696473423118,2.6379444593541526,2.664456241929417,2.691234472349262,2.718281828459045,2.7456010150169163,2.7731947639642978,2.801065834699079,2.82921701435156,2.857651118063164,2.8863709892679585,2.915379499976997,2.944679551065524,2.9742740725630656,3.0041660239464334,3.034358394435676,3.0648542032930024,3.0956565001247114,3.1267683651861553,3.158192909689767,3.1899332761161845,3.2219926385284996,3.2543742028896707,3.287081207383118,3.3201169227365472,3.3534846525490236,3.3871877336213347,3.4212295362896734,3.4556134647626755,3.4903429574618414,3.5254214873653824,3.5608525623555205,3.5966397255692817,3.6327865557528094,3.6692966676192444,3.706173712210199,3.7434213772608627,3.781043387568781,3.819043505366336,3.8574255306969745,3.896193301795215,3.9353506954704733,3.9749016274947477,4.014850052994201,4.0551999668446745,4.095955404071176,4.137120440251392,4.178699191923246,4.220695816996552,4.263114515168817,4.305959528345206,4.349235141062741,4.392945680918757,4.437095519003664,4.4816890703380645,4.526730794314252,4.572225195142159,4.618176822299781,4.664590270988126,4.711470182590742,4.758821245137854,4.806648193775178,4.854955811237434,4.903748928326623,4.953032424395115,5.002811227833588,5.053090316563868,5.1038747185367255,5.15516951223468,5.206979827179849,5.259310844446898,5.312167797181167,5.3655559711219745,5.419480705131206,5.4739473917272,5.528961477624004,5.584528464276054,5.6406539084283205,5.697343422671991,5.754602676005731,5.812437394402589,5.8708533613826015,5.929856418591146,5.9894524663831135,6.0496474644129465,6.11044743223061,6.171858449883554,6.2338866585247175,6.296538261026657,6.359819522601832,6.423736771429135,6.488296399286712,6.553504862191148,6.619368681043077,6.6858944422792685,6.753088798531286,6.8209584692907494,6.889510241581292,6.958750970637272,7.028687580589293,7.099327065156633,7.170676488346613,7.242742985161012,7.315533762309567,7.38905609893065,7.463317347319193,7.538324933661922,7.614086358779973,7.690609198878998,7.767901106306771,7.845969810318449,7.924823117849487,8.004468914296353,8.084915164305059,8.16616991256765,8.24824128462666,8.331137487687693,8.41486681144013,8.499437628886124,8.584858397177893,8.671137658463456,8.758284040740834,8.846306258720883,8.93521311469875,9.025013499434122,9.115716393040305,9.207330865882252,9.299866079483586,9.393331287442784,9.487735836358526,9.583089166764376,9.67940081407284,9.776680409528904,9.874937681173183,9.974182454814718,10.074424655013587,10.175674306073333,10.277941533043448,10.381236562731843,10.485569724727576,10.59095145243378,10.697392284111054,10.804902863931257,10.913493943041976,11.023176380641601,11.133961145065307,11.245859314881844,11.358882080001457,11.473040742794833,11.588346719223392,11.704811539980854,11.822446851646363,11.941264417849103,12.06127612044472,12.182493960703473,12.30493006051041,12.428596663577544,12.55350613666823,12.679670970833877,12.80710378266303,12.935817315543076,13.065824440934556,13.197138159658358,13.329771603195772,13.463738035001692,13.599050851830924,13.735723585077926,13.873769902129904,14.013203607733615,14.1540386453758,14.296289098677603,14.43996919280288,14.585093295880792,14.73167592044257,14.879731724872837,15.029275514875401,15.1803222449539,15.332887019907195,15.486985096339938,15.642631884188171,15.799842948260395,15.958634009794029,16.119020948027543,16.28101980178843,16.444646771097048,16.6099182187867,16.776850672139872,16.94546082454102,17.115765537145876,17.28778184056764,17.46152693657999,17.63701819983732,17.814273179612197,17.99330960155032,18.17414536944306,18.356798567017925,18.54128745974687,18.72763049667292,18.915846312255038,19.10595372823165,19.297971755502758,19.49191959603112,19.6878166447624,19.88568249156473,20.085536923187668],\\\"type\\\":\\\"scatter\\\",\\\"name\\\":\\\"solution (e^(x))\\\",\\\"x\\\":[0.0,0.01,0.02,0.03,0.04,0.05,0.06,0.07,0.08,0.09,0.1,0.11,0.12,0.13,0.14,0.15,0.16,0.17,0.18,0.19,0.2,0.21,0.22,0.23,0.24,0.25,0.26,0.27,0.28,0.29,0.3,0.31,0.32,0.33,0.34,0.35,0.36,0.37,0.38,0.39,0.4,0.41,0.42,0.43,0.44,0.45,0.46,0.47,0.48,0.49,0.5,0.51,0.52,0.53,0.54,0.55,0.56,0.57,0.58,0.59,0.6,0.61,0.62,0.63,0.64,0.65,0.66,0.67,0.68,0.69,0.7,0.71,0.72,0.73,0.74,0.75,0.76,0.77,0.78,0.79,0.8,0.81,0.82,0.83,0.84,0.85,0.86,0.87,0.88,0.89,0.9,0.91,0.92,0.93,0.94,0.95,0.96,0.97,0.98,0.99,1.0,1.01,1.02,1.03,1.04,1.05,1.06,1.07,1.08,1.09,1.1,1.11,1.12,1.13,1.14,1.15,1.16,1.17,1.18,1.19,1.2,1.21,1.22,1.23,1.24,1.25,1.26,1.27,1.28,1.29,1.3,1.31,1.32,1.33,1.34,1.35,1.36,1.37,1.38,1.39,1.4,1.41,1.42,1.43,1.44,1.45,1.46,1.47,1.48,1.49,1.5,1.51,1.52,1.53,1.54,1.55,1.56,1.57,1.58,1.59,1.6,1.61,1.62,1.63,1.64,1.65,1.66,1.67,1.68,1.69,1.7,1.71,1.72,1.73,1.74,1.75,1.76,1.77,1.78,1.79,1.8,1.81,1.82,1.83,1.84,1.85,1.86,1.87,1.88,1.89,1.9,1.91,1.92,1.93,1.94,1.95,1.96,1.97,1.98,1.99,2.0,2.01,2.02,2.03,2.04,2.05,2.06,2.07,2.08,2.09,2.1,2.11,2.12,2.13,2.14,2.15,2.16,2.17,2.18,2.19,2.2,2.21,2.22,2.23,2.24,2.25,2.26,2.27,2.28,2.29,2.3,2.31,2.32,2.33,2.34,2.35,2.36,2.37,2.38,2.39,2.4,2.41,2.42,2.43,2.44,2.45,2.46,2.47,2.48,2.49,2.5,2.51,2.52,2.53,2.54,2.55,2.56,2.57,2.58,2.59,2.6,2.61,2.62,2.63,2.64,2.65,2.66,2.67,2.68,2.69,2.7,2.71,2.72,2.73,2.74,2.75,2.76,2.77,2.78,2.79,2.8,2.81,2.82,2.83,2.84,2.85,2.86,2.87,2.88,2.89,2.9,2.91,2.92,2.93,2.94,2.95,2.96,2.97,2.98,2.99,3.0]}],{\\\"template\\\":{\\\"layout\\\":{\\\"coloraxis\\\":{\\\"colorbar\\\":{\\\"ticks\\\":\\\"\\\",\\\"outlinewidth\\\":0}},\\\"xaxis\\\":{\\\"gridcolor\\\":\\\"white\\\",\\\"zerolinewidth\\\":2,\\\"title\\\":{\\\"standoff\\\":15},\\\"ticks\\\":\\\"\\\",\\\"zerolinecolor\\\":\\\"white\\\",\\\"automargin\\\":true,\\\"linecolor\\\":\\\"white\\\"},\\\"hovermode\\\":\\\"closest\\\",\\\"paper_bgcolor\\\":\\\"white\\\",\\\"geo\\\":{\\\"showlakes\\\":true,\\\"showland\\\":true,\\\"landcolor\\\":\\\"#E5ECF6\\\",\\\"bgcolor\\\":\\\"white\\\",\\\"subunitcolor\\\":\\\"white\\\",\\\"lakecolor\\\":\\\"white\\\"},\\\"colorscale\\\":{\\\"sequential\\\":[[0.0,\\\"#0d0887\\\"],[0.1111111111111111,\\\"#46039f\\\"],[0.2222222222222222,\\\"#7201a8\\\"],[0.3333333333333333,\\\"#9c179e\\\"],[0.4444444444444444,\\\"#bd3786\\\"],[0.5555555555555556,\\\"#d8576b\\\"],[0.6666666666666666,\\\"#ed7953\\\"],[0.7777777777777778,\\\"#fb9f3a\\\"],[0.8888888888888888,\\\"#fdca26\\\"],[1.0,\\\"#f0f921\\\"]],\\\"diverging\\\":[[0,\\\"#8e0152\\\"],[0.1,\\\"#c51b7d\\\"],[0.2,\\\"#de77ae\\\"],[0.3,\\\"#f1b6da\\\"],[0.4,\\\"#fde0ef\\\"],[0.5,\\\"#f7f7f7\\\"],[0.6,\\\"#e6f5d0\\\"],[0.7,\\\"#b8e186\\\"],[0.8,\\\"#7fbc41\\\"],[0.9,\\\"#4d9221\\\"],[1,\\\"#276419\\\"]],\\\"sequentialminus\\\":[[0.0,\\\"#0d0887\\\"],[0.1111111111111111,\\\"#46039f\\\"],[0.2222222222222222,\\\"#7201a8\\\"],[0.3333333333333333,\\\"#9c179e\\\"],[0.4444444444444444,\\\"#bd3786\\\"],[0.5555555555555556,\\\"#d8576b\\\"],[0.6666666666666666,\\\"#ed7953\\\"],[0.7777777777777778,\\\"#fb9f3a\\\"],[0.8888888888888888,\\\"#fdca26\\\"],[1.0,\\\"#f0f921\\\"]]},\\\"yaxis\\\":{\\\"gridcolor\\\":\\\"white\\\",\\\"zerolinewidth\\\":2,\\\"title\\\":{\\\"standoff\\\":15},\\\"ticks\\\":\\\"\\\",\\\"zerolinecolor\\\":\\\"white\\\",\\\"automargin\\\":true,\\\"linecolor\\\":\\\"white\\\"},\\\"shapedefaults\\\":{\\\"line\\\":{\\\"color\\\":\\\"#2a3f5f\\\"}},\\\"hoverlabel\\\":{\\\"align\\\":\\\"left\\\"},\\\"mapbox\\\":{\\\"style\\\":\\\"light\\\"},\\\"polar\\\":{\\\"angularaxis\\\":{\\\"gridcolor\\\":\\\"white\\\",\\\"ticks\\\":\\\"\\\",\\\"linecolor\\\":\\\"white\\\"},\\\"bgcolor\\\":\\\"#E5ECF6\\\",\\\"radialaxis\\\":{\\\"gridcolor\\\":\\\"white\\\",\\\"ticks\\\":\\\"\\\",\\\"linecolor\\\":\\\"white\\\"}},\\\"autotypenumbers\\\":\\\"strict\\\",\\\"font\\\":{\\\"color\\\":\\\"#2a3f5f\\\"},\\\"ternary\\\":{\\\"baxis\\\":{\\\"gridcolor\\\":\\\"white\\\",\\\"ticks\\\":\\\"\\\",\\\"linecolor\\\":\\\"white\\\"},\\\"bgcolor\\\":\\\"#E5ECF6\\\",\\\"caxis\\\":{\\\"gridcolor\\\":\\\"white\\\",\\\"ticks\\\":\\\"\\\",\\\"linecolor\\\":\\\"white\\\"},\\\"aaxis\\\":{\\\"gridcolor\\\":\\\"white\\\",\\\"ticks\\\":\\\"\\\",\\\"linecolor\\\":\\\"white\\\"}},\\\"annotationdefaults\\\":{\\\"arrowhead\\\":0,\\\"arrowwidth\\\":1,\\\"arrowcolor\\\":\\\"#2a3f5f\\\"},\\\"plot_bgcolor\\\":\\\"#E5ECF6\\\",\\\"title\\\":{\\\"x\\\":0.05},\\\"scene\\\":{\\\"xaxis\\\":{\\\"gridcolor\\\":\\\"white\\\",\\\"gridwidth\\\":2,\\\"backgroundcolor\\\":\\\"#E5ECF6\\\",\\\"ticks\\\":\\\"\\\",\\\"showbackground\\\":true,\\\"zerolinecolor\\\":\\\"white\\\",\\\"linecolor\\\":\\\"white\\\"},\\\"zaxis\\\":{\\\"gridcolor\\\":\\\"white\\\",\\\"gridwidth\\\":2,\\\"backgroundcolor\\\":\\\"#E5ECF6\\\",\\\"ticks\\\":\\\"\\\",\\\"showbackground\\\":true,\\\"zerolinecolor\\\":\\\"white\\\",\\\"linecolor\\\":\\\"white\\\"},\\\"yaxis\\\":{\\\"gridcolor\\\":\\\"white\\\",\\\"gridwidth\\\":2,\\\"backgroundcolor\\\":\\\"#E5ECF6\\\",\\\"ticks\\\":\\\"\\\",\\\"showbackground\\\":true,\\\"zerolinecolor\\\":\\\"white\\\",\\\"linecolor\\\":\\\"white\\\"}},\\\"colorway\\\":[\\\"#636efa\\\",\\\"#EF553B\\\",\\\"#00cc96\\\",\\\"#ab63fa\\\",\\\"#FFA15A\\\",\\\"#19d3f3\\\",\\\"#FF6692\\\",\\\"#B6E880\\\",\\\"#FF97FF\\\",\\\"#FECB52\\\"]},\\\"data\\\":{\\\"barpolar\\\":[{\\\"type\\\":\\\"barpolar\\\",\\\"marker\\\":{\\\"line\\\":{\\\"color\\\":\\\"#E5ECF6\\\",\\\"width\\\":0.5}}}],\\\"carpet\\\":[{\\\"aaxis\\\":{\\\"gridcolor\\\":\\\"white\\\",\\\"endlinecolor\\\":\\\"#2a3f5f\\\",\\\"minorgridcolor\\\":\\\"white\\\",\\\"startlinecolor\\\":\\\"#2a3f5f\\\",\\\"linecolor\\\":\\\"white\\\"},\\\"type\\\":\\\"carpet\\\",\\\"baxis\\\":{\\\"gridcolor\\\":\\\"white\\\",\\\"endlinecolor\\\":\\\"#2a3f5f\\\",\\\"minorgridcolor\\\":\\\"white\\\",\\\"startlinecolor\\\":\\\"#2a3f5f\\\",\\\"linecolor\\\":\\\"white\\\"}}],\\\"scatterpolar\\\":[{\\\"type\\\":\\\"scatterpolar\\\",\\\"marker\\\":{\\\"colorbar\\\":{\\\"ticks\\\":\\\"\\\",\\\"outlinewidth\\\":0}}}],\\\"parcoords\\\":[{\\\"line\\\":{\\\"colorbar\\\":{\\\"ticks\\\":\\\"\\\",\\\"outlinewidth\\\":0}},\\\"type\\\":\\\"parcoords\\\"}],\\\"scatter\\\":[{\\\"type\\\":\\\"scatter\\\",\\\"marker\\\":{\\\"colorbar\\\":{\\\"ticks\\\":\\\"\\\",\\\"outlinewidth\\\":0}}}],\\\"histogram2dcontour\\\":[{\\\"colorbar\\\":{\\\"ticks\\\":\\\"\\\",\\\"outlinewidth\\\":0},\\\"type\\\":\\\"histogram2dcontour\\\",\\\"colorscale\\\":[[0.0,\\\"#0d0887\\\"],[0.1111111111111111,\\\"#46039f\\\"],[0.2222222222222222,\\\"#7201a8\\\"],[0.3333333333333333,\\\"#9c179e\\\"],[0.4444444444444444,\\\"#bd3786\\\"],[0.5555555555555556,\\\"#d8576b\\\"],[0.6666666666666666,\\\"#ed7953\\\"],[0.7777777777777778,\\\"#fb9f3a\\\"],[0.8888888888888888,\\\"#fdca26\\\"],[1.0,\\\"#f0f921\\\"]]}],\\\"contour\\\":[{\\\"colorbar\\\":{\\\"ticks\\\":\\\"\\\",\\\"outlinewidth\\\":0},\\\"type\\\":\\\"contour\\\",\\\"colorscale\\\":[[0.0,\\\"#0d0887\\\"],[0.1111111111111111,\\\"#46039f\\\"],[0.2222222222222222,\\\"#7201a8\\\"],[0.3333333333333333,\\\"#9c179e\\\"],[0.4444444444444444,\\\"#bd3786\\\"],[0.5555555555555556,\\\"#d8576b\\\"],[0.6666666666666666,\\\"#ed7953\\\"],[0.7777777777777778,\\\"#fb9f3a\\\"],[0.8888888888888888,\\\"#fdca26\\\"],[1.0,\\\"#f0f921\\\"]]}],\\\"scattercarpet\\\":[{\\\"type\\\":\\\"scattercarpet\\\",\\\"marker\\\":{\\\"colorbar\\\":{\\\"ticks\\\":\\\"\\\",\\\"outlinewidth\\\":0}}}],\\\"mesh3d\\\":[{\\\"colorbar\\\":{\\\"ticks\\\":\\\"\\\",\\\"outlinewidth\\\":0},\\\"type\\\":\\\"mesh3d\\\"}],\\\"surface\\\":[{\\\"colorbar\\\":{\\\"ticks\\\":\\\"\\\",\\\"outlinewidth\\\":0},\\\"type\\\":\\\"surface\\\",\\\"colorscale\\\":[[0.0,\\\"#0d0887\\\"],[0.1111111111111111,\\\"#46039f\\\"],[0.2222222222222222,\\\"#7201a8\\\"],[0.3333333333333333,\\\"#9c179e\\\"],[0.4444444444444444,\\\"#bd3786\\\"],[0.5555555555555556,\\\"#d8576b\\\"],[0.6666666666666666,\\\"#ed7953\\\"],[0.7777777777777778,\\\"#fb9f3a\\\"],[0.8888888888888888,\\\"#fdca26\\\"],[1.0,\\\"#f0f921\\\"]]}],\\\"scattermapbox\\\":[{\\\"type\\\":\\\"scattermapbox\\\",\\\"marker\\\":{\\\"colorbar\\\":{\\\"ticks\\\":\\\"\\\",\\\"outlinewidth\\\":0}}}],\\\"scattergeo\\\":[{\\\"type\\\":\\\"scattergeo\\\",\\\"marker\\\":{\\\"colorbar\\\":{\\\"ticks\\\":\\\"\\\",\\\"outlinewidth\\\":0}}}],\\\"histogram\\\":[{\\\"type\\\":\\\"histogram\\\",\\\"marker\\\":{\\\"colorbar\\\":{\\\"ticks\\\":\\\"\\\",\\\"outlinewidth\\\":0}}}],\\\"pie\\\":[{\\\"type\\\":\\\"pie\\\",\\\"automargin\\\":true}],\\\"choropleth\\\":[{\\\"colorbar\\\":{\\\"ticks\\\":\\\"\\\",\\\"outlinewidth\\\":0},\\\"type\\\":\\\"choropleth\\\"}],\\\"heatmapgl\\\":[{\\\"colorbar\\\":{\\\"ticks\\\":\\\"\\\",\\\"outlinewidth\\\":0},\\\"type\\\":\\\"heatmapgl\\\",\\\"colorscale\\\":[[0.0,\\\"#0d0887\\\"],[0.1111111111111111,\\\"#46039f\\\"],[0.2222222222222222,\\\"#7201a8\\\"],[0.3333333333333333,\\\"#9c179e\\\"],[0.4444444444444444,\\\"#bd3786\\\"],[0.5555555555555556,\\\"#d8576b\\\"],[0.6666666666666666,\\\"#ed7953\\\"],[0.7777777777777778,\\\"#fb9f3a\\\"],[0.8888888888888888,\\\"#fdca26\\\"],[1.0,\\\"#f0f921\\\"]]}],\\\"bar\\\":[{\\\"type\\\":\\\"bar\\\",\\\"error_y\\\":{\\\"color\\\":\\\"#2a3f5f\\\"},\\\"error_x\\\":{\\\"color\\\":\\\"#2a3f5f\\\"},\\\"marker\\\":{\\\"line\\\":{\\\"color\\\":\\\"#E5ECF6\\\",\\\"width\\\":0.5}}}],\\\"heatmap\\\":[{\\\"colorbar\\\":{\\\"ticks\\\":\\\"\\\",\\\"outlinewidth\\\":0},\\\"type\\\":\\\"heatmap\\\",\\\"colorscale\\\":[[0.0,\\\"#0d0887\\\"],[0.1111111111111111,\\\"#46039f\\\"],[0.2222222222222222,\\\"#7201a8\\\"],[0.3333333333333333,\\\"#9c179e\\\"],[0.4444444444444444,\\\"#bd3786\\\"],[0.5555555555555556,\\\"#d8576b\\\"],[0.6666666666666666,\\\"#ed7953\\\"],[0.7777777777777778,\\\"#fb9f3a\\\"],[0.8888888888888888,\\\"#fdca26\\\"],[1.0,\\\"#f0f921\\\"]]}],\\\"contourcarpet\\\":[{\\\"colorbar\\\":{\\\"ticks\\\":\\\"\\\",\\\"outlinewidth\\\":0},\\\"type\\\":\\\"contourcarpet\\\"}],\\\"table\\\":[{\\\"type\\\":\\\"table\\\",\\\"header\\\":{\\\"line\\\":{\\\"color\\\":\\\"white\\\"},\\\"fill\\\":{\\\"color\\\":\\\"#C8D4E3\\\"}},\\\"cells\\\":{\\\"line\\\":{\\\"color\\\":\\\"white\\\"},\\\"fill\\\":{\\\"color\\\":\\\"#EBF0F8\\\"}}}],\\\"scatter3d\\\":[{\\\"line\\\":{\\\"colorbar\\\":{\\\"ticks\\\":\\\"\\\",\\\"outlinewidth\\\":0}},\\\"type\\\":\\\"scatter3d\\\",\\\"marker\\\":{\\\"colorbar\\\":{\\\"ticks\\\":\\\"\\\",\\\"outlinewidth\\\":0}}}],\\\"scattergl\\\":[{\\\"type\\\":\\\"scattergl\\\",\\\"marker\\\":{\\\"colorbar\\\":{\\\"ticks\\\":\\\"\\\",\\\"outlinewidth\\\":0}}}],\\\"histogram2d\\\":[{\\\"colorbar\\\":{\\\"ticks\\\":\\\"\\\",\\\"outlinewidth\\\":0},\\\"type\\\":\\\"histogram2d\\\",\\\"colorscale\\\":[[0.0,\\\"#0d0887\\\"],[0.1111111111111111,\\\"#46039f\\\"],[0.2222222222222222,\\\"#7201a8\\\"],[0.3333333333333333,\\\"#9c179e\\\"],[0.4444444444444444,\\\"#bd3786\\\"],[0.5555555555555556,\\\"#d8576b\\\"],[0.6666666666666666,\\\"#ed7953\\\"],[0.7777777777777778,\\\"#fb9f3a\\\"],[0.8888888888888888,\\\"#fdca26\\\"],[1.0,\\\"#f0f921\\\"]]}],\\\"scatterternary\\\":[{\\\"type\\\":\\\"scatterternary\\\",\\\"marker\\\":{\\\"colorbar\\\":{\\\"ticks\\\":\\\"\\\",\\\"outlinewidth\\\":0}}}],\\\"scatterpolargl\\\":[{\\\"type\\\":\\\"scatterpolargl\\\",\\\"marker\\\":{\\\"colorbar\\\":{\\\"ticks\\\":\\\"\\\",\\\"outlinewidth\\\":0}}}]}},\\\"margin\\\":{\\\"l\\\":50,\\\"b\\\":50,\\\"r\\\":50,\\\"t\\\":60}},{\\\"showLink\\\":false,\\\"editable\\\":false,\\\"responsive\\\":true,\\\"staticPlot\\\":false,\\\"scrollZoom\\\":true}); gd.on(\\\"plotly_hover\\\",(function (data){var filtered_data=WebIO.PlotlyCommands.filterEventData(gd,data,\\\"hover\\\"); return !(filtered_data.isnil) ? (WebIO.setval({\\\"name\\\":\\\"hover\\\",\\\"scope\\\":\\\"3823561471522525641\\\",\\\"id\\\":\\\"10384182607046954915\\\",\\\"type\\\":\\\"observable\\\"},filtered_data.out)) : undefined})); gd.on(\\\"plotly_unhover\\\",(function (){return WebIO.setval({\\\"name\\\":\\\"hover\\\",\\\"scope\\\":\\\"3823561471522525641\\\",\\\"id\\\":\\\"10384182607046954915\\\",\\\"type\\\":\\\"observable\\\"},{})})); gd.on(\\\"plotly_selected\\\",(function (data){var filtered_data=WebIO.PlotlyCommands.filterEventData(gd,data,\\\"selected\\\"); return !(filtered_data.isnil) ? (WebIO.setval({\\\"name\\\":\\\"selected\\\",\\\"scope\\\":\\\"3823561471522525641\\\",\\\"id\\\":\\\"9185579125347078351\\\",\\\"type\\\":\\\"observable\\\"},filtered_data.out)) : undefined})); gd.on(\\\"plotly_deselect\\\",(function (){return WebIO.setval({\\\"name\\\":\\\"selected\\\",\\\"scope\\\":\\\"3823561471522525641\\\",\\\"id\\\":\\\"9185579125347078351\\\",\\\"type\\\":\\\"observable\\\"},{})})); gd.on(\\\"plotly_relayout\\\",(function (data){var filtered_data=WebIO.PlotlyCommands.filterEventData(gd,data,\\\"relayout\\\"); return !(filtered_data.isnil) ? (WebIO.setval({\\\"name\\\":\\\"relayout\\\",\\\"scope\\\":\\\"3823561471522525641\\\",\\\"id\\\":\\\"16569178211884069681\\\",\\\"type\\\":\\\"observable\\\"},filtered_data.out)) : undefined})); return gd.on(\\\"plotly_click\\\",(function (data){var filtered_data=WebIO.PlotlyCommands.filterEventData(gd,data,\\\"click\\\"); return !(filtered_data.isnil) ? (WebIO.setval({\\\"name\\\":\\\"click\\\",\\\"scope\\\":\\\"3823561471522525641\\\",\\\"id\\\":\\\"7440751503802923287\\\",\\\"type\\\":\\\"observable\\\"},filtered_data.out)) : undefined}))}));\\n    (WebIO.importBlock({\\\"data\\\":[{\\\"name\\\":\\\"Plotly\\\",\\\"type\\\":\\\"js\\\",\\\"url\\\":\\\"\\/assetserver\\/5b0bcbbb362c204ec77e728ffa8c7da4be28ce8a-plotly.min.js\\\"},{\\\"name\\\":null,\\\"type\\\":\\\"js\\\",\\\"url\\\":\\\"\\/assetserver\\/6303ac4e25f5217851dbb12ecf3059151c237374-plotly_webio.bundle.js\\\"}],\\\"type\\\":\\\"async_block\\\"})).then((imports) => handler.apply(this, imports));\\n}\\n\"],\"observables\":{\"_toImage\":{\"sync\":false,\"id\":\"949783674195733397\",\"value\":{}},\"hover\":{\"sync\":false,\"id\":\"10384182607046954915\",\"value\":{}},\"selected\":{\"sync\":false,\"id\":\"9185579125347078351\",\"value\":{}},\"__gd_contents\":{\"sync\":false,\"id\":\"1602279364567961868\",\"value\":{}},\"click\":{\"sync\":false,\"id\":\"7440751503802923287\",\"value\":{}},\"image\":{\"sync\":true,\"id\":\"7295778846912663357\",\"value\":\"\"},\"__get_gd_contents\":{\"sync\":false,\"id\":\"15070803665098297145\",\"value\":\"\"},\"_downloadImage\":{\"sync\":false,\"id\":\"8430783704846736256\",\"value\":{}},\"relayout\":{\"sync\":false,\"id\":\"16569178211884069681\",\"value\":{}},\"_commands\":{\"sync\":false,\"id\":\"850794790477334798\",\"value\":[]}}},\"children\":[{\"props\":{\"id\":\"plot-a974bc86-e17c-4e2c-b6f5-b0bcde0add52\"},\"nodeType\":\"DOM\",\"type\":\"node\",\"instanceArgs\":{\"namespace\":\"html\",\"tag\":\"div\"},\"children\":[]}]},\n",
       "        window,\n",
       "    );\n",
       "    })()\n",
       "    </script>\n",
       "</div>\n"
      ],
      "text/plain": [
       "data: [\n",
       "  \"scatter with fields mode, name, type, x, and y\",\n",
       "  \"scatter with fields mode, name, type, x, and y\",\n",
       "  \"scatter with fields mode, name, type, x, and y\",\n",
       "  \"scatter with fields mode, name, type, x, and y\",\n",
       "  \"scatter with fields mode, name, type, x, and y\",\n",
       "  \"scatter with fields mode, name, type, x, and y\"\n",
       "]\n",
       "\n",
       "layout: \"layout with fields margin and template\"\n",
       "\n"
      ]
     },
     "execution_count": 5,
     "metadata": {},
     "output_type": "execute_result"
    }
   ],
   "source": [
    "t = [0, 3]\n",
    "x0 = [1]\n",
    "deltat_max = 0.01\n",
    "\n",
    "@time s1 = solve_ode(f, x0, t, \"euler\", deltat_max)[:,1]\n",
    "@time s2 = solve_ode(f, x0, t, \"heun3\", deltat_max)[:,1]\n",
    "@time s3 = solve_ode(f, x0, t, \"ralston4\", deltat_max)[:,1]\n",
    "@time s4 = solve_ode(f, x0, t, \"rk4\", deltat_max)[:,1]\n",
    "@time s5 = solve_ode(f, x0, t, \"three_eighths_rule\", deltat_max)[:,1]\n",
    "\n",
    "# Create traces\n",
    "euler = scatter(x=t, y=s1, mode=\"lines\", name=\"euler\")\n",
    "heun3 = scatter(x=t, y=s2, mode=\"lines\", name=\"heun3\")\n",
    "ralston4 = scatter(x=t, y=s3, mode=\"lines\", name=\"ralston4\")\n",
    "rk4 = scatter(x=t, y=s2, mode=\"lines\", name=\"rk4\")\n",
    "three_eighths_rule = scatter(x=t, y=s5, mode=\"lines\", name=\"three_eighths_rule\")\n",
    "\n",
    "solution = scatter(x=0:0.01:3, y=exp.(0:0.01:3), mode=\"lines\", name=\"solution (e^(x))\")\n",
    "\n",
    "plot([euler, heun3, ralston4, rk4, three_eighths_rule, solution])"
   ]
  },
  {
   "cell_type": "markdown",
   "metadata": {},
   "source": [
    "Error Plot"
   ]
  },
  {
   "cell_type": "code",
   "execution_count": 24,
   "metadata": {},
   "outputs": [
    {
     "name": "stdout",
     "output_type": "stream",
     "text": [
      "Euler approximation = 2.7169239322358942\n",
      "Heun3 approximation = 2.7182818283458725\n",
      "Ralston4 approximation = 2.7182815566175837\n",
      "RK4 approximation = 2.718281828459023\n",
      "3/8 Rule approximation = 2.718281828459023\n"
     ]
    }
   ],
   "source": [
    "x0 = [1]\n",
    "t = [0 1]\n",
    "\n",
    "# Euler estimate of x(1)\n",
    "deltat_max = 0.001\n",
    "solution = solve_ode(f, x0, t, \"euler\", deltat_max)\n",
    "println(\"Euler approximation = \", solution[end][1])\n",
    "\n",
    "# Heun3 estimate of x(1)\n",
    "deltat_max = 0.001\n",
    "solution = solve_ode(f, x0, t, \"heun3\", deltat_max)\n",
    "println(\"Heun3 approximation = \", solution[end][1])\n",
    "\n",
    "# Ralston4 estimate of x(1)\n",
    "deltat_max = 0.001\n",
    "solution = solve_ode(f, x0, t, \"ralston4\", deltat_max)\n",
    "println(\"Ralston4 approximation = \", solution[end][1])\n",
    "\n",
    "# RK4 estimate of x(1)\n",
    "deltat_max = 0.001\n",
    "solution = solve_ode(f, x0, t, \"rk4\", deltat_max)\n",
    "println(\"RK4 approximation = \", solution[end][1])\n",
    "\n",
    "# 3/8 Rule estimate of x(1)\n",
    "deltat_max = 0.001\n",
    "solution = solve_ode(f, x0, t, \"three_eighths_rule\", deltat_max)\n",
    "println(\"3/8 Rule approximation = \", solution[end][1])\n",
    "\n",
    "x0 = [1.]\n",
    "t = [0, 1]\n",
    "deltat_max = exp10.(range(-7,0,80))\n",
    "real = ℯ\n",
    "\n",
    "euler_error = Any[]\n",
    "heun3_error = Any[]\n",
    "ralston4_error = Any[]\n",
    "rk4_error = Any[]\n",
    "three_eighths_rule_error = Any[]\n",
    "\n",
    "for value in deltat_max\n",
    "    euler_sol = solve_ode(f, x0, t, \"euler\", value)[end][1];\n",
    "    heun3_sol = solve_ode(f, x0, t, \"heun3\", value)[end][1];\n",
    "    ralston4_sol = solve_ode(f, x0, t, \"ralston4\", value)[end][1];\n",
    "    rk4_sol = solve_ode(f, x0, t, \"rk4\", value)[end][1];\n",
    "    three_eighths_rule_sol = solve_ode(f, x0, t, \"three_eighths_rule\", value)[end][1];\n",
    "    push!(euler_error, abs.(euler_sol .- real))\n",
    "    push!(heun3_error, abs.(heun3_sol .- real))\n",
    "    push!(ralston4_error, abs.(ralston4_sol .- real))\n",
    "    push!(rk4_error, abs.(rk4_sol .- real))\n",
    "    push!(three_eighths_rule_error, abs.(three_eighths_rule_sol .- real))   \n",
    "end"
   ]
  },
  {
   "cell_type": "code",
   "execution_count": 25,
   "metadata": {},
   "outputs": [
    {
     "data": {
      "application/vnd.plotly.v1+json": {
       "config": {
        "editable": false,
        "responsive": true,
        "scrollZoom": true,
        "showLink": false,
        "staticPlot": false
       },
       "data": [
        {
         "mode": "lines",
         "name": "Euler",
         "type": "scatter",
         "x": [
          1e-7,
          1.226330684177562e-7,
          1.50388694695541e-7,
          1.8442627085855327e-7,
          2.2616759492228645e-7,
          2.7735626141984123e-7,
          3.401304938279253e-7,
          4.171124612056516e-7,
          5.115178099293146e-7,
          6.272899858196243e-7,
          7.692649574879146e-7,
          9.433732216299774e-7,
          0.0000011568875283162833,
          0.0000014187266741165963,
          0.000001739828052930366,
          0.000002133604526501411,
          0.0000026165046987488184,
          0.00000320869999737045,
          0.000003934927263095845,
          0.000004825522042741279,
          0.0000059176857481888185,
          0.000007257039612324216,
          0.000008899530352885224,
          0.000010913767146512737,
          0.000013383887531737564,
          0.0000164130719537513,
          0.000020127853758499385,
          0.00002468340467068651,
          0.000030270016537634617,
          0.000037121050090663645,
          0.000045522682755073095,
          0.000055825862688627005,
          0.00006846096838574658,
          0.00008395578619995104,
          0.00010295755673125127,
          0.00012626001098748563,
          0.0001548365256585499,
          0.00018988078244652632,
          0.00023285662984981966,
          0.0002855592301990109,
          0.00035019004614317094,
          0.00042944879887892723,
          0.0005266462393484276,
          0.0006458424430196978,
          0.0007920164050192549,
          0.0009712740198471167,
          0.0011911031332830068,
          0.0014606863203649888,
          0.001791284454622004,
          0.0021967070907932353,
          0.0026938893095901726,
          0.0033035991201283395,
          0.004051304969235382,
          0.004968239594734388,
          0.00609270466136868,
          0.0074716706758680826,
          0.00916273901188673,
          0.01123654800138751,
          0.013779723598335574,
          0.016898497868124578,
          0.020723146452190297,
          0.025413430367026365,
          0.031165269449294302,
          0.03821892620633119,
          0.046869041923141924,
          0.05747694424835353,
          0.07048574036451903,
          0.0864388262059827,
          0.10600258488068821,
          0.12999422244132458,
          0.15941590374559989,
          0.19549661430912604,
          0.23974349678010773,
          0.29400480643347093,
          0.36054711542505036,
          0.44214999073744876,
          0.5422221006501587,
          0.6649435996665046,
          0.8154407395185163,
          1
         ],
         "y": [
          1.352358691697475e-7,
          1.661531410235284e-7,
          2.0471520523202003e-7,
          2.5034462325379536e-7,
          3.0713649890046213e-7,
          3.7684768372514554e-7,
          4.624884657467021e-7,
          5.669829419296946e-7,
          6.951376323449665e-7,
          8.526508770145824e-7,
          0.0000010455999017722206,
          0.0000012822184318750374,
          0.0000015723930113509255,
          0.00000192827948097829,
          0.000002364680488753379,
          0.000002899859911753566,
          0.000003556207735844197,
          0.000004361059362079089,
          0.000005348108289560116,
          0.000006558521250088489,
          0.000008042929623197637,
          0.00000986326861784903,
          0.000012095588556082504,
          0.00001483315405703678,
          0.000018190311663168757,
          0.000022307327773862795,
          0.00002735595194902629,
          0.00003354742595362836,
          0.00004114006716848806,
          0.000050450843407379153,
          0.00006186897257576263,
          0.00007587077494486394,
          0.0000930415123376882,
          0.00011409867175560251,
          0.0001399178527003997,
          0.0001715823168497721,
          0.00021040683377560043,
          0.000258017650445197,
          0.0003163990267895933,
          0.00038800373812719613,
          0.0004757646574491403,
          0.000583390231764902,
          0.0007153826031225385,
          0.0008771402205884904,
          0.0010754766178937558,
          0.001318611267407288,
          0.0016166367104952784,
          0.0019819355309222964,
          0.002429782975506889,
          0.002978488146949676,
          0.003650723535500333,
          0.0044734049432562095,
          0.005482858165506421,
          0.00671523367198823,
          0.008229173677021695,
          0.010075868852732928,
          0.01233636942148264,
          0.015115630496503663,
          0.018433172961000555,
          0.022562015142283176,
          0.027533061842226925,
          0.033562217966992325,
          0.041081852878889435,
          0.04992828223200485,
          0.06045684554371755,
          0.07322391317138788,
          0.08905874584965856,
          0.10669106872338041,
          0.1281175887494852,
          0.1539384887604922,
          0.1835624894208041,
          0.22131795264373277,
          0.2591096492072711,
          0.29589291237337,
          0.35091412633787744,
          0.3978527280143651,
          0.4700645342423573,
          0.4954882195299892,
          0.5677846886070332,
          0.7182818284590451
         ]
        },
        {
         "mode": "lines",
         "name": "RK 4",
         "type": "scatter",
         "x": [
          1e-7,
          1.226330684177562e-7,
          1.50388694695541e-7,
          1.8442627085855327e-7,
          2.2616759492228645e-7,
          2.7735626141984123e-7,
          3.401304938279253e-7,
          4.171124612056516e-7,
          5.115178099293146e-7,
          6.272899858196243e-7,
          7.692649574879146e-7,
          9.433732216299774e-7,
          0.0000011568875283162833,
          0.0000014187266741165963,
          0.000001739828052930366,
          0.000002133604526501411,
          0.0000026165046987488184,
          0.00000320869999737045,
          0.000003934927263095845,
          0.000004825522042741279,
          0.0000059176857481888185,
          0.000007257039612324216,
          0.000008899530352885224,
          0.000010913767146512737,
          0.000013383887531737564,
          0.0000164130719537513,
          0.000020127853758499385,
          0.00002468340467068651,
          0.000030270016537634617,
          0.000037121050090663645,
          0.000045522682755073095,
          0.000055825862688627005,
          0.00006846096838574658,
          0.00008395578619995104,
          0.00010295755673125127,
          0.00012626001098748563,
          0.0001548365256585499,
          0.00018988078244652632,
          0.00023285662984981966,
          0.0002855592301990109,
          0.00035019004614317094,
          0.00042944879887892723,
          0.0005266462393484276,
          0.0006458424430196978,
          0.0007920164050192549,
          0.0009712740198471167,
          0.0011911031332830068,
          0.0014606863203649888,
          0.001791284454622004,
          0.0021967070907932353,
          0.0026938893095901726,
          0.0033035991201283395,
          0.004051304969235382,
          0.004968239594734388,
          0.00609270466136868,
          0.0074716706758680826,
          0.00916273901188673,
          0.01123654800138751,
          0.013779723598335574,
          0.016898497868124578,
          0.020723146452190297,
          0.025413430367026365,
          0.031165269449294302,
          0.03821892620633119,
          0.046869041923141924,
          0.05747694424835353,
          0.07048574036451903,
          0.0864388262059827,
          0.10600258488068821,
          0.12999422244132458,
          0.15941590374559989,
          0.19549661430912604,
          0.23974349678010773,
          0.29400480643347093,
          0.36054711542505036,
          0.44214999073744876,
          0.5422221006501587,
          0.6649435996665046,
          0.8154407395185163,
          1
         ],
         "y": [
          6.797011842252232e-10,
          5.227644983563096e-10,
          3.158269201719577e-10,
          3.1665958744042655e-10,
          2.5729773867055883e-10,
          1.1809309086174835e-10,
          2.0331691885644432e-10,
          6.862466150892033e-11,
          8.706546594794418e-11,
          7.55426832199646e-11,
          6.152856002472618e-11,
          4.270850340049037e-11,
          2.1795454330231223e-11,
          3.334710285685105e-11,
          1.390043635751681e-11,
          2.135180920959101e-12,
          1.9241497284383513e-11,
          3.3795188869589765e-13,
          1.127808957335219e-11,
          6.254108342318432e-12,
          5.4853899200679734e-12,
          7.684075598035633e-12,
          1.6564527527407336e-12,
          6.5076832811428176e-12,
          3.795186387378635e-12,
          2.0397017408413376e-12,
          1.2385648062718246e-12,
          1.0809131367750524e-12,
          1.5729639812889218e-12,
          9.845457782375888e-13,
          8.006928453596629e-13,
          4.53859172466764e-13,
          2.0117241206207837e-13,
          5.6754601018838e-13,
          3.423927807943983e-13,
          1.234568003383174e-13,
          2.5579538487363607e-13,
          3.3306690738754696e-14,
          1.9628743075372768e-13,
          7.016609515630989e-14,
          1.9628743075372768e-13,
          9.814371537686384e-14,
          5.950795411990839e-14,
          4.574118861455645e-14,
          2.4868995751603507e-14,
          3.375077994860476e-14,
          7.549516567451064e-15,
          1.247890679678676e-13,
          1.9939605522267811e-13,
          5.155875726359227e-13,
          1.1732836924238654e-12,
          2.6894042548519792e-12,
          6.0604854468238045e-12,
          1.3720136138317685e-11,
          3.1035618519581476e-11,
          6.993516876718786e-11,
          1.5824896948402056e-10,
          3.576752227729685e-10,
          8.017289054862431e-10,
          1.815901651269769e-9,
          4.084555804695356e-9,
          9.16976805598324e-9,
          2.076552085839012e-8,
          4.652169049990107e-8,
          1.034905903196659e-7,
          2.3041279639812728e-7,
          5.203156687727528e-7,
          0.0000011251716194315975,
          0.000002502654334879395,
          0.000005407104779475702,
          0.000012259096161759686,
          0.00002749119389244825,
          0.00005880409519898322,
          0.00011741269283094269,
          0.00023498151081247087,
          0.0005310836181342538,
          0.0009892994758859963,
          0.0017720518607156066,
          0.004172423929681202,
          0.009948495125712054
         ]
        },
        {
         "mode": "lines",
         "name": "Heun3 ",
         "type": "scatter",
         "x": [
          1e-7,
          1.226330684177562e-7,
          1.50388694695541e-7,
          1.8442627085855327e-7,
          2.2616759492228645e-7,
          2.7735626141984123e-7,
          3.401304938279253e-7,
          4.171124612056516e-7,
          5.115178099293146e-7,
          6.272899858196243e-7,
          7.692649574879146e-7,
          9.433732216299774e-7,
          0.0000011568875283162833,
          0.0000014187266741165963,
          0.000001739828052930366,
          0.000002133604526501411,
          0.0000026165046987488184,
          0.00000320869999737045,
          0.000003934927263095845,
          0.000004825522042741279,
          0.0000059176857481888185,
          0.000007257039612324216,
          0.000008899530352885224,
          0.000010913767146512737,
          0.000013383887531737564,
          0.0000164130719537513,
          0.000020127853758499385,
          0.00002468340467068651,
          0.000030270016537634617,
          0.000037121050090663645,
          0.000045522682755073095,
          0.000055825862688627005,
          0.00006846096838574658,
          0.00008395578619995104,
          0.00010295755673125127,
          0.00012626001098748563,
          0.0001548365256585499,
          0.00018988078244652632,
          0.00023285662984981966,
          0.0002855592301990109,
          0.00035019004614317094,
          0.00042944879887892723,
          0.0005266462393484276,
          0.0006458424430196978,
          0.0007920164050192549,
          0.0009712740198471167,
          0.0011911031332830068,
          0.0014606863203649888,
          0.001791284454622004,
          0.0021967070907932353,
          0.0026938893095901726,
          0.0033035991201283395,
          0.004051304969235382,
          0.004968239594734388,
          0.00609270466136868,
          0.0074716706758680826,
          0.00916273901188673,
          0.01123654800138751,
          0.013779723598335574,
          0.016898497868124578,
          0.020723146452190297,
          0.025413430367026365,
          0.031165269449294302,
          0.03821892620633119,
          0.046869041923141924,
          0.05747694424835353,
          0.07048574036451903,
          0.0864388262059827,
          0.10600258488068821,
          0.12999422244132458,
          0.15941590374559989,
          0.19549661430912604,
          0.23974349678010773,
          0.29400480643347093,
          0.36054711542505036,
          0.44214999073744876,
          0.5422221006501587,
          0.6649435996665046,
          0.8154407395185163,
          1
         ],
         "y": [
          6.797011842252232e-10,
          5.227644983563096e-10,
          3.158269201719577e-10,
          3.1665958744042655e-10,
          2.5729773867055883e-10,
          1.1809309086174835e-10,
          2.0331691885644432e-10,
          6.862466150892033e-11,
          8.706546594794418e-11,
          7.55426832199646e-11,
          6.152811593551633e-11,
          4.270850340049037e-11,
          2.1795898419441073e-11,
          3.334710285685105e-11,
          1.390043635751681e-11,
          2.135180920959101e-12,
          1.9241497284383513e-11,
          3.3795188869589765e-13,
          1.127897775177189e-11,
          6.2523319854790316e-12,
          5.4853899200679734e-12,
          7.684075598035633e-12,
          1.6564527527407336e-12,
          6.508127370352668e-12,
          3.795186387378635e-12,
          2.0410340084708878e-12,
          1.2381207170619746e-12,
          1.0791367799356522e-12,
          1.5769607841775724e-12,
          9.885425811262394e-13,
          7.882583474838611e-13,
          4.2943426592501055e-13,
          2.398081733190338e-13,
          4.947153797729698e-13,
          4.685141163918161e-13,
          1.0613732115416497e-13,
          1.5942802633617248e-13,
          7.749356711883593e-13,
          1.6178169914837781e-12,
          2.6996183066785306e-12,
          4.6553871868582064e-12,
          9.043876758596525e-12,
          1.6473045150178223e-11,
          3.043920671075284e-11,
          5.618927545469887e-11,
          1.0360112767671126e-10,
          1.910742675192978e-10,
          3.523528135929155e-10,
          6.497278270956031e-10,
          1.1978995573258544e-9,
          2.2082042860915863e-9,
          4.066658565449188e-9,
          7.49624406992666e-9,
          1.3815806720884893e-8,
          2.547133748365127e-8,
          4.684095289420043e-8,
          8.638323212295518e-8,
          1.5922483198593795e-7,
          2.9122746303400504e-7,
          5.376076184226974e-7,
          9.86253554380312e-7,
          0.000001806104942492226,
          0.000003334993647463591,
          0.000006094142717127937,
          0.000011062290602659175,
          0.0000201008915765577,
          0.00003699927041100892,
          0.00006554764453703399,
          0.00011874282982082818,
          0.00021100591942513347,
          0.0003868451578088461,
          0.0007077564409976311,
          0.0012365381129617603,
          0.00202848182760329,
          0.0034213714916071503,
          0.006109491304524095,
          0.00982080385265105,
          0.014175704620200236,
          0.02643761992039062,
          0.05161516179237857
         ]
        },
        {
         "mode": "lines",
         "name": "Ralston 4",
         "type": "scatter",
         "x": [
          1e-7,
          1.226330684177562e-7,
          1.50388694695541e-7,
          1.8442627085855327e-7,
          2.2616759492228645e-7,
          2.7735626141984123e-7,
          3.401304938279253e-7,
          4.171124612056516e-7,
          5.115178099293146e-7,
          6.272899858196243e-7,
          7.692649574879146e-7,
          9.433732216299774e-7,
          0.0000011568875283162833,
          0.0000014187266741165963,
          0.000001739828052930366,
          0.000002133604526501411,
          0.0000026165046987488184,
          0.00000320869999737045,
          0.000003934927263095845,
          0.000004825522042741279,
          0.0000059176857481888185,
          0.000007257039612324216,
          0.000008899530352885224,
          0.000010913767146512737,
          0.000013383887531737564,
          0.0000164130719537513,
          0.000020127853758499385,
          0.00002468340467068651,
          0.000030270016537634617,
          0.000037121050090663645,
          0.000045522682755073095,
          0.000055825862688627005,
          0.00006846096838574658,
          0.00008395578619995104,
          0.00010295755673125127,
          0.00012626001098748563,
          0.0001548365256585499,
          0.00018988078244652632,
          0.00023285662984981966,
          0.0002855592301990109,
          0.00035019004614317094,
          0.00042944879887892723,
          0.0005266462393484276,
          0.0006458424430196978,
          0.0007920164050192549,
          0.0009712740198471167,
          0.0011911031332830068,
          0.0014606863203649888,
          0.001791284454622004,
          0.0021967070907932353,
          0.0026938893095901726,
          0.0033035991201283395,
          0.004051304969235382,
          0.004968239594734388,
          0.00609270466136868,
          0.0074716706758680826,
          0.00916273901188673,
          0.01123654800138751,
          0.013779723598335574,
          0.016898497868124578,
          0.020723146452190297,
          0.025413430367026365,
          0.031165269449294302,
          0.03821892620633119,
          0.046869041923141924,
          0.05747694424835353,
          0.07048574036451903,
          0.0864388262059827,
          0.10600258488068821,
          0.12999422244132458,
          0.15941590374559989,
          0.19549661430912604,
          0.23974349678010773,
          0.29400480643347093,
          0.36054711542505036,
          0.44214999073744876,
          0.5422221006501587,
          0.6649435996665046,
          0.8154407395185163,
          1
         ],
         "y": [
          2.7114848188958263e-7,
          2.7130544699716097e-7,
          2.7214424669352866e-7,
          2.715115186013861e-7,
          2.7157154969259523e-7,
          2.7170962857425707e-7,
          2.7203200847480957e-7,
          2.71896746895095e-7,
          2.717410989561131e-7,
          2.7190405171850784e-7,
          2.718897662568054e-7,
          2.718708769222644e-7,
          2.718497817966181e-7,
          2.7186159945458144e-7,
          2.718420311076386e-7,
          2.7182582007512224e-7,
          2.718475760055128e-7,
          2.7182810224957166e-7,
          2.7183964812493855e-7,
          2.718219760389218e-7,
          2.718337266394144e-7,
          2.7183588890977717e-7,
          2.718266700618699e-7,
          2.718217122499311e-7,
          2.7182454820362523e-7,
          2.71830462583722e-7,
          2.7182721007434907e-7,
          2.7182741124676113e-7,
          2.7183012152320885e-7,
          2.71829649900468e-7,
          2.718280232016923e-7,
          2.7182844419826324e-7,
          2.7182930617541956e-7,
          2.7182871020769994e-7,
          2.7182988349139237e-7,
          2.7182970274708396e-7,
          2.718299580983796e-7,
          2.718306930660219e-7,
          2.718314449090542e-7,
          2.7183199824420967e-7,
          2.7183261597230057e-7,
          2.718339517926438e-7,
          2.718350957664484e-7,
          2.7183668960262253e-7,
          2.718386684641416e-7,
          2.7184102302513224e-7,
          2.7184398954105404e-7,
          2.7184768169874474e-7,
          2.718521514566419e-7,
          2.7185787088157554e-7,
          2.718651379574055e-7,
          2.718747706964564e-7,
          2.7188812401490736e-7,
          2.7190800500065393e-7,
          2.7194039109446067e-7,
          2.719977545417862e-7,
          2.721087981605308e-7,
          2.7233635790935296e-7,
          2.7281427605885256e-7,
          2.738710231930952e-7,
          2.761915749438515e-7,
          2.813406880797231e-7,
          2.9301759552069484e-7,
          3.1887150209186643e-7,
          3.7595995783235026e-7,
          5.030319334409228e-7,
          7.931281635897847e-7,
          0.0000013982098621134753,
          0.0000027759839298369116,
          0.00000568080644436364,
          0.000012533270185688394,
          0.000027766018610986265,
          0.00005907966054774505,
          0.000117689066609028,
          0.0002352591485923483,
          0.0005313626986946929,
          0.0009895805889414966,
          0.0017723340267017385,
          0.004172708910318512,
          0.009948785170130758
         ]
        },
        {
         "mode": "lines",
         "name": "3/8 Rule",
         "type": "scatter",
         "x": [
          1e-7,
          1.226330684177562e-7,
          1.50388694695541e-7,
          1.8442627085855327e-7,
          2.2616759492228645e-7,
          2.7735626141984123e-7,
          3.401304938279253e-7,
          4.171124612056516e-7,
          5.115178099293146e-7,
          6.272899858196243e-7,
          7.692649574879146e-7,
          9.433732216299774e-7,
          0.0000011568875283162833,
          0.0000014187266741165963,
          0.000001739828052930366,
          0.000002133604526501411,
          0.0000026165046987488184,
          0.00000320869999737045,
          0.000003934927263095845,
          0.000004825522042741279,
          0.0000059176857481888185,
          0.000007257039612324216,
          0.000008899530352885224,
          0.000010913767146512737,
          0.000013383887531737564,
          0.0000164130719537513,
          0.000020127853758499385,
          0.00002468340467068651,
          0.000030270016537634617,
          0.000037121050090663645,
          0.000045522682755073095,
          0.000055825862688627005,
          0.00006846096838574658,
          0.00008395578619995104,
          0.00010295755673125127,
          0.00012626001098748563,
          0.0001548365256585499,
          0.00018988078244652632,
          0.00023285662984981966,
          0.0002855592301990109,
          0.00035019004614317094,
          0.00042944879887892723,
          0.0005266462393484276,
          0.0006458424430196978,
          0.0007920164050192549,
          0.0009712740198471167,
          0.0011911031332830068,
          0.0014606863203649888,
          0.001791284454622004,
          0.0021967070907932353,
          0.0026938893095901726,
          0.0033035991201283395,
          0.004051304969235382,
          0.004968239594734388,
          0.00609270466136868,
          0.0074716706758680826,
          0.00916273901188673,
          0.01123654800138751,
          0.013779723598335574,
          0.016898497868124578,
          0.020723146452190297,
          0.025413430367026365,
          0.031165269449294302,
          0.03821892620633119,
          0.046869041923141924,
          0.05747694424835353,
          0.07048574036451903,
          0.0864388262059827,
          0.10600258488068821,
          0.12999422244132458,
          0.15941590374559989,
          0.19549661430912604,
          0.23974349678010773,
          0.29400480643347093,
          0.36054711542505036,
          0.44214999073744876,
          0.5422221006501587,
          0.6649435996665046,
          0.8154407395185163,
          1
         ],
         "y": [
          6.79701628314433e-10,
          5.227644983563096e-10,
          3.158269201719577e-10,
          3.1665958744042655e-10,
          2.5729773867055883e-10,
          1.1809309086174835e-10,
          2.0331691885644432e-10,
          6.862466150892033e-11,
          8.706502185873433e-11,
          7.55426832199646e-11,
          6.152811593551633e-11,
          4.270850340049037e-11,
          2.1795898419441073e-11,
          3.334710285685105e-11,
          1.389999226830696e-11,
          2.135180920959101e-12,
          1.9241497284383513e-11,
          3.3706371027619753e-13,
          1.127897775177189e-11,
          6.2523319854790316e-12,
          5.4853899200679734e-12,
          7.684075598035633e-12,
          1.6564527527407336e-12,
          6.508127370352668e-12,
          3.795186387378635e-12,
          2.0397017408413376e-12,
          1.2385648062718246e-12,
          1.0804690475652023e-12,
          1.5725198920790717e-12,
          9.845457782375888e-13,
          8.006928453596629e-13,
          4.53859172466764e-13,
          2.0161650127192843e-13,
          5.6710192097853e-13,
          3.423927807943983e-13,
          1.2434497875801753e-13,
          2.5579538487363607e-13,
          3.3306690738754696e-14,
          1.9673151996357774e-13,
          7.105427357601002e-14,
          1.9628743075372768e-13,
          9.814371537686384e-14,
          5.950795411990839e-14,
          4.574118861455645e-14,
          2.4424906541753444e-14,
          3.2862601528904634e-14,
          7.549516567451064e-15,
          1.247890679678676e-13,
          1.9939605522267811e-13,
          5.155875726359227e-13,
          1.1732836924238654e-12,
          2.6894042548519792e-12,
          6.0604854468238045e-12,
          1.3720136138317685e-11,
          3.1035618519581476e-11,
          6.993516876718786e-11,
          1.5824941357323041e-10,
          3.5767477868375863e-10,
          8.017289054862431e-10,
          1.8159012071805591e-9,
          4.084555804695356e-9,
          9.16976805598324e-9,
          2.076552085839012e-8,
          4.652168961172265e-8,
          1.034905903196659e-7,
          2.3041279595403807e-7,
          5.203156687727528e-7,
          0.0000011251716194315975,
          0.000002502654334879395,
          0.000005407104779919791,
          0.000012259096161759686,
          0.00002749119389244825,
          0.00005880409519898322,
          0.00011741269283138678,
          0.00023498151081247087,
          0.0005310836181338097,
          0.0009892994758868845,
          0.0017720518607156066,
          0.004172423929681202,
          0.00994849512571161
         ]
        }
       ],
       "frames": [],
       "layout": {
        "height": 350,
        "margin": {
         "b": 50,
         "l": 50,
         "r": 50,
         "t": 60
        },
        "template": {
         "data": {
          "bar": [
           {
            "error_x": {
             "color": "#2a3f5f"
            },
            "error_y": {
             "color": "#2a3f5f"
            },
            "marker": {
             "line": {
              "color": "#E5ECF6",
              "width": 0.5
             }
            },
            "type": "bar"
           }
          ],
          "barpolar": [
           {
            "marker": {
             "line": {
              "color": "#E5ECF6",
              "width": 0.5
             }
            },
            "type": "barpolar"
           }
          ],
          "carpet": [
           {
            "aaxis": {
             "endlinecolor": "#2a3f5f",
             "gridcolor": "white",
             "linecolor": "white",
             "minorgridcolor": "white",
             "startlinecolor": "#2a3f5f"
            },
            "baxis": {
             "endlinecolor": "#2a3f5f",
             "gridcolor": "white",
             "linecolor": "white",
             "minorgridcolor": "white",
             "startlinecolor": "#2a3f5f"
            },
            "type": "carpet"
           }
          ],
          "choropleth": [
           {
            "colorbar": {
             "outlinewidth": 0,
             "ticks": ""
            },
            "type": "choropleth"
           }
          ],
          "contour": [
           {
            "colorbar": {
             "outlinewidth": 0,
             "ticks": ""
            },
            "colorscale": [
             [
              0,
              "#0d0887"
             ],
             [
              0.1111111111111111,
              "#46039f"
             ],
             [
              0.2222222222222222,
              "#7201a8"
             ],
             [
              0.3333333333333333,
              "#9c179e"
             ],
             [
              0.4444444444444444,
              "#bd3786"
             ],
             [
              0.5555555555555556,
              "#d8576b"
             ],
             [
              0.6666666666666666,
              "#ed7953"
             ],
             [
              0.7777777777777778,
              "#fb9f3a"
             ],
             [
              0.8888888888888888,
              "#fdca26"
             ],
             [
              1,
              "#f0f921"
             ]
            ],
            "type": "contour"
           }
          ],
          "contourcarpet": [
           {
            "colorbar": {
             "outlinewidth": 0,
             "ticks": ""
            },
            "type": "contourcarpet"
           }
          ],
          "heatmap": [
           {
            "colorbar": {
             "outlinewidth": 0,
             "ticks": ""
            },
            "colorscale": [
             [
              0,
              "#0d0887"
             ],
             [
              0.1111111111111111,
              "#46039f"
             ],
             [
              0.2222222222222222,
              "#7201a8"
             ],
             [
              0.3333333333333333,
              "#9c179e"
             ],
             [
              0.4444444444444444,
              "#bd3786"
             ],
             [
              0.5555555555555556,
              "#d8576b"
             ],
             [
              0.6666666666666666,
              "#ed7953"
             ],
             [
              0.7777777777777778,
              "#fb9f3a"
             ],
             [
              0.8888888888888888,
              "#fdca26"
             ],
             [
              1,
              "#f0f921"
             ]
            ],
            "type": "heatmap"
           }
          ],
          "heatmapgl": [
           {
            "colorbar": {
             "outlinewidth": 0,
             "ticks": ""
            },
            "colorscale": [
             [
              0,
              "#0d0887"
             ],
             [
              0.1111111111111111,
              "#46039f"
             ],
             [
              0.2222222222222222,
              "#7201a8"
             ],
             [
              0.3333333333333333,
              "#9c179e"
             ],
             [
              0.4444444444444444,
              "#bd3786"
             ],
             [
              0.5555555555555556,
              "#d8576b"
             ],
             [
              0.6666666666666666,
              "#ed7953"
             ],
             [
              0.7777777777777778,
              "#fb9f3a"
             ],
             [
              0.8888888888888888,
              "#fdca26"
             ],
             [
              1,
              "#f0f921"
             ]
            ],
            "type": "heatmapgl"
           }
          ],
          "histogram": [
           {
            "marker": {
             "colorbar": {
              "outlinewidth": 0,
              "ticks": ""
             }
            },
            "type": "histogram"
           }
          ],
          "histogram2d": [
           {
            "colorbar": {
             "outlinewidth": 0,
             "ticks": ""
            },
            "colorscale": [
             [
              0,
              "#0d0887"
             ],
             [
              0.1111111111111111,
              "#46039f"
             ],
             [
              0.2222222222222222,
              "#7201a8"
             ],
             [
              0.3333333333333333,
              "#9c179e"
             ],
             [
              0.4444444444444444,
              "#bd3786"
             ],
             [
              0.5555555555555556,
              "#d8576b"
             ],
             [
              0.6666666666666666,
              "#ed7953"
             ],
             [
              0.7777777777777778,
              "#fb9f3a"
             ],
             [
              0.8888888888888888,
              "#fdca26"
             ],
             [
              1,
              "#f0f921"
             ]
            ],
            "type": "histogram2d"
           }
          ],
          "histogram2dcontour": [
           {
            "colorbar": {
             "outlinewidth": 0,
             "ticks": ""
            },
            "colorscale": [
             [
              0,
              "#0d0887"
             ],
             [
              0.1111111111111111,
              "#46039f"
             ],
             [
              0.2222222222222222,
              "#7201a8"
             ],
             [
              0.3333333333333333,
              "#9c179e"
             ],
             [
              0.4444444444444444,
              "#bd3786"
             ],
             [
              0.5555555555555556,
              "#d8576b"
             ],
             [
              0.6666666666666666,
              "#ed7953"
             ],
             [
              0.7777777777777778,
              "#fb9f3a"
             ],
             [
              0.8888888888888888,
              "#fdca26"
             ],
             [
              1,
              "#f0f921"
             ]
            ],
            "type": "histogram2dcontour"
           }
          ],
          "mesh3d": [
           {
            "colorbar": {
             "outlinewidth": 0,
             "ticks": ""
            },
            "type": "mesh3d"
           }
          ],
          "parcoords": [
           {
            "line": {
             "colorbar": {
              "outlinewidth": 0,
              "ticks": ""
             }
            },
            "type": "parcoords"
           }
          ],
          "pie": [
           {
            "automargin": true,
            "type": "pie"
           }
          ],
          "scatter": [
           {
            "marker": {
             "colorbar": {
              "outlinewidth": 0,
              "ticks": ""
             }
            },
            "type": "scatter"
           }
          ],
          "scatter3d": [
           {
            "line": {
             "colorbar": {
              "outlinewidth": 0,
              "ticks": ""
             }
            },
            "marker": {
             "colorbar": {
              "outlinewidth": 0,
              "ticks": ""
             }
            },
            "type": "scatter3d"
           }
          ],
          "scattercarpet": [
           {
            "marker": {
             "colorbar": {
              "outlinewidth": 0,
              "ticks": ""
             }
            },
            "type": "scattercarpet"
           }
          ],
          "scattergeo": [
           {
            "marker": {
             "colorbar": {
              "outlinewidth": 0,
              "ticks": ""
             }
            },
            "type": "scattergeo"
           }
          ],
          "scattergl": [
           {
            "marker": {
             "colorbar": {
              "outlinewidth": 0,
              "ticks": ""
             }
            },
            "type": "scattergl"
           }
          ],
          "scattermapbox": [
           {
            "marker": {
             "colorbar": {
              "outlinewidth": 0,
              "ticks": ""
             }
            },
            "type": "scattermapbox"
           }
          ],
          "scatterpolar": [
           {
            "marker": {
             "colorbar": {
              "outlinewidth": 0,
              "ticks": ""
             }
            },
            "type": "scatterpolar"
           }
          ],
          "scatterpolargl": [
           {
            "marker": {
             "colorbar": {
              "outlinewidth": 0,
              "ticks": ""
             }
            },
            "type": "scatterpolargl"
           }
          ],
          "scatterternary": [
           {
            "marker": {
             "colorbar": {
              "outlinewidth": 0,
              "ticks": ""
             }
            },
            "type": "scatterternary"
           }
          ],
          "surface": [
           {
            "colorbar": {
             "outlinewidth": 0,
             "ticks": ""
            },
            "colorscale": [
             [
              0,
              "#0d0887"
             ],
             [
              0.1111111111111111,
              "#46039f"
             ],
             [
              0.2222222222222222,
              "#7201a8"
             ],
             [
              0.3333333333333333,
              "#9c179e"
             ],
             [
              0.4444444444444444,
              "#bd3786"
             ],
             [
              0.5555555555555556,
              "#d8576b"
             ],
             [
              0.6666666666666666,
              "#ed7953"
             ],
             [
              0.7777777777777778,
              "#fb9f3a"
             ],
             [
              0.8888888888888888,
              "#fdca26"
             ],
             [
              1,
              "#f0f921"
             ]
            ],
            "type": "surface"
           }
          ],
          "table": [
           {
            "cells": {
             "fill": {
              "color": "#EBF0F8"
             },
             "line": {
              "color": "white"
             }
            },
            "header": {
             "fill": {
              "color": "#C8D4E3"
             },
             "line": {
              "color": "white"
             }
            },
            "type": "table"
           }
          ]
         },
         "layout": {
          "annotationdefaults": {
           "arrowcolor": "#2a3f5f",
           "arrowhead": 0,
           "arrowwidth": 1
          },
          "autotypenumbers": "strict",
          "coloraxis": {
           "colorbar": {
            "outlinewidth": 0,
            "ticks": ""
           }
          },
          "colorscale": {
           "diverging": [
            [
             0,
             "#8e0152"
            ],
            [
             0.1,
             "#c51b7d"
            ],
            [
             0.2,
             "#de77ae"
            ],
            [
             0.3,
             "#f1b6da"
            ],
            [
             0.4,
             "#fde0ef"
            ],
            [
             0.5,
             "#f7f7f7"
            ],
            [
             0.6,
             "#e6f5d0"
            ],
            [
             0.7,
             "#b8e186"
            ],
            [
             0.8,
             "#7fbc41"
            ],
            [
             0.9,
             "#4d9221"
            ],
            [
             1,
             "#276419"
            ]
           ],
           "sequential": [
            [
             0,
             "#0d0887"
            ],
            [
             0.1111111111111111,
             "#46039f"
            ],
            [
             0.2222222222222222,
             "#7201a8"
            ],
            [
             0.3333333333333333,
             "#9c179e"
            ],
            [
             0.4444444444444444,
             "#bd3786"
            ],
            [
             0.5555555555555556,
             "#d8576b"
            ],
            [
             0.6666666666666666,
             "#ed7953"
            ],
            [
             0.7777777777777778,
             "#fb9f3a"
            ],
            [
             0.8888888888888888,
             "#fdca26"
            ],
            [
             1,
             "#f0f921"
            ]
           ],
           "sequentialminus": [
            [
             0,
             "#0d0887"
            ],
            [
             0.1111111111111111,
             "#46039f"
            ],
            [
             0.2222222222222222,
             "#7201a8"
            ],
            [
             0.3333333333333333,
             "#9c179e"
            ],
            [
             0.4444444444444444,
             "#bd3786"
            ],
            [
             0.5555555555555556,
             "#d8576b"
            ],
            [
             0.6666666666666666,
             "#ed7953"
            ],
            [
             0.7777777777777778,
             "#fb9f3a"
            ],
            [
             0.8888888888888888,
             "#fdca26"
            ],
            [
             1,
             "#f0f921"
            ]
           ]
          },
          "colorway": [
           "#636efa",
           "#EF553B",
           "#00cc96",
           "#ab63fa",
           "#FFA15A",
           "#19d3f3",
           "#FF6692",
           "#B6E880",
           "#FF97FF",
           "#FECB52"
          ],
          "font": {
           "color": "#2a3f5f"
          },
          "geo": {
           "bgcolor": "white",
           "lakecolor": "white",
           "landcolor": "#E5ECF6",
           "showlakes": true,
           "showland": true,
           "subunitcolor": "white"
          },
          "hoverlabel": {
           "align": "left"
          },
          "hovermode": "closest",
          "mapbox": {
           "style": "light"
          },
          "paper_bgcolor": "white",
          "plot_bgcolor": "#E5ECF6",
          "polar": {
           "angularaxis": {
            "gridcolor": "white",
            "linecolor": "white",
            "ticks": ""
           },
           "bgcolor": "#E5ECF6",
           "radialaxis": {
            "gridcolor": "white",
            "linecolor": "white",
            "ticks": ""
           }
          },
          "scene": {
           "xaxis": {
            "backgroundcolor": "#E5ECF6",
            "gridcolor": "white",
            "gridwidth": 2,
            "linecolor": "white",
            "showbackground": true,
            "ticks": "",
            "zerolinecolor": "white"
           },
           "yaxis": {
            "backgroundcolor": "#E5ECF6",
            "gridcolor": "white",
            "gridwidth": 2,
            "linecolor": "white",
            "showbackground": true,
            "ticks": "",
            "zerolinecolor": "white"
           },
           "zaxis": {
            "backgroundcolor": "#E5ECF6",
            "gridcolor": "white",
            "gridwidth": 2,
            "linecolor": "white",
            "showbackground": true,
            "ticks": "",
            "zerolinecolor": "white"
           }
          },
          "shapedefaults": {
           "line": {
            "color": "#2a3f5f"
           }
          },
          "ternary": {
           "aaxis": {
            "gridcolor": "white",
            "linecolor": "white",
            "ticks": ""
           },
           "baxis": {
            "gridcolor": "white",
            "linecolor": "white",
            "ticks": ""
           },
           "bgcolor": "#E5ECF6",
           "caxis": {
            "gridcolor": "white",
            "linecolor": "white",
            "ticks": ""
           }
          },
          "title": {
           "x": 0.05
          },
          "xaxis": {
           "automargin": true,
           "gridcolor": "white",
           "linecolor": "white",
           "ticks": "",
           "title": {
            "standoff": 15
           },
           "zerolinecolor": "white",
           "zerolinewidth": 2
          },
          "yaxis": {
           "automargin": true,
           "gridcolor": "white",
           "linecolor": "white",
           "ticks": "",
           "title": {
            "standoff": 15
           },
           "zerolinecolor": "white",
           "zerolinewidth": 2
          }
         }
        },
        "width": 700,
        "xaxis": {
         "exponentformat": "power",
         "title": {
          "text": "Δt"
         },
         "type": "log"
        },
        "yaxis": {
         "exponentformat": "power",
         "title": {
          "text": "error"
         },
         "type": "log"
        }
       }
      },
      "text/html": [
       "<div\n",
       "    class=\"webio-mountpoint\"\n",
       "    data-webio-mountpoint=\"8701719000066842802\"\n",
       ">\n",
       "    <script>\n",
       "    (function(){\n",
       "    // Some integrations (namely, IJulia/Jupyter) use an alternate render pathway than\n",
       "    // just putting the html on the page. If WebIO isn't defined, then it's pretty likely\n",
       "    // that we're in one of those situations and the integration just isn't installed\n",
       "    // correctly.\n",
       "    if (typeof window.WebIO === \"undefined\") {\n",
       "        document\n",
       "            .querySelector('[data-webio-mountpoint=\"8701719000066842802\"]')\n",
       "            .innerHTML = (\n",
       "                '<div style=\"padding: 1em; background-color: #f8d6da; border: 1px solid #f5c6cb; font-weight: bold;\">' +\n",
       "                '<p><strong>WebIO not detected.</strong></p>' +\n",
       "                '<p>Please read ' +\n",
       "                '<a href=\"https://juliagizmos.github.io/WebIO.jl/latest/troubleshooting/not-detected/\" target=\"_blank\">the troubleshooting guide</a> ' +\n",
       "                'for more information on how to resolve this issue.</p>' +\n",
       "                '<p><a href=\"https://juliagizmos.github.io/WebIO.jl/latest/troubleshooting/not-detected/\" target=\"_blank\">https://juliagizmos.github.io/WebIO.jl/latest/troubleshooting/not-detected/</a></p>' +\n",
       "                '</div>'\n",
       "            );\n",
       "        return;\n",
       "    }\n",
       "    WebIO.mount(\n",
       "        document.querySelector('[data-webio-mountpoint=\"8701719000066842802\"]'),\n",
       "        {\"props\":{},\"nodeType\":\"Scope\",\"type\":\"node\",\"instanceArgs\":{\"imports\":{\"data\":[{\"name\":\"Plotly\",\"type\":\"js\",\"url\":\"\\/assetserver\\/5b0bcbbb362c204ec77e728ffa8c7da4be28ce8a-plotly.min.js\"},{\"name\":null,\"type\":\"js\",\"url\":\"\\/assetserver\\/6303ac4e25f5217851dbb12ecf3059151c237374-plotly_webio.bundle.js\"}],\"type\":\"async_block\"},\"id\":\"15217850506293025622\",\"handlers\":{\"_toImage\":[\"(function (options){return this.Plotly.toImage(this.plotElem,options).then((function (data){return WebIO.setval({\\\"name\\\":\\\"image\\\",\\\"scope\\\":\\\"15217850506293025622\\\",\\\"id\\\":\\\"3935488650785020355\\\",\\\"type\\\":\\\"observable\\\"},data)}))})\"],\"__get_gd_contents\":[\"(function (prop){prop==\\\"data\\\" ? (WebIO.setval({\\\"name\\\":\\\"__gd_contents\\\",\\\"scope\\\":\\\"15217850506293025622\\\",\\\"id\\\":\\\"7566859176696727788\\\",\\\"type\\\":\\\"observable\\\"},this.plotElem.data)) : undefined; return prop==\\\"layout\\\" ? (WebIO.setval({\\\"name\\\":\\\"__gd_contents\\\",\\\"scope\\\":\\\"15217850506293025622\\\",\\\"id\\\":\\\"7566859176696727788\\\",\\\"type\\\":\\\"observable\\\"},this.plotElem.layout)) : undefined})\"],\"_downloadImage\":[\"(function (options){return this.Plotly.downloadImage(this.plotElem,options)})\"],\"_commands\":[\"(function (args){var fn=args.shift(); var elem=this.plotElem; var Plotly=this.Plotly; args.unshift(elem); return Plotly[fn].apply(this,args)})\"]},\"systemjs_options\":null,\"mount_callbacks\":[\"function () {\\n    var handler = ((function (Plotly,PlotlyWebIO){PlotlyWebIO.init(WebIO); var gd=this.dom.querySelector(\\\"#plot-40cd1ab7-72c7-496e-bc2f-6227d5a445d2\\\"); this.plotElem=gd; this.Plotly=Plotly; (window.Blink!==undefined) ? (gd.style.width=\\\"100%\\\", gd.style.height=\\\"100vh\\\", gd.style.marginLeft=\\\"0%\\\", gd.style.marginTop=\\\"0vh\\\") : undefined; window.onresize=(function (){return Plotly.Plots.resize(gd)}); Plotly.newPlot(gd,[{\\\"mode\\\":\\\"lines\\\",\\\"y\\\":[1.352358691697475e-7,1.661531410235284e-7,2.0471520523202003e-7,2.5034462325379536e-7,3.0713649890046213e-7,3.7684768372514554e-7,4.624884657467021e-7,5.669829419296946e-7,6.951376323449665e-7,8.526508770145824e-7,1.0455999017722206e-6,1.2822184318750374e-6,1.5723930113509255e-6,1.92827948097829e-6,2.364680488753379e-6,2.899859911753566e-6,3.556207735844197e-6,4.361059362079089e-6,5.348108289560116e-6,6.558521250088489e-6,8.042929623197637e-6,9.86326861784903e-6,1.2095588556082504e-5,1.483315405703678e-5,1.8190311663168757e-5,2.2307327773862795e-5,2.735595194902629e-5,3.354742595362836e-5,4.114006716848806e-5,5.0450843407379153e-5,6.186897257576263e-5,7.587077494486394e-5,9.30415123376882e-5,0.00011409867175560251,0.0001399178527003997,0.0001715823168497721,0.00021040683377560043,0.000258017650445197,0.0003163990267895933,0.00038800373812719613,0.0004757646574491403,0.000583390231764902,0.0007153826031225385,0.0008771402205884904,0.0010754766178937558,0.001318611267407288,0.0016166367104952784,0.0019819355309222964,0.002429782975506889,0.002978488146949676,0.003650723535500333,0.0044734049432562095,0.005482858165506421,0.00671523367198823,0.008229173677021695,0.010075868852732928,0.01233636942148264,0.015115630496503663,0.018433172961000555,0.022562015142283176,0.027533061842226925,0.033562217966992325,0.041081852878889435,0.04992828223200485,0.06045684554371755,0.07322391317138788,0.08905874584965856,0.10669106872338041,0.1281175887494852,0.1539384887604922,0.1835624894208041,0.22131795264373277,0.2591096492072711,0.29589291237337,0.35091412633787744,0.3978527280143651,0.4700645342423573,0.4954882195299892,0.5677846886070332,0.7182818284590451],\\\"type\\\":\\\"scatter\\\",\\\"name\\\":\\\"Euler\\\",\\\"x\\\":[1.0e-7,1.226330684177562e-7,1.50388694695541e-7,1.8442627085855327e-7,2.2616759492228645e-7,2.7735626141984123e-7,3.401304938279253e-7,4.171124612056516e-7,5.115178099293146e-7,6.272899858196243e-7,7.692649574879146e-7,9.433732216299774e-7,1.1568875283162833e-6,1.4187266741165963e-6,1.739828052930366e-6,2.133604526501411e-6,2.6165046987488184e-6,3.20869999737045e-6,3.934927263095845e-6,4.825522042741279e-6,5.9176857481888185e-6,7.257039612324216e-6,8.899530352885224e-6,1.0913767146512737e-5,1.3383887531737564e-5,1.64130719537513e-5,2.0127853758499385e-5,2.468340467068651e-5,3.0270016537634617e-5,3.7121050090663645e-5,4.5522682755073095e-5,5.5825862688627005e-5,6.846096838574658e-5,8.395578619995104e-5,0.00010295755673125127,0.00012626001098748563,0.0001548365256585499,0.00018988078244652632,0.00023285662984981966,0.0002855592301990109,0.00035019004614317094,0.00042944879887892723,0.0005266462393484276,0.0006458424430196978,0.0007920164050192549,0.0009712740198471167,0.0011911031332830068,0.0014606863203649888,0.001791284454622004,0.0021967070907932353,0.0026938893095901726,0.0033035991201283395,0.004051304969235382,0.004968239594734388,0.00609270466136868,0.0074716706758680826,0.00916273901188673,0.01123654800138751,0.013779723598335574,0.016898497868124578,0.020723146452190297,0.025413430367026365,0.031165269449294302,0.03821892620633119,0.046869041923141924,0.05747694424835353,0.07048574036451903,0.0864388262059827,0.10600258488068821,0.12999422244132458,0.15941590374559989,0.19549661430912604,0.23974349678010773,0.29400480643347093,0.36054711542505036,0.44214999073744876,0.5422221006501587,0.6649435996665046,0.8154407395185163,1.0]},{\\\"mode\\\":\\\"lines\\\",\\\"y\\\":[6.797011842252232e-10,5.227644983563096e-10,3.158269201719577e-10,3.1665958744042655e-10,2.5729773867055883e-10,1.1809309086174835e-10,2.0331691885644432e-10,6.862466150892033e-11,8.706546594794418e-11,7.55426832199646e-11,6.152856002472618e-11,4.270850340049037e-11,2.1795454330231223e-11,3.334710285685105e-11,1.390043635751681e-11,2.135180920959101e-12,1.9241497284383513e-11,3.3795188869589765e-13,1.127808957335219e-11,6.254108342318432e-12,5.4853899200679734e-12,7.684075598035633e-12,1.6564527527407336e-12,6.5076832811428176e-12,3.795186387378635e-12,2.0397017408413376e-12,1.2385648062718246e-12,1.0809131367750524e-12,1.5729639812889218e-12,9.845457782375888e-13,8.006928453596629e-13,4.53859172466764e-13,2.0117241206207837e-13,5.6754601018838e-13,3.423927807943983e-13,1.234568003383174e-13,2.5579538487363607e-13,3.3306690738754696e-14,1.9628743075372768e-13,7.016609515630989e-14,1.9628743075372768e-13,9.814371537686384e-14,5.950795411990839e-14,4.574118861455645e-14,2.4868995751603507e-14,3.375077994860476e-14,7.549516567451064e-15,1.247890679678676e-13,1.9939605522267811e-13,5.155875726359227e-13,1.1732836924238654e-12,2.6894042548519792e-12,6.0604854468238045e-12,1.3720136138317685e-11,3.1035618519581476e-11,6.993516876718786e-11,1.5824896948402056e-10,3.576752227729685e-10,8.017289054862431e-10,1.815901651269769e-9,4.084555804695356e-9,9.16976805598324e-9,2.076552085839012e-8,4.652169049990107e-8,1.034905903196659e-7,2.3041279639812728e-7,5.203156687727528e-7,1.1251716194315975e-6,2.502654334879395e-6,5.407104779475702e-6,1.2259096161759686e-5,2.749119389244825e-5,5.880409519898322e-5,0.00011741269283094269,0.00023498151081247087,0.0005310836181342538,0.0009892994758859963,0.0017720518607156066,0.004172423929681202,0.009948495125712054],\\\"type\\\":\\\"scatter\\\",\\\"name\\\":\\\"RK 4\\\",\\\"x\\\":[1.0e-7,1.226330684177562e-7,1.50388694695541e-7,1.8442627085855327e-7,2.2616759492228645e-7,2.7735626141984123e-7,3.401304938279253e-7,4.171124612056516e-7,5.115178099293146e-7,6.272899858196243e-7,7.692649574879146e-7,9.433732216299774e-7,1.1568875283162833e-6,1.4187266741165963e-6,1.739828052930366e-6,2.133604526501411e-6,2.6165046987488184e-6,3.20869999737045e-6,3.934927263095845e-6,4.825522042741279e-6,5.9176857481888185e-6,7.257039612324216e-6,8.899530352885224e-6,1.0913767146512737e-5,1.3383887531737564e-5,1.64130719537513e-5,2.0127853758499385e-5,2.468340467068651e-5,3.0270016537634617e-5,3.7121050090663645e-5,4.5522682755073095e-5,5.5825862688627005e-5,6.846096838574658e-5,8.395578619995104e-5,0.00010295755673125127,0.00012626001098748563,0.0001548365256585499,0.00018988078244652632,0.00023285662984981966,0.0002855592301990109,0.00035019004614317094,0.00042944879887892723,0.0005266462393484276,0.0006458424430196978,0.0007920164050192549,0.0009712740198471167,0.0011911031332830068,0.0014606863203649888,0.001791284454622004,0.0021967070907932353,0.0026938893095901726,0.0033035991201283395,0.004051304969235382,0.004968239594734388,0.00609270466136868,0.0074716706758680826,0.00916273901188673,0.01123654800138751,0.013779723598335574,0.016898497868124578,0.020723146452190297,0.025413430367026365,0.031165269449294302,0.03821892620633119,0.046869041923141924,0.05747694424835353,0.07048574036451903,0.0864388262059827,0.10600258488068821,0.12999422244132458,0.15941590374559989,0.19549661430912604,0.23974349678010773,0.29400480643347093,0.36054711542505036,0.44214999073744876,0.5422221006501587,0.6649435996665046,0.8154407395185163,1.0]},{\\\"mode\\\":\\\"lines\\\",\\\"y\\\":[6.797011842252232e-10,5.227644983563096e-10,3.158269201719577e-10,3.1665958744042655e-10,2.5729773867055883e-10,1.1809309086174835e-10,2.0331691885644432e-10,6.862466150892033e-11,8.706546594794418e-11,7.55426832199646e-11,6.152811593551633e-11,4.270850340049037e-11,2.1795898419441073e-11,3.334710285685105e-11,1.390043635751681e-11,2.135180920959101e-12,1.9241497284383513e-11,3.3795188869589765e-13,1.127897775177189e-11,6.2523319854790316e-12,5.4853899200679734e-12,7.684075598035633e-12,1.6564527527407336e-12,6.508127370352668e-12,3.795186387378635e-12,2.0410340084708878e-12,1.2381207170619746e-12,1.0791367799356522e-12,1.5769607841775724e-12,9.885425811262394e-13,7.882583474838611e-13,4.2943426592501055e-13,2.398081733190338e-13,4.947153797729698e-13,4.685141163918161e-13,1.0613732115416497e-13,1.5942802633617248e-13,7.749356711883593e-13,1.6178169914837781e-12,2.6996183066785306e-12,4.6553871868582064e-12,9.043876758596525e-12,1.6473045150178223e-11,3.043920671075284e-11,5.618927545469887e-11,1.0360112767671126e-10,1.910742675192978e-10,3.523528135929155e-10,6.497278270956031e-10,1.1978995573258544e-9,2.2082042860915863e-9,4.066658565449188e-9,7.49624406992666e-9,1.3815806720884893e-8,2.547133748365127e-8,4.684095289420043e-8,8.638323212295518e-8,1.5922483198593795e-7,2.9122746303400504e-7,5.376076184226974e-7,9.86253554380312e-7,1.806104942492226e-6,3.334993647463591e-6,6.094142717127937e-6,1.1062290602659175e-5,2.01008915765577e-5,3.699927041100892e-5,6.554764453703399e-5,0.00011874282982082818,0.00021100591942513347,0.0003868451578088461,0.0007077564409976311,0.0012365381129617603,0.00202848182760329,0.0034213714916071503,0.006109491304524095,0.00982080385265105,0.014175704620200236,0.02643761992039062,0.05161516179237857],\\\"type\\\":\\\"scatter\\\",\\\"name\\\":\\\"Heun3 \\\",\\\"x\\\":[1.0e-7,1.226330684177562e-7,1.50388694695541e-7,1.8442627085855327e-7,2.2616759492228645e-7,2.7735626141984123e-7,3.401304938279253e-7,4.171124612056516e-7,5.115178099293146e-7,6.272899858196243e-7,7.692649574879146e-7,9.433732216299774e-7,1.1568875283162833e-6,1.4187266741165963e-6,1.739828052930366e-6,2.133604526501411e-6,2.6165046987488184e-6,3.20869999737045e-6,3.934927263095845e-6,4.825522042741279e-6,5.9176857481888185e-6,7.257039612324216e-6,8.899530352885224e-6,1.0913767146512737e-5,1.3383887531737564e-5,1.64130719537513e-5,2.0127853758499385e-5,2.468340467068651e-5,3.0270016537634617e-5,3.7121050090663645e-5,4.5522682755073095e-5,5.5825862688627005e-5,6.846096838574658e-5,8.395578619995104e-5,0.00010295755673125127,0.00012626001098748563,0.0001548365256585499,0.00018988078244652632,0.00023285662984981966,0.0002855592301990109,0.00035019004614317094,0.00042944879887892723,0.0005266462393484276,0.0006458424430196978,0.0007920164050192549,0.0009712740198471167,0.0011911031332830068,0.0014606863203649888,0.001791284454622004,0.0021967070907932353,0.0026938893095901726,0.0033035991201283395,0.004051304969235382,0.004968239594734388,0.00609270466136868,0.0074716706758680826,0.00916273901188673,0.01123654800138751,0.013779723598335574,0.016898497868124578,0.020723146452190297,0.025413430367026365,0.031165269449294302,0.03821892620633119,0.046869041923141924,0.05747694424835353,0.07048574036451903,0.0864388262059827,0.10600258488068821,0.12999422244132458,0.15941590374559989,0.19549661430912604,0.23974349678010773,0.29400480643347093,0.36054711542505036,0.44214999073744876,0.5422221006501587,0.6649435996665046,0.8154407395185163,1.0]},{\\\"mode\\\":\\\"lines\\\",\\\"y\\\":[2.7114848188958263e-7,2.7130544699716097e-7,2.7214424669352866e-7,2.715115186013861e-7,2.7157154969259523e-7,2.7170962857425707e-7,2.7203200847480957e-7,2.71896746895095e-7,2.717410989561131e-7,2.7190405171850784e-7,2.718897662568054e-7,2.718708769222644e-7,2.718497817966181e-7,2.7186159945458144e-7,2.718420311076386e-7,2.7182582007512224e-7,2.718475760055128e-7,2.7182810224957166e-7,2.7183964812493855e-7,2.718219760389218e-7,2.718337266394144e-7,2.7183588890977717e-7,2.718266700618699e-7,2.718217122499311e-7,2.7182454820362523e-7,2.71830462583722e-7,2.7182721007434907e-7,2.7182741124676113e-7,2.7183012152320885e-7,2.71829649900468e-7,2.718280232016923e-7,2.7182844419826324e-7,2.7182930617541956e-7,2.7182871020769994e-7,2.7182988349139237e-7,2.7182970274708396e-7,2.718299580983796e-7,2.718306930660219e-7,2.718314449090542e-7,2.7183199824420967e-7,2.7183261597230057e-7,2.718339517926438e-7,2.718350957664484e-7,2.7183668960262253e-7,2.718386684641416e-7,2.7184102302513224e-7,2.7184398954105404e-7,2.7184768169874474e-7,2.718521514566419e-7,2.7185787088157554e-7,2.718651379574055e-7,2.718747706964564e-7,2.7188812401490736e-7,2.7190800500065393e-7,2.7194039109446067e-7,2.719977545417862e-7,2.721087981605308e-7,2.7233635790935296e-7,2.7281427605885256e-7,2.738710231930952e-7,2.761915749438515e-7,2.813406880797231e-7,2.9301759552069484e-7,3.1887150209186643e-7,3.7595995783235026e-7,5.030319334409228e-7,7.931281635897847e-7,1.3982098621134753e-6,2.7759839298369116e-6,5.68080644436364e-6,1.2533270185688394e-5,2.7766018610986265e-5,5.907966054774505e-5,0.000117689066609028,0.0002352591485923483,0.0005313626986946929,0.0009895805889414966,0.0017723340267017385,0.004172708910318512,0.009948785170130758],\\\"type\\\":\\\"scatter\\\",\\\"name\\\":\\\"Ralston 4\\\",\\\"x\\\":[1.0e-7,1.226330684177562e-7,1.50388694695541e-7,1.8442627085855327e-7,2.2616759492228645e-7,2.7735626141984123e-7,3.401304938279253e-7,4.171124612056516e-7,5.115178099293146e-7,6.272899858196243e-7,7.692649574879146e-7,9.433732216299774e-7,1.1568875283162833e-6,1.4187266741165963e-6,1.739828052930366e-6,2.133604526501411e-6,2.6165046987488184e-6,3.20869999737045e-6,3.934927263095845e-6,4.825522042741279e-6,5.9176857481888185e-6,7.257039612324216e-6,8.899530352885224e-6,1.0913767146512737e-5,1.3383887531737564e-5,1.64130719537513e-5,2.0127853758499385e-5,2.468340467068651e-5,3.0270016537634617e-5,3.7121050090663645e-5,4.5522682755073095e-5,5.5825862688627005e-5,6.846096838574658e-5,8.395578619995104e-5,0.00010295755673125127,0.00012626001098748563,0.0001548365256585499,0.00018988078244652632,0.00023285662984981966,0.0002855592301990109,0.00035019004614317094,0.00042944879887892723,0.0005266462393484276,0.0006458424430196978,0.0007920164050192549,0.0009712740198471167,0.0011911031332830068,0.0014606863203649888,0.001791284454622004,0.0021967070907932353,0.0026938893095901726,0.0033035991201283395,0.004051304969235382,0.004968239594734388,0.00609270466136868,0.0074716706758680826,0.00916273901188673,0.01123654800138751,0.013779723598335574,0.016898497868124578,0.020723146452190297,0.025413430367026365,0.031165269449294302,0.03821892620633119,0.046869041923141924,0.05747694424835353,0.07048574036451903,0.0864388262059827,0.10600258488068821,0.12999422244132458,0.15941590374559989,0.19549661430912604,0.23974349678010773,0.29400480643347093,0.36054711542505036,0.44214999073744876,0.5422221006501587,0.6649435996665046,0.8154407395185163,1.0]},{\\\"mode\\\":\\\"lines\\\",\\\"y\\\":[6.79701628314433e-10,5.227644983563096e-10,3.158269201719577e-10,3.1665958744042655e-10,2.5729773867055883e-10,1.1809309086174835e-10,2.0331691885644432e-10,6.862466150892033e-11,8.706502185873433e-11,7.55426832199646e-11,6.152811593551633e-11,4.270850340049037e-11,2.1795898419441073e-11,3.334710285685105e-11,1.389999226830696e-11,2.135180920959101e-12,1.9241497284383513e-11,3.3706371027619753e-13,1.127897775177189e-11,6.2523319854790316e-12,5.4853899200679734e-12,7.684075598035633e-12,1.6564527527407336e-12,6.508127370352668e-12,3.795186387378635e-12,2.0397017408413376e-12,1.2385648062718246e-12,1.0804690475652023e-12,1.5725198920790717e-12,9.845457782375888e-13,8.006928453596629e-13,4.53859172466764e-13,2.0161650127192843e-13,5.6710192097853e-13,3.423927807943983e-13,1.2434497875801753e-13,2.5579538487363607e-13,3.3306690738754696e-14,1.9673151996357774e-13,7.105427357601002e-14,1.9628743075372768e-13,9.814371537686384e-14,5.950795411990839e-14,4.574118861455645e-14,2.4424906541753444e-14,3.2862601528904634e-14,7.549516567451064e-15,1.247890679678676e-13,1.9939605522267811e-13,5.155875726359227e-13,1.1732836924238654e-12,2.6894042548519792e-12,6.0604854468238045e-12,1.3720136138317685e-11,3.1035618519581476e-11,6.993516876718786e-11,1.5824941357323041e-10,3.5767477868375863e-10,8.017289054862431e-10,1.8159012071805591e-9,4.084555804695356e-9,9.16976805598324e-9,2.076552085839012e-8,4.652168961172265e-8,1.034905903196659e-7,2.3041279595403807e-7,5.203156687727528e-7,1.1251716194315975e-6,2.502654334879395e-6,5.407104779919791e-6,1.2259096161759686e-5,2.749119389244825e-5,5.880409519898322e-5,0.00011741269283138678,0.00023498151081247087,0.0005310836181338097,0.0009892994758868845,0.0017720518607156066,0.004172423929681202,0.00994849512571161],\\\"type\\\":\\\"scatter\\\",\\\"name\\\":\\\"3\\/8 Rule\\\",\\\"x\\\":[1.0e-7,1.226330684177562e-7,1.50388694695541e-7,1.8442627085855327e-7,2.2616759492228645e-7,2.7735626141984123e-7,3.401304938279253e-7,4.171124612056516e-7,5.115178099293146e-7,6.272899858196243e-7,7.692649574879146e-7,9.433732216299774e-7,1.1568875283162833e-6,1.4187266741165963e-6,1.739828052930366e-6,2.133604526501411e-6,2.6165046987488184e-6,3.20869999737045e-6,3.934927263095845e-6,4.825522042741279e-6,5.9176857481888185e-6,7.257039612324216e-6,8.899530352885224e-6,1.0913767146512737e-5,1.3383887531737564e-5,1.64130719537513e-5,2.0127853758499385e-5,2.468340467068651e-5,3.0270016537634617e-5,3.7121050090663645e-5,4.5522682755073095e-5,5.5825862688627005e-5,6.846096838574658e-5,8.395578619995104e-5,0.00010295755673125127,0.00012626001098748563,0.0001548365256585499,0.00018988078244652632,0.00023285662984981966,0.0002855592301990109,0.00035019004614317094,0.00042944879887892723,0.0005266462393484276,0.0006458424430196978,0.0007920164050192549,0.0009712740198471167,0.0011911031332830068,0.0014606863203649888,0.001791284454622004,0.0021967070907932353,0.0026938893095901726,0.0033035991201283395,0.004051304969235382,0.004968239594734388,0.00609270466136868,0.0074716706758680826,0.00916273901188673,0.01123654800138751,0.013779723598335574,0.016898497868124578,0.020723146452190297,0.025413430367026365,0.031165269449294302,0.03821892620633119,0.046869041923141924,0.05747694424835353,0.07048574036451903,0.0864388262059827,0.10600258488068821,0.12999422244132458,0.15941590374559989,0.19549661430912604,0.23974349678010773,0.29400480643347093,0.36054711542505036,0.44214999073744876,0.5422221006501587,0.6649435996665046,0.8154407395185163,1.0]}],{\\\"xaxis\\\":{\\\"type\\\":\\\"log\\\",\\\"title\\\":{\\\"text\\\":\\\"Δt\\\"},\\\"exponentformat\\\":\\\"power\\\"},\\\"template\\\":{\\\"layout\\\":{\\\"coloraxis\\\":{\\\"colorbar\\\":{\\\"ticks\\\":\\\"\\\",\\\"outlinewidth\\\":0}},\\\"xaxis\\\":{\\\"gridcolor\\\":\\\"white\\\",\\\"zerolinewidth\\\":2,\\\"title\\\":{\\\"standoff\\\":15},\\\"ticks\\\":\\\"\\\",\\\"zerolinecolor\\\":\\\"white\\\",\\\"automargin\\\":true,\\\"linecolor\\\":\\\"white\\\"},\\\"hovermode\\\":\\\"closest\\\",\\\"paper_bgcolor\\\":\\\"white\\\",\\\"geo\\\":{\\\"showlakes\\\":true,\\\"showland\\\":true,\\\"landcolor\\\":\\\"#E5ECF6\\\",\\\"bgcolor\\\":\\\"white\\\",\\\"subunitcolor\\\":\\\"white\\\",\\\"lakecolor\\\":\\\"white\\\"},\\\"colorscale\\\":{\\\"sequential\\\":[[0.0,\\\"#0d0887\\\"],[0.1111111111111111,\\\"#46039f\\\"],[0.2222222222222222,\\\"#7201a8\\\"],[0.3333333333333333,\\\"#9c179e\\\"],[0.4444444444444444,\\\"#bd3786\\\"],[0.5555555555555556,\\\"#d8576b\\\"],[0.6666666666666666,\\\"#ed7953\\\"],[0.7777777777777778,\\\"#fb9f3a\\\"],[0.8888888888888888,\\\"#fdca26\\\"],[1.0,\\\"#f0f921\\\"]],\\\"diverging\\\":[[0,\\\"#8e0152\\\"],[0.1,\\\"#c51b7d\\\"],[0.2,\\\"#de77ae\\\"],[0.3,\\\"#f1b6da\\\"],[0.4,\\\"#fde0ef\\\"],[0.5,\\\"#f7f7f7\\\"],[0.6,\\\"#e6f5d0\\\"],[0.7,\\\"#b8e186\\\"],[0.8,\\\"#7fbc41\\\"],[0.9,\\\"#4d9221\\\"],[1,\\\"#276419\\\"]],\\\"sequentialminus\\\":[[0.0,\\\"#0d0887\\\"],[0.1111111111111111,\\\"#46039f\\\"],[0.2222222222222222,\\\"#7201a8\\\"],[0.3333333333333333,\\\"#9c179e\\\"],[0.4444444444444444,\\\"#bd3786\\\"],[0.5555555555555556,\\\"#d8576b\\\"],[0.6666666666666666,\\\"#ed7953\\\"],[0.7777777777777778,\\\"#fb9f3a\\\"],[0.8888888888888888,\\\"#fdca26\\\"],[1.0,\\\"#f0f921\\\"]]},\\\"yaxis\\\":{\\\"gridcolor\\\":\\\"white\\\",\\\"zerolinewidth\\\":2,\\\"title\\\":{\\\"standoff\\\":15},\\\"ticks\\\":\\\"\\\",\\\"zerolinecolor\\\":\\\"white\\\",\\\"automargin\\\":true,\\\"linecolor\\\":\\\"white\\\"},\\\"shapedefaults\\\":{\\\"line\\\":{\\\"color\\\":\\\"#2a3f5f\\\"}},\\\"hoverlabel\\\":{\\\"align\\\":\\\"left\\\"},\\\"mapbox\\\":{\\\"style\\\":\\\"light\\\"},\\\"polar\\\":{\\\"angularaxis\\\":{\\\"gridcolor\\\":\\\"white\\\",\\\"ticks\\\":\\\"\\\",\\\"linecolor\\\":\\\"white\\\"},\\\"bgcolor\\\":\\\"#E5ECF6\\\",\\\"radialaxis\\\":{\\\"gridcolor\\\":\\\"white\\\",\\\"ticks\\\":\\\"\\\",\\\"linecolor\\\":\\\"white\\\"}},\\\"autotypenumbers\\\":\\\"strict\\\",\\\"font\\\":{\\\"color\\\":\\\"#2a3f5f\\\"},\\\"ternary\\\":{\\\"baxis\\\":{\\\"gridcolor\\\":\\\"white\\\",\\\"ticks\\\":\\\"\\\",\\\"linecolor\\\":\\\"white\\\"},\\\"bgcolor\\\":\\\"#E5ECF6\\\",\\\"caxis\\\":{\\\"gridcolor\\\":\\\"white\\\",\\\"ticks\\\":\\\"\\\",\\\"linecolor\\\":\\\"white\\\"},\\\"aaxis\\\":{\\\"gridcolor\\\":\\\"white\\\",\\\"ticks\\\":\\\"\\\",\\\"linecolor\\\":\\\"white\\\"}},\\\"annotationdefaults\\\":{\\\"arrowhead\\\":0,\\\"arrowwidth\\\":1,\\\"arrowcolor\\\":\\\"#2a3f5f\\\"},\\\"plot_bgcolor\\\":\\\"#E5ECF6\\\",\\\"title\\\":{\\\"x\\\":0.05},\\\"scene\\\":{\\\"xaxis\\\":{\\\"gridcolor\\\":\\\"white\\\",\\\"gridwidth\\\":2,\\\"backgroundcolor\\\":\\\"#E5ECF6\\\",\\\"ticks\\\":\\\"\\\",\\\"showbackground\\\":true,\\\"zerolinecolor\\\":\\\"white\\\",\\\"linecolor\\\":\\\"white\\\"},\\\"zaxis\\\":{\\\"gridcolor\\\":\\\"white\\\",\\\"gridwidth\\\":2,\\\"backgroundcolor\\\":\\\"#E5ECF6\\\",\\\"ticks\\\":\\\"\\\",\\\"showbackground\\\":true,\\\"zerolinecolor\\\":\\\"white\\\",\\\"linecolor\\\":\\\"white\\\"},\\\"yaxis\\\":{\\\"gridcolor\\\":\\\"white\\\",\\\"gridwidth\\\":2,\\\"backgroundcolor\\\":\\\"#E5ECF6\\\",\\\"ticks\\\":\\\"\\\",\\\"showbackground\\\":true,\\\"zerolinecolor\\\":\\\"white\\\",\\\"linecolor\\\":\\\"white\\\"}},\\\"colorway\\\":[\\\"#636efa\\\",\\\"#EF553B\\\",\\\"#00cc96\\\",\\\"#ab63fa\\\",\\\"#FFA15A\\\",\\\"#19d3f3\\\",\\\"#FF6692\\\",\\\"#B6E880\\\",\\\"#FF97FF\\\",\\\"#FECB52\\\"]},\\\"data\\\":{\\\"barpolar\\\":[{\\\"type\\\":\\\"barpolar\\\",\\\"marker\\\":{\\\"line\\\":{\\\"color\\\":\\\"#E5ECF6\\\",\\\"width\\\":0.5}}}],\\\"carpet\\\":[{\\\"aaxis\\\":{\\\"gridcolor\\\":\\\"white\\\",\\\"endlinecolor\\\":\\\"#2a3f5f\\\",\\\"minorgridcolor\\\":\\\"white\\\",\\\"startlinecolor\\\":\\\"#2a3f5f\\\",\\\"linecolor\\\":\\\"white\\\"},\\\"type\\\":\\\"carpet\\\",\\\"baxis\\\":{\\\"gridcolor\\\":\\\"white\\\",\\\"endlinecolor\\\":\\\"#2a3f5f\\\",\\\"minorgridcolor\\\":\\\"white\\\",\\\"startlinecolor\\\":\\\"#2a3f5f\\\",\\\"linecolor\\\":\\\"white\\\"}}],\\\"scatterpolar\\\":[{\\\"type\\\":\\\"scatterpolar\\\",\\\"marker\\\":{\\\"colorbar\\\":{\\\"ticks\\\":\\\"\\\",\\\"outlinewidth\\\":0}}}],\\\"parcoords\\\":[{\\\"line\\\":{\\\"colorbar\\\":{\\\"ticks\\\":\\\"\\\",\\\"outlinewidth\\\":0}},\\\"type\\\":\\\"parcoords\\\"}],\\\"scatter\\\":[{\\\"type\\\":\\\"scatter\\\",\\\"marker\\\":{\\\"colorbar\\\":{\\\"ticks\\\":\\\"\\\",\\\"outlinewidth\\\":0}}}],\\\"histogram2dcontour\\\":[{\\\"colorbar\\\":{\\\"ticks\\\":\\\"\\\",\\\"outlinewidth\\\":0},\\\"type\\\":\\\"histogram2dcontour\\\",\\\"colorscale\\\":[[0.0,\\\"#0d0887\\\"],[0.1111111111111111,\\\"#46039f\\\"],[0.2222222222222222,\\\"#7201a8\\\"],[0.3333333333333333,\\\"#9c179e\\\"],[0.4444444444444444,\\\"#bd3786\\\"],[0.5555555555555556,\\\"#d8576b\\\"],[0.6666666666666666,\\\"#ed7953\\\"],[0.7777777777777778,\\\"#fb9f3a\\\"],[0.8888888888888888,\\\"#fdca26\\\"],[1.0,\\\"#f0f921\\\"]]}],\\\"contour\\\":[{\\\"colorbar\\\":{\\\"ticks\\\":\\\"\\\",\\\"outlinewidth\\\":0},\\\"type\\\":\\\"contour\\\",\\\"colorscale\\\":[[0.0,\\\"#0d0887\\\"],[0.1111111111111111,\\\"#46039f\\\"],[0.2222222222222222,\\\"#7201a8\\\"],[0.3333333333333333,\\\"#9c179e\\\"],[0.4444444444444444,\\\"#bd3786\\\"],[0.5555555555555556,\\\"#d8576b\\\"],[0.6666666666666666,\\\"#ed7953\\\"],[0.7777777777777778,\\\"#fb9f3a\\\"],[0.8888888888888888,\\\"#fdca26\\\"],[1.0,\\\"#f0f921\\\"]]}],\\\"scattercarpet\\\":[{\\\"type\\\":\\\"scattercarpet\\\",\\\"marker\\\":{\\\"colorbar\\\":{\\\"ticks\\\":\\\"\\\",\\\"outlinewidth\\\":0}}}],\\\"mesh3d\\\":[{\\\"colorbar\\\":{\\\"ticks\\\":\\\"\\\",\\\"outlinewidth\\\":0},\\\"type\\\":\\\"mesh3d\\\"}],\\\"surface\\\":[{\\\"colorbar\\\":{\\\"ticks\\\":\\\"\\\",\\\"outlinewidth\\\":0},\\\"type\\\":\\\"surface\\\",\\\"colorscale\\\":[[0.0,\\\"#0d0887\\\"],[0.1111111111111111,\\\"#46039f\\\"],[0.2222222222222222,\\\"#7201a8\\\"],[0.3333333333333333,\\\"#9c179e\\\"],[0.4444444444444444,\\\"#bd3786\\\"],[0.5555555555555556,\\\"#d8576b\\\"],[0.6666666666666666,\\\"#ed7953\\\"],[0.7777777777777778,\\\"#fb9f3a\\\"],[0.8888888888888888,\\\"#fdca26\\\"],[1.0,\\\"#f0f921\\\"]]}],\\\"scattermapbox\\\":[{\\\"type\\\":\\\"scattermapbox\\\",\\\"marker\\\":{\\\"colorbar\\\":{\\\"ticks\\\":\\\"\\\",\\\"outlinewidth\\\":0}}}],\\\"scattergeo\\\":[{\\\"type\\\":\\\"scattergeo\\\",\\\"marker\\\":{\\\"colorbar\\\":{\\\"ticks\\\":\\\"\\\",\\\"outlinewidth\\\":0}}}],\\\"histogram\\\":[{\\\"type\\\":\\\"histogram\\\",\\\"marker\\\":{\\\"colorbar\\\":{\\\"ticks\\\":\\\"\\\",\\\"outlinewidth\\\":0}}}],\\\"pie\\\":[{\\\"type\\\":\\\"pie\\\",\\\"automargin\\\":true}],\\\"choropleth\\\":[{\\\"colorbar\\\":{\\\"ticks\\\":\\\"\\\",\\\"outlinewidth\\\":0},\\\"type\\\":\\\"choropleth\\\"}],\\\"heatmapgl\\\":[{\\\"colorbar\\\":{\\\"ticks\\\":\\\"\\\",\\\"outlinewidth\\\":0},\\\"type\\\":\\\"heatmapgl\\\",\\\"colorscale\\\":[[0.0,\\\"#0d0887\\\"],[0.1111111111111111,\\\"#46039f\\\"],[0.2222222222222222,\\\"#7201a8\\\"],[0.3333333333333333,\\\"#9c179e\\\"],[0.4444444444444444,\\\"#bd3786\\\"],[0.5555555555555556,\\\"#d8576b\\\"],[0.6666666666666666,\\\"#ed7953\\\"],[0.7777777777777778,\\\"#fb9f3a\\\"],[0.8888888888888888,\\\"#fdca26\\\"],[1.0,\\\"#f0f921\\\"]]}],\\\"bar\\\":[{\\\"type\\\":\\\"bar\\\",\\\"error_y\\\":{\\\"color\\\":\\\"#2a3f5f\\\"},\\\"error_x\\\":{\\\"color\\\":\\\"#2a3f5f\\\"},\\\"marker\\\":{\\\"line\\\":{\\\"color\\\":\\\"#E5ECF6\\\",\\\"width\\\":0.5}}}],\\\"heatmap\\\":[{\\\"colorbar\\\":{\\\"ticks\\\":\\\"\\\",\\\"outlinewidth\\\":0},\\\"type\\\":\\\"heatmap\\\",\\\"colorscale\\\":[[0.0,\\\"#0d0887\\\"],[0.1111111111111111,\\\"#46039f\\\"],[0.2222222222222222,\\\"#7201a8\\\"],[0.3333333333333333,\\\"#9c179e\\\"],[0.4444444444444444,\\\"#bd3786\\\"],[0.5555555555555556,\\\"#d8576b\\\"],[0.6666666666666666,\\\"#ed7953\\\"],[0.7777777777777778,\\\"#fb9f3a\\\"],[0.8888888888888888,\\\"#fdca26\\\"],[1.0,\\\"#f0f921\\\"]]}],\\\"contourcarpet\\\":[{\\\"colorbar\\\":{\\\"ticks\\\":\\\"\\\",\\\"outlinewidth\\\":0},\\\"type\\\":\\\"contourcarpet\\\"}],\\\"table\\\":[{\\\"type\\\":\\\"table\\\",\\\"header\\\":{\\\"line\\\":{\\\"color\\\":\\\"white\\\"},\\\"fill\\\":{\\\"color\\\":\\\"#C8D4E3\\\"}},\\\"cells\\\":{\\\"line\\\":{\\\"color\\\":\\\"white\\\"},\\\"fill\\\":{\\\"color\\\":\\\"#EBF0F8\\\"}}}],\\\"scatter3d\\\":[{\\\"line\\\":{\\\"colorbar\\\":{\\\"ticks\\\":\\\"\\\",\\\"outlinewidth\\\":0}},\\\"type\\\":\\\"scatter3d\\\",\\\"marker\\\":{\\\"colorbar\\\":{\\\"ticks\\\":\\\"\\\",\\\"outlinewidth\\\":0}}}],\\\"scattergl\\\":[{\\\"type\\\":\\\"scattergl\\\",\\\"marker\\\":{\\\"colorbar\\\":{\\\"ticks\\\":\\\"\\\",\\\"outlinewidth\\\":0}}}],\\\"histogram2d\\\":[{\\\"colorbar\\\":{\\\"ticks\\\":\\\"\\\",\\\"outlinewidth\\\":0},\\\"type\\\":\\\"histogram2d\\\",\\\"colorscale\\\":[[0.0,\\\"#0d0887\\\"],[0.1111111111111111,\\\"#46039f\\\"],[0.2222222222222222,\\\"#7201a8\\\"],[0.3333333333333333,\\\"#9c179e\\\"],[0.4444444444444444,\\\"#bd3786\\\"],[0.5555555555555556,\\\"#d8576b\\\"],[0.6666666666666666,\\\"#ed7953\\\"],[0.7777777777777778,\\\"#fb9f3a\\\"],[0.8888888888888888,\\\"#fdca26\\\"],[1.0,\\\"#f0f921\\\"]]}],\\\"scatterternary\\\":[{\\\"type\\\":\\\"scatterternary\\\",\\\"marker\\\":{\\\"colorbar\\\":{\\\"ticks\\\":\\\"\\\",\\\"outlinewidth\\\":0}}}],\\\"scatterpolargl\\\":[{\\\"type\\\":\\\"scatterpolargl\\\",\\\"marker\\\":{\\\"colorbar\\\":{\\\"ticks\\\":\\\"\\\",\\\"outlinewidth\\\":0}}}]}},\\\"height\\\":350,\\\"margin\\\":{\\\"l\\\":50,\\\"b\\\":50,\\\"r\\\":50,\\\"t\\\":60},\\\"yaxis\\\":{\\\"type\\\":\\\"log\\\",\\\"title\\\":{\\\"text\\\":\\\"error\\\"},\\\"exponentformat\\\":\\\"power\\\"},\\\"width\\\":700},{\\\"showLink\\\":false,\\\"editable\\\":false,\\\"responsive\\\":true,\\\"staticPlot\\\":false,\\\"scrollZoom\\\":true}); gd.on(\\\"plotly_hover\\\",(function (data){var filtered_data=WebIO.PlotlyCommands.filterEventData(gd,data,\\\"hover\\\"); return !(filtered_data.isnil) ? (WebIO.setval({\\\"name\\\":\\\"hover\\\",\\\"scope\\\":\\\"15217850506293025622\\\",\\\"id\\\":\\\"11839390658601144373\\\",\\\"type\\\":\\\"observable\\\"},filtered_data.out)) : undefined})); gd.on(\\\"plotly_unhover\\\",(function (){return WebIO.setval({\\\"name\\\":\\\"hover\\\",\\\"scope\\\":\\\"15217850506293025622\\\",\\\"id\\\":\\\"11839390658601144373\\\",\\\"type\\\":\\\"observable\\\"},{})})); gd.on(\\\"plotly_selected\\\",(function (data){var filtered_data=WebIO.PlotlyCommands.filterEventData(gd,data,\\\"selected\\\"); return !(filtered_data.isnil) ? (WebIO.setval({\\\"name\\\":\\\"selected\\\",\\\"scope\\\":\\\"15217850506293025622\\\",\\\"id\\\":\\\"18147006948435967373\\\",\\\"type\\\":\\\"observable\\\"},filtered_data.out)) : undefined})); gd.on(\\\"plotly_deselect\\\",(function (){return WebIO.setval({\\\"name\\\":\\\"selected\\\",\\\"scope\\\":\\\"15217850506293025622\\\",\\\"id\\\":\\\"18147006948435967373\\\",\\\"type\\\":\\\"observable\\\"},{})})); gd.on(\\\"plotly_relayout\\\",(function (data){var filtered_data=WebIO.PlotlyCommands.filterEventData(gd,data,\\\"relayout\\\"); return !(filtered_data.isnil) ? (WebIO.setval({\\\"name\\\":\\\"relayout\\\",\\\"scope\\\":\\\"15217850506293025622\\\",\\\"id\\\":\\\"5383691945100012473\\\",\\\"type\\\":\\\"observable\\\"},filtered_data.out)) : undefined})); return gd.on(\\\"plotly_click\\\",(function (data){var filtered_data=WebIO.PlotlyCommands.filterEventData(gd,data,\\\"click\\\"); return !(filtered_data.isnil) ? (WebIO.setval({\\\"name\\\":\\\"click\\\",\\\"scope\\\":\\\"15217850506293025622\\\",\\\"id\\\":\\\"1926366177141695950\\\",\\\"type\\\":\\\"observable\\\"},filtered_data.out)) : undefined}))}));\\n    (WebIO.importBlock({\\\"data\\\":[{\\\"name\\\":\\\"Plotly\\\",\\\"type\\\":\\\"js\\\",\\\"url\\\":\\\"\\/assetserver\\/5b0bcbbb362c204ec77e728ffa8c7da4be28ce8a-plotly.min.js\\\"},{\\\"name\\\":null,\\\"type\\\":\\\"js\\\",\\\"url\\\":\\\"\\/assetserver\\/6303ac4e25f5217851dbb12ecf3059151c237374-plotly_webio.bundle.js\\\"}],\\\"type\\\":\\\"async_block\\\"})).then((imports) => handler.apply(this, imports));\\n}\\n\"],\"observables\":{\"_toImage\":{\"sync\":false,\"id\":\"12393578902619005632\",\"value\":{}},\"hover\":{\"sync\":false,\"id\":\"11839390658601144373\",\"value\":{}},\"selected\":{\"sync\":false,\"id\":\"18147006948435967373\",\"value\":{}},\"__gd_contents\":{\"sync\":false,\"id\":\"7566859176696727788\",\"value\":{}},\"click\":{\"sync\":false,\"id\":\"1926366177141695950\",\"value\":{}},\"image\":{\"sync\":true,\"id\":\"3935488650785020355\",\"value\":\"\"},\"__get_gd_contents\":{\"sync\":false,\"id\":\"10317026812491650565\",\"value\":\"\"},\"_downloadImage\":{\"sync\":false,\"id\":\"2146211115593741307\",\"value\":{}},\"relayout\":{\"sync\":false,\"id\":\"5383691945100012473\",\"value\":{}},\"_commands\":{\"sync\":false,\"id\":\"16960781650535750810\",\"value\":[]}}},\"children\":[{\"props\":{\"id\":\"plot-40cd1ab7-72c7-496e-bc2f-6227d5a445d2\"},\"nodeType\":\"DOM\",\"type\":\"node\",\"instanceArgs\":{\"namespace\":\"html\",\"tag\":\"div\"},\"children\":[]}]},\n",
       "        window,\n",
       "    );\n",
       "    })()\n",
       "    </script>\n",
       "</div>\n"
      ],
      "text/plain": [
       "data: [\n",
       "  \"scatter with fields mode, name, type, x, and y\",\n",
       "  \"scatter with fields mode, name, type, x, and y\",\n",
       "  \"scatter with fields mode, name, type, x, and y\",\n",
       "  \"scatter with fields mode, name, type, x, and y\",\n",
       "  \"scatter with fields mode, name, type, x, and y\"\n",
       "]\n",
       "\n",
       "layout: \"layout with fields height, margin, template, width, xaxis, and yaxis\"\n",
       "\n"
      ]
     },
     "execution_count": 25,
     "metadata": {},
     "output_type": "execute_result"
    }
   ],
   "source": [
    "t1 = scatter(x=deltat_max, y=euler_error, mode=\"lines\", name=\"Euler\")\n",
    "t2 = scatter(x=deltat_max, y=heun3_error, mode=\"lines\", name=\"Heun3 \")\n",
    "t3 = scatter(x=deltat_max, y=ralston4_error, mode=\"lines\", name=\"Ralston 4\")\n",
    "t4 = scatter(x=deltat_max, y=rk4_error, mode=\"lines\", name=\"RK 4\")\n",
    "t5 = scatter(x=deltat_max, y=three_eighths_rule_error, mode=\"lines\", name=\"3/8 Rule\")\n",
    "\n",
    "layout = Layout(\n",
    "    xaxis_type=\"log\",\n",
    "    xaxis_exponentformat=\"power\",\n",
    "    xaxis_title=\"Δt\",\n",
    "    yaxis_type=\"log\",\n",
    "    yaxis_exponentformat=\"power\",\n",
    "    yaxis_title=\"error\",\n",
    "    width=700, height=350,\n",
    "    )\n",
    "data = [t1, t4, t2, t3, t5]\n",
    "\n",
    "plot(data, layout)"
   ]
  },
  {
   "cell_type": "markdown",
   "metadata": {},
   "source": [
    "Timing"
   ]
  },
  {
   "cell_type": "code",
   "execution_count": 13,
   "metadata": {},
   "outputs": [
    {
     "data": {
      "text/plain": [
       "2-element Vector{Float64}:\n",
       " 1.0000000000000002e-6\n",
       " 0.1"
      ]
     },
     "execution_count": 13,
     "metadata": {},
     "output_type": "execute_result"
    }
   ],
   "source": [
    "t = [0 1]\n",
    "deltat_max = 0.01\n",
    "method_error = 1\n",
    "while method_error >= 2.0843238788259555e-6\n",
    "    deltat_max = deltat_max .* 0.1 \n",
    "    s1 = solve_ode(f, [1], t, \"euler\", deltat_max)[end][1]\n",
    "    method_error = abs(ℯ .- s1)\n",
    "end\n",
    "deltat_max\n",
    "\n",
    "\n",
    "rk4_deltat_max = 0.1\n",
    "# method_error = 1\n",
    "# while method_error >= 0.000001\n",
    "#     rk4_deltat_max = rk4_deltat_max .* 0.1 \n",
    "#     s1 = solve_ode(f, [1], t, rk4_step, rk4_deltat_max)[end][1]\n",
    "#     method_error = abs(ℯ .- s1)\n",
    "# end\n",
    "[deltat_max, rk4_deltat_max]"
   ]
  },
  {
   "cell_type": "code",
   "execution_count": 14,
   "metadata": {},
   "outputs": [
    {
     "name": "stdout",
     "output_type": "stream",
     "text": [
      "Method not assigned, please enter either:\n",
      "        euler, heun3, ralston4, rk4, or three_eighths_rule\n",
      "Defaulting to rk4_step.\n",
      "  1.983270 seconds (32.13 M allocations: 1.214 GiB, 6.80% gc time, 2.57% compilation time)\n",
      "Euler method error: 2.1465496047312627e-11\n",
      "Method not assigned, please enter either:\n",
      "        euler, heun3, ralston4, rk4, or three_eighths_rule\n",
      "Defaulting to rk4_step.\n",
      "  0.000527 seconds (397 allocations: 16.422 KiB)\n",
      "RK4 method error: 2.0843238788259555e-6\n"
     ]
    }
   ],
   "source": [
    "t = [0 1]\n",
    "\n",
    "@time s1 = solve_ode(f, [1], t, euler_step, 1e-6 )[end][1];\n",
    "println(\"Euler method error: \", abs(ℯ .- s1))\n",
    "@time s2 = solve_ode(f, [1], t, rk4_step, 0.1)[end][1];\n",
    "println(\"RK4 method error: \", abs(ℯ .- s2))\n"
   ]
  },
  {
   "cell_type": "markdown",
   "metadata": {},
   "source": [
    "ODE Systems Extensions"
   ]
  },
  {
   "cell_type": "code",
   "execution_count": 28,
   "metadata": {},
   "outputs": [
    {
     "data": {
      "text/plain": [
       "f2_solution (generic function with 1 method)"
      ]
     },
     "execution_count": 28,
     "metadata": {},
     "output_type": "execute_result"
    }
   ],
   "source": [
    "\"\"\"\n",
    "System of equations definitions for\n",
    "    d^2x/dt^2 = -x,\n",
    "equivalent to the system of equations\n",
    "    dx/dt = y and dy/dt = -x.\n",
    "\"\"\"\n",
    "\n",
    "function f2(u, t)\n",
    "\n",
    "    if(!isapprox(length(u), 2.0; atol=eps(Float64), rtol=0))\n",
    "        throw(error(\"Please make sure you have entered two initial conditions for the function.\"))\n",
    "    end\n",
    "\n",
    "    x = u[1]    \n",
    "    y = u[2]\n",
    "    \n",
    "    x_dot = y\n",
    "    y_dot = -x\n",
    "    \n",
    "    return [x_dot y_dot]\n",
    "end\n",
    "\n",
    "function f2_solution(u, t)\n",
    "\n",
    "    c1 = u[2]\n",
    "    c2 = u[1]\n",
    "\n",
    "    x = c1*sin.(t) + c2*cos.(t)\n",
    "    y = c1*cos.(t) - c2*sin.(t)\n",
    "\n",
    "    return [x y]\n",
    "end"
   ]
  },
  {
   "cell_type": "markdown",
   "metadata": {},
   "source": [
    "Generate solution and estimate data for error plots"
   ]
  },
  {
   "cell_type": "code",
   "execution_count": 29,
   "metadata": {},
   "outputs": [],
   "source": [
    "u = [0 0]\n",
    "t = 0:0.1:10\n",
    "real_t = 0:0.1:10\n",
    "s = solve_ode(f2, u, t, \"rk4\", 0.001);\n",
    "real_s = f2_solution(u, real_t);\n",
    "\n",
    "x = s[:,1];\n",
    "x_dot = s[:,2];\n",
    "x_sol = real_s[:,1];\n",
    "x_dot_sol = real_s[:,2];"
   ]
  },
  {
   "cell_type": "markdown",
   "metadata": {},
   "source": [
    "Plot of solution and estimate for x versus t"
   ]
  },
  {
   "cell_type": "code",
   "execution_count": 37,
   "metadata": {},
   "outputs": [
    {
     "data": {
      "application/vnd.plotly.v1+json": {
       "config": {
        "editable": false,
        "responsive": true,
        "scrollZoom": true,
        "showLink": false,
        "staticPlot": false
       },
       "data": [
        {
         "mode": "lines",
         "name": "solution",
         "type": "scatter",
         "x": [
          0,
          0.1,
          0.2,
          0.3,
          0.4,
          0.5,
          0.6,
          0.7,
          0.8,
          0.9,
          1,
          1.1,
          1.2,
          1.3,
          1.4,
          1.5,
          1.6,
          1.7,
          1.8,
          1.9,
          2,
          2.1,
          2.2,
          2.3,
          2.4,
          2.5,
          2.6,
          2.7,
          2.8,
          2.9,
          3,
          3.1,
          3.2,
          3.3,
          3.4,
          3.5,
          3.6,
          3.7,
          3.8,
          3.9,
          4,
          4.1,
          4.2,
          4.3,
          4.4,
          4.5,
          4.6,
          4.7,
          4.8,
          4.9,
          5,
          5.1,
          5.2,
          5.3,
          5.4,
          5.5,
          5.6,
          5.7,
          5.8,
          5.9,
          6,
          6.1,
          6.2,
          6.3,
          6.4,
          6.5,
          6.6,
          6.7,
          6.8,
          6.9,
          7,
          7.1,
          7.2,
          7.3,
          7.4,
          7.5,
          7.6,
          7.7,
          7.8,
          7.9,
          8,
          8.1,
          8.2,
          8.3,
          8.4,
          8.5,
          8.6,
          8.7,
          8.8,
          8.9,
          9,
          9.1,
          9.2,
          9.3,
          9.4,
          9.5,
          9.6,
          9.7,
          9.8,
          9.9,
          10
         ],
         "y": [
          1,
          0.9950041652780258,
          0.9800665778412416,
          0.955336489125606,
          0.9210609940028851,
          0.8775825618903728,
          0.8253356149096783,
          0.7648421872844885,
          0.6967067093471654,
          0.6216099682706644,
          0.5403023058681398,
          0.4535961214255773,
          0.3623577544766736,
          0.26749882862458735,
          0.16996714290024104,
          0.0707372016677029,
          -0.029199522301288815,
          -0.12884449429552464,
          -0.2272020946930871,
          -0.32328956686350335,
          -0.4161468365471424,
          -0.5048461045998576,
          -0.5885011172553458,
          -0.666276021279824,
          -0.7373937155412454,
          -0.8011436155469337,
          -0.8568887533689473,
          -0.9040721420170612,
          -0.9422223406686581,
          -0.9709581651495905,
          -0.9899924966004454,
          -0.9991351502732795,
          -0.9982947757947531,
          -0.9874797699088649,
          -0.9667981925794611,
          -0.9364566872907963,
          -0.896758416334147,
          -0.848100031710408,
          -0.7909677119144168,
          -0.7259323042001402,
          -0.6536436208636119,
          -0.5748239465332692,
          -0.4902608213406994,
          -0.40079917207997545,
          -0.30733286997841935,
          -0.2107957994307797,
          -0.11215252693505487,
          -0.01238866346289056,
          0.0874989834394464,
          0.18651236942257576,
          0.28366218546322625,
          0.37797774271298024,
          0.4685166713003771,
          0.5543743361791608,
          0.6346928759426347,
          0.70866977429126,
          0.7755658785102496,
          0.8347127848391598,
          0.8855195169413189,
          0.9274784307440359,
          0.960170286650366,
          0.9832684384425845,
          0.9965420970232175,
          0.9998586363834151,
          0.9931849187581926,
          0.9765876257280235,
          0.9502325919585296,
          0.9143831482353194,
          0.8693974903498253,
          0.8157251001253568,
          0.7539022543433046,
          0.6845466664428066,
          0.6083513145322546,
          0.5260775173811053,
          0.43854732757439036,
          0.3466353178350258,
          0.2512598425822557,
          0.15337386203786435,
          0.05395542056264975,
          -0.04600212563953695,
          -0.14550003380861354,
          -0.2435441537357911,
          -0.3391548609838345,
          -0.43137684497062084,
          -0.5192886541166856,
          -0.6020119026848236,
          -0.6787200473200125,
          -0.7486466455973987,
          -0.811093014061656,
          -0.8654352092411123,
          -0.9111302618846769,
          -0.9477216021311119,
          -0.9748436214041636,
          -0.9922253254526034,
          -0.9996930420352065,
          -0.9971721561963784,
          -0.984687855794127,
          -0.9623648798313102,
          -0.9304262721047533,
          -0.8891911526253609,
          -0.8390715290764524
         ]
        },
        {
         "mode": "lines",
         "name": "estimate",
         "type": "scatter",
         "x": [
          0,
          0.2,
          0.4,
          0.6,
          0.8,
          1,
          1.2,
          1.4,
          1.6,
          1.8,
          2,
          2.2,
          2.4,
          2.6,
          2.8,
          3,
          3.2,
          3.4,
          3.6,
          3.8,
          4,
          4.2,
          4.4,
          4.6,
          4.8,
          5,
          5.2,
          5.4,
          5.6,
          5.8,
          6,
          6.2,
          6.4,
          6.6,
          6.8,
          7,
          7.2,
          7.4,
          7.6,
          7.8,
          8,
          8.2,
          8.4,
          8.6,
          8.8,
          9,
          9.2,
          9.4,
          9.6,
          9.8,
          10
         ],
         "y": [
          1,
          0.9800665778412416,
          0.9210609940028864,
          0.8253356149096818,
          0.6967067093471708,
          0.5403023058681482,
          0.3623577544766641,
          0.16996714290021106,
          -0.029199522301339573,
          -0.22720209469315605,
          -0.4161468365472248,
          -0.5885011172554352,
          -0.7373937155413329,
          -0.8568887533690226,
          -0.9422223406687134,
          -0.9899924966004694,
          -0.998294775794738,
          -0.9667981925793999,
          -0.8967584163340332,
          -0.790967711914249,
          -0.6536436208633898,
          -0.4902608213405033,
          -0.3073328699782707,
          -0.11215252693496776,
          0.08749898343946501,
          0.283662185463178,
          0.46851667130027136,
          0.634692875942489,
          0.7755658785100878,
          0.8855195169411672,
          0.9601702866502546,
          0.9965420970231776,
          0.9931849187582523,
          0.9502325919587132,
          0.8693974903501511,
          0.7539022543437843,
          0.6083513145328892,
          0.4385473275751714,
          0.25125984258316364,
          0.05395542056365539,
          -0.14550003380754967,
          -0.33915486098292397,
          -0.5192886541159506,
          -0.6787200473194605,
          -0.8110930140612791,
          -0.9111302618844549,
          -0.9748436214040661,
          -0.9996930420351952,
          -0.9846878557941593,
          -0.930426272104784,
          -0.8390715290764413
         ]
        }
       ],
       "frames": [],
       "layout": {
        "height": 350,
        "margin": {
         "b": 50,
         "l": 50,
         "r": 50,
         "t": 60
        },
        "template": {
         "data": {
          "bar": [
           {
            "error_x": {
             "color": "#2a3f5f"
            },
            "error_y": {
             "color": "#2a3f5f"
            },
            "marker": {
             "line": {
              "color": "#E5ECF6",
              "width": 0.5
             }
            },
            "type": "bar"
           }
          ],
          "barpolar": [
           {
            "marker": {
             "line": {
              "color": "#E5ECF6",
              "width": 0.5
             }
            },
            "type": "barpolar"
           }
          ],
          "carpet": [
           {
            "aaxis": {
             "endlinecolor": "#2a3f5f",
             "gridcolor": "white",
             "linecolor": "white",
             "minorgridcolor": "white",
             "startlinecolor": "#2a3f5f"
            },
            "baxis": {
             "endlinecolor": "#2a3f5f",
             "gridcolor": "white",
             "linecolor": "white",
             "minorgridcolor": "white",
             "startlinecolor": "#2a3f5f"
            },
            "type": "carpet"
           }
          ],
          "choropleth": [
           {
            "colorbar": {
             "outlinewidth": 0,
             "ticks": ""
            },
            "type": "choropleth"
           }
          ],
          "contour": [
           {
            "colorbar": {
             "outlinewidth": 0,
             "ticks": ""
            },
            "colorscale": [
             [
              0,
              "#0d0887"
             ],
             [
              0.1111111111111111,
              "#46039f"
             ],
             [
              0.2222222222222222,
              "#7201a8"
             ],
             [
              0.3333333333333333,
              "#9c179e"
             ],
             [
              0.4444444444444444,
              "#bd3786"
             ],
             [
              0.5555555555555556,
              "#d8576b"
             ],
             [
              0.6666666666666666,
              "#ed7953"
             ],
             [
              0.7777777777777778,
              "#fb9f3a"
             ],
             [
              0.8888888888888888,
              "#fdca26"
             ],
             [
              1,
              "#f0f921"
             ]
            ],
            "type": "contour"
           }
          ],
          "contourcarpet": [
           {
            "colorbar": {
             "outlinewidth": 0,
             "ticks": ""
            },
            "type": "contourcarpet"
           }
          ],
          "heatmap": [
           {
            "colorbar": {
             "outlinewidth": 0,
             "ticks": ""
            },
            "colorscale": [
             [
              0,
              "#0d0887"
             ],
             [
              0.1111111111111111,
              "#46039f"
             ],
             [
              0.2222222222222222,
              "#7201a8"
             ],
             [
              0.3333333333333333,
              "#9c179e"
             ],
             [
              0.4444444444444444,
              "#bd3786"
             ],
             [
              0.5555555555555556,
              "#d8576b"
             ],
             [
              0.6666666666666666,
              "#ed7953"
             ],
             [
              0.7777777777777778,
              "#fb9f3a"
             ],
             [
              0.8888888888888888,
              "#fdca26"
             ],
             [
              1,
              "#f0f921"
             ]
            ],
            "type": "heatmap"
           }
          ],
          "heatmapgl": [
           {
            "colorbar": {
             "outlinewidth": 0,
             "ticks": ""
            },
            "colorscale": [
             [
              0,
              "#0d0887"
             ],
             [
              0.1111111111111111,
              "#46039f"
             ],
             [
              0.2222222222222222,
              "#7201a8"
             ],
             [
              0.3333333333333333,
              "#9c179e"
             ],
             [
              0.4444444444444444,
              "#bd3786"
             ],
             [
              0.5555555555555556,
              "#d8576b"
             ],
             [
              0.6666666666666666,
              "#ed7953"
             ],
             [
              0.7777777777777778,
              "#fb9f3a"
             ],
             [
              0.8888888888888888,
              "#fdca26"
             ],
             [
              1,
              "#f0f921"
             ]
            ],
            "type": "heatmapgl"
           }
          ],
          "histogram": [
           {
            "marker": {
             "colorbar": {
              "outlinewidth": 0,
              "ticks": ""
             }
            },
            "type": "histogram"
           }
          ],
          "histogram2d": [
           {
            "colorbar": {
             "outlinewidth": 0,
             "ticks": ""
            },
            "colorscale": [
             [
              0,
              "#0d0887"
             ],
             [
              0.1111111111111111,
              "#46039f"
             ],
             [
              0.2222222222222222,
              "#7201a8"
             ],
             [
              0.3333333333333333,
              "#9c179e"
             ],
             [
              0.4444444444444444,
              "#bd3786"
             ],
             [
              0.5555555555555556,
              "#d8576b"
             ],
             [
              0.6666666666666666,
              "#ed7953"
             ],
             [
              0.7777777777777778,
              "#fb9f3a"
             ],
             [
              0.8888888888888888,
              "#fdca26"
             ],
             [
              1,
              "#f0f921"
             ]
            ],
            "type": "histogram2d"
           }
          ],
          "histogram2dcontour": [
           {
            "colorbar": {
             "outlinewidth": 0,
             "ticks": ""
            },
            "colorscale": [
             [
              0,
              "#0d0887"
             ],
             [
              0.1111111111111111,
              "#46039f"
             ],
             [
              0.2222222222222222,
              "#7201a8"
             ],
             [
              0.3333333333333333,
              "#9c179e"
             ],
             [
              0.4444444444444444,
              "#bd3786"
             ],
             [
              0.5555555555555556,
              "#d8576b"
             ],
             [
              0.6666666666666666,
              "#ed7953"
             ],
             [
              0.7777777777777778,
              "#fb9f3a"
             ],
             [
              0.8888888888888888,
              "#fdca26"
             ],
             [
              1,
              "#f0f921"
             ]
            ],
            "type": "histogram2dcontour"
           }
          ],
          "mesh3d": [
           {
            "colorbar": {
             "outlinewidth": 0,
             "ticks": ""
            },
            "type": "mesh3d"
           }
          ],
          "parcoords": [
           {
            "line": {
             "colorbar": {
              "outlinewidth": 0,
              "ticks": ""
             }
            },
            "type": "parcoords"
           }
          ],
          "pie": [
           {
            "automargin": true,
            "type": "pie"
           }
          ],
          "scatter": [
           {
            "marker": {
             "colorbar": {
              "outlinewidth": 0,
              "ticks": ""
             }
            },
            "type": "scatter"
           }
          ],
          "scatter3d": [
           {
            "line": {
             "colorbar": {
              "outlinewidth": 0,
              "ticks": ""
             }
            },
            "marker": {
             "colorbar": {
              "outlinewidth": 0,
              "ticks": ""
             }
            },
            "type": "scatter3d"
           }
          ],
          "scattercarpet": [
           {
            "marker": {
             "colorbar": {
              "outlinewidth": 0,
              "ticks": ""
             }
            },
            "type": "scattercarpet"
           }
          ],
          "scattergeo": [
           {
            "marker": {
             "colorbar": {
              "outlinewidth": 0,
              "ticks": ""
             }
            },
            "type": "scattergeo"
           }
          ],
          "scattergl": [
           {
            "marker": {
             "colorbar": {
              "outlinewidth": 0,
              "ticks": ""
             }
            },
            "type": "scattergl"
           }
          ],
          "scattermapbox": [
           {
            "marker": {
             "colorbar": {
              "outlinewidth": 0,
              "ticks": ""
             }
            },
            "type": "scattermapbox"
           }
          ],
          "scatterpolar": [
           {
            "marker": {
             "colorbar": {
              "outlinewidth": 0,
              "ticks": ""
             }
            },
            "type": "scatterpolar"
           }
          ],
          "scatterpolargl": [
           {
            "marker": {
             "colorbar": {
              "outlinewidth": 0,
              "ticks": ""
             }
            },
            "type": "scatterpolargl"
           }
          ],
          "scatterternary": [
           {
            "marker": {
             "colorbar": {
              "outlinewidth": 0,
              "ticks": ""
             }
            },
            "type": "scatterternary"
           }
          ],
          "surface": [
           {
            "colorbar": {
             "outlinewidth": 0,
             "ticks": ""
            },
            "colorscale": [
             [
              0,
              "#0d0887"
             ],
             [
              0.1111111111111111,
              "#46039f"
             ],
             [
              0.2222222222222222,
              "#7201a8"
             ],
             [
              0.3333333333333333,
              "#9c179e"
             ],
             [
              0.4444444444444444,
              "#bd3786"
             ],
             [
              0.5555555555555556,
              "#d8576b"
             ],
             [
              0.6666666666666666,
              "#ed7953"
             ],
             [
              0.7777777777777778,
              "#fb9f3a"
             ],
             [
              0.8888888888888888,
              "#fdca26"
             ],
             [
              1,
              "#f0f921"
             ]
            ],
            "type": "surface"
           }
          ],
          "table": [
           {
            "cells": {
             "fill": {
              "color": "#EBF0F8"
             },
             "line": {
              "color": "white"
             }
            },
            "header": {
             "fill": {
              "color": "#C8D4E3"
             },
             "line": {
              "color": "white"
             }
            },
            "type": "table"
           }
          ]
         },
         "layout": {
          "annotationdefaults": {
           "arrowcolor": "#2a3f5f",
           "arrowhead": 0,
           "arrowwidth": 1
          },
          "autotypenumbers": "strict",
          "coloraxis": {
           "colorbar": {
            "outlinewidth": 0,
            "ticks": ""
           }
          },
          "colorscale": {
           "diverging": [
            [
             0,
             "#8e0152"
            ],
            [
             0.1,
             "#c51b7d"
            ],
            [
             0.2,
             "#de77ae"
            ],
            [
             0.3,
             "#f1b6da"
            ],
            [
             0.4,
             "#fde0ef"
            ],
            [
             0.5,
             "#f7f7f7"
            ],
            [
             0.6,
             "#e6f5d0"
            ],
            [
             0.7,
             "#b8e186"
            ],
            [
             0.8,
             "#7fbc41"
            ],
            [
             0.9,
             "#4d9221"
            ],
            [
             1,
             "#276419"
            ]
           ],
           "sequential": [
            [
             0,
             "#0d0887"
            ],
            [
             0.1111111111111111,
             "#46039f"
            ],
            [
             0.2222222222222222,
             "#7201a8"
            ],
            [
             0.3333333333333333,
             "#9c179e"
            ],
            [
             0.4444444444444444,
             "#bd3786"
            ],
            [
             0.5555555555555556,
             "#d8576b"
            ],
            [
             0.6666666666666666,
             "#ed7953"
            ],
            [
             0.7777777777777778,
             "#fb9f3a"
            ],
            [
             0.8888888888888888,
             "#fdca26"
            ],
            [
             1,
             "#f0f921"
            ]
           ],
           "sequentialminus": [
            [
             0,
             "#0d0887"
            ],
            [
             0.1111111111111111,
             "#46039f"
            ],
            [
             0.2222222222222222,
             "#7201a8"
            ],
            [
             0.3333333333333333,
             "#9c179e"
            ],
            [
             0.4444444444444444,
             "#bd3786"
            ],
            [
             0.5555555555555556,
             "#d8576b"
            ],
            [
             0.6666666666666666,
             "#ed7953"
            ],
            [
             0.7777777777777778,
             "#fb9f3a"
            ],
            [
             0.8888888888888888,
             "#fdca26"
            ],
            [
             1,
             "#f0f921"
            ]
           ]
          },
          "colorway": [
           "#636efa",
           "#EF553B",
           "#00cc96",
           "#ab63fa",
           "#FFA15A",
           "#19d3f3",
           "#FF6692",
           "#B6E880",
           "#FF97FF",
           "#FECB52"
          ],
          "font": {
           "color": "#2a3f5f"
          },
          "geo": {
           "bgcolor": "white",
           "lakecolor": "white",
           "landcolor": "#E5ECF6",
           "showlakes": true,
           "showland": true,
           "subunitcolor": "white"
          },
          "hoverlabel": {
           "align": "left"
          },
          "hovermode": "closest",
          "mapbox": {
           "style": "light"
          },
          "paper_bgcolor": "white",
          "plot_bgcolor": "#E5ECF6",
          "polar": {
           "angularaxis": {
            "gridcolor": "white",
            "linecolor": "white",
            "ticks": ""
           },
           "bgcolor": "#E5ECF6",
           "radialaxis": {
            "gridcolor": "white",
            "linecolor": "white",
            "ticks": ""
           }
          },
          "scene": {
           "xaxis": {
            "backgroundcolor": "#E5ECF6",
            "gridcolor": "white",
            "gridwidth": 2,
            "linecolor": "white",
            "showbackground": true,
            "ticks": "",
            "zerolinecolor": "white"
           },
           "yaxis": {
            "backgroundcolor": "#E5ECF6",
            "gridcolor": "white",
            "gridwidth": 2,
            "linecolor": "white",
            "showbackground": true,
            "ticks": "",
            "zerolinecolor": "white"
           },
           "zaxis": {
            "backgroundcolor": "#E5ECF6",
            "gridcolor": "white",
            "gridwidth": 2,
            "linecolor": "white",
            "showbackground": true,
            "ticks": "",
            "zerolinecolor": "white"
           }
          },
          "shapedefaults": {
           "line": {
            "color": "#2a3f5f"
           }
          },
          "ternary": {
           "aaxis": {
            "gridcolor": "white",
            "linecolor": "white",
            "ticks": ""
           },
           "baxis": {
            "gridcolor": "white",
            "linecolor": "white",
            "ticks": ""
           },
           "bgcolor": "#E5ECF6",
           "caxis": {
            "gridcolor": "white",
            "linecolor": "white",
            "ticks": ""
           }
          },
          "title": {
           "x": 0.05
          },
          "xaxis": {
           "automargin": true,
           "gridcolor": "white",
           "linecolor": "white",
           "ticks": "",
           "title": {
            "standoff": 15
           },
           "zerolinecolor": "white",
           "zerolinewidth": 2
          },
          "yaxis": {
           "automargin": true,
           "gridcolor": "white",
           "linecolor": "white",
           "ticks": "",
           "title": {
            "standoff": 15
           },
           "zerolinecolor": "white",
           "zerolinewidth": 2
          }
         }
        },
        "width": 700,
        "xaxis": {
         "title": {
          "text": "time"
         }
        },
        "yaxis": {
         "title": {
          "text": "x"
         }
        }
       }
      },
      "text/html": [
       "<div\n",
       "    class=\"webio-mountpoint\"\n",
       "    data-webio-mountpoint=\"7458784929180361666\"\n",
       ">\n",
       "    <script>\n",
       "    (function(){\n",
       "    // Some integrations (namely, IJulia/Jupyter) use an alternate render pathway than\n",
       "    // just putting the html on the page. If WebIO isn't defined, then it's pretty likely\n",
       "    // that we're in one of those situations and the integration just isn't installed\n",
       "    // correctly.\n",
       "    if (typeof window.WebIO === \"undefined\") {\n",
       "        document\n",
       "            .querySelector('[data-webio-mountpoint=\"7458784929180361666\"]')\n",
       "            .innerHTML = (\n",
       "                '<div style=\"padding: 1em; background-color: #f8d6da; border: 1px solid #f5c6cb; font-weight: bold;\">' +\n",
       "                '<p><strong>WebIO not detected.</strong></p>' +\n",
       "                '<p>Please read ' +\n",
       "                '<a href=\"https://juliagizmos.github.io/WebIO.jl/latest/troubleshooting/not-detected/\" target=\"_blank\">the troubleshooting guide</a> ' +\n",
       "                'for more information on how to resolve this issue.</p>' +\n",
       "                '<p><a href=\"https://juliagizmos.github.io/WebIO.jl/latest/troubleshooting/not-detected/\" target=\"_blank\">https://juliagizmos.github.io/WebIO.jl/latest/troubleshooting/not-detected/</a></p>' +\n",
       "                '</div>'\n",
       "            );\n",
       "        return;\n",
       "    }\n",
       "    WebIO.mount(\n",
       "        document.querySelector('[data-webio-mountpoint=\"7458784929180361666\"]'),\n",
       "        {\"props\":{},\"nodeType\":\"Scope\",\"type\":\"node\",\"instanceArgs\":{\"imports\":{\"data\":[{\"name\":\"Plotly\",\"type\":\"js\",\"url\":\"\\/assetserver\\/5b0bcbbb362c204ec77e728ffa8c7da4be28ce8a-plotly.min.js\"},{\"name\":null,\"type\":\"js\",\"url\":\"\\/assetserver\\/6303ac4e25f5217851dbb12ecf3059151c237374-plotly_webio.bundle.js\"}],\"type\":\"async_block\"},\"id\":\"1316847986026530557\",\"handlers\":{\"_toImage\":[\"(function (options){return this.Plotly.toImage(this.plotElem,options).then((function (data){return WebIO.setval({\\\"name\\\":\\\"image\\\",\\\"scope\\\":\\\"1316847986026530557\\\",\\\"id\\\":\\\"3781032750636715702\\\",\\\"type\\\":\\\"observable\\\"},data)}))})\"],\"__get_gd_contents\":[\"(function (prop){prop==\\\"data\\\" ? (WebIO.setval({\\\"name\\\":\\\"__gd_contents\\\",\\\"scope\\\":\\\"1316847986026530557\\\",\\\"id\\\":\\\"9657345995602364267\\\",\\\"type\\\":\\\"observable\\\"},this.plotElem.data)) : undefined; return prop==\\\"layout\\\" ? (WebIO.setval({\\\"name\\\":\\\"__gd_contents\\\",\\\"scope\\\":\\\"1316847986026530557\\\",\\\"id\\\":\\\"9657345995602364267\\\",\\\"type\\\":\\\"observable\\\"},this.plotElem.layout)) : undefined})\"],\"_downloadImage\":[\"(function (options){return this.Plotly.downloadImage(this.plotElem,options)})\"],\"_commands\":[\"(function (args){var fn=args.shift(); var elem=this.plotElem; var Plotly=this.Plotly; args.unshift(elem); return Plotly[fn].apply(this,args)})\"]},\"systemjs_options\":null,\"mount_callbacks\":[\"function () {\\n    var handler = ((function (Plotly,PlotlyWebIO){PlotlyWebIO.init(WebIO); var gd=this.dom.querySelector(\\\"#plot-d468a035-1ade-403b-a19f-835258d1b51d\\\"); this.plotElem=gd; this.Plotly=Plotly; (window.Blink!==undefined) ? (gd.style.width=\\\"100%\\\", gd.style.height=\\\"100vh\\\", gd.style.marginLeft=\\\"0%\\\", gd.style.marginTop=\\\"0vh\\\") : undefined; window.onresize=(function (){return Plotly.Plots.resize(gd)}); Plotly.newPlot(gd,[{\\\"mode\\\":\\\"lines\\\",\\\"y\\\":[1.0,0.9950041652780258,0.9800665778412416,0.955336489125606,0.9210609940028851,0.8775825618903728,0.8253356149096783,0.7648421872844885,0.6967067093471654,0.6216099682706644,0.5403023058681398,0.4535961214255773,0.3623577544766736,0.26749882862458735,0.16996714290024104,0.0707372016677029,-0.029199522301288815,-0.12884449429552464,-0.2272020946930871,-0.32328956686350335,-0.4161468365471424,-0.5048461045998576,-0.5885011172553458,-0.666276021279824,-0.7373937155412454,-0.8011436155469337,-0.8568887533689473,-0.9040721420170612,-0.9422223406686581,-0.9709581651495905,-0.9899924966004454,-0.9991351502732795,-0.9982947757947531,-0.9874797699088649,-0.9667981925794611,-0.9364566872907963,-0.896758416334147,-0.848100031710408,-0.7909677119144168,-0.7259323042001402,-0.6536436208636119,-0.5748239465332692,-0.4902608213406994,-0.40079917207997545,-0.30733286997841935,-0.2107957994307797,-0.11215252693505487,-0.01238866346289056,0.0874989834394464,0.18651236942257576,0.28366218546322625,0.37797774271298024,0.4685166713003771,0.5543743361791608,0.6346928759426347,0.70866977429126,0.7755658785102496,0.8347127848391598,0.8855195169413189,0.9274784307440359,0.960170286650366,0.9832684384425845,0.9965420970232175,0.9998586363834151,0.9931849187581926,0.9765876257280235,0.9502325919585296,0.9143831482353194,0.8693974903498253,0.8157251001253568,0.7539022543433046,0.6845466664428066,0.6083513145322546,0.5260775173811053,0.43854732757439036,0.3466353178350258,0.2512598425822557,0.15337386203786435,0.05395542056264975,-0.04600212563953695,-0.14550003380861354,-0.2435441537357911,-0.3391548609838345,-0.43137684497062084,-0.5192886541166856,-0.6020119026848236,-0.6787200473200125,-0.7486466455973987,-0.811093014061656,-0.8654352092411123,-0.9111302618846769,-0.9477216021311119,-0.9748436214041636,-0.9922253254526034,-0.9996930420352065,-0.9971721561963784,-0.984687855794127,-0.9623648798313102,-0.9304262721047533,-0.8891911526253609,-0.8390715290764524],\\\"type\\\":\\\"scatter\\\",\\\"name\\\":\\\"solution\\\",\\\"x\\\":[0.0,0.1,0.2,0.3,0.4,0.5,0.6,0.7,0.8,0.9,1.0,1.1,1.2,1.3,1.4,1.5,1.6,1.7,1.8,1.9,2.0,2.1,2.2,2.3,2.4,2.5,2.6,2.7,2.8,2.9,3.0,3.1,3.2,3.3,3.4,3.5,3.6,3.7,3.8,3.9,4.0,4.1,4.2,4.3,4.4,4.5,4.6,4.7,4.8,4.9,5.0,5.1,5.2,5.3,5.4,5.5,5.6,5.7,5.8,5.9,6.0,6.1,6.2,6.3,6.4,6.5,6.6,6.7,6.8,6.9,7.0,7.1,7.2,7.3,7.4,7.5,7.6,7.7,7.8,7.9,8.0,8.1,8.2,8.3,8.4,8.5,8.6,8.7,8.8,8.9,9.0,9.1,9.2,9.3,9.4,9.5,9.6,9.7,9.8,9.9,10.0]},{\\\"mode\\\":\\\"lines\\\",\\\"y\\\":[1.0,0.9800665778412416,0.9210609940028864,0.8253356149096818,0.6967067093471708,0.5403023058681482,0.3623577544766641,0.16996714290021106,-0.029199522301339573,-0.22720209469315605,-0.4161468365472248,-0.5885011172554352,-0.7373937155413329,-0.8568887533690226,-0.9422223406687134,-0.9899924966004694,-0.998294775794738,-0.9667981925793999,-0.8967584163340332,-0.790967711914249,-0.6536436208633898,-0.4902608213405033,-0.3073328699782707,-0.11215252693496776,0.08749898343946501,0.283662185463178,0.46851667130027136,0.634692875942489,0.7755658785100878,0.8855195169411672,0.9601702866502546,0.9965420970231776,0.9931849187582523,0.9502325919587132,0.8693974903501511,0.7539022543437843,0.6083513145328892,0.4385473275751714,0.25125984258316364,0.05395542056365539,-0.14550003380754967,-0.33915486098292397,-0.5192886541159506,-0.6787200473194605,-0.8110930140612791,-0.9111302618844549,-0.9748436214040661,-0.9996930420351952,-0.9846878557941593,-0.930426272104784,-0.8390715290764413],\\\"type\\\":\\\"scatter\\\",\\\"name\\\":\\\"estimate\\\",\\\"x\\\":[0.0,0.2,0.4,0.6,0.8,1.0,1.2,1.4,1.6,1.8,2.0,2.2,2.4,2.6,2.8,3.0,3.2,3.4,3.6,3.8,4.0,4.2,4.4,4.6,4.8,5.0,5.2,5.4,5.6,5.8,6.0,6.2,6.4,6.6,6.8,7.0,7.2,7.4,7.6,7.8,8.0,8.2,8.4,8.6,8.8,9.0,9.2,9.4,9.6,9.8,10.0]}],{\\\"xaxis\\\":{\\\"title\\\":{\\\"text\\\":\\\"time\\\"}},\\\"template\\\":{\\\"layout\\\":{\\\"coloraxis\\\":{\\\"colorbar\\\":{\\\"ticks\\\":\\\"\\\",\\\"outlinewidth\\\":0}},\\\"xaxis\\\":{\\\"gridcolor\\\":\\\"white\\\",\\\"zerolinewidth\\\":2,\\\"title\\\":{\\\"standoff\\\":15},\\\"ticks\\\":\\\"\\\",\\\"zerolinecolor\\\":\\\"white\\\",\\\"automargin\\\":true,\\\"linecolor\\\":\\\"white\\\"},\\\"hovermode\\\":\\\"closest\\\",\\\"paper_bgcolor\\\":\\\"white\\\",\\\"geo\\\":{\\\"showlakes\\\":true,\\\"showland\\\":true,\\\"landcolor\\\":\\\"#E5ECF6\\\",\\\"bgcolor\\\":\\\"white\\\",\\\"subunitcolor\\\":\\\"white\\\",\\\"lakecolor\\\":\\\"white\\\"},\\\"colorscale\\\":{\\\"sequential\\\":[[0.0,\\\"#0d0887\\\"],[0.1111111111111111,\\\"#46039f\\\"],[0.2222222222222222,\\\"#7201a8\\\"],[0.3333333333333333,\\\"#9c179e\\\"],[0.4444444444444444,\\\"#bd3786\\\"],[0.5555555555555556,\\\"#d8576b\\\"],[0.6666666666666666,\\\"#ed7953\\\"],[0.7777777777777778,\\\"#fb9f3a\\\"],[0.8888888888888888,\\\"#fdca26\\\"],[1.0,\\\"#f0f921\\\"]],\\\"diverging\\\":[[0,\\\"#8e0152\\\"],[0.1,\\\"#c51b7d\\\"],[0.2,\\\"#de77ae\\\"],[0.3,\\\"#f1b6da\\\"],[0.4,\\\"#fde0ef\\\"],[0.5,\\\"#f7f7f7\\\"],[0.6,\\\"#e6f5d0\\\"],[0.7,\\\"#b8e186\\\"],[0.8,\\\"#7fbc41\\\"],[0.9,\\\"#4d9221\\\"],[1,\\\"#276419\\\"]],\\\"sequentialminus\\\":[[0.0,\\\"#0d0887\\\"],[0.1111111111111111,\\\"#46039f\\\"],[0.2222222222222222,\\\"#7201a8\\\"],[0.3333333333333333,\\\"#9c179e\\\"],[0.4444444444444444,\\\"#bd3786\\\"],[0.5555555555555556,\\\"#d8576b\\\"],[0.6666666666666666,\\\"#ed7953\\\"],[0.7777777777777778,\\\"#fb9f3a\\\"],[0.8888888888888888,\\\"#fdca26\\\"],[1.0,\\\"#f0f921\\\"]]},\\\"yaxis\\\":{\\\"gridcolor\\\":\\\"white\\\",\\\"zerolinewidth\\\":2,\\\"title\\\":{\\\"standoff\\\":15},\\\"ticks\\\":\\\"\\\",\\\"zerolinecolor\\\":\\\"white\\\",\\\"automargin\\\":true,\\\"linecolor\\\":\\\"white\\\"},\\\"shapedefaults\\\":{\\\"line\\\":{\\\"color\\\":\\\"#2a3f5f\\\"}},\\\"hoverlabel\\\":{\\\"align\\\":\\\"left\\\"},\\\"mapbox\\\":{\\\"style\\\":\\\"light\\\"},\\\"polar\\\":{\\\"angularaxis\\\":{\\\"gridcolor\\\":\\\"white\\\",\\\"ticks\\\":\\\"\\\",\\\"linecolor\\\":\\\"white\\\"},\\\"bgcolor\\\":\\\"#E5ECF6\\\",\\\"radialaxis\\\":{\\\"gridcolor\\\":\\\"white\\\",\\\"ticks\\\":\\\"\\\",\\\"linecolor\\\":\\\"white\\\"}},\\\"autotypenumbers\\\":\\\"strict\\\",\\\"font\\\":{\\\"color\\\":\\\"#2a3f5f\\\"},\\\"ternary\\\":{\\\"baxis\\\":{\\\"gridcolor\\\":\\\"white\\\",\\\"ticks\\\":\\\"\\\",\\\"linecolor\\\":\\\"white\\\"},\\\"bgcolor\\\":\\\"#E5ECF6\\\",\\\"caxis\\\":{\\\"gridcolor\\\":\\\"white\\\",\\\"ticks\\\":\\\"\\\",\\\"linecolor\\\":\\\"white\\\"},\\\"aaxis\\\":{\\\"gridcolor\\\":\\\"white\\\",\\\"ticks\\\":\\\"\\\",\\\"linecolor\\\":\\\"white\\\"}},\\\"annotationdefaults\\\":{\\\"arrowhead\\\":0,\\\"arrowwidth\\\":1,\\\"arrowcolor\\\":\\\"#2a3f5f\\\"},\\\"plot_bgcolor\\\":\\\"#E5ECF6\\\",\\\"title\\\":{\\\"x\\\":0.05},\\\"scene\\\":{\\\"xaxis\\\":{\\\"gridcolor\\\":\\\"white\\\",\\\"gridwidth\\\":2,\\\"backgroundcolor\\\":\\\"#E5ECF6\\\",\\\"ticks\\\":\\\"\\\",\\\"showbackground\\\":true,\\\"zerolinecolor\\\":\\\"white\\\",\\\"linecolor\\\":\\\"white\\\"},\\\"zaxis\\\":{\\\"gridcolor\\\":\\\"white\\\",\\\"gridwidth\\\":2,\\\"backgroundcolor\\\":\\\"#E5ECF6\\\",\\\"ticks\\\":\\\"\\\",\\\"showbackground\\\":true,\\\"zerolinecolor\\\":\\\"white\\\",\\\"linecolor\\\":\\\"white\\\"},\\\"yaxis\\\":{\\\"gridcolor\\\":\\\"white\\\",\\\"gridwidth\\\":2,\\\"backgroundcolor\\\":\\\"#E5ECF6\\\",\\\"ticks\\\":\\\"\\\",\\\"showbackground\\\":true,\\\"zerolinecolor\\\":\\\"white\\\",\\\"linecolor\\\":\\\"white\\\"}},\\\"colorway\\\":[\\\"#636efa\\\",\\\"#EF553B\\\",\\\"#00cc96\\\",\\\"#ab63fa\\\",\\\"#FFA15A\\\",\\\"#19d3f3\\\",\\\"#FF6692\\\",\\\"#B6E880\\\",\\\"#FF97FF\\\",\\\"#FECB52\\\"]},\\\"data\\\":{\\\"barpolar\\\":[{\\\"type\\\":\\\"barpolar\\\",\\\"marker\\\":{\\\"line\\\":{\\\"color\\\":\\\"#E5ECF6\\\",\\\"width\\\":0.5}}}],\\\"carpet\\\":[{\\\"aaxis\\\":{\\\"gridcolor\\\":\\\"white\\\",\\\"endlinecolor\\\":\\\"#2a3f5f\\\",\\\"minorgridcolor\\\":\\\"white\\\",\\\"startlinecolor\\\":\\\"#2a3f5f\\\",\\\"linecolor\\\":\\\"white\\\"},\\\"type\\\":\\\"carpet\\\",\\\"baxis\\\":{\\\"gridcolor\\\":\\\"white\\\",\\\"endlinecolor\\\":\\\"#2a3f5f\\\",\\\"minorgridcolor\\\":\\\"white\\\",\\\"startlinecolor\\\":\\\"#2a3f5f\\\",\\\"linecolor\\\":\\\"white\\\"}}],\\\"scatterpolar\\\":[{\\\"type\\\":\\\"scatterpolar\\\",\\\"marker\\\":{\\\"colorbar\\\":{\\\"ticks\\\":\\\"\\\",\\\"outlinewidth\\\":0}}}],\\\"parcoords\\\":[{\\\"line\\\":{\\\"colorbar\\\":{\\\"ticks\\\":\\\"\\\",\\\"outlinewidth\\\":0}},\\\"type\\\":\\\"parcoords\\\"}],\\\"scatter\\\":[{\\\"type\\\":\\\"scatter\\\",\\\"marker\\\":{\\\"colorbar\\\":{\\\"ticks\\\":\\\"\\\",\\\"outlinewidth\\\":0}}}],\\\"histogram2dcontour\\\":[{\\\"colorbar\\\":{\\\"ticks\\\":\\\"\\\",\\\"outlinewidth\\\":0},\\\"type\\\":\\\"histogram2dcontour\\\",\\\"colorscale\\\":[[0.0,\\\"#0d0887\\\"],[0.1111111111111111,\\\"#46039f\\\"],[0.2222222222222222,\\\"#7201a8\\\"],[0.3333333333333333,\\\"#9c179e\\\"],[0.4444444444444444,\\\"#bd3786\\\"],[0.5555555555555556,\\\"#d8576b\\\"],[0.6666666666666666,\\\"#ed7953\\\"],[0.7777777777777778,\\\"#fb9f3a\\\"],[0.8888888888888888,\\\"#fdca26\\\"],[1.0,\\\"#f0f921\\\"]]}],\\\"contour\\\":[{\\\"colorbar\\\":{\\\"ticks\\\":\\\"\\\",\\\"outlinewidth\\\":0},\\\"type\\\":\\\"contour\\\",\\\"colorscale\\\":[[0.0,\\\"#0d0887\\\"],[0.1111111111111111,\\\"#46039f\\\"],[0.2222222222222222,\\\"#7201a8\\\"],[0.3333333333333333,\\\"#9c179e\\\"],[0.4444444444444444,\\\"#bd3786\\\"],[0.5555555555555556,\\\"#d8576b\\\"],[0.6666666666666666,\\\"#ed7953\\\"],[0.7777777777777778,\\\"#fb9f3a\\\"],[0.8888888888888888,\\\"#fdca26\\\"],[1.0,\\\"#f0f921\\\"]]}],\\\"scattercarpet\\\":[{\\\"type\\\":\\\"scattercarpet\\\",\\\"marker\\\":{\\\"colorbar\\\":{\\\"ticks\\\":\\\"\\\",\\\"outlinewidth\\\":0}}}],\\\"mesh3d\\\":[{\\\"colorbar\\\":{\\\"ticks\\\":\\\"\\\",\\\"outlinewidth\\\":0},\\\"type\\\":\\\"mesh3d\\\"}],\\\"surface\\\":[{\\\"colorbar\\\":{\\\"ticks\\\":\\\"\\\",\\\"outlinewidth\\\":0},\\\"type\\\":\\\"surface\\\",\\\"colorscale\\\":[[0.0,\\\"#0d0887\\\"],[0.1111111111111111,\\\"#46039f\\\"],[0.2222222222222222,\\\"#7201a8\\\"],[0.3333333333333333,\\\"#9c179e\\\"],[0.4444444444444444,\\\"#bd3786\\\"],[0.5555555555555556,\\\"#d8576b\\\"],[0.6666666666666666,\\\"#ed7953\\\"],[0.7777777777777778,\\\"#fb9f3a\\\"],[0.8888888888888888,\\\"#fdca26\\\"],[1.0,\\\"#f0f921\\\"]]}],\\\"scattermapbox\\\":[{\\\"type\\\":\\\"scattermapbox\\\",\\\"marker\\\":{\\\"colorbar\\\":{\\\"ticks\\\":\\\"\\\",\\\"outlinewidth\\\":0}}}],\\\"scattergeo\\\":[{\\\"type\\\":\\\"scattergeo\\\",\\\"marker\\\":{\\\"colorbar\\\":{\\\"ticks\\\":\\\"\\\",\\\"outlinewidth\\\":0}}}],\\\"histogram\\\":[{\\\"type\\\":\\\"histogram\\\",\\\"marker\\\":{\\\"colorbar\\\":{\\\"ticks\\\":\\\"\\\",\\\"outlinewidth\\\":0}}}],\\\"pie\\\":[{\\\"type\\\":\\\"pie\\\",\\\"automargin\\\":true}],\\\"choropleth\\\":[{\\\"colorbar\\\":{\\\"ticks\\\":\\\"\\\",\\\"outlinewidth\\\":0},\\\"type\\\":\\\"choropleth\\\"}],\\\"heatmapgl\\\":[{\\\"colorbar\\\":{\\\"ticks\\\":\\\"\\\",\\\"outlinewidth\\\":0},\\\"type\\\":\\\"heatmapgl\\\",\\\"colorscale\\\":[[0.0,\\\"#0d0887\\\"],[0.1111111111111111,\\\"#46039f\\\"],[0.2222222222222222,\\\"#7201a8\\\"],[0.3333333333333333,\\\"#9c179e\\\"],[0.4444444444444444,\\\"#bd3786\\\"],[0.5555555555555556,\\\"#d8576b\\\"],[0.6666666666666666,\\\"#ed7953\\\"],[0.7777777777777778,\\\"#fb9f3a\\\"],[0.8888888888888888,\\\"#fdca26\\\"],[1.0,\\\"#f0f921\\\"]]}],\\\"bar\\\":[{\\\"type\\\":\\\"bar\\\",\\\"error_y\\\":{\\\"color\\\":\\\"#2a3f5f\\\"},\\\"error_x\\\":{\\\"color\\\":\\\"#2a3f5f\\\"},\\\"marker\\\":{\\\"line\\\":{\\\"color\\\":\\\"#E5ECF6\\\",\\\"width\\\":0.5}}}],\\\"heatmap\\\":[{\\\"colorbar\\\":{\\\"ticks\\\":\\\"\\\",\\\"outlinewidth\\\":0},\\\"type\\\":\\\"heatmap\\\",\\\"colorscale\\\":[[0.0,\\\"#0d0887\\\"],[0.1111111111111111,\\\"#46039f\\\"],[0.2222222222222222,\\\"#7201a8\\\"],[0.3333333333333333,\\\"#9c179e\\\"],[0.4444444444444444,\\\"#bd3786\\\"],[0.5555555555555556,\\\"#d8576b\\\"],[0.6666666666666666,\\\"#ed7953\\\"],[0.7777777777777778,\\\"#fb9f3a\\\"],[0.8888888888888888,\\\"#fdca26\\\"],[1.0,\\\"#f0f921\\\"]]}],\\\"contourcarpet\\\":[{\\\"colorbar\\\":{\\\"ticks\\\":\\\"\\\",\\\"outlinewidth\\\":0},\\\"type\\\":\\\"contourcarpet\\\"}],\\\"table\\\":[{\\\"type\\\":\\\"table\\\",\\\"header\\\":{\\\"line\\\":{\\\"color\\\":\\\"white\\\"},\\\"fill\\\":{\\\"color\\\":\\\"#C8D4E3\\\"}},\\\"cells\\\":{\\\"line\\\":{\\\"color\\\":\\\"white\\\"},\\\"fill\\\":{\\\"color\\\":\\\"#EBF0F8\\\"}}}],\\\"scatter3d\\\":[{\\\"line\\\":{\\\"colorbar\\\":{\\\"ticks\\\":\\\"\\\",\\\"outlinewidth\\\":0}},\\\"type\\\":\\\"scatter3d\\\",\\\"marker\\\":{\\\"colorbar\\\":{\\\"ticks\\\":\\\"\\\",\\\"outlinewidth\\\":0}}}],\\\"scattergl\\\":[{\\\"type\\\":\\\"scattergl\\\",\\\"marker\\\":{\\\"colorbar\\\":{\\\"ticks\\\":\\\"\\\",\\\"outlinewidth\\\":0}}}],\\\"histogram2d\\\":[{\\\"colorbar\\\":{\\\"ticks\\\":\\\"\\\",\\\"outlinewidth\\\":0},\\\"type\\\":\\\"histogram2d\\\",\\\"colorscale\\\":[[0.0,\\\"#0d0887\\\"],[0.1111111111111111,\\\"#46039f\\\"],[0.2222222222222222,\\\"#7201a8\\\"],[0.3333333333333333,\\\"#9c179e\\\"],[0.4444444444444444,\\\"#bd3786\\\"],[0.5555555555555556,\\\"#d8576b\\\"],[0.6666666666666666,\\\"#ed7953\\\"],[0.7777777777777778,\\\"#fb9f3a\\\"],[0.8888888888888888,\\\"#fdca26\\\"],[1.0,\\\"#f0f921\\\"]]}],\\\"scatterternary\\\":[{\\\"type\\\":\\\"scatterternary\\\",\\\"marker\\\":{\\\"colorbar\\\":{\\\"ticks\\\":\\\"\\\",\\\"outlinewidth\\\":0}}}],\\\"scatterpolargl\\\":[{\\\"type\\\":\\\"scatterpolargl\\\",\\\"marker\\\":{\\\"colorbar\\\":{\\\"ticks\\\":\\\"\\\",\\\"outlinewidth\\\":0}}}]}},\\\"height\\\":350,\\\"margin\\\":{\\\"l\\\":50,\\\"b\\\":50,\\\"r\\\":50,\\\"t\\\":60},\\\"yaxis\\\":{\\\"title\\\":{\\\"text\\\":\\\"x\\\"}},\\\"width\\\":700},{\\\"showLink\\\":false,\\\"editable\\\":false,\\\"responsive\\\":true,\\\"staticPlot\\\":false,\\\"scrollZoom\\\":true}); gd.on(\\\"plotly_hover\\\",(function (data){var filtered_data=WebIO.PlotlyCommands.filterEventData(gd,data,\\\"hover\\\"); return !(filtered_data.isnil) ? (WebIO.setval({\\\"name\\\":\\\"hover\\\",\\\"scope\\\":\\\"1316847986026530557\\\",\\\"id\\\":\\\"6466181167872286774\\\",\\\"type\\\":\\\"observable\\\"},filtered_data.out)) : undefined})); gd.on(\\\"plotly_unhover\\\",(function (){return WebIO.setval({\\\"name\\\":\\\"hover\\\",\\\"scope\\\":\\\"1316847986026530557\\\",\\\"id\\\":\\\"6466181167872286774\\\",\\\"type\\\":\\\"observable\\\"},{})})); gd.on(\\\"plotly_selected\\\",(function (data){var filtered_data=WebIO.PlotlyCommands.filterEventData(gd,data,\\\"selected\\\"); return !(filtered_data.isnil) ? (WebIO.setval({\\\"name\\\":\\\"selected\\\",\\\"scope\\\":\\\"1316847986026530557\\\",\\\"id\\\":\\\"3408552459041989778\\\",\\\"type\\\":\\\"observable\\\"},filtered_data.out)) : undefined})); gd.on(\\\"plotly_deselect\\\",(function (){return WebIO.setval({\\\"name\\\":\\\"selected\\\",\\\"scope\\\":\\\"1316847986026530557\\\",\\\"id\\\":\\\"3408552459041989778\\\",\\\"type\\\":\\\"observable\\\"},{})})); gd.on(\\\"plotly_relayout\\\",(function (data){var filtered_data=WebIO.PlotlyCommands.filterEventData(gd,data,\\\"relayout\\\"); return !(filtered_data.isnil) ? (WebIO.setval({\\\"name\\\":\\\"relayout\\\",\\\"scope\\\":\\\"1316847986026530557\\\",\\\"id\\\":\\\"5722497139158085032\\\",\\\"type\\\":\\\"observable\\\"},filtered_data.out)) : undefined})); return gd.on(\\\"plotly_click\\\",(function (data){var filtered_data=WebIO.PlotlyCommands.filterEventData(gd,data,\\\"click\\\"); return !(filtered_data.isnil) ? (WebIO.setval({\\\"name\\\":\\\"click\\\",\\\"scope\\\":\\\"1316847986026530557\\\",\\\"id\\\":\\\"9757375062418291135\\\",\\\"type\\\":\\\"observable\\\"},filtered_data.out)) : undefined}))}));\\n    (WebIO.importBlock({\\\"data\\\":[{\\\"name\\\":\\\"Plotly\\\",\\\"type\\\":\\\"js\\\",\\\"url\\\":\\\"\\/assetserver\\/5b0bcbbb362c204ec77e728ffa8c7da4be28ce8a-plotly.min.js\\\"},{\\\"name\\\":null,\\\"type\\\":\\\"js\\\",\\\"url\\\":\\\"\\/assetserver\\/6303ac4e25f5217851dbb12ecf3059151c237374-plotly_webio.bundle.js\\\"}],\\\"type\\\":\\\"async_block\\\"})).then((imports) => handler.apply(this, imports));\\n}\\n\"],\"observables\":{\"_toImage\":{\"sync\":false,\"id\":\"17348051700113557276\",\"value\":{}},\"hover\":{\"sync\":false,\"id\":\"6466181167872286774\",\"value\":{}},\"selected\":{\"sync\":false,\"id\":\"3408552459041989778\",\"value\":{}},\"__gd_contents\":{\"sync\":false,\"id\":\"9657345995602364267\",\"value\":{}},\"click\":{\"sync\":false,\"id\":\"9757375062418291135\",\"value\":{}},\"image\":{\"sync\":true,\"id\":\"3781032750636715702\",\"value\":\"\"},\"__get_gd_contents\":{\"sync\":false,\"id\":\"6871547180106723717\",\"value\":\"\"},\"_downloadImage\":{\"sync\":false,\"id\":\"686122926795858790\",\"value\":{}},\"relayout\":{\"sync\":false,\"id\":\"5722497139158085032\",\"value\":{}},\"_commands\":{\"sync\":false,\"id\":\"6959910935352646441\",\"value\":[]}}},\"children\":[{\"props\":{\"id\":\"plot-d468a035-1ade-403b-a19f-835258d1b51d\"},\"nodeType\":\"DOM\",\"type\":\"node\",\"instanceArgs\":{\"namespace\":\"html\",\"tag\":\"div\"},\"children\":[]}]},\n",
       "        window,\n",
       "    );\n",
       "    })()\n",
       "    </script>\n",
       "</div>\n"
      ],
      "text/plain": [
       "data: [\n",
       "  \"scatter with fields mode, name, type, x, and y\",\n",
       "  \"scatter with fields mode, name, type, x, and y\"\n",
       "]\n",
       "\n",
       "layout: \"layout with fields height, margin, template, width, xaxis, and yaxis\"\n",
       "\n"
      ]
     },
     "execution_count": 37,
     "metadata": {},
     "output_type": "execute_result"
    }
   ],
   "source": [
    "u = [1 0]\n",
    "t = 0:0.2:10\n",
    "real_t = 0:0.1:10\n",
    "s = solve_ode(f2, u, t, \"rk4\", 0.001);\n",
    "real_s = f2_solution(u, real_t);\n",
    "\n",
    "x = s[:,1];\n",
    "x_dot = s[:,2];\n",
    "x_sol = real_s[:,1];\n",
    "x_dot_sol = real_s[:,2];\n",
    "\n",
    "solution = scatter(x=real_t, y=x_sol, mode=\"lines\",name=\"solution\")\n",
    "estimate = scatter(x=t, y=x, mode=\"lines\",name=\"estimate\")\n",
    "\n",
    "layout = Layout(\n",
    "    xaxis_title=\"time\",\n",
    "    yaxis_title=\"x\",\n",
    "    width=700, height=350,\n",
    "    )\n",
    "\n",
    "plot([solution, estimate], layout)\n",
    "\n",
    "# include(\"../visualisation.jl\")\n",
    "# plot_ode(f2, u, t, [\"x\" \"y\"])"
   ]
  },
  {
   "cell_type": "markdown",
   "metadata": {},
   "source": [
    "Plot of solution and estimate for x versus x_dot"
   ]
  },
  {
   "cell_type": "code",
   "execution_count": 143,
   "metadata": {},
   "outputs": [
    {
     "data": {
      "application/vnd.plotly.v1+json": {
       "config": {
        "editable": false,
        "responsive": true,
        "scrollZoom": true,
        "showLink": false,
        "staticPlot": false
       },
       "data": [
        {
         "mode": "lines",
         "name": "estimate",
         "type": "scatter",
         "x": [
          1,
          -1.325444263372873,
          0.10315887444473651,
          1.239585784849557,
          -1.1348582804310918,
          -0.2950504181870509,
          1.380426876732591,
          -0.8538701374895279,
          -0.6697561636542141,
          1.4113039550158397,
          -0.5048631889120921,
          -0.9911095171083556,
          1.3297573693404767,
          -0.11563912813827414,
          -1.2335116546293734,
          1.1422830739688454,
          0.2827966792875234,
          -1.3776529609083923,
          0.8638151638077757,
          0.6587050653409784,
          -1.4120512221317965,
          0.516536232936293,
          0.9821413835305995,
          -1.3339662925411764,
          0.12811032188372684,
          1.2273408821781964,
          -1.1496183728609635,
          -0.2705207839633573,
          1.374771109796455,
          -0.8736925126846594,
          -0.6476023592517928,
          1.4126878589763343,
          -0.5281688078432465,
          -0.9730963018927689,
          1.3380707032031187,
          -0.1405714785127246,
          -1.2210739510219122,
          1.156863602307257,
          0.25822369420864144,
          -1.3717815492356573,
          0.883501410063809,
          0.6364489154850435,
          -1.4132138156586558,
          0.539760001992506,
          0.9639749810203248,
          -1.3420702797001343,
          0.15302162159862753,
          1.214711352199632,
          -1.1640181946490493,
          -0.24590637344685085,
          1.3686845134381467
         ],
         "y": [
          1,
          0.4931505902784134,
          -1.4104461161715134,
          0.6807547884509615,
          0.8438582128159835,
          -1.3830926399658288,
          0.3072810407335975,
          1.1273445739008248,
          -1.245562796990662,
          -0.09067053852641609,
          1.3210273125418457,
          -1.008812135680998,
          -0.48139935467832684,
          1.4094777728092922,
          -0.6917000779915623,
          -0.8337801742211877,
          1.385650041743579,
          -0.3194875886484123,
          -1.1197425430766568,
          1.251442222755076,
          0.07817509882398573,
          -1.3165068629004644,
          1.0175452337643927,
          0.4696104027425188,
          -1.4083990007902218,
          0.7025911748193906,
          0.8236368112102256,
          -1.3880988817241695,
          0.33166910568977764,
          1.1120527834949276,
          -1.2572236015488933,
          -0.06567353425036025,
          1.3118832685957669,
          -1.0261986100373968,
          -0.45778465814134717,
          1.4072098846401093,
          -0.713427225535872,
          -0.8134289186258028,
          1.3904389680058973,
          -0.3438246372450663,
          -1.1042758977788842,
          1.262906480297732,
          0.05316682453927733,
          -1.307156891979358,
          1.0347715863739906,
          0.44592304756055084,
          -1.405910517537801,
          0.7242073810984155,
          0.8031572962540108,
          -1.3926701172561682,
          0.3559532310215435
         ]
        },
        {
         "mode": "lines",
         "name": "solution",
         "type": "scatter",
         "x": [
          1,
          0.8951707486311977,
          0.7813972470461804,
          0.6598162824642664,
          0.5316426516942345,
          0.39815702328616975,
          0.26069314151464296,
          0.12062450004679748,
          -0.020649381552357404,
          -0.16171694135681902,
          -0.30116867893975674,
          -0.4376112386358581,
          -0.5696813314905527,
          -0.6960593567926057,
          -0.8154825870882191,
          -0.9267577849363515,
          -1.0287731253427939,
          -1.1205093047479933,
          -1.2010497255712822,
          -1.2695896545509178,
          -1.325444263372824,
          -1.3680554712487312,
          -1.396997521074936,
          -1.4119812334565442,
          -1.4128568960923964,
          -1.39961575965089,
          -1.3723901251904116,
          -1.331452022250891,
          -1.2772104908245632,
          -1.210207494363573,
          -1.1311125046603125,
          -1.0407158127065699,
          -0.939920632367173,
          -0.8297340757656166,
          -0.7112570905526299,
          -0.5856734596011766,
          -0.45423797303929453,
          -0.31826389080191464,
          -0.17910982097169792,
          -0.03816614501616644,
          0.10315887444431626,
          0.24345316453114108,
          0.38131495107288876,
          0.5153667646694795,
          0.6442692039110968,
          0.7667343182343174,
          0.8815384766984096,
          0.9875345941012103,
          1.083663592275287,
          1.1689649820469081,
          1.2425864601263648,
          1.3037924250407127,
          1.3519713270205302,
          1.386641778403062,
          1.4074573634986218,
          1.414210099861652,
          1.4068325163825712,
          1.3853983274367974,
          1.3501216963550764,
          1.3013550955742719,
          1.2395857848492917,
          1.1654309427146803,
          1.079631499840714,
          0.9830447358990654,
          0.876635713907699,
          0.761467637640208,
          0.6386912284451518,
          0.5095332276187211,
          0.3752841392112171,
          0.2372853357371566,
          0.09691565562451554,
          -0.04442237368306934,
          -0.18531654931689856,
          -0.3243591032474591,
          -0.46016076823723656,
          -0.591364658939713,
          -0.7166598294492306,
          -0.834794371839136,
          -0.9445879248119552,
          -1.044943467479309,
          -1.1348582804319953,
          -1.2134339645808774,
          -1.2798854176636076,
          -1.3335486787269142,
          -1.373887562204966,
          -1.4004990153083139,
          -1.4131171451941258,
          -1.411615875679582,
          -1.3960102069534177,
          -1.3664560656989968,
          -1.3232487471264336,
          -1.266819964480464,
          -1.1977335355044112,
          -1.1166797489596652,
          -1.0244684674885642,
          -0.9220210357345692,
          -0.8103610745711474,
          -0.6906042534203678,
          -0.5639471428528249,
          -0.43165525885003947,
          -0.29505041818708266
         ],
         "y": [
          1,
          1.094837581924854,
          1.1787359086363027,
          1.2508566957869456,
          1.3104793363115357,
          1.3570081004945758,
          1.3899780883047137,
          1.4090598745221796,
          1.4140628002466882,
          1.4049368778981477,
          1.3817732906760363,
          1.3448034814870127,
          1.2943968404439,
          1.2310570140417803,
          1.155416872888701,
          1.0682321882717574,
          0.9703740807402162,
          0.8628203161569439,
          0.7466455361851081,
          0.6230105208239112,
          0.4931505902785393,
          0.35836326204901614,
          0.21999528656424427,
          0.07942919089689626,
          -0.06193053499009449,
          -0.20267147144297726,
          -0.34138738154748316,
          -0.47669226178323143,
          -0.607234190512753,
          -0.7317088359356081,
          -0.8488724885405782,
          -0.957554487839989,
          -1.0566689192223333,
          -1.1452254640521131,
          -1.2223392946062923,
          -1.2872399149804161,
          -1.3392788596289995,
          -1.3779361726189014,
          -1.4028256028571358,
          -1.4136984633841139,
          -1.4104461161715403,
          -1.3931010575976794,
          -1.3618365937542876,
          -1.3169651088294303,
          -1.2589349438679354,
          -1.1883259170958766,
          -1.1058435305685193,
          -1.0123119210269913,
          -0.9086656253963943,
          -0.7959402432017567,
          -0.6752620891999122,
          -0.5478369396147522,
          -0.41493798441977603,
          -0.2778931060447405,
          -0.13807161161335246,
          0.0031294487208680666,
          0.14429924063792798,
          0.2840272422415222,
          0.42091733752756155,
          0.5536017659138,
          0.6807547884514401,
          0.8011059341704886,
          0.9134526942057211,
          1.0166725368677647,
          1.1097341236086862,
          1.1917076138158391,
          1.2617739554719074,
          1.3192330688519176,
          1.3635108414884334,
          1.3941648645135571,
          1.4108888530620938,
          1.4135157065686825,
          1.4020191783814075,
          1.3765141380096697,
          1.3372554233860172,
          1.2846352946097648,
          1.219179514613742,
          1.1415420959148648,
          1.0524987659372547,
          0.952939216200235,
          0.8438582128147682,
          0.7263456571092952,
          0.6015756956959386,
          0.47079498878567244,
          0.335310253971595,
          0.19647520993866663,
          0.05567705055410088,
          -0.08567741551521535,
          -0.22617582116989432,
          -0.36441435278322765,
          -0.49901177664292035,
          -0.6286232397817597,
          -0.751953707303916,
          -0.8677709019455417,
          -0.9749176165818487,
          -1.0723232766581878,
          -1.1590146370171066,
          -1.2341255062422527,
          -1.2969054013566816,
          -1.3467270464006822,
          -1.383092639965822
         ]
        }
       ],
       "frames": [],
       "layout": {
        "height": 350,
        "margin": {
         "b": 50,
         "l": 50,
         "r": 50,
         "t": 60
        },
        "template": {
         "data": {
          "bar": [
           {
            "error_x": {
             "color": "#2a3f5f"
            },
            "error_y": {
             "color": "#2a3f5f"
            },
            "marker": {
             "line": {
              "color": "#E5ECF6",
              "width": 0.5
             }
            },
            "type": "bar"
           }
          ],
          "barpolar": [
           {
            "marker": {
             "line": {
              "color": "#E5ECF6",
              "width": 0.5
             }
            },
            "type": "barpolar"
           }
          ],
          "carpet": [
           {
            "aaxis": {
             "endlinecolor": "#2a3f5f",
             "gridcolor": "white",
             "linecolor": "white",
             "minorgridcolor": "white",
             "startlinecolor": "#2a3f5f"
            },
            "baxis": {
             "endlinecolor": "#2a3f5f",
             "gridcolor": "white",
             "linecolor": "white",
             "minorgridcolor": "white",
             "startlinecolor": "#2a3f5f"
            },
            "type": "carpet"
           }
          ],
          "choropleth": [
           {
            "colorbar": {
             "outlinewidth": 0,
             "ticks": ""
            },
            "type": "choropleth"
           }
          ],
          "contour": [
           {
            "colorbar": {
             "outlinewidth": 0,
             "ticks": ""
            },
            "colorscale": [
             [
              0,
              "#0d0887"
             ],
             [
              0.1111111111111111,
              "#46039f"
             ],
             [
              0.2222222222222222,
              "#7201a8"
             ],
             [
              0.3333333333333333,
              "#9c179e"
             ],
             [
              0.4444444444444444,
              "#bd3786"
             ],
             [
              0.5555555555555556,
              "#d8576b"
             ],
             [
              0.6666666666666666,
              "#ed7953"
             ],
             [
              0.7777777777777778,
              "#fb9f3a"
             ],
             [
              0.8888888888888888,
              "#fdca26"
             ],
             [
              1,
              "#f0f921"
             ]
            ],
            "type": "contour"
           }
          ],
          "contourcarpet": [
           {
            "colorbar": {
             "outlinewidth": 0,
             "ticks": ""
            },
            "type": "contourcarpet"
           }
          ],
          "heatmap": [
           {
            "colorbar": {
             "outlinewidth": 0,
             "ticks": ""
            },
            "colorscale": [
             [
              0,
              "#0d0887"
             ],
             [
              0.1111111111111111,
              "#46039f"
             ],
             [
              0.2222222222222222,
              "#7201a8"
             ],
             [
              0.3333333333333333,
              "#9c179e"
             ],
             [
              0.4444444444444444,
              "#bd3786"
             ],
             [
              0.5555555555555556,
              "#d8576b"
             ],
             [
              0.6666666666666666,
              "#ed7953"
             ],
             [
              0.7777777777777778,
              "#fb9f3a"
             ],
             [
              0.8888888888888888,
              "#fdca26"
             ],
             [
              1,
              "#f0f921"
             ]
            ],
            "type": "heatmap"
           }
          ],
          "heatmapgl": [
           {
            "colorbar": {
             "outlinewidth": 0,
             "ticks": ""
            },
            "colorscale": [
             [
              0,
              "#0d0887"
             ],
             [
              0.1111111111111111,
              "#46039f"
             ],
             [
              0.2222222222222222,
              "#7201a8"
             ],
             [
              0.3333333333333333,
              "#9c179e"
             ],
             [
              0.4444444444444444,
              "#bd3786"
             ],
             [
              0.5555555555555556,
              "#d8576b"
             ],
             [
              0.6666666666666666,
              "#ed7953"
             ],
             [
              0.7777777777777778,
              "#fb9f3a"
             ],
             [
              0.8888888888888888,
              "#fdca26"
             ],
             [
              1,
              "#f0f921"
             ]
            ],
            "type": "heatmapgl"
           }
          ],
          "histogram": [
           {
            "marker": {
             "colorbar": {
              "outlinewidth": 0,
              "ticks": ""
             }
            },
            "type": "histogram"
           }
          ],
          "histogram2d": [
           {
            "colorbar": {
             "outlinewidth": 0,
             "ticks": ""
            },
            "colorscale": [
             [
              0,
              "#0d0887"
             ],
             [
              0.1111111111111111,
              "#46039f"
             ],
             [
              0.2222222222222222,
              "#7201a8"
             ],
             [
              0.3333333333333333,
              "#9c179e"
             ],
             [
              0.4444444444444444,
              "#bd3786"
             ],
             [
              0.5555555555555556,
              "#d8576b"
             ],
             [
              0.6666666666666666,
              "#ed7953"
             ],
             [
              0.7777777777777778,
              "#fb9f3a"
             ],
             [
              0.8888888888888888,
              "#fdca26"
             ],
             [
              1,
              "#f0f921"
             ]
            ],
            "type": "histogram2d"
           }
          ],
          "histogram2dcontour": [
           {
            "colorbar": {
             "outlinewidth": 0,
             "ticks": ""
            },
            "colorscale": [
             [
              0,
              "#0d0887"
             ],
             [
              0.1111111111111111,
              "#46039f"
             ],
             [
              0.2222222222222222,
              "#7201a8"
             ],
             [
              0.3333333333333333,
              "#9c179e"
             ],
             [
              0.4444444444444444,
              "#bd3786"
             ],
             [
              0.5555555555555556,
              "#d8576b"
             ],
             [
              0.6666666666666666,
              "#ed7953"
             ],
             [
              0.7777777777777778,
              "#fb9f3a"
             ],
             [
              0.8888888888888888,
              "#fdca26"
             ],
             [
              1,
              "#f0f921"
             ]
            ],
            "type": "histogram2dcontour"
           }
          ],
          "mesh3d": [
           {
            "colorbar": {
             "outlinewidth": 0,
             "ticks": ""
            },
            "type": "mesh3d"
           }
          ],
          "parcoords": [
           {
            "line": {
             "colorbar": {
              "outlinewidth": 0,
              "ticks": ""
             }
            },
            "type": "parcoords"
           }
          ],
          "pie": [
           {
            "automargin": true,
            "type": "pie"
           }
          ],
          "scatter": [
           {
            "marker": {
             "colorbar": {
              "outlinewidth": 0,
              "ticks": ""
             }
            },
            "type": "scatter"
           }
          ],
          "scatter3d": [
           {
            "line": {
             "colorbar": {
              "outlinewidth": 0,
              "ticks": ""
             }
            },
            "marker": {
             "colorbar": {
              "outlinewidth": 0,
              "ticks": ""
             }
            },
            "type": "scatter3d"
           }
          ],
          "scattercarpet": [
           {
            "marker": {
             "colorbar": {
              "outlinewidth": 0,
              "ticks": ""
             }
            },
            "type": "scattercarpet"
           }
          ],
          "scattergeo": [
           {
            "marker": {
             "colorbar": {
              "outlinewidth": 0,
              "ticks": ""
             }
            },
            "type": "scattergeo"
           }
          ],
          "scattergl": [
           {
            "marker": {
             "colorbar": {
              "outlinewidth": 0,
              "ticks": ""
             }
            },
            "type": "scattergl"
           }
          ],
          "scattermapbox": [
           {
            "marker": {
             "colorbar": {
              "outlinewidth": 0,
              "ticks": ""
             }
            },
            "type": "scattermapbox"
           }
          ],
          "scatterpolar": [
           {
            "marker": {
             "colorbar": {
              "outlinewidth": 0,
              "ticks": ""
             }
            },
            "type": "scatterpolar"
           }
          ],
          "scatterpolargl": [
           {
            "marker": {
             "colorbar": {
              "outlinewidth": 0,
              "ticks": ""
             }
            },
            "type": "scatterpolargl"
           }
          ],
          "scatterternary": [
           {
            "marker": {
             "colorbar": {
              "outlinewidth": 0,
              "ticks": ""
             }
            },
            "type": "scatterternary"
           }
          ],
          "surface": [
           {
            "colorbar": {
             "outlinewidth": 0,
             "ticks": ""
            },
            "colorscale": [
             [
              0,
              "#0d0887"
             ],
             [
              0.1111111111111111,
              "#46039f"
             ],
             [
              0.2222222222222222,
              "#7201a8"
             ],
             [
              0.3333333333333333,
              "#9c179e"
             ],
             [
              0.4444444444444444,
              "#bd3786"
             ],
             [
              0.5555555555555556,
              "#d8576b"
             ],
             [
              0.6666666666666666,
              "#ed7953"
             ],
             [
              0.7777777777777778,
              "#fb9f3a"
             ],
             [
              0.8888888888888888,
              "#fdca26"
             ],
             [
              1,
              "#f0f921"
             ]
            ],
            "type": "surface"
           }
          ],
          "table": [
           {
            "cells": {
             "fill": {
              "color": "#EBF0F8"
             },
             "line": {
              "color": "white"
             }
            },
            "header": {
             "fill": {
              "color": "#C8D4E3"
             },
             "line": {
              "color": "white"
             }
            },
            "type": "table"
           }
          ]
         },
         "layout": {
          "annotationdefaults": {
           "arrowcolor": "#2a3f5f",
           "arrowhead": 0,
           "arrowwidth": 1
          },
          "autotypenumbers": "strict",
          "coloraxis": {
           "colorbar": {
            "outlinewidth": 0,
            "ticks": ""
           }
          },
          "colorscale": {
           "diverging": [
            [
             0,
             "#8e0152"
            ],
            [
             0.1,
             "#c51b7d"
            ],
            [
             0.2,
             "#de77ae"
            ],
            [
             0.3,
             "#f1b6da"
            ],
            [
             0.4,
             "#fde0ef"
            ],
            [
             0.5,
             "#f7f7f7"
            ],
            [
             0.6,
             "#e6f5d0"
            ],
            [
             0.7,
             "#b8e186"
            ],
            [
             0.8,
             "#7fbc41"
            ],
            [
             0.9,
             "#4d9221"
            ],
            [
             1,
             "#276419"
            ]
           ],
           "sequential": [
            [
             0,
             "#0d0887"
            ],
            [
             0.1111111111111111,
             "#46039f"
            ],
            [
             0.2222222222222222,
             "#7201a8"
            ],
            [
             0.3333333333333333,
             "#9c179e"
            ],
            [
             0.4444444444444444,
             "#bd3786"
            ],
            [
             0.5555555555555556,
             "#d8576b"
            ],
            [
             0.6666666666666666,
             "#ed7953"
            ],
            [
             0.7777777777777778,
             "#fb9f3a"
            ],
            [
             0.8888888888888888,
             "#fdca26"
            ],
            [
             1,
             "#f0f921"
            ]
           ],
           "sequentialminus": [
            [
             0,
             "#0d0887"
            ],
            [
             0.1111111111111111,
             "#46039f"
            ],
            [
             0.2222222222222222,
             "#7201a8"
            ],
            [
             0.3333333333333333,
             "#9c179e"
            ],
            [
             0.4444444444444444,
             "#bd3786"
            ],
            [
             0.5555555555555556,
             "#d8576b"
            ],
            [
             0.6666666666666666,
             "#ed7953"
            ],
            [
             0.7777777777777778,
             "#fb9f3a"
            ],
            [
             0.8888888888888888,
             "#fdca26"
            ],
            [
             1,
             "#f0f921"
            ]
           ]
          },
          "colorway": [
           "#636efa",
           "#EF553B",
           "#00cc96",
           "#ab63fa",
           "#FFA15A",
           "#19d3f3",
           "#FF6692",
           "#B6E880",
           "#FF97FF",
           "#FECB52"
          ],
          "font": {
           "color": "#2a3f5f"
          },
          "geo": {
           "bgcolor": "white",
           "lakecolor": "white",
           "landcolor": "#E5ECF6",
           "showlakes": true,
           "showland": true,
           "subunitcolor": "white"
          },
          "hoverlabel": {
           "align": "left"
          },
          "hovermode": "closest",
          "mapbox": {
           "style": "light"
          },
          "paper_bgcolor": "white",
          "plot_bgcolor": "#E5ECF6",
          "polar": {
           "angularaxis": {
            "gridcolor": "white",
            "linecolor": "white",
            "ticks": ""
           },
           "bgcolor": "#E5ECF6",
           "radialaxis": {
            "gridcolor": "white",
            "linecolor": "white",
            "ticks": ""
           }
          },
          "scene": {
           "xaxis": {
            "backgroundcolor": "#E5ECF6",
            "gridcolor": "white",
            "gridwidth": 2,
            "linecolor": "white",
            "showbackground": true,
            "ticks": "",
            "zerolinecolor": "white"
           },
           "yaxis": {
            "backgroundcolor": "#E5ECF6",
            "gridcolor": "white",
            "gridwidth": 2,
            "linecolor": "white",
            "showbackground": true,
            "ticks": "",
            "zerolinecolor": "white"
           },
           "zaxis": {
            "backgroundcolor": "#E5ECF6",
            "gridcolor": "white",
            "gridwidth": 2,
            "linecolor": "white",
            "showbackground": true,
            "ticks": "",
            "zerolinecolor": "white"
           }
          },
          "shapedefaults": {
           "line": {
            "color": "#2a3f5f"
           }
          },
          "ternary": {
           "aaxis": {
            "gridcolor": "white",
            "linecolor": "white",
            "ticks": ""
           },
           "baxis": {
            "gridcolor": "white",
            "linecolor": "white",
            "ticks": ""
           },
           "bgcolor": "#E5ECF6",
           "caxis": {
            "gridcolor": "white",
            "linecolor": "white",
            "ticks": ""
           }
          },
          "title": {
           "x": 0.05
          },
          "xaxis": {
           "automargin": true,
           "gridcolor": "white",
           "linecolor": "white",
           "ticks": "",
           "title": {
            "standoff": 15
           },
           "zerolinecolor": "white",
           "zerolinewidth": 2
          },
          "yaxis": {
           "automargin": true,
           "gridcolor": "white",
           "linecolor": "white",
           "ticks": "",
           "title": {
            "standoff": 15
           },
           "zerolinecolor": "white",
           "zerolinewidth": 2
          }
         }
        },
        "width": 700,
        "xaxis": {
         "title": {
          "text": "x_dot"
         }
        },
        "yaxis": {
         "scaleanchor": "x",
         "scaleratio": 1,
         "title": {
          "text": "x"
         }
        }
       }
      },
      "text/html": [
       "<div\n",
       "    class=\"webio-mountpoint\"\n",
       "    data-webio-mountpoint=\"6763069903935229859\"\n",
       ">\n",
       "    <script>\n",
       "    (function(){\n",
       "    // Some integrations (namely, IJulia/Jupyter) use an alternate render pathway than\n",
       "    // just putting the html on the page. If WebIO isn't defined, then it's pretty likely\n",
       "    // that we're in one of those situations and the integration just isn't installed\n",
       "    // correctly.\n",
       "    if (typeof window.WebIO === \"undefined\") {\n",
       "        document\n",
       "            .querySelector('[data-webio-mountpoint=\"6763069903935229859\"]')\n",
       "            .innerHTML = (\n",
       "                '<div style=\"padding: 1em; background-color: #f8d6da; border: 1px solid #f5c6cb; font-weight: bold;\">' +\n",
       "                '<p><strong>WebIO not detected.</strong></p>' +\n",
       "                '<p>Please read ' +\n",
       "                '<a href=\"https://juliagizmos.github.io/WebIO.jl/latest/troubleshooting/not-detected/\" target=\"_blank\">the troubleshooting guide</a> ' +\n",
       "                'for more information on how to resolve this issue.</p>' +\n",
       "                '<p><a href=\"https://juliagizmos.github.io/WebIO.jl/latest/troubleshooting/not-detected/\" target=\"_blank\">https://juliagizmos.github.io/WebIO.jl/latest/troubleshooting/not-detected/</a></p>' +\n",
       "                '</div>'\n",
       "            );\n",
       "        return;\n",
       "    }\n",
       "    WebIO.mount(\n",
       "        document.querySelector('[data-webio-mountpoint=\"6763069903935229859\"]'),\n",
       "        {\"props\":{},\"nodeType\":\"Scope\",\"type\":\"node\",\"instanceArgs\":{\"imports\":{\"data\":[{\"name\":\"Plotly\",\"type\":\"js\",\"url\":\"\\/assetserver\\/5b0bcbbb362c204ec77e728ffa8c7da4be28ce8a-plotly.min.js\"},{\"name\":null,\"type\":\"js\",\"url\":\"\\/assetserver\\/6303ac4e25f5217851dbb12ecf3059151c237374-plotly_webio.bundle.js\"}],\"type\":\"async_block\"},\"id\":\"4228479268294459027\",\"handlers\":{\"_toImage\":[\"(function (options){return this.Plotly.toImage(this.plotElem,options).then((function (data){return WebIO.setval({\\\"name\\\":\\\"image\\\",\\\"scope\\\":\\\"4228479268294459027\\\",\\\"id\\\":\\\"11282871993373267779\\\",\\\"type\\\":\\\"observable\\\"},data)}))})\"],\"__get_gd_contents\":[\"(function (prop){prop==\\\"data\\\" ? (WebIO.setval({\\\"name\\\":\\\"__gd_contents\\\",\\\"scope\\\":\\\"4228479268294459027\\\",\\\"id\\\":\\\"135482644284612279\\\",\\\"type\\\":\\\"observable\\\"},this.plotElem.data)) : undefined; return prop==\\\"layout\\\" ? (WebIO.setval({\\\"name\\\":\\\"__gd_contents\\\",\\\"scope\\\":\\\"4228479268294459027\\\",\\\"id\\\":\\\"135482644284612279\\\",\\\"type\\\":\\\"observable\\\"},this.plotElem.layout)) : undefined})\"],\"_downloadImage\":[\"(function (options){return this.Plotly.downloadImage(this.plotElem,options)})\"],\"_commands\":[\"(function (args){var fn=args.shift(); var elem=this.plotElem; var Plotly=this.Plotly; args.unshift(elem); return Plotly[fn].apply(this,args)})\"]},\"systemjs_options\":null,\"mount_callbacks\":[\"function () {\\n    var handler = ((function (Plotly,PlotlyWebIO){PlotlyWebIO.init(WebIO); var gd=this.dom.querySelector(\\\"#plot-27c3f929-191c-485f-9fb4-1025685fa9f7\\\"); this.plotElem=gd; this.Plotly=Plotly; (window.Blink!==undefined) ? (gd.style.width=\\\"100%\\\", gd.style.height=\\\"100vh\\\", gd.style.marginLeft=\\\"0%\\\", gd.style.marginTop=\\\"0vh\\\") : undefined; window.onresize=(function (){return Plotly.Plots.resize(gd)}); Plotly.newPlot(gd,[{\\\"mode\\\":\\\"lines\\\",\\\"y\\\":[1.0,0.4931505902784134,-1.4104461161715134,0.6807547884509615,0.8438582128159835,-1.3830926399658288,0.3072810407335975,1.1273445739008248,-1.245562796990662,-0.09067053852641609,1.3210273125418457,-1.008812135680998,-0.48139935467832684,1.4094777728092922,-0.6917000779915623,-0.8337801742211877,1.385650041743579,-0.3194875886484123,-1.1197425430766568,1.251442222755076,0.07817509882398573,-1.3165068629004644,1.0175452337643927,0.4696104027425188,-1.4083990007902218,0.7025911748193906,0.8236368112102256,-1.3880988817241695,0.33166910568977764,1.1120527834949276,-1.2572236015488933,-0.06567353425036025,1.3118832685957669,-1.0261986100373968,-0.45778465814134717,1.4072098846401093,-0.713427225535872,-0.8134289186258028,1.3904389680058973,-0.3438246372450663,-1.1042758977788842,1.262906480297732,0.05316682453927733,-1.307156891979358,1.0347715863739906,0.44592304756055084,-1.405910517537801,0.7242073810984155,0.8031572962540108,-1.3926701172561682,0.3559532310215435],\\\"type\\\":\\\"scatter\\\",\\\"name\\\":\\\"estimate\\\",\\\"x\\\":[1.0,-1.325444263372873,0.10315887444473651,1.239585784849557,-1.1348582804310918,-0.2950504181870509,1.380426876732591,-0.8538701374895279,-0.6697561636542141,1.4113039550158397,-0.5048631889120921,-0.9911095171083556,1.3297573693404767,-0.11563912813827414,-1.2335116546293734,1.1422830739688454,0.2827966792875234,-1.3776529609083923,0.8638151638077757,0.6587050653409784,-1.4120512221317965,0.516536232936293,0.9821413835305995,-1.3339662925411764,0.12811032188372684,1.2273408821781964,-1.1496183728609635,-0.2705207839633573,1.374771109796455,-0.8736925126846594,-0.6476023592517928,1.4126878589763343,-0.5281688078432465,-0.9730963018927689,1.3380707032031187,-0.1405714785127246,-1.2210739510219122,1.156863602307257,0.25822369420864144,-1.3717815492356573,0.883501410063809,0.6364489154850435,-1.4132138156586558,0.539760001992506,0.9639749810203248,-1.3420702797001343,0.15302162159862753,1.214711352199632,-1.1640181946490493,-0.24590637344685085,1.3686845134381467]},{\\\"mode\\\":\\\"lines\\\",\\\"y\\\":[1.0,1.094837581924854,1.1787359086363027,1.2508566957869456,1.3104793363115357,1.3570081004945758,1.3899780883047137,1.4090598745221796,1.4140628002466882,1.4049368778981477,1.3817732906760363,1.3448034814870127,1.2943968404439,1.2310570140417803,1.155416872888701,1.0682321882717574,0.9703740807402162,0.8628203161569439,0.7466455361851081,0.6230105208239112,0.4931505902785393,0.35836326204901614,0.21999528656424427,0.07942919089689626,-0.06193053499009449,-0.20267147144297726,-0.34138738154748316,-0.47669226178323143,-0.607234190512753,-0.7317088359356081,-0.8488724885405782,-0.957554487839989,-1.0566689192223333,-1.1452254640521131,-1.2223392946062923,-1.2872399149804161,-1.3392788596289995,-1.3779361726189014,-1.4028256028571358,-1.4136984633841139,-1.4104461161715403,-1.3931010575976794,-1.3618365937542876,-1.3169651088294303,-1.2589349438679354,-1.1883259170958766,-1.1058435305685193,-1.0123119210269913,-0.9086656253963943,-0.7959402432017567,-0.6752620891999122,-0.5478369396147522,-0.41493798441977603,-0.2778931060447405,-0.13807161161335246,0.0031294487208680666,0.14429924063792798,0.2840272422415222,0.42091733752756155,0.5536017659138,0.6807547884514401,0.8011059341704886,0.9134526942057211,1.0166725368677647,1.1097341236086862,1.1917076138158391,1.2617739554719074,1.3192330688519176,1.3635108414884334,1.3941648645135571,1.4108888530620938,1.4135157065686825,1.4020191783814075,1.3765141380096697,1.3372554233860172,1.2846352946097648,1.219179514613742,1.1415420959148648,1.0524987659372547,0.952939216200235,0.8438582128147682,0.7263456571092952,0.6015756956959386,0.47079498878567244,0.335310253971595,0.19647520993866663,0.05567705055410088,-0.08567741551521535,-0.22617582116989432,-0.36441435278322765,-0.49901177664292035,-0.6286232397817597,-0.751953707303916,-0.8677709019455417,-0.9749176165818487,-1.0723232766581878,-1.1590146370171066,-1.2341255062422527,-1.2969054013566816,-1.3467270464006822,-1.383092639965822],\\\"type\\\":\\\"scatter\\\",\\\"name\\\":\\\"solution\\\",\\\"x\\\":[1.0,0.8951707486311977,0.7813972470461804,0.6598162824642664,0.5316426516942345,0.39815702328616975,0.26069314151464296,0.12062450004679748,-0.020649381552357404,-0.16171694135681902,-0.30116867893975674,-0.4376112386358581,-0.5696813314905527,-0.6960593567926057,-0.8154825870882191,-0.9267577849363515,-1.0287731253427939,-1.1205093047479933,-1.2010497255712822,-1.2695896545509178,-1.325444263372824,-1.3680554712487312,-1.396997521074936,-1.4119812334565442,-1.4128568960923964,-1.39961575965089,-1.3723901251904116,-1.331452022250891,-1.2772104908245632,-1.210207494363573,-1.1311125046603125,-1.0407158127065699,-0.939920632367173,-0.8297340757656166,-0.7112570905526299,-0.5856734596011766,-0.45423797303929453,-0.31826389080191464,-0.17910982097169792,-0.03816614501616644,0.10315887444431626,0.24345316453114108,0.38131495107288876,0.5153667646694795,0.6442692039110968,0.7667343182343174,0.8815384766984096,0.9875345941012103,1.083663592275287,1.1689649820469081,1.2425864601263648,1.3037924250407127,1.3519713270205302,1.386641778403062,1.4074573634986218,1.414210099861652,1.4068325163825712,1.3853983274367974,1.3501216963550764,1.3013550955742719,1.2395857848492917,1.1654309427146803,1.079631499840714,0.9830447358990654,0.876635713907699,0.761467637640208,0.6386912284451518,0.5095332276187211,0.3752841392112171,0.2372853357371566,0.09691565562451554,-0.04442237368306934,-0.18531654931689856,-0.3243591032474591,-0.46016076823723656,-0.591364658939713,-0.7166598294492306,-0.834794371839136,-0.9445879248119552,-1.044943467479309,-1.1348582804319953,-1.2134339645808774,-1.2798854176636076,-1.3335486787269142,-1.373887562204966,-1.4004990153083139,-1.4131171451941258,-1.411615875679582,-1.3960102069534177,-1.3664560656989968,-1.3232487471264336,-1.266819964480464,-1.1977335355044112,-1.1166797489596652,-1.0244684674885642,-0.9220210357345692,-0.8103610745711474,-0.6906042534203678,-0.5639471428528249,-0.43165525885003947,-0.29505041818708266]}],{\\\"xaxis\\\":{\\\"title\\\":{\\\"text\\\":\\\"x_dot\\\"}},\\\"template\\\":{\\\"layout\\\":{\\\"coloraxis\\\":{\\\"colorbar\\\":{\\\"ticks\\\":\\\"\\\",\\\"outlinewidth\\\":0}},\\\"xaxis\\\":{\\\"gridcolor\\\":\\\"white\\\",\\\"zerolinewidth\\\":2,\\\"title\\\":{\\\"standoff\\\":15},\\\"ticks\\\":\\\"\\\",\\\"zerolinecolor\\\":\\\"white\\\",\\\"automargin\\\":true,\\\"linecolor\\\":\\\"white\\\"},\\\"hovermode\\\":\\\"closest\\\",\\\"paper_bgcolor\\\":\\\"white\\\",\\\"geo\\\":{\\\"showlakes\\\":true,\\\"showland\\\":true,\\\"landcolor\\\":\\\"#E5ECF6\\\",\\\"bgcolor\\\":\\\"white\\\",\\\"subunitcolor\\\":\\\"white\\\",\\\"lakecolor\\\":\\\"white\\\"},\\\"colorscale\\\":{\\\"sequential\\\":[[0.0,\\\"#0d0887\\\"],[0.1111111111111111,\\\"#46039f\\\"],[0.2222222222222222,\\\"#7201a8\\\"],[0.3333333333333333,\\\"#9c179e\\\"],[0.4444444444444444,\\\"#bd3786\\\"],[0.5555555555555556,\\\"#d8576b\\\"],[0.6666666666666666,\\\"#ed7953\\\"],[0.7777777777777778,\\\"#fb9f3a\\\"],[0.8888888888888888,\\\"#fdca26\\\"],[1.0,\\\"#f0f921\\\"]],\\\"diverging\\\":[[0,\\\"#8e0152\\\"],[0.1,\\\"#c51b7d\\\"],[0.2,\\\"#de77ae\\\"],[0.3,\\\"#f1b6da\\\"],[0.4,\\\"#fde0ef\\\"],[0.5,\\\"#f7f7f7\\\"],[0.6,\\\"#e6f5d0\\\"],[0.7,\\\"#b8e186\\\"],[0.8,\\\"#7fbc41\\\"],[0.9,\\\"#4d9221\\\"],[1,\\\"#276419\\\"]],\\\"sequentialminus\\\":[[0.0,\\\"#0d0887\\\"],[0.1111111111111111,\\\"#46039f\\\"],[0.2222222222222222,\\\"#7201a8\\\"],[0.3333333333333333,\\\"#9c179e\\\"],[0.4444444444444444,\\\"#bd3786\\\"],[0.5555555555555556,\\\"#d8576b\\\"],[0.6666666666666666,\\\"#ed7953\\\"],[0.7777777777777778,\\\"#fb9f3a\\\"],[0.8888888888888888,\\\"#fdca26\\\"],[1.0,\\\"#f0f921\\\"]]},\\\"yaxis\\\":{\\\"gridcolor\\\":\\\"white\\\",\\\"zerolinewidth\\\":2,\\\"title\\\":{\\\"standoff\\\":15},\\\"ticks\\\":\\\"\\\",\\\"zerolinecolor\\\":\\\"white\\\",\\\"automargin\\\":true,\\\"linecolor\\\":\\\"white\\\"},\\\"shapedefaults\\\":{\\\"line\\\":{\\\"color\\\":\\\"#2a3f5f\\\"}},\\\"hoverlabel\\\":{\\\"align\\\":\\\"left\\\"},\\\"mapbox\\\":{\\\"style\\\":\\\"light\\\"},\\\"polar\\\":{\\\"angularaxis\\\":{\\\"gridcolor\\\":\\\"white\\\",\\\"ticks\\\":\\\"\\\",\\\"linecolor\\\":\\\"white\\\"},\\\"bgcolor\\\":\\\"#E5ECF6\\\",\\\"radialaxis\\\":{\\\"gridcolor\\\":\\\"white\\\",\\\"ticks\\\":\\\"\\\",\\\"linecolor\\\":\\\"white\\\"}},\\\"autotypenumbers\\\":\\\"strict\\\",\\\"font\\\":{\\\"color\\\":\\\"#2a3f5f\\\"},\\\"ternary\\\":{\\\"baxis\\\":{\\\"gridcolor\\\":\\\"white\\\",\\\"ticks\\\":\\\"\\\",\\\"linecolor\\\":\\\"white\\\"},\\\"bgcolor\\\":\\\"#E5ECF6\\\",\\\"caxis\\\":{\\\"gridcolor\\\":\\\"white\\\",\\\"ticks\\\":\\\"\\\",\\\"linecolor\\\":\\\"white\\\"},\\\"aaxis\\\":{\\\"gridcolor\\\":\\\"white\\\",\\\"ticks\\\":\\\"\\\",\\\"linecolor\\\":\\\"white\\\"}},\\\"annotationdefaults\\\":{\\\"arrowhead\\\":0,\\\"arrowwidth\\\":1,\\\"arrowcolor\\\":\\\"#2a3f5f\\\"},\\\"plot_bgcolor\\\":\\\"#E5ECF6\\\",\\\"title\\\":{\\\"x\\\":0.05},\\\"scene\\\":{\\\"xaxis\\\":{\\\"gridcolor\\\":\\\"white\\\",\\\"gridwidth\\\":2,\\\"backgroundcolor\\\":\\\"#E5ECF6\\\",\\\"ticks\\\":\\\"\\\",\\\"showbackground\\\":true,\\\"zerolinecolor\\\":\\\"white\\\",\\\"linecolor\\\":\\\"white\\\"},\\\"zaxis\\\":{\\\"gridcolor\\\":\\\"white\\\",\\\"gridwidth\\\":2,\\\"backgroundcolor\\\":\\\"#E5ECF6\\\",\\\"ticks\\\":\\\"\\\",\\\"showbackground\\\":true,\\\"zerolinecolor\\\":\\\"white\\\",\\\"linecolor\\\":\\\"white\\\"},\\\"yaxis\\\":{\\\"gridcolor\\\":\\\"white\\\",\\\"gridwidth\\\":2,\\\"backgroundcolor\\\":\\\"#E5ECF6\\\",\\\"ticks\\\":\\\"\\\",\\\"showbackground\\\":true,\\\"zerolinecolor\\\":\\\"white\\\",\\\"linecolor\\\":\\\"white\\\"}},\\\"colorway\\\":[\\\"#636efa\\\",\\\"#EF553B\\\",\\\"#00cc96\\\",\\\"#ab63fa\\\",\\\"#FFA15A\\\",\\\"#19d3f3\\\",\\\"#FF6692\\\",\\\"#B6E880\\\",\\\"#FF97FF\\\",\\\"#FECB52\\\"]},\\\"data\\\":{\\\"barpolar\\\":[{\\\"type\\\":\\\"barpolar\\\",\\\"marker\\\":{\\\"line\\\":{\\\"color\\\":\\\"#E5ECF6\\\",\\\"width\\\":0.5}}}],\\\"carpet\\\":[{\\\"aaxis\\\":{\\\"gridcolor\\\":\\\"white\\\",\\\"endlinecolor\\\":\\\"#2a3f5f\\\",\\\"minorgridcolor\\\":\\\"white\\\",\\\"startlinecolor\\\":\\\"#2a3f5f\\\",\\\"linecolor\\\":\\\"white\\\"},\\\"type\\\":\\\"carpet\\\",\\\"baxis\\\":{\\\"gridcolor\\\":\\\"white\\\",\\\"endlinecolor\\\":\\\"#2a3f5f\\\",\\\"minorgridcolor\\\":\\\"white\\\",\\\"startlinecolor\\\":\\\"#2a3f5f\\\",\\\"linecolor\\\":\\\"white\\\"}}],\\\"scatterpolar\\\":[{\\\"type\\\":\\\"scatterpolar\\\",\\\"marker\\\":{\\\"colorbar\\\":{\\\"ticks\\\":\\\"\\\",\\\"outlinewidth\\\":0}}}],\\\"parcoords\\\":[{\\\"line\\\":{\\\"colorbar\\\":{\\\"ticks\\\":\\\"\\\",\\\"outlinewidth\\\":0}},\\\"type\\\":\\\"parcoords\\\"}],\\\"scatter\\\":[{\\\"type\\\":\\\"scatter\\\",\\\"marker\\\":{\\\"colorbar\\\":{\\\"ticks\\\":\\\"\\\",\\\"outlinewidth\\\":0}}}],\\\"histogram2dcontour\\\":[{\\\"colorbar\\\":{\\\"ticks\\\":\\\"\\\",\\\"outlinewidth\\\":0},\\\"type\\\":\\\"histogram2dcontour\\\",\\\"colorscale\\\":[[0.0,\\\"#0d0887\\\"],[0.1111111111111111,\\\"#46039f\\\"],[0.2222222222222222,\\\"#7201a8\\\"],[0.3333333333333333,\\\"#9c179e\\\"],[0.4444444444444444,\\\"#bd3786\\\"],[0.5555555555555556,\\\"#d8576b\\\"],[0.6666666666666666,\\\"#ed7953\\\"],[0.7777777777777778,\\\"#fb9f3a\\\"],[0.8888888888888888,\\\"#fdca26\\\"],[1.0,\\\"#f0f921\\\"]]}],\\\"contour\\\":[{\\\"colorbar\\\":{\\\"ticks\\\":\\\"\\\",\\\"outlinewidth\\\":0},\\\"type\\\":\\\"contour\\\",\\\"colorscale\\\":[[0.0,\\\"#0d0887\\\"],[0.1111111111111111,\\\"#46039f\\\"],[0.2222222222222222,\\\"#7201a8\\\"],[0.3333333333333333,\\\"#9c179e\\\"],[0.4444444444444444,\\\"#bd3786\\\"],[0.5555555555555556,\\\"#d8576b\\\"],[0.6666666666666666,\\\"#ed7953\\\"],[0.7777777777777778,\\\"#fb9f3a\\\"],[0.8888888888888888,\\\"#fdca26\\\"],[1.0,\\\"#f0f921\\\"]]}],\\\"scattercarpet\\\":[{\\\"type\\\":\\\"scattercarpet\\\",\\\"marker\\\":{\\\"colorbar\\\":{\\\"ticks\\\":\\\"\\\",\\\"outlinewidth\\\":0}}}],\\\"mesh3d\\\":[{\\\"colorbar\\\":{\\\"ticks\\\":\\\"\\\",\\\"outlinewidth\\\":0},\\\"type\\\":\\\"mesh3d\\\"}],\\\"surface\\\":[{\\\"colorbar\\\":{\\\"ticks\\\":\\\"\\\",\\\"outlinewidth\\\":0},\\\"type\\\":\\\"surface\\\",\\\"colorscale\\\":[[0.0,\\\"#0d0887\\\"],[0.1111111111111111,\\\"#46039f\\\"],[0.2222222222222222,\\\"#7201a8\\\"],[0.3333333333333333,\\\"#9c179e\\\"],[0.4444444444444444,\\\"#bd3786\\\"],[0.5555555555555556,\\\"#d8576b\\\"],[0.6666666666666666,\\\"#ed7953\\\"],[0.7777777777777778,\\\"#fb9f3a\\\"],[0.8888888888888888,\\\"#fdca26\\\"],[1.0,\\\"#f0f921\\\"]]}],\\\"scattermapbox\\\":[{\\\"type\\\":\\\"scattermapbox\\\",\\\"marker\\\":{\\\"colorbar\\\":{\\\"ticks\\\":\\\"\\\",\\\"outlinewidth\\\":0}}}],\\\"scattergeo\\\":[{\\\"type\\\":\\\"scattergeo\\\",\\\"marker\\\":{\\\"colorbar\\\":{\\\"ticks\\\":\\\"\\\",\\\"outlinewidth\\\":0}}}],\\\"histogram\\\":[{\\\"type\\\":\\\"histogram\\\",\\\"marker\\\":{\\\"colorbar\\\":{\\\"ticks\\\":\\\"\\\",\\\"outlinewidth\\\":0}}}],\\\"pie\\\":[{\\\"type\\\":\\\"pie\\\",\\\"automargin\\\":true}],\\\"choropleth\\\":[{\\\"colorbar\\\":{\\\"ticks\\\":\\\"\\\",\\\"outlinewidth\\\":0},\\\"type\\\":\\\"choropleth\\\"}],\\\"heatmapgl\\\":[{\\\"colorbar\\\":{\\\"ticks\\\":\\\"\\\",\\\"outlinewidth\\\":0},\\\"type\\\":\\\"heatmapgl\\\",\\\"colorscale\\\":[[0.0,\\\"#0d0887\\\"],[0.1111111111111111,\\\"#46039f\\\"],[0.2222222222222222,\\\"#7201a8\\\"],[0.3333333333333333,\\\"#9c179e\\\"],[0.4444444444444444,\\\"#bd3786\\\"],[0.5555555555555556,\\\"#d8576b\\\"],[0.6666666666666666,\\\"#ed7953\\\"],[0.7777777777777778,\\\"#fb9f3a\\\"],[0.8888888888888888,\\\"#fdca26\\\"],[1.0,\\\"#f0f921\\\"]]}],\\\"bar\\\":[{\\\"type\\\":\\\"bar\\\",\\\"error_y\\\":{\\\"color\\\":\\\"#2a3f5f\\\"},\\\"error_x\\\":{\\\"color\\\":\\\"#2a3f5f\\\"},\\\"marker\\\":{\\\"line\\\":{\\\"color\\\":\\\"#E5ECF6\\\",\\\"width\\\":0.5}}}],\\\"heatmap\\\":[{\\\"colorbar\\\":{\\\"ticks\\\":\\\"\\\",\\\"outlinewidth\\\":0},\\\"type\\\":\\\"heatmap\\\",\\\"colorscale\\\":[[0.0,\\\"#0d0887\\\"],[0.1111111111111111,\\\"#46039f\\\"],[0.2222222222222222,\\\"#7201a8\\\"],[0.3333333333333333,\\\"#9c179e\\\"],[0.4444444444444444,\\\"#bd3786\\\"],[0.5555555555555556,\\\"#d8576b\\\"],[0.6666666666666666,\\\"#ed7953\\\"],[0.7777777777777778,\\\"#fb9f3a\\\"],[0.8888888888888888,\\\"#fdca26\\\"],[1.0,\\\"#f0f921\\\"]]}],\\\"contourcarpet\\\":[{\\\"colorbar\\\":{\\\"ticks\\\":\\\"\\\",\\\"outlinewidth\\\":0},\\\"type\\\":\\\"contourcarpet\\\"}],\\\"table\\\":[{\\\"type\\\":\\\"table\\\",\\\"header\\\":{\\\"line\\\":{\\\"color\\\":\\\"white\\\"},\\\"fill\\\":{\\\"color\\\":\\\"#C8D4E3\\\"}},\\\"cells\\\":{\\\"line\\\":{\\\"color\\\":\\\"white\\\"},\\\"fill\\\":{\\\"color\\\":\\\"#EBF0F8\\\"}}}],\\\"scatter3d\\\":[{\\\"line\\\":{\\\"colorbar\\\":{\\\"ticks\\\":\\\"\\\",\\\"outlinewidth\\\":0}},\\\"type\\\":\\\"scatter3d\\\",\\\"marker\\\":{\\\"colorbar\\\":{\\\"ticks\\\":\\\"\\\",\\\"outlinewidth\\\":0}}}],\\\"scattergl\\\":[{\\\"type\\\":\\\"scattergl\\\",\\\"marker\\\":{\\\"colorbar\\\":{\\\"ticks\\\":\\\"\\\",\\\"outlinewidth\\\":0}}}],\\\"histogram2d\\\":[{\\\"colorbar\\\":{\\\"ticks\\\":\\\"\\\",\\\"outlinewidth\\\":0},\\\"type\\\":\\\"histogram2d\\\",\\\"colorscale\\\":[[0.0,\\\"#0d0887\\\"],[0.1111111111111111,\\\"#46039f\\\"],[0.2222222222222222,\\\"#7201a8\\\"],[0.3333333333333333,\\\"#9c179e\\\"],[0.4444444444444444,\\\"#bd3786\\\"],[0.5555555555555556,\\\"#d8576b\\\"],[0.6666666666666666,\\\"#ed7953\\\"],[0.7777777777777778,\\\"#fb9f3a\\\"],[0.8888888888888888,\\\"#fdca26\\\"],[1.0,\\\"#f0f921\\\"]]}],\\\"scatterternary\\\":[{\\\"type\\\":\\\"scatterternary\\\",\\\"marker\\\":{\\\"colorbar\\\":{\\\"ticks\\\":\\\"\\\",\\\"outlinewidth\\\":0}}}],\\\"scatterpolargl\\\":[{\\\"type\\\":\\\"scatterpolargl\\\",\\\"marker\\\":{\\\"colorbar\\\":{\\\"ticks\\\":\\\"\\\",\\\"outlinewidth\\\":0}}}]}},\\\"height\\\":350,\\\"margin\\\":{\\\"l\\\":50,\\\"b\\\":50,\\\"r\\\":50,\\\"t\\\":60},\\\"yaxis\\\":{\\\"scaleanchor\\\":\\\"x\\\",\\\"scaleratio\\\":1,\\\"title\\\":{\\\"text\\\":\\\"x\\\"}},\\\"width\\\":700},{\\\"showLink\\\":false,\\\"editable\\\":false,\\\"responsive\\\":true,\\\"staticPlot\\\":false,\\\"scrollZoom\\\":true}); gd.on(\\\"plotly_hover\\\",(function (data){var filtered_data=WebIO.PlotlyCommands.filterEventData(gd,data,\\\"hover\\\"); return !(filtered_data.isnil) ? (WebIO.setval({\\\"name\\\":\\\"hover\\\",\\\"scope\\\":\\\"4228479268294459027\\\",\\\"id\\\":\\\"14684984167861911461\\\",\\\"type\\\":\\\"observable\\\"},filtered_data.out)) : undefined})); gd.on(\\\"plotly_unhover\\\",(function (){return WebIO.setval({\\\"name\\\":\\\"hover\\\",\\\"scope\\\":\\\"4228479268294459027\\\",\\\"id\\\":\\\"14684984167861911461\\\",\\\"type\\\":\\\"observable\\\"},{})})); gd.on(\\\"plotly_selected\\\",(function (data){var filtered_data=WebIO.PlotlyCommands.filterEventData(gd,data,\\\"selected\\\"); return !(filtered_data.isnil) ? (WebIO.setval({\\\"name\\\":\\\"selected\\\",\\\"scope\\\":\\\"4228479268294459027\\\",\\\"id\\\":\\\"12754266184804625108\\\",\\\"type\\\":\\\"observable\\\"},filtered_data.out)) : undefined})); gd.on(\\\"plotly_deselect\\\",(function (){return WebIO.setval({\\\"name\\\":\\\"selected\\\",\\\"scope\\\":\\\"4228479268294459027\\\",\\\"id\\\":\\\"12754266184804625108\\\",\\\"type\\\":\\\"observable\\\"},{})})); gd.on(\\\"plotly_relayout\\\",(function (data){var filtered_data=WebIO.PlotlyCommands.filterEventData(gd,data,\\\"relayout\\\"); return !(filtered_data.isnil) ? (WebIO.setval({\\\"name\\\":\\\"relayout\\\",\\\"scope\\\":\\\"4228479268294459027\\\",\\\"id\\\":\\\"17786238190977860001\\\",\\\"type\\\":\\\"observable\\\"},filtered_data.out)) : undefined})); return gd.on(\\\"plotly_click\\\",(function (data){var filtered_data=WebIO.PlotlyCommands.filterEventData(gd,data,\\\"click\\\"); return !(filtered_data.isnil) ? (WebIO.setval({\\\"name\\\":\\\"click\\\",\\\"scope\\\":\\\"4228479268294459027\\\",\\\"id\\\":\\\"2021618332065228263\\\",\\\"type\\\":\\\"observable\\\"},filtered_data.out)) : undefined}))}));\\n    (WebIO.importBlock({\\\"data\\\":[{\\\"name\\\":\\\"Plotly\\\",\\\"type\\\":\\\"js\\\",\\\"url\\\":\\\"\\/assetserver\\/5b0bcbbb362c204ec77e728ffa8c7da4be28ce8a-plotly.min.js\\\"},{\\\"name\\\":null,\\\"type\\\":\\\"js\\\",\\\"url\\\":\\\"\\/assetserver\\/6303ac4e25f5217851dbb12ecf3059151c237374-plotly_webio.bundle.js\\\"}],\\\"type\\\":\\\"async_block\\\"})).then((imports) => handler.apply(this, imports));\\n}\\n\"],\"observables\":{\"_toImage\":{\"sync\":false,\"id\":\"13634167435689628113\",\"value\":{}},\"hover\":{\"sync\":false,\"id\":\"14684984167861911461\",\"value\":{}},\"selected\":{\"sync\":false,\"id\":\"12754266184804625108\",\"value\":{}},\"__gd_contents\":{\"sync\":false,\"id\":\"135482644284612279\",\"value\":{}},\"click\":{\"sync\":false,\"id\":\"2021618332065228263\",\"value\":{}},\"image\":{\"sync\":true,\"id\":\"11282871993373267779\",\"value\":\"\"},\"__get_gd_contents\":{\"sync\":false,\"id\":\"14426924678419020871\",\"value\":\"\"},\"_downloadImage\":{\"sync\":false,\"id\":\"5157620981379174993\",\"value\":{}},\"relayout\":{\"sync\":false,\"id\":\"17786238190977860001\",\"value\":{}},\"_commands\":{\"sync\":false,\"id\":\"5892897875748029114\",\"value\":[]}}},\"children\":[{\"props\":{\"id\":\"plot-27c3f929-191c-485f-9fb4-1025685fa9f7\"},\"nodeType\":\"DOM\",\"type\":\"node\",\"instanceArgs\":{\"namespace\":\"html\",\"tag\":\"div\"},\"children\":[]}]},\n",
       "        window,\n",
       "    );\n",
       "    })()\n",
       "    </script>\n",
       "</div>\n"
      ],
      "text/plain": [
       "data: [\n",
       "  \"scatter with fields mode, name, type, x, and y\",\n",
       "  \"scatter with fields mode, name, type, x, and y\"\n",
       "]\n",
       "\n",
       "layout: \"layout with fields height, margin, template, width, xaxis, and yaxis\"\n",
       "\n"
      ]
     },
     "execution_count": 143,
     "metadata": {},
     "output_type": "execute_result"
    }
   ],
   "source": [
    "estimate = scatter(x=x_dot, y=x, mode=\"lines\",name=\"estimate\")\n",
    "solution = scatter(x=x_dot_sol, y=x_sol, mode=\"lines\",name=\"solution\")\n",
    "layout = Layout(\n",
    "    yaxis=attr(scaleanchor = \"x\",scaleratio = 1),\n",
    "    xaxis_title=\"x_dot\",\n",
    "    yaxis_title=\"x\",\n",
    "    width=700, height=350,\n",
    "    )\n",
    "\n",
    "plot([estimate, solution], layout)"
   ]
  },
  {
   "cell_type": "code",
   "execution_count": null,
   "metadata": {},
   "outputs": [],
   "source": []
  },
  {
   "cell_type": "code",
   "execution_count": null,
   "metadata": {},
   "outputs": [],
   "source": []
  }
 ],
 "metadata": {
  "kernelspec": {
   "display_name": "Julia 1.7.2",
   "language": "julia",
   "name": "julia-1.7"
  },
  "language_info": {
   "file_extension": ".jl",
   "mimetype": "application/julia",
   "name": "julia",
   "version": "1.7.2"
  },
  "orig_nbformat": 4
 },
 "nbformat": 4,
 "nbformat_minor": 2
}
