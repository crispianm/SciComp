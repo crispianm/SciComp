{
 "cells": [
  {
   "cell_type": "markdown",
   "metadata": {},
   "source": [
    "## Week 4 Q1"
   ]
  },
  {
   "cell_type": "code",
   "execution_count": 1,
   "metadata": {},
   "outputs": [],
   "source": [
    "include(\"ode_solver.jl\")\n",
    "using PlotlyJS\n",
    "using NLsolve"
   ]
  },
  {
   "cell_type": "code",
   "execution_count": 2,
   "metadata": {},
   "outputs": [
    {
     "data": {
      "text/plain": [
       "predprey (generic function with 1 method)"
      ]
     },
     "metadata": {},
     "output_type": "display_data"
    }
   ],
   "source": [
    "function predprey(u, t)\n",
    "\n",
    "    # println(u)\n",
    "\n",
    "    if(!isapprox(length(u), 2.0; atol=eps(Float64), rtol=0))\n",
    "        throw(error(\"Please make sure you have entered two initial conditions for the function.\"))\n",
    "    end\n",
    "\n",
    "    a = 1\n",
    "    b = 0.2\n",
    "    d = 0.1\n",
    "    x = u[1]    \n",
    "    y = u[2]\n",
    "    \n",
    "    x_dot = x.*(1-x)- (a.*x.*y)./(d + x)\n",
    "    y_dot = b.*y.*(1 - (y./x))\n",
    "    \n",
    "    return [x_dot y_dot]\n",
    "end\n",
    "\n",
    "# t = 0:0.1:500\n",
    "# u0 = [1 1]\n",
    "\n",
    "\n",
    "# include(\"visualisation.jl\")\n",
    "\n",
    "# plot_ode(predprey, u0, t, [\"time (s?)\" \"population\"])"
   ]
  },
  {
   "cell_type": "markdown",
   "metadata": {},
   "source": [
    "Isolate a periodic orbit: a = 1, b = 0.25, d = 0.1\n",
    "\n",
    "What are its starting conditions?\n",
    "[1, 1]\n",
    "\n",
    "What is its period?: \n",
    "Roughly 20s\n"
   ]
  },
  {
   "cell_type": "markdown",
   "metadata": {},
   "source": [
    "## Week 4 Q2"
   ]
  },
  {
   "cell_type": "code",
   "execution_count": 18,
   "metadata": {},
   "outputs": [
    {
     "data": {
      "text/plain": [
       "find_limit_cycle (generic function with 2 methods)"
      ]
     },
     "metadata": {},
     "output_type": "display_data"
    }
   ],
   "source": [
    "function G(f, u0, t0, T, arg...)\n",
    "\n",
    "    F = solve_ode(f, u0, [t0 T], rk4_step, 0.001, arg...)\n",
    "    # println(\"F: \", F)\n",
    "    g = u0 .- F[[end], :]\n",
    "    return g\n",
    "end\n",
    "\n",
    "function shoot(f, u, phase_index=1, arg...)\n",
    "    # println(typeof(u), u)\n",
    "    u0 = u[:, 1:end .!= end]\n",
    "    # println(\"u0: \", typeof(u0))\n",
    "    T = u[end]\n",
    "    # println(\"T: \", T)\n",
    "\n",
    "    g_est = G(f, u0, 0, T, arg...)\n",
    "    # println(\"g_est: \", g_est)\n",
    "    f_at_index = f(u0, 0, arg...)[phase_index]\n",
    "    \n",
    "    println(\"shoot: \", [g_est f_at_index])\n",
    "\n",
    "    return [g_est f_at_index]\n",
    "end\n",
    "\n",
    "\n",
    "function find_limit_cycle(f, u0, T, phase_index=1, arg...)\n",
    "\n",
    "    U = [u0 T]\n",
    "    solution = nlsolve((u) -> shoot(f, u), U).zero\n",
    "\n",
    "    u01 = solution[:, 1:end-1]\n",
    "    T1 = solution[end]\n",
    "\n",
    "    return [u01 T1]\n",
    "end\n",
    "\n",
    "# find_limit_cycle((u,t) -> predprey(u,t), [-1 0], 6)"
   ]
  },
  {
   "cell_type": "code",
   "execution_count": null,
   "metadata": {},
   "outputs": [],
   "source": []
  },
  {
   "cell_type": "code",
   "execution_count": 4,
   "metadata": {},
   "outputs": [
    {
     "data": {
      "text/plain": [
       "1×2 Matrix{Float64}:\n",
       " 0.439739  0.890485"
      ]
     },
     "metadata": {},
     "output_type": "display_data"
    }
   ],
   "source": [
    "\n",
    "\n",
    "# U = [u0 T]\n",
    "\n",
    "\n",
    "G(predprey, [1 1], 0, 10.0)\n",
    "# shoot(predprey, [1 1 10])\n"
   ]
  },
  {
   "cell_type": "code",
   "execution_count": 28,
   "metadata": {},
   "outputs": [
    {
     "name": "stdout",
     "output_type": "stream",
     "text": [
      "shoot: [-0.00040393442442515637 -0.0003708395025250888 7.297297297295668e-5]\n",
      "shoot: [-0.0003902712596942637 -0.00037138862043517573 7.456418242746121e-5]\n",
      "shoot: [-0.0004175979508403427 -0.00037029023972595665 7.138172927295683e-5]\n",
      "shoot: [-0.0004019330085828776 -0.0003559161442814318 6.85541278320212e-5]\n",
      "shoot: [-0.0004059364992870518 -0.00038576290175329486 7.739181811386442e-5]\n",
      "shoot: [-0.00040392887266788025 -0.0003708399032495979 7.297297297295668e-5]\n",
      "shoot: [-0.0004039399760765727 -0.0003708391017285262 7.297297297295668e-5]\n",
      "shoot: [-1.8828766690237586e-7 3.101758982992919e-8 -2.919664521261467e-8]\n",
      "shoot: [-1.8828766690237586e-7 3.101758982992919e-8 -2.919664521261467e-8]\n",
      "shoot: [1.347221338415805e-5 -5.143104829241629e-7 1.5604387824663668e-6]\n",
      "shoot: [-1.3849150480194083e-5 5.764902124560933e-7 -1.6188663454208552e-6]\n",
      "shoot: [1.8016553018918025e-6 1.4952948984292558e-5 -4.4487320866037905e-6]\n",
      "shoot: [-2.1788914122411462e-6 -1.4890957018287576e-5 4.390338796150806e-6]\n",
      "shoot: [-1.882902628813632e-7 3.101607626287972e-8 -2.919664521261467e-8]\n",
      "shoot: [-1.8828507086787738e-7 3.1019103396978664e-8 -2.919664521261467e-8]\n",
      "shoot: [0.0 0.0 -2.8033131371785203e-15]\n",
      "shoot: [0.0 0.0 -2.8033131371785203e-15]\n",
      "shoot: [1.3660491427702759e-5 -5.45328825929392e-7 1.5896349866706405e-6]\n",
      "shoot: [-1.3660853421693098e-5 5.454733199572459e-7 -1.589669264667748e-6]\n",
      "shoot: [1.9899573911463797e-6 1.4921933675915433e-5 -4.4195358191723155e-6]\n",
      "shoot: [-1.9906183967299818e-6 -1.4921976945914128e-5 4.419535813565689e-6]\n",
      "shoot: [0.0 0.0 -2.8033131371785203e-15]\n",
      "shoot: [0.0 0.0 -2.8033131371785203e-15]\n"
     ]
    },
    {
     "data": {
      "text/plain": [
       "1×3 Matrix{Float64}:\n",
       " 0.270156  0.270156  10.0001"
      ]
     },
     "metadata": {},
     "output_type": "display_data"
    }
   ],
   "source": [
    "find_limit_cycle(predprey, [0.27 0.27], 10)"
   ]
  },
  {
   "cell_type": "code",
   "execution_count": null,
   "metadata": {},
   "outputs": [],
   "source": []
  }
 ],
 "metadata": {
  "kernelspec": {
   "display_name": "Julia 1.7.2",
   "language": "julia",
   "name": "julia-1.7"
  },
  "language_info": {
   "file_extension": ".jl",
   "mimetype": "application/julia",
   "name": "julia",
   "version": "1.7.2"
  },
  "orig_nbformat": 4
 },
 "nbformat": 4,
 "nbformat_minor": 2
}
