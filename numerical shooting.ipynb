{
 "cells": [
  {
   "cell_type": "code",
   "execution_count": 2,
   "metadata": {},
   "outputs": [],
   "source": [
    "include(\"ode_solver.jl\")\n",
    "using PlotlyJS"
   ]
  },
  {
   "cell_type": "code",
   "execution_count": 3,
   "metadata": {},
   "outputs": [
    {
     "data": {
      "application/vnd.plotly.v1+json": {
       "config": {
        "editable": false,
        "responsive": true,
        "scrollZoom": true,
        "showLink": false,
        "staticPlot": false
       },
       "data": [
        {
         "mode": "lines",
         "name": "euler",
         "type": "scatter",
         "x": [
          0,
          0.1,
          0.2,
          0.3,
          0.4,
          0.5,
          0.6,
          0.7,
          0.8,
          0.9,
          1,
          1.1,
          1.2,
          1.3,
          1.4,
          1.5,
          1.6,
          1.7,
          1.8,
          1.9,
          2,
          2.1,
          2.2,
          2.3,
          2.4,
          2.5,
          2.6,
          2.7,
          2.8,
          2.9,
          3
         ],
         "y": [
          [
           1,
           1.1046221254112043,
           1.2201900399479664,
           1.3478489153329054,
           1.4888637335882204,
           1.644631821843881,
           1.816696698564089,
           2.006763368395382,
           2.2167152171942552,
           2.4486326746484783,
           2.7048138294215245,
           2.9877972010972234,
           3.300386894573662,
           3.645680386163243,
           4.027099216733582,
           4.4484228960300465,
           4.913826354140575,
           5.4279213112123506,
           5.995801975356159,
           6.623095521562617,
           7.316017851829928,
           8.081435189034707,
           8.926932114884437,
           9.860886726145202,
           10.892553653873671,
           12.03215576829754,
           13.290985478055545,
           14.681516627579201,
           16.2175281014165,
           17.914240360302664,
           19.788466261924754
          ]
         ]
        },
        {
         "mode": "lines",
         "name": "rk4",
         "type": "scatter",
         "x": [
          0,
          0.1,
          0.2,
          0.3,
          0.4,
          0.5,
          0.6,
          0.7,
          0.8,
          0.9,
          1,
          1.1,
          1.2,
          1.3,
          1.4,
          1.5,
          1.6,
          1.7,
          1.8,
          1.9,
          2,
          2.1,
          2.2,
          2.3,
          2.4,
          2.5,
          2.6,
          2.7,
          2.8,
          2.9,
          3
         ],
         "y": [
          [
           1,
           1.1051709180665144,
           1.221402758139982,
           1.3498588075425366,
           1.4918246975919556,
           1.6487212706320018,
           1.8221188003001594,
           2.013752707353983,
           2.2255409283453305,
           2.459603110974011,
           2.718281828234402,
           3.004166023673337,
           3.320116922407291,
           3.669296667225035,
           4.0551999663754925,
           4.481689069782501,
           4.953032423740189,
           5.473947390958156,
           6.0496474635130255,
           6.685894441229449,
           7.3890560977093545,
           8.16616991115044,
           9.025013497793301,
           9.974182452918924,
           11.02317637845535,
           12.18249395818664,
           13.463738032108923,
           14.879731721552895,
           16.444646767292078,
           18.174145365087767,
           20.08553691820838
          ]
         ]
        },
        {
         "mode": "lines",
         "name": "e^(x)",
         "type": "scatter",
         "x": [
          0,
          0.1,
          0.2,
          0.3,
          0.4,
          0.5,
          0.6,
          0.7,
          0.8,
          0.9,
          1,
          1.1,
          1.2,
          1.3,
          1.4,
          1.5,
          1.6,
          1.7,
          1.8,
          1.9,
          2,
          2.1,
          2.2,
          2.3,
          2.4,
          2.5,
          2.6,
          2.7,
          2.8,
          2.9,
          3
         ],
         "y": [
          1,
          1.1051709180756477,
          1.2214027581601699,
          1.3498588075760032,
          1.4918246976412703,
          1.6487212707001282,
          1.8221188003905089,
          2.0137527074704766,
          2.225540928492468,
          2.45960311115695,
          2.718281828459045,
          3.0041660239464334,
          3.3201169227365472,
          3.6692966676192444,
          4.0551999668446745,
          4.4816890703380645,
          4.953032424395115,
          5.4739473917272,
          6.0496474644129465,
          6.6858944422792685,
          7.38905609893065,
          8.16616991256765,
          9.025013499434122,
          9.974182454814718,
          11.023176380641601,
          12.182493960703473,
          13.463738035001692,
          14.879731724872837,
          16.444646771097048,
          18.17414536944306,
          20.085536923187668
         ]
        }
       ],
       "frames": [],
       "layout": {
        "margin": {
         "b": 50,
         "l": 50,
         "r": 50,
         "t": 60
        },
        "template": {
         "data": {
          "bar": [
           {
            "error_x": {
             "color": "#2a3f5f"
            },
            "error_y": {
             "color": "#2a3f5f"
            },
            "marker": {
             "line": {
              "color": "#E5ECF6",
              "width": 0.5
             }
            },
            "type": "bar"
           }
          ],
          "barpolar": [
           {
            "marker": {
             "line": {
              "color": "#E5ECF6",
              "width": 0.5
             }
            },
            "type": "barpolar"
           }
          ],
          "carpet": [
           {
            "aaxis": {
             "endlinecolor": "#2a3f5f",
             "gridcolor": "white",
             "linecolor": "white",
             "minorgridcolor": "white",
             "startlinecolor": "#2a3f5f"
            },
            "baxis": {
             "endlinecolor": "#2a3f5f",
             "gridcolor": "white",
             "linecolor": "white",
             "minorgridcolor": "white",
             "startlinecolor": "#2a3f5f"
            },
            "type": "carpet"
           }
          ],
          "choropleth": [
           {
            "colorbar": {
             "outlinewidth": 0,
             "ticks": ""
            },
            "type": "choropleth"
           }
          ],
          "contour": [
           {
            "colorbar": {
             "outlinewidth": 0,
             "ticks": ""
            },
            "colorscale": [
             [
              0,
              "#0d0887"
             ],
             [
              0.1111111111111111,
              "#46039f"
             ],
             [
              0.2222222222222222,
              "#7201a8"
             ],
             [
              0.3333333333333333,
              "#9c179e"
             ],
             [
              0.4444444444444444,
              "#bd3786"
             ],
             [
              0.5555555555555556,
              "#d8576b"
             ],
             [
              0.6666666666666666,
              "#ed7953"
             ],
             [
              0.7777777777777778,
              "#fb9f3a"
             ],
             [
              0.8888888888888888,
              "#fdca26"
             ],
             [
              1,
              "#f0f921"
             ]
            ],
            "type": "contour"
           }
          ],
          "contourcarpet": [
           {
            "colorbar": {
             "outlinewidth": 0,
             "ticks": ""
            },
            "type": "contourcarpet"
           }
          ],
          "heatmap": [
           {
            "colorbar": {
             "outlinewidth": 0,
             "ticks": ""
            },
            "colorscale": [
             [
              0,
              "#0d0887"
             ],
             [
              0.1111111111111111,
              "#46039f"
             ],
             [
              0.2222222222222222,
              "#7201a8"
             ],
             [
              0.3333333333333333,
              "#9c179e"
             ],
             [
              0.4444444444444444,
              "#bd3786"
             ],
             [
              0.5555555555555556,
              "#d8576b"
             ],
             [
              0.6666666666666666,
              "#ed7953"
             ],
             [
              0.7777777777777778,
              "#fb9f3a"
             ],
             [
              0.8888888888888888,
              "#fdca26"
             ],
             [
              1,
              "#f0f921"
             ]
            ],
            "type": "heatmap"
           }
          ],
          "heatmapgl": [
           {
            "colorbar": {
             "outlinewidth": 0,
             "ticks": ""
            },
            "colorscale": [
             [
              0,
              "#0d0887"
             ],
             [
              0.1111111111111111,
              "#46039f"
             ],
             [
              0.2222222222222222,
              "#7201a8"
             ],
             [
              0.3333333333333333,
              "#9c179e"
             ],
             [
              0.4444444444444444,
              "#bd3786"
             ],
             [
              0.5555555555555556,
              "#d8576b"
             ],
             [
              0.6666666666666666,
              "#ed7953"
             ],
             [
              0.7777777777777778,
              "#fb9f3a"
             ],
             [
              0.8888888888888888,
              "#fdca26"
             ],
             [
              1,
              "#f0f921"
             ]
            ],
            "type": "heatmapgl"
           }
          ],
          "histogram": [
           {
            "marker": {
             "colorbar": {
              "outlinewidth": 0,
              "ticks": ""
             }
            },
            "type": "histogram"
           }
          ],
          "histogram2d": [
           {
            "colorbar": {
             "outlinewidth": 0,
             "ticks": ""
            },
            "colorscale": [
             [
              0,
              "#0d0887"
             ],
             [
              0.1111111111111111,
              "#46039f"
             ],
             [
              0.2222222222222222,
              "#7201a8"
             ],
             [
              0.3333333333333333,
              "#9c179e"
             ],
             [
              0.4444444444444444,
              "#bd3786"
             ],
             [
              0.5555555555555556,
              "#d8576b"
             ],
             [
              0.6666666666666666,
              "#ed7953"
             ],
             [
              0.7777777777777778,
              "#fb9f3a"
             ],
             [
              0.8888888888888888,
              "#fdca26"
             ],
             [
              1,
              "#f0f921"
             ]
            ],
            "type": "histogram2d"
           }
          ],
          "histogram2dcontour": [
           {
            "colorbar": {
             "outlinewidth": 0,
             "ticks": ""
            },
            "colorscale": [
             [
              0,
              "#0d0887"
             ],
             [
              0.1111111111111111,
              "#46039f"
             ],
             [
              0.2222222222222222,
              "#7201a8"
             ],
             [
              0.3333333333333333,
              "#9c179e"
             ],
             [
              0.4444444444444444,
              "#bd3786"
             ],
             [
              0.5555555555555556,
              "#d8576b"
             ],
             [
              0.6666666666666666,
              "#ed7953"
             ],
             [
              0.7777777777777778,
              "#fb9f3a"
             ],
             [
              0.8888888888888888,
              "#fdca26"
             ],
             [
              1,
              "#f0f921"
             ]
            ],
            "type": "histogram2dcontour"
           }
          ],
          "mesh3d": [
           {
            "colorbar": {
             "outlinewidth": 0,
             "ticks": ""
            },
            "type": "mesh3d"
           }
          ],
          "parcoords": [
           {
            "line": {
             "colorbar": {
              "outlinewidth": 0,
              "ticks": ""
             }
            },
            "type": "parcoords"
           }
          ],
          "pie": [
           {
            "automargin": true,
            "type": "pie"
           }
          ],
          "scatter": [
           {
            "marker": {
             "colorbar": {
              "outlinewidth": 0,
              "ticks": ""
             }
            },
            "type": "scatter"
           }
          ],
          "scatter3d": [
           {
            "line": {
             "colorbar": {
              "outlinewidth": 0,
              "ticks": ""
             }
            },
            "marker": {
             "colorbar": {
              "outlinewidth": 0,
              "ticks": ""
             }
            },
            "type": "scatter3d"
           }
          ],
          "scattercarpet": [
           {
            "marker": {
             "colorbar": {
              "outlinewidth": 0,
              "ticks": ""
             }
            },
            "type": "scattercarpet"
           }
          ],
          "scattergeo": [
           {
            "marker": {
             "colorbar": {
              "outlinewidth": 0,
              "ticks": ""
             }
            },
            "type": "scattergeo"
           }
          ],
          "scattergl": [
           {
            "marker": {
             "colorbar": {
              "outlinewidth": 0,
              "ticks": ""
             }
            },
            "type": "scattergl"
           }
          ],
          "scattermapbox": [
           {
            "marker": {
             "colorbar": {
              "outlinewidth": 0,
              "ticks": ""
             }
            },
            "type": "scattermapbox"
           }
          ],
          "scatterpolar": [
           {
            "marker": {
             "colorbar": {
              "outlinewidth": 0,
              "ticks": ""
             }
            },
            "type": "scatterpolar"
           }
          ],
          "scatterpolargl": [
           {
            "marker": {
             "colorbar": {
              "outlinewidth": 0,
              "ticks": ""
             }
            },
            "type": "scatterpolargl"
           }
          ],
          "scatterternary": [
           {
            "marker": {
             "colorbar": {
              "outlinewidth": 0,
              "ticks": ""
             }
            },
            "type": "scatterternary"
           }
          ],
          "surface": [
           {
            "colorbar": {
             "outlinewidth": 0,
             "ticks": ""
            },
            "colorscale": [
             [
              0,
              "#0d0887"
             ],
             [
              0.1111111111111111,
              "#46039f"
             ],
             [
              0.2222222222222222,
              "#7201a8"
             ],
             [
              0.3333333333333333,
              "#9c179e"
             ],
             [
              0.4444444444444444,
              "#bd3786"
             ],
             [
              0.5555555555555556,
              "#d8576b"
             ],
             [
              0.6666666666666666,
              "#ed7953"
             ],
             [
              0.7777777777777778,
              "#fb9f3a"
             ],
             [
              0.8888888888888888,
              "#fdca26"
             ],
             [
              1,
              "#f0f921"
             ]
            ],
            "type": "surface"
           }
          ],
          "table": [
           {
            "cells": {
             "fill": {
              "color": "#EBF0F8"
             },
             "line": {
              "color": "white"
             }
            },
            "header": {
             "fill": {
              "color": "#C8D4E3"
             },
             "line": {
              "color": "white"
             }
            },
            "type": "table"
           }
          ]
         },
         "layout": {
          "annotationdefaults": {
           "arrowcolor": "#2a3f5f",
           "arrowhead": 0,
           "arrowwidth": 1
          },
          "autotypenumbers": "strict",
          "coloraxis": {
           "colorbar": {
            "outlinewidth": 0,
            "ticks": ""
           }
          },
          "colorscale": {
           "diverging": [
            [
             0,
             "#8e0152"
            ],
            [
             0.1,
             "#c51b7d"
            ],
            [
             0.2,
             "#de77ae"
            ],
            [
             0.3,
             "#f1b6da"
            ],
            [
             0.4,
             "#fde0ef"
            ],
            [
             0.5,
             "#f7f7f7"
            ],
            [
             0.6,
             "#e6f5d0"
            ],
            [
             0.7,
             "#b8e186"
            ],
            [
             0.8,
             "#7fbc41"
            ],
            [
             0.9,
             "#4d9221"
            ],
            [
             1,
             "#276419"
            ]
           ],
           "sequential": [
            [
             0,
             "#0d0887"
            ],
            [
             0.1111111111111111,
             "#46039f"
            ],
            [
             0.2222222222222222,
             "#7201a8"
            ],
            [
             0.3333333333333333,
             "#9c179e"
            ],
            [
             0.4444444444444444,
             "#bd3786"
            ],
            [
             0.5555555555555556,
             "#d8576b"
            ],
            [
             0.6666666666666666,
             "#ed7953"
            ],
            [
             0.7777777777777778,
             "#fb9f3a"
            ],
            [
             0.8888888888888888,
             "#fdca26"
            ],
            [
             1,
             "#f0f921"
            ]
           ],
           "sequentialminus": [
            [
             0,
             "#0d0887"
            ],
            [
             0.1111111111111111,
             "#46039f"
            ],
            [
             0.2222222222222222,
             "#7201a8"
            ],
            [
             0.3333333333333333,
             "#9c179e"
            ],
            [
             0.4444444444444444,
             "#bd3786"
            ],
            [
             0.5555555555555556,
             "#d8576b"
            ],
            [
             0.6666666666666666,
             "#ed7953"
            ],
            [
             0.7777777777777778,
             "#fb9f3a"
            ],
            [
             0.8888888888888888,
             "#fdca26"
            ],
            [
             1,
             "#f0f921"
            ]
           ]
          },
          "colorway": [
           "#636efa",
           "#EF553B",
           "#00cc96",
           "#ab63fa",
           "#FFA15A",
           "#19d3f3",
           "#FF6692",
           "#B6E880",
           "#FF97FF",
           "#FECB52"
          ],
          "font": {
           "color": "#2a3f5f"
          },
          "geo": {
           "bgcolor": "white",
           "lakecolor": "white",
           "landcolor": "#E5ECF6",
           "showlakes": true,
           "showland": true,
           "subunitcolor": "white"
          },
          "hoverlabel": {
           "align": "left"
          },
          "hovermode": "closest",
          "mapbox": {
           "style": "light"
          },
          "paper_bgcolor": "white",
          "plot_bgcolor": "#E5ECF6",
          "polar": {
           "angularaxis": {
            "gridcolor": "white",
            "linecolor": "white",
            "ticks": ""
           },
           "bgcolor": "#E5ECF6",
           "radialaxis": {
            "gridcolor": "white",
            "linecolor": "white",
            "ticks": ""
           }
          },
          "scene": {
           "xaxis": {
            "backgroundcolor": "#E5ECF6",
            "gridcolor": "white",
            "gridwidth": 2,
            "linecolor": "white",
            "showbackground": true,
            "ticks": "",
            "zerolinecolor": "white"
           },
           "yaxis": {
            "backgroundcolor": "#E5ECF6",
            "gridcolor": "white",
            "gridwidth": 2,
            "linecolor": "white",
            "showbackground": true,
            "ticks": "",
            "zerolinecolor": "white"
           },
           "zaxis": {
            "backgroundcolor": "#E5ECF6",
            "gridcolor": "white",
            "gridwidth": 2,
            "linecolor": "white",
            "showbackground": true,
            "ticks": "",
            "zerolinecolor": "white"
           }
          },
          "shapedefaults": {
           "line": {
            "color": "#2a3f5f"
           }
          },
          "ternary": {
           "aaxis": {
            "gridcolor": "white",
            "linecolor": "white",
            "ticks": ""
           },
           "baxis": {
            "gridcolor": "white",
            "linecolor": "white",
            "ticks": ""
           },
           "bgcolor": "#E5ECF6",
           "caxis": {
            "gridcolor": "white",
            "linecolor": "white",
            "ticks": ""
           }
          },
          "title": {
           "x": 0.05
          },
          "xaxis": {
           "automargin": true,
           "gridcolor": "white",
           "linecolor": "white",
           "ticks": "",
           "title": {
            "standoff": 15
           },
           "zerolinecolor": "white",
           "zerolinewidth": 2
          },
          "yaxis": {
           "automargin": true,
           "gridcolor": "white",
           "linecolor": "white",
           "ticks": "",
           "title": {
            "standoff": 15
           },
           "zerolinecolor": "white",
           "zerolinewidth": 2
          }
         }
        }
       }
      },
      "text/html": [
       "<div\n",
       "    class=\"webio-mountpoint\"\n",
       "    data-webio-mountpoint=\"12887581665071570394\"\n",
       ">\n",
       "    <script>\n",
       "    (function(){\n",
       "    // Some integrations (namely, IJulia/Jupyter) use an alternate render pathway than\n",
       "    // just putting the html on the page. If WebIO isn't defined, then it's pretty likely\n",
       "    // that we're in one of those situations and the integration just isn't installed\n",
       "    // correctly.\n",
       "    if (typeof window.WebIO === \"undefined\") {\n",
       "        document\n",
       "            .querySelector('[data-webio-mountpoint=\"12887581665071570394\"]')\n",
       "            .innerHTML = (\n",
       "                '<div style=\"padding: 1em; background-color: #f8d6da; border: 1px solid #f5c6cb; font-weight: bold;\">' +\n",
       "                '<p><strong>WebIO not detected.</strong></p>' +\n",
       "                '<p>Please read ' +\n",
       "                '<a href=\"https://juliagizmos.github.io/WebIO.jl/latest/troubleshooting/not-detected/\" target=\"_blank\">the troubleshooting guide</a> ' +\n",
       "                'for more information on how to resolve this issue.</p>' +\n",
       "                '<p><a href=\"https://juliagizmos.github.io/WebIO.jl/latest/troubleshooting/not-detected/\" target=\"_blank\">https://juliagizmos.github.io/WebIO.jl/latest/troubleshooting/not-detected/</a></p>' +\n",
       "                '</div>'\n",
       "            );\n",
       "        return;\n",
       "    }\n",
       "    WebIO.mount(\n",
       "        document.querySelector('[data-webio-mountpoint=\"12887581665071570394\"]'),\n",
       "        {\"props\":{},\"nodeType\":\"Scope\",\"type\":\"node\",\"instanceArgs\":{\"imports\":{\"data\":[{\"name\":\"Plotly\",\"type\":\"js\",\"url\":\"\\/assetserver\\/5b0bcbbb362c204ec77e728ffa8c7da4be28ce8a-plotly.min.js\"},{\"name\":null,\"type\":\"js\",\"url\":\"\\/assetserver\\/6303ac4e25f5217851dbb12ecf3059151c237374-plotly_webio.bundle.js\"}],\"type\":\"async_block\"},\"id\":\"11494914699808378043\",\"handlers\":{\"_toImage\":[\"(function (options){return this.Plotly.toImage(this.plotElem,options).then((function (data){return WebIO.setval({\\\"name\\\":\\\"image\\\",\\\"scope\\\":\\\"11494914699808378043\\\",\\\"id\\\":\\\"14233678119381857054\\\",\\\"type\\\":\\\"observable\\\"},data)}))})\"],\"__get_gd_contents\":[\"(function (prop){prop==\\\"data\\\" ? (WebIO.setval({\\\"name\\\":\\\"__gd_contents\\\",\\\"scope\\\":\\\"11494914699808378043\\\",\\\"id\\\":\\\"9541384567022474719\\\",\\\"type\\\":\\\"observable\\\"},this.plotElem.data)) : undefined; return prop==\\\"layout\\\" ? (WebIO.setval({\\\"name\\\":\\\"__gd_contents\\\",\\\"scope\\\":\\\"11494914699808378043\\\",\\\"id\\\":\\\"9541384567022474719\\\",\\\"type\\\":\\\"observable\\\"},this.plotElem.layout)) : undefined})\"],\"_downloadImage\":[\"(function (options){return this.Plotly.downloadImage(this.plotElem,options)})\"],\"_commands\":[\"(function (args){var fn=args.shift(); var elem=this.plotElem; var Plotly=this.Plotly; args.unshift(elem); return Plotly[fn].apply(this,args)})\"]},\"systemjs_options\":null,\"mount_callbacks\":[\"function () {\\n    var handler = ((function (Plotly,PlotlyWebIO){PlotlyWebIO.init(WebIO); var gd=this.dom.querySelector(\\\"#plot-ce4ae292-e190-4c6c-9f26-264e4721a536\\\"); this.plotElem=gd; this.Plotly=Plotly; (window.Blink!==undefined) ? (gd.style.width=\\\"100%\\\", gd.style.height=\\\"100vh\\\", gd.style.marginLeft=\\\"0%\\\", gd.style.marginTop=\\\"0vh\\\") : undefined; window.onresize=(function (){return Plotly.Plots.resize(gd)}); Plotly.newPlot(gd,[{\\\"mode\\\":\\\"lines\\\",\\\"y\\\":[[1.0,1.1046221254112043,1.2201900399479664,1.3478489153329054,1.4888637335882204,1.644631821843881,1.816696698564089,2.006763368395382,2.2167152171942552,2.4486326746484783,2.7048138294215245,2.9877972010972234,3.300386894573662,3.645680386163243,4.027099216733582,4.4484228960300465,4.913826354140575,5.4279213112123506,5.995801975356159,6.623095521562617,7.316017851829928,8.081435189034707,8.926932114884437,9.860886726145202,10.892553653873671,12.03215576829754,13.290985478055545,14.681516627579201,16.2175281014165,17.914240360302664,19.788466261924754]],\\\"type\\\":\\\"scatter\\\",\\\"name\\\":\\\"euler\\\",\\\"x\\\":[0.0,0.1,0.2,0.3,0.4,0.5,0.6,0.7,0.8,0.9,1.0,1.1,1.2,1.3,1.4,1.5,1.6,1.7,1.8,1.9,2.0,2.1,2.2,2.3,2.4,2.5,2.6,2.7,2.8,2.9,3.0]},{\\\"mode\\\":\\\"lines\\\",\\\"y\\\":[[1.0,1.1051709180665144,1.221402758139982,1.3498588075425366,1.4918246975919556,1.6487212706320018,1.8221188003001594,2.013752707353983,2.2255409283453305,2.459603110974011,2.718281828234402,3.004166023673337,3.320116922407291,3.669296667225035,4.0551999663754925,4.481689069782501,4.953032423740189,5.473947390958156,6.0496474635130255,6.685894441229449,7.3890560977093545,8.16616991115044,9.025013497793301,9.974182452918924,11.02317637845535,12.18249395818664,13.463738032108923,14.879731721552895,16.444646767292078,18.174145365087767,20.08553691820838]],\\\"type\\\":\\\"scatter\\\",\\\"name\\\":\\\"rk4\\\",\\\"x\\\":[0.0,0.1,0.2,0.3,0.4,0.5,0.6,0.7,0.8,0.9,1.0,1.1,1.2,1.3,1.4,1.5,1.6,1.7,1.8,1.9,2.0,2.1,2.2,2.3,2.4,2.5,2.6,2.7,2.8,2.9,3.0]},{\\\"mode\\\":\\\"lines\\\",\\\"y\\\":[1.0,1.1051709180756477,1.2214027581601699,1.3498588075760032,1.4918246976412703,1.6487212707001282,1.8221188003905089,2.0137527074704766,2.225540928492468,2.45960311115695,2.718281828459045,3.0041660239464334,3.3201169227365472,3.6692966676192444,4.0551999668446745,4.4816890703380645,4.953032424395115,5.4739473917272,6.0496474644129465,6.6858944422792685,7.38905609893065,8.16616991256765,9.025013499434122,9.974182454814718,11.023176380641601,12.182493960703473,13.463738035001692,14.879731724872837,16.444646771097048,18.17414536944306,20.085536923187668],\\\"type\\\":\\\"scatter\\\",\\\"name\\\":\\\"e^(x)\\\",\\\"x\\\":[0.0,0.1,0.2,0.3,0.4,0.5,0.6,0.7,0.8,0.9,1.0,1.1,1.2,1.3,1.4,1.5,1.6,1.7,1.8,1.9,2.0,2.1,2.2,2.3,2.4,2.5,2.6,2.7,2.8,2.9,3.0]}],{\\\"template\\\":{\\\"layout\\\":{\\\"coloraxis\\\":{\\\"colorbar\\\":{\\\"ticks\\\":\\\"\\\",\\\"outlinewidth\\\":0}},\\\"xaxis\\\":{\\\"gridcolor\\\":\\\"white\\\",\\\"zerolinewidth\\\":2,\\\"title\\\":{\\\"standoff\\\":15},\\\"ticks\\\":\\\"\\\",\\\"zerolinecolor\\\":\\\"white\\\",\\\"automargin\\\":true,\\\"linecolor\\\":\\\"white\\\"},\\\"hovermode\\\":\\\"closest\\\",\\\"paper_bgcolor\\\":\\\"white\\\",\\\"geo\\\":{\\\"showlakes\\\":true,\\\"showland\\\":true,\\\"landcolor\\\":\\\"#E5ECF6\\\",\\\"bgcolor\\\":\\\"white\\\",\\\"subunitcolor\\\":\\\"white\\\",\\\"lakecolor\\\":\\\"white\\\"},\\\"colorscale\\\":{\\\"sequential\\\":[[0.0,\\\"#0d0887\\\"],[0.1111111111111111,\\\"#46039f\\\"],[0.2222222222222222,\\\"#7201a8\\\"],[0.3333333333333333,\\\"#9c179e\\\"],[0.4444444444444444,\\\"#bd3786\\\"],[0.5555555555555556,\\\"#d8576b\\\"],[0.6666666666666666,\\\"#ed7953\\\"],[0.7777777777777778,\\\"#fb9f3a\\\"],[0.8888888888888888,\\\"#fdca26\\\"],[1.0,\\\"#f0f921\\\"]],\\\"diverging\\\":[[0,\\\"#8e0152\\\"],[0.1,\\\"#c51b7d\\\"],[0.2,\\\"#de77ae\\\"],[0.3,\\\"#f1b6da\\\"],[0.4,\\\"#fde0ef\\\"],[0.5,\\\"#f7f7f7\\\"],[0.6,\\\"#e6f5d0\\\"],[0.7,\\\"#b8e186\\\"],[0.8,\\\"#7fbc41\\\"],[0.9,\\\"#4d9221\\\"],[1,\\\"#276419\\\"]],\\\"sequentialminus\\\":[[0.0,\\\"#0d0887\\\"],[0.1111111111111111,\\\"#46039f\\\"],[0.2222222222222222,\\\"#7201a8\\\"],[0.3333333333333333,\\\"#9c179e\\\"],[0.4444444444444444,\\\"#bd3786\\\"],[0.5555555555555556,\\\"#d8576b\\\"],[0.6666666666666666,\\\"#ed7953\\\"],[0.7777777777777778,\\\"#fb9f3a\\\"],[0.8888888888888888,\\\"#fdca26\\\"],[1.0,\\\"#f0f921\\\"]]},\\\"yaxis\\\":{\\\"gridcolor\\\":\\\"white\\\",\\\"zerolinewidth\\\":2,\\\"title\\\":{\\\"standoff\\\":15},\\\"ticks\\\":\\\"\\\",\\\"zerolinecolor\\\":\\\"white\\\",\\\"automargin\\\":true,\\\"linecolor\\\":\\\"white\\\"},\\\"shapedefaults\\\":{\\\"line\\\":{\\\"color\\\":\\\"#2a3f5f\\\"}},\\\"hoverlabel\\\":{\\\"align\\\":\\\"left\\\"},\\\"mapbox\\\":{\\\"style\\\":\\\"light\\\"},\\\"polar\\\":{\\\"angularaxis\\\":{\\\"gridcolor\\\":\\\"white\\\",\\\"ticks\\\":\\\"\\\",\\\"linecolor\\\":\\\"white\\\"},\\\"bgcolor\\\":\\\"#E5ECF6\\\",\\\"radialaxis\\\":{\\\"gridcolor\\\":\\\"white\\\",\\\"ticks\\\":\\\"\\\",\\\"linecolor\\\":\\\"white\\\"}},\\\"autotypenumbers\\\":\\\"strict\\\",\\\"font\\\":{\\\"color\\\":\\\"#2a3f5f\\\"},\\\"ternary\\\":{\\\"baxis\\\":{\\\"gridcolor\\\":\\\"white\\\",\\\"ticks\\\":\\\"\\\",\\\"linecolor\\\":\\\"white\\\"},\\\"bgcolor\\\":\\\"#E5ECF6\\\",\\\"caxis\\\":{\\\"gridcolor\\\":\\\"white\\\",\\\"ticks\\\":\\\"\\\",\\\"linecolor\\\":\\\"white\\\"},\\\"aaxis\\\":{\\\"gridcolor\\\":\\\"white\\\",\\\"ticks\\\":\\\"\\\",\\\"linecolor\\\":\\\"white\\\"}},\\\"annotationdefaults\\\":{\\\"arrowhead\\\":0,\\\"arrowwidth\\\":1,\\\"arrowcolor\\\":\\\"#2a3f5f\\\"},\\\"plot_bgcolor\\\":\\\"#E5ECF6\\\",\\\"title\\\":{\\\"x\\\":0.05},\\\"scene\\\":{\\\"xaxis\\\":{\\\"gridcolor\\\":\\\"white\\\",\\\"gridwidth\\\":2,\\\"backgroundcolor\\\":\\\"#E5ECF6\\\",\\\"ticks\\\":\\\"\\\",\\\"showbackground\\\":true,\\\"zerolinecolor\\\":\\\"white\\\",\\\"linecolor\\\":\\\"white\\\"},\\\"zaxis\\\":{\\\"gridcolor\\\":\\\"white\\\",\\\"gridwidth\\\":2,\\\"backgroundcolor\\\":\\\"#E5ECF6\\\",\\\"ticks\\\":\\\"\\\",\\\"showbackground\\\":true,\\\"zerolinecolor\\\":\\\"white\\\",\\\"linecolor\\\":\\\"white\\\"},\\\"yaxis\\\":{\\\"gridcolor\\\":\\\"white\\\",\\\"gridwidth\\\":2,\\\"backgroundcolor\\\":\\\"#E5ECF6\\\",\\\"ticks\\\":\\\"\\\",\\\"showbackground\\\":true,\\\"zerolinecolor\\\":\\\"white\\\",\\\"linecolor\\\":\\\"white\\\"}},\\\"colorway\\\":[\\\"#636efa\\\",\\\"#EF553B\\\",\\\"#00cc96\\\",\\\"#ab63fa\\\",\\\"#FFA15A\\\",\\\"#19d3f3\\\",\\\"#FF6692\\\",\\\"#B6E880\\\",\\\"#FF97FF\\\",\\\"#FECB52\\\"]},\\\"data\\\":{\\\"barpolar\\\":[{\\\"type\\\":\\\"barpolar\\\",\\\"marker\\\":{\\\"line\\\":{\\\"color\\\":\\\"#E5ECF6\\\",\\\"width\\\":0.5}}}],\\\"carpet\\\":[{\\\"aaxis\\\":{\\\"gridcolor\\\":\\\"white\\\",\\\"endlinecolor\\\":\\\"#2a3f5f\\\",\\\"minorgridcolor\\\":\\\"white\\\",\\\"startlinecolor\\\":\\\"#2a3f5f\\\",\\\"linecolor\\\":\\\"white\\\"},\\\"type\\\":\\\"carpet\\\",\\\"baxis\\\":{\\\"gridcolor\\\":\\\"white\\\",\\\"endlinecolor\\\":\\\"#2a3f5f\\\",\\\"minorgridcolor\\\":\\\"white\\\",\\\"startlinecolor\\\":\\\"#2a3f5f\\\",\\\"linecolor\\\":\\\"white\\\"}}],\\\"scatterpolar\\\":[{\\\"type\\\":\\\"scatterpolar\\\",\\\"marker\\\":{\\\"colorbar\\\":{\\\"ticks\\\":\\\"\\\",\\\"outlinewidth\\\":0}}}],\\\"parcoords\\\":[{\\\"line\\\":{\\\"colorbar\\\":{\\\"ticks\\\":\\\"\\\",\\\"outlinewidth\\\":0}},\\\"type\\\":\\\"parcoords\\\"}],\\\"scatter\\\":[{\\\"type\\\":\\\"scatter\\\",\\\"marker\\\":{\\\"colorbar\\\":{\\\"ticks\\\":\\\"\\\",\\\"outlinewidth\\\":0}}}],\\\"histogram2dcontour\\\":[{\\\"colorbar\\\":{\\\"ticks\\\":\\\"\\\",\\\"outlinewidth\\\":0},\\\"type\\\":\\\"histogram2dcontour\\\",\\\"colorscale\\\":[[0.0,\\\"#0d0887\\\"],[0.1111111111111111,\\\"#46039f\\\"],[0.2222222222222222,\\\"#7201a8\\\"],[0.3333333333333333,\\\"#9c179e\\\"],[0.4444444444444444,\\\"#bd3786\\\"],[0.5555555555555556,\\\"#d8576b\\\"],[0.6666666666666666,\\\"#ed7953\\\"],[0.7777777777777778,\\\"#fb9f3a\\\"],[0.8888888888888888,\\\"#fdca26\\\"],[1.0,\\\"#f0f921\\\"]]}],\\\"contour\\\":[{\\\"colorbar\\\":{\\\"ticks\\\":\\\"\\\",\\\"outlinewidth\\\":0},\\\"type\\\":\\\"contour\\\",\\\"colorscale\\\":[[0.0,\\\"#0d0887\\\"],[0.1111111111111111,\\\"#46039f\\\"],[0.2222222222222222,\\\"#7201a8\\\"],[0.3333333333333333,\\\"#9c179e\\\"],[0.4444444444444444,\\\"#bd3786\\\"],[0.5555555555555556,\\\"#d8576b\\\"],[0.6666666666666666,\\\"#ed7953\\\"],[0.7777777777777778,\\\"#fb9f3a\\\"],[0.8888888888888888,\\\"#fdca26\\\"],[1.0,\\\"#f0f921\\\"]]}],\\\"scattercarpet\\\":[{\\\"type\\\":\\\"scattercarpet\\\",\\\"marker\\\":{\\\"colorbar\\\":{\\\"ticks\\\":\\\"\\\",\\\"outlinewidth\\\":0}}}],\\\"mesh3d\\\":[{\\\"colorbar\\\":{\\\"ticks\\\":\\\"\\\",\\\"outlinewidth\\\":0},\\\"type\\\":\\\"mesh3d\\\"}],\\\"surface\\\":[{\\\"colorbar\\\":{\\\"ticks\\\":\\\"\\\",\\\"outlinewidth\\\":0},\\\"type\\\":\\\"surface\\\",\\\"colorscale\\\":[[0.0,\\\"#0d0887\\\"],[0.1111111111111111,\\\"#46039f\\\"],[0.2222222222222222,\\\"#7201a8\\\"],[0.3333333333333333,\\\"#9c179e\\\"],[0.4444444444444444,\\\"#bd3786\\\"],[0.5555555555555556,\\\"#d8576b\\\"],[0.6666666666666666,\\\"#ed7953\\\"],[0.7777777777777778,\\\"#fb9f3a\\\"],[0.8888888888888888,\\\"#fdca26\\\"],[1.0,\\\"#f0f921\\\"]]}],\\\"scattermapbox\\\":[{\\\"type\\\":\\\"scattermapbox\\\",\\\"marker\\\":{\\\"colorbar\\\":{\\\"ticks\\\":\\\"\\\",\\\"outlinewidth\\\":0}}}],\\\"scattergeo\\\":[{\\\"type\\\":\\\"scattergeo\\\",\\\"marker\\\":{\\\"colorbar\\\":{\\\"ticks\\\":\\\"\\\",\\\"outlinewidth\\\":0}}}],\\\"histogram\\\":[{\\\"type\\\":\\\"histogram\\\",\\\"marker\\\":{\\\"colorbar\\\":{\\\"ticks\\\":\\\"\\\",\\\"outlinewidth\\\":0}}}],\\\"pie\\\":[{\\\"type\\\":\\\"pie\\\",\\\"automargin\\\":true}],\\\"choropleth\\\":[{\\\"colorbar\\\":{\\\"ticks\\\":\\\"\\\",\\\"outlinewidth\\\":0},\\\"type\\\":\\\"choropleth\\\"}],\\\"heatmapgl\\\":[{\\\"colorbar\\\":{\\\"ticks\\\":\\\"\\\",\\\"outlinewidth\\\":0},\\\"type\\\":\\\"heatmapgl\\\",\\\"colorscale\\\":[[0.0,\\\"#0d0887\\\"],[0.1111111111111111,\\\"#46039f\\\"],[0.2222222222222222,\\\"#7201a8\\\"],[0.3333333333333333,\\\"#9c179e\\\"],[0.4444444444444444,\\\"#bd3786\\\"],[0.5555555555555556,\\\"#d8576b\\\"],[0.6666666666666666,\\\"#ed7953\\\"],[0.7777777777777778,\\\"#fb9f3a\\\"],[0.8888888888888888,\\\"#fdca26\\\"],[1.0,\\\"#f0f921\\\"]]}],\\\"bar\\\":[{\\\"type\\\":\\\"bar\\\",\\\"error_y\\\":{\\\"color\\\":\\\"#2a3f5f\\\"},\\\"error_x\\\":{\\\"color\\\":\\\"#2a3f5f\\\"},\\\"marker\\\":{\\\"line\\\":{\\\"color\\\":\\\"#E5ECF6\\\",\\\"width\\\":0.5}}}],\\\"heatmap\\\":[{\\\"colorbar\\\":{\\\"ticks\\\":\\\"\\\",\\\"outlinewidth\\\":0},\\\"type\\\":\\\"heatmap\\\",\\\"colorscale\\\":[[0.0,\\\"#0d0887\\\"],[0.1111111111111111,\\\"#46039f\\\"],[0.2222222222222222,\\\"#7201a8\\\"],[0.3333333333333333,\\\"#9c179e\\\"],[0.4444444444444444,\\\"#bd3786\\\"],[0.5555555555555556,\\\"#d8576b\\\"],[0.6666666666666666,\\\"#ed7953\\\"],[0.7777777777777778,\\\"#fb9f3a\\\"],[0.8888888888888888,\\\"#fdca26\\\"],[1.0,\\\"#f0f921\\\"]]}],\\\"contourcarpet\\\":[{\\\"colorbar\\\":{\\\"ticks\\\":\\\"\\\",\\\"outlinewidth\\\":0},\\\"type\\\":\\\"contourcarpet\\\"}],\\\"table\\\":[{\\\"type\\\":\\\"table\\\",\\\"header\\\":{\\\"line\\\":{\\\"color\\\":\\\"white\\\"},\\\"fill\\\":{\\\"color\\\":\\\"#C8D4E3\\\"}},\\\"cells\\\":{\\\"line\\\":{\\\"color\\\":\\\"white\\\"},\\\"fill\\\":{\\\"color\\\":\\\"#EBF0F8\\\"}}}],\\\"scatter3d\\\":[{\\\"line\\\":{\\\"colorbar\\\":{\\\"ticks\\\":\\\"\\\",\\\"outlinewidth\\\":0}},\\\"type\\\":\\\"scatter3d\\\",\\\"marker\\\":{\\\"colorbar\\\":{\\\"ticks\\\":\\\"\\\",\\\"outlinewidth\\\":0}}}],\\\"scattergl\\\":[{\\\"type\\\":\\\"scattergl\\\",\\\"marker\\\":{\\\"colorbar\\\":{\\\"ticks\\\":\\\"\\\",\\\"outlinewidth\\\":0}}}],\\\"histogram2d\\\":[{\\\"colorbar\\\":{\\\"ticks\\\":\\\"\\\",\\\"outlinewidth\\\":0},\\\"type\\\":\\\"histogram2d\\\",\\\"colorscale\\\":[[0.0,\\\"#0d0887\\\"],[0.1111111111111111,\\\"#46039f\\\"],[0.2222222222222222,\\\"#7201a8\\\"],[0.3333333333333333,\\\"#9c179e\\\"],[0.4444444444444444,\\\"#bd3786\\\"],[0.5555555555555556,\\\"#d8576b\\\"],[0.6666666666666666,\\\"#ed7953\\\"],[0.7777777777777778,\\\"#fb9f3a\\\"],[0.8888888888888888,\\\"#fdca26\\\"],[1.0,\\\"#f0f921\\\"]]}],\\\"scatterternary\\\":[{\\\"type\\\":\\\"scatterternary\\\",\\\"marker\\\":{\\\"colorbar\\\":{\\\"ticks\\\":\\\"\\\",\\\"outlinewidth\\\":0}}}],\\\"scatterpolargl\\\":[{\\\"type\\\":\\\"scatterpolargl\\\",\\\"marker\\\":{\\\"colorbar\\\":{\\\"ticks\\\":\\\"\\\",\\\"outlinewidth\\\":0}}}]}},\\\"margin\\\":{\\\"l\\\":50,\\\"b\\\":50,\\\"r\\\":50,\\\"t\\\":60}},{\\\"showLink\\\":false,\\\"editable\\\":false,\\\"responsive\\\":true,\\\"staticPlot\\\":false,\\\"scrollZoom\\\":true}); gd.on(\\\"plotly_hover\\\",(function (data){var filtered_data=WebIO.PlotlyCommands.filterEventData(gd,data,\\\"hover\\\"); return !(filtered_data.isnil) ? (WebIO.setval({\\\"name\\\":\\\"hover\\\",\\\"scope\\\":\\\"11494914699808378043\\\",\\\"id\\\":\\\"16835527454056593284\\\",\\\"type\\\":\\\"observable\\\"},filtered_data.out)) : undefined})); gd.on(\\\"plotly_unhover\\\",(function (){return WebIO.setval({\\\"name\\\":\\\"hover\\\",\\\"scope\\\":\\\"11494914699808378043\\\",\\\"id\\\":\\\"16835527454056593284\\\",\\\"type\\\":\\\"observable\\\"},{})})); gd.on(\\\"plotly_selected\\\",(function (data){var filtered_data=WebIO.PlotlyCommands.filterEventData(gd,data,\\\"selected\\\"); return !(filtered_data.isnil) ? (WebIO.setval({\\\"name\\\":\\\"selected\\\",\\\"scope\\\":\\\"11494914699808378043\\\",\\\"id\\\":\\\"11175972998788359336\\\",\\\"type\\\":\\\"observable\\\"},filtered_data.out)) : undefined})); gd.on(\\\"plotly_deselect\\\",(function (){return WebIO.setval({\\\"name\\\":\\\"selected\\\",\\\"scope\\\":\\\"11494914699808378043\\\",\\\"id\\\":\\\"11175972998788359336\\\",\\\"type\\\":\\\"observable\\\"},{})})); gd.on(\\\"plotly_relayout\\\",(function (data){var filtered_data=WebIO.PlotlyCommands.filterEventData(gd,data,\\\"relayout\\\"); return !(filtered_data.isnil) ? (WebIO.setval({\\\"name\\\":\\\"relayout\\\",\\\"scope\\\":\\\"11494914699808378043\\\",\\\"id\\\":\\\"4934303112168311723\\\",\\\"type\\\":\\\"observable\\\"},filtered_data.out)) : undefined})); return gd.on(\\\"plotly_click\\\",(function (data){var filtered_data=WebIO.PlotlyCommands.filterEventData(gd,data,\\\"click\\\"); return !(filtered_data.isnil) ? (WebIO.setval({\\\"name\\\":\\\"click\\\",\\\"scope\\\":\\\"11494914699808378043\\\",\\\"id\\\":\\\"15042578114812380443\\\",\\\"type\\\":\\\"observable\\\"},filtered_data.out)) : undefined}))}));\\n    (WebIO.importBlock({\\\"data\\\":[{\\\"name\\\":\\\"Plotly\\\",\\\"type\\\":\\\"js\\\",\\\"url\\\":\\\"\\/assetserver\\/5b0bcbbb362c204ec77e728ffa8c7da4be28ce8a-plotly.min.js\\\"},{\\\"name\\\":null,\\\"type\\\":\\\"js\\\",\\\"url\\\":\\\"\\/assetserver\\/6303ac4e25f5217851dbb12ecf3059151c237374-plotly_webio.bundle.js\\\"}],\\\"type\\\":\\\"async_block\\\"})).then((imports) => handler.apply(this, imports));\\n}\\n\"],\"observables\":{\"_toImage\":{\"sync\":false,\"id\":\"15831707512481791242\",\"value\":{}},\"hover\":{\"sync\":false,\"id\":\"16835527454056593284\",\"value\":{}},\"selected\":{\"sync\":false,\"id\":\"11175972998788359336\",\"value\":{}},\"__gd_contents\":{\"sync\":false,\"id\":\"9541384567022474719\",\"value\":{}},\"click\":{\"sync\":false,\"id\":\"15042578114812380443\",\"value\":{}},\"image\":{\"sync\":true,\"id\":\"14233678119381857054\",\"value\":\"\"},\"__get_gd_contents\":{\"sync\":false,\"id\":\"4958644983210133786\",\"value\":\"\"},\"_downloadImage\":{\"sync\":false,\"id\":\"16507555893535005177\",\"value\":{}},\"relayout\":{\"sync\":false,\"id\":\"4934303112168311723\",\"value\":{}},\"_commands\":{\"sync\":false,\"id\":\"6590351506952452802\",\"value\":[]}}},\"children\":[{\"props\":{\"id\":\"plot-ce4ae292-e190-4c6c-9f26-264e4721a536\"},\"nodeType\":\"DOM\",\"type\":\"node\",\"instanceArgs\":{\"namespace\":\"html\",\"tag\":\"div\"},\"children\":[]}]},\n",
       "        window,\n",
       "    );\n",
       "    })()\n",
       "    </script>\n",
       "</div>\n"
      ],
      "text/plain": [
       "data: [\n",
       "  \"scatter with fields mode, name, type, x, and y\",\n",
       "  \"scatter with fields mode, name, type, x, and y\",\n",
       "  \"scatter with fields mode, name, type, x, and y\"\n",
       "]\n",
       "\n",
       "layout: \"layout with fields margin and template\"\n",
       "\n"
      ]
     },
     "execution_count": 3,
     "metadata": {},
     "output_type": "execute_result"
    }
   ],
   "source": [
    "t = 0:0.1:3\n",
    "s1 = exp.(t)\n",
    "s2 = solve_ode(f, 1, t, euler_step, 0.01)\n",
    "s3 = solve_ode(f, 1, t, rk4_step, 0.01)\n",
    "\n",
    "# Create traces\n",
    "euler = scatter(x=t, y=s2,mode=\"lines\",name=\"euler\")\n",
    "rk4 = scatter(x=t, y=s3,mode=\"lines\", name=\"rk4\")\n",
    "solution = scatter(x=t, y=s1,mode=\"lines\",name=\"e^(x)\")\n",
    "\n",
    "plot([euler, rk4, solution])"
   ]
  },
  {
   "cell_type": "markdown",
   "metadata": {},
   "source": [
    "Error Plot"
   ]
  },
  {
   "cell_type": "code",
   "execution_count": 1,
   "metadata": {},
   "outputs": [
    {
     "name": "stdout",
     "output_type": "stream",
     "text": [
      "Euler approximation = 2.7169239322358942\n",
      "RK4 approximation = 2.718281828459023\n"
     ]
    }
   ],
   "source": [
    "include(\"ode_solver.jl\")\n",
    "\n",
    "x0 = [1.]\n",
    "t = [0, 1]\n",
    "\n",
    "# Euler estimate of x(1)\n",
    "h = 0.001\n",
    "solution = solve_ode(f, x0, t, euler_step, h)\n",
    "println(\"Euler approximation = \", solution[end][1])\n",
    "\n",
    "\n",
    "# RK4 estimate of x(1)\n",
    "h = 0.001\n",
    "solution = solve_ode(f, x0, t, rk4_step, h)\n",
    "println(\"RK4 approximation = \", solution[end][1])\n",
    "\n",
    "x0 = [1.]\n",
    "t = [0, 1]\n",
    "h = exp10.(range(-5,0,80))\n",
    "real = exp(1)\n",
    "\n",
    "euler_error = Any[]\n",
    "rk4_error = Any[]\n",
    "\n",
    "for hvalue in h\n",
    "    euler_sol = solve_ode(f, x0, t, euler_step, hvalue)[end][1]\n",
    "    rk4_sol = solve_ode(f, x0, t, rk4_step, hvalue)[end][1]\n",
    "    push!(euler_error, abs.(euler_sol.-real))\n",
    "    push!(rk4_error, abs.(rk4_sol.-real))\n",
    "end"
   ]
  },
  {
   "cell_type": "code",
   "execution_count": 5,
   "metadata": {},
   "outputs": [
    {
     "data": {
      "application/vnd.plotly.v1+json": {
       "config": {
        "editable": false,
        "responsive": true,
        "scrollZoom": true,
        "showLink": false,
        "staticPlot": false
       },
       "data": [
        {
         "mode": "lines",
         "name": "Euler",
         "type": "scatter",
         "x": [
          0.00001,
          0.000011568875283162833,
          0.000013383887531737564,
          0.00001548365256585499,
          0.00001791284454622002,
          0.000020723146452190295,
          0.000023974349678010785,
          0.000027735626141984122,
          0.000032086999973704505,
          0.000037121050090663645,
          0.000042944879887892724,
          0.00004968239594734388,
          0.00005747694424835347,
          0.00006649435996665046,
          0.00007692649574879147,
          0.00008899530352885224,
          0.00010295755673125127,
          0.00011911031332830067,
          0.00013779723598335568,
          0.00015941590374559997,
          0.00018442627085855348,
          0.0002133604526501411,
          0.00024683404670686486,
          0.0002855592301990109,
          0.0003303599120128339,
          0.00038218926206331187,
          0.0004421499907374487,
          0.000511517809929314,
          0.0005917685748188825,
          0.0006846096838574657,
          0.0007920164050192549,
          0.0009162739011886732,
          0.0010600258488068824,
          0.0012263306841775632,
          0.0014187266741165962,
          0.0016413071953751282,
          0.0018988078244652632,
          0.0021967070907932353,
          0.0025413430367026363,
          0.0029400480643347075,
          0.003401304938279253,
          0.003934927263095849,
          0.00455226827550731,
          0.005266462393484275,
          0.00609270466136868,
          0.007048574036451903,
          0.008154407395185161,
          0.009433732216299773,
          0.010913767146512732,
          0.012626001098748564,
          0.014606863203649888,
          0.016898497868124578,
          0.019549661430912604,
          0.022616759492228633,
          0.02616504698748821,
          0.030270016537634614,
          0.03501900461431711,
          0.0405130496923538,
          0.046869041923141924,
          0.05422221006501587,
          0.06272899858196247,
          0.07257039612324212,
          0.08395578619995112,
          0.09712740198471168,
          0.1123654800138751,
          0.12999422244132458,
          0.15038869469554098,
          0.1739828052930364,
          0.2012785375849939,
          0.23285662984981953,
          0.26938893095901717,
          0.311652694492943,
          0.36054711542505036,
          0.4171124612056518,
          0.48255220427412776,
          0.5582586268862695,
          0.645842443019698,
          0.7471670675868078,
          0.8643882620598268,
          1
         ],
         "y": [
          0.000013591279341085283,
          0.000015723541781920147,
          0.000018190311663168757,
          0.000021044109034473735,
          0.000024345628443001033,
          0.000028165040083294457,
          0.00003258366008651592,
          0.00003769545236309568,
          0.00004360919608492608,
          0.000050450843407379153,
          0.000058365284781203286,
          0.00006752188394587577,
          0.0000781142457593198,
          0.00009036901457415425,
          0.00010454461313669228,
          0.00012094462625134028,
          0.0001399178527003997,
          0.00016186532638240436,
          0.00018726122624368458,
          0.00021663390793147386,
          0.0002506109650144417,
          0.0002899248589143255,
          0.00033538881585171154,
          0.00038800373812719613,
          0.0004488694984425834,
          0.0005192175465706939,
          0.0006006425207205623,
          0.0006948873362460084,
          0.0008038001403543049,
          0.0009297604937050785,
          0.0010754766178937558,
          0.001244032695932873,
          0.0014389692587060132,
          0.001664381817001015,
          0.0019254115271940542,
          0.002226695904119058,
          0.002575146650216187,
          0.002978488146949676,
          0.0034438306500610416,
          0.003983872396403854,
          0.004608411010978752,
          0.005326467339330954,
          0.006155292026086556,
          0.007119560073030495,
          0.008229173677021695,
          0.00951110895198859,
          0.010980060145191928,
          0.012711574964482164,
          0.014649280783078034,
          0.01692995141677134,
          0.019520087100619588,
          0.022562015142283176,
          0.02603804854608649,
          0.030001586766219557,
          0.034576011624162906,
          0.03998999230032929,
          0.04572701542300628,
          0.052641603907161105,
          0.06045684554371755,
          0.06930013034106741,
          0.08036806526115114,
          0.09140411541911275,
          0.10530369156397823,
          0.11889849648811168,
          0.1372260905539422,
          0.1539384887604922,
          0.17415611444312207,
          0.19816795645097018,
          0.22999013559475046,
          0.24965927853592307,
          0.2804732411485613,
          0.3148972633466931,
          0.35091412633787744,
          0.3771633088802986,
          0.4436216396381787,
          0.4716758960657188,
          0.48955184664499907,
          0.5293733877585067,
          0.6010606339860263,
          0.7182818284590451
         ]
        },
        {
         "mode": "lines",
         "name": "RK4",
         "type": "scatter",
         "x": [
          0.00001,
          0.000011568875283162833,
          0.000013383887531737564,
          0.00001548365256585499,
          0.00001791284454622002,
          0.000020723146452190295,
          0.000023974349678010785,
          0.000027735626141984122,
          0.000032086999973704505,
          0.000037121050090663645,
          0.000042944879887892724,
          0.00004968239594734388,
          0.00005747694424835347,
          0.00006649435996665046,
          0.00007692649574879147,
          0.00008899530352885224,
          0.00010295755673125127,
          0.00011911031332830067,
          0.00013779723598335568,
          0.00015941590374559997,
          0.00018442627085855348,
          0.0002133604526501411,
          0.00024683404670686486,
          0.0002855592301990109,
          0.0003303599120128339,
          0.00038218926206331187,
          0.0004421499907374487,
          0.000511517809929314,
          0.0005917685748188825,
          0.0006846096838574657,
          0.0007920164050192549,
          0.0009162739011886732,
          0.0010600258488068824,
          0.0012263306841775632,
          0.0014187266741165962,
          0.0016413071953751282,
          0.0018988078244652632,
          0.0021967070907932353,
          0.0025413430367026363,
          0.0029400480643347075,
          0.003401304938279253,
          0.003934927263095849,
          0.00455226827550731,
          0.005266462393484275,
          0.00609270466136868,
          0.007048574036451903,
          0.008154407395185161,
          0.009433732216299773,
          0.010913767146512732,
          0.012626001098748564,
          0.014606863203649888,
          0.016898497868124578,
          0.019549661430912604,
          0.022616759492228633,
          0.02616504698748821,
          0.030270016537634614,
          0.03501900461431711,
          0.0405130496923538,
          0.046869041923141924,
          0.05422221006501587,
          0.06272899858196247,
          0.07257039612324212,
          0.08395578619995112,
          0.09712740198471168,
          0.1123654800138751,
          0.12999422244132458,
          0.15038869469554098,
          0.1739828052930364,
          0.2012785375849939,
          0.23285662984981953,
          0.26938893095901717,
          0.311652694492943,
          0.36054711542505036,
          0.4171124612056518,
          0.48255220427412776,
          0.5582586268862695,
          0.645842443019698,
          0.7471670675868078,
          0.8643882620598268,
          1
         ],
         "y": [
          5.214939591269285e-12,
          2.9181101979247615e-12,
          3.795186387378635e-12,
          2.241762331323116e-12,
          6.350475700855895e-14,
          7.593925488436071e-13,
          1.5263346142546652e-12,
          1.078248601515952e-12,
          2.0650148258027912e-13,
          9.845457782375888e-13,
          8.113509863960644e-13,
          8.211209490127658e-13,
          9.920952948050399e-13,
          3.6637359812630166e-13,
          5.906386491005833e-13,
          7.593925488436071e-13,
          3.423927807943983e-13,
          4.063416270128073e-13,
          3.2729374765949615e-13,
          3.326228181776969e-13,
          1.9539925233402755e-13,
          2.8466118351389014e-13,
          1.9895196601282805e-13,
          7.016609515630989e-14,
          9.769962616701378e-14,
          1.0391687510491465e-13,
          5.773159728050814e-14,
          2.353672812205332e-14,
          8.43769498715119e-14,
          6.972200594645983e-14,
          2.4868995751603507e-14,
          4.1744385725905886e-14,
          8.748557434046234e-14,
          2.930988785010413e-14,
          6.750155989720952e-14,
          1.8385293287792592e-13,
          3.086420008457935e-13,
          5.155875726359227e-13,
          9.268141809570807e-13,
          1.6755485887642863e-12,
          3.0300206788069772e-12,
          5.413891557282113e-12,
          9.64739399478276e-12,
          1.731592647047364e-11,
          3.1035618519581476e-11,
          5.544009695768182e-11,
          9.904033149155111e-11,
          1.7799584028921345e-10,
          3.166218398575893e-10,
          5.682010417729089e-10,
          1.0121756766068302e-9,
          1.815901651269769e-9,
          3.2456890508569813e-9,
          5.788144186169575e-9,
          1.0328654820312977e-8,
          1.8524193734492655e-8,
          3.250537750076887e-8,
          5.772474676035699e-8,
          1.034905903196659e-7,
          1.8284411895663766e-7,
          3.287307857036126e-7,
          5.705080856621692e-7,
          0.0000010248197255258162,
          0.0000018064056073185952,
          0.0000031760452006146522,
          0.000005407104779475702,
          0.000009411533333114619,
          0.000016380808145921577,
          0.000030737134068647975,
          0.00005115072151573585,
          0.00008209882866117013,
          0.00015427158801850638,
          0.00023498151081247087,
          0.00040723459397229433,
          0.0007947357921946896,
          0.001037942874931197,
          0.0015863743212007897,
          0.002865381479294271,
          0.0053614032506175135,
          0.009948495125712054
         ]
        }
       ],
       "frames": [],
       "layout": {
        "margin": {
         "b": 50,
         "l": 50,
         "r": 50,
         "t": 60
        },
        "template": {
         "data": {
          "bar": [
           {
            "error_x": {
             "color": "#2a3f5f"
            },
            "error_y": {
             "color": "#2a3f5f"
            },
            "marker": {
             "line": {
              "color": "#E5ECF6",
              "width": 0.5
             }
            },
            "type": "bar"
           }
          ],
          "barpolar": [
           {
            "marker": {
             "line": {
              "color": "#E5ECF6",
              "width": 0.5
             }
            },
            "type": "barpolar"
           }
          ],
          "carpet": [
           {
            "aaxis": {
             "endlinecolor": "#2a3f5f",
             "gridcolor": "white",
             "linecolor": "white",
             "minorgridcolor": "white",
             "startlinecolor": "#2a3f5f"
            },
            "baxis": {
             "endlinecolor": "#2a3f5f",
             "gridcolor": "white",
             "linecolor": "white",
             "minorgridcolor": "white",
             "startlinecolor": "#2a3f5f"
            },
            "type": "carpet"
           }
          ],
          "choropleth": [
           {
            "colorbar": {
             "outlinewidth": 0,
             "ticks": ""
            },
            "type": "choropleth"
           }
          ],
          "contour": [
           {
            "colorbar": {
             "outlinewidth": 0,
             "ticks": ""
            },
            "colorscale": [
             [
              0,
              "#0d0887"
             ],
             [
              0.1111111111111111,
              "#46039f"
             ],
             [
              0.2222222222222222,
              "#7201a8"
             ],
             [
              0.3333333333333333,
              "#9c179e"
             ],
             [
              0.4444444444444444,
              "#bd3786"
             ],
             [
              0.5555555555555556,
              "#d8576b"
             ],
             [
              0.6666666666666666,
              "#ed7953"
             ],
             [
              0.7777777777777778,
              "#fb9f3a"
             ],
             [
              0.8888888888888888,
              "#fdca26"
             ],
             [
              1,
              "#f0f921"
             ]
            ],
            "type": "contour"
           }
          ],
          "contourcarpet": [
           {
            "colorbar": {
             "outlinewidth": 0,
             "ticks": ""
            },
            "type": "contourcarpet"
           }
          ],
          "heatmap": [
           {
            "colorbar": {
             "outlinewidth": 0,
             "ticks": ""
            },
            "colorscale": [
             [
              0,
              "#0d0887"
             ],
             [
              0.1111111111111111,
              "#46039f"
             ],
             [
              0.2222222222222222,
              "#7201a8"
             ],
             [
              0.3333333333333333,
              "#9c179e"
             ],
             [
              0.4444444444444444,
              "#bd3786"
             ],
             [
              0.5555555555555556,
              "#d8576b"
             ],
             [
              0.6666666666666666,
              "#ed7953"
             ],
             [
              0.7777777777777778,
              "#fb9f3a"
             ],
             [
              0.8888888888888888,
              "#fdca26"
             ],
             [
              1,
              "#f0f921"
             ]
            ],
            "type": "heatmap"
           }
          ],
          "heatmapgl": [
           {
            "colorbar": {
             "outlinewidth": 0,
             "ticks": ""
            },
            "colorscale": [
             [
              0,
              "#0d0887"
             ],
             [
              0.1111111111111111,
              "#46039f"
             ],
             [
              0.2222222222222222,
              "#7201a8"
             ],
             [
              0.3333333333333333,
              "#9c179e"
             ],
             [
              0.4444444444444444,
              "#bd3786"
             ],
             [
              0.5555555555555556,
              "#d8576b"
             ],
             [
              0.6666666666666666,
              "#ed7953"
             ],
             [
              0.7777777777777778,
              "#fb9f3a"
             ],
             [
              0.8888888888888888,
              "#fdca26"
             ],
             [
              1,
              "#f0f921"
             ]
            ],
            "type": "heatmapgl"
           }
          ],
          "histogram": [
           {
            "marker": {
             "colorbar": {
              "outlinewidth": 0,
              "ticks": ""
             }
            },
            "type": "histogram"
           }
          ],
          "histogram2d": [
           {
            "colorbar": {
             "outlinewidth": 0,
             "ticks": ""
            },
            "colorscale": [
             [
              0,
              "#0d0887"
             ],
             [
              0.1111111111111111,
              "#46039f"
             ],
             [
              0.2222222222222222,
              "#7201a8"
             ],
             [
              0.3333333333333333,
              "#9c179e"
             ],
             [
              0.4444444444444444,
              "#bd3786"
             ],
             [
              0.5555555555555556,
              "#d8576b"
             ],
             [
              0.6666666666666666,
              "#ed7953"
             ],
             [
              0.7777777777777778,
              "#fb9f3a"
             ],
             [
              0.8888888888888888,
              "#fdca26"
             ],
             [
              1,
              "#f0f921"
             ]
            ],
            "type": "histogram2d"
           }
          ],
          "histogram2dcontour": [
           {
            "colorbar": {
             "outlinewidth": 0,
             "ticks": ""
            },
            "colorscale": [
             [
              0,
              "#0d0887"
             ],
             [
              0.1111111111111111,
              "#46039f"
             ],
             [
              0.2222222222222222,
              "#7201a8"
             ],
             [
              0.3333333333333333,
              "#9c179e"
             ],
             [
              0.4444444444444444,
              "#bd3786"
             ],
             [
              0.5555555555555556,
              "#d8576b"
             ],
             [
              0.6666666666666666,
              "#ed7953"
             ],
             [
              0.7777777777777778,
              "#fb9f3a"
             ],
             [
              0.8888888888888888,
              "#fdca26"
             ],
             [
              1,
              "#f0f921"
             ]
            ],
            "type": "histogram2dcontour"
           }
          ],
          "mesh3d": [
           {
            "colorbar": {
             "outlinewidth": 0,
             "ticks": ""
            },
            "type": "mesh3d"
           }
          ],
          "parcoords": [
           {
            "line": {
             "colorbar": {
              "outlinewidth": 0,
              "ticks": ""
             }
            },
            "type": "parcoords"
           }
          ],
          "pie": [
           {
            "automargin": true,
            "type": "pie"
           }
          ],
          "scatter": [
           {
            "marker": {
             "colorbar": {
              "outlinewidth": 0,
              "ticks": ""
             }
            },
            "type": "scatter"
           }
          ],
          "scatter3d": [
           {
            "line": {
             "colorbar": {
              "outlinewidth": 0,
              "ticks": ""
             }
            },
            "marker": {
             "colorbar": {
              "outlinewidth": 0,
              "ticks": ""
             }
            },
            "type": "scatter3d"
           }
          ],
          "scattercarpet": [
           {
            "marker": {
             "colorbar": {
              "outlinewidth": 0,
              "ticks": ""
             }
            },
            "type": "scattercarpet"
           }
          ],
          "scattergeo": [
           {
            "marker": {
             "colorbar": {
              "outlinewidth": 0,
              "ticks": ""
             }
            },
            "type": "scattergeo"
           }
          ],
          "scattergl": [
           {
            "marker": {
             "colorbar": {
              "outlinewidth": 0,
              "ticks": ""
             }
            },
            "type": "scattergl"
           }
          ],
          "scattermapbox": [
           {
            "marker": {
             "colorbar": {
              "outlinewidth": 0,
              "ticks": ""
             }
            },
            "type": "scattermapbox"
           }
          ],
          "scatterpolar": [
           {
            "marker": {
             "colorbar": {
              "outlinewidth": 0,
              "ticks": ""
             }
            },
            "type": "scatterpolar"
           }
          ],
          "scatterpolargl": [
           {
            "marker": {
             "colorbar": {
              "outlinewidth": 0,
              "ticks": ""
             }
            },
            "type": "scatterpolargl"
           }
          ],
          "scatterternary": [
           {
            "marker": {
             "colorbar": {
              "outlinewidth": 0,
              "ticks": ""
             }
            },
            "type": "scatterternary"
           }
          ],
          "surface": [
           {
            "colorbar": {
             "outlinewidth": 0,
             "ticks": ""
            },
            "colorscale": [
             [
              0,
              "#0d0887"
             ],
             [
              0.1111111111111111,
              "#46039f"
             ],
             [
              0.2222222222222222,
              "#7201a8"
             ],
             [
              0.3333333333333333,
              "#9c179e"
             ],
             [
              0.4444444444444444,
              "#bd3786"
             ],
             [
              0.5555555555555556,
              "#d8576b"
             ],
             [
              0.6666666666666666,
              "#ed7953"
             ],
             [
              0.7777777777777778,
              "#fb9f3a"
             ],
             [
              0.8888888888888888,
              "#fdca26"
             ],
             [
              1,
              "#f0f921"
             ]
            ],
            "type": "surface"
           }
          ],
          "table": [
           {
            "cells": {
             "fill": {
              "color": "#EBF0F8"
             },
             "line": {
              "color": "white"
             }
            },
            "header": {
             "fill": {
              "color": "#C8D4E3"
             },
             "line": {
              "color": "white"
             }
            },
            "type": "table"
           }
          ]
         },
         "layout": {
          "annotationdefaults": {
           "arrowcolor": "#2a3f5f",
           "arrowhead": 0,
           "arrowwidth": 1
          },
          "autotypenumbers": "strict",
          "coloraxis": {
           "colorbar": {
            "outlinewidth": 0,
            "ticks": ""
           }
          },
          "colorscale": {
           "diverging": [
            [
             0,
             "#8e0152"
            ],
            [
             0.1,
             "#c51b7d"
            ],
            [
             0.2,
             "#de77ae"
            ],
            [
             0.3,
             "#f1b6da"
            ],
            [
             0.4,
             "#fde0ef"
            ],
            [
             0.5,
             "#f7f7f7"
            ],
            [
             0.6,
             "#e6f5d0"
            ],
            [
             0.7,
             "#b8e186"
            ],
            [
             0.8,
             "#7fbc41"
            ],
            [
             0.9,
             "#4d9221"
            ],
            [
             1,
             "#276419"
            ]
           ],
           "sequential": [
            [
             0,
             "#0d0887"
            ],
            [
             0.1111111111111111,
             "#46039f"
            ],
            [
             0.2222222222222222,
             "#7201a8"
            ],
            [
             0.3333333333333333,
             "#9c179e"
            ],
            [
             0.4444444444444444,
             "#bd3786"
            ],
            [
             0.5555555555555556,
             "#d8576b"
            ],
            [
             0.6666666666666666,
             "#ed7953"
            ],
            [
             0.7777777777777778,
             "#fb9f3a"
            ],
            [
             0.8888888888888888,
             "#fdca26"
            ],
            [
             1,
             "#f0f921"
            ]
           ],
           "sequentialminus": [
            [
             0,
             "#0d0887"
            ],
            [
             0.1111111111111111,
             "#46039f"
            ],
            [
             0.2222222222222222,
             "#7201a8"
            ],
            [
             0.3333333333333333,
             "#9c179e"
            ],
            [
             0.4444444444444444,
             "#bd3786"
            ],
            [
             0.5555555555555556,
             "#d8576b"
            ],
            [
             0.6666666666666666,
             "#ed7953"
            ],
            [
             0.7777777777777778,
             "#fb9f3a"
            ],
            [
             0.8888888888888888,
             "#fdca26"
            ],
            [
             1,
             "#f0f921"
            ]
           ]
          },
          "colorway": [
           "#636efa",
           "#EF553B",
           "#00cc96",
           "#ab63fa",
           "#FFA15A",
           "#19d3f3",
           "#FF6692",
           "#B6E880",
           "#FF97FF",
           "#FECB52"
          ],
          "font": {
           "color": "#2a3f5f"
          },
          "geo": {
           "bgcolor": "white",
           "lakecolor": "white",
           "landcolor": "#E5ECF6",
           "showlakes": true,
           "showland": true,
           "subunitcolor": "white"
          },
          "hoverlabel": {
           "align": "left"
          },
          "hovermode": "closest",
          "mapbox": {
           "style": "light"
          },
          "paper_bgcolor": "white",
          "plot_bgcolor": "#E5ECF6",
          "polar": {
           "angularaxis": {
            "gridcolor": "white",
            "linecolor": "white",
            "ticks": ""
           },
           "bgcolor": "#E5ECF6",
           "radialaxis": {
            "gridcolor": "white",
            "linecolor": "white",
            "ticks": ""
           }
          },
          "scene": {
           "xaxis": {
            "backgroundcolor": "#E5ECF6",
            "gridcolor": "white",
            "gridwidth": 2,
            "linecolor": "white",
            "showbackground": true,
            "ticks": "",
            "zerolinecolor": "white"
           },
           "yaxis": {
            "backgroundcolor": "#E5ECF6",
            "gridcolor": "white",
            "gridwidth": 2,
            "linecolor": "white",
            "showbackground": true,
            "ticks": "",
            "zerolinecolor": "white"
           },
           "zaxis": {
            "backgroundcolor": "#E5ECF6",
            "gridcolor": "white",
            "gridwidth": 2,
            "linecolor": "white",
            "showbackground": true,
            "ticks": "",
            "zerolinecolor": "white"
           }
          },
          "shapedefaults": {
           "line": {
            "color": "#2a3f5f"
           }
          },
          "ternary": {
           "aaxis": {
            "gridcolor": "white",
            "linecolor": "white",
            "ticks": ""
           },
           "baxis": {
            "gridcolor": "white",
            "linecolor": "white",
            "ticks": ""
           },
           "bgcolor": "#E5ECF6",
           "caxis": {
            "gridcolor": "white",
            "linecolor": "white",
            "ticks": ""
           }
          },
          "title": {
           "x": 0.05
          },
          "xaxis": {
           "automargin": true,
           "gridcolor": "white",
           "linecolor": "white",
           "ticks": "",
           "title": {
            "standoff": 15
           },
           "zerolinecolor": "white",
           "zerolinewidth": 2
          },
          "yaxis": {
           "automargin": true,
           "gridcolor": "white",
           "linecolor": "white",
           "ticks": "",
           "title": {
            "standoff": 15
           },
           "zerolinecolor": "white",
           "zerolinewidth": 2
          }
         }
        },
        "xaxis": {
         "exponentformat": "power",
         "type": "log"
        },
        "yaxis": {
         "exponentformat": "power",
         "type": "log"
        }
       }
      },
      "text/html": [
       "<div\n",
       "    class=\"webio-mountpoint\"\n",
       "    data-webio-mountpoint=\"267235597354288500\"\n",
       ">\n",
       "    <script>\n",
       "    (function(){\n",
       "    // Some integrations (namely, IJulia/Jupyter) use an alternate render pathway than\n",
       "    // just putting the html on the page. If WebIO isn't defined, then it's pretty likely\n",
       "    // that we're in one of those situations and the integration just isn't installed\n",
       "    // correctly.\n",
       "    if (typeof window.WebIO === \"undefined\") {\n",
       "        document\n",
       "            .querySelector('[data-webio-mountpoint=\"267235597354288500\"]')\n",
       "            .innerHTML = (\n",
       "                '<div style=\"padding: 1em; background-color: #f8d6da; border: 1px solid #f5c6cb; font-weight: bold;\">' +\n",
       "                '<p><strong>WebIO not detected.</strong></p>' +\n",
       "                '<p>Please read ' +\n",
       "                '<a href=\"https://juliagizmos.github.io/WebIO.jl/latest/troubleshooting/not-detected/\" target=\"_blank\">the troubleshooting guide</a> ' +\n",
       "                'for more information on how to resolve this issue.</p>' +\n",
       "                '<p><a href=\"https://juliagizmos.github.io/WebIO.jl/latest/troubleshooting/not-detected/\" target=\"_blank\">https://juliagizmos.github.io/WebIO.jl/latest/troubleshooting/not-detected/</a></p>' +\n",
       "                '</div>'\n",
       "            );\n",
       "        return;\n",
       "    }\n",
       "    WebIO.mount(\n",
       "        document.querySelector('[data-webio-mountpoint=\"267235597354288500\"]'),\n",
       "        {\"props\":{},\"nodeType\":\"Scope\",\"type\":\"node\",\"instanceArgs\":{\"imports\":{\"data\":[{\"name\":\"Plotly\",\"type\":\"js\",\"url\":\"\\/assetserver\\/5b0bcbbb362c204ec77e728ffa8c7da4be28ce8a-plotly.min.js\"},{\"name\":null,\"type\":\"js\",\"url\":\"\\/assetserver\\/6303ac4e25f5217851dbb12ecf3059151c237374-plotly_webio.bundle.js\"}],\"type\":\"async_block\"},\"id\":\"13083627089088929611\",\"handlers\":{\"_toImage\":[\"(function (options){return this.Plotly.toImage(this.plotElem,options).then((function (data){return WebIO.setval({\\\"name\\\":\\\"image\\\",\\\"scope\\\":\\\"13083627089088929611\\\",\\\"id\\\":\\\"10743980618777489824\\\",\\\"type\\\":\\\"observable\\\"},data)}))})\"],\"__get_gd_contents\":[\"(function (prop){prop==\\\"data\\\" ? (WebIO.setval({\\\"name\\\":\\\"__gd_contents\\\",\\\"scope\\\":\\\"13083627089088929611\\\",\\\"id\\\":\\\"17713326591844163292\\\",\\\"type\\\":\\\"observable\\\"},this.plotElem.data)) : undefined; return prop==\\\"layout\\\" ? (WebIO.setval({\\\"name\\\":\\\"__gd_contents\\\",\\\"scope\\\":\\\"13083627089088929611\\\",\\\"id\\\":\\\"17713326591844163292\\\",\\\"type\\\":\\\"observable\\\"},this.plotElem.layout)) : undefined})\"],\"_downloadImage\":[\"(function (options){return this.Plotly.downloadImage(this.plotElem,options)})\"],\"_commands\":[\"(function (args){var fn=args.shift(); var elem=this.plotElem; var Plotly=this.Plotly; args.unshift(elem); return Plotly[fn].apply(this,args)})\"]},\"systemjs_options\":null,\"mount_callbacks\":[\"function () {\\n    var handler = ((function (Plotly,PlotlyWebIO){PlotlyWebIO.init(WebIO); var gd=this.dom.querySelector(\\\"#plot-75527a0a-b87c-4db5-9371-e3869c22d412\\\"); this.plotElem=gd; this.Plotly=Plotly; (window.Blink!==undefined) ? (gd.style.width=\\\"100%\\\", gd.style.height=\\\"100vh\\\", gd.style.marginLeft=\\\"0%\\\", gd.style.marginTop=\\\"0vh\\\") : undefined; window.onresize=(function (){return Plotly.Plots.resize(gd)}); Plotly.newPlot(gd,[{\\\"mode\\\":\\\"lines\\\",\\\"y\\\":[1.3591279341085283e-5,1.5723541781920147e-5,1.8190311663168757e-5,2.1044109034473735e-5,2.4345628443001033e-5,2.8165040083294457e-5,3.258366008651592e-5,3.769545236309568e-5,4.360919608492608e-5,5.0450843407379153e-5,5.8365284781203286e-5,6.752188394587577e-5,7.81142457593198e-5,9.036901457415425e-5,0.00010454461313669228,0.00012094462625134028,0.0001399178527003997,0.00016186532638240436,0.00018726122624368458,0.00021663390793147386,0.0002506109650144417,0.0002899248589143255,0.00033538881585171154,0.00038800373812719613,0.0004488694984425834,0.0005192175465706939,0.0006006425207205623,0.0006948873362460084,0.0008038001403543049,0.0009297604937050785,0.0010754766178937558,0.001244032695932873,0.0014389692587060132,0.001664381817001015,0.0019254115271940542,0.002226695904119058,0.002575146650216187,0.002978488146949676,0.0034438306500610416,0.003983872396403854,0.004608411010978752,0.005326467339330954,0.006155292026086556,0.007119560073030495,0.008229173677021695,0.00951110895198859,0.010980060145191928,0.012711574964482164,0.014649280783078034,0.01692995141677134,0.019520087100619588,0.022562015142283176,0.02603804854608649,0.030001586766219557,0.034576011624162906,0.03998999230032929,0.04572701542300628,0.052641603907161105,0.06045684554371755,0.06930013034106741,0.08036806526115114,0.09140411541911275,0.10530369156397823,0.11889849648811168,0.1372260905539422,0.1539384887604922,0.17415611444312207,0.19816795645097018,0.22999013559475046,0.24965927853592307,0.2804732411485613,0.3148972633466931,0.35091412633787744,0.3771633088802986,0.4436216396381787,0.4716758960657188,0.48955184664499907,0.5293733877585067,0.6010606339860263,0.7182818284590451],\\\"type\\\":\\\"scatter\\\",\\\"name\\\":\\\"Euler\\\",\\\"x\\\":[1.0e-5,1.1568875283162833e-5,1.3383887531737564e-5,1.548365256585499e-5,1.791284454622002e-5,2.0723146452190295e-5,2.3974349678010785e-5,2.7735626141984122e-5,3.2086999973704505e-5,3.7121050090663645e-5,4.2944879887892724e-5,4.968239594734388e-5,5.747694424835347e-5,6.649435996665046e-5,7.692649574879147e-5,8.899530352885224e-5,0.00010295755673125127,0.00011911031332830067,0.00013779723598335568,0.00015941590374559997,0.00018442627085855348,0.0002133604526501411,0.00024683404670686486,0.0002855592301990109,0.0003303599120128339,0.00038218926206331187,0.0004421499907374487,0.000511517809929314,0.0005917685748188825,0.0006846096838574657,0.0007920164050192549,0.0009162739011886732,0.0010600258488068824,0.0012263306841775632,0.0014187266741165962,0.0016413071953751282,0.0018988078244652632,0.0021967070907932353,0.0025413430367026363,0.0029400480643347075,0.003401304938279253,0.003934927263095849,0.00455226827550731,0.005266462393484275,0.00609270466136868,0.007048574036451903,0.008154407395185161,0.009433732216299773,0.010913767146512732,0.012626001098748564,0.014606863203649888,0.016898497868124578,0.019549661430912604,0.022616759492228633,0.02616504698748821,0.030270016537634614,0.03501900461431711,0.0405130496923538,0.046869041923141924,0.05422221006501587,0.06272899858196247,0.07257039612324212,0.08395578619995112,0.09712740198471168,0.1123654800138751,0.12999422244132458,0.15038869469554098,0.1739828052930364,0.2012785375849939,0.23285662984981953,0.26938893095901717,0.311652694492943,0.36054711542505036,0.4171124612056518,0.48255220427412776,0.5582586268862695,0.645842443019698,0.7471670675868078,0.8643882620598268,1.0]},{\\\"mode\\\":\\\"lines\\\",\\\"y\\\":[5.214939591269285e-12,2.9181101979247615e-12,3.795186387378635e-12,2.241762331323116e-12,6.350475700855895e-14,7.593925488436071e-13,1.5263346142546652e-12,1.078248601515952e-12,2.0650148258027912e-13,9.845457782375888e-13,8.113509863960644e-13,8.211209490127658e-13,9.920952948050399e-13,3.6637359812630166e-13,5.906386491005833e-13,7.593925488436071e-13,3.423927807943983e-13,4.063416270128073e-13,3.2729374765949615e-13,3.326228181776969e-13,1.9539925233402755e-13,2.8466118351389014e-13,1.9895196601282805e-13,7.016609515630989e-14,9.769962616701378e-14,1.0391687510491465e-13,5.773159728050814e-14,2.353672812205332e-14,8.43769498715119e-14,6.972200594645983e-14,2.4868995751603507e-14,4.1744385725905886e-14,8.748557434046234e-14,2.930988785010413e-14,6.750155989720952e-14,1.8385293287792592e-13,3.086420008457935e-13,5.155875726359227e-13,9.268141809570807e-13,1.6755485887642863e-12,3.0300206788069772e-12,5.413891557282113e-12,9.64739399478276e-12,1.731592647047364e-11,3.1035618519581476e-11,5.544009695768182e-11,9.904033149155111e-11,1.7799584028921345e-10,3.166218398575893e-10,5.682010417729089e-10,1.0121756766068302e-9,1.815901651269769e-9,3.2456890508569813e-9,5.788144186169575e-9,1.0328654820312977e-8,1.8524193734492655e-8,3.250537750076887e-8,5.772474676035699e-8,1.034905903196659e-7,1.8284411895663766e-7,3.287307857036126e-7,5.705080856621692e-7,1.0248197255258162e-6,1.8064056073185952e-6,3.1760452006146522e-6,5.407104779475702e-6,9.411533333114619e-6,1.6380808145921577e-5,3.0737134068647975e-5,5.115072151573585e-5,8.209882866117013e-5,0.00015427158801850638,0.00023498151081247087,0.00040723459397229433,0.0007947357921946896,0.001037942874931197,0.0015863743212007897,0.002865381479294271,0.0053614032506175135,0.009948495125712054],\\\"type\\\":\\\"scatter\\\",\\\"name\\\":\\\"RK4\\\",\\\"x\\\":[1.0e-5,1.1568875283162833e-5,1.3383887531737564e-5,1.548365256585499e-5,1.791284454622002e-5,2.0723146452190295e-5,2.3974349678010785e-5,2.7735626141984122e-5,3.2086999973704505e-5,3.7121050090663645e-5,4.2944879887892724e-5,4.968239594734388e-5,5.747694424835347e-5,6.649435996665046e-5,7.692649574879147e-5,8.899530352885224e-5,0.00010295755673125127,0.00011911031332830067,0.00013779723598335568,0.00015941590374559997,0.00018442627085855348,0.0002133604526501411,0.00024683404670686486,0.0002855592301990109,0.0003303599120128339,0.00038218926206331187,0.0004421499907374487,0.000511517809929314,0.0005917685748188825,0.0006846096838574657,0.0007920164050192549,0.0009162739011886732,0.0010600258488068824,0.0012263306841775632,0.0014187266741165962,0.0016413071953751282,0.0018988078244652632,0.0021967070907932353,0.0025413430367026363,0.0029400480643347075,0.003401304938279253,0.003934927263095849,0.00455226827550731,0.005266462393484275,0.00609270466136868,0.007048574036451903,0.008154407395185161,0.009433732216299773,0.010913767146512732,0.012626001098748564,0.014606863203649888,0.016898497868124578,0.019549661430912604,0.022616759492228633,0.02616504698748821,0.030270016537634614,0.03501900461431711,0.0405130496923538,0.046869041923141924,0.05422221006501587,0.06272899858196247,0.07257039612324212,0.08395578619995112,0.09712740198471168,0.1123654800138751,0.12999422244132458,0.15038869469554098,0.1739828052930364,0.2012785375849939,0.23285662984981953,0.26938893095901717,0.311652694492943,0.36054711542505036,0.4171124612056518,0.48255220427412776,0.5582586268862695,0.645842443019698,0.7471670675868078,0.8643882620598268,1.0]}],{\\\"xaxis\\\":{\\\"type\\\":\\\"log\\\",\\\"exponentformat\\\":\\\"power\\\"},\\\"template\\\":{\\\"layout\\\":{\\\"coloraxis\\\":{\\\"colorbar\\\":{\\\"ticks\\\":\\\"\\\",\\\"outlinewidth\\\":0}},\\\"xaxis\\\":{\\\"gridcolor\\\":\\\"white\\\",\\\"zerolinewidth\\\":2,\\\"title\\\":{\\\"standoff\\\":15},\\\"ticks\\\":\\\"\\\",\\\"zerolinecolor\\\":\\\"white\\\",\\\"automargin\\\":true,\\\"linecolor\\\":\\\"white\\\"},\\\"hovermode\\\":\\\"closest\\\",\\\"paper_bgcolor\\\":\\\"white\\\",\\\"geo\\\":{\\\"showlakes\\\":true,\\\"showland\\\":true,\\\"landcolor\\\":\\\"#E5ECF6\\\",\\\"bgcolor\\\":\\\"white\\\",\\\"subunitcolor\\\":\\\"white\\\",\\\"lakecolor\\\":\\\"white\\\"},\\\"colorscale\\\":{\\\"sequential\\\":[[0.0,\\\"#0d0887\\\"],[0.1111111111111111,\\\"#46039f\\\"],[0.2222222222222222,\\\"#7201a8\\\"],[0.3333333333333333,\\\"#9c179e\\\"],[0.4444444444444444,\\\"#bd3786\\\"],[0.5555555555555556,\\\"#d8576b\\\"],[0.6666666666666666,\\\"#ed7953\\\"],[0.7777777777777778,\\\"#fb9f3a\\\"],[0.8888888888888888,\\\"#fdca26\\\"],[1.0,\\\"#f0f921\\\"]],\\\"diverging\\\":[[0,\\\"#8e0152\\\"],[0.1,\\\"#c51b7d\\\"],[0.2,\\\"#de77ae\\\"],[0.3,\\\"#f1b6da\\\"],[0.4,\\\"#fde0ef\\\"],[0.5,\\\"#f7f7f7\\\"],[0.6,\\\"#e6f5d0\\\"],[0.7,\\\"#b8e186\\\"],[0.8,\\\"#7fbc41\\\"],[0.9,\\\"#4d9221\\\"],[1,\\\"#276419\\\"]],\\\"sequentialminus\\\":[[0.0,\\\"#0d0887\\\"],[0.1111111111111111,\\\"#46039f\\\"],[0.2222222222222222,\\\"#7201a8\\\"],[0.3333333333333333,\\\"#9c179e\\\"],[0.4444444444444444,\\\"#bd3786\\\"],[0.5555555555555556,\\\"#d8576b\\\"],[0.6666666666666666,\\\"#ed7953\\\"],[0.7777777777777778,\\\"#fb9f3a\\\"],[0.8888888888888888,\\\"#fdca26\\\"],[1.0,\\\"#f0f921\\\"]]},\\\"yaxis\\\":{\\\"gridcolor\\\":\\\"white\\\",\\\"zerolinewidth\\\":2,\\\"title\\\":{\\\"standoff\\\":15},\\\"ticks\\\":\\\"\\\",\\\"zerolinecolor\\\":\\\"white\\\",\\\"automargin\\\":true,\\\"linecolor\\\":\\\"white\\\"},\\\"shapedefaults\\\":{\\\"line\\\":{\\\"color\\\":\\\"#2a3f5f\\\"}},\\\"hoverlabel\\\":{\\\"align\\\":\\\"left\\\"},\\\"mapbox\\\":{\\\"style\\\":\\\"light\\\"},\\\"polar\\\":{\\\"angularaxis\\\":{\\\"gridcolor\\\":\\\"white\\\",\\\"ticks\\\":\\\"\\\",\\\"linecolor\\\":\\\"white\\\"},\\\"bgcolor\\\":\\\"#E5ECF6\\\",\\\"radialaxis\\\":{\\\"gridcolor\\\":\\\"white\\\",\\\"ticks\\\":\\\"\\\",\\\"linecolor\\\":\\\"white\\\"}},\\\"autotypenumbers\\\":\\\"strict\\\",\\\"font\\\":{\\\"color\\\":\\\"#2a3f5f\\\"},\\\"ternary\\\":{\\\"baxis\\\":{\\\"gridcolor\\\":\\\"white\\\",\\\"ticks\\\":\\\"\\\",\\\"linecolor\\\":\\\"white\\\"},\\\"bgcolor\\\":\\\"#E5ECF6\\\",\\\"caxis\\\":{\\\"gridcolor\\\":\\\"white\\\",\\\"ticks\\\":\\\"\\\",\\\"linecolor\\\":\\\"white\\\"},\\\"aaxis\\\":{\\\"gridcolor\\\":\\\"white\\\",\\\"ticks\\\":\\\"\\\",\\\"linecolor\\\":\\\"white\\\"}},\\\"annotationdefaults\\\":{\\\"arrowhead\\\":0,\\\"arrowwidth\\\":1,\\\"arrowcolor\\\":\\\"#2a3f5f\\\"},\\\"plot_bgcolor\\\":\\\"#E5ECF6\\\",\\\"title\\\":{\\\"x\\\":0.05},\\\"scene\\\":{\\\"xaxis\\\":{\\\"gridcolor\\\":\\\"white\\\",\\\"gridwidth\\\":2,\\\"backgroundcolor\\\":\\\"#E5ECF6\\\",\\\"ticks\\\":\\\"\\\",\\\"showbackground\\\":true,\\\"zerolinecolor\\\":\\\"white\\\",\\\"linecolor\\\":\\\"white\\\"},\\\"zaxis\\\":{\\\"gridcolor\\\":\\\"white\\\",\\\"gridwidth\\\":2,\\\"backgroundcolor\\\":\\\"#E5ECF6\\\",\\\"ticks\\\":\\\"\\\",\\\"showbackground\\\":true,\\\"zerolinecolor\\\":\\\"white\\\",\\\"linecolor\\\":\\\"white\\\"},\\\"yaxis\\\":{\\\"gridcolor\\\":\\\"white\\\",\\\"gridwidth\\\":2,\\\"backgroundcolor\\\":\\\"#E5ECF6\\\",\\\"ticks\\\":\\\"\\\",\\\"showbackground\\\":true,\\\"zerolinecolor\\\":\\\"white\\\",\\\"linecolor\\\":\\\"white\\\"}},\\\"colorway\\\":[\\\"#636efa\\\",\\\"#EF553B\\\",\\\"#00cc96\\\",\\\"#ab63fa\\\",\\\"#FFA15A\\\",\\\"#19d3f3\\\",\\\"#FF6692\\\",\\\"#B6E880\\\",\\\"#FF97FF\\\",\\\"#FECB52\\\"]},\\\"data\\\":{\\\"barpolar\\\":[{\\\"type\\\":\\\"barpolar\\\",\\\"marker\\\":{\\\"line\\\":{\\\"color\\\":\\\"#E5ECF6\\\",\\\"width\\\":0.5}}}],\\\"carpet\\\":[{\\\"aaxis\\\":{\\\"gridcolor\\\":\\\"white\\\",\\\"endlinecolor\\\":\\\"#2a3f5f\\\",\\\"minorgridcolor\\\":\\\"white\\\",\\\"startlinecolor\\\":\\\"#2a3f5f\\\",\\\"linecolor\\\":\\\"white\\\"},\\\"type\\\":\\\"carpet\\\",\\\"baxis\\\":{\\\"gridcolor\\\":\\\"white\\\",\\\"endlinecolor\\\":\\\"#2a3f5f\\\",\\\"minorgridcolor\\\":\\\"white\\\",\\\"startlinecolor\\\":\\\"#2a3f5f\\\",\\\"linecolor\\\":\\\"white\\\"}}],\\\"scatterpolar\\\":[{\\\"type\\\":\\\"scatterpolar\\\",\\\"marker\\\":{\\\"colorbar\\\":{\\\"ticks\\\":\\\"\\\",\\\"outlinewidth\\\":0}}}],\\\"parcoords\\\":[{\\\"line\\\":{\\\"colorbar\\\":{\\\"ticks\\\":\\\"\\\",\\\"outlinewidth\\\":0}},\\\"type\\\":\\\"parcoords\\\"}],\\\"scatter\\\":[{\\\"type\\\":\\\"scatter\\\",\\\"marker\\\":{\\\"colorbar\\\":{\\\"ticks\\\":\\\"\\\",\\\"outlinewidth\\\":0}}}],\\\"histogram2dcontour\\\":[{\\\"colorbar\\\":{\\\"ticks\\\":\\\"\\\",\\\"outlinewidth\\\":0},\\\"type\\\":\\\"histogram2dcontour\\\",\\\"colorscale\\\":[[0.0,\\\"#0d0887\\\"],[0.1111111111111111,\\\"#46039f\\\"],[0.2222222222222222,\\\"#7201a8\\\"],[0.3333333333333333,\\\"#9c179e\\\"],[0.4444444444444444,\\\"#bd3786\\\"],[0.5555555555555556,\\\"#d8576b\\\"],[0.6666666666666666,\\\"#ed7953\\\"],[0.7777777777777778,\\\"#fb9f3a\\\"],[0.8888888888888888,\\\"#fdca26\\\"],[1.0,\\\"#f0f921\\\"]]}],\\\"contour\\\":[{\\\"colorbar\\\":{\\\"ticks\\\":\\\"\\\",\\\"outlinewidth\\\":0},\\\"type\\\":\\\"contour\\\",\\\"colorscale\\\":[[0.0,\\\"#0d0887\\\"],[0.1111111111111111,\\\"#46039f\\\"],[0.2222222222222222,\\\"#7201a8\\\"],[0.3333333333333333,\\\"#9c179e\\\"],[0.4444444444444444,\\\"#bd3786\\\"],[0.5555555555555556,\\\"#d8576b\\\"],[0.6666666666666666,\\\"#ed7953\\\"],[0.7777777777777778,\\\"#fb9f3a\\\"],[0.8888888888888888,\\\"#fdca26\\\"],[1.0,\\\"#f0f921\\\"]]}],\\\"scattercarpet\\\":[{\\\"type\\\":\\\"scattercarpet\\\",\\\"marker\\\":{\\\"colorbar\\\":{\\\"ticks\\\":\\\"\\\",\\\"outlinewidth\\\":0}}}],\\\"mesh3d\\\":[{\\\"colorbar\\\":{\\\"ticks\\\":\\\"\\\",\\\"outlinewidth\\\":0},\\\"type\\\":\\\"mesh3d\\\"}],\\\"surface\\\":[{\\\"colorbar\\\":{\\\"ticks\\\":\\\"\\\",\\\"outlinewidth\\\":0},\\\"type\\\":\\\"surface\\\",\\\"colorscale\\\":[[0.0,\\\"#0d0887\\\"],[0.1111111111111111,\\\"#46039f\\\"],[0.2222222222222222,\\\"#7201a8\\\"],[0.3333333333333333,\\\"#9c179e\\\"],[0.4444444444444444,\\\"#bd3786\\\"],[0.5555555555555556,\\\"#d8576b\\\"],[0.6666666666666666,\\\"#ed7953\\\"],[0.7777777777777778,\\\"#fb9f3a\\\"],[0.8888888888888888,\\\"#fdca26\\\"],[1.0,\\\"#f0f921\\\"]]}],\\\"scattermapbox\\\":[{\\\"type\\\":\\\"scattermapbox\\\",\\\"marker\\\":{\\\"colorbar\\\":{\\\"ticks\\\":\\\"\\\",\\\"outlinewidth\\\":0}}}],\\\"scattergeo\\\":[{\\\"type\\\":\\\"scattergeo\\\",\\\"marker\\\":{\\\"colorbar\\\":{\\\"ticks\\\":\\\"\\\",\\\"outlinewidth\\\":0}}}],\\\"histogram\\\":[{\\\"type\\\":\\\"histogram\\\",\\\"marker\\\":{\\\"colorbar\\\":{\\\"ticks\\\":\\\"\\\",\\\"outlinewidth\\\":0}}}],\\\"pie\\\":[{\\\"type\\\":\\\"pie\\\",\\\"automargin\\\":true}],\\\"choropleth\\\":[{\\\"colorbar\\\":{\\\"ticks\\\":\\\"\\\",\\\"outlinewidth\\\":0},\\\"type\\\":\\\"choropleth\\\"}],\\\"heatmapgl\\\":[{\\\"colorbar\\\":{\\\"ticks\\\":\\\"\\\",\\\"outlinewidth\\\":0},\\\"type\\\":\\\"heatmapgl\\\",\\\"colorscale\\\":[[0.0,\\\"#0d0887\\\"],[0.1111111111111111,\\\"#46039f\\\"],[0.2222222222222222,\\\"#7201a8\\\"],[0.3333333333333333,\\\"#9c179e\\\"],[0.4444444444444444,\\\"#bd3786\\\"],[0.5555555555555556,\\\"#d8576b\\\"],[0.6666666666666666,\\\"#ed7953\\\"],[0.7777777777777778,\\\"#fb9f3a\\\"],[0.8888888888888888,\\\"#fdca26\\\"],[1.0,\\\"#f0f921\\\"]]}],\\\"bar\\\":[{\\\"type\\\":\\\"bar\\\",\\\"error_y\\\":{\\\"color\\\":\\\"#2a3f5f\\\"},\\\"error_x\\\":{\\\"color\\\":\\\"#2a3f5f\\\"},\\\"marker\\\":{\\\"line\\\":{\\\"color\\\":\\\"#E5ECF6\\\",\\\"width\\\":0.5}}}],\\\"heatmap\\\":[{\\\"colorbar\\\":{\\\"ticks\\\":\\\"\\\",\\\"outlinewidth\\\":0},\\\"type\\\":\\\"heatmap\\\",\\\"colorscale\\\":[[0.0,\\\"#0d0887\\\"],[0.1111111111111111,\\\"#46039f\\\"],[0.2222222222222222,\\\"#7201a8\\\"],[0.3333333333333333,\\\"#9c179e\\\"],[0.4444444444444444,\\\"#bd3786\\\"],[0.5555555555555556,\\\"#d8576b\\\"],[0.6666666666666666,\\\"#ed7953\\\"],[0.7777777777777778,\\\"#fb9f3a\\\"],[0.8888888888888888,\\\"#fdca26\\\"],[1.0,\\\"#f0f921\\\"]]}],\\\"contourcarpet\\\":[{\\\"colorbar\\\":{\\\"ticks\\\":\\\"\\\",\\\"outlinewidth\\\":0},\\\"type\\\":\\\"contourcarpet\\\"}],\\\"table\\\":[{\\\"type\\\":\\\"table\\\",\\\"header\\\":{\\\"line\\\":{\\\"color\\\":\\\"white\\\"},\\\"fill\\\":{\\\"color\\\":\\\"#C8D4E3\\\"}},\\\"cells\\\":{\\\"line\\\":{\\\"color\\\":\\\"white\\\"},\\\"fill\\\":{\\\"color\\\":\\\"#EBF0F8\\\"}}}],\\\"scatter3d\\\":[{\\\"line\\\":{\\\"colorbar\\\":{\\\"ticks\\\":\\\"\\\",\\\"outlinewidth\\\":0}},\\\"type\\\":\\\"scatter3d\\\",\\\"marker\\\":{\\\"colorbar\\\":{\\\"ticks\\\":\\\"\\\",\\\"outlinewidth\\\":0}}}],\\\"scattergl\\\":[{\\\"type\\\":\\\"scattergl\\\",\\\"marker\\\":{\\\"colorbar\\\":{\\\"ticks\\\":\\\"\\\",\\\"outlinewidth\\\":0}}}],\\\"histogram2d\\\":[{\\\"colorbar\\\":{\\\"ticks\\\":\\\"\\\",\\\"outlinewidth\\\":0},\\\"type\\\":\\\"histogram2d\\\",\\\"colorscale\\\":[[0.0,\\\"#0d0887\\\"],[0.1111111111111111,\\\"#46039f\\\"],[0.2222222222222222,\\\"#7201a8\\\"],[0.3333333333333333,\\\"#9c179e\\\"],[0.4444444444444444,\\\"#bd3786\\\"],[0.5555555555555556,\\\"#d8576b\\\"],[0.6666666666666666,\\\"#ed7953\\\"],[0.7777777777777778,\\\"#fb9f3a\\\"],[0.8888888888888888,\\\"#fdca26\\\"],[1.0,\\\"#f0f921\\\"]]}],\\\"scatterternary\\\":[{\\\"type\\\":\\\"scatterternary\\\",\\\"marker\\\":{\\\"colorbar\\\":{\\\"ticks\\\":\\\"\\\",\\\"outlinewidth\\\":0}}}],\\\"scatterpolargl\\\":[{\\\"type\\\":\\\"scatterpolargl\\\",\\\"marker\\\":{\\\"colorbar\\\":{\\\"ticks\\\":\\\"\\\",\\\"outlinewidth\\\":0}}}]}},\\\"margin\\\":{\\\"l\\\":50,\\\"b\\\":50,\\\"r\\\":50,\\\"t\\\":60},\\\"yaxis\\\":{\\\"type\\\":\\\"log\\\",\\\"exponentformat\\\":\\\"power\\\"}},{\\\"showLink\\\":false,\\\"editable\\\":false,\\\"responsive\\\":true,\\\"staticPlot\\\":false,\\\"scrollZoom\\\":true}); gd.on(\\\"plotly_hover\\\",(function (data){var filtered_data=WebIO.PlotlyCommands.filterEventData(gd,data,\\\"hover\\\"); return !(filtered_data.isnil) ? (WebIO.setval({\\\"name\\\":\\\"hover\\\",\\\"scope\\\":\\\"13083627089088929611\\\",\\\"id\\\":\\\"13797733078819135689\\\",\\\"type\\\":\\\"observable\\\"},filtered_data.out)) : undefined})); gd.on(\\\"plotly_unhover\\\",(function (){return WebIO.setval({\\\"name\\\":\\\"hover\\\",\\\"scope\\\":\\\"13083627089088929611\\\",\\\"id\\\":\\\"13797733078819135689\\\",\\\"type\\\":\\\"observable\\\"},{})})); gd.on(\\\"plotly_selected\\\",(function (data){var filtered_data=WebIO.PlotlyCommands.filterEventData(gd,data,\\\"selected\\\"); return !(filtered_data.isnil) ? (WebIO.setval({\\\"name\\\":\\\"selected\\\",\\\"scope\\\":\\\"13083627089088929611\\\",\\\"id\\\":\\\"10310884942604947018\\\",\\\"type\\\":\\\"observable\\\"},filtered_data.out)) : undefined})); gd.on(\\\"plotly_deselect\\\",(function (){return WebIO.setval({\\\"name\\\":\\\"selected\\\",\\\"scope\\\":\\\"13083627089088929611\\\",\\\"id\\\":\\\"10310884942604947018\\\",\\\"type\\\":\\\"observable\\\"},{})})); gd.on(\\\"plotly_relayout\\\",(function (data){var filtered_data=WebIO.PlotlyCommands.filterEventData(gd,data,\\\"relayout\\\"); return !(filtered_data.isnil) ? (WebIO.setval({\\\"name\\\":\\\"relayout\\\",\\\"scope\\\":\\\"13083627089088929611\\\",\\\"id\\\":\\\"2890212059128873592\\\",\\\"type\\\":\\\"observable\\\"},filtered_data.out)) : undefined})); return gd.on(\\\"plotly_click\\\",(function (data){var filtered_data=WebIO.PlotlyCommands.filterEventData(gd,data,\\\"click\\\"); return !(filtered_data.isnil) ? (WebIO.setval({\\\"name\\\":\\\"click\\\",\\\"scope\\\":\\\"13083627089088929611\\\",\\\"id\\\":\\\"15870503040071222121\\\",\\\"type\\\":\\\"observable\\\"},filtered_data.out)) : undefined}))}));\\n    (WebIO.importBlock({\\\"data\\\":[{\\\"name\\\":\\\"Plotly\\\",\\\"type\\\":\\\"js\\\",\\\"url\\\":\\\"\\/assetserver\\/5b0bcbbb362c204ec77e728ffa8c7da4be28ce8a-plotly.min.js\\\"},{\\\"name\\\":null,\\\"type\\\":\\\"js\\\",\\\"url\\\":\\\"\\/assetserver\\/6303ac4e25f5217851dbb12ecf3059151c237374-plotly_webio.bundle.js\\\"}],\\\"type\\\":\\\"async_block\\\"})).then((imports) => handler.apply(this, imports));\\n}\\n\"],\"observables\":{\"_toImage\":{\"sync\":false,\"id\":\"10672723460581480644\",\"value\":{}},\"hover\":{\"sync\":false,\"id\":\"13797733078819135689\",\"value\":{}},\"selected\":{\"sync\":false,\"id\":\"10310884942604947018\",\"value\":{}},\"__gd_contents\":{\"sync\":false,\"id\":\"17713326591844163292\",\"value\":{}},\"click\":{\"sync\":false,\"id\":\"15870503040071222121\",\"value\":{}},\"image\":{\"sync\":true,\"id\":\"10743980618777489824\",\"value\":\"\"},\"__get_gd_contents\":{\"sync\":false,\"id\":\"1177283430289942594\",\"value\":\"\"},\"_downloadImage\":{\"sync\":false,\"id\":\"4821036965397076987\",\"value\":{}},\"relayout\":{\"sync\":false,\"id\":\"2890212059128873592\",\"value\":{}},\"_commands\":{\"sync\":false,\"id\":\"4093035079911101792\",\"value\":[]}}},\"children\":[{\"props\":{\"id\":\"plot-75527a0a-b87c-4db5-9371-e3869c22d412\"},\"nodeType\":\"DOM\",\"type\":\"node\",\"instanceArgs\":{\"namespace\":\"html\",\"tag\":\"div\"},\"children\":[]}]},\n",
       "        window,\n",
       "    );\n",
       "    })()\n",
       "    </script>\n",
       "</div>\n"
      ],
      "text/plain": [
       "data: [\n",
       "  \"scatter with fields mode, name, type, x, and y\",\n",
       "  \"scatter with fields mode, name, type, x, and y\"\n",
       "]\n",
       "\n",
       "layout: \"layout with fields margin, template, xaxis, and yaxis\"\n",
       "\n"
      ]
     },
     "execution_count": 5,
     "metadata": {},
     "output_type": "execute_result"
    }
   ],
   "source": [
    "using PlotlyJS\n",
    "\n",
    "t1 = scatter(;x=h,y=euler_error,mode=\"lines\",name=\"Euler\")\n",
    "t2 = scatter(;x=h,y=rk4_error,mode=\"lines\",name=\"RK4\")\n",
    "layout = Layout(xaxis_type=\"log\", xaxis_exponentformat = \"power\", yaxis_type=\"log\",  yaxis_exponentformat = \"power\")\n",
    "data = [t1, t2]\n",
    "\n",
    "PlotlyJS.plot(data, layout)\n",
    "# p = plot(h, [euler_error, rk4_error],  linetype=:path, xaxis=:log, yaxis=:log, label = [\"euler\"], lw = 3, legend=:bottomleft)\n",
    "# plot!(h, rk4_error, linetype=:path, xaxis=:log, yaxis=:log, label = [\"rk4\"], lw = 3)"
   ]
  },
  {
   "cell_type": "markdown",
   "metadata": {},
   "source": [
    "ODE Systems Tests"
   ]
  },
  {
   "cell_type": "code",
   "execution_count": 162,
   "metadata": {},
   "outputs": [
    {
     "data": {
      "text/plain": [
       "f2_solution (generic function with 1 method)"
      ]
     },
     "execution_count": 162,
     "metadata": {},
     "output_type": "execute_result"
    }
   ],
   "source": [
    "include(\"ode_solver.jl\")\n",
    "\n",
    "function f2(u, t)\n",
    "\n",
    "    if(!isapprox(length(u), 2.0; atol=eps(Float64), rtol=0))\n",
    "        throw(error(\"Please make sure you have entered two initial conditions for the function.\"))\n",
    "    end\n",
    "\n",
    "    x = u[1]    \n",
    "    y = u[2]\n",
    "    \n",
    "    x_dot = y\n",
    "    y_dot = -x\n",
    "    \n",
    "    return [x_dot y_dot]\n",
    "end\n",
    "\n",
    "function f2_solution(u, t)\n",
    "\n",
    "    c1 = u[1]    \n",
    "    c2 = u[2]\n",
    "\n",
    "    x = c1*sin.(t) + c2*cos.(t)\n",
    "    y = c1*cos.(t) - c2*sin.(t)\n",
    "\n",
    "    return [x y]\n",
    "\n",
    "end"
   ]
  },
  {
   "cell_type": "code",
   "execution_count": 204,
   "metadata": {},
   "outputs": [],
   "source": [
    "u = [1 0]\n",
    "t = 0:2:100\n",
    "real_t = 0:0.1:100\n",
    "s = solve_ode(f2, u, t, rk4_step, 0.001);\n",
    "real_s = f2_solution(u,real_t);\n",
    "\n",
    "x = s[:,1];\n",
    "x_dot = s[:,2];\n",
    "x_sol = real_s[:,1];\n",
    "x_dot_sol = real_s[:,2];"
   ]
  },
  {
   "cell_type": "markdown",
   "metadata": {},
   "source": [
    "Plot of solution and estimate for x versus t"
   ]
  },
  {
   "cell_type": "code",
   "execution_count": 205,
   "metadata": {},
   "outputs": [
    {
     "data": {
      "application/vnd.plotly.v1+json": {
       "config": {
        "editable": false,
        "responsive": true,
        "scrollZoom": true,
        "showLink": false,
        "staticPlot": false
       },
       "data": [
        {
         "mode": "lines",
         "name": "estimate",
         "type": "scatter",
         "x": [
          0,
          2,
          4,
          6,
          8,
          10,
          12,
          14,
          16,
          18,
          20,
          22,
          24,
          26,
          28,
          30,
          32,
          34,
          36,
          38,
          40,
          42,
          44,
          46,
          48,
          50,
          52,
          54,
          56,
          58,
          60,
          62,
          64,
          66,
          68,
          70,
          72,
          74,
          76,
          78,
          80,
          82,
          84,
          86,
          88,
          90,
          92,
          94,
          96,
          98,
          100
         ],
         "y": [
          1,
          -0.4161468365472273,
          -0.653643620863388,
          0.9601702866502594,
          -0.14550003380755466,
          -0.8390715290764418,
          0.8438539587330892,
          0.13673721820565085,
          -0.9576594803224384,
          0.6603167082447104,
          0.40808206181487516,
          -0.9999608263946755,
          0.42417900733107056,
          0.6469193223355086,
          -0.9626058663104664,
          0.1542514498738266,
          0.8342233605155494,
          -0.8485702747783992,
          -0.12796368963444235,
          0.9550736440480274,
          -0.6669380616539017,
          -0.3999853149820836,
          0.9998433086474944,
          -0.4321779448993259,
          -0.6401443394532446,
          0.9649660284987878,
          -0.16299078082536725,
          -0.8293098328437633,
          0.8532201077431133,
          0.11918013540513604,
          -0.9524129804003371,
          0.6735071623629802,
          0.3918572303762558,
          -0.999647455965077,
          0.4401430225308837,
          0.6333192030636837,
          -0.9672505882788863,
          0.17171734184072968,
          0.824331331107261,
          -0.8578030932403501,
          -0.11038724385753343,
          0.9496776978913717,
          -0.6800234955596779,
          -0.38369844499342187,
          0.999373283697144,
          -0.44807361606978485,
          -0.6264444479695809,
          0.9694593666490131,
          -0.18043044919751822,
          -0.8192882453514959,
          0.8623188722298338
         ]
        },
        {
         "mode": "lines",
         "name": "solution",
         "type": "scatter",
         "x": [
          0,
          0.1,
          0.2,
          0.3,
          0.4,
          0.5,
          0.6,
          0.7,
          0.8,
          0.9,
          1,
          1.1,
          1.2,
          1.3,
          1.4,
          1.5,
          1.6,
          1.7,
          1.8,
          1.9,
          2,
          2.1,
          2.2,
          2.3,
          2.4,
          2.5,
          2.6,
          2.7,
          2.8,
          2.9,
          3,
          3.1,
          3.2,
          3.3,
          3.4,
          3.5,
          3.6,
          3.7,
          3.8,
          3.9,
          4,
          4.1,
          4.2,
          4.3,
          4.4,
          4.5,
          4.6,
          4.7,
          4.8,
          4.9,
          5,
          5.1,
          5.2,
          5.3,
          5.4,
          5.5,
          5.6,
          5.7,
          5.8,
          5.9,
          6,
          6.1,
          6.2,
          6.3,
          6.4,
          6.5,
          6.6,
          6.7,
          6.8,
          6.9,
          7,
          7.1,
          7.2,
          7.3,
          7.4,
          7.5,
          7.6,
          7.7,
          7.8,
          7.9,
          8,
          8.1,
          8.2,
          8.3,
          8.4,
          8.5,
          8.6,
          8.7,
          8.8,
          8.9,
          9,
          9.1,
          9.2,
          9.3,
          9.4,
          9.5,
          9.6,
          9.7,
          9.8,
          9.9,
          10,
          10.1,
          10.2,
          10.3,
          10.4,
          10.5,
          10.6,
          10.7,
          10.8,
          10.9,
          11,
          11.1,
          11.2,
          11.3,
          11.4,
          11.5,
          11.6,
          11.7,
          11.8,
          11.9,
          12,
          12.1,
          12.2,
          12.3,
          12.4,
          12.5,
          12.6,
          12.7,
          12.8,
          12.9,
          13,
          13.1,
          13.2,
          13.3,
          13.4,
          13.5,
          13.6,
          13.7,
          13.8,
          13.9,
          14,
          14.1,
          14.2,
          14.3,
          14.4,
          14.5,
          14.6,
          14.7,
          14.8,
          14.9,
          15,
          15.1,
          15.2,
          15.3,
          15.4,
          15.5,
          15.6,
          15.7,
          15.8,
          15.9,
          16,
          16.1,
          16.2,
          16.3,
          16.4,
          16.5,
          16.6,
          16.7,
          16.8,
          16.9,
          17,
          17.1,
          17.2,
          17.3,
          17.4,
          17.5,
          17.6,
          17.7,
          17.8,
          17.9,
          18,
          18.1,
          18.2,
          18.3,
          18.4,
          18.5,
          18.6,
          18.7,
          18.8,
          18.9,
          19,
          19.1,
          19.2,
          19.3,
          19.4,
          19.5,
          19.6,
          19.7,
          19.8,
          19.9,
          20,
          20.1,
          20.2,
          20.3,
          20.4,
          20.5,
          20.6,
          20.7,
          20.8,
          20.9,
          21,
          21.1,
          21.2,
          21.3,
          21.4,
          21.5,
          21.6,
          21.7,
          21.8,
          21.9,
          22,
          22.1,
          22.2,
          22.3,
          22.4,
          22.5,
          22.6,
          22.7,
          22.8,
          22.9,
          23,
          23.1,
          23.2,
          23.3,
          23.4,
          23.5,
          23.6,
          23.7,
          23.8,
          23.9,
          24,
          24.1,
          24.2,
          24.3,
          24.4,
          24.5,
          24.6,
          24.7,
          24.8,
          24.9,
          25,
          25.1,
          25.2,
          25.3,
          25.4,
          25.5,
          25.6,
          25.7,
          25.8,
          25.9,
          26,
          26.1,
          26.2,
          26.3,
          26.4,
          26.5,
          26.6,
          26.7,
          26.8,
          26.9,
          27,
          27.1,
          27.2,
          27.3,
          27.4,
          27.5,
          27.6,
          27.7,
          27.8,
          27.9,
          28,
          28.1,
          28.2,
          28.3,
          28.4,
          28.5,
          28.6,
          28.7,
          28.8,
          28.9,
          29,
          29.1,
          29.2,
          29.3,
          29.4,
          29.5,
          29.6,
          29.7,
          29.8,
          29.9,
          30,
          30.1,
          30.2,
          30.3,
          30.4,
          30.5,
          30.6,
          30.7,
          30.8,
          30.9,
          31,
          31.1,
          31.2,
          31.3,
          31.4,
          31.5,
          31.6,
          31.7,
          31.8,
          31.9,
          32,
          32.1,
          32.2,
          32.3,
          32.4,
          32.5,
          32.6,
          32.7,
          32.8,
          32.9,
          33,
          33.1,
          33.2,
          33.3,
          33.4,
          33.5,
          33.6,
          33.7,
          33.8,
          33.9,
          34,
          34.1,
          34.2,
          34.3,
          34.4,
          34.5,
          34.6,
          34.7,
          34.8,
          34.9,
          35,
          35.1,
          35.2,
          35.3,
          35.4,
          35.5,
          35.6,
          35.7,
          35.8,
          35.9,
          36,
          36.1,
          36.2,
          36.3,
          36.4,
          36.5,
          36.6,
          36.7,
          36.8,
          36.9,
          37,
          37.1,
          37.2,
          37.3,
          37.4,
          37.5,
          37.6,
          37.7,
          37.8,
          37.9,
          38,
          38.1,
          38.2,
          38.3,
          38.4,
          38.5,
          38.6,
          38.7,
          38.8,
          38.9,
          39,
          39.1,
          39.2,
          39.3,
          39.4,
          39.5,
          39.6,
          39.7,
          39.8,
          39.9,
          40,
          40.1,
          40.2,
          40.3,
          40.4,
          40.5,
          40.6,
          40.7,
          40.8,
          40.9,
          41,
          41.1,
          41.2,
          41.3,
          41.4,
          41.5,
          41.6,
          41.7,
          41.8,
          41.9,
          42,
          42.1,
          42.2,
          42.3,
          42.4,
          42.5,
          42.6,
          42.7,
          42.8,
          42.9,
          43,
          43.1,
          43.2,
          43.3,
          43.4,
          43.5,
          43.6,
          43.7,
          43.8,
          43.9,
          44,
          44.1,
          44.2,
          44.3,
          44.4,
          44.5,
          44.6,
          44.7,
          44.8,
          44.9,
          45,
          45.1,
          45.2,
          45.3,
          45.4,
          45.5,
          45.6,
          45.7,
          45.8,
          45.9,
          46,
          46.1,
          46.2,
          46.3,
          46.4,
          46.5,
          46.6,
          46.7,
          46.8,
          46.9,
          47,
          47.1,
          47.2,
          47.3,
          47.4,
          47.5,
          47.6,
          47.7,
          47.8,
          47.9,
          48,
          48.1,
          48.2,
          48.3,
          48.4,
          48.5,
          48.6,
          48.7,
          48.8,
          48.9,
          49,
          49.1,
          49.2,
          49.3,
          49.4,
          49.5,
          49.6,
          49.7,
          49.8,
          49.9,
          50,
          50.1,
          50.2,
          50.3,
          50.4,
          50.5,
          50.6,
          50.7,
          50.8,
          50.9,
          51,
          51.1,
          51.2,
          51.3,
          51.4,
          51.5,
          51.6,
          51.7,
          51.8,
          51.9,
          52,
          52.1,
          52.2,
          52.3,
          52.4,
          52.5,
          52.6,
          52.7,
          52.8,
          52.9,
          53,
          53.1,
          53.2,
          53.3,
          53.4,
          53.5,
          53.6,
          53.7,
          53.8,
          53.9,
          54,
          54.1,
          54.2,
          54.3,
          54.4,
          54.5,
          54.6,
          54.7,
          54.8,
          54.9,
          55,
          55.1,
          55.2,
          55.3,
          55.4,
          55.5,
          55.6,
          55.7,
          55.8,
          55.9,
          56,
          56.1,
          56.2,
          56.3,
          56.4,
          56.5,
          56.6,
          56.7,
          56.8,
          56.9,
          57,
          57.1,
          57.2,
          57.3,
          57.4,
          57.5,
          57.6,
          57.7,
          57.8,
          57.9,
          58,
          58.1,
          58.2,
          58.3,
          58.4,
          58.5,
          58.6,
          58.7,
          58.8,
          58.9,
          59,
          59.1,
          59.2,
          59.3,
          59.4,
          59.5,
          59.6,
          59.7,
          59.8,
          59.9,
          60,
          60.1,
          60.2,
          60.3,
          60.4,
          60.5,
          60.6,
          60.7,
          60.8,
          60.9,
          61,
          61.1,
          61.2,
          61.3,
          61.4,
          61.5,
          61.6,
          61.7,
          61.8,
          61.9,
          62,
          62.1,
          62.2,
          62.3,
          62.4,
          62.5,
          62.6,
          62.7,
          62.8,
          62.9,
          63,
          63.1,
          63.2,
          63.3,
          63.4,
          63.5,
          63.6,
          63.7,
          63.8,
          63.9,
          64,
          64.1,
          64.2,
          64.3,
          64.4,
          64.5,
          64.6,
          64.7,
          64.8,
          64.9,
          65,
          65.1,
          65.2,
          65.3,
          65.4,
          65.5,
          65.6,
          65.7,
          65.8,
          65.9,
          66,
          66.1,
          66.2,
          66.3,
          66.4,
          66.5,
          66.6,
          66.7,
          66.8,
          66.9,
          67,
          67.1,
          67.2,
          67.3,
          67.4,
          67.5,
          67.6,
          67.7,
          67.8,
          67.9,
          68,
          68.1,
          68.2,
          68.3,
          68.4,
          68.5,
          68.6,
          68.7,
          68.8,
          68.9,
          69,
          69.1,
          69.2,
          69.3,
          69.4,
          69.5,
          69.6,
          69.7,
          69.8,
          69.9,
          70,
          70.1,
          70.2,
          70.3,
          70.4,
          70.5,
          70.6,
          70.7,
          70.8,
          70.9,
          71,
          71.1,
          71.2,
          71.3,
          71.4,
          71.5,
          71.6,
          71.7,
          71.8,
          71.9,
          72,
          72.1,
          72.2,
          72.3,
          72.4,
          72.5,
          72.6,
          72.7,
          72.8,
          72.9,
          73,
          73.1,
          73.2,
          73.3,
          73.4,
          73.5,
          73.6,
          73.7,
          73.8,
          73.9,
          74,
          74.1,
          74.2,
          74.3,
          74.4,
          74.5,
          74.6,
          74.7,
          74.8,
          74.9,
          75,
          75.1,
          75.2,
          75.3,
          75.4,
          75.5,
          75.6,
          75.7,
          75.8,
          75.9,
          76,
          76.1,
          76.2,
          76.3,
          76.4,
          76.5,
          76.6,
          76.7,
          76.8,
          76.9,
          77,
          77.1,
          77.2,
          77.3,
          77.4,
          77.5,
          77.6,
          77.7,
          77.8,
          77.9,
          78,
          78.1,
          78.2,
          78.3,
          78.4,
          78.5,
          78.6,
          78.7,
          78.8,
          78.9,
          79,
          79.1,
          79.2,
          79.3,
          79.4,
          79.5,
          79.6,
          79.7,
          79.8,
          79.9,
          80,
          80.1,
          80.2,
          80.3,
          80.4,
          80.5,
          80.6,
          80.7,
          80.8,
          80.9,
          81,
          81.1,
          81.2,
          81.3,
          81.4,
          81.5,
          81.6,
          81.7,
          81.8,
          81.9,
          82,
          82.1,
          82.2,
          82.3,
          82.4,
          82.5,
          82.6,
          82.7,
          82.8,
          82.9,
          83,
          83.1,
          83.2,
          83.3,
          83.4,
          83.5,
          83.6,
          83.7,
          83.8,
          83.9,
          84,
          84.1,
          84.2,
          84.3,
          84.4,
          84.5,
          84.6,
          84.7,
          84.8,
          84.9,
          85,
          85.1,
          85.2,
          85.3,
          85.4,
          85.5,
          85.6,
          85.7,
          85.8,
          85.9,
          86,
          86.1,
          86.2,
          86.3,
          86.4,
          86.5,
          86.6,
          86.7,
          86.8,
          86.9,
          87,
          87.1,
          87.2,
          87.3,
          87.4,
          87.5,
          87.6,
          87.7,
          87.8,
          87.9,
          88,
          88.1,
          88.2,
          88.3,
          88.4,
          88.5,
          88.6,
          88.7,
          88.8,
          88.9,
          89,
          89.1,
          89.2,
          89.3,
          89.4,
          89.5,
          89.6,
          89.7,
          89.8,
          89.9,
          90,
          90.1,
          90.2,
          90.3,
          90.4,
          90.5,
          90.6,
          90.7,
          90.8,
          90.9,
          91,
          91.1,
          91.2,
          91.3,
          91.4,
          91.5,
          91.6,
          91.7,
          91.8,
          91.9,
          92,
          92.1,
          92.2,
          92.3,
          92.4,
          92.5,
          92.6,
          92.7,
          92.8,
          92.9,
          93,
          93.1,
          93.2,
          93.3,
          93.4,
          93.5,
          93.6,
          93.7,
          93.8,
          93.9,
          94,
          94.1,
          94.2,
          94.3,
          94.4,
          94.5,
          94.6,
          94.7,
          94.8,
          94.9,
          95,
          95.1,
          95.2,
          95.3,
          95.4,
          95.5,
          95.6,
          95.7,
          95.8,
          95.9,
          96,
          96.1,
          96.2,
          96.3,
          96.4,
          96.5,
          96.6,
          96.7,
          96.8,
          96.9,
          97,
          97.1,
          97.2,
          97.3,
          97.4,
          97.5,
          97.6,
          97.7,
          97.8,
          97.9,
          98,
          98.1,
          98.2,
          98.3,
          98.4,
          98.5,
          98.6,
          98.7,
          98.8,
          98.9,
          99,
          99.1,
          99.2,
          99.3,
          99.4,
          99.5,
          99.6,
          99.7,
          99.8,
          99.9,
          100
         ],
         "y": [
          0,
          0.09983341664682815,
          0.19866933079506122,
          0.29552020666133955,
          0.3894183423086505,
          0.479425538604203,
          0.5646424733950354,
          0.644217687237691,
          0.7173560908995228,
          0.7833269096274834,
          0.8414709848078965,
          0.8912073600614354,
          0.9320390859672263,
          0.963558185417193,
          0.9854497299884601,
          0.9974949866040544,
          0.9995736030415051,
          0.9916648104524686,
          0.9738476308781951,
          0.9463000876874145,
          0.9092974268256817,
          0.8632093666488737,
          0.8084964038195901,
          0.7457052121767203,
          0.675463180551151,
          0.5984721441039564,
          0.5155013718214642,
          0.4273798802338298,
          0.3349881501559051,
          0.23924932921398243,
          0.1411200080598672,
          0.04158066243329049,
          -0.058374143427580086,
          -0.1577456941432482,
          -0.2555411020268312,
          -0.35078322768961984,
          -0.44252044329485246,
          -0.5298361409084934,
          -0.6118578909427189,
          -0.6877661591839738,
          -0.7568024953079282,
          -0.8182771110644103,
          -0.8715757724135882,
          -0.9161659367494549,
          -0.9516020738895161,
          -0.977530117665097,
          -0.9936910036334644,
          -0.9999232575641008,
          -0.9961646088358407,
          -0.9824526126243325,
          -0.9589242746631385,
          -0.9258146823277325,
          -0.8834546557201531,
          -0.8322674422239013,
          -0.7727644875559871,
          -0.7055403255703919,
          -0.6312666378723216,
          -0.5506855425976376,
          -0.46460217941375737,
          -0.373876664830236,
          -0.27941549819892586,
          -0.18216250427209588,
          -0.0830894028174964,
          0.016813900484349713,
          0.11654920485049364,
          0.21511998808781552,
          0.31154136351337786,
          0.4048499206165983,
          0.49411335113860816,
          0.5784397643882002,
          0.6569865987187891,
          0.7289690401258759,
          0.7936678638491531,
          0.8504366206285644,
          0.8987080958116269,
          0.9379999767747389,
          0.9679196720314863,
          0.9881682338770004,
          0.998543345374605,
          0.998941341839772,
          0.9893582466233818,
          0.9698898108450863,
          0.9407305566797731,
          0.9021718337562933,
          0.8545989080882805,
          0.7984871126234903,
          0.7343970978741133,
          0.6629692300821833,
          0.5849171928917617,
          0.5010208564578846,
          0.4121184852417566,
          0.3190983623493521,
          0.22288991410024764,
          0.1244544235070617,
          0.024775425453357765,
          -0.0751511204618093,
          -0.17432678122297965,
          -0.27176062641094245,
          -0.3664791292519284,
          -0.4575358937753214,
          -0.5440211108893698,
          -0.6250706488928821,
          -0.6998746875935423,
          -0.7676858097635825,
          -0.8278264690856537,
          -0.87969575997167,
          -0.9227754216128067,
          -0.9566350162701879,
          -0.9809362300664916,
          -0.9954362533063774,
          -0.9999902065507035,
          -0.9945525882039892,
          -0.9791777291513174,
          -0.954019249902089,
          -0.9193285256646757,
          -0.8754521746884285,
          -0.8228285949687089,
          -0.7619835839190333,
          -0.6935250847771224,
          -0.6181371122370333,
          -0.5365729180004349,
          -0.44964746453460147,
          -0.3582292822368287,
          -0.26323179136580094,
          -0.1656041754483094,
          -0.06632189735120068,
          0.033623047221136695,
          0.13323204141994222,
          0.23150982510153895,
          0.32747443913769303,
          0.4201670368266409,
          0.5086614643723737,
          0.592073514707223,
          0.6695697621966024,
          0.7403758899524486,
          0.803784426551621,
          0.8591618148564958,
          0.9059547423084618,
          0.9436956694441048,
          0.9720075013949759,
          0.9906073556948704,
          0.9993093887479176,
          0.9980266527163617,
          0.9867719642746133,
          0.9656577765492774,
          0.934895055524683,
          0.8947911721405042,
          0.8457468311429343,
          0.7882520673753163,
          0.722881349511976,
          0.6502878401571168,
          0.5711968696599886,
          0.4863986888537997,
          0.39674057313061206,
          0.30311835674570226,
          0.2064674819377966,
          0.10775365229944406,
          0.007963183785937343,
          -0.09190685022768164,
          -0.19085858137418937,
          -0.2879033166650653,
          -0.3820714171840091,
          -0.47242198639846616,
          -0.5580522712867794,
          -0.6381066823479474,
          -0.711785342369123,
          -0.7783520785342984,
          -0.8371417780197468,
          -0.8875670335815046,
          -0.9291240127343684,
          -0.9613974918795568,
          -0.9840650050816434,
          -0.9969000660415961,
          -0.9997744310730111,
          -0.9926593804706332,
          -0.9756260054681576,
          -0.948844497918124,
          -0.9125824497911845,
          -0.8672021794855813,
          -0.8131571116614885,
          -0.7509872467716762,
          -0.6813137655554999,
          -0.6048328224062841,
          -0.5223085896267315,
          -0.43456562207189675,
          -0.34248061846961253,
          -0.2469736617366209,
          -0.1489990258141988,
          -0.04953564087836742,
          0.05042268780681122,
          0.14987720966295234,
          0.24783420798295983,
          0.3433149288198954,
          0.4353653603728932,
          0.5230657651576964,
          0.605539869719601,
          0.6819636200681356,
          0.7515734153521483,
          0.8136737375071054,
          0.8676441006416673,
          0.9129452507276277,
          0.9491245536478946,
          0.9758205177669755,
          0.9927664058359071,
          0.9997929001426692,
          0.9968297942787993,
          0.9839066946186161,
          0.9611527245021165,
          0.9287952340772404,
          0.8871575286923511,
          0.8366556385360561,
          0.7777941618010928,
          0.7111612229059825,
          0.6374225961502389,
          0.5573150535176614,
          0.47163900309419615,
          0.3812504916549401,
          0.28705265132772845,
          0.18998667579543774,
          0.09102241619984787,
          -0.008851309290403876,
          -0.10863659542407976,
          -0.20733642060675878,
          -0.30396460881104703,
          -0.3975556831214329,
          -0.4871745124605095,
          -0.5719256551095638,
          -0.6509623056662469,
          -0.723494756044245,
          -0.7887982859754165,
          -0.8462204041751706,
          -0.8951873678196818,
          -0.9352099151945389,
          -0.9658881542360704,
          -0.9869155581206488,
          -0.9980820279793963,
          -0.9992759921366277,
          -0.9904855208971565,
          -0.9717984457438633,
          -0.9434014817545555,
          -0.9055783620066239,
          -0.8587070026099295,
          -0.8032557266939547,
          -0.7397785850778934,
          -0.6689098203780243,
          -0.5913575298651244,
          -0.5078965903906221,
          -0.41936091607323134,
          -0.32663512610472223,
          -0.23064570592739567,
          -0.13235175009777303,
          -0.03273537933084532,
          0.06720807252547492,
          0.16648000353715925,
          0.2640885213844694,
          0.3590583540221683,
          0.4504405942753893,
          0.5373221810064719,
          0.6188350221200393,
          0.694164668252242,
          0.7625584504796027,
          0.8233330007380816,
          0.8758810798108894,
          0.9196776446620198,
          0.9542850944926969,
          0.979357643103917,
          0.9946447738778381,
          0.9999937428570207,
          0.9953511049115591,
          0.9807632477451529,
          0.956375928404503,
          0.9224328169230858,
          0.8792730616507243,
          0.8273279005953786,
          0.7671163526355301,
          0.6992400316550977,
          0.6243771354163914,
          0.5432756692322478,
          0.4567459721441928,
          0.36565262028262135,
          0.27090578830786904,
          0.1734521552458921,
          0.07426544558436131,
          -0.02566329986055949,
          -0.12533562609642912,
          -0.22375564018679642,
          -0.3199399618841981,
          -0.4129275492405401,
          -0.5017893010205742,
          -0.5856373399742976,
          -0.6636338842129675,
          -0.7349996180487777,
          -0.7990214786596137,
          -0.8550597807770702,
          -0.9025546082101854,
          -0.9410314083429535,
          -0.9701057337071853,
          -0.9894870832545352,
          -0.9989818049469494,
          -0.9984950306638146,
          -0.9880316240928618,
          -0.9676961321338052,
          -0.9376917403002811,
          -0.8983182425573547,
          -0.8499690458793281,
          -0.7931272394572851,
          -0.7283607678315934,
          -0.6563167561777904,
          -0.5777150444457317,
          -0.4933409949567783,
          -0.404037645323065,
          -0.3106972850943722,
          -0.2142525402958877,
          -0.11566705493723693,
          -0.0159258626001018,
          0.08397445569174683,
          0.183035728980588,
          0.2802681697690195,
          0.374700263649462,
          0.46538847635495545,
          0.5514266812416906,
          0.631955213006885,
          0.7061694571803344,
          0.7733278895662207,
          0.8327594853077798,
          0.8838704235458307,
          0.9261500206805285,
          0.9591758329530804,
          0.9826178773641395,
          0.9962419287548636,
          0.9999118601072672,
          0.9935910026803949,
          0.9773425123922587,
          0.9513287387867827,
          0.915809602890819,
          0.8711400001691764,
          0.8177662545264418,
          0.756221658786063,
          0.6871211462047443,
          0.611155146262596,
          0.5290826861200238,
          0.4417238066692238,
          0.3499513689566622,
          0.2546823328440351,
          0.15686859504841,
          0.057487478104924564,
          -0.04246803471695152,
          -0.1419992209740017,
          -0.24011159795377449,
          -0.3358248592171419,
          -0.428182669496151,
          -0.516262220079927,
          -0.5991834492142653,
          -0.6761178353877643,
          -0.7462966756449163,
          -0.8090187662119065,
          -0.863657408692956,
          -0.9096666718335282,
          -0.9465868462849605,
          -0.9740490378683264,
          -0.9917788534431158,
          -0.9995991425528029,
          -0.9974317674536479,
          -0.9852983838412038,
          -0.9633202244737609,
          -0.9317168878547055,
          -0.8908041440768614,
          -0.8409907797521016,
          -0.7827745135506544,
          -0.7167370231606575,
          -0.6435381333569995,
          -0.5639092232502625,
          -0.478645918588415,
          -0.38860014212734334,
          -0.29467160150025756,
          -0.19779879963646227,
          -0.09894965755028955,
          0.0008881568057175921,
          0.10071709699250053,
          0.1995397052387874,
          0.2963685787093853,
          0.39023623530794616,
          0.480204780438259,
          0.5653752781370229,
          0.6448967329448674,
          0.7179745927716441,
          0.783878687798293,
          0.8419505260923049,
          0.8916098730414407,
          0.932360548866189,
          0.9637953862840878,
          0.985600298790633,
          0.9975574189078051,
          0.999547275043892,
          0.9915499852141411,
          0.9736454556949781,
          0.9460125826269081,
          0.9089274645434138,
          0.8627606436856788,
          0.8079734036669851,
          0.7451131604793488,
          0.6748079928938668,
          0.5977603669052548,
          0.5147401169238381,
          0.42657675384457316,
          0.33415117684842055,
          0.23838687174889206,
          0.1402406838270716,
          0.040693257349864856,
          -0.05926076270338633,
          -0.158622668804709,
          -0.256399669633018,
          -0.3516148097168163,
          -0.4433167308503208,
          -0.5305891777502036,
          -0.6125601529754698,
          -0.6884106296376704,
          -0.7573827348468307,
          -0.8187873221268436,
          -0.8720108571392737,
          -0.9165215479156338,
          -0.9518746583469646,
          -0.9777169518400209,
          -0.9937902207405457,
          -0.9999338662588036,
          -0.996086503119594,
          -0.9822865729036345,
          -0.9586719599519926,
          -0.9254786136713307,
          -0.8830381910054188,
          -0.8317747426285983,
          -0.7722004759716072,
          -0.7049106374142481,
          -0.630577564780328,
          -0.5499439695603477,
          -0.46381551598382736,
          -0.3730527710886221,
          -0.27856260621955026,
          -0.1812891358696948,
          -0.0822042844004434,
          0.017701925105413577,
          0.11743126282709573,
          0.2159872661882241,
          0.31238519618149074,
          0.40566187655533587,
          0.4948853175526281,
          0.5791640280442709,
          0.6576559230138694,
          0.7295767373928534,
          0.7942078621778189,
          0.8509035245341184,
          0.899097240144582,
          0.9383074733335544,
          0.9681424484121893,
          0.988304064171637,
          0.9985908724117705,
          0.9989000907450211,
          0.9892286295640171,
          0.9696731229119208,
          0.940428962947006,
          0.9017883476488092,
          0.8541373612725007,
          0.7979521167226309,
          0.7337939983903741,
          0.6623040529862428,
          0.5841965844132856,
          0.500252016678587,
          0.4113090961545671,
          0.3182565111024882,
          0.22202401219308238,
          0.123573122745224,
          0.023887531502738858,
          -0.07603673605835357,
          -0.17520126968714714,
          -0.27261525014307375,
          -0.36730534913419133,
          -0.45832545449176587,
          -0.544766123410311,
          -0.6257636692994736,
          -0.7005087914549692,
          -0.7682546613236668,
          -0.8283243845676455,
          -0.880117764368662,
          -0.9231172983963569,
          -0.9568933495204878,
          -0.981108438603097,
          -0.9955206164785154,
          -0.9999858814294444,
          -0.9944596180045154,
          -0.9789970428011298,
          -0.9537526527594719,
          -0.918978681480152,
          -0.8750225789894467,
          -0.8223235401334913,
          -0.7614081162885409,
          -0.6928849542336957,
          -0.6174387147534618,
          -0.5358232317335149,
          -0.4488539801017046,
          -0.3573999278721113,
          -0.26237485370392877,
          -0.1647282167271322,
          -0.06543566986070695,
          0.03451068858880273,
          0.13411222764565714,
          0.23237376165548454,
          0.3283134938514034,
          0.42097282614277115,
          0.5094259371104293,
          0.5927890325083126,
          0.6702291758433747,
          0.7409726108017196,
          0.8043124923659141,
          0.8596159493767461,
          0.9063304079726637,
          0.9439891127251193,
          0.972215790304539,
          0.9907284090790484,
          0.9993419970813103,
          0.9979704901872812,
          0.9866275920404853,
          0.9654266371297417,
          0.9345794583884147,
          0.8943942706297692,
          0.8452725909664269,
          0.7877052269841179,
          0.722267372754513,
          0.6496128616861957,
          0.5704676336373782,
          0.48562248156477883,
          0.39592515018183416,
          0.3022718655737269,
          0.20559838040260117,
          0.10687062417628851,
          0.007075051999930937,
          -0.09279121175730869,
          -0.19173033639936585,
          -0.2887537548977434,
          -0.3828920413264772,
          -0.47320459704556483,
          -0.5587890488516163,
          -0.6387902651926438,
          -0.712408900359854,
          -0.7789093812857372,
          -0.8376272571470276,
          -0.8879758383376634,
          -0.929452058477416,
          -0.9616415008848646,
          -0.9842225392918875,
          -0.996969551427024,
          -0.9997551733586199,
          -0.9925515720731387,
          -0.975430723573431,
          -0.9485636937183082,
          -0.9122189289890194,
          -0.8667595742607592,
          -0.812639844379108,
          -0.7504004857954386,
          -0.6806633736071279,
          -0.6041252979871271,
          -0.5215510020869119,
          -0.43376554097568404,
          -0.3416460379628515,
          -0.2461129206718663,
          -0.14812072443163635,
          -0.04864855487508726,
          0.051309694960699495,
          0.1507552752851691,
          0.24869455873205093,
          0.3441489683555804,
          0.43616475524782494,
          0.5238225280825325,
          0.6062464393693456,
          0.6826129366324043,
          0.7521589910744745,
          0.8141897215084345,
          0.8680853373804215,
          0.9133073315121647,
          0.9494038606867011,
          0.9760142603164502,
          0.9928726480845371,
          0.9998105805530253,
          0.9967587361940652,
          0.9837476080276871,
          0.9609071989456205,
          0.9284657227653786,
          0.8867473239932281,
          0.8361688390794311,
          0.7772356315262264,
          0.7105365424627492,
          0.6367380071391379,
          0.5565773961257936,
          0.4708556477503867,
          0.38042926538684807,
          0.2862017595567536,
          0.18911462035089152,
          0.09013791037146546,
          -0.00973942781276056,
          -0.10951945285370121,
          -0.20820519572405266,
          -0.3048106211022167,
          -0.3983704795113227,
          -0.4879499517729242,
          -0.572653989411214,
          -0.6516362576815548,
          -0.7241075918674496,
          -0.7893438823535511,
          -0.8466933096895727,
          -0.8955828573547701,
          -0.9355240371496152,
          -0.9661177700083929,
          -0.987058373465322,
          -0.9981366159327038,
          -0.9992418072737845,
          -0.9903629047820123,
          -0.9715886235161092,
          -0.9431065498885319,
          -0.9052012673640456,
          -0.8582515129958178,
          -0.802726393209964,
          -0.7391806966492228,
          -0.668249350908215,
          -0.5906410785467989,
          -0.507131315768532,
          -0.41855446451842543,
          -0.32579555541456173,
          -0.22978140481468803,
          -0.13147135437353982,
          -0.03184768561815004,
          0.06809419468449814,
          0.16735570030280691,
          0.26494504308412953,
          0.3598871425741427,
          0.45123336869842146,
          0.5380710201605928,
          0.6195324438519512,
          0.6948037041545392,
          0.7631327155167837,
          0.8238367570437177,
          0.8763092940185007,
          0.9200260381967907,
          0.9545501863215905,
          0.9795367845170094,
          0.9947361749533432,
          0.9999964903456066,
          0.9952651713612277,
          0.980589491775534,
          0.9561160861278065,
          0.9220894845974522,
          0.8788496697392535,
          0.8268286794901034,
          0.7665462903887128,
          0.6986048241402639,
          0.6236831294170677,
          0.5425297990269575,
          0.45595569022148996,
          0.36482582287824245,
          0.2700507365081657,
          0.17257739244581813,
          0.07337971212463937,
          -0.026551154023966794,
          -0.12621672981821014,
          -0.22462118976982778,
          -0.32078130904314506,
          -0.4137362875127194,
          -0.5025573497604873,
          -0.5863570250928222,
          -0.6642980148543038,
          -0.7356015584390794,
          -0.7995552144094876,
          -0.8555199789753223,
          -0.9029366707085427,
          -0.9413315176992298,
          -0.9703208913278909,
          -0.9896151393558494,
          -0.999021480034635,
          -0.9984459283175113,
          -0.9878942349269819,
          -0.9674718288954816,
          -0.9373827641533214,
          -0.8979276806892913,
          -0.8495008006552434,
          -0.7925859894286711,
          -0.7277519209898311,
          -0.6556463959192523,
          -0.5769898687885426,
          -0.4925682496163913,
          -0.40322505131547626,
          -0.3098529615903106,
          -0.21338492349669264,
          -0.11478481378318722,
          -0.015037812153175139,
          0.0848594423250458,
          0.18390880930634296,
          0.28112062025723483,
          0.375523566896625,
          0.46617440618717204,
          0.5521673849078803,
          0.6326432896408476,
          0.7067980317478022,
          0.7738906815578891,
          0.8332508714920985,
          0.8842854941544844,
          0.9264846284651933,
          0.9594266346233836,
          0.9827823669926928,
          0.996318462815671,
          0.9998996738972931,
          0.9934902179602213,
          0.9771541361694929,
          0.9510546532543747,
          0.9154525466208107,
          0.8707035407497848,
          0.8172547529159183,
          0.7556402257394118,
          0.6864755912087755,
          0.6104519194894429,
          0.5283288139791364,
          0.440926821601849,
          0.34911923417413226,
          0.25382336276203626,
          0.1559913722120709,
          0.056600767434840576,
          -0.04335537350085837,
          -0.14287832187593194,
          -0.2409736772881011,
          -0.3366613033721151,
          -0.4289851209982793,
          -0.5170226610990435,
          -0.5998942816750875,
          -0.6767719568873076,
          -0.7468875504173764,
          -0.8095404904318835,
          -0.8641047694644948,
          -0.9100351992756844,
          -0.9468728581933475,
          -0.9742496765064971,
          -0.9918921140961229,
          -0.9996238935576389,
          -0.9973677615064545,
          -0.9851462604682474,
          -0.9630815036415007,
          -0.9313939547827833,
          -0.8904002254057892,
          -0.8405099113037167,
          -0.7822215000035424,
          -0.716117390043384,
          -0.6428580718388389,
          -0.5631755282811168,
          -0.4778659210058768,
          -0.38778163540943045,
          -0.2938227638955397,
          -0.19692811244968383,
          -0.09806582040002382,
          0.001776312910836964,
          0.1016006978902495,
          0.2004099222810683,
          0.2972167169751811,
          0.39105382048004866,
          0.48098364347589934,
          0.5661076368981803,
          0.6455752699428805,
          0.7185925282891343,
          0.7844298476278219,
          0.8424294032270538,
          0.8920116826993705,
          0.9326812762980158,
          0.9640318268873361,
          0.9857500901289485,
          0.9976190643156521,
          0.9995201585807313,
          0.9914343778187099,
          0.9734425124781552,
          0.945724331330235,
          0.9085567852785591,
          0.862311240157329,
          0.8074497661666465,
          0.7445205210198249,
          0.6741522729327462,
          0.5970481181796262,
          0.5139784559875352,
          0.42577329096190625,
          0.33331393995491093,
          0.23752422623883931,
          0.13936124896924576,
          0.039805820166669656,
          -0.06014733523295702,
          -0.15949951834101572,
          -0.257258034985328,
          -0.35244611438228074,
          -0.4441126687075084,
          -0.5313417960511413,
          -0.6132619318068891,
          -0.6890545570574539,
          -0.7579623769450643,
          -0.8192968873112808,
          -0.872445254003028,
          -0.9168764361088418,
          -0.9521464919441047,
          -0.9779030147696511,
          -0.9938886539233752,
          -0.9999436861830071,
          -0.996007611667735,
          -0.9821197583330232,
          -0.9584188890186744,
          -0.9251418149764185,
          -0.8826210297301447,
          -0.8312813869105229,
          -0.7716358552579918,
          -0.7042803932086152,
          -0.6298879942744539,
          -0.5492019627147913,
          -0.4630284866857027,
          -0.3722285830745313,
          -0.2777094945036767,
          -0.1804156244623088,
          -0.0813191011387902,
          0.01858993576280033,
          0.11831322817125059,
          0.21685437391298126,
          0.31322878243308516,
          0.40647351249878755,
          0.49565689358989423,
          0.579887834842624,
          0.6583247285350505,
          0.730183859153167,
          0.7947472340173191,
          0.8513697572276862,
          0.8994856752492519,
          0.9386142297341663,
          0.9683644611001854,
          0.9884391148696253,
          0.9986376117378207,
          0.9988580516952367,
          0.9890982321786865,
          0.9694556700786149,
          0.9401266273825573,
          0.9014041501902339,
          0.8536751406938125,
          0.7974164913790545,
          0.7331903200732922,
          0.6616383534498556,
          0.5834755151072989,
          0.4994827822891639,
          0.4104993826174394,
          0.31741440880766936,
          0.22115793514834708,
          0.12269172450610251,
          0.022999618709098966,
          -0.0769222916753969,
          -0.1760756199485871,
          -0.27346965883011287,
          -0.36813127927767236,
          -0.4591146536706982,
          -0.545510706207386,
          -0.6264561960895026,
          -0.7011423427391804,
          -0.7688229068670624,
          -0.828821646648584,
          -0.8805390745088115,
          -0.9234584470040598,
          -0.9571509279516225,
          -0.9812798732191279,
          -0.9956041943614251,
          -0.9999807674966553,
          -0.9943658633527529,
          -0.9788155841958844,
          -0.9534853032751422,
          -0.9186281123844159,
          -0.8745922930528203,
          -0.8218178366308225,
          -0.7608320480420697,
          -0.6922442771269088,
          -0.6167398302202408,
          -0.535073122797084,
          -0.44806014160260915,
          -0.3565702915822329,
          -0.2615177090748213,
          -0.163852128064609,
          -0.06454939075307359,
          0.03539830273366068,
          0.13499230808060345,
          0.23323751490774314,
          0.32915228958398285,
          0.4217782833859938,
          0.5101900080017631,
          0.5935040827039737,
          0.6708880607981837,
          0.741568747154996,
          0.8048399237202818,
          0.8600694058124532,
          0.9067053587028945,
          0.9442818113661253,
          0.972423312308248,
          0.9908486809542003,
          0.9993738171110836,
          0.9979135404364571,
          0.986482441532148,
          0.9651947361597926,
          0.9342631240346855,
          0.8939966636005579,
          0.8447976840197418,
          0.7871577652331794,
          0.7216528262561783,
          0.6489373707859244,
          0.5697379476169631,
          0.48484589120574,
          0.3951094149183201,
          0.30142513596285736,
          0.20472911668674296,
          0.10598751175115685,
          0.006186914632966696,
          -0.09367550009112813,
          -0.19260194018330173,
          -0.28960396535491445,
          -0.38371236343503057,
          -0.4739868344181481,
          -0.5595253856309882,
          -0.6394733441450939,
          -0.7130318963862962,
          -0.7794660696158047,
          -0.8381120755349393,
          -0.8883839426383546,
          -0.9297793710476092,
          -0.9618847513255586,
          -0.9843792971250844,
          -0.997038250380271,
          -0.9997351270146861,
          -0.9924429807284667,
          -0.9752346722368396,
          -0.9482821412699473,
          -0.9118546886078871,
          -0.8663162853163362,
          -0.8121219360680021,
          -0.7498131328862885,
          -0.6800124447360529,
          -0.603417297020244,
          -0.5207930031358368,
          -0.43296511771538676,
          -0.34081118795795157,
          -0.24525198546765434,
          -0.1472423062080925,
          -0.04776143049672075,
          0.052196661640330246,
          0.15163322198820756,
          0.24955471330524379,
          0.344982736418755,
          0.4369638060661144,
          0.5245788778042787,
          0.6069525307981571,
          0.683261714736121,
          0.7527439734767368,
          0.814705063258458,
          0.868525889353781,
          0.9136686918591765,
          0.9496824188142243,
          0.9762072329637521,
          0.9929781071327172,
          0.9998274722901326,
          0.9966868918434463,
          0.9835877454343449,
          0.960660915403746,
          0.9281354790587077,
          0.8863364198077192,
          0.8356813800338723,
          0.7766764881502718,
          0.709911301532188,
          0.6360529158546612,
          0.5558392996930657,
          0.47007192098496936,
          0.3796077390275217,
          0.2853506420233468,
          0.18824241572844258,
          0.08925333344026325,
          -0.01062753865243582,
          -0.11040222389190282,
          -0.20907380660436528,
          -0.30565639295186264,
          -0.39918496165754186,
          -0.4887250061793565,
          -0.5733818719904229,
          -0.6523096956714092,
          -0.7247198564981747,
          -0.7898888560793348,
          -0.8471655473131,
          -0.8959776404338033,
          -0.9358374211421241,
          -0.9663466236851204,
          -0.9872004101959753,
          -0.9981904165332236,
          -0.9992068341863537,
          -0.9902395074461606,
          -0.9713780348772248,
          -0.9428108740786868,
          -0.9048234586781893,
          -0.857795346373455,
          -0.8021964265172008,
          -0.7385822251380614,
          -0.6675883543081758,
          -0.5899241613174027,
          -0.5063656411097588
         ]
        }
       ],
       "frames": [],
       "layout": {
        "margin": {
         "b": 50,
         "l": 50,
         "r": 50,
         "t": 60
        },
        "template": {
         "data": {
          "bar": [
           {
            "error_x": {
             "color": "#2a3f5f"
            },
            "error_y": {
             "color": "#2a3f5f"
            },
            "marker": {
             "line": {
              "color": "#E5ECF6",
              "width": 0.5
             }
            },
            "type": "bar"
           }
          ],
          "barpolar": [
           {
            "marker": {
             "line": {
              "color": "#E5ECF6",
              "width": 0.5
             }
            },
            "type": "barpolar"
           }
          ],
          "carpet": [
           {
            "aaxis": {
             "endlinecolor": "#2a3f5f",
             "gridcolor": "white",
             "linecolor": "white",
             "minorgridcolor": "white",
             "startlinecolor": "#2a3f5f"
            },
            "baxis": {
             "endlinecolor": "#2a3f5f",
             "gridcolor": "white",
             "linecolor": "white",
             "minorgridcolor": "white",
             "startlinecolor": "#2a3f5f"
            },
            "type": "carpet"
           }
          ],
          "choropleth": [
           {
            "colorbar": {
             "outlinewidth": 0,
             "ticks": ""
            },
            "type": "choropleth"
           }
          ],
          "contour": [
           {
            "colorbar": {
             "outlinewidth": 0,
             "ticks": ""
            },
            "colorscale": [
             [
              0,
              "#0d0887"
             ],
             [
              0.1111111111111111,
              "#46039f"
             ],
             [
              0.2222222222222222,
              "#7201a8"
             ],
             [
              0.3333333333333333,
              "#9c179e"
             ],
             [
              0.4444444444444444,
              "#bd3786"
             ],
             [
              0.5555555555555556,
              "#d8576b"
             ],
             [
              0.6666666666666666,
              "#ed7953"
             ],
             [
              0.7777777777777778,
              "#fb9f3a"
             ],
             [
              0.8888888888888888,
              "#fdca26"
             ],
             [
              1,
              "#f0f921"
             ]
            ],
            "type": "contour"
           }
          ],
          "contourcarpet": [
           {
            "colorbar": {
             "outlinewidth": 0,
             "ticks": ""
            },
            "type": "contourcarpet"
           }
          ],
          "heatmap": [
           {
            "colorbar": {
             "outlinewidth": 0,
             "ticks": ""
            },
            "colorscale": [
             [
              0,
              "#0d0887"
             ],
             [
              0.1111111111111111,
              "#46039f"
             ],
             [
              0.2222222222222222,
              "#7201a8"
             ],
             [
              0.3333333333333333,
              "#9c179e"
             ],
             [
              0.4444444444444444,
              "#bd3786"
             ],
             [
              0.5555555555555556,
              "#d8576b"
             ],
             [
              0.6666666666666666,
              "#ed7953"
             ],
             [
              0.7777777777777778,
              "#fb9f3a"
             ],
             [
              0.8888888888888888,
              "#fdca26"
             ],
             [
              1,
              "#f0f921"
             ]
            ],
            "type": "heatmap"
           }
          ],
          "heatmapgl": [
           {
            "colorbar": {
             "outlinewidth": 0,
             "ticks": ""
            },
            "colorscale": [
             [
              0,
              "#0d0887"
             ],
             [
              0.1111111111111111,
              "#46039f"
             ],
             [
              0.2222222222222222,
              "#7201a8"
             ],
             [
              0.3333333333333333,
              "#9c179e"
             ],
             [
              0.4444444444444444,
              "#bd3786"
             ],
             [
              0.5555555555555556,
              "#d8576b"
             ],
             [
              0.6666666666666666,
              "#ed7953"
             ],
             [
              0.7777777777777778,
              "#fb9f3a"
             ],
             [
              0.8888888888888888,
              "#fdca26"
             ],
             [
              1,
              "#f0f921"
             ]
            ],
            "type": "heatmapgl"
           }
          ],
          "histogram": [
           {
            "marker": {
             "colorbar": {
              "outlinewidth": 0,
              "ticks": ""
             }
            },
            "type": "histogram"
           }
          ],
          "histogram2d": [
           {
            "colorbar": {
             "outlinewidth": 0,
             "ticks": ""
            },
            "colorscale": [
             [
              0,
              "#0d0887"
             ],
             [
              0.1111111111111111,
              "#46039f"
             ],
             [
              0.2222222222222222,
              "#7201a8"
             ],
             [
              0.3333333333333333,
              "#9c179e"
             ],
             [
              0.4444444444444444,
              "#bd3786"
             ],
             [
              0.5555555555555556,
              "#d8576b"
             ],
             [
              0.6666666666666666,
              "#ed7953"
             ],
             [
              0.7777777777777778,
              "#fb9f3a"
             ],
             [
              0.8888888888888888,
              "#fdca26"
             ],
             [
              1,
              "#f0f921"
             ]
            ],
            "type": "histogram2d"
           }
          ],
          "histogram2dcontour": [
           {
            "colorbar": {
             "outlinewidth": 0,
             "ticks": ""
            },
            "colorscale": [
             [
              0,
              "#0d0887"
             ],
             [
              0.1111111111111111,
              "#46039f"
             ],
             [
              0.2222222222222222,
              "#7201a8"
             ],
             [
              0.3333333333333333,
              "#9c179e"
             ],
             [
              0.4444444444444444,
              "#bd3786"
             ],
             [
              0.5555555555555556,
              "#d8576b"
             ],
             [
              0.6666666666666666,
              "#ed7953"
             ],
             [
              0.7777777777777778,
              "#fb9f3a"
             ],
             [
              0.8888888888888888,
              "#fdca26"
             ],
             [
              1,
              "#f0f921"
             ]
            ],
            "type": "histogram2dcontour"
           }
          ],
          "mesh3d": [
           {
            "colorbar": {
             "outlinewidth": 0,
             "ticks": ""
            },
            "type": "mesh3d"
           }
          ],
          "parcoords": [
           {
            "line": {
             "colorbar": {
              "outlinewidth": 0,
              "ticks": ""
             }
            },
            "type": "parcoords"
           }
          ],
          "pie": [
           {
            "automargin": true,
            "type": "pie"
           }
          ],
          "scatter": [
           {
            "marker": {
             "colorbar": {
              "outlinewidth": 0,
              "ticks": ""
             }
            },
            "type": "scatter"
           }
          ],
          "scatter3d": [
           {
            "line": {
             "colorbar": {
              "outlinewidth": 0,
              "ticks": ""
             }
            },
            "marker": {
             "colorbar": {
              "outlinewidth": 0,
              "ticks": ""
             }
            },
            "type": "scatter3d"
           }
          ],
          "scattercarpet": [
           {
            "marker": {
             "colorbar": {
              "outlinewidth": 0,
              "ticks": ""
             }
            },
            "type": "scattercarpet"
           }
          ],
          "scattergeo": [
           {
            "marker": {
             "colorbar": {
              "outlinewidth": 0,
              "ticks": ""
             }
            },
            "type": "scattergeo"
           }
          ],
          "scattergl": [
           {
            "marker": {
             "colorbar": {
              "outlinewidth": 0,
              "ticks": ""
             }
            },
            "type": "scattergl"
           }
          ],
          "scattermapbox": [
           {
            "marker": {
             "colorbar": {
              "outlinewidth": 0,
              "ticks": ""
             }
            },
            "type": "scattermapbox"
           }
          ],
          "scatterpolar": [
           {
            "marker": {
             "colorbar": {
              "outlinewidth": 0,
              "ticks": ""
             }
            },
            "type": "scatterpolar"
           }
          ],
          "scatterpolargl": [
           {
            "marker": {
             "colorbar": {
              "outlinewidth": 0,
              "ticks": ""
             }
            },
            "type": "scatterpolargl"
           }
          ],
          "scatterternary": [
           {
            "marker": {
             "colorbar": {
              "outlinewidth": 0,
              "ticks": ""
             }
            },
            "type": "scatterternary"
           }
          ],
          "surface": [
           {
            "colorbar": {
             "outlinewidth": 0,
             "ticks": ""
            },
            "colorscale": [
             [
              0,
              "#0d0887"
             ],
             [
              0.1111111111111111,
              "#46039f"
             ],
             [
              0.2222222222222222,
              "#7201a8"
             ],
             [
              0.3333333333333333,
              "#9c179e"
             ],
             [
              0.4444444444444444,
              "#bd3786"
             ],
             [
              0.5555555555555556,
              "#d8576b"
             ],
             [
              0.6666666666666666,
              "#ed7953"
             ],
             [
              0.7777777777777778,
              "#fb9f3a"
             ],
             [
              0.8888888888888888,
              "#fdca26"
             ],
             [
              1,
              "#f0f921"
             ]
            ],
            "type": "surface"
           }
          ],
          "table": [
           {
            "cells": {
             "fill": {
              "color": "#EBF0F8"
             },
             "line": {
              "color": "white"
             }
            },
            "header": {
             "fill": {
              "color": "#C8D4E3"
             },
             "line": {
              "color": "white"
             }
            },
            "type": "table"
           }
          ]
         },
         "layout": {
          "annotationdefaults": {
           "arrowcolor": "#2a3f5f",
           "arrowhead": 0,
           "arrowwidth": 1
          },
          "autotypenumbers": "strict",
          "coloraxis": {
           "colorbar": {
            "outlinewidth": 0,
            "ticks": ""
           }
          },
          "colorscale": {
           "diverging": [
            [
             0,
             "#8e0152"
            ],
            [
             0.1,
             "#c51b7d"
            ],
            [
             0.2,
             "#de77ae"
            ],
            [
             0.3,
             "#f1b6da"
            ],
            [
             0.4,
             "#fde0ef"
            ],
            [
             0.5,
             "#f7f7f7"
            ],
            [
             0.6,
             "#e6f5d0"
            ],
            [
             0.7,
             "#b8e186"
            ],
            [
             0.8,
             "#7fbc41"
            ],
            [
             0.9,
             "#4d9221"
            ],
            [
             1,
             "#276419"
            ]
           ],
           "sequential": [
            [
             0,
             "#0d0887"
            ],
            [
             0.1111111111111111,
             "#46039f"
            ],
            [
             0.2222222222222222,
             "#7201a8"
            ],
            [
             0.3333333333333333,
             "#9c179e"
            ],
            [
             0.4444444444444444,
             "#bd3786"
            ],
            [
             0.5555555555555556,
             "#d8576b"
            ],
            [
             0.6666666666666666,
             "#ed7953"
            ],
            [
             0.7777777777777778,
             "#fb9f3a"
            ],
            [
             0.8888888888888888,
             "#fdca26"
            ],
            [
             1,
             "#f0f921"
            ]
           ],
           "sequentialminus": [
            [
             0,
             "#0d0887"
            ],
            [
             0.1111111111111111,
             "#46039f"
            ],
            [
             0.2222222222222222,
             "#7201a8"
            ],
            [
             0.3333333333333333,
             "#9c179e"
            ],
            [
             0.4444444444444444,
             "#bd3786"
            ],
            [
             0.5555555555555556,
             "#d8576b"
            ],
            [
             0.6666666666666666,
             "#ed7953"
            ],
            [
             0.7777777777777778,
             "#fb9f3a"
            ],
            [
             0.8888888888888888,
             "#fdca26"
            ],
            [
             1,
             "#f0f921"
            ]
           ]
          },
          "colorway": [
           "#636efa",
           "#EF553B",
           "#00cc96",
           "#ab63fa",
           "#FFA15A",
           "#19d3f3",
           "#FF6692",
           "#B6E880",
           "#FF97FF",
           "#FECB52"
          ],
          "font": {
           "color": "#2a3f5f"
          },
          "geo": {
           "bgcolor": "white",
           "lakecolor": "white",
           "landcolor": "#E5ECF6",
           "showlakes": true,
           "showland": true,
           "subunitcolor": "white"
          },
          "hoverlabel": {
           "align": "left"
          },
          "hovermode": "closest",
          "mapbox": {
           "style": "light"
          },
          "paper_bgcolor": "white",
          "plot_bgcolor": "#E5ECF6",
          "polar": {
           "angularaxis": {
            "gridcolor": "white",
            "linecolor": "white",
            "ticks": ""
           },
           "bgcolor": "#E5ECF6",
           "radialaxis": {
            "gridcolor": "white",
            "linecolor": "white",
            "ticks": ""
           }
          },
          "scene": {
           "xaxis": {
            "backgroundcolor": "#E5ECF6",
            "gridcolor": "white",
            "gridwidth": 2,
            "linecolor": "white",
            "showbackground": true,
            "ticks": "",
            "zerolinecolor": "white"
           },
           "yaxis": {
            "backgroundcolor": "#E5ECF6",
            "gridcolor": "white",
            "gridwidth": 2,
            "linecolor": "white",
            "showbackground": true,
            "ticks": "",
            "zerolinecolor": "white"
           },
           "zaxis": {
            "backgroundcolor": "#E5ECF6",
            "gridcolor": "white",
            "gridwidth": 2,
            "linecolor": "white",
            "showbackground": true,
            "ticks": "",
            "zerolinecolor": "white"
           }
          },
          "shapedefaults": {
           "line": {
            "color": "#2a3f5f"
           }
          },
          "ternary": {
           "aaxis": {
            "gridcolor": "white",
            "linecolor": "white",
            "ticks": ""
           },
           "baxis": {
            "gridcolor": "white",
            "linecolor": "white",
            "ticks": ""
           },
           "bgcolor": "#E5ECF6",
           "caxis": {
            "gridcolor": "white",
            "linecolor": "white",
            "ticks": ""
           }
          },
          "title": {
           "x": 0.05
          },
          "xaxis": {
           "automargin": true,
           "gridcolor": "white",
           "linecolor": "white",
           "ticks": "",
           "title": {
            "standoff": 15
           },
           "zerolinecolor": "white",
           "zerolinewidth": 2
          },
          "yaxis": {
           "automargin": true,
           "gridcolor": "white",
           "linecolor": "white",
           "ticks": "",
           "title": {
            "standoff": 15
           },
           "zerolinecolor": "white",
           "zerolinewidth": 2
          }
         }
        }
       }
      },
      "text/html": [
       "<div\n",
       "    class=\"webio-mountpoint\"\n",
       "    data-webio-mountpoint=\"13945468730843819119\"\n",
       ">\n",
       "    <script>\n",
       "    (function(){\n",
       "    // Some integrations (namely, IJulia/Jupyter) use an alternate render pathway than\n",
       "    // just putting the html on the page. If WebIO isn't defined, then it's pretty likely\n",
       "    // that we're in one of those situations and the integration just isn't installed\n",
       "    // correctly.\n",
       "    if (typeof window.WebIO === \"undefined\") {\n",
       "        document\n",
       "            .querySelector('[data-webio-mountpoint=\"13945468730843819119\"]')\n",
       "            .innerHTML = (\n",
       "                '<div style=\"padding: 1em; background-color: #f8d6da; border: 1px solid #f5c6cb; font-weight: bold;\">' +\n",
       "                '<p><strong>WebIO not detected.</strong></p>' +\n",
       "                '<p>Please read ' +\n",
       "                '<a href=\"https://juliagizmos.github.io/WebIO.jl/latest/troubleshooting/not-detected/\" target=\"_blank\">the troubleshooting guide</a> ' +\n",
       "                'for more information on how to resolve this issue.</p>' +\n",
       "                '<p><a href=\"https://juliagizmos.github.io/WebIO.jl/latest/troubleshooting/not-detected/\" target=\"_blank\">https://juliagizmos.github.io/WebIO.jl/latest/troubleshooting/not-detected/</a></p>' +\n",
       "                '</div>'\n",
       "            );\n",
       "        return;\n",
       "    }\n",
       "    WebIO.mount(\n",
       "        document.querySelector('[data-webio-mountpoint=\"13945468730843819119\"]'),\n",
       "        {\"props\":{},\"nodeType\":\"Scope\",\"type\":\"node\",\"instanceArgs\":{\"imports\":{\"data\":[{\"name\":\"Plotly\",\"type\":\"js\",\"url\":\"\\/assetserver\\/5b0bcbbb362c204ec77e728ffa8c7da4be28ce8a-plotly.min.js\"},{\"name\":null,\"type\":\"js\",\"url\":\"\\/assetserver\\/6303ac4e25f5217851dbb12ecf3059151c237374-plotly_webio.bundle.js\"}],\"type\":\"async_block\"},\"id\":\"7313044364874032400\",\"handlers\":{\"_toImage\":[\"(function (options){return this.Plotly.toImage(this.plotElem,options).then((function (data){return WebIO.setval({\\\"name\\\":\\\"image\\\",\\\"scope\\\":\\\"7313044364874032400\\\",\\\"id\\\":\\\"16788390254000145843\\\",\\\"type\\\":\\\"observable\\\"},data)}))})\"],\"__get_gd_contents\":[\"(function (prop){prop==\\\"data\\\" ? (WebIO.setval({\\\"name\\\":\\\"__gd_contents\\\",\\\"scope\\\":\\\"7313044364874032400\\\",\\\"id\\\":\\\"15469408640052697495\\\",\\\"type\\\":\\\"observable\\\"},this.plotElem.data)) : undefined; return prop==\\\"layout\\\" ? (WebIO.setval({\\\"name\\\":\\\"__gd_contents\\\",\\\"scope\\\":\\\"7313044364874032400\\\",\\\"id\\\":\\\"15469408640052697495\\\",\\\"type\\\":\\\"observable\\\"},this.plotElem.layout)) : undefined})\"],\"_downloadImage\":[\"(function (options){return this.Plotly.downloadImage(this.plotElem,options)})\"],\"_commands\":[\"(function (args){var fn=args.shift(); var elem=this.plotElem; var Plotly=this.Plotly; args.unshift(elem); return Plotly[fn].apply(this,args)})\"]},\"systemjs_options\":null,\"mount_callbacks\":[\"function () {\\n    var handler = ((function (Plotly,PlotlyWebIO){PlotlyWebIO.init(WebIO); var gd=this.dom.querySelector(\\\"#plot-e6f5e4a9-d614-44e4-a907-0a7484bdf727\\\"); this.plotElem=gd; this.Plotly=Plotly; (window.Blink!==undefined) ? (gd.style.width=\\\"100%\\\", gd.style.height=\\\"100vh\\\", gd.style.marginLeft=\\\"0%\\\", gd.style.marginTop=\\\"0vh\\\") : undefined; window.onresize=(function (){return Plotly.Plots.resize(gd)}); Plotly.newPlot(gd,[{\\\"mode\\\":\\\"lines\\\",\\\"y\\\":[1.0,-0.4161468365472273,-0.653643620863388,0.9601702866502594,-0.14550003380755466,-0.8390715290764418,0.8438539587330892,0.13673721820565085,-0.9576594803224384,0.6603167082447104,0.40808206181487516,-0.9999608263946755,0.42417900733107056,0.6469193223355086,-0.9626058663104664,0.1542514498738266,0.8342233605155494,-0.8485702747783992,-0.12796368963444235,0.9550736440480274,-0.6669380616539017,-0.3999853149820836,0.9998433086474944,-0.4321779448993259,-0.6401443394532446,0.9649660284987878,-0.16299078082536725,-0.8293098328437633,0.8532201077431133,0.11918013540513604,-0.9524129804003371,0.6735071623629802,0.3918572303762558,-0.999647455965077,0.4401430225308837,0.6333192030636837,-0.9672505882788863,0.17171734184072968,0.824331331107261,-0.8578030932403501,-0.11038724385753343,0.9496776978913717,-0.6800234955596779,-0.38369844499342187,0.999373283697144,-0.44807361606978485,-0.6264444479695809,0.9694593666490131,-0.18043044919751822,-0.8192882453514959,0.8623188722298338],\\\"type\\\":\\\"scatter\\\",\\\"name\\\":\\\"estimate\\\",\\\"x\\\":[0,2,4,6,8,10,12,14,16,18,20,22,24,26,28,30,32,34,36,38,40,42,44,46,48,50,52,54,56,58,60,62,64,66,68,70,72,74,76,78,80,82,84,86,88,90,92,94,96,98,100]},{\\\"mode\\\":\\\"lines\\\",\\\"y\\\":[0.0,0.09983341664682815,0.19866933079506122,0.29552020666133955,0.3894183423086505,0.479425538604203,0.5646424733950354,0.644217687237691,0.7173560908995228,0.7833269096274834,0.8414709848078965,0.8912073600614354,0.9320390859672263,0.963558185417193,0.9854497299884601,0.9974949866040544,0.9995736030415051,0.9916648104524686,0.9738476308781951,0.9463000876874145,0.9092974268256817,0.8632093666488737,0.8084964038195901,0.7457052121767203,0.675463180551151,0.5984721441039564,0.5155013718214642,0.4273798802338298,0.3349881501559051,0.23924932921398243,0.1411200080598672,0.04158066243329049,-0.058374143427580086,-0.1577456941432482,-0.2555411020268312,-0.35078322768961984,-0.44252044329485246,-0.5298361409084934,-0.6118578909427189,-0.6877661591839738,-0.7568024953079282,-0.8182771110644103,-0.8715757724135882,-0.9161659367494549,-0.9516020738895161,-0.977530117665097,-0.9936910036334644,-0.9999232575641008,-0.9961646088358407,-0.9824526126243325,-0.9589242746631385,-0.9258146823277325,-0.8834546557201531,-0.8322674422239013,-0.7727644875559871,-0.7055403255703919,-0.6312666378723216,-0.5506855425976376,-0.46460217941375737,-0.373876664830236,-0.27941549819892586,-0.18216250427209588,-0.0830894028174964,0.016813900484349713,0.11654920485049364,0.21511998808781552,0.31154136351337786,0.4048499206165983,0.49411335113860816,0.5784397643882002,0.6569865987187891,0.7289690401258759,0.7936678638491531,0.8504366206285644,0.8987080958116269,0.9379999767747389,0.9679196720314863,0.9881682338770004,0.998543345374605,0.998941341839772,0.9893582466233818,0.9698898108450863,0.9407305566797731,0.9021718337562933,0.8545989080882805,0.7984871126234903,0.7343970978741133,0.6629692300821833,0.5849171928917617,0.5010208564578846,0.4121184852417566,0.3190983623493521,0.22288991410024764,0.1244544235070617,0.024775425453357765,-0.0751511204618093,-0.17432678122297965,-0.27176062641094245,-0.3664791292519284,-0.4575358937753214,-0.5440211108893698,-0.6250706488928821,-0.6998746875935423,-0.7676858097635825,-0.8278264690856537,-0.87969575997167,-0.9227754216128067,-0.9566350162701879,-0.9809362300664916,-0.9954362533063774,-0.9999902065507035,-0.9945525882039892,-0.9791777291513174,-0.954019249902089,-0.9193285256646757,-0.8754521746884285,-0.8228285949687089,-0.7619835839190333,-0.6935250847771224,-0.6181371122370333,-0.5365729180004349,-0.44964746453460147,-0.3582292822368287,-0.26323179136580094,-0.1656041754483094,-0.06632189735120068,0.033623047221136695,0.13323204141994222,0.23150982510153895,0.32747443913769303,0.4201670368266409,0.5086614643723737,0.592073514707223,0.6695697621966024,0.7403758899524486,0.803784426551621,0.8591618148564958,0.9059547423084618,0.9436956694441048,0.9720075013949759,0.9906073556948704,0.9993093887479176,0.9980266527163617,0.9867719642746133,0.9656577765492774,0.934895055524683,0.8947911721405042,0.8457468311429343,0.7882520673753163,0.722881349511976,0.6502878401571168,0.5711968696599886,0.4863986888537997,0.39674057313061206,0.30311835674570226,0.2064674819377966,0.10775365229944406,0.007963183785937343,-0.09190685022768164,-0.19085858137418937,-0.2879033166650653,-0.3820714171840091,-0.47242198639846616,-0.5580522712867794,-0.6381066823479474,-0.711785342369123,-0.7783520785342984,-0.8371417780197468,-0.8875670335815046,-0.9291240127343684,-0.9613974918795568,-0.9840650050816434,-0.9969000660415961,-0.9997744310730111,-0.9926593804706332,-0.9756260054681576,-0.948844497918124,-0.9125824497911845,-0.8672021794855813,-0.8131571116614885,-0.7509872467716762,-0.6813137655554999,-0.6048328224062841,-0.5223085896267315,-0.43456562207189675,-0.34248061846961253,-0.2469736617366209,-0.1489990258141988,-0.04953564087836742,0.05042268780681122,0.14987720966295234,0.24783420798295983,0.3433149288198954,0.4353653603728932,0.5230657651576964,0.605539869719601,0.6819636200681356,0.7515734153521483,0.8136737375071054,0.8676441006416673,0.9129452507276277,0.9491245536478946,0.9758205177669755,0.9927664058359071,0.9997929001426692,0.9968297942787993,0.9839066946186161,0.9611527245021165,0.9287952340772404,0.8871575286923511,0.8366556385360561,0.7777941618010928,0.7111612229059825,0.6374225961502389,0.5573150535176614,0.47163900309419615,0.3812504916549401,0.28705265132772845,0.18998667579543774,0.09102241619984787,-0.008851309290403876,-0.10863659542407976,-0.20733642060675878,-0.30396460881104703,-0.3975556831214329,-0.4871745124605095,-0.5719256551095638,-0.6509623056662469,-0.723494756044245,-0.7887982859754165,-0.8462204041751706,-0.8951873678196818,-0.9352099151945389,-0.9658881542360704,-0.9869155581206488,-0.9980820279793963,-0.9992759921366277,-0.9904855208971565,-0.9717984457438633,-0.9434014817545555,-0.9055783620066239,-0.8587070026099295,-0.8032557266939547,-0.7397785850778934,-0.6689098203780243,-0.5913575298651244,-0.5078965903906221,-0.41936091607323134,-0.32663512610472223,-0.23064570592739567,-0.13235175009777303,-0.03273537933084532,0.06720807252547492,0.16648000353715925,0.2640885213844694,0.3590583540221683,0.4504405942753893,0.5373221810064719,0.6188350221200393,0.694164668252242,0.7625584504796027,0.8233330007380816,0.8758810798108894,0.9196776446620198,0.9542850944926969,0.979357643103917,0.9946447738778381,0.9999937428570207,0.9953511049115591,0.9807632477451529,0.956375928404503,0.9224328169230858,0.8792730616507243,0.8273279005953786,0.7671163526355301,0.6992400316550977,0.6243771354163914,0.5432756692322478,0.4567459721441928,0.36565262028262135,0.27090578830786904,0.1734521552458921,0.07426544558436131,-0.02566329986055949,-0.12533562609642912,-0.22375564018679642,-0.3199399618841981,-0.4129275492405401,-0.5017893010205742,-0.5856373399742976,-0.6636338842129675,-0.7349996180487777,-0.7990214786596137,-0.8550597807770702,-0.9025546082101854,-0.9410314083429535,-0.9701057337071853,-0.9894870832545352,-0.9989818049469494,-0.9984950306638146,-0.9880316240928618,-0.9676961321338052,-0.9376917403002811,-0.8983182425573547,-0.8499690458793281,-0.7931272394572851,-0.7283607678315934,-0.6563167561777904,-0.5777150444457317,-0.4933409949567783,-0.404037645323065,-0.3106972850943722,-0.2142525402958877,-0.11566705493723693,-0.0159258626001018,0.08397445569174683,0.183035728980588,0.2802681697690195,0.374700263649462,0.46538847635495545,0.5514266812416906,0.631955213006885,0.7061694571803344,0.7733278895662207,0.8327594853077798,0.8838704235458307,0.9261500206805285,0.9591758329530804,0.9826178773641395,0.9962419287548636,0.9999118601072672,0.9935910026803949,0.9773425123922587,0.9513287387867827,0.915809602890819,0.8711400001691764,0.8177662545264418,0.756221658786063,0.6871211462047443,0.611155146262596,0.5290826861200238,0.4417238066692238,0.3499513689566622,0.2546823328440351,0.15686859504841,0.057487478104924564,-0.04246803471695152,-0.1419992209740017,-0.24011159795377449,-0.3358248592171419,-0.428182669496151,-0.516262220079927,-0.5991834492142653,-0.6761178353877643,-0.7462966756449163,-0.8090187662119065,-0.863657408692956,-0.9096666718335282,-0.9465868462849605,-0.9740490378683264,-0.9917788534431158,-0.9995991425528029,-0.9974317674536479,-0.9852983838412038,-0.9633202244737609,-0.9317168878547055,-0.8908041440768614,-0.8409907797521016,-0.7827745135506544,-0.7167370231606575,-0.6435381333569995,-0.5639092232502625,-0.478645918588415,-0.38860014212734334,-0.29467160150025756,-0.19779879963646227,-0.09894965755028955,0.0008881568057175921,0.10071709699250053,0.1995397052387874,0.2963685787093853,0.39023623530794616,0.480204780438259,0.5653752781370229,0.6448967329448674,0.7179745927716441,0.783878687798293,0.8419505260923049,0.8916098730414407,0.932360548866189,0.9637953862840878,0.985600298790633,0.9975574189078051,0.999547275043892,0.9915499852141411,0.9736454556949781,0.9460125826269081,0.9089274645434138,0.8627606436856788,0.8079734036669851,0.7451131604793488,0.6748079928938668,0.5977603669052548,0.5147401169238381,0.42657675384457316,0.33415117684842055,0.23838687174889206,0.1402406838270716,0.040693257349864856,-0.05926076270338633,-0.158622668804709,-0.256399669633018,-0.3516148097168163,-0.4433167308503208,-0.5305891777502036,-0.6125601529754698,-0.6884106296376704,-0.7573827348468307,-0.8187873221268436,-0.8720108571392737,-0.9165215479156338,-0.9518746583469646,-0.9777169518400209,-0.9937902207405457,-0.9999338662588036,-0.996086503119594,-0.9822865729036345,-0.9586719599519926,-0.9254786136713307,-0.8830381910054188,-0.8317747426285983,-0.7722004759716072,-0.7049106374142481,-0.630577564780328,-0.5499439695603477,-0.46381551598382736,-0.3730527710886221,-0.27856260621955026,-0.1812891358696948,-0.0822042844004434,0.017701925105413577,0.11743126282709573,0.2159872661882241,0.31238519618149074,0.40566187655533587,0.4948853175526281,0.5791640280442709,0.6576559230138694,0.7295767373928534,0.7942078621778189,0.8509035245341184,0.899097240144582,0.9383074733335544,0.9681424484121893,0.988304064171637,0.9985908724117705,0.9989000907450211,0.9892286295640171,0.9696731229119208,0.940428962947006,0.9017883476488092,0.8541373612725007,0.7979521167226309,0.7337939983903741,0.6623040529862428,0.5841965844132856,0.500252016678587,0.4113090961545671,0.3182565111024882,0.22202401219308238,0.123573122745224,0.023887531502738858,-0.07603673605835357,-0.17520126968714714,-0.27261525014307375,-0.36730534913419133,-0.45832545449176587,-0.544766123410311,-0.6257636692994736,-0.7005087914549692,-0.7682546613236668,-0.8283243845676455,-0.880117764368662,-0.9231172983963569,-0.9568933495204878,-0.981108438603097,-0.9955206164785154,-0.9999858814294444,-0.9944596180045154,-0.9789970428011298,-0.9537526527594719,-0.918978681480152,-0.8750225789894467,-0.8223235401334913,-0.7614081162885409,-0.6928849542336957,-0.6174387147534618,-0.5358232317335149,-0.4488539801017046,-0.3573999278721113,-0.26237485370392877,-0.1647282167271322,-0.06543566986070695,0.03451068858880273,0.13411222764565714,0.23237376165548454,0.3283134938514034,0.42097282614277115,0.5094259371104293,0.5927890325083126,0.6702291758433747,0.7409726108017196,0.8043124923659141,0.8596159493767461,0.9063304079726637,0.9439891127251193,0.972215790304539,0.9907284090790484,0.9993419970813103,0.9979704901872812,0.9866275920404853,0.9654266371297417,0.9345794583884147,0.8943942706297692,0.8452725909664269,0.7877052269841179,0.722267372754513,0.6496128616861957,0.5704676336373782,0.48562248156477883,0.39592515018183416,0.3022718655737269,0.20559838040260117,0.10687062417628851,0.007075051999930937,-0.09279121175730869,-0.19173033639936585,-0.2887537548977434,-0.3828920413264772,-0.47320459704556483,-0.5587890488516163,-0.6387902651926438,-0.712408900359854,-0.7789093812857372,-0.8376272571470276,-0.8879758383376634,-0.929452058477416,-0.9616415008848646,-0.9842225392918875,-0.996969551427024,-0.9997551733586199,-0.9925515720731387,-0.975430723573431,-0.9485636937183082,-0.9122189289890194,-0.8667595742607592,-0.812639844379108,-0.7504004857954386,-0.6806633736071279,-0.6041252979871271,-0.5215510020869119,-0.43376554097568404,-0.3416460379628515,-0.2461129206718663,-0.14812072443163635,-0.04864855487508726,0.051309694960699495,0.1507552752851691,0.24869455873205093,0.3441489683555804,0.43616475524782494,0.5238225280825325,0.6062464393693456,0.6826129366324043,0.7521589910744745,0.8141897215084345,0.8680853373804215,0.9133073315121647,0.9494038606867011,0.9760142603164502,0.9928726480845371,0.9998105805530253,0.9967587361940652,0.9837476080276871,0.9609071989456205,0.9284657227653786,0.8867473239932281,0.8361688390794311,0.7772356315262264,0.7105365424627492,0.6367380071391379,0.5565773961257936,0.4708556477503867,0.38042926538684807,0.2862017595567536,0.18911462035089152,0.09013791037146546,-0.00973942781276056,-0.10951945285370121,-0.20820519572405266,-0.3048106211022167,-0.3983704795113227,-0.4879499517729242,-0.572653989411214,-0.6516362576815548,-0.7241075918674496,-0.7893438823535511,-0.8466933096895727,-0.8955828573547701,-0.9355240371496152,-0.9661177700083929,-0.987058373465322,-0.9981366159327038,-0.9992418072737845,-0.9903629047820123,-0.9715886235161092,-0.9431065498885319,-0.9052012673640456,-0.8582515129958178,-0.802726393209964,-0.7391806966492228,-0.668249350908215,-0.5906410785467989,-0.507131315768532,-0.41855446451842543,-0.32579555541456173,-0.22978140481468803,-0.13147135437353982,-0.03184768561815004,0.06809419468449814,0.16735570030280691,0.26494504308412953,0.3598871425741427,0.45123336869842146,0.5380710201605928,0.6195324438519512,0.6948037041545392,0.7631327155167837,0.8238367570437177,0.8763092940185007,0.9200260381967907,0.9545501863215905,0.9795367845170094,0.9947361749533432,0.9999964903456066,0.9952651713612277,0.980589491775534,0.9561160861278065,0.9220894845974522,0.8788496697392535,0.8268286794901034,0.7665462903887128,0.6986048241402639,0.6236831294170677,0.5425297990269575,0.45595569022148996,0.36482582287824245,0.2700507365081657,0.17257739244581813,0.07337971212463937,-0.026551154023966794,-0.12621672981821014,-0.22462118976982778,-0.32078130904314506,-0.4137362875127194,-0.5025573497604873,-0.5863570250928222,-0.6642980148543038,-0.7356015584390794,-0.7995552144094876,-0.8555199789753223,-0.9029366707085427,-0.9413315176992298,-0.9703208913278909,-0.9896151393558494,-0.999021480034635,-0.9984459283175113,-0.9878942349269819,-0.9674718288954816,-0.9373827641533214,-0.8979276806892913,-0.8495008006552434,-0.7925859894286711,-0.7277519209898311,-0.6556463959192523,-0.5769898687885426,-0.4925682496163913,-0.40322505131547626,-0.3098529615903106,-0.21338492349669264,-0.11478481378318722,-0.015037812153175139,0.0848594423250458,0.18390880930634296,0.28112062025723483,0.375523566896625,0.46617440618717204,0.5521673849078803,0.6326432896408476,0.7067980317478022,0.7738906815578891,0.8332508714920985,0.8842854941544844,0.9264846284651933,0.9594266346233836,0.9827823669926928,0.996318462815671,0.9998996738972931,0.9934902179602213,0.9771541361694929,0.9510546532543747,0.9154525466208107,0.8707035407497848,0.8172547529159183,0.7556402257394118,0.6864755912087755,0.6104519194894429,0.5283288139791364,0.440926821601849,0.34911923417413226,0.25382336276203626,0.1559913722120709,0.056600767434840576,-0.04335537350085837,-0.14287832187593194,-0.2409736772881011,-0.3366613033721151,-0.4289851209982793,-0.5170226610990435,-0.5998942816750875,-0.6767719568873076,-0.7468875504173764,-0.8095404904318835,-0.8641047694644948,-0.9100351992756844,-0.9468728581933475,-0.9742496765064971,-0.9918921140961229,-0.9996238935576389,-0.9973677615064545,-0.9851462604682474,-0.9630815036415007,-0.9313939547827833,-0.8904002254057892,-0.8405099113037167,-0.7822215000035424,-0.716117390043384,-0.6428580718388389,-0.5631755282811168,-0.4778659210058768,-0.38778163540943045,-0.2938227638955397,-0.19692811244968383,-0.09806582040002382,0.001776312910836964,0.1016006978902495,0.2004099222810683,0.2972167169751811,0.39105382048004866,0.48098364347589934,0.5661076368981803,0.6455752699428805,0.7185925282891343,0.7844298476278219,0.8424294032270538,0.8920116826993705,0.9326812762980158,0.9640318268873361,0.9857500901289485,0.9976190643156521,0.9995201585807313,0.9914343778187099,0.9734425124781552,0.945724331330235,0.9085567852785591,0.862311240157329,0.8074497661666465,0.7445205210198249,0.6741522729327462,0.5970481181796262,0.5139784559875352,0.42577329096190625,0.33331393995491093,0.23752422623883931,0.13936124896924576,0.039805820166669656,-0.06014733523295702,-0.15949951834101572,-0.257258034985328,-0.35244611438228074,-0.4441126687075084,-0.5313417960511413,-0.6132619318068891,-0.6890545570574539,-0.7579623769450643,-0.8192968873112808,-0.872445254003028,-0.9168764361088418,-0.9521464919441047,-0.9779030147696511,-0.9938886539233752,-0.9999436861830071,-0.996007611667735,-0.9821197583330232,-0.9584188890186744,-0.9251418149764185,-0.8826210297301447,-0.8312813869105229,-0.7716358552579918,-0.7042803932086152,-0.6298879942744539,-0.5492019627147913,-0.4630284866857027,-0.3722285830745313,-0.2777094945036767,-0.1804156244623088,-0.0813191011387902,0.01858993576280033,0.11831322817125059,0.21685437391298126,0.31322878243308516,0.40647351249878755,0.49565689358989423,0.579887834842624,0.6583247285350505,0.730183859153167,0.7947472340173191,0.8513697572276862,0.8994856752492519,0.9386142297341663,0.9683644611001854,0.9884391148696253,0.9986376117378207,0.9988580516952367,0.9890982321786865,0.9694556700786149,0.9401266273825573,0.9014041501902339,0.8536751406938125,0.7974164913790545,0.7331903200732922,0.6616383534498556,0.5834755151072989,0.4994827822891639,0.4104993826174394,0.31741440880766936,0.22115793514834708,0.12269172450610251,0.022999618709098966,-0.0769222916753969,-0.1760756199485871,-0.27346965883011287,-0.36813127927767236,-0.4591146536706982,-0.545510706207386,-0.6264561960895026,-0.7011423427391804,-0.7688229068670624,-0.828821646648584,-0.8805390745088115,-0.9234584470040598,-0.9571509279516225,-0.9812798732191279,-0.9956041943614251,-0.9999807674966553,-0.9943658633527529,-0.9788155841958844,-0.9534853032751422,-0.9186281123844159,-0.8745922930528203,-0.8218178366308225,-0.7608320480420697,-0.6922442771269088,-0.6167398302202408,-0.535073122797084,-0.44806014160260915,-0.3565702915822329,-0.2615177090748213,-0.163852128064609,-0.06454939075307359,0.03539830273366068,0.13499230808060345,0.23323751490774314,0.32915228958398285,0.4217782833859938,0.5101900080017631,0.5935040827039737,0.6708880607981837,0.741568747154996,0.8048399237202818,0.8600694058124532,0.9067053587028945,0.9442818113661253,0.972423312308248,0.9908486809542003,0.9993738171110836,0.9979135404364571,0.986482441532148,0.9651947361597926,0.9342631240346855,0.8939966636005579,0.8447976840197418,0.7871577652331794,0.7216528262561783,0.6489373707859244,0.5697379476169631,0.48484589120574,0.3951094149183201,0.30142513596285736,0.20472911668674296,0.10598751175115685,0.006186914632966696,-0.09367550009112813,-0.19260194018330173,-0.28960396535491445,-0.38371236343503057,-0.4739868344181481,-0.5595253856309882,-0.6394733441450939,-0.7130318963862962,-0.7794660696158047,-0.8381120755349393,-0.8883839426383546,-0.9297793710476092,-0.9618847513255586,-0.9843792971250844,-0.997038250380271,-0.9997351270146861,-0.9924429807284667,-0.9752346722368396,-0.9482821412699473,-0.9118546886078871,-0.8663162853163362,-0.8121219360680021,-0.7498131328862885,-0.6800124447360529,-0.603417297020244,-0.5207930031358368,-0.43296511771538676,-0.34081118795795157,-0.24525198546765434,-0.1472423062080925,-0.04776143049672075,0.052196661640330246,0.15163322198820756,0.24955471330524379,0.344982736418755,0.4369638060661144,0.5245788778042787,0.6069525307981571,0.683261714736121,0.7527439734767368,0.814705063258458,0.868525889353781,0.9136686918591765,0.9496824188142243,0.9762072329637521,0.9929781071327172,0.9998274722901326,0.9966868918434463,0.9835877454343449,0.960660915403746,0.9281354790587077,0.8863364198077192,0.8356813800338723,0.7766764881502718,0.709911301532188,0.6360529158546612,0.5558392996930657,0.47007192098496936,0.3796077390275217,0.2853506420233468,0.18824241572844258,0.08925333344026325,-0.01062753865243582,-0.11040222389190282,-0.20907380660436528,-0.30565639295186264,-0.39918496165754186,-0.4887250061793565,-0.5733818719904229,-0.6523096956714092,-0.7247198564981747,-0.7898888560793348,-0.8471655473131,-0.8959776404338033,-0.9358374211421241,-0.9663466236851204,-0.9872004101959753,-0.9981904165332236,-0.9992068341863537,-0.9902395074461606,-0.9713780348772248,-0.9428108740786868,-0.9048234586781893,-0.857795346373455,-0.8021964265172008,-0.7385822251380614,-0.6675883543081758,-0.5899241613174027,-0.5063656411097588],\\\"type\\\":\\\"scatter\\\",\\\"name\\\":\\\"solution\\\",\\\"x\\\":[0.0,0.1,0.2,0.3,0.4,0.5,0.6,0.7,0.8,0.9,1.0,1.1,1.2,1.3,1.4,1.5,1.6,1.7,1.8,1.9,2.0,2.1,2.2,2.3,2.4,2.5,2.6,2.7,2.8,2.9,3.0,3.1,3.2,3.3,3.4,3.5,3.6,3.7,3.8,3.9,4.0,4.1,4.2,4.3,4.4,4.5,4.6,4.7,4.8,4.9,5.0,5.1,5.2,5.3,5.4,5.5,5.6,5.7,5.8,5.9,6.0,6.1,6.2,6.3,6.4,6.5,6.6,6.7,6.8,6.9,7.0,7.1,7.2,7.3,7.4,7.5,7.6,7.7,7.8,7.9,8.0,8.1,8.2,8.3,8.4,8.5,8.6,8.7,8.8,8.9,9.0,9.1,9.2,9.3,9.4,9.5,9.6,9.7,9.8,9.9,10.0,10.1,10.2,10.3,10.4,10.5,10.6,10.7,10.8,10.9,11.0,11.1,11.2,11.3,11.4,11.5,11.6,11.7,11.8,11.9,12.0,12.1,12.2,12.3,12.4,12.5,12.6,12.7,12.8,12.9,13.0,13.1,13.2,13.3,13.4,13.5,13.6,13.7,13.8,13.9,14.0,14.1,14.2,14.3,14.4,14.5,14.6,14.7,14.8,14.9,15.0,15.1,15.2,15.3,15.4,15.5,15.6,15.7,15.8,15.9,16.0,16.1,16.2,16.3,16.4,16.5,16.6,16.7,16.8,16.9,17.0,17.1,17.2,17.3,17.4,17.5,17.6,17.7,17.8,17.9,18.0,18.1,18.2,18.3,18.4,18.5,18.6,18.7,18.8,18.9,19.0,19.1,19.2,19.3,19.4,19.5,19.6,19.7,19.8,19.9,20.0,20.1,20.2,20.3,20.4,20.5,20.6,20.7,20.8,20.9,21.0,21.1,21.2,21.3,21.4,21.5,21.6,21.7,21.8,21.9,22.0,22.1,22.2,22.3,22.4,22.5,22.6,22.7,22.8,22.9,23.0,23.1,23.2,23.3,23.4,23.5,23.6,23.7,23.8,23.9,24.0,24.1,24.2,24.3,24.4,24.5,24.6,24.7,24.8,24.9,25.0,25.1,25.2,25.3,25.4,25.5,25.6,25.7,25.8,25.9,26.0,26.1,26.2,26.3,26.4,26.5,26.6,26.7,26.8,26.9,27.0,27.1,27.2,27.3,27.4,27.5,27.6,27.7,27.8,27.9,28.0,28.1,28.2,28.3,28.4,28.5,28.6,28.7,28.8,28.9,29.0,29.1,29.2,29.3,29.4,29.5,29.6,29.7,29.8,29.9,30.0,30.1,30.2,30.3,30.4,30.5,30.6,30.7,30.8,30.9,31.0,31.1,31.2,31.3,31.4,31.5,31.6,31.7,31.8,31.9,32.0,32.1,32.2,32.3,32.4,32.5,32.6,32.7,32.8,32.9,33.0,33.1,33.2,33.3,33.4,33.5,33.6,33.7,33.8,33.9,34.0,34.1,34.2,34.3,34.4,34.5,34.6,34.7,34.8,34.9,35.0,35.1,35.2,35.3,35.4,35.5,35.6,35.7,35.8,35.9,36.0,36.1,36.2,36.3,36.4,36.5,36.6,36.7,36.8,36.9,37.0,37.1,37.2,37.3,37.4,37.5,37.6,37.7,37.8,37.9,38.0,38.1,38.2,38.3,38.4,38.5,38.6,38.7,38.8,38.9,39.0,39.1,39.2,39.3,39.4,39.5,39.6,39.7,39.8,39.9,40.0,40.1,40.2,40.3,40.4,40.5,40.6,40.7,40.8,40.9,41.0,41.1,41.2,41.3,41.4,41.5,41.6,41.7,41.8,41.9,42.0,42.1,42.2,42.3,42.4,42.5,42.6,42.7,42.8,42.9,43.0,43.1,43.2,43.3,43.4,43.5,43.6,43.7,43.8,43.9,44.0,44.1,44.2,44.3,44.4,44.5,44.6,44.7,44.8,44.9,45.0,45.1,45.2,45.3,45.4,45.5,45.6,45.7,45.8,45.9,46.0,46.1,46.2,46.3,46.4,46.5,46.6,46.7,46.8,46.9,47.0,47.1,47.2,47.3,47.4,47.5,47.6,47.7,47.8,47.9,48.0,48.1,48.2,48.3,48.4,48.5,48.6,48.7,48.8,48.9,49.0,49.1,49.2,49.3,49.4,49.5,49.6,49.7,49.8,49.9,50.0,50.1,50.2,50.3,50.4,50.5,50.6,50.7,50.8,50.9,51.0,51.1,51.2,51.3,51.4,51.5,51.6,51.7,51.8,51.9,52.0,52.1,52.2,52.3,52.4,52.5,52.6,52.7,52.8,52.9,53.0,53.1,53.2,53.3,53.4,53.5,53.6,53.7,53.8,53.9,54.0,54.1,54.2,54.3,54.4,54.5,54.6,54.7,54.8,54.9,55.0,55.1,55.2,55.3,55.4,55.5,55.6,55.7,55.8,55.9,56.0,56.1,56.2,56.3,56.4,56.5,56.6,56.7,56.8,56.9,57.0,57.1,57.2,57.3,57.4,57.5,57.6,57.7,57.8,57.9,58.0,58.1,58.2,58.3,58.4,58.5,58.6,58.7,58.8,58.9,59.0,59.1,59.2,59.3,59.4,59.5,59.6,59.7,59.8,59.9,60.0,60.1,60.2,60.3,60.4,60.5,60.6,60.7,60.8,60.9,61.0,61.1,61.2,61.3,61.4,61.5,61.6,61.7,61.8,61.9,62.0,62.1,62.2,62.3,62.4,62.5,62.6,62.7,62.8,62.9,63.0,63.1,63.2,63.3,63.4,63.5,63.6,63.7,63.8,63.9,64.0,64.1,64.2,64.3,64.4,64.5,64.6,64.7,64.8,64.9,65.0,65.1,65.2,65.3,65.4,65.5,65.6,65.7,65.8,65.9,66.0,66.1,66.2,66.3,66.4,66.5,66.6,66.7,66.8,66.9,67.0,67.1,67.2,67.3,67.4,67.5,67.6,67.7,67.8,67.9,68.0,68.1,68.2,68.3,68.4,68.5,68.6,68.7,68.8,68.9,69.0,69.1,69.2,69.3,69.4,69.5,69.6,69.7,69.8,69.9,70.0,70.1,70.2,70.3,70.4,70.5,70.6,70.7,70.8,70.9,71.0,71.1,71.2,71.3,71.4,71.5,71.6,71.7,71.8,71.9,72.0,72.1,72.2,72.3,72.4,72.5,72.6,72.7,72.8,72.9,73.0,73.1,73.2,73.3,73.4,73.5,73.6,73.7,73.8,73.9,74.0,74.1,74.2,74.3,74.4,74.5,74.6,74.7,74.8,74.9,75.0,75.1,75.2,75.3,75.4,75.5,75.6,75.7,75.8,75.9,76.0,76.1,76.2,76.3,76.4,76.5,76.6,76.7,76.8,76.9,77.0,77.1,77.2,77.3,77.4,77.5,77.6,77.7,77.8,77.9,78.0,78.1,78.2,78.3,78.4,78.5,78.6,78.7,78.8,78.9,79.0,79.1,79.2,79.3,79.4,79.5,79.6,79.7,79.8,79.9,80.0,80.1,80.2,80.3,80.4,80.5,80.6,80.7,80.8,80.9,81.0,81.1,81.2,81.3,81.4,81.5,81.6,81.7,81.8,81.9,82.0,82.1,82.2,82.3,82.4,82.5,82.6,82.7,82.8,82.9,83.0,83.1,83.2,83.3,83.4,83.5,83.6,83.7,83.8,83.9,84.0,84.1,84.2,84.3,84.4,84.5,84.6,84.7,84.8,84.9,85.0,85.1,85.2,85.3,85.4,85.5,85.6,85.7,85.8,85.9,86.0,86.1,86.2,86.3,86.4,86.5,86.6,86.7,86.8,86.9,87.0,87.1,87.2,87.3,87.4,87.5,87.6,87.7,87.8,87.9,88.0,88.1,88.2,88.3,88.4,88.5,88.6,88.7,88.8,88.9,89.0,89.1,89.2,89.3,89.4,89.5,89.6,89.7,89.8,89.9,90.0,90.1,90.2,90.3,90.4,90.5,90.6,90.7,90.8,90.9,91.0,91.1,91.2,91.3,91.4,91.5,91.6,91.7,91.8,91.9,92.0,92.1,92.2,92.3,92.4,92.5,92.6,92.7,92.8,92.9,93.0,93.1,93.2,93.3,93.4,93.5,93.6,93.7,93.8,93.9,94.0,94.1,94.2,94.3,94.4,94.5,94.6,94.7,94.8,94.9,95.0,95.1,95.2,95.3,95.4,95.5,95.6,95.7,95.8,95.9,96.0,96.1,96.2,96.3,96.4,96.5,96.6,96.7,96.8,96.9,97.0,97.1,97.2,97.3,97.4,97.5,97.6,97.7,97.8,97.9,98.0,98.1,98.2,98.3,98.4,98.5,98.6,98.7,98.8,98.9,99.0,99.1,99.2,99.3,99.4,99.5,99.6,99.7,99.8,99.9,100.0]}],{\\\"template\\\":{\\\"layout\\\":{\\\"coloraxis\\\":{\\\"colorbar\\\":{\\\"ticks\\\":\\\"\\\",\\\"outlinewidth\\\":0}},\\\"xaxis\\\":{\\\"gridcolor\\\":\\\"white\\\",\\\"zerolinewidth\\\":2,\\\"title\\\":{\\\"standoff\\\":15},\\\"ticks\\\":\\\"\\\",\\\"zerolinecolor\\\":\\\"white\\\",\\\"automargin\\\":true,\\\"linecolor\\\":\\\"white\\\"},\\\"hovermode\\\":\\\"closest\\\",\\\"paper_bgcolor\\\":\\\"white\\\",\\\"geo\\\":{\\\"showlakes\\\":true,\\\"showland\\\":true,\\\"landcolor\\\":\\\"#E5ECF6\\\",\\\"bgcolor\\\":\\\"white\\\",\\\"subunitcolor\\\":\\\"white\\\",\\\"lakecolor\\\":\\\"white\\\"},\\\"colorscale\\\":{\\\"sequential\\\":[[0.0,\\\"#0d0887\\\"],[0.1111111111111111,\\\"#46039f\\\"],[0.2222222222222222,\\\"#7201a8\\\"],[0.3333333333333333,\\\"#9c179e\\\"],[0.4444444444444444,\\\"#bd3786\\\"],[0.5555555555555556,\\\"#d8576b\\\"],[0.6666666666666666,\\\"#ed7953\\\"],[0.7777777777777778,\\\"#fb9f3a\\\"],[0.8888888888888888,\\\"#fdca26\\\"],[1.0,\\\"#f0f921\\\"]],\\\"diverging\\\":[[0,\\\"#8e0152\\\"],[0.1,\\\"#c51b7d\\\"],[0.2,\\\"#de77ae\\\"],[0.3,\\\"#f1b6da\\\"],[0.4,\\\"#fde0ef\\\"],[0.5,\\\"#f7f7f7\\\"],[0.6,\\\"#e6f5d0\\\"],[0.7,\\\"#b8e186\\\"],[0.8,\\\"#7fbc41\\\"],[0.9,\\\"#4d9221\\\"],[1,\\\"#276419\\\"]],\\\"sequentialminus\\\":[[0.0,\\\"#0d0887\\\"],[0.1111111111111111,\\\"#46039f\\\"],[0.2222222222222222,\\\"#7201a8\\\"],[0.3333333333333333,\\\"#9c179e\\\"],[0.4444444444444444,\\\"#bd3786\\\"],[0.5555555555555556,\\\"#d8576b\\\"],[0.6666666666666666,\\\"#ed7953\\\"],[0.7777777777777778,\\\"#fb9f3a\\\"],[0.8888888888888888,\\\"#fdca26\\\"],[1.0,\\\"#f0f921\\\"]]},\\\"yaxis\\\":{\\\"gridcolor\\\":\\\"white\\\",\\\"zerolinewidth\\\":2,\\\"title\\\":{\\\"standoff\\\":15},\\\"ticks\\\":\\\"\\\",\\\"zerolinecolor\\\":\\\"white\\\",\\\"automargin\\\":true,\\\"linecolor\\\":\\\"white\\\"},\\\"shapedefaults\\\":{\\\"line\\\":{\\\"color\\\":\\\"#2a3f5f\\\"}},\\\"hoverlabel\\\":{\\\"align\\\":\\\"left\\\"},\\\"mapbox\\\":{\\\"style\\\":\\\"light\\\"},\\\"polar\\\":{\\\"angularaxis\\\":{\\\"gridcolor\\\":\\\"white\\\",\\\"ticks\\\":\\\"\\\",\\\"linecolor\\\":\\\"white\\\"},\\\"bgcolor\\\":\\\"#E5ECF6\\\",\\\"radialaxis\\\":{\\\"gridcolor\\\":\\\"white\\\",\\\"ticks\\\":\\\"\\\",\\\"linecolor\\\":\\\"white\\\"}},\\\"autotypenumbers\\\":\\\"strict\\\",\\\"font\\\":{\\\"color\\\":\\\"#2a3f5f\\\"},\\\"ternary\\\":{\\\"baxis\\\":{\\\"gridcolor\\\":\\\"white\\\",\\\"ticks\\\":\\\"\\\",\\\"linecolor\\\":\\\"white\\\"},\\\"bgcolor\\\":\\\"#E5ECF6\\\",\\\"caxis\\\":{\\\"gridcolor\\\":\\\"white\\\",\\\"ticks\\\":\\\"\\\",\\\"linecolor\\\":\\\"white\\\"},\\\"aaxis\\\":{\\\"gridcolor\\\":\\\"white\\\",\\\"ticks\\\":\\\"\\\",\\\"linecolor\\\":\\\"white\\\"}},\\\"annotationdefaults\\\":{\\\"arrowhead\\\":0,\\\"arrowwidth\\\":1,\\\"arrowcolor\\\":\\\"#2a3f5f\\\"},\\\"plot_bgcolor\\\":\\\"#E5ECF6\\\",\\\"title\\\":{\\\"x\\\":0.05},\\\"scene\\\":{\\\"xaxis\\\":{\\\"gridcolor\\\":\\\"white\\\",\\\"gridwidth\\\":2,\\\"backgroundcolor\\\":\\\"#E5ECF6\\\",\\\"ticks\\\":\\\"\\\",\\\"showbackground\\\":true,\\\"zerolinecolor\\\":\\\"white\\\",\\\"linecolor\\\":\\\"white\\\"},\\\"zaxis\\\":{\\\"gridcolor\\\":\\\"white\\\",\\\"gridwidth\\\":2,\\\"backgroundcolor\\\":\\\"#E5ECF6\\\",\\\"ticks\\\":\\\"\\\",\\\"showbackground\\\":true,\\\"zerolinecolor\\\":\\\"white\\\",\\\"linecolor\\\":\\\"white\\\"},\\\"yaxis\\\":{\\\"gridcolor\\\":\\\"white\\\",\\\"gridwidth\\\":2,\\\"backgroundcolor\\\":\\\"#E5ECF6\\\",\\\"ticks\\\":\\\"\\\",\\\"showbackground\\\":true,\\\"zerolinecolor\\\":\\\"white\\\",\\\"linecolor\\\":\\\"white\\\"}},\\\"colorway\\\":[\\\"#636efa\\\",\\\"#EF553B\\\",\\\"#00cc96\\\",\\\"#ab63fa\\\",\\\"#FFA15A\\\",\\\"#19d3f3\\\",\\\"#FF6692\\\",\\\"#B6E880\\\",\\\"#FF97FF\\\",\\\"#FECB52\\\"]},\\\"data\\\":{\\\"barpolar\\\":[{\\\"type\\\":\\\"barpolar\\\",\\\"marker\\\":{\\\"line\\\":{\\\"color\\\":\\\"#E5ECF6\\\",\\\"width\\\":0.5}}}],\\\"carpet\\\":[{\\\"aaxis\\\":{\\\"gridcolor\\\":\\\"white\\\",\\\"endlinecolor\\\":\\\"#2a3f5f\\\",\\\"minorgridcolor\\\":\\\"white\\\",\\\"startlinecolor\\\":\\\"#2a3f5f\\\",\\\"linecolor\\\":\\\"white\\\"},\\\"type\\\":\\\"carpet\\\",\\\"baxis\\\":{\\\"gridcolor\\\":\\\"white\\\",\\\"endlinecolor\\\":\\\"#2a3f5f\\\",\\\"minorgridcolor\\\":\\\"white\\\",\\\"startlinecolor\\\":\\\"#2a3f5f\\\",\\\"linecolor\\\":\\\"white\\\"}}],\\\"scatterpolar\\\":[{\\\"type\\\":\\\"scatterpolar\\\",\\\"marker\\\":{\\\"colorbar\\\":{\\\"ticks\\\":\\\"\\\",\\\"outlinewidth\\\":0}}}],\\\"parcoords\\\":[{\\\"line\\\":{\\\"colorbar\\\":{\\\"ticks\\\":\\\"\\\",\\\"outlinewidth\\\":0}},\\\"type\\\":\\\"parcoords\\\"}],\\\"scatter\\\":[{\\\"type\\\":\\\"scatter\\\",\\\"marker\\\":{\\\"colorbar\\\":{\\\"ticks\\\":\\\"\\\",\\\"outlinewidth\\\":0}}}],\\\"histogram2dcontour\\\":[{\\\"colorbar\\\":{\\\"ticks\\\":\\\"\\\",\\\"outlinewidth\\\":0},\\\"type\\\":\\\"histogram2dcontour\\\",\\\"colorscale\\\":[[0.0,\\\"#0d0887\\\"],[0.1111111111111111,\\\"#46039f\\\"],[0.2222222222222222,\\\"#7201a8\\\"],[0.3333333333333333,\\\"#9c179e\\\"],[0.4444444444444444,\\\"#bd3786\\\"],[0.5555555555555556,\\\"#d8576b\\\"],[0.6666666666666666,\\\"#ed7953\\\"],[0.7777777777777778,\\\"#fb9f3a\\\"],[0.8888888888888888,\\\"#fdca26\\\"],[1.0,\\\"#f0f921\\\"]]}],\\\"contour\\\":[{\\\"colorbar\\\":{\\\"ticks\\\":\\\"\\\",\\\"outlinewidth\\\":0},\\\"type\\\":\\\"contour\\\",\\\"colorscale\\\":[[0.0,\\\"#0d0887\\\"],[0.1111111111111111,\\\"#46039f\\\"],[0.2222222222222222,\\\"#7201a8\\\"],[0.3333333333333333,\\\"#9c179e\\\"],[0.4444444444444444,\\\"#bd3786\\\"],[0.5555555555555556,\\\"#d8576b\\\"],[0.6666666666666666,\\\"#ed7953\\\"],[0.7777777777777778,\\\"#fb9f3a\\\"],[0.8888888888888888,\\\"#fdca26\\\"],[1.0,\\\"#f0f921\\\"]]}],\\\"scattercarpet\\\":[{\\\"type\\\":\\\"scattercarpet\\\",\\\"marker\\\":{\\\"colorbar\\\":{\\\"ticks\\\":\\\"\\\",\\\"outlinewidth\\\":0}}}],\\\"mesh3d\\\":[{\\\"colorbar\\\":{\\\"ticks\\\":\\\"\\\",\\\"outlinewidth\\\":0},\\\"type\\\":\\\"mesh3d\\\"}],\\\"surface\\\":[{\\\"colorbar\\\":{\\\"ticks\\\":\\\"\\\",\\\"outlinewidth\\\":0},\\\"type\\\":\\\"surface\\\",\\\"colorscale\\\":[[0.0,\\\"#0d0887\\\"],[0.1111111111111111,\\\"#46039f\\\"],[0.2222222222222222,\\\"#7201a8\\\"],[0.3333333333333333,\\\"#9c179e\\\"],[0.4444444444444444,\\\"#bd3786\\\"],[0.5555555555555556,\\\"#d8576b\\\"],[0.6666666666666666,\\\"#ed7953\\\"],[0.7777777777777778,\\\"#fb9f3a\\\"],[0.8888888888888888,\\\"#fdca26\\\"],[1.0,\\\"#f0f921\\\"]]}],\\\"scattermapbox\\\":[{\\\"type\\\":\\\"scattermapbox\\\",\\\"marker\\\":{\\\"colorbar\\\":{\\\"ticks\\\":\\\"\\\",\\\"outlinewidth\\\":0}}}],\\\"scattergeo\\\":[{\\\"type\\\":\\\"scattergeo\\\",\\\"marker\\\":{\\\"colorbar\\\":{\\\"ticks\\\":\\\"\\\",\\\"outlinewidth\\\":0}}}],\\\"histogram\\\":[{\\\"type\\\":\\\"histogram\\\",\\\"marker\\\":{\\\"colorbar\\\":{\\\"ticks\\\":\\\"\\\",\\\"outlinewidth\\\":0}}}],\\\"pie\\\":[{\\\"type\\\":\\\"pie\\\",\\\"automargin\\\":true}],\\\"choropleth\\\":[{\\\"colorbar\\\":{\\\"ticks\\\":\\\"\\\",\\\"outlinewidth\\\":0},\\\"type\\\":\\\"choropleth\\\"}],\\\"heatmapgl\\\":[{\\\"colorbar\\\":{\\\"ticks\\\":\\\"\\\",\\\"outlinewidth\\\":0},\\\"type\\\":\\\"heatmapgl\\\",\\\"colorscale\\\":[[0.0,\\\"#0d0887\\\"],[0.1111111111111111,\\\"#46039f\\\"],[0.2222222222222222,\\\"#7201a8\\\"],[0.3333333333333333,\\\"#9c179e\\\"],[0.4444444444444444,\\\"#bd3786\\\"],[0.5555555555555556,\\\"#d8576b\\\"],[0.6666666666666666,\\\"#ed7953\\\"],[0.7777777777777778,\\\"#fb9f3a\\\"],[0.8888888888888888,\\\"#fdca26\\\"],[1.0,\\\"#f0f921\\\"]]}],\\\"bar\\\":[{\\\"type\\\":\\\"bar\\\",\\\"error_y\\\":{\\\"color\\\":\\\"#2a3f5f\\\"},\\\"error_x\\\":{\\\"color\\\":\\\"#2a3f5f\\\"},\\\"marker\\\":{\\\"line\\\":{\\\"color\\\":\\\"#E5ECF6\\\",\\\"width\\\":0.5}}}],\\\"heatmap\\\":[{\\\"colorbar\\\":{\\\"ticks\\\":\\\"\\\",\\\"outlinewidth\\\":0},\\\"type\\\":\\\"heatmap\\\",\\\"colorscale\\\":[[0.0,\\\"#0d0887\\\"],[0.1111111111111111,\\\"#46039f\\\"],[0.2222222222222222,\\\"#7201a8\\\"],[0.3333333333333333,\\\"#9c179e\\\"],[0.4444444444444444,\\\"#bd3786\\\"],[0.5555555555555556,\\\"#d8576b\\\"],[0.6666666666666666,\\\"#ed7953\\\"],[0.7777777777777778,\\\"#fb9f3a\\\"],[0.8888888888888888,\\\"#fdca26\\\"],[1.0,\\\"#f0f921\\\"]]}],\\\"contourcarpet\\\":[{\\\"colorbar\\\":{\\\"ticks\\\":\\\"\\\",\\\"outlinewidth\\\":0},\\\"type\\\":\\\"contourcarpet\\\"}],\\\"table\\\":[{\\\"type\\\":\\\"table\\\",\\\"header\\\":{\\\"line\\\":{\\\"color\\\":\\\"white\\\"},\\\"fill\\\":{\\\"color\\\":\\\"#C8D4E3\\\"}},\\\"cells\\\":{\\\"line\\\":{\\\"color\\\":\\\"white\\\"},\\\"fill\\\":{\\\"color\\\":\\\"#EBF0F8\\\"}}}],\\\"scatter3d\\\":[{\\\"line\\\":{\\\"colorbar\\\":{\\\"ticks\\\":\\\"\\\",\\\"outlinewidth\\\":0}},\\\"type\\\":\\\"scatter3d\\\",\\\"marker\\\":{\\\"colorbar\\\":{\\\"ticks\\\":\\\"\\\",\\\"outlinewidth\\\":0}}}],\\\"scattergl\\\":[{\\\"type\\\":\\\"scattergl\\\",\\\"marker\\\":{\\\"colorbar\\\":{\\\"ticks\\\":\\\"\\\",\\\"outlinewidth\\\":0}}}],\\\"histogram2d\\\":[{\\\"colorbar\\\":{\\\"ticks\\\":\\\"\\\",\\\"outlinewidth\\\":0},\\\"type\\\":\\\"histogram2d\\\",\\\"colorscale\\\":[[0.0,\\\"#0d0887\\\"],[0.1111111111111111,\\\"#46039f\\\"],[0.2222222222222222,\\\"#7201a8\\\"],[0.3333333333333333,\\\"#9c179e\\\"],[0.4444444444444444,\\\"#bd3786\\\"],[0.5555555555555556,\\\"#d8576b\\\"],[0.6666666666666666,\\\"#ed7953\\\"],[0.7777777777777778,\\\"#fb9f3a\\\"],[0.8888888888888888,\\\"#fdca26\\\"],[1.0,\\\"#f0f921\\\"]]}],\\\"scatterternary\\\":[{\\\"type\\\":\\\"scatterternary\\\",\\\"marker\\\":{\\\"colorbar\\\":{\\\"ticks\\\":\\\"\\\",\\\"outlinewidth\\\":0}}}],\\\"scatterpolargl\\\":[{\\\"type\\\":\\\"scatterpolargl\\\",\\\"marker\\\":{\\\"colorbar\\\":{\\\"ticks\\\":\\\"\\\",\\\"outlinewidth\\\":0}}}]}},\\\"margin\\\":{\\\"l\\\":50,\\\"b\\\":50,\\\"r\\\":50,\\\"t\\\":60}},{\\\"showLink\\\":false,\\\"editable\\\":false,\\\"responsive\\\":true,\\\"staticPlot\\\":false,\\\"scrollZoom\\\":true}); gd.on(\\\"plotly_hover\\\",(function (data){var filtered_data=WebIO.PlotlyCommands.filterEventData(gd,data,\\\"hover\\\"); return !(filtered_data.isnil) ? (WebIO.setval({\\\"name\\\":\\\"hover\\\",\\\"scope\\\":\\\"7313044364874032400\\\",\\\"id\\\":\\\"2977534515535875636\\\",\\\"type\\\":\\\"observable\\\"},filtered_data.out)) : undefined})); gd.on(\\\"plotly_unhover\\\",(function (){return WebIO.setval({\\\"name\\\":\\\"hover\\\",\\\"scope\\\":\\\"7313044364874032400\\\",\\\"id\\\":\\\"2977534515535875636\\\",\\\"type\\\":\\\"observable\\\"},{})})); gd.on(\\\"plotly_selected\\\",(function (data){var filtered_data=WebIO.PlotlyCommands.filterEventData(gd,data,\\\"selected\\\"); return !(filtered_data.isnil) ? (WebIO.setval({\\\"name\\\":\\\"selected\\\",\\\"scope\\\":\\\"7313044364874032400\\\",\\\"id\\\":\\\"10617788912087225676\\\",\\\"type\\\":\\\"observable\\\"},filtered_data.out)) : undefined})); gd.on(\\\"plotly_deselect\\\",(function (){return WebIO.setval({\\\"name\\\":\\\"selected\\\",\\\"scope\\\":\\\"7313044364874032400\\\",\\\"id\\\":\\\"10617788912087225676\\\",\\\"type\\\":\\\"observable\\\"},{})})); gd.on(\\\"plotly_relayout\\\",(function (data){var filtered_data=WebIO.PlotlyCommands.filterEventData(gd,data,\\\"relayout\\\"); return !(filtered_data.isnil) ? (WebIO.setval({\\\"name\\\":\\\"relayout\\\",\\\"scope\\\":\\\"7313044364874032400\\\",\\\"id\\\":\\\"8948567848305150567\\\",\\\"type\\\":\\\"observable\\\"},filtered_data.out)) : undefined})); return gd.on(\\\"plotly_click\\\",(function (data){var filtered_data=WebIO.PlotlyCommands.filterEventData(gd,data,\\\"click\\\"); return !(filtered_data.isnil) ? (WebIO.setval({\\\"name\\\":\\\"click\\\",\\\"scope\\\":\\\"7313044364874032400\\\",\\\"id\\\":\\\"2222285656011615528\\\",\\\"type\\\":\\\"observable\\\"},filtered_data.out)) : undefined}))}));\\n    (WebIO.importBlock({\\\"data\\\":[{\\\"name\\\":\\\"Plotly\\\",\\\"type\\\":\\\"js\\\",\\\"url\\\":\\\"\\/assetserver\\/5b0bcbbb362c204ec77e728ffa8c7da4be28ce8a-plotly.min.js\\\"},{\\\"name\\\":null,\\\"type\\\":\\\"js\\\",\\\"url\\\":\\\"\\/assetserver\\/6303ac4e25f5217851dbb12ecf3059151c237374-plotly_webio.bundle.js\\\"}],\\\"type\\\":\\\"async_block\\\"})).then((imports) => handler.apply(this, imports));\\n}\\n\"],\"observables\":{\"_toImage\":{\"sync\":false,\"id\":\"13368183582001003686\",\"value\":{}},\"hover\":{\"sync\":false,\"id\":\"2977534515535875636\",\"value\":{}},\"selected\":{\"sync\":false,\"id\":\"10617788912087225676\",\"value\":{}},\"__gd_contents\":{\"sync\":false,\"id\":\"15469408640052697495\",\"value\":{}},\"click\":{\"sync\":false,\"id\":\"2222285656011615528\",\"value\":{}},\"image\":{\"sync\":true,\"id\":\"16788390254000145843\",\"value\":\"\"},\"__get_gd_contents\":{\"sync\":false,\"id\":\"3376067249831592654\",\"value\":\"\"},\"_downloadImage\":{\"sync\":false,\"id\":\"5050208183621140108\",\"value\":{}},\"relayout\":{\"sync\":false,\"id\":\"8948567848305150567\",\"value\":{}},\"_commands\":{\"sync\":false,\"id\":\"6836762406750286219\",\"value\":[]}}},\"children\":[{\"props\":{\"id\":\"plot-e6f5e4a9-d614-44e4-a907-0a7484bdf727\"},\"nodeType\":\"DOM\",\"type\":\"node\",\"instanceArgs\":{\"namespace\":\"html\",\"tag\":\"div\"},\"children\":[]}]},\n",
       "        window,\n",
       "    );\n",
       "    })()\n",
       "    </script>\n",
       "</div>\n"
      ],
      "text/plain": [
       "data: [\n",
       "  \"scatter with fields mode, name, type, x, and y\",\n",
       "  \"scatter with fields mode, name, type, x, and y\"\n",
       "]\n",
       "\n",
       "layout: \"layout with fields margin and template\"\n",
       "\n"
      ]
     },
     "execution_count": 205,
     "metadata": {},
     "output_type": "execute_result"
    }
   ],
   "source": [
    "estimate = scatter(x=t, y=x, mode=\"lines\",name=\"estimate\")\n",
    "solution = scatter(x=real_t, y=x_sol, mode=\"lines\",name=\"solution\")\n",
    "plot([estimate, solution])"
   ]
  },
  {
   "cell_type": "markdown",
   "metadata": {},
   "source": [
    "Plot of solution and estimate for x versus x_dot"
   ]
  },
  {
   "cell_type": "code",
   "execution_count": 206,
   "metadata": {},
   "outputs": [
    {
     "data": {
      "application/vnd.plotly.v1+json": {
       "config": {
        "editable": false,
        "responsive": true,
        "scrollZoom": true,
        "showLink": false,
        "staticPlot": false
       },
       "data": [
        {
         "mode": "lines",
         "name": "estimate",
         "type": "scatter",
         "x": [
          0,
          -0.9092974268256449,
          0.7568024953081244,
          0.27941549819929723,
          -0.9893582466235391,
          0.5440211108893888,
          0.5365729179994972,
          -0.9906073556951729,
          0.2879033166682231,
          0.7509872467711254,
          -0.9129452507269681,
          0.008851309286319664,
          0.9055783620094019,
          -0.7625584504737807,
          -0.2709057883189061,
          0.988031624095014,
          -0.5514266812280236,
          -0.5290826861299903,
          0.9917788534422137,
          -0.2963685787070467,
          -0.745113160477891,
          0.9165215479183774,
          -0.017701925116896933,
          -0.9017883476418459,
          0.7682546613369685,
          0.2623748536794029,
          -0.986627592035593,
          0.5587890488804036,
          0.5215510020533382,
          -0.9928726480897868,
          0.3048106211485465,
          0.7391806966133401,
          -0.9200260382195007,
          0.02655115407231506,
          0.8979276806722258,
          -0.7738906815764115,
          -0.25382336274301537,
          0.9851462604665217,
          -0.5661076368986256,
          -0.5139784559952862,
          0.9938886539213285,
          -0.31322878240633856,
          -0.7331903200989552,
          0.9234584469859167,
          -0.03539830267683219,
          -0.8939966636303299,
          0.7794660695682031,
          0.24525198555060518,
          -0.9835877454515191,
          0.5733818719046543,
          0.5063656412082905
         ],
         "y": [
          1,
          -0.4161468365472273,
          -0.653643620863388,
          0.9601702866502594,
          -0.14550003380755466,
          -0.8390715290764418,
          0.8438539587330892,
          0.13673721820565085,
          -0.9576594803224384,
          0.6603167082447104,
          0.40808206181487516,
          -0.9999608263946755,
          0.42417900733107056,
          0.6469193223355086,
          -0.9626058663104664,
          0.1542514498738266,
          0.8342233605155494,
          -0.8485702747783992,
          -0.12796368963444235,
          0.9550736440480274,
          -0.6669380616539017,
          -0.3999853149820836,
          0.9998433086474944,
          -0.4321779448993259,
          -0.6401443394532446,
          0.9649660284987878,
          -0.16299078082536725,
          -0.8293098328437633,
          0.8532201077431133,
          0.11918013540513604,
          -0.9524129804003371,
          0.6735071623629802,
          0.3918572303762558,
          -0.999647455965077,
          0.4401430225308837,
          0.6333192030636837,
          -0.9672505882788863,
          0.17171734184072968,
          0.824331331107261,
          -0.8578030932403501,
          -0.11038724385753343,
          0.9496776978913717,
          -0.6800234955596779,
          -0.38369844499342187,
          0.999373283697144,
          -0.44807361606978485,
          -0.6264444479695809,
          0.9694593666490131,
          -0.18043044919751822,
          -0.8192882453514959,
          0.8623188722298338
         ]
        },
        {
         "mode": "lines",
         "name": "solution",
         "type": "scatter",
         "x": [
          1,
          0.9950041652780258,
          0.9800665778412416,
          0.955336489125606,
          0.9210609940028851,
          0.8775825618903728,
          0.8253356149096783,
          0.7648421872844885,
          0.6967067093471654,
          0.6216099682706644,
          0.5403023058681398,
          0.4535961214255773,
          0.3623577544766736,
          0.26749882862458735,
          0.16996714290024104,
          0.0707372016677029,
          -0.029199522301288815,
          -0.12884449429552464,
          -0.2272020946930871,
          -0.32328956686350335,
          -0.4161468365471424,
          -0.5048461045998576,
          -0.5885011172553458,
          -0.666276021279824,
          -0.7373937155412454,
          -0.8011436155469337,
          -0.8568887533689473,
          -0.9040721420170612,
          -0.9422223406686581,
          -0.9709581651495905,
          -0.9899924966004454,
          -0.9991351502732795,
          -0.9982947757947531,
          -0.9874797699088649,
          -0.9667981925794611,
          -0.9364566872907963,
          -0.896758416334147,
          -0.848100031710408,
          -0.7909677119144168,
          -0.7259323042001402,
          -0.6536436208636119,
          -0.5748239465332692,
          -0.4902608213406994,
          -0.40079917207997545,
          -0.30733286997841935,
          -0.2107957994307797,
          -0.11215252693505487,
          -0.01238866346289056,
          0.0874989834394464,
          0.18651236942257576,
          0.28366218546322625,
          0.37797774271298024,
          0.4685166713003771,
          0.5543743361791608,
          0.6346928759426347,
          0.70866977429126,
          0.7755658785102496,
          0.8347127848391598,
          0.8855195169413189,
          0.9274784307440359,
          0.960170286650366,
          0.9832684384425845,
          0.9965420970232175,
          0.9998586363834151,
          0.9931849187581926,
          0.9765876257280235,
          0.9502325919585296,
          0.9143831482353194,
          0.8693974903498253,
          0.8157251001253568,
          0.7539022543433046,
          0.6845466664428066,
          0.6083513145322546,
          0.5260775173811053,
          0.43854732757439036,
          0.3466353178350258,
          0.2512598425822557,
          0.15337386203786435,
          0.05395542056264975,
          -0.04600212563953695,
          -0.14550003380861354,
          -0.2435441537357911,
          -0.3391548609838345,
          -0.43137684497062084,
          -0.5192886541166856,
          -0.6020119026848236,
          -0.6787200473200125,
          -0.7486466455973987,
          -0.811093014061656,
          -0.8654352092411123,
          -0.9111302618846769,
          -0.9477216021311119,
          -0.9748436214041636,
          -0.9922253254526034,
          -0.9996930420352065,
          -0.9971721561963784,
          -0.984687855794127,
          -0.9623648798313102,
          -0.9304262721047533,
          -0.8891911526253609,
          -0.8390715290764524,
          -0.7805681801691837,
          -0.7142656520272002,
          -0.6408264175949933,
          -0.5609842574272288,
          -0.47553692799599256,
          -0.3853381907718296,
          -0.2912892817213455,
          -0.1943299064553348,
          -0.09542885100095065,
          0.004425697988050785,
          0.10423602686569688,
          0.2030048638187504,
          0.2997453432770149,
          0.3934908663478909,
          0.4833047587530059,
          0.5682896297679736,
          0.6475963386538759,
          0.7204324789908387,
          0.7860702961410393,
          0.8438539587324921,
          0.8932061115093225,
          0.9336336440746373,
          0.9647326178866098,
          0.9861923022788637,
          0.9977982791785807,
          0.9994345855010047,
          0.9910848718142532,
          0.9728325656974354,
          0.9448600381598606,
          0.9074467814501962,
          0.8609666164623065,
          0.8058839576404507,
          0.7427491727036695,
          0.6721930835534681,
          0.594920663309892,
          0.511703992453149,
          0.42337454445066547,
          0.33081487794904696,
          0.23494981853982308,
          0.1367372182078336,
          0.03715838479082641,
          -0.06279172292408176,
          -0.16211443649971827,
          -0.25981735621375585,
          -0.354924266788705,
          -0.4464848914122656,
          -0.5335843865891177,
          -0.6153524829547208,
          -0.6909721807191258,
          -0.7596879128588213,
          -0.8208130944926683,
          -0.8737369830110802,
          -0.9179307804142932,
          -0.9529529168871803,
          -0.9784534628188842,
          -0.9941776251838151,
          -0.9999682933493399,
          -0.9957676088732885,
          -0.9816175436063844,
          -0.9576594803233847,
          -0.9241328000731296,
          -0.8813724903622346,
          -0.829805798070649,
          -0.7699479605420717,
          -0.7023970575027135,
          -0.627828035246386,
          -0.5469859627942356,
          -0.46067858741136253,
          -0.36976826386317313,
          -0.27516333805159693,
          -0.17780907112311564,
          -0.07867819473184015,
          0.021238808173646012,
          0.12094359992847414,
          0.2194399632114593,
          0.31574375491924334,
          0.4088927393988798,
          0.49795620278841546,
          0.5820442524021224,
          0.6603167082440802,
          0.7319914978089467,
          0.7963524702919231,
          0.8527565521308732,
          0.9006401723847685,
          0.939524893748256,
          0.9690221929390499,
          0.9888373426941459,
          0.9987723565872102,
          0.9987279672435017,
          0.9887046181866692,
          0.9688024594072101,
          0.9392203466968708,
          0.9002538547473045,
          0.8522923238654644,
          0.7958149698139441,
          0.7313860956454967,
          0.6596494533734619,
          0.5813218118144357,
          0.4971857948712053,
          0.40808206181339196,
          0.3149009076879342,
          0.21857336778526265,
          0.12006191504242673,
          0.02035084333168298,
          -0.07956356727854007,
          -0.17868300502473455,
          -0.27601710124946705,
          -0.37059332583764143,
          -0.46146670441590937,
          -0.5477292602242684,
          -0.628519086319688,
          -0.7030289574653861,
          -0.7705143956585688,
          -0.8303011087085252,
          -0.8817917275413242,
          -0.9244717749141217,
          -0.9579148059017156,
          -0.9817866687932767,
          -0.9958488438257794,
          -0.9999608263946371,
          -0.9940815309292618,
          -0.9782697014065075,
          -0.9526833244002685,
          -0.9175780505318613,
          -0.8733046400935156,
          -0.820305458367489,
          -0.7591100556583898,
          -0.6903298762015725,
          -0.6146521488144698,
          -0.5328330203333975,
          -0.44569000044433316,
          -0.35409379339635894,
          -0.2589595982126113,
          -0.16123796432418885,
          -0.061905293994420546,
          0.03804591356977048,
          0.1376169789418758,
          0.2358130209505226,
          0.3316528972032495,
          0.424179007336997,
          0.5124668610443709,
          0.5956343152752086,
          0.6728503883183468,
          0.743343562696173,
          0.8064094939122546,
          0.8614180480287028,
          0.9078195977561953,
          0.9451505141481711,
          0.9730377990279994,
          0.9912028118634736,
          0.9994640538508954,
          0.9977389813911304,
          0.9860448308379632,
          0.9644984462781496,
          0.933315112063922,
          0.8928064017629097,
          0.843377065018043,
          0.7855209834229068,
          0.7198162358201257,
          0.6469193223286404,
          0.5675586048115439,
          0.4825270293251048,
          0.3926742032638758,
          0.2988979063644716,
          0.20213512038718198,
          0.10335266710397087,
          0.003537548134909945,
          -0.09631291684576058,
          -0.19520105499812226,
          -0.2921388087338362,
          -0.38615760806093263,
          -0.4763180482150152,
          -0.5617192758811498,
          -0.641507990222383,
          -0.7148869687796651,
          -0.7811230330551143,
          -0.8395543741892203,
          -0.8895971655362084,
          -0.9307513960668837,
          -0.9626058663135666,
          -0.9848422969392384,
          -0.9972385088794737,
          -0.9996706432822098,
          -0.9921143990644506,
          -0.9746452757206577,
          -0.9474378189567576,
          -0.9107638766871473,
          -0.8649898828201886,
          -0.8105731959717327,
          -0.7480575296890004,
          -0.6780675198445586,
          -0.6013024834811548,
          -0.5185294314669792,
          -0.43057540477663,
          -0.3383192109710552,
          -0.24268264344292018,
          -0.1446212711617233,
          -0.04511489094451135,
          0.05484226235001441,
          0.15425144988758405,
          0.2521194079266271,
          0.3474682721812599,
          0.43934534831800104,
          0.5268326309626091,
          0.6090559761063562,
          0.6851938352639869,
          0.7544854641146261,
          0.8162385236075703,
          0.8698359975852092,
          0.9147423578045313,
          0.9505089147582922,
          0.976778300832261,
          0.9932880410042931,
          0.9998731754079828,
          0.9964679075571249,
          0.983106261762453,
          0.9599217431719754,
          0.9271460038316639,
          0.8851065280947898,
          0.8342233605065102,
          0.7750049088576295,
          0.7080428643420057,
          0.6340062895737355,
          0.5536349335346549,
          0.4677318402470736,
          0.37715532502333365,
          0.28281039846293554,
          0.1856397238857913,
          0.08661419855190752,
          -0.013276747223059479,
          -0.1130350361284828,
          -0.2116639163173255,
          -0.3081779206211071,
          -0.4016127130121261,
          -0.49103472393024045,
          -0.5755504782013432,
          -0.6543155223459516,
          -0.7265428620792296,
          -0.7915108256977569,
          -0.8485702747846052,
          -0.897151090185845,
          -0.9367678684526696,
          -0.9670247718322008,
          -0.9876194833474773,
          -0.9983462274487422,
          -0.9990978260547261,
          -0.9898667694406034,
          -0.9707452912726824,
          -0.941924447040094,
          -0.9036922050915067,
          -0.856430569350572,
          -0.8006117624589936,
          -0.7367935074839925,
          -0.6656134553337595,
          -0.587782813560387,
          -0.504079240209085,
          -0.4153390737160569,
          -0.3224489764913089,
          -0.22633707568091363,
          -0.12796368962740468,
          -0.02831173268631065,
          0.07162310572917044,
          0.17084230974764966,
          0.26835451388009673,
          0.36318540841606234,
          0.45438747440426913,
          0.5410494509487578,
          0.6223054402265309,
          0.6973435592523954,
          0.7654140519453434,
          0.8258367804435001,
          0.8780080208168103,
          0.9214064952769806,
          0.9555985806128394,
          0.9802426408101081,
          0.9950924405655388,
          0.9999996055886664,
          0.9949151051086736,
          0.9798897417736435,
          0.9550736440472949,
          0.920714766174998,
          0.8771564107069181,
          0.824833798332418,
          0.7642697192987803,
          0.6960693098638897,
          0.6209140059747617,
          0.5395547345848157,
          0.45280441063998716,
          0.36152981470127576,
          0.26664293235993725,
          0.16909184197889304,
          0.0698512418071273,
          -0.030087288883017482,
          -0.12972519732818566,
          -0.22806693448309956,
          -0.3241299022175636,
          -0.41695427111217037,
          -0.5056125707565755,
          -0.5892189567272824,
          -0.6669380616522619,
          -0.737993341925624,
          -0.8016748366746302,
          -0.8573462614540484,
          -0.9044513657900166,
          -0.9425194910508831,
          -0.9711702731126902,
          -0.990117442831766,
          -0.9991716863513785,
          -0.9982425366632164,
          -0.9873392775238264,
          -0.9665708506943913,
          -0.9361447674306613,
          -0.8963650350990852,
          -0.8476291196356829,
          -0.7904239741978156,
          -0.7253211736891915,
          -0.652971203772368,
          -0.5740969614310395,
          -0.4894865320223113,
          -0.39998531498835127,
          -0.306487576904594,
          -0.20992751626372916,
          -0.11126992927317506,
          -0.011500569930264862,
          0.08838369930580556,
          0.187384867834179,
          0.2845137487043553,
          0.3787998622452124,
          0.46930113277710883,
          0.5551133015206257,
          0.6353789616514094,
          0.7092961252257328,
          0.7761262363789225,
          0.8352015507314431,
          0.8859318072699817,
          0.9278101260403985,
          0.9604180727246712,
          0.9834298394982833,
          0.996615500394315,
          0.9998433086476912,
          0.9930810130653156,
          0.9763961802693296,
          0.9499555195937606,
          0.9140232173799544,
          0.8689582973139933,
          0.8152110331806943,
          0.7533184498767937,
          0.6838989576357016,
          0.6076461730768479,
          0.5253219888177297,
          0.43774896089470705,
          0.3458020900549924,
          0.2504000790384286,
          0.15249615320336748,
          0.05306853621402457,
          -0.046889324047043116,
          -0.14637868168178253,
          -0.2444054719155097,
          -0.3399902434635718,
          -0.4321779448847783,
          -0.5200474671397309,
          -0.6027208470078607,
          -0.6793720394057057,
          -0.7492351709563533,
          -0.8116121923430246,
          -0.8658798529871259,
          -0.9114959283620049,
          -0.9480046377211832,
          -0.975041198108924,
          -0.9923354691509287,
          -0.9997146522076715,
          -0.9971050169212831,
          -0.9845326379049155,
          -0.9621231342138227,
          -0.9301004142012892,
          -0.8887844383003768,
          -0.8385880220850412,
          -0.7800127115533817,
          -0.7136437718457987,
          -0.6401443394691997,
          -0.5602487964562096,
          -0.47475543266265885,
          -0.3845184695192305,
          -0.29043952493326675,
          -0.1934586046207122,
          -0.09454470987969996,
          0.005313844350104288,
          0.10511930440367864,
          0.2038744471154807,
          0.3005925437436371,
          0.39430721903739135,
          0.48408210693916126,
          0.569020206444659,
          0.6482728441404405,
          0.7210481538680822,
          0.7866189887891044,
          0.8443301867958127,
          0.8936051166745066,
          0.9339514396139714,
          0.9649660284921133,
          0.9863389957889219,
          0.9978567898801314,
          0.9994043287744588,
          0.990966149974821,
          0.9726265649744922,
          0.9445688168445349,
          0.9070732493296052,
          0.8605145057459292,
          0.8053577856691141,
          0.7421541968137826,
          0.6715352485474484,
          0.5942065420576682,
          0.5109407202182221,
          0.42256974759689664,
          0.32997659774057014,
          0.23408643079538105,
          0.1358573496123707,
          0.036270826700509684,
          -0.06367810232220862,
          -0.16299078079570548,
          -0.2606749092650805,
          -0.35575446020874757,
          -0.44727943018279204,
          -0.5343353319413789,
          -0.616052331690985,
          -0.6916139401821607,
          -0.7602651708002094,
          -0.8213200831418711,
          -0.8741686367051074,
          -0.9182827862121189,
          -0.9532217576632306,
          -0.9786364524049915,
          -0.9942729352085223,
          -0.9999749715063864,
          -0.9956855884367365,
          -0.9814476440973232,
          -0.9574033993215472,
          -0.9237930962552401,
          -0.8809525579365467,
          -0.8293098328631502,
          -0.7693809180731687,
          -0.7017646034733183,
          -0.6271364889281041,
          -0.5462422338892768,
          -0.4598901070131037,
          -0.3689429102071134,
          -0.2743093577986452,
          -0.176934996961678,
          -0.07779276012199682,
          0.022126756261955736,
          0.12182518941147201,
          0.22030638553844242,
          0.31658635308471483,
          0.40970309444050645,
          0.49872621790648564,
          0.5827662338601124,
          0.6609834422419141,
          0.7325963225609062,
          0.7968893425890228,
          0.853220107722584,
          0.901025779576851,
          0.9398286996811099,
          0.9692411620842172,
          0.9889692871843125,
          0.9988159580766447,
          0.9986827900805341,
          0.9885711137665782,
          0.9685819616620323,
          0.9389150587671867,
          0.8998668269691938,
          0.8518274232925497,
          0.7952768415790757,
          0.7307801165481209,
          0.6589816781564026,
          0.580598912666927,
          0.4964149947625673,
          0.4072710623235205,
          0.31405781205565797,
          0.21770659994343905,
          0.11918013544881928,
          0.019462862436509885,
          -0.08044887706369817,
          -0.17955679797714189,
          -0.2768706467187912,
          -0.37141809547969407,
          -0.4622544574050628,
          -0.5484721255930483,
          -0.6292096416028825,
          -0.7036603028628813,
          -0.7710802229758452,
          -0.8307957643860683,
          -0.882210269143113,
          -0.9248100205108198,
          -0.9581693758551346,
          -0.9819550195245901,
          -0.9959292932301297,
          -0.9999525706481683,
          -0.9939846525206644,
          -0.9780851683128157,
          -0.9524129804151563,
          -0.9172245968430627,
          -0.872871608293454,
          -0.8197971751667733,
          -0.7585315996547397,
          -0.6896870271361664,
          -0.6139513298226686,
          -0.5320812337669102,
          -0.4448947579060306,
          -0.3532630406868024,
          -0.25810163593826746,
          -0.1603613649604949,
          -0.061018816232456675,
          0.03893341233723022,
          0.13849663112052565,
          0.23667603734656428,
          0.33249065484213236,
          0.4249831356213158,
          0.5132293253901121,
          0.596347497390676,
          0.6735071623235862,
          0.7439373663224272,
          0.8069343940699728,
          0.8618688000890143,
          0.9081916979535181,
          0.9454402445803316,
          0.9732422648042924,
          0.9913199700294487,
          0.9994927338008853,
          0.9976788965645558,
          0.9858965815825497,
          0.9642635138514517,
          0.9329958438330894,
          0.8924059877505722,
          0.842899506028648,
          0.784971051068018,
          0.7191994248420474,
          0.6462417956987768,
          0.5668271321520261,
          0.4817489192689455,
          0.39185723042955,
          0.29805023367448796,
          0.2012652175068453,
          0.10246922581532364,
          0.0026493954912638444,
          -0.0971969067167568,
          -0.19607204956188945,
          -0.292988105300616,
          -0.38697672074015643,
          -0.47709879270357103,
          -0.562453851238172,
          -0.6421890568137261,
          -0.7155077216130871,
          -0.7816772697734873,
          -0.8400365570424713,
          -0.8900024767126464,
          -0.9310757858312143,
          -0.9628460934704971,
          -0.9849959612184215,
          -0.9973040749182293,
          -0.99964745596635,
          -0.992002690073972,
          -0.9744461612148652,
          -0.9471532884219778,
          -0.9103967730584245,
          -0.8645438740756395,
          -0.8100527384833012,
          -0.747467823695864,
          -0.6774144574940792,
          -0.6005925899564515,
          -0.5177697997895051,
          -0.42977362493500315,
          -0.33748329408441025,
          -0.24182094171648436,
          -0.14374239443428918,
          -0.04422762066183892,
          0.05572906087655675,
          0.15512891606026627,
          0.2529787743934896,
          0.34830095243665155,
          0.4401430224960407,
          0.5275873289665896,
          0.6097601572433005,
          0.6858404635887347,
          0.7550680787307162,
          0.8167513032223336,
          0.8702738186742403,
          0.9151008458042379,
          0.950784487775076,
          0.9769682054316357,
          0.9933903797222716,
          0.9998869257099253,
          0.9963929320545596,
          0.982943309585819,
          0.9596724424855533,
          0.926812845565509,
          0.8846928410561699,
          0.8337332781195631,
          0.7744433278635736,
          0.7074153958724908,
          0.6333192030862999,
          0.5528950941703664,
          0.46694664023629,
          0.37633260982502265,
          0.281958388375392,
          0.18476693191217952,
          0.0857293453411282,
          -0.014164820510231907,
          -0.11391745615730677,
          -0.21253186623857634,
          -0.3090227281660707,
          -0.4024259371430629,
          -0.49180823918046324,
          -0.5762765558621497,
          -0.6549869076893757,
          -0.7271528468448446,
          -0.7920533151194147,
          -0.8490398484873364,
          -0.8975430563444248,
          -0.9370783106708145,
          -0.9672505882738824,
          -0.9877584177294543,
          -0.9983968915845978,
          -0.9990597137251612,
          -0.9897402614514161,
          -0.9705316516498831,
          -0.9416258104001762,
          -0.9033115553130557,
          -0.855971709760354,
          -0.8000792778303477,
          -0.7361927182273159,
          -0.6649503643367158,
          -0.5870640462090193,
          -0.5033119781891867,
          -0.41453098325609555,
          -0.32160813176404734,
          -0.22547187812892727,
          -0.1270827840186229,
          -0.027423920738401768,
          0.07250895329270868,
          0.17171734183077755,
          0.26920998745148,
          0.36401277586657127,
          0.4551784689518164,
          0.5417961692373049,
          0.6230004212937645,
          0.697979859077217,
          0.7659853128302462,
          0.8263372945385468,
          0.8784327871506192,
          0.9217512697247493,
          0.955859918302251,
          0.9804179305413608,
          0.9951799309015783,
          0.9999984223549769,
          0.9948252601277343,
          0.9797121327468065,
          0.9548100455852436,
          0.9203678120664357,
          0.876729567602604,
          0.8243313311075577,
          0.7636966484397957,
          0.6954313613053625,
          0.6202175538878211,
          0.538806737688487,
          0.45201234267200896,
          0.360701589742968,
          0.2657868257612953,
          0.16821640767407295,
          0.06896522684630882,
          -0.03097503173121646,
          -0.13060579803066766,
          -0.2289315943687473,
          -0.3249699818906045,
          -0.4177613767742181,
          -0.506378638074642,
          -0.5899363314099478,
          -0.667599575928841,
          -0.7385923861641224,
          -0.802205425423044,
          -0.8578030932449878,
          -0.9048298761112322,
          -0.9428158979523701,
          -0.9713816149946635,
          -0.9902416080360045,
          -0.9992074342602034,
          -0.9981895100953397,
          -0.9871980063031853,
          -0.9663427463563266,
          -0.9358321091183142,
          -0.8959709467909631,
          -0.8471575389318963,
          -0.7898796129768653,
          -0.724709471028464,
          -0.6522982716026375,
          -0.5733695234681091,
          -0.48871185658585375,
          -0.39917114237924173,
          -0.30564204206642587,
          -0.20905906750109535,
          -0.11038724383904756,
          -0.010612467325731583,
          0.08926834545310194,
          0.18825721843234577,
          0.2853650875145902,
          0.37962168297153187,
          0.470085224058467,
          0.5558518289761377,
          0.6360645461588529,
          0.7099219166513444,
          0.7766859820216312,
          0.8356896577978102,
          0.8863433987555546,
          0.9281410894591009,
          0.9606651011994307,
          0.9835904648022342,
          0.9966881176125153,
          0.9998271922129018,
          0.9929763240076259,
          0.9762039646071967,
          0.9496776978825432,
          0.9136625655223585,
          0.8685184188241584,
          0.8146963231790934,
          0.7527340511756142,
          0.6832507093535931,
          0.6069405522963685,
          0.5245660458684595,
          0.4369502489087257,
          0.34496858949843207,
          0.24954011797333814,
          0.15161832407645098,
          0.05218161000373245,
          -0.0477764854671823,
          -0.14725721408812947,
          -0.24526659730265726,
          -0.34082535775129513,
          -0.43297870388717985,
          -0.5208058699375417,
          -0.6034293158910315,
          -0.6800234955873388,
          -0.7498231053016198,
          -0.8121307304063011,
          -0.8663238137074819,
          -0.9118608758306834,
          -0.9482869255037094,
          -0.9752380056790853,
          -0.9924448300725429,
          -0.9997354737825582,
          -0.9970370911071489,
          -0.9843766433940419,
          -0.9618806296517992,
          -0.9297738226135346,
          -0.888377022882084,
          -0.83810385359639,
          -0.7794566276458688,
          -0.7130213287260162,
          -0.6394617563830383,
          -0.559512893548245,
          -0.47397356283147857,
          -0.38369844494974187,
          -0.2895895390399107,
          -0.19258715018155367,
          -0.09366049417944437,
          0.006201986520476918,
          0.10600249902117563,
          0.2047438695914224,
          0.3014395070960506,
          0.3951232606884147,
          0.48485907327037797,
          0.569750334265312,
          0.6489488382546884,
          0.7216632599662002,
          0.7871670609342775,
          0.8448057488323435,
          0.8940034169437217,
          0.9342684984312387,
          0.9651986779105415,
          0.986484911252422,
          0.9979145134496277,
          0.9993732836951247,
          0.9908466464388278,
          0.9724197970216671,
          0.9442768504319176,
          0.9066990016890745,
          0.8600617162362019,
          0.8048309784133031,
          0.7415586354958403,
          0.670876883819207,
          0.5934919520818551,
          0.5101770449416689,
          0.42176461741053567,
          0.3291380572390701,
          0.23322285839826154,
          0.13497737384955097,
          0.03538323999893738,
          -0.06456443148960143,
          -0.16386699652087378,
          -0.2615322566901229,
          -0.35658437300160806,
          -0.4480736161291702,
          -0.5350858557978154,
          -0.6167516944712085,
          -0.6922551540844388,
          -0.7608418290271978,
          -0.8218264239151786,
          -0.8745996008350975,
          -0.9186340676476693,
          -0.9534898465163502,
          -0.9788186700204824,
          -0.9943674609282015,
          -0.9999808608605089,
          -0.9956027825808228,
          -0.9812769704001149,
          -0.9571465630982068,
          -0.9234526637284138,
          -0.880531930595514,
          -0.828813213477255,
          -0.7688132686991623,
          -0.7011315958760967,
          -0.626444447910339,
          -0.5454980740960652,
          -0.4591012638431009,
          -0.36811726552052987,
          -0.27345516116425417,
          -0.17606078322989716,
          -0.07690726414746452,
          0.02301468689618212,
          0.12270668279599199,
          0.22117263408275487,
          0.31742870151970165,
          0.41051312629904213,
          0.4994958396180135,
          0.5834877556188818,
          0.6616496548410261,
          0.7332005694242856,
          0.7974255862817436,
          0.8536829902749359,
          0.901410676019372,
          0.9401317642557823,
          0.9694593666699876,
          0.9891004515530879,
          0.9988587716774113,
          0.9986368251339447,
          0.9884368295391845,
          0.9683606998774463,
          0.9386090302000231,
          0.8994790893557311,
          0.8513618507788587,
          0.7947380860118082,
          0.7301735609948197,
          0.658313383119661,
          0.5798755555298325,
          0.4956438030705353,
          0.4064597415690034,
          0.31321446868745406,
          0.2168396603697181,
          0.118298261843216,
          0.01857486618859683,
          -0.08133412338895851,
          -0.18043044929108396,
          -0.27772397378626995,
          -0.3722425721387373,
          -0.46304184575741597,
          -0.5492145583145832,
          -0.629899700551255,
          -0.7042910931971771,
          -0.7716454420475659,
          -0.8312897647130767,
          -0.8826281148374443,
          -0.9251475365964139,
          -0.9584231899828299,
          -0.9821225956675267,
          -0.996008957022878,
          -0.9999435261164458,
          -0.9938869900344416,
          -0.9778998636833734,
          -0.9521418851450957,
          -0.9168704196267141,
          -0.8724378879524822,
          -0.8192882452914593,
          -0.7579525453041723,
          -0.6890436340299974,
          -0.6132500265321477,
          -0.5313290274826848,
          -0.44409916442465225,
          -0.3524320093153553,
          -0.25724347006749937,
          -0.15948463910012836,
          -0.060132290337467434,
          0.0398208803931389,
          0.13937617404989003,
          0.23753886704718638,
          0.3333281502048434,
          0.4257869286693041,
          0.5139913848889341,
          0.5970602090937172,
          0.6741634050511123,
          0.7445305831140193,
          0.80745865769955,
          0.8623188722876839
         ],
         "y": [
          0,
          0.09983341664682815,
          0.19866933079506122,
          0.29552020666133955,
          0.3894183423086505,
          0.479425538604203,
          0.5646424733950354,
          0.644217687237691,
          0.7173560908995228,
          0.7833269096274834,
          0.8414709848078965,
          0.8912073600614354,
          0.9320390859672263,
          0.963558185417193,
          0.9854497299884601,
          0.9974949866040544,
          0.9995736030415051,
          0.9916648104524686,
          0.9738476308781951,
          0.9463000876874145,
          0.9092974268256817,
          0.8632093666488737,
          0.8084964038195901,
          0.7457052121767203,
          0.675463180551151,
          0.5984721441039564,
          0.5155013718214642,
          0.4273798802338298,
          0.3349881501559051,
          0.23924932921398243,
          0.1411200080598672,
          0.04158066243329049,
          -0.058374143427580086,
          -0.1577456941432482,
          -0.2555411020268312,
          -0.35078322768961984,
          -0.44252044329485246,
          -0.5298361409084934,
          -0.6118578909427189,
          -0.6877661591839738,
          -0.7568024953079282,
          -0.8182771110644103,
          -0.8715757724135882,
          -0.9161659367494549,
          -0.9516020738895161,
          -0.977530117665097,
          -0.9936910036334644,
          -0.9999232575641008,
          -0.9961646088358407,
          -0.9824526126243325,
          -0.9589242746631385,
          -0.9258146823277325,
          -0.8834546557201531,
          -0.8322674422239013,
          -0.7727644875559871,
          -0.7055403255703919,
          -0.6312666378723216,
          -0.5506855425976376,
          -0.46460217941375737,
          -0.373876664830236,
          -0.27941549819892586,
          -0.18216250427209588,
          -0.0830894028174964,
          0.016813900484349713,
          0.11654920485049364,
          0.21511998808781552,
          0.31154136351337786,
          0.4048499206165983,
          0.49411335113860816,
          0.5784397643882002,
          0.6569865987187891,
          0.7289690401258759,
          0.7936678638491531,
          0.8504366206285644,
          0.8987080958116269,
          0.9379999767747389,
          0.9679196720314863,
          0.9881682338770004,
          0.998543345374605,
          0.998941341839772,
          0.9893582466233818,
          0.9698898108450863,
          0.9407305566797731,
          0.9021718337562933,
          0.8545989080882805,
          0.7984871126234903,
          0.7343970978741133,
          0.6629692300821833,
          0.5849171928917617,
          0.5010208564578846,
          0.4121184852417566,
          0.3190983623493521,
          0.22288991410024764,
          0.1244544235070617,
          0.024775425453357765,
          -0.0751511204618093,
          -0.17432678122297965,
          -0.27176062641094245,
          -0.3664791292519284,
          -0.4575358937753214,
          -0.5440211108893698,
          -0.6250706488928821,
          -0.6998746875935423,
          -0.7676858097635825,
          -0.8278264690856537,
          -0.87969575997167,
          -0.9227754216128067,
          -0.9566350162701879,
          -0.9809362300664916,
          -0.9954362533063774,
          -0.9999902065507035,
          -0.9945525882039892,
          -0.9791777291513174,
          -0.954019249902089,
          -0.9193285256646757,
          -0.8754521746884285,
          -0.8228285949687089,
          -0.7619835839190333,
          -0.6935250847771224,
          -0.6181371122370333,
          -0.5365729180004349,
          -0.44964746453460147,
          -0.3582292822368287,
          -0.26323179136580094,
          -0.1656041754483094,
          -0.06632189735120068,
          0.033623047221136695,
          0.13323204141994222,
          0.23150982510153895,
          0.32747443913769303,
          0.4201670368266409,
          0.5086614643723737,
          0.592073514707223,
          0.6695697621966024,
          0.7403758899524486,
          0.803784426551621,
          0.8591618148564958,
          0.9059547423084618,
          0.9436956694441048,
          0.9720075013949759,
          0.9906073556948704,
          0.9993093887479176,
          0.9980266527163617,
          0.9867719642746133,
          0.9656577765492774,
          0.934895055524683,
          0.8947911721405042,
          0.8457468311429343,
          0.7882520673753163,
          0.722881349511976,
          0.6502878401571168,
          0.5711968696599886,
          0.4863986888537997,
          0.39674057313061206,
          0.30311835674570226,
          0.2064674819377966,
          0.10775365229944406,
          0.007963183785937343,
          -0.09190685022768164,
          -0.19085858137418937,
          -0.2879033166650653,
          -0.3820714171840091,
          -0.47242198639846616,
          -0.5580522712867794,
          -0.6381066823479474,
          -0.711785342369123,
          -0.7783520785342984,
          -0.8371417780197468,
          -0.8875670335815046,
          -0.9291240127343684,
          -0.9613974918795568,
          -0.9840650050816434,
          -0.9969000660415961,
          -0.9997744310730111,
          -0.9926593804706332,
          -0.9756260054681576,
          -0.948844497918124,
          -0.9125824497911845,
          -0.8672021794855813,
          -0.8131571116614885,
          -0.7509872467716762,
          -0.6813137655554999,
          -0.6048328224062841,
          -0.5223085896267315,
          -0.43456562207189675,
          -0.34248061846961253,
          -0.2469736617366209,
          -0.1489990258141988,
          -0.04953564087836742,
          0.05042268780681122,
          0.14987720966295234,
          0.24783420798295983,
          0.3433149288198954,
          0.4353653603728932,
          0.5230657651576964,
          0.605539869719601,
          0.6819636200681356,
          0.7515734153521483,
          0.8136737375071054,
          0.8676441006416673,
          0.9129452507276277,
          0.9491245536478946,
          0.9758205177669755,
          0.9927664058359071,
          0.9997929001426692,
          0.9968297942787993,
          0.9839066946186161,
          0.9611527245021165,
          0.9287952340772404,
          0.8871575286923511,
          0.8366556385360561,
          0.7777941618010928,
          0.7111612229059825,
          0.6374225961502389,
          0.5573150535176614,
          0.47163900309419615,
          0.3812504916549401,
          0.28705265132772845,
          0.18998667579543774,
          0.09102241619984787,
          -0.008851309290403876,
          -0.10863659542407976,
          -0.20733642060675878,
          -0.30396460881104703,
          -0.3975556831214329,
          -0.4871745124605095,
          -0.5719256551095638,
          -0.6509623056662469,
          -0.723494756044245,
          -0.7887982859754165,
          -0.8462204041751706,
          -0.8951873678196818,
          -0.9352099151945389,
          -0.9658881542360704,
          -0.9869155581206488,
          -0.9980820279793963,
          -0.9992759921366277,
          -0.9904855208971565,
          -0.9717984457438633,
          -0.9434014817545555,
          -0.9055783620066239,
          -0.8587070026099295,
          -0.8032557266939547,
          -0.7397785850778934,
          -0.6689098203780243,
          -0.5913575298651244,
          -0.5078965903906221,
          -0.41936091607323134,
          -0.32663512610472223,
          -0.23064570592739567,
          -0.13235175009777303,
          -0.03273537933084532,
          0.06720807252547492,
          0.16648000353715925,
          0.2640885213844694,
          0.3590583540221683,
          0.4504405942753893,
          0.5373221810064719,
          0.6188350221200393,
          0.694164668252242,
          0.7625584504796027,
          0.8233330007380816,
          0.8758810798108894,
          0.9196776446620198,
          0.9542850944926969,
          0.979357643103917,
          0.9946447738778381,
          0.9999937428570207,
          0.9953511049115591,
          0.9807632477451529,
          0.956375928404503,
          0.9224328169230858,
          0.8792730616507243,
          0.8273279005953786,
          0.7671163526355301,
          0.6992400316550977,
          0.6243771354163914,
          0.5432756692322478,
          0.4567459721441928,
          0.36565262028262135,
          0.27090578830786904,
          0.1734521552458921,
          0.07426544558436131,
          -0.02566329986055949,
          -0.12533562609642912,
          -0.22375564018679642,
          -0.3199399618841981,
          -0.4129275492405401,
          -0.5017893010205742,
          -0.5856373399742976,
          -0.6636338842129675,
          -0.7349996180487777,
          -0.7990214786596137,
          -0.8550597807770702,
          -0.9025546082101854,
          -0.9410314083429535,
          -0.9701057337071853,
          -0.9894870832545352,
          -0.9989818049469494,
          -0.9984950306638146,
          -0.9880316240928618,
          -0.9676961321338052,
          -0.9376917403002811,
          -0.8983182425573547,
          -0.8499690458793281,
          -0.7931272394572851,
          -0.7283607678315934,
          -0.6563167561777904,
          -0.5777150444457317,
          -0.4933409949567783,
          -0.404037645323065,
          -0.3106972850943722,
          -0.2142525402958877,
          -0.11566705493723693,
          -0.0159258626001018,
          0.08397445569174683,
          0.183035728980588,
          0.2802681697690195,
          0.374700263649462,
          0.46538847635495545,
          0.5514266812416906,
          0.631955213006885,
          0.7061694571803344,
          0.7733278895662207,
          0.8327594853077798,
          0.8838704235458307,
          0.9261500206805285,
          0.9591758329530804,
          0.9826178773641395,
          0.9962419287548636,
          0.9999118601072672,
          0.9935910026803949,
          0.9773425123922587,
          0.9513287387867827,
          0.915809602890819,
          0.8711400001691764,
          0.8177662545264418,
          0.756221658786063,
          0.6871211462047443,
          0.611155146262596,
          0.5290826861200238,
          0.4417238066692238,
          0.3499513689566622,
          0.2546823328440351,
          0.15686859504841,
          0.057487478104924564,
          -0.04246803471695152,
          -0.1419992209740017,
          -0.24011159795377449,
          -0.3358248592171419,
          -0.428182669496151,
          -0.516262220079927,
          -0.5991834492142653,
          -0.6761178353877643,
          -0.7462966756449163,
          -0.8090187662119065,
          -0.863657408692956,
          -0.9096666718335282,
          -0.9465868462849605,
          -0.9740490378683264,
          -0.9917788534431158,
          -0.9995991425528029,
          -0.9974317674536479,
          -0.9852983838412038,
          -0.9633202244737609,
          -0.9317168878547055,
          -0.8908041440768614,
          -0.8409907797521016,
          -0.7827745135506544,
          -0.7167370231606575,
          -0.6435381333569995,
          -0.5639092232502625,
          -0.478645918588415,
          -0.38860014212734334,
          -0.29467160150025756,
          -0.19779879963646227,
          -0.09894965755028955,
          0.0008881568057175921,
          0.10071709699250053,
          0.1995397052387874,
          0.2963685787093853,
          0.39023623530794616,
          0.480204780438259,
          0.5653752781370229,
          0.6448967329448674,
          0.7179745927716441,
          0.783878687798293,
          0.8419505260923049,
          0.8916098730414407,
          0.932360548866189,
          0.9637953862840878,
          0.985600298790633,
          0.9975574189078051,
          0.999547275043892,
          0.9915499852141411,
          0.9736454556949781,
          0.9460125826269081,
          0.9089274645434138,
          0.8627606436856788,
          0.8079734036669851,
          0.7451131604793488,
          0.6748079928938668,
          0.5977603669052548,
          0.5147401169238381,
          0.42657675384457316,
          0.33415117684842055,
          0.23838687174889206,
          0.1402406838270716,
          0.040693257349864856,
          -0.05926076270338633,
          -0.158622668804709,
          -0.256399669633018,
          -0.3516148097168163,
          -0.4433167308503208,
          -0.5305891777502036,
          -0.6125601529754698,
          -0.6884106296376704,
          -0.7573827348468307,
          -0.8187873221268436,
          -0.8720108571392737,
          -0.9165215479156338,
          -0.9518746583469646,
          -0.9777169518400209,
          -0.9937902207405457,
          -0.9999338662588036,
          -0.996086503119594,
          -0.9822865729036345,
          -0.9586719599519926,
          -0.9254786136713307,
          -0.8830381910054188,
          -0.8317747426285983,
          -0.7722004759716072,
          -0.7049106374142481,
          -0.630577564780328,
          -0.5499439695603477,
          -0.46381551598382736,
          -0.3730527710886221,
          -0.27856260621955026,
          -0.1812891358696948,
          -0.0822042844004434,
          0.017701925105413577,
          0.11743126282709573,
          0.2159872661882241,
          0.31238519618149074,
          0.40566187655533587,
          0.4948853175526281,
          0.5791640280442709,
          0.6576559230138694,
          0.7295767373928534,
          0.7942078621778189,
          0.8509035245341184,
          0.899097240144582,
          0.9383074733335544,
          0.9681424484121893,
          0.988304064171637,
          0.9985908724117705,
          0.9989000907450211,
          0.9892286295640171,
          0.9696731229119208,
          0.940428962947006,
          0.9017883476488092,
          0.8541373612725007,
          0.7979521167226309,
          0.7337939983903741,
          0.6623040529862428,
          0.5841965844132856,
          0.500252016678587,
          0.4113090961545671,
          0.3182565111024882,
          0.22202401219308238,
          0.123573122745224,
          0.023887531502738858,
          -0.07603673605835357,
          -0.17520126968714714,
          -0.27261525014307375,
          -0.36730534913419133,
          -0.45832545449176587,
          -0.544766123410311,
          -0.6257636692994736,
          -0.7005087914549692,
          -0.7682546613236668,
          -0.8283243845676455,
          -0.880117764368662,
          -0.9231172983963569,
          -0.9568933495204878,
          -0.981108438603097,
          -0.9955206164785154,
          -0.9999858814294444,
          -0.9944596180045154,
          -0.9789970428011298,
          -0.9537526527594719,
          -0.918978681480152,
          -0.8750225789894467,
          -0.8223235401334913,
          -0.7614081162885409,
          -0.6928849542336957,
          -0.6174387147534618,
          -0.5358232317335149,
          -0.4488539801017046,
          -0.3573999278721113,
          -0.26237485370392877,
          -0.1647282167271322,
          -0.06543566986070695,
          0.03451068858880273,
          0.13411222764565714,
          0.23237376165548454,
          0.3283134938514034,
          0.42097282614277115,
          0.5094259371104293,
          0.5927890325083126,
          0.6702291758433747,
          0.7409726108017196,
          0.8043124923659141,
          0.8596159493767461,
          0.9063304079726637,
          0.9439891127251193,
          0.972215790304539,
          0.9907284090790484,
          0.9993419970813103,
          0.9979704901872812,
          0.9866275920404853,
          0.9654266371297417,
          0.9345794583884147,
          0.8943942706297692,
          0.8452725909664269,
          0.7877052269841179,
          0.722267372754513,
          0.6496128616861957,
          0.5704676336373782,
          0.48562248156477883,
          0.39592515018183416,
          0.3022718655737269,
          0.20559838040260117,
          0.10687062417628851,
          0.007075051999930937,
          -0.09279121175730869,
          -0.19173033639936585,
          -0.2887537548977434,
          -0.3828920413264772,
          -0.47320459704556483,
          -0.5587890488516163,
          -0.6387902651926438,
          -0.712408900359854,
          -0.7789093812857372,
          -0.8376272571470276,
          -0.8879758383376634,
          -0.929452058477416,
          -0.9616415008848646,
          -0.9842225392918875,
          -0.996969551427024,
          -0.9997551733586199,
          -0.9925515720731387,
          -0.975430723573431,
          -0.9485636937183082,
          -0.9122189289890194,
          -0.8667595742607592,
          -0.812639844379108,
          -0.7504004857954386,
          -0.6806633736071279,
          -0.6041252979871271,
          -0.5215510020869119,
          -0.43376554097568404,
          -0.3416460379628515,
          -0.2461129206718663,
          -0.14812072443163635,
          -0.04864855487508726,
          0.051309694960699495,
          0.1507552752851691,
          0.24869455873205093,
          0.3441489683555804,
          0.43616475524782494,
          0.5238225280825325,
          0.6062464393693456,
          0.6826129366324043,
          0.7521589910744745,
          0.8141897215084345,
          0.8680853373804215,
          0.9133073315121647,
          0.9494038606867011,
          0.9760142603164502,
          0.9928726480845371,
          0.9998105805530253,
          0.9967587361940652,
          0.9837476080276871,
          0.9609071989456205,
          0.9284657227653786,
          0.8867473239932281,
          0.8361688390794311,
          0.7772356315262264,
          0.7105365424627492,
          0.6367380071391379,
          0.5565773961257936,
          0.4708556477503867,
          0.38042926538684807,
          0.2862017595567536,
          0.18911462035089152,
          0.09013791037146546,
          -0.00973942781276056,
          -0.10951945285370121,
          -0.20820519572405266,
          -0.3048106211022167,
          -0.3983704795113227,
          -0.4879499517729242,
          -0.572653989411214,
          -0.6516362576815548,
          -0.7241075918674496,
          -0.7893438823535511,
          -0.8466933096895727,
          -0.8955828573547701,
          -0.9355240371496152,
          -0.9661177700083929,
          -0.987058373465322,
          -0.9981366159327038,
          -0.9992418072737845,
          -0.9903629047820123,
          -0.9715886235161092,
          -0.9431065498885319,
          -0.9052012673640456,
          -0.8582515129958178,
          -0.802726393209964,
          -0.7391806966492228,
          -0.668249350908215,
          -0.5906410785467989,
          -0.507131315768532,
          -0.41855446451842543,
          -0.32579555541456173,
          -0.22978140481468803,
          -0.13147135437353982,
          -0.03184768561815004,
          0.06809419468449814,
          0.16735570030280691,
          0.26494504308412953,
          0.3598871425741427,
          0.45123336869842146,
          0.5380710201605928,
          0.6195324438519512,
          0.6948037041545392,
          0.7631327155167837,
          0.8238367570437177,
          0.8763092940185007,
          0.9200260381967907,
          0.9545501863215905,
          0.9795367845170094,
          0.9947361749533432,
          0.9999964903456066,
          0.9952651713612277,
          0.980589491775534,
          0.9561160861278065,
          0.9220894845974522,
          0.8788496697392535,
          0.8268286794901034,
          0.7665462903887128,
          0.6986048241402639,
          0.6236831294170677,
          0.5425297990269575,
          0.45595569022148996,
          0.36482582287824245,
          0.2700507365081657,
          0.17257739244581813,
          0.07337971212463937,
          -0.026551154023966794,
          -0.12621672981821014,
          -0.22462118976982778,
          -0.32078130904314506,
          -0.4137362875127194,
          -0.5025573497604873,
          -0.5863570250928222,
          -0.6642980148543038,
          -0.7356015584390794,
          -0.7995552144094876,
          -0.8555199789753223,
          -0.9029366707085427,
          -0.9413315176992298,
          -0.9703208913278909,
          -0.9896151393558494,
          -0.999021480034635,
          -0.9984459283175113,
          -0.9878942349269819,
          -0.9674718288954816,
          -0.9373827641533214,
          -0.8979276806892913,
          -0.8495008006552434,
          -0.7925859894286711,
          -0.7277519209898311,
          -0.6556463959192523,
          -0.5769898687885426,
          -0.4925682496163913,
          -0.40322505131547626,
          -0.3098529615903106,
          -0.21338492349669264,
          -0.11478481378318722,
          -0.015037812153175139,
          0.0848594423250458,
          0.18390880930634296,
          0.28112062025723483,
          0.375523566896625,
          0.46617440618717204,
          0.5521673849078803,
          0.6326432896408476,
          0.7067980317478022,
          0.7738906815578891,
          0.8332508714920985,
          0.8842854941544844,
          0.9264846284651933,
          0.9594266346233836,
          0.9827823669926928,
          0.996318462815671,
          0.9998996738972931,
          0.9934902179602213,
          0.9771541361694929,
          0.9510546532543747,
          0.9154525466208107,
          0.8707035407497848,
          0.8172547529159183,
          0.7556402257394118,
          0.6864755912087755,
          0.6104519194894429,
          0.5283288139791364,
          0.440926821601849,
          0.34911923417413226,
          0.25382336276203626,
          0.1559913722120709,
          0.056600767434840576,
          -0.04335537350085837,
          -0.14287832187593194,
          -0.2409736772881011,
          -0.3366613033721151,
          -0.4289851209982793,
          -0.5170226610990435,
          -0.5998942816750875,
          -0.6767719568873076,
          -0.7468875504173764,
          -0.8095404904318835,
          -0.8641047694644948,
          -0.9100351992756844,
          -0.9468728581933475,
          -0.9742496765064971,
          -0.9918921140961229,
          -0.9996238935576389,
          -0.9973677615064545,
          -0.9851462604682474,
          -0.9630815036415007,
          -0.9313939547827833,
          -0.8904002254057892,
          -0.8405099113037167,
          -0.7822215000035424,
          -0.716117390043384,
          -0.6428580718388389,
          -0.5631755282811168,
          -0.4778659210058768,
          -0.38778163540943045,
          -0.2938227638955397,
          -0.19692811244968383,
          -0.09806582040002382,
          0.001776312910836964,
          0.1016006978902495,
          0.2004099222810683,
          0.2972167169751811,
          0.39105382048004866,
          0.48098364347589934,
          0.5661076368981803,
          0.6455752699428805,
          0.7185925282891343,
          0.7844298476278219,
          0.8424294032270538,
          0.8920116826993705,
          0.9326812762980158,
          0.9640318268873361,
          0.9857500901289485,
          0.9976190643156521,
          0.9995201585807313,
          0.9914343778187099,
          0.9734425124781552,
          0.945724331330235,
          0.9085567852785591,
          0.862311240157329,
          0.8074497661666465,
          0.7445205210198249,
          0.6741522729327462,
          0.5970481181796262,
          0.5139784559875352,
          0.42577329096190625,
          0.33331393995491093,
          0.23752422623883931,
          0.13936124896924576,
          0.039805820166669656,
          -0.06014733523295702,
          -0.15949951834101572,
          -0.257258034985328,
          -0.35244611438228074,
          -0.4441126687075084,
          -0.5313417960511413,
          -0.6132619318068891,
          -0.6890545570574539,
          -0.7579623769450643,
          -0.8192968873112808,
          -0.872445254003028,
          -0.9168764361088418,
          -0.9521464919441047,
          -0.9779030147696511,
          -0.9938886539233752,
          -0.9999436861830071,
          -0.996007611667735,
          -0.9821197583330232,
          -0.9584188890186744,
          -0.9251418149764185,
          -0.8826210297301447,
          -0.8312813869105229,
          -0.7716358552579918,
          -0.7042803932086152,
          -0.6298879942744539,
          -0.5492019627147913,
          -0.4630284866857027,
          -0.3722285830745313,
          -0.2777094945036767,
          -0.1804156244623088,
          -0.0813191011387902,
          0.01858993576280033,
          0.11831322817125059,
          0.21685437391298126,
          0.31322878243308516,
          0.40647351249878755,
          0.49565689358989423,
          0.579887834842624,
          0.6583247285350505,
          0.730183859153167,
          0.7947472340173191,
          0.8513697572276862,
          0.8994856752492519,
          0.9386142297341663,
          0.9683644611001854,
          0.9884391148696253,
          0.9986376117378207,
          0.9988580516952367,
          0.9890982321786865,
          0.9694556700786149,
          0.9401266273825573,
          0.9014041501902339,
          0.8536751406938125,
          0.7974164913790545,
          0.7331903200732922,
          0.6616383534498556,
          0.5834755151072989,
          0.4994827822891639,
          0.4104993826174394,
          0.31741440880766936,
          0.22115793514834708,
          0.12269172450610251,
          0.022999618709098966,
          -0.0769222916753969,
          -0.1760756199485871,
          -0.27346965883011287,
          -0.36813127927767236,
          -0.4591146536706982,
          -0.545510706207386,
          -0.6264561960895026,
          -0.7011423427391804,
          -0.7688229068670624,
          -0.828821646648584,
          -0.8805390745088115,
          -0.9234584470040598,
          -0.9571509279516225,
          -0.9812798732191279,
          -0.9956041943614251,
          -0.9999807674966553,
          -0.9943658633527529,
          -0.9788155841958844,
          -0.9534853032751422,
          -0.9186281123844159,
          -0.8745922930528203,
          -0.8218178366308225,
          -0.7608320480420697,
          -0.6922442771269088,
          -0.6167398302202408,
          -0.535073122797084,
          -0.44806014160260915,
          -0.3565702915822329,
          -0.2615177090748213,
          -0.163852128064609,
          -0.06454939075307359,
          0.03539830273366068,
          0.13499230808060345,
          0.23323751490774314,
          0.32915228958398285,
          0.4217782833859938,
          0.5101900080017631,
          0.5935040827039737,
          0.6708880607981837,
          0.741568747154996,
          0.8048399237202818,
          0.8600694058124532,
          0.9067053587028945,
          0.9442818113661253,
          0.972423312308248,
          0.9908486809542003,
          0.9993738171110836,
          0.9979135404364571,
          0.986482441532148,
          0.9651947361597926,
          0.9342631240346855,
          0.8939966636005579,
          0.8447976840197418,
          0.7871577652331794,
          0.7216528262561783,
          0.6489373707859244,
          0.5697379476169631,
          0.48484589120574,
          0.3951094149183201,
          0.30142513596285736,
          0.20472911668674296,
          0.10598751175115685,
          0.006186914632966696,
          -0.09367550009112813,
          -0.19260194018330173,
          -0.28960396535491445,
          -0.38371236343503057,
          -0.4739868344181481,
          -0.5595253856309882,
          -0.6394733441450939,
          -0.7130318963862962,
          -0.7794660696158047,
          -0.8381120755349393,
          -0.8883839426383546,
          -0.9297793710476092,
          -0.9618847513255586,
          -0.9843792971250844,
          -0.997038250380271,
          -0.9997351270146861,
          -0.9924429807284667,
          -0.9752346722368396,
          -0.9482821412699473,
          -0.9118546886078871,
          -0.8663162853163362,
          -0.8121219360680021,
          -0.7498131328862885,
          -0.6800124447360529,
          -0.603417297020244,
          -0.5207930031358368,
          -0.43296511771538676,
          -0.34081118795795157,
          -0.24525198546765434,
          -0.1472423062080925,
          -0.04776143049672075,
          0.052196661640330246,
          0.15163322198820756,
          0.24955471330524379,
          0.344982736418755,
          0.4369638060661144,
          0.5245788778042787,
          0.6069525307981571,
          0.683261714736121,
          0.7527439734767368,
          0.814705063258458,
          0.868525889353781,
          0.9136686918591765,
          0.9496824188142243,
          0.9762072329637521,
          0.9929781071327172,
          0.9998274722901326,
          0.9966868918434463,
          0.9835877454343449,
          0.960660915403746,
          0.9281354790587077,
          0.8863364198077192,
          0.8356813800338723,
          0.7766764881502718,
          0.709911301532188,
          0.6360529158546612,
          0.5558392996930657,
          0.47007192098496936,
          0.3796077390275217,
          0.2853506420233468,
          0.18824241572844258,
          0.08925333344026325,
          -0.01062753865243582,
          -0.11040222389190282,
          -0.20907380660436528,
          -0.30565639295186264,
          -0.39918496165754186,
          -0.4887250061793565,
          -0.5733818719904229,
          -0.6523096956714092,
          -0.7247198564981747,
          -0.7898888560793348,
          -0.8471655473131,
          -0.8959776404338033,
          -0.9358374211421241,
          -0.9663466236851204,
          -0.9872004101959753,
          -0.9981904165332236,
          -0.9992068341863537,
          -0.9902395074461606,
          -0.9713780348772248,
          -0.9428108740786868,
          -0.9048234586781893,
          -0.857795346373455,
          -0.8021964265172008,
          -0.7385822251380614,
          -0.6675883543081758,
          -0.5899241613174027,
          -0.5063656411097588
         ]
        }
       ],
       "frames": [],
       "layout": {
        "margin": {
         "b": 50,
         "l": 50,
         "r": 50,
         "t": 60
        },
        "template": {
         "data": {
          "bar": [
           {
            "error_x": {
             "color": "#2a3f5f"
            },
            "error_y": {
             "color": "#2a3f5f"
            },
            "marker": {
             "line": {
              "color": "#E5ECF6",
              "width": 0.5
             }
            },
            "type": "bar"
           }
          ],
          "barpolar": [
           {
            "marker": {
             "line": {
              "color": "#E5ECF6",
              "width": 0.5
             }
            },
            "type": "barpolar"
           }
          ],
          "carpet": [
           {
            "aaxis": {
             "endlinecolor": "#2a3f5f",
             "gridcolor": "white",
             "linecolor": "white",
             "minorgridcolor": "white",
             "startlinecolor": "#2a3f5f"
            },
            "baxis": {
             "endlinecolor": "#2a3f5f",
             "gridcolor": "white",
             "linecolor": "white",
             "minorgridcolor": "white",
             "startlinecolor": "#2a3f5f"
            },
            "type": "carpet"
           }
          ],
          "choropleth": [
           {
            "colorbar": {
             "outlinewidth": 0,
             "ticks": ""
            },
            "type": "choropleth"
           }
          ],
          "contour": [
           {
            "colorbar": {
             "outlinewidth": 0,
             "ticks": ""
            },
            "colorscale": [
             [
              0,
              "#0d0887"
             ],
             [
              0.1111111111111111,
              "#46039f"
             ],
             [
              0.2222222222222222,
              "#7201a8"
             ],
             [
              0.3333333333333333,
              "#9c179e"
             ],
             [
              0.4444444444444444,
              "#bd3786"
             ],
             [
              0.5555555555555556,
              "#d8576b"
             ],
             [
              0.6666666666666666,
              "#ed7953"
             ],
             [
              0.7777777777777778,
              "#fb9f3a"
             ],
             [
              0.8888888888888888,
              "#fdca26"
             ],
             [
              1,
              "#f0f921"
             ]
            ],
            "type": "contour"
           }
          ],
          "contourcarpet": [
           {
            "colorbar": {
             "outlinewidth": 0,
             "ticks": ""
            },
            "type": "contourcarpet"
           }
          ],
          "heatmap": [
           {
            "colorbar": {
             "outlinewidth": 0,
             "ticks": ""
            },
            "colorscale": [
             [
              0,
              "#0d0887"
             ],
             [
              0.1111111111111111,
              "#46039f"
             ],
             [
              0.2222222222222222,
              "#7201a8"
             ],
             [
              0.3333333333333333,
              "#9c179e"
             ],
             [
              0.4444444444444444,
              "#bd3786"
             ],
             [
              0.5555555555555556,
              "#d8576b"
             ],
             [
              0.6666666666666666,
              "#ed7953"
             ],
             [
              0.7777777777777778,
              "#fb9f3a"
             ],
             [
              0.8888888888888888,
              "#fdca26"
             ],
             [
              1,
              "#f0f921"
             ]
            ],
            "type": "heatmap"
           }
          ],
          "heatmapgl": [
           {
            "colorbar": {
             "outlinewidth": 0,
             "ticks": ""
            },
            "colorscale": [
             [
              0,
              "#0d0887"
             ],
             [
              0.1111111111111111,
              "#46039f"
             ],
             [
              0.2222222222222222,
              "#7201a8"
             ],
             [
              0.3333333333333333,
              "#9c179e"
             ],
             [
              0.4444444444444444,
              "#bd3786"
             ],
             [
              0.5555555555555556,
              "#d8576b"
             ],
             [
              0.6666666666666666,
              "#ed7953"
             ],
             [
              0.7777777777777778,
              "#fb9f3a"
             ],
             [
              0.8888888888888888,
              "#fdca26"
             ],
             [
              1,
              "#f0f921"
             ]
            ],
            "type": "heatmapgl"
           }
          ],
          "histogram": [
           {
            "marker": {
             "colorbar": {
              "outlinewidth": 0,
              "ticks": ""
             }
            },
            "type": "histogram"
           }
          ],
          "histogram2d": [
           {
            "colorbar": {
             "outlinewidth": 0,
             "ticks": ""
            },
            "colorscale": [
             [
              0,
              "#0d0887"
             ],
             [
              0.1111111111111111,
              "#46039f"
             ],
             [
              0.2222222222222222,
              "#7201a8"
             ],
             [
              0.3333333333333333,
              "#9c179e"
             ],
             [
              0.4444444444444444,
              "#bd3786"
             ],
             [
              0.5555555555555556,
              "#d8576b"
             ],
             [
              0.6666666666666666,
              "#ed7953"
             ],
             [
              0.7777777777777778,
              "#fb9f3a"
             ],
             [
              0.8888888888888888,
              "#fdca26"
             ],
             [
              1,
              "#f0f921"
             ]
            ],
            "type": "histogram2d"
           }
          ],
          "histogram2dcontour": [
           {
            "colorbar": {
             "outlinewidth": 0,
             "ticks": ""
            },
            "colorscale": [
             [
              0,
              "#0d0887"
             ],
             [
              0.1111111111111111,
              "#46039f"
             ],
             [
              0.2222222222222222,
              "#7201a8"
             ],
             [
              0.3333333333333333,
              "#9c179e"
             ],
             [
              0.4444444444444444,
              "#bd3786"
             ],
             [
              0.5555555555555556,
              "#d8576b"
             ],
             [
              0.6666666666666666,
              "#ed7953"
             ],
             [
              0.7777777777777778,
              "#fb9f3a"
             ],
             [
              0.8888888888888888,
              "#fdca26"
             ],
             [
              1,
              "#f0f921"
             ]
            ],
            "type": "histogram2dcontour"
           }
          ],
          "mesh3d": [
           {
            "colorbar": {
             "outlinewidth": 0,
             "ticks": ""
            },
            "type": "mesh3d"
           }
          ],
          "parcoords": [
           {
            "line": {
             "colorbar": {
              "outlinewidth": 0,
              "ticks": ""
             }
            },
            "type": "parcoords"
           }
          ],
          "pie": [
           {
            "automargin": true,
            "type": "pie"
           }
          ],
          "scatter": [
           {
            "marker": {
             "colorbar": {
              "outlinewidth": 0,
              "ticks": ""
             }
            },
            "type": "scatter"
           }
          ],
          "scatter3d": [
           {
            "line": {
             "colorbar": {
              "outlinewidth": 0,
              "ticks": ""
             }
            },
            "marker": {
             "colorbar": {
              "outlinewidth": 0,
              "ticks": ""
             }
            },
            "type": "scatter3d"
           }
          ],
          "scattercarpet": [
           {
            "marker": {
             "colorbar": {
              "outlinewidth": 0,
              "ticks": ""
             }
            },
            "type": "scattercarpet"
           }
          ],
          "scattergeo": [
           {
            "marker": {
             "colorbar": {
              "outlinewidth": 0,
              "ticks": ""
             }
            },
            "type": "scattergeo"
           }
          ],
          "scattergl": [
           {
            "marker": {
             "colorbar": {
              "outlinewidth": 0,
              "ticks": ""
             }
            },
            "type": "scattergl"
           }
          ],
          "scattermapbox": [
           {
            "marker": {
             "colorbar": {
              "outlinewidth": 0,
              "ticks": ""
             }
            },
            "type": "scattermapbox"
           }
          ],
          "scatterpolar": [
           {
            "marker": {
             "colorbar": {
              "outlinewidth": 0,
              "ticks": ""
             }
            },
            "type": "scatterpolar"
           }
          ],
          "scatterpolargl": [
           {
            "marker": {
             "colorbar": {
              "outlinewidth": 0,
              "ticks": ""
             }
            },
            "type": "scatterpolargl"
           }
          ],
          "scatterternary": [
           {
            "marker": {
             "colorbar": {
              "outlinewidth": 0,
              "ticks": ""
             }
            },
            "type": "scatterternary"
           }
          ],
          "surface": [
           {
            "colorbar": {
             "outlinewidth": 0,
             "ticks": ""
            },
            "colorscale": [
             [
              0,
              "#0d0887"
             ],
             [
              0.1111111111111111,
              "#46039f"
             ],
             [
              0.2222222222222222,
              "#7201a8"
             ],
             [
              0.3333333333333333,
              "#9c179e"
             ],
             [
              0.4444444444444444,
              "#bd3786"
             ],
             [
              0.5555555555555556,
              "#d8576b"
             ],
             [
              0.6666666666666666,
              "#ed7953"
             ],
             [
              0.7777777777777778,
              "#fb9f3a"
             ],
             [
              0.8888888888888888,
              "#fdca26"
             ],
             [
              1,
              "#f0f921"
             ]
            ],
            "type": "surface"
           }
          ],
          "table": [
           {
            "cells": {
             "fill": {
              "color": "#EBF0F8"
             },
             "line": {
              "color": "white"
             }
            },
            "header": {
             "fill": {
              "color": "#C8D4E3"
             },
             "line": {
              "color": "white"
             }
            },
            "type": "table"
           }
          ]
         },
         "layout": {
          "annotationdefaults": {
           "arrowcolor": "#2a3f5f",
           "arrowhead": 0,
           "arrowwidth": 1
          },
          "autotypenumbers": "strict",
          "coloraxis": {
           "colorbar": {
            "outlinewidth": 0,
            "ticks": ""
           }
          },
          "colorscale": {
           "diverging": [
            [
             0,
             "#8e0152"
            ],
            [
             0.1,
             "#c51b7d"
            ],
            [
             0.2,
             "#de77ae"
            ],
            [
             0.3,
             "#f1b6da"
            ],
            [
             0.4,
             "#fde0ef"
            ],
            [
             0.5,
             "#f7f7f7"
            ],
            [
             0.6,
             "#e6f5d0"
            ],
            [
             0.7,
             "#b8e186"
            ],
            [
             0.8,
             "#7fbc41"
            ],
            [
             0.9,
             "#4d9221"
            ],
            [
             1,
             "#276419"
            ]
           ],
           "sequential": [
            [
             0,
             "#0d0887"
            ],
            [
             0.1111111111111111,
             "#46039f"
            ],
            [
             0.2222222222222222,
             "#7201a8"
            ],
            [
             0.3333333333333333,
             "#9c179e"
            ],
            [
             0.4444444444444444,
             "#bd3786"
            ],
            [
             0.5555555555555556,
             "#d8576b"
            ],
            [
             0.6666666666666666,
             "#ed7953"
            ],
            [
             0.7777777777777778,
             "#fb9f3a"
            ],
            [
             0.8888888888888888,
             "#fdca26"
            ],
            [
             1,
             "#f0f921"
            ]
           ],
           "sequentialminus": [
            [
             0,
             "#0d0887"
            ],
            [
             0.1111111111111111,
             "#46039f"
            ],
            [
             0.2222222222222222,
             "#7201a8"
            ],
            [
             0.3333333333333333,
             "#9c179e"
            ],
            [
             0.4444444444444444,
             "#bd3786"
            ],
            [
             0.5555555555555556,
             "#d8576b"
            ],
            [
             0.6666666666666666,
             "#ed7953"
            ],
            [
             0.7777777777777778,
             "#fb9f3a"
            ],
            [
             0.8888888888888888,
             "#fdca26"
            ],
            [
             1,
             "#f0f921"
            ]
           ]
          },
          "colorway": [
           "#636efa",
           "#EF553B",
           "#00cc96",
           "#ab63fa",
           "#FFA15A",
           "#19d3f3",
           "#FF6692",
           "#B6E880",
           "#FF97FF",
           "#FECB52"
          ],
          "font": {
           "color": "#2a3f5f"
          },
          "geo": {
           "bgcolor": "white",
           "lakecolor": "white",
           "landcolor": "#E5ECF6",
           "showlakes": true,
           "showland": true,
           "subunitcolor": "white"
          },
          "hoverlabel": {
           "align": "left"
          },
          "hovermode": "closest",
          "mapbox": {
           "style": "light"
          },
          "paper_bgcolor": "white",
          "plot_bgcolor": "#E5ECF6",
          "polar": {
           "angularaxis": {
            "gridcolor": "white",
            "linecolor": "white",
            "ticks": ""
           },
           "bgcolor": "#E5ECF6",
           "radialaxis": {
            "gridcolor": "white",
            "linecolor": "white",
            "ticks": ""
           }
          },
          "scene": {
           "xaxis": {
            "backgroundcolor": "#E5ECF6",
            "gridcolor": "white",
            "gridwidth": 2,
            "linecolor": "white",
            "showbackground": true,
            "ticks": "",
            "zerolinecolor": "white"
           },
           "yaxis": {
            "backgroundcolor": "#E5ECF6",
            "gridcolor": "white",
            "gridwidth": 2,
            "linecolor": "white",
            "showbackground": true,
            "ticks": "",
            "zerolinecolor": "white"
           },
           "zaxis": {
            "backgroundcolor": "#E5ECF6",
            "gridcolor": "white",
            "gridwidth": 2,
            "linecolor": "white",
            "showbackground": true,
            "ticks": "",
            "zerolinecolor": "white"
           }
          },
          "shapedefaults": {
           "line": {
            "color": "#2a3f5f"
           }
          },
          "ternary": {
           "aaxis": {
            "gridcolor": "white",
            "linecolor": "white",
            "ticks": ""
           },
           "baxis": {
            "gridcolor": "white",
            "linecolor": "white",
            "ticks": ""
           },
           "bgcolor": "#E5ECF6",
           "caxis": {
            "gridcolor": "white",
            "linecolor": "white",
            "ticks": ""
           }
          },
          "title": {
           "x": 0.05
          },
          "xaxis": {
           "automargin": true,
           "gridcolor": "white",
           "linecolor": "white",
           "ticks": "",
           "title": {
            "standoff": 15
           },
           "zerolinecolor": "white",
           "zerolinewidth": 2
          },
          "yaxis": {
           "automargin": true,
           "gridcolor": "white",
           "linecolor": "white",
           "ticks": "",
           "title": {
            "standoff": 15
           },
           "zerolinecolor": "white",
           "zerolinewidth": 2
          }
         }
        }
       }
      },
      "text/html": [
       "<div\n",
       "    class=\"webio-mountpoint\"\n",
       "    data-webio-mountpoint=\"3740141508433009946\"\n",
       ">\n",
       "    <script>\n",
       "    (function(){\n",
       "    // Some integrations (namely, IJulia/Jupyter) use an alternate render pathway than\n",
       "    // just putting the html on the page. If WebIO isn't defined, then it's pretty likely\n",
       "    // that we're in one of those situations and the integration just isn't installed\n",
       "    // correctly.\n",
       "    if (typeof window.WebIO === \"undefined\") {\n",
       "        document\n",
       "            .querySelector('[data-webio-mountpoint=\"3740141508433009946\"]')\n",
       "            .innerHTML = (\n",
       "                '<div style=\"padding: 1em; background-color: #f8d6da; border: 1px solid #f5c6cb; font-weight: bold;\">' +\n",
       "                '<p><strong>WebIO not detected.</strong></p>' +\n",
       "                '<p>Please read ' +\n",
       "                '<a href=\"https://juliagizmos.github.io/WebIO.jl/latest/troubleshooting/not-detected/\" target=\"_blank\">the troubleshooting guide</a> ' +\n",
       "                'for more information on how to resolve this issue.</p>' +\n",
       "                '<p><a href=\"https://juliagizmos.github.io/WebIO.jl/latest/troubleshooting/not-detected/\" target=\"_blank\">https://juliagizmos.github.io/WebIO.jl/latest/troubleshooting/not-detected/</a></p>' +\n",
       "                '</div>'\n",
       "            );\n",
       "        return;\n",
       "    }\n",
       "    WebIO.mount(\n",
       "        document.querySelector('[data-webio-mountpoint=\"3740141508433009946\"]'),\n",
       "        {\"props\":{},\"nodeType\":\"Scope\",\"type\":\"node\",\"instanceArgs\":{\"imports\":{\"data\":[{\"name\":\"Plotly\",\"type\":\"js\",\"url\":\"\\/assetserver\\/5b0bcbbb362c204ec77e728ffa8c7da4be28ce8a-plotly.min.js\"},{\"name\":null,\"type\":\"js\",\"url\":\"\\/assetserver\\/6303ac4e25f5217851dbb12ecf3059151c237374-plotly_webio.bundle.js\"}],\"type\":\"async_block\"},\"id\":\"702525529916620115\",\"handlers\":{\"_toImage\":[\"(function (options){return this.Plotly.toImage(this.plotElem,options).then((function (data){return WebIO.setval({\\\"name\\\":\\\"image\\\",\\\"scope\\\":\\\"702525529916620115\\\",\\\"id\\\":\\\"1717565097277361871\\\",\\\"type\\\":\\\"observable\\\"},data)}))})\"],\"__get_gd_contents\":[\"(function (prop){prop==\\\"data\\\" ? (WebIO.setval({\\\"name\\\":\\\"__gd_contents\\\",\\\"scope\\\":\\\"702525529916620115\\\",\\\"id\\\":\\\"2497435563359524304\\\",\\\"type\\\":\\\"observable\\\"},this.plotElem.data)) : undefined; return prop==\\\"layout\\\" ? (WebIO.setval({\\\"name\\\":\\\"__gd_contents\\\",\\\"scope\\\":\\\"702525529916620115\\\",\\\"id\\\":\\\"2497435563359524304\\\",\\\"type\\\":\\\"observable\\\"},this.plotElem.layout)) : undefined})\"],\"_downloadImage\":[\"(function (options){return this.Plotly.downloadImage(this.plotElem,options)})\"],\"_commands\":[\"(function (args){var fn=args.shift(); var elem=this.plotElem; var Plotly=this.Plotly; args.unshift(elem); return Plotly[fn].apply(this,args)})\"]},\"systemjs_options\":null,\"mount_callbacks\":[\"function () {\\n    var handler = ((function (Plotly,PlotlyWebIO){PlotlyWebIO.init(WebIO); var gd=this.dom.querySelector(\\\"#plot-d910ea67-17ed-4621-9705-07f324c5b1a3\\\"); this.plotElem=gd; this.Plotly=Plotly; (window.Blink!==undefined) ? (gd.style.width=\\\"100%\\\", gd.style.height=\\\"100vh\\\", gd.style.marginLeft=\\\"0%\\\", gd.style.marginTop=\\\"0vh\\\") : undefined; window.onresize=(function (){return Plotly.Plots.resize(gd)}); Plotly.newPlot(gd,[{\\\"mode\\\":\\\"lines\\\",\\\"y\\\":[1.0,-0.4161468365472273,-0.653643620863388,0.9601702866502594,-0.14550003380755466,-0.8390715290764418,0.8438539587330892,0.13673721820565085,-0.9576594803224384,0.6603167082447104,0.40808206181487516,-0.9999608263946755,0.42417900733107056,0.6469193223355086,-0.9626058663104664,0.1542514498738266,0.8342233605155494,-0.8485702747783992,-0.12796368963444235,0.9550736440480274,-0.6669380616539017,-0.3999853149820836,0.9998433086474944,-0.4321779448993259,-0.6401443394532446,0.9649660284987878,-0.16299078082536725,-0.8293098328437633,0.8532201077431133,0.11918013540513604,-0.9524129804003371,0.6735071623629802,0.3918572303762558,-0.999647455965077,0.4401430225308837,0.6333192030636837,-0.9672505882788863,0.17171734184072968,0.824331331107261,-0.8578030932403501,-0.11038724385753343,0.9496776978913717,-0.6800234955596779,-0.38369844499342187,0.999373283697144,-0.44807361606978485,-0.6264444479695809,0.9694593666490131,-0.18043044919751822,-0.8192882453514959,0.8623188722298338],\\\"type\\\":\\\"scatter\\\",\\\"name\\\":\\\"estimate\\\",\\\"x\\\":[0.0,-0.9092974268256449,0.7568024953081244,0.27941549819929723,-0.9893582466235391,0.5440211108893888,0.5365729179994972,-0.9906073556951729,0.2879033166682231,0.7509872467711254,-0.9129452507269681,0.008851309286319664,0.9055783620094019,-0.7625584504737807,-0.2709057883189061,0.988031624095014,-0.5514266812280236,-0.5290826861299903,0.9917788534422137,-0.2963685787070467,-0.745113160477891,0.9165215479183774,-0.017701925116896933,-0.9017883476418459,0.7682546613369685,0.2623748536794029,-0.986627592035593,0.5587890488804036,0.5215510020533382,-0.9928726480897868,0.3048106211485465,0.7391806966133401,-0.9200260382195007,0.02655115407231506,0.8979276806722258,-0.7738906815764115,-0.25382336274301537,0.9851462604665217,-0.5661076368986256,-0.5139784559952862,0.9938886539213285,-0.31322878240633856,-0.7331903200989552,0.9234584469859167,-0.03539830267683219,-0.8939966636303299,0.7794660695682031,0.24525198555060518,-0.9835877454515191,0.5733818719046543,0.5063656412082905]},{\\\"mode\\\":\\\"lines\\\",\\\"y\\\":[0.0,0.09983341664682815,0.19866933079506122,0.29552020666133955,0.3894183423086505,0.479425538604203,0.5646424733950354,0.644217687237691,0.7173560908995228,0.7833269096274834,0.8414709848078965,0.8912073600614354,0.9320390859672263,0.963558185417193,0.9854497299884601,0.9974949866040544,0.9995736030415051,0.9916648104524686,0.9738476308781951,0.9463000876874145,0.9092974268256817,0.8632093666488737,0.8084964038195901,0.7457052121767203,0.675463180551151,0.5984721441039564,0.5155013718214642,0.4273798802338298,0.3349881501559051,0.23924932921398243,0.1411200080598672,0.04158066243329049,-0.058374143427580086,-0.1577456941432482,-0.2555411020268312,-0.35078322768961984,-0.44252044329485246,-0.5298361409084934,-0.6118578909427189,-0.6877661591839738,-0.7568024953079282,-0.8182771110644103,-0.8715757724135882,-0.9161659367494549,-0.9516020738895161,-0.977530117665097,-0.9936910036334644,-0.9999232575641008,-0.9961646088358407,-0.9824526126243325,-0.9589242746631385,-0.9258146823277325,-0.8834546557201531,-0.8322674422239013,-0.7727644875559871,-0.7055403255703919,-0.6312666378723216,-0.5506855425976376,-0.46460217941375737,-0.373876664830236,-0.27941549819892586,-0.18216250427209588,-0.0830894028174964,0.016813900484349713,0.11654920485049364,0.21511998808781552,0.31154136351337786,0.4048499206165983,0.49411335113860816,0.5784397643882002,0.6569865987187891,0.7289690401258759,0.7936678638491531,0.8504366206285644,0.8987080958116269,0.9379999767747389,0.9679196720314863,0.9881682338770004,0.998543345374605,0.998941341839772,0.9893582466233818,0.9698898108450863,0.9407305566797731,0.9021718337562933,0.8545989080882805,0.7984871126234903,0.7343970978741133,0.6629692300821833,0.5849171928917617,0.5010208564578846,0.4121184852417566,0.3190983623493521,0.22288991410024764,0.1244544235070617,0.024775425453357765,-0.0751511204618093,-0.17432678122297965,-0.27176062641094245,-0.3664791292519284,-0.4575358937753214,-0.5440211108893698,-0.6250706488928821,-0.6998746875935423,-0.7676858097635825,-0.8278264690856537,-0.87969575997167,-0.9227754216128067,-0.9566350162701879,-0.9809362300664916,-0.9954362533063774,-0.9999902065507035,-0.9945525882039892,-0.9791777291513174,-0.954019249902089,-0.9193285256646757,-0.8754521746884285,-0.8228285949687089,-0.7619835839190333,-0.6935250847771224,-0.6181371122370333,-0.5365729180004349,-0.44964746453460147,-0.3582292822368287,-0.26323179136580094,-0.1656041754483094,-0.06632189735120068,0.033623047221136695,0.13323204141994222,0.23150982510153895,0.32747443913769303,0.4201670368266409,0.5086614643723737,0.592073514707223,0.6695697621966024,0.7403758899524486,0.803784426551621,0.8591618148564958,0.9059547423084618,0.9436956694441048,0.9720075013949759,0.9906073556948704,0.9993093887479176,0.9980266527163617,0.9867719642746133,0.9656577765492774,0.934895055524683,0.8947911721405042,0.8457468311429343,0.7882520673753163,0.722881349511976,0.6502878401571168,0.5711968696599886,0.4863986888537997,0.39674057313061206,0.30311835674570226,0.2064674819377966,0.10775365229944406,0.007963183785937343,-0.09190685022768164,-0.19085858137418937,-0.2879033166650653,-0.3820714171840091,-0.47242198639846616,-0.5580522712867794,-0.6381066823479474,-0.711785342369123,-0.7783520785342984,-0.8371417780197468,-0.8875670335815046,-0.9291240127343684,-0.9613974918795568,-0.9840650050816434,-0.9969000660415961,-0.9997744310730111,-0.9926593804706332,-0.9756260054681576,-0.948844497918124,-0.9125824497911845,-0.8672021794855813,-0.8131571116614885,-0.7509872467716762,-0.6813137655554999,-0.6048328224062841,-0.5223085896267315,-0.43456562207189675,-0.34248061846961253,-0.2469736617366209,-0.1489990258141988,-0.04953564087836742,0.05042268780681122,0.14987720966295234,0.24783420798295983,0.3433149288198954,0.4353653603728932,0.5230657651576964,0.605539869719601,0.6819636200681356,0.7515734153521483,0.8136737375071054,0.8676441006416673,0.9129452507276277,0.9491245536478946,0.9758205177669755,0.9927664058359071,0.9997929001426692,0.9968297942787993,0.9839066946186161,0.9611527245021165,0.9287952340772404,0.8871575286923511,0.8366556385360561,0.7777941618010928,0.7111612229059825,0.6374225961502389,0.5573150535176614,0.47163900309419615,0.3812504916549401,0.28705265132772845,0.18998667579543774,0.09102241619984787,-0.008851309290403876,-0.10863659542407976,-0.20733642060675878,-0.30396460881104703,-0.3975556831214329,-0.4871745124605095,-0.5719256551095638,-0.6509623056662469,-0.723494756044245,-0.7887982859754165,-0.8462204041751706,-0.8951873678196818,-0.9352099151945389,-0.9658881542360704,-0.9869155581206488,-0.9980820279793963,-0.9992759921366277,-0.9904855208971565,-0.9717984457438633,-0.9434014817545555,-0.9055783620066239,-0.8587070026099295,-0.8032557266939547,-0.7397785850778934,-0.6689098203780243,-0.5913575298651244,-0.5078965903906221,-0.41936091607323134,-0.32663512610472223,-0.23064570592739567,-0.13235175009777303,-0.03273537933084532,0.06720807252547492,0.16648000353715925,0.2640885213844694,0.3590583540221683,0.4504405942753893,0.5373221810064719,0.6188350221200393,0.694164668252242,0.7625584504796027,0.8233330007380816,0.8758810798108894,0.9196776446620198,0.9542850944926969,0.979357643103917,0.9946447738778381,0.9999937428570207,0.9953511049115591,0.9807632477451529,0.956375928404503,0.9224328169230858,0.8792730616507243,0.8273279005953786,0.7671163526355301,0.6992400316550977,0.6243771354163914,0.5432756692322478,0.4567459721441928,0.36565262028262135,0.27090578830786904,0.1734521552458921,0.07426544558436131,-0.02566329986055949,-0.12533562609642912,-0.22375564018679642,-0.3199399618841981,-0.4129275492405401,-0.5017893010205742,-0.5856373399742976,-0.6636338842129675,-0.7349996180487777,-0.7990214786596137,-0.8550597807770702,-0.9025546082101854,-0.9410314083429535,-0.9701057337071853,-0.9894870832545352,-0.9989818049469494,-0.9984950306638146,-0.9880316240928618,-0.9676961321338052,-0.9376917403002811,-0.8983182425573547,-0.8499690458793281,-0.7931272394572851,-0.7283607678315934,-0.6563167561777904,-0.5777150444457317,-0.4933409949567783,-0.404037645323065,-0.3106972850943722,-0.2142525402958877,-0.11566705493723693,-0.0159258626001018,0.08397445569174683,0.183035728980588,0.2802681697690195,0.374700263649462,0.46538847635495545,0.5514266812416906,0.631955213006885,0.7061694571803344,0.7733278895662207,0.8327594853077798,0.8838704235458307,0.9261500206805285,0.9591758329530804,0.9826178773641395,0.9962419287548636,0.9999118601072672,0.9935910026803949,0.9773425123922587,0.9513287387867827,0.915809602890819,0.8711400001691764,0.8177662545264418,0.756221658786063,0.6871211462047443,0.611155146262596,0.5290826861200238,0.4417238066692238,0.3499513689566622,0.2546823328440351,0.15686859504841,0.057487478104924564,-0.04246803471695152,-0.1419992209740017,-0.24011159795377449,-0.3358248592171419,-0.428182669496151,-0.516262220079927,-0.5991834492142653,-0.6761178353877643,-0.7462966756449163,-0.8090187662119065,-0.863657408692956,-0.9096666718335282,-0.9465868462849605,-0.9740490378683264,-0.9917788534431158,-0.9995991425528029,-0.9974317674536479,-0.9852983838412038,-0.9633202244737609,-0.9317168878547055,-0.8908041440768614,-0.8409907797521016,-0.7827745135506544,-0.7167370231606575,-0.6435381333569995,-0.5639092232502625,-0.478645918588415,-0.38860014212734334,-0.29467160150025756,-0.19779879963646227,-0.09894965755028955,0.0008881568057175921,0.10071709699250053,0.1995397052387874,0.2963685787093853,0.39023623530794616,0.480204780438259,0.5653752781370229,0.6448967329448674,0.7179745927716441,0.783878687798293,0.8419505260923049,0.8916098730414407,0.932360548866189,0.9637953862840878,0.985600298790633,0.9975574189078051,0.999547275043892,0.9915499852141411,0.9736454556949781,0.9460125826269081,0.9089274645434138,0.8627606436856788,0.8079734036669851,0.7451131604793488,0.6748079928938668,0.5977603669052548,0.5147401169238381,0.42657675384457316,0.33415117684842055,0.23838687174889206,0.1402406838270716,0.040693257349864856,-0.05926076270338633,-0.158622668804709,-0.256399669633018,-0.3516148097168163,-0.4433167308503208,-0.5305891777502036,-0.6125601529754698,-0.6884106296376704,-0.7573827348468307,-0.8187873221268436,-0.8720108571392737,-0.9165215479156338,-0.9518746583469646,-0.9777169518400209,-0.9937902207405457,-0.9999338662588036,-0.996086503119594,-0.9822865729036345,-0.9586719599519926,-0.9254786136713307,-0.8830381910054188,-0.8317747426285983,-0.7722004759716072,-0.7049106374142481,-0.630577564780328,-0.5499439695603477,-0.46381551598382736,-0.3730527710886221,-0.27856260621955026,-0.1812891358696948,-0.0822042844004434,0.017701925105413577,0.11743126282709573,0.2159872661882241,0.31238519618149074,0.40566187655533587,0.4948853175526281,0.5791640280442709,0.6576559230138694,0.7295767373928534,0.7942078621778189,0.8509035245341184,0.899097240144582,0.9383074733335544,0.9681424484121893,0.988304064171637,0.9985908724117705,0.9989000907450211,0.9892286295640171,0.9696731229119208,0.940428962947006,0.9017883476488092,0.8541373612725007,0.7979521167226309,0.7337939983903741,0.6623040529862428,0.5841965844132856,0.500252016678587,0.4113090961545671,0.3182565111024882,0.22202401219308238,0.123573122745224,0.023887531502738858,-0.07603673605835357,-0.17520126968714714,-0.27261525014307375,-0.36730534913419133,-0.45832545449176587,-0.544766123410311,-0.6257636692994736,-0.7005087914549692,-0.7682546613236668,-0.8283243845676455,-0.880117764368662,-0.9231172983963569,-0.9568933495204878,-0.981108438603097,-0.9955206164785154,-0.9999858814294444,-0.9944596180045154,-0.9789970428011298,-0.9537526527594719,-0.918978681480152,-0.8750225789894467,-0.8223235401334913,-0.7614081162885409,-0.6928849542336957,-0.6174387147534618,-0.5358232317335149,-0.4488539801017046,-0.3573999278721113,-0.26237485370392877,-0.1647282167271322,-0.06543566986070695,0.03451068858880273,0.13411222764565714,0.23237376165548454,0.3283134938514034,0.42097282614277115,0.5094259371104293,0.5927890325083126,0.6702291758433747,0.7409726108017196,0.8043124923659141,0.8596159493767461,0.9063304079726637,0.9439891127251193,0.972215790304539,0.9907284090790484,0.9993419970813103,0.9979704901872812,0.9866275920404853,0.9654266371297417,0.9345794583884147,0.8943942706297692,0.8452725909664269,0.7877052269841179,0.722267372754513,0.6496128616861957,0.5704676336373782,0.48562248156477883,0.39592515018183416,0.3022718655737269,0.20559838040260117,0.10687062417628851,0.007075051999930937,-0.09279121175730869,-0.19173033639936585,-0.2887537548977434,-0.3828920413264772,-0.47320459704556483,-0.5587890488516163,-0.6387902651926438,-0.712408900359854,-0.7789093812857372,-0.8376272571470276,-0.8879758383376634,-0.929452058477416,-0.9616415008848646,-0.9842225392918875,-0.996969551427024,-0.9997551733586199,-0.9925515720731387,-0.975430723573431,-0.9485636937183082,-0.9122189289890194,-0.8667595742607592,-0.812639844379108,-0.7504004857954386,-0.6806633736071279,-0.6041252979871271,-0.5215510020869119,-0.43376554097568404,-0.3416460379628515,-0.2461129206718663,-0.14812072443163635,-0.04864855487508726,0.051309694960699495,0.1507552752851691,0.24869455873205093,0.3441489683555804,0.43616475524782494,0.5238225280825325,0.6062464393693456,0.6826129366324043,0.7521589910744745,0.8141897215084345,0.8680853373804215,0.9133073315121647,0.9494038606867011,0.9760142603164502,0.9928726480845371,0.9998105805530253,0.9967587361940652,0.9837476080276871,0.9609071989456205,0.9284657227653786,0.8867473239932281,0.8361688390794311,0.7772356315262264,0.7105365424627492,0.6367380071391379,0.5565773961257936,0.4708556477503867,0.38042926538684807,0.2862017595567536,0.18911462035089152,0.09013791037146546,-0.00973942781276056,-0.10951945285370121,-0.20820519572405266,-0.3048106211022167,-0.3983704795113227,-0.4879499517729242,-0.572653989411214,-0.6516362576815548,-0.7241075918674496,-0.7893438823535511,-0.8466933096895727,-0.8955828573547701,-0.9355240371496152,-0.9661177700083929,-0.987058373465322,-0.9981366159327038,-0.9992418072737845,-0.9903629047820123,-0.9715886235161092,-0.9431065498885319,-0.9052012673640456,-0.8582515129958178,-0.802726393209964,-0.7391806966492228,-0.668249350908215,-0.5906410785467989,-0.507131315768532,-0.41855446451842543,-0.32579555541456173,-0.22978140481468803,-0.13147135437353982,-0.03184768561815004,0.06809419468449814,0.16735570030280691,0.26494504308412953,0.3598871425741427,0.45123336869842146,0.5380710201605928,0.6195324438519512,0.6948037041545392,0.7631327155167837,0.8238367570437177,0.8763092940185007,0.9200260381967907,0.9545501863215905,0.9795367845170094,0.9947361749533432,0.9999964903456066,0.9952651713612277,0.980589491775534,0.9561160861278065,0.9220894845974522,0.8788496697392535,0.8268286794901034,0.7665462903887128,0.6986048241402639,0.6236831294170677,0.5425297990269575,0.45595569022148996,0.36482582287824245,0.2700507365081657,0.17257739244581813,0.07337971212463937,-0.026551154023966794,-0.12621672981821014,-0.22462118976982778,-0.32078130904314506,-0.4137362875127194,-0.5025573497604873,-0.5863570250928222,-0.6642980148543038,-0.7356015584390794,-0.7995552144094876,-0.8555199789753223,-0.9029366707085427,-0.9413315176992298,-0.9703208913278909,-0.9896151393558494,-0.999021480034635,-0.9984459283175113,-0.9878942349269819,-0.9674718288954816,-0.9373827641533214,-0.8979276806892913,-0.8495008006552434,-0.7925859894286711,-0.7277519209898311,-0.6556463959192523,-0.5769898687885426,-0.4925682496163913,-0.40322505131547626,-0.3098529615903106,-0.21338492349669264,-0.11478481378318722,-0.015037812153175139,0.0848594423250458,0.18390880930634296,0.28112062025723483,0.375523566896625,0.46617440618717204,0.5521673849078803,0.6326432896408476,0.7067980317478022,0.7738906815578891,0.8332508714920985,0.8842854941544844,0.9264846284651933,0.9594266346233836,0.9827823669926928,0.996318462815671,0.9998996738972931,0.9934902179602213,0.9771541361694929,0.9510546532543747,0.9154525466208107,0.8707035407497848,0.8172547529159183,0.7556402257394118,0.6864755912087755,0.6104519194894429,0.5283288139791364,0.440926821601849,0.34911923417413226,0.25382336276203626,0.1559913722120709,0.056600767434840576,-0.04335537350085837,-0.14287832187593194,-0.2409736772881011,-0.3366613033721151,-0.4289851209982793,-0.5170226610990435,-0.5998942816750875,-0.6767719568873076,-0.7468875504173764,-0.8095404904318835,-0.8641047694644948,-0.9100351992756844,-0.9468728581933475,-0.9742496765064971,-0.9918921140961229,-0.9996238935576389,-0.9973677615064545,-0.9851462604682474,-0.9630815036415007,-0.9313939547827833,-0.8904002254057892,-0.8405099113037167,-0.7822215000035424,-0.716117390043384,-0.6428580718388389,-0.5631755282811168,-0.4778659210058768,-0.38778163540943045,-0.2938227638955397,-0.19692811244968383,-0.09806582040002382,0.001776312910836964,0.1016006978902495,0.2004099222810683,0.2972167169751811,0.39105382048004866,0.48098364347589934,0.5661076368981803,0.6455752699428805,0.7185925282891343,0.7844298476278219,0.8424294032270538,0.8920116826993705,0.9326812762980158,0.9640318268873361,0.9857500901289485,0.9976190643156521,0.9995201585807313,0.9914343778187099,0.9734425124781552,0.945724331330235,0.9085567852785591,0.862311240157329,0.8074497661666465,0.7445205210198249,0.6741522729327462,0.5970481181796262,0.5139784559875352,0.42577329096190625,0.33331393995491093,0.23752422623883931,0.13936124896924576,0.039805820166669656,-0.06014733523295702,-0.15949951834101572,-0.257258034985328,-0.35244611438228074,-0.4441126687075084,-0.5313417960511413,-0.6132619318068891,-0.6890545570574539,-0.7579623769450643,-0.8192968873112808,-0.872445254003028,-0.9168764361088418,-0.9521464919441047,-0.9779030147696511,-0.9938886539233752,-0.9999436861830071,-0.996007611667735,-0.9821197583330232,-0.9584188890186744,-0.9251418149764185,-0.8826210297301447,-0.8312813869105229,-0.7716358552579918,-0.7042803932086152,-0.6298879942744539,-0.5492019627147913,-0.4630284866857027,-0.3722285830745313,-0.2777094945036767,-0.1804156244623088,-0.0813191011387902,0.01858993576280033,0.11831322817125059,0.21685437391298126,0.31322878243308516,0.40647351249878755,0.49565689358989423,0.579887834842624,0.6583247285350505,0.730183859153167,0.7947472340173191,0.8513697572276862,0.8994856752492519,0.9386142297341663,0.9683644611001854,0.9884391148696253,0.9986376117378207,0.9988580516952367,0.9890982321786865,0.9694556700786149,0.9401266273825573,0.9014041501902339,0.8536751406938125,0.7974164913790545,0.7331903200732922,0.6616383534498556,0.5834755151072989,0.4994827822891639,0.4104993826174394,0.31741440880766936,0.22115793514834708,0.12269172450610251,0.022999618709098966,-0.0769222916753969,-0.1760756199485871,-0.27346965883011287,-0.36813127927767236,-0.4591146536706982,-0.545510706207386,-0.6264561960895026,-0.7011423427391804,-0.7688229068670624,-0.828821646648584,-0.8805390745088115,-0.9234584470040598,-0.9571509279516225,-0.9812798732191279,-0.9956041943614251,-0.9999807674966553,-0.9943658633527529,-0.9788155841958844,-0.9534853032751422,-0.9186281123844159,-0.8745922930528203,-0.8218178366308225,-0.7608320480420697,-0.6922442771269088,-0.6167398302202408,-0.535073122797084,-0.44806014160260915,-0.3565702915822329,-0.2615177090748213,-0.163852128064609,-0.06454939075307359,0.03539830273366068,0.13499230808060345,0.23323751490774314,0.32915228958398285,0.4217782833859938,0.5101900080017631,0.5935040827039737,0.6708880607981837,0.741568747154996,0.8048399237202818,0.8600694058124532,0.9067053587028945,0.9442818113661253,0.972423312308248,0.9908486809542003,0.9993738171110836,0.9979135404364571,0.986482441532148,0.9651947361597926,0.9342631240346855,0.8939966636005579,0.8447976840197418,0.7871577652331794,0.7216528262561783,0.6489373707859244,0.5697379476169631,0.48484589120574,0.3951094149183201,0.30142513596285736,0.20472911668674296,0.10598751175115685,0.006186914632966696,-0.09367550009112813,-0.19260194018330173,-0.28960396535491445,-0.38371236343503057,-0.4739868344181481,-0.5595253856309882,-0.6394733441450939,-0.7130318963862962,-0.7794660696158047,-0.8381120755349393,-0.8883839426383546,-0.9297793710476092,-0.9618847513255586,-0.9843792971250844,-0.997038250380271,-0.9997351270146861,-0.9924429807284667,-0.9752346722368396,-0.9482821412699473,-0.9118546886078871,-0.8663162853163362,-0.8121219360680021,-0.7498131328862885,-0.6800124447360529,-0.603417297020244,-0.5207930031358368,-0.43296511771538676,-0.34081118795795157,-0.24525198546765434,-0.1472423062080925,-0.04776143049672075,0.052196661640330246,0.15163322198820756,0.24955471330524379,0.344982736418755,0.4369638060661144,0.5245788778042787,0.6069525307981571,0.683261714736121,0.7527439734767368,0.814705063258458,0.868525889353781,0.9136686918591765,0.9496824188142243,0.9762072329637521,0.9929781071327172,0.9998274722901326,0.9966868918434463,0.9835877454343449,0.960660915403746,0.9281354790587077,0.8863364198077192,0.8356813800338723,0.7766764881502718,0.709911301532188,0.6360529158546612,0.5558392996930657,0.47007192098496936,0.3796077390275217,0.2853506420233468,0.18824241572844258,0.08925333344026325,-0.01062753865243582,-0.11040222389190282,-0.20907380660436528,-0.30565639295186264,-0.39918496165754186,-0.4887250061793565,-0.5733818719904229,-0.6523096956714092,-0.7247198564981747,-0.7898888560793348,-0.8471655473131,-0.8959776404338033,-0.9358374211421241,-0.9663466236851204,-0.9872004101959753,-0.9981904165332236,-0.9992068341863537,-0.9902395074461606,-0.9713780348772248,-0.9428108740786868,-0.9048234586781893,-0.857795346373455,-0.8021964265172008,-0.7385822251380614,-0.6675883543081758,-0.5899241613174027,-0.5063656411097588],\\\"type\\\":\\\"scatter\\\",\\\"name\\\":\\\"solution\\\",\\\"x\\\":[1.0,0.9950041652780258,0.9800665778412416,0.955336489125606,0.9210609940028851,0.8775825618903728,0.8253356149096783,0.7648421872844885,0.6967067093471654,0.6216099682706644,0.5403023058681398,0.4535961214255773,0.3623577544766736,0.26749882862458735,0.16996714290024104,0.0707372016677029,-0.029199522301288815,-0.12884449429552464,-0.2272020946930871,-0.32328956686350335,-0.4161468365471424,-0.5048461045998576,-0.5885011172553458,-0.666276021279824,-0.7373937155412454,-0.8011436155469337,-0.8568887533689473,-0.9040721420170612,-0.9422223406686581,-0.9709581651495905,-0.9899924966004454,-0.9991351502732795,-0.9982947757947531,-0.9874797699088649,-0.9667981925794611,-0.9364566872907963,-0.896758416334147,-0.848100031710408,-0.7909677119144168,-0.7259323042001402,-0.6536436208636119,-0.5748239465332692,-0.4902608213406994,-0.40079917207997545,-0.30733286997841935,-0.2107957994307797,-0.11215252693505487,-0.01238866346289056,0.0874989834394464,0.18651236942257576,0.28366218546322625,0.37797774271298024,0.4685166713003771,0.5543743361791608,0.6346928759426347,0.70866977429126,0.7755658785102496,0.8347127848391598,0.8855195169413189,0.9274784307440359,0.960170286650366,0.9832684384425845,0.9965420970232175,0.9998586363834151,0.9931849187581926,0.9765876257280235,0.9502325919585296,0.9143831482353194,0.8693974903498253,0.8157251001253568,0.7539022543433046,0.6845466664428066,0.6083513145322546,0.5260775173811053,0.43854732757439036,0.3466353178350258,0.2512598425822557,0.15337386203786435,0.05395542056264975,-0.04600212563953695,-0.14550003380861354,-0.2435441537357911,-0.3391548609838345,-0.43137684497062084,-0.5192886541166856,-0.6020119026848236,-0.6787200473200125,-0.7486466455973987,-0.811093014061656,-0.8654352092411123,-0.9111302618846769,-0.9477216021311119,-0.9748436214041636,-0.9922253254526034,-0.9996930420352065,-0.9971721561963784,-0.984687855794127,-0.9623648798313102,-0.9304262721047533,-0.8891911526253609,-0.8390715290764524,-0.7805681801691837,-0.7142656520272002,-0.6408264175949933,-0.5609842574272288,-0.47553692799599256,-0.3853381907718296,-0.2912892817213455,-0.1943299064553348,-0.09542885100095065,0.004425697988050785,0.10423602686569688,0.2030048638187504,0.2997453432770149,0.3934908663478909,0.4833047587530059,0.5682896297679736,0.6475963386538759,0.7204324789908387,0.7860702961410393,0.8438539587324921,0.8932061115093225,0.9336336440746373,0.9647326178866098,0.9861923022788637,0.9977982791785807,0.9994345855010047,0.9910848718142532,0.9728325656974354,0.9448600381598606,0.9074467814501962,0.8609666164623065,0.8058839576404507,0.7427491727036695,0.6721930835534681,0.594920663309892,0.511703992453149,0.42337454445066547,0.33081487794904696,0.23494981853982308,0.1367372182078336,0.03715838479082641,-0.06279172292408176,-0.16211443649971827,-0.25981735621375585,-0.354924266788705,-0.4464848914122656,-0.5335843865891177,-0.6153524829547208,-0.6909721807191258,-0.7596879128588213,-0.8208130944926683,-0.8737369830110802,-0.9179307804142932,-0.9529529168871803,-0.9784534628188842,-0.9941776251838151,-0.9999682933493399,-0.9957676088732885,-0.9816175436063844,-0.9576594803233847,-0.9241328000731296,-0.8813724903622346,-0.829805798070649,-0.7699479605420717,-0.7023970575027135,-0.627828035246386,-0.5469859627942356,-0.46067858741136253,-0.36976826386317313,-0.27516333805159693,-0.17780907112311564,-0.07867819473184015,0.021238808173646012,0.12094359992847414,0.2194399632114593,0.31574375491924334,0.4088927393988798,0.49795620278841546,0.5820442524021224,0.6603167082440802,0.7319914978089467,0.7963524702919231,0.8527565521308732,0.9006401723847685,0.939524893748256,0.9690221929390499,0.9888373426941459,0.9987723565872102,0.9987279672435017,0.9887046181866692,0.9688024594072101,0.9392203466968708,0.9002538547473045,0.8522923238654644,0.7958149698139441,0.7313860956454967,0.6596494533734619,0.5813218118144357,0.4971857948712053,0.40808206181339196,0.3149009076879342,0.21857336778526265,0.12006191504242673,0.02035084333168298,-0.07956356727854007,-0.17868300502473455,-0.27601710124946705,-0.37059332583764143,-0.46146670441590937,-0.5477292602242684,-0.628519086319688,-0.7030289574653861,-0.7705143956585688,-0.8303011087085252,-0.8817917275413242,-0.9244717749141217,-0.9579148059017156,-0.9817866687932767,-0.9958488438257794,-0.9999608263946371,-0.9940815309292618,-0.9782697014065075,-0.9526833244002685,-0.9175780505318613,-0.8733046400935156,-0.820305458367489,-0.7591100556583898,-0.6903298762015725,-0.6146521488144698,-0.5328330203333975,-0.44569000044433316,-0.35409379339635894,-0.2589595982126113,-0.16123796432418885,-0.061905293994420546,0.03804591356977048,0.1376169789418758,0.2358130209505226,0.3316528972032495,0.424179007336997,0.5124668610443709,0.5956343152752086,0.6728503883183468,0.743343562696173,0.8064094939122546,0.8614180480287028,0.9078195977561953,0.9451505141481711,0.9730377990279994,0.9912028118634736,0.9994640538508954,0.9977389813911304,0.9860448308379632,0.9644984462781496,0.933315112063922,0.8928064017629097,0.843377065018043,0.7855209834229068,0.7198162358201257,0.6469193223286404,0.5675586048115439,0.4825270293251048,0.3926742032638758,0.2988979063644716,0.20213512038718198,0.10335266710397087,0.003537548134909945,-0.09631291684576058,-0.19520105499812226,-0.2921388087338362,-0.38615760806093263,-0.4763180482150152,-0.5617192758811498,-0.641507990222383,-0.7148869687796651,-0.7811230330551143,-0.8395543741892203,-0.8895971655362084,-0.9307513960668837,-0.9626058663135666,-0.9848422969392384,-0.9972385088794737,-0.9996706432822098,-0.9921143990644506,-0.9746452757206577,-0.9474378189567576,-0.9107638766871473,-0.8649898828201886,-0.8105731959717327,-0.7480575296890004,-0.6780675198445586,-0.6013024834811548,-0.5185294314669792,-0.43057540477663,-0.3383192109710552,-0.24268264344292018,-0.1446212711617233,-0.04511489094451135,0.05484226235001441,0.15425144988758405,0.2521194079266271,0.3474682721812599,0.43934534831800104,0.5268326309626091,0.6090559761063562,0.6851938352639869,0.7544854641146261,0.8162385236075703,0.8698359975852092,0.9147423578045313,0.9505089147582922,0.976778300832261,0.9932880410042931,0.9998731754079828,0.9964679075571249,0.983106261762453,0.9599217431719754,0.9271460038316639,0.8851065280947898,0.8342233605065102,0.7750049088576295,0.7080428643420057,0.6340062895737355,0.5536349335346549,0.4677318402470736,0.37715532502333365,0.28281039846293554,0.1856397238857913,0.08661419855190752,-0.013276747223059479,-0.1130350361284828,-0.2116639163173255,-0.3081779206211071,-0.4016127130121261,-0.49103472393024045,-0.5755504782013432,-0.6543155223459516,-0.7265428620792296,-0.7915108256977569,-0.8485702747846052,-0.897151090185845,-0.9367678684526696,-0.9670247718322008,-0.9876194833474773,-0.9983462274487422,-0.9990978260547261,-0.9898667694406034,-0.9707452912726824,-0.941924447040094,-0.9036922050915067,-0.856430569350572,-0.8006117624589936,-0.7367935074839925,-0.6656134553337595,-0.587782813560387,-0.504079240209085,-0.4153390737160569,-0.3224489764913089,-0.22633707568091363,-0.12796368962740468,-0.02831173268631065,0.07162310572917044,0.17084230974764966,0.26835451388009673,0.36318540841606234,0.45438747440426913,0.5410494509487578,0.6223054402265309,0.6973435592523954,0.7654140519453434,0.8258367804435001,0.8780080208168103,0.9214064952769806,0.9555985806128394,0.9802426408101081,0.9950924405655388,0.9999996055886664,0.9949151051086736,0.9798897417736435,0.9550736440472949,0.920714766174998,0.8771564107069181,0.824833798332418,0.7642697192987803,0.6960693098638897,0.6209140059747617,0.5395547345848157,0.45280441063998716,0.36152981470127576,0.26664293235993725,0.16909184197889304,0.0698512418071273,-0.030087288883017482,-0.12972519732818566,-0.22806693448309956,-0.3241299022175636,-0.41695427111217037,-0.5056125707565755,-0.5892189567272824,-0.6669380616522619,-0.737993341925624,-0.8016748366746302,-0.8573462614540484,-0.9044513657900166,-0.9425194910508831,-0.9711702731126902,-0.990117442831766,-0.9991716863513785,-0.9982425366632164,-0.9873392775238264,-0.9665708506943913,-0.9361447674306613,-0.8963650350990852,-0.8476291196356829,-0.7904239741978156,-0.7253211736891915,-0.652971203772368,-0.5740969614310395,-0.4894865320223113,-0.39998531498835127,-0.306487576904594,-0.20992751626372916,-0.11126992927317506,-0.011500569930264862,0.08838369930580556,0.187384867834179,0.2845137487043553,0.3787998622452124,0.46930113277710883,0.5551133015206257,0.6353789616514094,0.7092961252257328,0.7761262363789225,0.8352015507314431,0.8859318072699817,0.9278101260403985,0.9604180727246712,0.9834298394982833,0.996615500394315,0.9998433086476912,0.9930810130653156,0.9763961802693296,0.9499555195937606,0.9140232173799544,0.8689582973139933,0.8152110331806943,0.7533184498767937,0.6838989576357016,0.6076461730768479,0.5253219888177297,0.43774896089470705,0.3458020900549924,0.2504000790384286,0.15249615320336748,0.05306853621402457,-0.046889324047043116,-0.14637868168178253,-0.2444054719155097,-0.3399902434635718,-0.4321779448847783,-0.5200474671397309,-0.6027208470078607,-0.6793720394057057,-0.7492351709563533,-0.8116121923430246,-0.8658798529871259,-0.9114959283620049,-0.9480046377211832,-0.975041198108924,-0.9923354691509287,-0.9997146522076715,-0.9971050169212831,-0.9845326379049155,-0.9621231342138227,-0.9301004142012892,-0.8887844383003768,-0.8385880220850412,-0.7800127115533817,-0.7136437718457987,-0.6401443394691997,-0.5602487964562096,-0.47475543266265885,-0.3845184695192305,-0.29043952493326675,-0.1934586046207122,-0.09454470987969996,0.005313844350104288,0.10511930440367864,0.2038744471154807,0.3005925437436371,0.39430721903739135,0.48408210693916126,0.569020206444659,0.6482728441404405,0.7210481538680822,0.7866189887891044,0.8443301867958127,0.8936051166745066,0.9339514396139714,0.9649660284921133,0.9863389957889219,0.9978567898801314,0.9994043287744588,0.990966149974821,0.9726265649744922,0.9445688168445349,0.9070732493296052,0.8605145057459292,0.8053577856691141,0.7421541968137826,0.6715352485474484,0.5942065420576682,0.5109407202182221,0.42256974759689664,0.32997659774057014,0.23408643079538105,0.1358573496123707,0.036270826700509684,-0.06367810232220862,-0.16299078079570548,-0.2606749092650805,-0.35575446020874757,-0.44727943018279204,-0.5343353319413789,-0.616052331690985,-0.6916139401821607,-0.7602651708002094,-0.8213200831418711,-0.8741686367051074,-0.9182827862121189,-0.9532217576632306,-0.9786364524049915,-0.9942729352085223,-0.9999749715063864,-0.9956855884367365,-0.9814476440973232,-0.9574033993215472,-0.9237930962552401,-0.8809525579365467,-0.8293098328631502,-0.7693809180731687,-0.7017646034733183,-0.6271364889281041,-0.5462422338892768,-0.4598901070131037,-0.3689429102071134,-0.2743093577986452,-0.176934996961678,-0.07779276012199682,0.022126756261955736,0.12182518941147201,0.22030638553844242,0.31658635308471483,0.40970309444050645,0.49872621790648564,0.5827662338601124,0.6609834422419141,0.7325963225609062,0.7968893425890228,0.853220107722584,0.901025779576851,0.9398286996811099,0.9692411620842172,0.9889692871843125,0.9988159580766447,0.9986827900805341,0.9885711137665782,0.9685819616620323,0.9389150587671867,0.8998668269691938,0.8518274232925497,0.7952768415790757,0.7307801165481209,0.6589816781564026,0.580598912666927,0.4964149947625673,0.4072710623235205,0.31405781205565797,0.21770659994343905,0.11918013544881928,0.019462862436509885,-0.08044887706369817,-0.17955679797714189,-0.2768706467187912,-0.37141809547969407,-0.4622544574050628,-0.5484721255930483,-0.6292096416028825,-0.7036603028628813,-0.7710802229758452,-0.8307957643860683,-0.882210269143113,-0.9248100205108198,-0.9581693758551346,-0.9819550195245901,-0.9959292932301297,-0.9999525706481683,-0.9939846525206644,-0.9780851683128157,-0.9524129804151563,-0.9172245968430627,-0.872871608293454,-0.8197971751667733,-0.7585315996547397,-0.6896870271361664,-0.6139513298226686,-0.5320812337669102,-0.4448947579060306,-0.3532630406868024,-0.25810163593826746,-0.1603613649604949,-0.061018816232456675,0.03893341233723022,0.13849663112052565,0.23667603734656428,0.33249065484213236,0.4249831356213158,0.5132293253901121,0.596347497390676,0.6735071623235862,0.7439373663224272,0.8069343940699728,0.8618688000890143,0.9081916979535181,0.9454402445803316,0.9732422648042924,0.9913199700294487,0.9994927338008853,0.9976788965645558,0.9858965815825497,0.9642635138514517,0.9329958438330894,0.8924059877505722,0.842899506028648,0.784971051068018,0.7191994248420474,0.6462417956987768,0.5668271321520261,0.4817489192689455,0.39185723042955,0.29805023367448796,0.2012652175068453,0.10246922581532364,0.0026493954912638444,-0.0971969067167568,-0.19607204956188945,-0.292988105300616,-0.38697672074015643,-0.47709879270357103,-0.562453851238172,-0.6421890568137261,-0.7155077216130871,-0.7816772697734873,-0.8400365570424713,-0.8900024767126464,-0.9310757858312143,-0.9628460934704971,-0.9849959612184215,-0.9973040749182293,-0.99964745596635,-0.992002690073972,-0.9744461612148652,-0.9471532884219778,-0.9103967730584245,-0.8645438740756395,-0.8100527384833012,-0.747467823695864,-0.6774144574940792,-0.6005925899564515,-0.5177697997895051,-0.42977362493500315,-0.33748329408441025,-0.24182094171648436,-0.14374239443428918,-0.04422762066183892,0.05572906087655675,0.15512891606026627,0.2529787743934896,0.34830095243665155,0.4401430224960407,0.5275873289665896,0.6097601572433005,0.6858404635887347,0.7550680787307162,0.8167513032223336,0.8702738186742403,0.9151008458042379,0.950784487775076,0.9769682054316357,0.9933903797222716,0.9998869257099253,0.9963929320545596,0.982943309585819,0.9596724424855533,0.926812845565509,0.8846928410561699,0.8337332781195631,0.7744433278635736,0.7074153958724908,0.6333192030862999,0.5528950941703664,0.46694664023629,0.37633260982502265,0.281958388375392,0.18476693191217952,0.0857293453411282,-0.014164820510231907,-0.11391745615730677,-0.21253186623857634,-0.3090227281660707,-0.4024259371430629,-0.49180823918046324,-0.5762765558621497,-0.6549869076893757,-0.7271528468448446,-0.7920533151194147,-0.8490398484873364,-0.8975430563444248,-0.9370783106708145,-0.9672505882738824,-0.9877584177294543,-0.9983968915845978,-0.9990597137251612,-0.9897402614514161,-0.9705316516498831,-0.9416258104001762,-0.9033115553130557,-0.855971709760354,-0.8000792778303477,-0.7361927182273159,-0.6649503643367158,-0.5870640462090193,-0.5033119781891867,-0.41453098325609555,-0.32160813176404734,-0.22547187812892727,-0.1270827840186229,-0.027423920738401768,0.07250895329270868,0.17171734183077755,0.26920998745148,0.36401277586657127,0.4551784689518164,0.5417961692373049,0.6230004212937645,0.697979859077217,0.7659853128302462,0.8263372945385468,0.8784327871506192,0.9217512697247493,0.955859918302251,0.9804179305413608,0.9951799309015783,0.9999984223549769,0.9948252601277343,0.9797121327468065,0.9548100455852436,0.9203678120664357,0.876729567602604,0.8243313311075577,0.7636966484397957,0.6954313613053625,0.6202175538878211,0.538806737688487,0.45201234267200896,0.360701589742968,0.2657868257612953,0.16821640767407295,0.06896522684630882,-0.03097503173121646,-0.13060579803066766,-0.2289315943687473,-0.3249699818906045,-0.4177613767742181,-0.506378638074642,-0.5899363314099478,-0.667599575928841,-0.7385923861641224,-0.802205425423044,-0.8578030932449878,-0.9048298761112322,-0.9428158979523701,-0.9713816149946635,-0.9902416080360045,-0.9992074342602034,-0.9981895100953397,-0.9871980063031853,-0.9663427463563266,-0.9358321091183142,-0.8959709467909631,-0.8471575389318963,-0.7898796129768653,-0.724709471028464,-0.6522982716026375,-0.5733695234681091,-0.48871185658585375,-0.39917114237924173,-0.30564204206642587,-0.20905906750109535,-0.11038724383904756,-0.010612467325731583,0.08926834545310194,0.18825721843234577,0.2853650875145902,0.37962168297153187,0.470085224058467,0.5558518289761377,0.6360645461588529,0.7099219166513444,0.7766859820216312,0.8356896577978102,0.8863433987555546,0.9281410894591009,0.9606651011994307,0.9835904648022342,0.9966881176125153,0.9998271922129018,0.9929763240076259,0.9762039646071967,0.9496776978825432,0.9136625655223585,0.8685184188241584,0.8146963231790934,0.7527340511756142,0.6832507093535931,0.6069405522963685,0.5245660458684595,0.4369502489087257,0.34496858949843207,0.24954011797333814,0.15161832407645098,0.05218161000373245,-0.0477764854671823,-0.14725721408812947,-0.24526659730265726,-0.34082535775129513,-0.43297870388717985,-0.5208058699375417,-0.6034293158910315,-0.6800234955873388,-0.7498231053016198,-0.8121307304063011,-0.8663238137074819,-0.9118608758306834,-0.9482869255037094,-0.9752380056790853,-0.9924448300725429,-0.9997354737825582,-0.9970370911071489,-0.9843766433940419,-0.9618806296517992,-0.9297738226135346,-0.888377022882084,-0.83810385359639,-0.7794566276458688,-0.7130213287260162,-0.6394617563830383,-0.559512893548245,-0.47397356283147857,-0.38369844494974187,-0.2895895390399107,-0.19258715018155367,-0.09366049417944437,0.006201986520476918,0.10600249902117563,0.2047438695914224,0.3014395070960506,0.3951232606884147,0.48485907327037797,0.569750334265312,0.6489488382546884,0.7216632599662002,0.7871670609342775,0.8448057488323435,0.8940034169437217,0.9342684984312387,0.9651986779105415,0.986484911252422,0.9979145134496277,0.9993732836951247,0.9908466464388278,0.9724197970216671,0.9442768504319176,0.9066990016890745,0.8600617162362019,0.8048309784133031,0.7415586354958403,0.670876883819207,0.5934919520818551,0.5101770449416689,0.42176461741053567,0.3291380572390701,0.23322285839826154,0.13497737384955097,0.03538323999893738,-0.06456443148960143,-0.16386699652087378,-0.2615322566901229,-0.35658437300160806,-0.4480736161291702,-0.5350858557978154,-0.6167516944712085,-0.6922551540844388,-0.7608418290271978,-0.8218264239151786,-0.8745996008350975,-0.9186340676476693,-0.9534898465163502,-0.9788186700204824,-0.9943674609282015,-0.9999808608605089,-0.9956027825808228,-0.9812769704001149,-0.9571465630982068,-0.9234526637284138,-0.880531930595514,-0.828813213477255,-0.7688132686991623,-0.7011315958760967,-0.626444447910339,-0.5454980740960652,-0.4591012638431009,-0.36811726552052987,-0.27345516116425417,-0.17606078322989716,-0.07690726414746452,0.02301468689618212,0.12270668279599199,0.22117263408275487,0.31742870151970165,0.41051312629904213,0.4994958396180135,0.5834877556188818,0.6616496548410261,0.7332005694242856,0.7974255862817436,0.8536829902749359,0.901410676019372,0.9401317642557823,0.9694593666699876,0.9891004515530879,0.9988587716774113,0.9986368251339447,0.9884368295391845,0.9683606998774463,0.9386090302000231,0.8994790893557311,0.8513618507788587,0.7947380860118082,0.7301735609948197,0.658313383119661,0.5798755555298325,0.4956438030705353,0.4064597415690034,0.31321446868745406,0.2168396603697181,0.118298261843216,0.01857486618859683,-0.08133412338895851,-0.18043044929108396,-0.27772397378626995,-0.3722425721387373,-0.46304184575741597,-0.5492145583145832,-0.629899700551255,-0.7042910931971771,-0.7716454420475659,-0.8312897647130767,-0.8826281148374443,-0.9251475365964139,-0.9584231899828299,-0.9821225956675267,-0.996008957022878,-0.9999435261164458,-0.9938869900344416,-0.9778998636833734,-0.9521418851450957,-0.9168704196267141,-0.8724378879524822,-0.8192882452914593,-0.7579525453041723,-0.6890436340299974,-0.6132500265321477,-0.5313290274826848,-0.44409916442465225,-0.3524320093153553,-0.25724347006749937,-0.15948463910012836,-0.060132290337467434,0.0398208803931389,0.13937617404989003,0.23753886704718638,0.3333281502048434,0.4257869286693041,0.5139913848889341,0.5970602090937172,0.6741634050511123,0.7445305831140193,0.80745865769955,0.8623188722876839]}],{\\\"template\\\":{\\\"layout\\\":{\\\"coloraxis\\\":{\\\"colorbar\\\":{\\\"ticks\\\":\\\"\\\",\\\"outlinewidth\\\":0}},\\\"xaxis\\\":{\\\"gridcolor\\\":\\\"white\\\",\\\"zerolinewidth\\\":2,\\\"title\\\":{\\\"standoff\\\":15},\\\"ticks\\\":\\\"\\\",\\\"zerolinecolor\\\":\\\"white\\\",\\\"automargin\\\":true,\\\"linecolor\\\":\\\"white\\\"},\\\"hovermode\\\":\\\"closest\\\",\\\"paper_bgcolor\\\":\\\"white\\\",\\\"geo\\\":{\\\"showlakes\\\":true,\\\"showland\\\":true,\\\"landcolor\\\":\\\"#E5ECF6\\\",\\\"bgcolor\\\":\\\"white\\\",\\\"subunitcolor\\\":\\\"white\\\",\\\"lakecolor\\\":\\\"white\\\"},\\\"colorscale\\\":{\\\"sequential\\\":[[0.0,\\\"#0d0887\\\"],[0.1111111111111111,\\\"#46039f\\\"],[0.2222222222222222,\\\"#7201a8\\\"],[0.3333333333333333,\\\"#9c179e\\\"],[0.4444444444444444,\\\"#bd3786\\\"],[0.5555555555555556,\\\"#d8576b\\\"],[0.6666666666666666,\\\"#ed7953\\\"],[0.7777777777777778,\\\"#fb9f3a\\\"],[0.8888888888888888,\\\"#fdca26\\\"],[1.0,\\\"#f0f921\\\"]],\\\"diverging\\\":[[0,\\\"#8e0152\\\"],[0.1,\\\"#c51b7d\\\"],[0.2,\\\"#de77ae\\\"],[0.3,\\\"#f1b6da\\\"],[0.4,\\\"#fde0ef\\\"],[0.5,\\\"#f7f7f7\\\"],[0.6,\\\"#e6f5d0\\\"],[0.7,\\\"#b8e186\\\"],[0.8,\\\"#7fbc41\\\"],[0.9,\\\"#4d9221\\\"],[1,\\\"#276419\\\"]],\\\"sequentialminus\\\":[[0.0,\\\"#0d0887\\\"],[0.1111111111111111,\\\"#46039f\\\"],[0.2222222222222222,\\\"#7201a8\\\"],[0.3333333333333333,\\\"#9c179e\\\"],[0.4444444444444444,\\\"#bd3786\\\"],[0.5555555555555556,\\\"#d8576b\\\"],[0.6666666666666666,\\\"#ed7953\\\"],[0.7777777777777778,\\\"#fb9f3a\\\"],[0.8888888888888888,\\\"#fdca26\\\"],[1.0,\\\"#f0f921\\\"]]},\\\"yaxis\\\":{\\\"gridcolor\\\":\\\"white\\\",\\\"zerolinewidth\\\":2,\\\"title\\\":{\\\"standoff\\\":15},\\\"ticks\\\":\\\"\\\",\\\"zerolinecolor\\\":\\\"white\\\",\\\"automargin\\\":true,\\\"linecolor\\\":\\\"white\\\"},\\\"shapedefaults\\\":{\\\"line\\\":{\\\"color\\\":\\\"#2a3f5f\\\"}},\\\"hoverlabel\\\":{\\\"align\\\":\\\"left\\\"},\\\"mapbox\\\":{\\\"style\\\":\\\"light\\\"},\\\"polar\\\":{\\\"angularaxis\\\":{\\\"gridcolor\\\":\\\"white\\\",\\\"ticks\\\":\\\"\\\",\\\"linecolor\\\":\\\"white\\\"},\\\"bgcolor\\\":\\\"#E5ECF6\\\",\\\"radialaxis\\\":{\\\"gridcolor\\\":\\\"white\\\",\\\"ticks\\\":\\\"\\\",\\\"linecolor\\\":\\\"white\\\"}},\\\"autotypenumbers\\\":\\\"strict\\\",\\\"font\\\":{\\\"color\\\":\\\"#2a3f5f\\\"},\\\"ternary\\\":{\\\"baxis\\\":{\\\"gridcolor\\\":\\\"white\\\",\\\"ticks\\\":\\\"\\\",\\\"linecolor\\\":\\\"white\\\"},\\\"bgcolor\\\":\\\"#E5ECF6\\\",\\\"caxis\\\":{\\\"gridcolor\\\":\\\"white\\\",\\\"ticks\\\":\\\"\\\",\\\"linecolor\\\":\\\"white\\\"},\\\"aaxis\\\":{\\\"gridcolor\\\":\\\"white\\\",\\\"ticks\\\":\\\"\\\",\\\"linecolor\\\":\\\"white\\\"}},\\\"annotationdefaults\\\":{\\\"arrowhead\\\":0,\\\"arrowwidth\\\":1,\\\"arrowcolor\\\":\\\"#2a3f5f\\\"},\\\"plot_bgcolor\\\":\\\"#E5ECF6\\\",\\\"title\\\":{\\\"x\\\":0.05},\\\"scene\\\":{\\\"xaxis\\\":{\\\"gridcolor\\\":\\\"white\\\",\\\"gridwidth\\\":2,\\\"backgroundcolor\\\":\\\"#E5ECF6\\\",\\\"ticks\\\":\\\"\\\",\\\"showbackground\\\":true,\\\"zerolinecolor\\\":\\\"white\\\",\\\"linecolor\\\":\\\"white\\\"},\\\"zaxis\\\":{\\\"gridcolor\\\":\\\"white\\\",\\\"gridwidth\\\":2,\\\"backgroundcolor\\\":\\\"#E5ECF6\\\",\\\"ticks\\\":\\\"\\\",\\\"showbackground\\\":true,\\\"zerolinecolor\\\":\\\"white\\\",\\\"linecolor\\\":\\\"white\\\"},\\\"yaxis\\\":{\\\"gridcolor\\\":\\\"white\\\",\\\"gridwidth\\\":2,\\\"backgroundcolor\\\":\\\"#E5ECF6\\\",\\\"ticks\\\":\\\"\\\",\\\"showbackground\\\":true,\\\"zerolinecolor\\\":\\\"white\\\",\\\"linecolor\\\":\\\"white\\\"}},\\\"colorway\\\":[\\\"#636efa\\\",\\\"#EF553B\\\",\\\"#00cc96\\\",\\\"#ab63fa\\\",\\\"#FFA15A\\\",\\\"#19d3f3\\\",\\\"#FF6692\\\",\\\"#B6E880\\\",\\\"#FF97FF\\\",\\\"#FECB52\\\"]},\\\"data\\\":{\\\"barpolar\\\":[{\\\"type\\\":\\\"barpolar\\\",\\\"marker\\\":{\\\"line\\\":{\\\"color\\\":\\\"#E5ECF6\\\",\\\"width\\\":0.5}}}],\\\"carpet\\\":[{\\\"aaxis\\\":{\\\"gridcolor\\\":\\\"white\\\",\\\"endlinecolor\\\":\\\"#2a3f5f\\\",\\\"minorgridcolor\\\":\\\"white\\\",\\\"startlinecolor\\\":\\\"#2a3f5f\\\",\\\"linecolor\\\":\\\"white\\\"},\\\"type\\\":\\\"carpet\\\",\\\"baxis\\\":{\\\"gridcolor\\\":\\\"white\\\",\\\"endlinecolor\\\":\\\"#2a3f5f\\\",\\\"minorgridcolor\\\":\\\"white\\\",\\\"startlinecolor\\\":\\\"#2a3f5f\\\",\\\"linecolor\\\":\\\"white\\\"}}],\\\"scatterpolar\\\":[{\\\"type\\\":\\\"scatterpolar\\\",\\\"marker\\\":{\\\"colorbar\\\":{\\\"ticks\\\":\\\"\\\",\\\"outlinewidth\\\":0}}}],\\\"parcoords\\\":[{\\\"line\\\":{\\\"colorbar\\\":{\\\"ticks\\\":\\\"\\\",\\\"outlinewidth\\\":0}},\\\"type\\\":\\\"parcoords\\\"}],\\\"scatter\\\":[{\\\"type\\\":\\\"scatter\\\",\\\"marker\\\":{\\\"colorbar\\\":{\\\"ticks\\\":\\\"\\\",\\\"outlinewidth\\\":0}}}],\\\"histogram2dcontour\\\":[{\\\"colorbar\\\":{\\\"ticks\\\":\\\"\\\",\\\"outlinewidth\\\":0},\\\"type\\\":\\\"histogram2dcontour\\\",\\\"colorscale\\\":[[0.0,\\\"#0d0887\\\"],[0.1111111111111111,\\\"#46039f\\\"],[0.2222222222222222,\\\"#7201a8\\\"],[0.3333333333333333,\\\"#9c179e\\\"],[0.4444444444444444,\\\"#bd3786\\\"],[0.5555555555555556,\\\"#d8576b\\\"],[0.6666666666666666,\\\"#ed7953\\\"],[0.7777777777777778,\\\"#fb9f3a\\\"],[0.8888888888888888,\\\"#fdca26\\\"],[1.0,\\\"#f0f921\\\"]]}],\\\"contour\\\":[{\\\"colorbar\\\":{\\\"ticks\\\":\\\"\\\",\\\"outlinewidth\\\":0},\\\"type\\\":\\\"contour\\\",\\\"colorscale\\\":[[0.0,\\\"#0d0887\\\"],[0.1111111111111111,\\\"#46039f\\\"],[0.2222222222222222,\\\"#7201a8\\\"],[0.3333333333333333,\\\"#9c179e\\\"],[0.4444444444444444,\\\"#bd3786\\\"],[0.5555555555555556,\\\"#d8576b\\\"],[0.6666666666666666,\\\"#ed7953\\\"],[0.7777777777777778,\\\"#fb9f3a\\\"],[0.8888888888888888,\\\"#fdca26\\\"],[1.0,\\\"#f0f921\\\"]]}],\\\"scattercarpet\\\":[{\\\"type\\\":\\\"scattercarpet\\\",\\\"marker\\\":{\\\"colorbar\\\":{\\\"ticks\\\":\\\"\\\",\\\"outlinewidth\\\":0}}}],\\\"mesh3d\\\":[{\\\"colorbar\\\":{\\\"ticks\\\":\\\"\\\",\\\"outlinewidth\\\":0},\\\"type\\\":\\\"mesh3d\\\"}],\\\"surface\\\":[{\\\"colorbar\\\":{\\\"ticks\\\":\\\"\\\",\\\"outlinewidth\\\":0},\\\"type\\\":\\\"surface\\\",\\\"colorscale\\\":[[0.0,\\\"#0d0887\\\"],[0.1111111111111111,\\\"#46039f\\\"],[0.2222222222222222,\\\"#7201a8\\\"],[0.3333333333333333,\\\"#9c179e\\\"],[0.4444444444444444,\\\"#bd3786\\\"],[0.5555555555555556,\\\"#d8576b\\\"],[0.6666666666666666,\\\"#ed7953\\\"],[0.7777777777777778,\\\"#fb9f3a\\\"],[0.8888888888888888,\\\"#fdca26\\\"],[1.0,\\\"#f0f921\\\"]]}],\\\"scattermapbox\\\":[{\\\"type\\\":\\\"scattermapbox\\\",\\\"marker\\\":{\\\"colorbar\\\":{\\\"ticks\\\":\\\"\\\",\\\"outlinewidth\\\":0}}}],\\\"scattergeo\\\":[{\\\"type\\\":\\\"scattergeo\\\",\\\"marker\\\":{\\\"colorbar\\\":{\\\"ticks\\\":\\\"\\\",\\\"outlinewidth\\\":0}}}],\\\"histogram\\\":[{\\\"type\\\":\\\"histogram\\\",\\\"marker\\\":{\\\"colorbar\\\":{\\\"ticks\\\":\\\"\\\",\\\"outlinewidth\\\":0}}}],\\\"pie\\\":[{\\\"type\\\":\\\"pie\\\",\\\"automargin\\\":true}],\\\"choropleth\\\":[{\\\"colorbar\\\":{\\\"ticks\\\":\\\"\\\",\\\"outlinewidth\\\":0},\\\"type\\\":\\\"choropleth\\\"}],\\\"heatmapgl\\\":[{\\\"colorbar\\\":{\\\"ticks\\\":\\\"\\\",\\\"outlinewidth\\\":0},\\\"type\\\":\\\"heatmapgl\\\",\\\"colorscale\\\":[[0.0,\\\"#0d0887\\\"],[0.1111111111111111,\\\"#46039f\\\"],[0.2222222222222222,\\\"#7201a8\\\"],[0.3333333333333333,\\\"#9c179e\\\"],[0.4444444444444444,\\\"#bd3786\\\"],[0.5555555555555556,\\\"#d8576b\\\"],[0.6666666666666666,\\\"#ed7953\\\"],[0.7777777777777778,\\\"#fb9f3a\\\"],[0.8888888888888888,\\\"#fdca26\\\"],[1.0,\\\"#f0f921\\\"]]}],\\\"bar\\\":[{\\\"type\\\":\\\"bar\\\",\\\"error_y\\\":{\\\"color\\\":\\\"#2a3f5f\\\"},\\\"error_x\\\":{\\\"color\\\":\\\"#2a3f5f\\\"},\\\"marker\\\":{\\\"line\\\":{\\\"color\\\":\\\"#E5ECF6\\\",\\\"width\\\":0.5}}}],\\\"heatmap\\\":[{\\\"colorbar\\\":{\\\"ticks\\\":\\\"\\\",\\\"outlinewidth\\\":0},\\\"type\\\":\\\"heatmap\\\",\\\"colorscale\\\":[[0.0,\\\"#0d0887\\\"],[0.1111111111111111,\\\"#46039f\\\"],[0.2222222222222222,\\\"#7201a8\\\"],[0.3333333333333333,\\\"#9c179e\\\"],[0.4444444444444444,\\\"#bd3786\\\"],[0.5555555555555556,\\\"#d8576b\\\"],[0.6666666666666666,\\\"#ed7953\\\"],[0.7777777777777778,\\\"#fb9f3a\\\"],[0.8888888888888888,\\\"#fdca26\\\"],[1.0,\\\"#f0f921\\\"]]}],\\\"contourcarpet\\\":[{\\\"colorbar\\\":{\\\"ticks\\\":\\\"\\\",\\\"outlinewidth\\\":0},\\\"type\\\":\\\"contourcarpet\\\"}],\\\"table\\\":[{\\\"type\\\":\\\"table\\\",\\\"header\\\":{\\\"line\\\":{\\\"color\\\":\\\"white\\\"},\\\"fill\\\":{\\\"color\\\":\\\"#C8D4E3\\\"}},\\\"cells\\\":{\\\"line\\\":{\\\"color\\\":\\\"white\\\"},\\\"fill\\\":{\\\"color\\\":\\\"#EBF0F8\\\"}}}],\\\"scatter3d\\\":[{\\\"line\\\":{\\\"colorbar\\\":{\\\"ticks\\\":\\\"\\\",\\\"outlinewidth\\\":0}},\\\"type\\\":\\\"scatter3d\\\",\\\"marker\\\":{\\\"colorbar\\\":{\\\"ticks\\\":\\\"\\\",\\\"outlinewidth\\\":0}}}],\\\"scattergl\\\":[{\\\"type\\\":\\\"scattergl\\\",\\\"marker\\\":{\\\"colorbar\\\":{\\\"ticks\\\":\\\"\\\",\\\"outlinewidth\\\":0}}}],\\\"histogram2d\\\":[{\\\"colorbar\\\":{\\\"ticks\\\":\\\"\\\",\\\"outlinewidth\\\":0},\\\"type\\\":\\\"histogram2d\\\",\\\"colorscale\\\":[[0.0,\\\"#0d0887\\\"],[0.1111111111111111,\\\"#46039f\\\"],[0.2222222222222222,\\\"#7201a8\\\"],[0.3333333333333333,\\\"#9c179e\\\"],[0.4444444444444444,\\\"#bd3786\\\"],[0.5555555555555556,\\\"#d8576b\\\"],[0.6666666666666666,\\\"#ed7953\\\"],[0.7777777777777778,\\\"#fb9f3a\\\"],[0.8888888888888888,\\\"#fdca26\\\"],[1.0,\\\"#f0f921\\\"]]}],\\\"scatterternary\\\":[{\\\"type\\\":\\\"scatterternary\\\",\\\"marker\\\":{\\\"colorbar\\\":{\\\"ticks\\\":\\\"\\\",\\\"outlinewidth\\\":0}}}],\\\"scatterpolargl\\\":[{\\\"type\\\":\\\"scatterpolargl\\\",\\\"marker\\\":{\\\"colorbar\\\":{\\\"ticks\\\":\\\"\\\",\\\"outlinewidth\\\":0}}}]}},\\\"margin\\\":{\\\"l\\\":50,\\\"b\\\":50,\\\"r\\\":50,\\\"t\\\":60}},{\\\"showLink\\\":false,\\\"editable\\\":false,\\\"responsive\\\":true,\\\"staticPlot\\\":false,\\\"scrollZoom\\\":true}); gd.on(\\\"plotly_hover\\\",(function (data){var filtered_data=WebIO.PlotlyCommands.filterEventData(gd,data,\\\"hover\\\"); return !(filtered_data.isnil) ? (WebIO.setval({\\\"name\\\":\\\"hover\\\",\\\"scope\\\":\\\"702525529916620115\\\",\\\"id\\\":\\\"4724113577496434906\\\",\\\"type\\\":\\\"observable\\\"},filtered_data.out)) : undefined})); gd.on(\\\"plotly_unhover\\\",(function (){return WebIO.setval({\\\"name\\\":\\\"hover\\\",\\\"scope\\\":\\\"702525529916620115\\\",\\\"id\\\":\\\"4724113577496434906\\\",\\\"type\\\":\\\"observable\\\"},{})})); gd.on(\\\"plotly_selected\\\",(function (data){var filtered_data=WebIO.PlotlyCommands.filterEventData(gd,data,\\\"selected\\\"); return !(filtered_data.isnil) ? (WebIO.setval({\\\"name\\\":\\\"selected\\\",\\\"scope\\\":\\\"702525529916620115\\\",\\\"id\\\":\\\"15005611176126370799\\\",\\\"type\\\":\\\"observable\\\"},filtered_data.out)) : undefined})); gd.on(\\\"plotly_deselect\\\",(function (){return WebIO.setval({\\\"name\\\":\\\"selected\\\",\\\"scope\\\":\\\"702525529916620115\\\",\\\"id\\\":\\\"15005611176126370799\\\",\\\"type\\\":\\\"observable\\\"},{})})); gd.on(\\\"plotly_relayout\\\",(function (data){var filtered_data=WebIO.PlotlyCommands.filterEventData(gd,data,\\\"relayout\\\"); return !(filtered_data.isnil) ? (WebIO.setval({\\\"name\\\":\\\"relayout\\\",\\\"scope\\\":\\\"702525529916620115\\\",\\\"id\\\":\\\"10874577078321939312\\\",\\\"type\\\":\\\"observable\\\"},filtered_data.out)) : undefined})); return gd.on(\\\"plotly_click\\\",(function (data){var filtered_data=WebIO.PlotlyCommands.filterEventData(gd,data,\\\"click\\\"); return !(filtered_data.isnil) ? (WebIO.setval({\\\"name\\\":\\\"click\\\",\\\"scope\\\":\\\"702525529916620115\\\",\\\"id\\\":\\\"6566797802677691726\\\",\\\"type\\\":\\\"observable\\\"},filtered_data.out)) : undefined}))}));\\n    (WebIO.importBlock({\\\"data\\\":[{\\\"name\\\":\\\"Plotly\\\",\\\"type\\\":\\\"js\\\",\\\"url\\\":\\\"\\/assetserver\\/5b0bcbbb362c204ec77e728ffa8c7da4be28ce8a-plotly.min.js\\\"},{\\\"name\\\":null,\\\"type\\\":\\\"js\\\",\\\"url\\\":\\\"\\/assetserver\\/6303ac4e25f5217851dbb12ecf3059151c237374-plotly_webio.bundle.js\\\"}],\\\"type\\\":\\\"async_block\\\"})).then((imports) => handler.apply(this, imports));\\n}\\n\"],\"observables\":{\"_toImage\":{\"sync\":false,\"id\":\"15873476517745613383\",\"value\":{}},\"hover\":{\"sync\":false,\"id\":\"4724113577496434906\",\"value\":{}},\"selected\":{\"sync\":false,\"id\":\"15005611176126370799\",\"value\":{}},\"__gd_contents\":{\"sync\":false,\"id\":\"2497435563359524304\",\"value\":{}},\"click\":{\"sync\":false,\"id\":\"6566797802677691726\",\"value\":{}},\"image\":{\"sync\":true,\"id\":\"1717565097277361871\",\"value\":\"\"},\"__get_gd_contents\":{\"sync\":false,\"id\":\"8618277445677354345\",\"value\":\"\"},\"_downloadImage\":{\"sync\":false,\"id\":\"13909053074442642514\",\"value\":{}},\"relayout\":{\"sync\":false,\"id\":\"10874577078321939312\",\"value\":{}},\"_commands\":{\"sync\":false,\"id\":\"11625641245981059475\",\"value\":[]}}},\"children\":[{\"props\":{\"id\":\"plot-d910ea67-17ed-4621-9705-07f324c5b1a3\"},\"nodeType\":\"DOM\",\"type\":\"node\",\"instanceArgs\":{\"namespace\":\"html\",\"tag\":\"div\"},\"children\":[]}]},\n",
       "        window,\n",
       "    );\n",
       "    })()\n",
       "    </script>\n",
       "</div>\n"
      ],
      "text/plain": [
       "data: [\n",
       "  \"scatter with fields mode, name, type, x, and y\",\n",
       "  \"scatter with fields mode, name, type, x, and y\"\n",
       "]\n",
       "\n",
       "layout: \"layout with fields margin and template\"\n",
       "\n"
      ]
     },
     "execution_count": 206,
     "metadata": {},
     "output_type": "execute_result"
    }
   ],
   "source": [
    "estimate = scatter(x=x_dot, y=x, mode=\"lines\",name=\"estimate\")\n",
    "solution = scatter(x=x_dot_sol, y=x_sol, mode=\"lines\",name=\"solution\")\n",
    "plot([estimate, solution])"
   ]
  },
  {
   "cell_type": "code",
   "execution_count": null,
   "metadata": {},
   "outputs": [],
   "source": []
  },
  {
   "cell_type": "code",
   "execution_count": null,
   "metadata": {},
   "outputs": [],
   "source": []
  }
 ],
 "metadata": {
  "kernelspec": {
   "display_name": "Julia 1.7.2",
   "language": "julia",
   "name": "julia-1.7"
  },
  "language_info": {
   "file_extension": ".jl",
   "mimetype": "application/julia",
   "name": "julia",
   "version": "1.7.2"
  },
  "orig_nbformat": 4
 },
 "nbformat": 4,
 "nbformat_minor": 2
}
