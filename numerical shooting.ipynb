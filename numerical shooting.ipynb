{
 "cells": [
  {
   "cell_type": "markdown",
   "metadata": {},
   "source": [
    "## Week 4 Q1"
   ]
  },
  {
   "cell_type": "code",
   "execution_count": 1,
   "metadata": {},
   "outputs": [],
   "source": [
    "include(\"ode_solver.jl\")\n",
    "using PlotlyJS\n",
    "using NLsolve"
   ]
  },
  {
   "cell_type": "code",
   "execution_count": 2,
   "metadata": {},
   "outputs": [
    {
     "data": {
      "text/plain": [
       "predprey (generic function with 1 method)"
      ]
     },
     "metadata": {},
     "output_type": "display_data"
    }
   ],
   "source": [
    "function predprey(u, t)\n",
    "\n",
    "    # println(u)\n",
    "\n",
    "    if(!isapprox(length(u), 2.0; atol=eps(Float64), rtol=0))\n",
    "        throw(error(\"Please make sure you have entered two initial conditions for the function.\"))\n",
    "    end\n",
    "\n",
    "    a = 1\n",
    "    b = 0.2\n",
    "    d = 0.1\n",
    "    x = u[1]    \n",
    "    y = u[2]\n",
    "    \n",
    "    x_dot = x.*(1-x)- (a.*x.*y)./(d + x)\n",
    "    y_dot = b.*y.*(1 - (y./x))\n",
    "    \n",
    "    return [x_dot y_dot]\n",
    "end\n",
    "\n",
    "# t = 0:0.1:500\n",
    "# u0 = [1 1]\n",
    "\n",
    "\n",
    "# include(\"visualisation.jl\")\n",
    "\n",
    "# plot_ode(predprey, u0, t, [\"time (s?)\" \"population\"])"
   ]
  },
  {
   "cell_type": "markdown",
   "metadata": {},
   "source": [
    "Isolate a periodic orbit: a = 1, b = 0.25, d = 0.1\n",
    "\n",
    "What are its starting conditions?\n",
    "[1, 1]\n",
    "\n",
    "What is its period?: \n",
    "Roughly 20s\n"
   ]
  },
  {
   "cell_type": "markdown",
   "metadata": {},
   "source": [
    "## Week 4 Q2"
   ]
  },
  {
   "cell_type": "code",
   "execution_count": 3,
   "metadata": {},
   "outputs": [
    {
     "data": {
      "text/plain": [
       "find_limit_cycle (generic function with 2 methods)"
      ]
     },
     "metadata": {},
     "output_type": "display_data"
    }
   ],
   "source": [
    "function G(f, u0, t0, T, arg...)\n",
    "\n",
    "    F = solve_ode(f, u0, [t0 T], rk4_step, 0.001, arg...)\n",
    "    # println(\"F: \", F)\n",
    "    g = u0 .- F[[end], :]\n",
    "\n",
    "    return g\n",
    "end\n",
    "\n",
    "function shoot(f, u, phase_index=1, arg...)\n",
    "    # println(typeof(u), u)\n",
    "    u0 = u[:, 1:end .!= end]\n",
    "    # println(\"u0: \", typeof(u0))\n",
    "    T = u[end]\n",
    "    # println(\"T: \", T)\n",
    "\n",
    "    g_est = G(f, u0, 0, T, arg...)\n",
    "    # println(\"g_est: \", g_est)\n",
    "    f_at_index = f(u0, 0, arg...)[phase_index]\n",
    "   \n",
    "    return [g_est f_at_index]\n",
    "end\n",
    "\n",
    "\n",
    "function find_limit_cycle(f, u0, T, phase_index=1, arg...)\n",
    "\n",
    "    U = [u0 T]\n",
    "    solution = nlsolve((u) -> shoot(f, u), U).zero\n",
    "\n",
    "    u01 = solution[:, 1:end-1]\n",
    "    T1 = solution[end]\n",
    "\n",
    "    return [u01 T1]\n",
    "end\n",
    "\n",
    "# find_limit_cycle((u,t) -> predprey(u,t), [-1 0], 6)"
   ]
  },
  {
   "cell_type": "code",
   "execution_count": null,
   "metadata": {},
   "outputs": [],
   "source": []
  },
  {
   "cell_type": "code",
   "execution_count": 4,
   "metadata": {},
   "outputs": [
    {
     "data": {
      "text/plain": [
       "1×2 Matrix{Float64}:\n",
       " 0.439739  0.890485"
      ]
     },
     "metadata": {},
     "output_type": "display_data"
    }
   ],
   "source": [
    "\n",
    "\n",
    "# U = [u0 T]\n",
    "\n",
    "\n",
    "G(predprey, [1 1], 0, 10.0)\n",
    "# shoot(predprey, [1 1 10])\n"
   ]
  },
  {
   "cell_type": "code",
   "execution_count": 7,
   "metadata": {},
   "outputs": [
    {
     "name": "stdout",
     "output_type": "stream",
     "text": [
      "[0.35 0.35 21.0]"
     ]
    },
    {
     "data": {
      "text/plain": [
       "1×3 Matrix{Float64}:\n",
       " 0.577871  0.286149  20.8169"
      ]
     },
     "metadata": {},
     "output_type": "display_data"
    }
   ],
   "source": [
    "find_limit_cycle(predprey, [0.35 0.35], 21)"
   ]
  },
  {
   "cell_type": "code",
   "execution_count": null,
   "metadata": {},
   "outputs": [],
   "source": []
  }
 ],
 "metadata": {
  "kernelspec": {
   "display_name": "Julia 1.7.2",
   "language": "julia",
   "name": "julia-1.7"
  },
  "language_info": {
   "file_extension": ".jl",
   "mimetype": "application/julia",
   "name": "julia",
   "version": "1.7.2"
  },
  "orig_nbformat": 4
 },
 "nbformat": 4,
 "nbformat_minor": 2
}
