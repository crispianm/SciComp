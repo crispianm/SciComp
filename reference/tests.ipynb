{
 "cells": [
  {
   "cell_type": "code",
   "execution_count": 4,
   "metadata": {},
   "outputs": [
    {
     "ename": "LoadError",
     "evalue": "LoadError: syntax: incomplete: \"function\" at c:\\Users\\crisp\\Desktop\\Uni\\SciComp\\ode_solver.jl:160 requires end\nin expression starting at c:\\Users\\crisp\\Desktop\\Uni\\SciComp\\ode_solver.jl:160",
     "output_type": "error",
     "traceback": [
      "LoadError: syntax: incomplete: \"function\" at c:\\Users\\crisp\\Desktop\\Uni\\SciComp\\ode_solver.jl:160 requires end\n",
      "in expression starting at c:\\Users\\crisp\\Desktop\\Uni\\SciComp\\ode_solver.jl:160\n",
      "\n",
      "Stacktrace:\n",
      "  [1] top-level scope\n",
      "    @ c:\\Users\\crisp\\Desktop\\Uni\\SciComp\\ode_solver.jl:160\n",
      "  [2] include(fname::String)\n",
      "    @ Base.MainInclude .\\client.jl:451\n",
      "  [3] top-level scope\n",
      "    @ c:\\Users\\crisp\\Desktop\\Uni\\SciComp\\reference\\tests.ipynb:2\n",
      "  [4] eval\n",
      "    @ .\\boot.jl:373 [inlined]\n",
      "  [5] include_string(mapexpr::typeof(REPL.softscope), mod::Module, code::String, filename::String)\n",
      "    @ Base .\\loading.jl:1196\n",
      "  [6] #invokelatest#2\n",
      "    @ .\\essentials.jl:716 [inlined]\n",
      "  [7] invokelatest\n",
      "    @ .\\essentials.jl:714 [inlined]\n",
      "  [8] (::VSCodeServer.var\"#164#165\"{VSCodeServer.NotebookRunCellArguments, String})()\n",
      "    @ VSCodeServer c:\\Users\\crisp\\.vscode\\extensions\\julialang.language-julia-1.6.17\\scripts\\packages\\VSCodeServer\\src\\serve_notebook.jl:19\n",
      "  [9] withpath(f::VSCodeServer.var\"#164#165\"{VSCodeServer.NotebookRunCellArguments, String}, path::String)\n",
      "    @ VSCodeServer c:\\Users\\crisp\\.vscode\\extensions\\julialang.language-julia-1.6.17\\scripts\\packages\\VSCodeServer\\src\\repl.jl:184\n",
      " [10] notebook_runcell_request(conn::VSCodeServer.JSONRPC.JSONRPCEndpoint{Base.PipeEndpoint, Base.PipeEndpoint}, params::VSCodeServer.NotebookRunCellArguments)\n",
      "    @ VSCodeServer c:\\Users\\crisp\\.vscode\\extensions\\julialang.language-julia-1.6.17\\scripts\\packages\\VSCodeServer\\src\\serve_notebook.jl:13\n",
      " [11] dispatch_msg(x::VSCodeServer.JSONRPC.JSONRPCEndpoint{Base.PipeEndpoint, Base.PipeEndpoint}, dispatcher::VSCodeServer.JSONRPC.MsgDispatcher, msg::Dict{String, Any})\n",
      "    @ VSCodeServer.JSONRPC c:\\Users\\crisp\\.vscode\\extensions\\julialang.language-julia-1.6.17\\scripts\\packages\\JSONRPC\\src\\typed.jl:67\n",
      " [12] serve_notebook(pipename::String, outputchannel_logger::Base.CoreLogging.SimpleLogger; crashreporting_pipename::String)\n",
      "    @ VSCodeServer c:\\Users\\crisp\\.vscode\\extensions\\julialang.language-julia-1.6.17\\scripts\\packages\\VSCodeServer\\src\\serve_notebook.jl:136\n",
      " [13] top-level scope\n",
      "    @ c:\\Users\\crisp\\.vscode\\extensions\\julialang.language-julia-1.6.17\\scripts\\notebook\\notebook.jl:32\n",
      " [14] include(mod::Module, _path::String)\n",
      "    @ Base .\\Base.jl:418\n",
      " [15] exec_options(opts::Base.JLOptions)\n",
      "    @ Base .\\client.jl:292\n",
      " [16] _start()\n",
      "    @ Base .\\client.jl:495"
     ]
    }
   ],
   "source": [
    "include(\"../finite_difference.jl\")\n",
    "include(\"../ode_solver.jl\")\n",
    "\n",
    "kappa = 1   # diffusion constant\n",
    "L = 1.0         # length of spatial domain\n",
    "T = 0.5         # total time to solve for\n",
    "\n",
    "function u_I(x)\n",
    "    # initial temperature distribution\n",
    "    y = sin.(pi*x/L)\n",
    "    return y\n",
    "end\n",
    "\n",
    "function u_exact(x,t)\n",
    "    # the exact solution\n",
    "    y = exp.(-kappa*(pi^2/L^2)*t)*sin.(pi*x/L)\n",
    "    return y\n",
    "end\n",
    "\n",
    "# Set numerical parameters\n",
    "mx = 10     # number of gridpoints in space\n",
    "mt = 1000   # number of gridpoints in time\n",
    "\n",
    "\n",
    "# forward euler Estimate\n",
    "weird_x, u_j = finite_difference(u_I, kappa, L, T, mx, mt, forward_euler)\n",
    "# Create trace\n",
    "f_euler = scatter(x=x, y=u_j, mode=\"markers\", name=\"forward euler\", showlegend=true)\n",
    "\n",
    "\n",
    "# backward euler Estimate\n",
    "x, u_j = finite_difference(u_I, kappa, L, T, mx, mt, backward_euler)\n",
    "# Create trace\n",
    "b_euler = scatter(x=x, y=u_j, mode=\"markers\", name=\"backward euler\", showlegend=true)\n",
    "\n",
    "\n",
    "# crank nicholson Estimate\n",
    "x, u_j = finite_difference(u_I, kappa, L, T, mx, mt, crank_nicholson)\n",
    "# Create trace\n",
    "c_nicholson = scatter(x=x, y=u_j, mode=\"markers\", name=\"crank nicholson\", showlegend=true)\n",
    "\n",
    "\n",
    "\n",
    "# Plot the final result and exact solution\n",
    "xx = LinRange(0,L,250)\n",
    "\n",
    "# Create solution trace\n",
    "exact = scatter(x=xx, y=u_exact(xx,T), mode=\"lines\", name=\"exact\", showlegend=true)\n",
    "\n",
    "layout = Layout(\n",
    "    xaxis_title = \"x\",\n",
    "    yaxis_title = \"u(x,0.5)\"\n",
    "    )\n",
    "\n",
    "plot([exact, f_euler, b_euler, c_nicholson], layout)"
   ]
  },
  {
   "cell_type": "code",
   "execution_count": 36,
   "metadata": {},
   "outputs": [
    {
     "data": {
      "text/plain": [
       "1-element Vector{Float64}:\n",
       " 2.718280469297948"
      ]
     },
     "metadata": {},
     "output_type": "display_data"
    }
   ],
   "source": [
    "function f(x, t)\n",
    "    return x\n",
    "end\n",
    "\n",
    "t = 0:0.1:2\n",
    "x0 = [1]\n",
    "Δt = 0.000001\n",
    "\n",
    "solve_to(f, x0, 0, 1, Δt, euler_step)"
   ]
  },
  {
   "cell_type": "code",
   "execution_count": 15,
   "metadata": {},
   "outputs": [
    {
     "data": {
      "text/plain": [
       "1.3591610970031809e-6"
      ]
     },
     "metadata": {},
     "output_type": "display_data"
    }
   ],
   "source": []
  },
  {
   "cell_type": "code",
   "execution_count": 34,
   "metadata": {},
   "outputs": [
    {
     "name": "stdout",
     "output_type": "stream",
     "text": [
      "Method not assigned, please enter either:\n",
      "    euler_step, heun3_step, ralston4_step, rk4_step, or three_eight_rule_step\n",
      "\n",
      "Defaulting to rk4_step.\n"
     ]
    }
   ],
   "source": []
  },
  {
   "cell_type": "code",
   "execution_count": 65,
   "metadata": {},
   "outputs": [
    {
     "name": "stdout",
     "output_type": "stream",
     "text": [
      "Method successfully set as rk4_step\n",
      "2.7182818284593115\n",
      "Method successfully set as three_eighths_rule_step\n",
      "2.718281828459312\n"
     ]
    }
   ],
   "source": [
    "include(\"../ode_solver.jl\")\n",
    "x0 = [1]\n",
    "t = [0, 1]\n",
    "\n",
    "println(solve_ode(f, x0, t, \"rk4\", 0.0001)[end][1])\n",
    "println(solve_ode(f, x0, t, \"three_eighths_rule\", 0.0001)[end][1])"
   ]
  },
  {
   "cell_type": "code",
   "execution_count": 60,
   "metadata": {},
   "outputs": [
    {
     "data": {
      "text/plain": [
       "UnitRange{Int64}"
      ]
     },
     "metadata": {},
     "output_type": "display_data"
    }
   ],
   "source": [
    "typeof(0:20)"
   ]
  },
  {
   "cell_type": "code",
   "execution_count": null,
   "metadata": {},
   "outputs": [],
   "source": []
  }
 ],
 "metadata": {
  "kernelspec": {
   "display_name": "Julia 1.7.2",
   "language": "julia",
   "name": "julia-1.7"
  },
  "language_info": {
   "file_extension": ".jl",
   "mimetype": "application/julia",
   "name": "julia",
   "version": "1.7.2"
  },
  "orig_nbformat": 4
 },
 "nbformat": 4,
 "nbformat_minor": 2
}
