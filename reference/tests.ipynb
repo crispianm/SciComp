{
 "cells": [
  {
   "cell_type": "code",
   "execution_count": null,
   "metadata": {},
   "outputs": [],
   "source": [
    "include(\"../finite_difference.jl\")\n",
    "include(\"../ode_solver.jl\")\n",
    "\n",
    "kappa = 1   # diffusion constant\n",
    "L = 1.0         # length of spatial domain\n",
    "T = 0.5         # total time to solve for\n",
    "\n",
    "function u_I(x)\n",
    "    # initial temperature distribution\n",
    "    y = sin.(pi*x/L)\n",
    "    return y\n",
    "end\n",
    "\n",
    "function u_exact(x,t)\n",
    "    # the exact solution\n",
    "    y = exp.(-kappa*(pi^2/L^2)*t)*sin.(pi*x/L)\n",
    "    return y\n",
    "end\n",
    "\n",
    "# Set numerical parameters\n",
    "mx = 10     # number of gridpoints in space\n",
    "mt = 1000   # number of gridpoints in time\n",
    "\n",
    "\n",
    "# forward euler Estimate\n",
    "weird_x, u_j = finite_difference(u_I, kappa, L, T, mx, mt, forward_euler)\n",
    "# Create trace\n",
    "f_euler = scatter(x=x, y=u_j, mode=\"markers\", name=\"forward euler\", showlegend=true)\n",
    "\n",
    "\n",
    "# backward euler Estimate\n",
    "x, u_j = finite_difference(u_I, kappa, L, T, mx, mt, backward_euler)\n",
    "# Create trace\n",
    "b_euler = scatter(x=x, y=u_j, mode=\"markers\", name=\"backward euler\", showlegend=true)\n",
    "\n",
    "\n",
    "# crank nicholson Estimate\n",
    "x, u_j = finite_difference(u_I, kappa, L, T, mx, mt, crank_nicholson)\n",
    "# Create trace\n",
    "c_nicholson = scatter(x=x, y=u_j, mode=\"markers\", name=\"crank nicholson\", showlegend=true)\n",
    "\n",
    "\n",
    "\n",
    "# Plot the final result and exact solution\n",
    "xx = LinRange(0,L,250)\n",
    "\n",
    "# Create solution trace\n",
    "exact = scatter(x=xx, y=u_exact(xx,T), mode=\"lines\", name=\"exact\", showlegend=true)\n",
    "\n",
    "layout = Layout(\n",
    "    xaxis_title = \"x\",\n",
    "    yaxis_title = \"u(x,0.5)\"\n",
    "    )\n",
    "\n",
    "plot([exact, f_euler, b_euler, c_nicholson], layout)"
   ]
  },
  {
   "cell_type": "code",
   "execution_count": 33,
   "metadata": {},
   "outputs": [
    {
     "data": {
      "text/plain": [
       "crank_nicholson (generic function with 1 method)"
      ]
     },
     "metadata": {},
     "output_type": "display_data"
    }
   ],
   "source": [
    "using PlotlyJS\n",
    "using Test\n",
    "include(\"../ode_solver.jl\")\n",
    "include(\"../numerical_shooting.jl\")\n",
    "include(\"../examples/example_functions.jl\")\n",
    "include(\"../visualisation.jl\")\n",
    "include(\"../finite_difference.jl\")"
   ]
  },
  {
   "cell_type": "code",
   "execution_count": 53,
   "metadata": {},
   "outputs": [
    {
     "name": "stdout",
     "output_type": "stream",
     "text": [
      "\u001b[0m\u001b[1mTest Summary:                       | \u001b[22m\u001b[32m\u001b[1mPass  \u001b[22m\u001b[39m\u001b[36m\u001b[1mTotal\u001b[22m\u001b[39m\n",
      "Systems Tests                       | \u001b[32m   9  \u001b[39m\u001b[36m    9\u001b[39m\n",
      "  Week 3 - ode_solver               | \u001b[32m   7  \u001b[39m\u001b[36m    7\u001b[39m\n",
      "    Input Tests                     | \u001b[32m   5  \u001b[39m\u001b[36m    5\u001b[39m\n",
      "    Output Tests                    | \u001b[32m   2  \u001b[39m\u001b[36m    2\u001b[39m\n",
      "  Week 17 - Hopf numerical_shooting | \u001b[32m   2  \u001b[39m\u001b[36m    2\u001b[39m\n"
     ]
    },
    {
     "data": {
      "text/plain": [
       "Test.DefaultTestSet(\"Systems Tests\", Any[Test.DefaultTestSet(\"Week 3 - ode_solver\", Any[Test.DefaultTestSet(\"Input Tests\", Any[], 5, false, true), Test.DefaultTestSet(\"Output Tests\", Any[], 2, false, true)], 0, false, true), Test.DefaultTestSet(\"Week 17 - Hopf numerical_shooting\", Any[], 2, false, true)], 0, false, true)"
      ]
     },
     "metadata": {},
     "output_type": "display_data"
    }
   ],
   "source": [
    "\n",
    "\n",
    "@testset verbose = true \"Systems Tests\" begin\n",
    "\n",
    "    @testset verbose = true \"Week 3 - ode_solver\" begin\n",
    "\n",
    "        @testset verbose = true \"Input Tests\" begin\n",
    "\n",
    "            # test error is thrown if t=0 is not included in t\n",
    "            t = 0:0.1:1\n",
    "            bad_t = 1:0.1:2\n",
    "            @test_throws ErrorException solve_ode(f2, [1], bad_t, \"rk4\")\n",
    "\n",
    "\n",
    "            # test error is thrown if x0 is not a matrix\n",
    "            @test_throws ErrorException solve_ode(f2, 1, t, \"rk4\")\n",
    "            @test_throws ErrorException solve_ode(f2, [1;0], t, \"rk4\")\n",
    "            @test_throws ErrorException solve_ode(f2, [1, 0], t, \"rk4\")\n",
    "\n",
    "            # test error is thrown if x0 is not correct length\n",
    "            @test_throws ErrorException solve_ode(f2, [1], t, \"rk4\")\n",
    "\n",
    "        end\n",
    "\n",
    "        @testset verbose = true \"Output Tests\" begin\n",
    "\n",
    "            # test if solve_ode estimates a simple ODE correctly\n",
    "            x0 = [1]\n",
    "            t = 0:1\n",
    "            e_estimate = solve_ode(f, x0, t, \"rk4\")[end][1]\n",
    "            @test isapprox(e_estimate, ℯ)\n",
    "\n",
    "\n",
    "            # test if solve_ode estimates systems of ODEs correctly\n",
    "            x0 = [1 0]\n",
    "            t = 0:0.1:1\n",
    "            f2_sol = f2_solution(x0, t)\n",
    "            f2_numerical_sol = solve_ode(f2, x0, t, \"rk4\")\n",
    "            @test  all(isapprox.(f2_numerical_sol, f2_sol, atol=1e-6))\n",
    "\n",
    "        end\n",
    "            \n",
    "\n",
    "    end\n",
    "\n",
    "    @testset verbose = true \"Week 17 - Hopf numerical_shooting\" begin\n",
    "\n",
    "        # test if found limit cycle matches the analytical solution\n",
    "        u0, T = find_limit_cycle(hopf2d, [-1 0], 6)\n",
    "        @test isapprox(T, 2*pi)\n",
    "\n",
    "\n",
    "        # test if solve_ode estimates a Hopf ODE correctly\n",
    "        t = 0:0.1:T\n",
    "        hopf_solution = hopf2d_sol(t, beta=1, theta=pi) # adjusted for phase\n",
    "        hopf_numerical_sol = solve_ode(hopf2d, u0, t, \"rk4\")\n",
    "        @test  all(isapprox.(hopf_numerical_sol, hopf_solution, atol=1e-6))\n",
    "\n",
    "\n",
    "\n",
    "\n",
    "\n",
    "    end\n",
    "end"
   ]
  },
  {
   "cell_type": "code",
   "execution_count": 51,
   "metadata": {},
   "outputs": [
    {
     "name": "stdout",
     "output_type": "stream",
     "text": [
      "\u001b[0m\u001b[1mTest Summary: | \u001b[22m\u001b[32m\u001b[1mPass  \u001b[22m\u001b[39m\u001b[36m\u001b[1mTotal\u001b[22m\u001b[39m\n",
      "Systems Tests | \u001b[32m   8  \u001b[39m\u001b[36m    8\u001b[39m\n"
     ]
    }
   ],
   "source": []
  },
  {
   "cell_type": "code",
   "execution_count": null,
   "metadata": {},
   "outputs": [],
   "source": []
  }
 ],
 "metadata": {
  "kernelspec": {
   "display_name": "Julia 1.7.2",
   "language": "julia",
   "name": "julia-1.7"
  },
  "language_info": {
   "file_extension": ".jl",
   "mimetype": "application/julia",
   "name": "julia",
   "version": "1.7.2"
  },
  "orig_nbformat": 4
 },
 "nbformat": 4,
 "nbformat_minor": 2
}
