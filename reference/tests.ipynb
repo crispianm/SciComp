{
 "cells": [
  {
   "cell_type": "code",
   "execution_count": 1,
   "metadata": {},
   "outputs": [],
   "source": [
    "# using PlotlyJS\n",
    "# # Set problem parameters/functions\n",
    "# kappa = 0.50   # diffusion constant\n",
    "# L = 2.0         # length of spatial domain\n",
    "# T = 3         # total time to solve for\n",
    "# p = 2\n",
    "# function u_I(x)\n",
    "#     # initial temperature distribution\n",
    "#     y = (sin.(pi*x))^p\n",
    "#     return y\n",
    "# end\n",
    "# function u_exact(x,t)\n",
    "#     # the exact solution\n",
    "#     y = exp.(-kappa*(pi^2/L^2)*t)*sin.(pi*x/L)\n",
    "#     return y\n",
    "# end\n",
    "# # Set numerical parameters\n",
    "# mx = 20     # number of gridpoints in space\n",
    "# mt = 1000   # number of gridpoints in time\n",
    "\n",
    "# # Set up the numerical environment variables\n",
    "# x = LinRange(0, L, mx+1)     # mesh points in space\n",
    "# t = LinRange(0, T, mt+1)     # mesh points in time\n",
    "# deltax = x[2] - x[1]            # gridspacing in x\n",
    "# deltat = t[2] - t[1]            # gridspacing in t\n",
    "# lmbda = kappa*deltat/(deltax^2)    # mesh fourier number\n",
    "# println(\"deltax = \", deltax)\n",
    "# println(\"deltat = \", deltat)\n",
    "# println(\"lambda = \", lmbda)\n",
    "\n",
    "# # Set up the solution variables\n",
    "# u_j = zeros(size(x))        # u at current time step\n",
    "# u_jp1 = zeros(size(x))      # u at next time step\n",
    "\n",
    "# # Set initial condition\n",
    "# for i in 1:mx+1\n",
    "#     u_j[i] = u_I(x[i])\n",
    "# end\n",
    "\n",
    "# # Solve the PDE: loop over all time points\n",
    "# for j in 1:mt\n",
    "#     # Forward Euler timestep at inner mesh points\n",
    "#     # PDE discretised at position x[i], time t[j]\n",
    "#     for i in 2:mx\n",
    "#         u_jp1[i] = u_j[i] + lmbda*(u_j[i-1] - 2*u_j[i] + u_j[i+1])\n",
    "#     end\n",
    "#     # Boundary conditions\n",
    "#     u_jp1[1] = 0; u_jp1[mx+1] = 0\n",
    "        \n",
    "#     # Save u_j at time t[j+1]\n",
    "#     u_j[:] = u_jp1[:]\n",
    "# end\n",
    "\n",
    "# # Plot the final result and exact solution\n",
    "# xx = LinRange(0,L,250)\n",
    "\n",
    "# # Create traces\n",
    "# exact = scatter(x=xx, y=u_exact(xx,T), mode=\"lines\", name=\"exact\", showlegend=true)\n",
    "# num = scatter(x=x, y=u_j, mode=\"markers\", name=\"num\", showlegend=true)\n",
    "\n",
    "# layout = Layout(\n",
    "#     xaxis_title = \"x\",\n",
    "#     yaxis_title = \"u(x,0.5)\"\n",
    "#     )\n",
    "\n",
    "# plot([exact, num], layout)"
   ]
  },
  {
   "cell_type": "code",
   "execution_count": 2,
   "metadata": {},
   "outputs": [
    {
     "data": {
      "text/plain": [
       "forward_euler (generic function with 1 method)"
      ]
     },
     "metadata": {},
     "output_type": "display_data"
    }
   ],
   "source": [
    "function forward_euler(init_condition, kappa, L, T, mx, mt)\n",
    "    \n",
    "    # Set up the numerical environment variables\n",
    "    x = LinRange(0, L, mx+1)     # mesh points in space\n",
    "    t = LinRange(0, T, mt+1)     # mesh points in time\n",
    "    deltax = x[2] - x[1]            # gridspacing in x\n",
    "    deltat = t[2] - t[1]            # gridspacing in t\n",
    "    lmbda = kappa*deltat/(deltax^2)    # mesh fourier number\n",
    "    println(\"deltax = \", deltax)\n",
    "    println(\"deltat = \", deltat)\n",
    "    println(\"lambda = \", lmbda)\n",
    "\n",
    "    # Set up the solution variables\n",
    "    u_j = zeros(size(x))        # u at current time step\n",
    "    u_jp1 = zeros(size(x))      # u at next time step\n",
    "\n",
    "    # Set initial condition\n",
    "    for i in 1:mx+1\n",
    "        u_j[i] = u_I(x[i])\n",
    "    end\n",
    "\n",
    "    # Solve the PDE: loop over all time points\n",
    "    for j in 1:mt\n",
    "        # Forward Euler timestep at inner mesh points\n",
    "        # PDE discretised at position x[i], time t[j]\n",
    "        for i in 2:mx\n",
    "            u_jp1[i] = u_j[i] + lmbda*(u_j[i-1] - 2*u_j[i] + u_j[i+1])\n",
    "        end\n",
    "        # Boundary conditions\n",
    "        u_jp1[1] = 0; u_jp1[mx+1] = 0\n",
    "            \n",
    "        # Save u_j at time t[j+1]\n",
    "        u_j[:] = u_jp1[:]\n",
    "    end\n",
    "\n",
    "\n",
    "    return x, u_j\n",
    "end"
   ]
  },
  {
   "cell_type": "code",
   "execution_count": null,
   "metadata": {},
   "outputs": [],
   "source": [
    "forward_euler(u_j, kappa, L, T, mx, mt)"
   ]
  },
  {
   "cell_type": "code",
   "execution_count": null,
   "metadata": {},
   "outputs": [],
   "source": [
    "# Plot the final result and exact solution\n",
    "using PlotlyJS\n",
    "xx = LinRange(0,L,250)\n",
    "\n",
    "# Create traces\n",
    "exact = scatter(x=xx, y=u_exact(xx,T), mode=\"lines\", name=\"exact\", showlegend=true)\n",
    "num = scatter(x=x, y=u_j, mode=\"markers\", name=\"num\", showlegend=true)\n",
    "\n",
    "layout = Layout(\n",
    "    xaxis_title = \"x\",\n",
    "    yaxis_title = \"u(x,0.5)\"\n",
    "    )\n",
    "\n",
    "plot([exact, num], layout)"
   ]
  },
  {
   "cell_type": "code",
   "execution_count": 28,
   "metadata": {},
   "outputs": [
    {
     "data": {
      "text/plain": [
       "10×10 Tridiagonal{Float64, Vector{Float64}}:\n",
       " -3.0   2.0    ⋅     ⋅     ⋅     ⋅     ⋅     ⋅     ⋅     ⋅ \n",
       "  2.0  -3.0   2.0    ⋅     ⋅     ⋅     ⋅     ⋅     ⋅     ⋅ \n",
       "   ⋅    2.0  -3.0   2.0    ⋅     ⋅     ⋅     ⋅     ⋅     ⋅ \n",
       "   ⋅     ⋅    2.0  -3.0   2.0    ⋅     ⋅     ⋅     ⋅     ⋅ \n",
       "   ⋅     ⋅     ⋅    2.0  -3.0   2.0    ⋅     ⋅     ⋅     ⋅ \n",
       "   ⋅     ⋅     ⋅     ⋅    2.0  -3.0   2.0    ⋅     ⋅     ⋅ \n",
       "   ⋅     ⋅     ⋅     ⋅     ⋅    2.0  -3.0   2.0    ⋅     ⋅ \n",
       "   ⋅     ⋅     ⋅     ⋅     ⋅     ⋅    2.0  -3.0   2.0    ⋅ \n",
       "   ⋅     ⋅     ⋅     ⋅     ⋅     ⋅     ⋅    2.0  -3.0   2.0\n",
       "   ⋅     ⋅     ⋅     ⋅     ⋅     ⋅     ⋅     ⋅    2.0  -3.0"
      ]
     },
     "metadata": {},
     "output_type": "display_data"
    }
   ],
   "source": [
    "using LinearAlgebra\n",
    "\n",
    "lmbda = 2\n",
    "mx = 10\n",
    "\n",
    "ones(mx)*(1 - 2*lmbda)\n",
    "# [[1 - 2*lmbda] * mx, [lmbda] * (mx-1), [lmbda] * (mx-1)]\n",
    "\n",
    "dlu = ones(mx-1)*(lmbda)\n",
    "d = ones(mx)*(1 - 2*lmbda)\n",
    "\n",
    "D = Tridiagonal(dlu, d, dlu)"
   ]
  },
  {
   "cell_type": "code",
   "execution_count": null,
   "metadata": {},
   "outputs": [],
   "source": []
  }
 ],
 "metadata": {
  "kernelspec": {
   "display_name": "Julia 1.7.2",
   "language": "julia",
   "name": "julia-1.7"
  },
  "language_info": {
   "file_extension": ".jl",
   "mimetype": "application/julia",
   "name": "julia",
   "version": "1.7.2"
  },
  "orig_nbformat": 4
 },
 "nbformat": 4,
 "nbformat_minor": 2
}
