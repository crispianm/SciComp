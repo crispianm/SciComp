{
 "cells": [
  {
   "cell_type": "code",
   "execution_count": null,
   "metadata": {},
   "outputs": [],
   "source": [
    "# include(\"../finite_difference.jl\")\n",
    "# include(\"../ode_solver.jl\")\n",
    "\n",
    "# kappa = 1   # diffusion constant\n",
    "# L = 1.0         # length of spatial domain\n",
    "# T = 0.5         # total time to solve for\n",
    "\n",
    "# function u_I(x)\n",
    "#     # initial temperature distribution\n",
    "#     y = sin.(pi*x/L)\n",
    "#     return y\n",
    "# end\n",
    "\n",
    "# function u_exact(x,t)\n",
    "#     # the exact solution\n",
    "#     y = exp.(-kappa*(pi^2/L^2)*t)*sin.(pi*x/L)\n",
    "#     return y\n",
    "# end\n",
    "\n",
    "# # Set numerical parameters\n",
    "# mx = 10     # number of gridpoints in space\n",
    "# mt = 1000   # number of gridpoints in time\n",
    "\n",
    "\n",
    "# # forward euler Estimate\n",
    "# weird_x, u_j = finite_difference(u_I, kappa, L, T, mx, mt, forward_euler)\n",
    "# # Create trace\n",
    "# f_euler = scatter(x=x, y=u_j, mode=\"markers\", name=\"forward euler\", showlegend=true)\n",
    "\n",
    "\n",
    "# # backward euler Estimate\n",
    "# x, u_j = finite_difference(u_I, kappa, L, T, mx, mt, backward_euler)\n",
    "# # Create trace\n",
    "# b_euler = scatter(x=x, y=u_j, mode=\"markers\", name=\"backward euler\", showlegend=true)\n",
    "\n",
    "\n",
    "# # crank nicholson Estimate\n",
    "# x, u_j = finite_difference(u_I, kappa, L, T, mx, mt, crank_nicholson)\n",
    "# # Create trace\n",
    "# c_nicholson = scatter(x=x, y=u_j, mode=\"markers\", name=\"crank nicholson\", showlegend=true)\n",
    "\n",
    "\n",
    "\n",
    "# # Plot the final result and exact solution\n",
    "# xx = LinRange(0,L,250)\n",
    "\n",
    "# # Create solution trace\n",
    "# exact = scatter(x=xx, y=u_exact(xx,T), mode=\"lines\", name=\"exact\", showlegend=true)\n",
    "\n",
    "# layout = Layout(\n",
    "#     xaxis_title = \"x\",\n",
    "#     yaxis_title = \"u(x,0.5)\"\n",
    "#     )\n",
    "\n",
    "# plot([exact, f_euler, b_euler, c_nicholson], layout)"
   ]
  },
  {
   "cell_type": "code",
   "execution_count": 1,
   "metadata": {},
   "outputs": [
    {
     "data": {
      "text/plain": [
       "crank_nicholson (generic function with 1 method)"
      ]
     },
     "metadata": {},
     "output_type": "display_data"
    }
   ],
   "source": [
    "using PlotlyJS\n",
    "using Test\n",
    "include(\"../ode_solver.jl\")\n",
    "include(\"../numerical_continuation.jl\")\n",
    "include(\"../numerical_shooting.jl\")\n",
    "include(\"../examples/example_functions.jl\")\n",
    "include(\"../visualisation.jl\")\n",
    "include(\"../finite_difference.jl\")"
   ]
  },
  {
   "cell_type": "code",
   "execution_count": 62,
   "metadata": {},
   "outputs": [
    {
     "name": "stderr",
     "output_type": "stream",
     "text": [
      "\r\u001b[32m◐ Performing tests:  \t Time: 0:00:00\u001b[39m\u001b[K"
     ]
    },
    {
     "name": "stderr",
     "output_type": "stream",
     "text": [
      "\r\u001b[32m◓ Performing tests:  \t Time: 0:00:00\u001b[39m\u001b[K"
     ]
    },
    {
     "name": "stderr",
     "output_type": "stream",
     "text": [
      "\r\u001b[32m✓ Performing tests:  \t Time: 0:00:05\u001b[39m\u001b[K\n"
     ]
    },
    {
     "name": "stdout",
     "output_type": "stream",
     "text": [
      "\n",
      "\n",
      "\u001b[0m\u001b[1mTest Summary:                 | \u001b[22m\u001b[32m\u001b[1mPass  \u001b[22m\u001b[39m\u001b[36m\u001b[1mTotal\u001b[22m\u001b[39m\n",
      "System Unit Tests             | \u001b[32m  47  \u001b[39m\u001b[36m   47\u001b[39m\n",
      "  ode_solver                  | \u001b[32m   8  \u001b[39m\u001b[36m    8\u001b[39m\n",
      "    Input Tests               | \u001b[32m   6  \u001b[39m\u001b[36m    6\u001b[39m\n",
      "    Output Tests              | \u001b[32m   2  \u001b[39m\u001b[36m    2\u001b[39m\n",
      "  numerical_shooting          | \u001b[32m  17  \u001b[39m\u001b[36m   17\u001b[39m\n",
      "    Input Tests               | \u001b[32m  10  \u001b[39m\u001b[36m   10\u001b[39m\n",
      "    Output Tests              | \u001b[32m   5  \u001b[39m\u001b[36m    5\u001b[39m\n",
      "    Higher Dimensional Output | \u001b[32m   2  \u001b[39m\u001b[36m    2\u001b[39m\n",
      "  numerical_continuation      | \u001b[32m  20  \u001b[39m\u001b[36m   20\u001b[39m\n",
      "    Input Tests               | \u001b[32m  18  \u001b[39m\u001b[36m   18\u001b[39m\n",
      "    Output Tests              | \u001b[32m   2  \u001b[39m\u001b[36m    2\u001b[39m\n",
      "  finite_difference           | \u001b[32m   2  \u001b[39m\u001b[36m    2\u001b[39m\n",
      "    Input Tests               | \u001b[32m   1  \u001b[39m\u001b[36m    1\u001b[39m\n",
      "    Output Tests              | \u001b[32m   1  \u001b[39m\u001b[36m    1\u001b[39m\n",
      "\n",
      "\n"
     ]
    }
   ],
   "source": [
    "\n",
    "test = ProgressUnknown(\"Performing tests: \", spinner=true)\n",
    "\n",
    "@testset verbose = true \"System Unit Tests\" begin\n",
    "\n",
    "    @testset verbose = true \"ode_solver\" begin\n",
    "\n",
    "        @testset verbose = true \"Input Tests\" begin\n",
    "\n",
    "            # test error is thrown if t=0 is not included in t\n",
    "            t = 0:0.1:1\n",
    "            bad_t = 1:0.1:2\n",
    "            @test_throws ErrorException solve_ode(f2, [1], bad_t, method=\"rk4\")\n",
    "\n",
    "\n",
    "            # test error is thrown if x0 is not a matrix\n",
    "            @test_throws ErrorException solve_ode(f2, 1, t, method=\"rk4\")\n",
    "            @test_throws ErrorException solve_ode(f2, [1;0], t, method=\"rk4\")\n",
    "            @test_throws ErrorException solve_ode(f2, [1, 0], t, method=\"rk4\")\n",
    "\n",
    "        \n",
    "            # test error is thrown if x0 is not a 1xn matrix\n",
    "            @test_throws ErrorException solve_ode(f2, [1 2; 3 4], t, method=\"rk4\")\n",
    "\n",
    "\n",
    "            # test error is thrown if x0 is not correct length\n",
    "            @test_throws ErrorException solve_ode(f2, [1], t, method=\"rk4\")\n",
    "\n",
    "            ProgressMeter.next!(test)\n",
    "\n",
    "        end\n",
    "\n",
    "        @testset verbose = true \"Output Tests\" begin\n",
    "\n",
    "            # test if solve_ode estimates a simple ODE correctly\n",
    "            x0 = [1]\n",
    "            t = 0:1\n",
    "            e_estimate = solve_ode(f, x0, t, method=\"rk4\")[end][1]\n",
    "            @test isapprox(e_estimate, ℯ)\n",
    "\n",
    "\n",
    "            # test if solve_ode estimates systems of ODEs correctly\n",
    "            x0 = [1 0]\n",
    "            t = 0:0.1:1\n",
    "            f2_sol = f2_solution(x0, t)\n",
    "            f2_numerical_sol = solve_ode(f2, x0, t, method=\"rk4\")\n",
    "            @test  all(isapprox.(f2_numerical_sol, f2_sol, atol=1e-6))\n",
    "\n",
    "            ProgressMeter.next!(test)\n",
    "\n",
    "        end\n",
    "    end\n",
    "\n",
    "    @testset verbose = true \"numerical_shooting\" begin\n",
    "\n",
    "        @testset verbose = true \"Input Tests\" begin\n",
    "\n",
    "            # test error is thrown if T is not an integer or float\n",
    "            T = 10\n",
    "            bad_T = 1:0.1:2\n",
    "            @test_throws ErrorException find_limit_cycle(f2, [1], bad_T)\n",
    "        \n",
    "        \n",
    "            # test error is thrown if u0 is not a matrix\n",
    "            @test_throws ErrorException find_limit_cycle(f2, 1, T)\n",
    "            @test_throws ErrorException find_limit_cycle(f2, [1;0], T)\n",
    "            @test_throws ErrorException find_limit_cycle(f2, [1, 0], T)\n",
    "        \n",
    "        \n",
    "            # test error is thrown if u0 is not a 1xn matrix\n",
    "            @test_throws ErrorException find_limit_cycle(f2, [1 2; 3 4], T)\n",
    "        \n",
    "        \n",
    "            # test error is thrown if u0 is not correct length\n",
    "            @test_throws ErrorException find_limit_cycle(f2, [1], 10)\n",
    "        \n",
    "        \n",
    "            # test error is thrown if phase_index is a positive integer\n",
    "            @test_throws ErrorException find_limit_cycle(f2, [1 1], 10, phase_index=-1)\n",
    "            @test_throws ErrorException find_limit_cycle(f2, [1 1], 10, phase_index=[3])\n",
    "            @test_throws ErrorException find_limit_cycle(f2, [1 1], 10, phase_index=2.5)\n",
    "            @test_throws ErrorException find_limit_cycle(f2, [1 1], 10, phase_index=\"0\")\n",
    "\n",
    "            ProgressMeter.next!(test)\n",
    "        \n",
    "        end\n",
    "\n",
    "        @testset verbose = true \"Output Tests\" begin\n",
    "\n",
    "            # test if found limit cycle matches the analytical solution\n",
    "            u0, T = find_limit_cycle(hopf2d, [-1 0], 6)\n",
    "            @test isapprox(T, 2*pi)\n",
    "\n",
    "\n",
    "            # test if solve_ode estimates a Hopf ODE correctly\n",
    "            t = 0:0.1:T\n",
    "            hopf_solution = hopf2d_sol(t, beta=1, theta=pi) # adjusted for phase\n",
    "            hopf_numerical_sol = solve_ode(hopf2d, u0, t, method=\"rk4\")\n",
    "            @test  all(isapprox.(hopf_numerical_sol, hopf_solution, atol=1e-6))\n",
    "\n",
    "\n",
    "            # test if arguments are being passed to the function correctly\n",
    "            u0_0, T = find_limit_cycle(hopf2d, [-1 0], 6)\n",
    "            u0_1, T = find_limit_cycle(hopf2d, [-1 0], 6, beta = 2)\n",
    "            u0_3, T = find_limit_cycle(hopf2d, [-1 0], 6, beta = 2, sigma=-1.2)\n",
    "            u0_2, T = find_limit_cycle(hopf2d, [-1 0], 6, sigma=-1.2)\n",
    "            @test u0_0 != u0_1\n",
    "            @test u0_0 != u0_2\n",
    "            @test u0_0 != u0_3\n",
    "\n",
    "            ProgressMeter.next!(test)\n",
    "\n",
    "        end\n",
    "\n",
    "        @testset verbose = true \"Higher Dimensional Output\" begin\n",
    "\n",
    "            # test if found limit cycle matches the analytical solution\n",
    "            u0, T = find_limit_cycle(hopf3d, [1 1 1], 6)\n",
    "            @test isapprox(T, 2*pi)\n",
    "\n",
    "\n",
    "            u0, T = find_limit_cycle(hopf3d, [1 1 1], 10)\n",
    "            hopf_solution = hopf3d_sol(u0, 0:0.1:T; theta=0) # adjusted for phase\n",
    "            hopf_numerical_sol = solve_ode(hopf3d, u0, 0:0.1:T, method=\"rk4\")\n",
    "            @test all(isapprox.(hopf_numerical_sol, hopf_solution, atol=1e-5))\n",
    "\n",
    "            ProgressMeter.next!(test)\n",
    "            \n",
    "        end\n",
    "    end\n",
    "\n",
    "    @testset verbose = true \"numerical_continuation\" begin\n",
    "\n",
    "        @testset verbose = true \"Input Tests\" begin\n",
    "    \n",
    "            # test error is thrown if T is not an integer or float\n",
    "            T = 10\n",
    "            bad_T = 1:0.1:2\n",
    "            @test_throws ErrorException continuation(hopf2d, [1 1], bad_T, \"beta\", 0:0.01:2)\n",
    "        \n",
    "        \n",
    "            # test error is thrown if u0 is not a matrix\n",
    "            @test_throws ErrorException continuation(hopf2d, 1, 6, \"beta\", 0:0.01:2)\n",
    "            @test_throws ErrorException continuation(hopf2d, [1;0], 6, \"beta\", 0:0.01:2)\n",
    "            @test_throws ErrorException continuation(hopf2d, [1, 0], 6, \"beta\", 0:0.01:2)\n",
    "        \n",
    "        \n",
    "            # test error is thrown if u0 is not a 1xn matrix\n",
    "            @test_throws ErrorException continuation(hopf2d, [1 2; 3 4], 6, \"beta\", 0:0.01:2)\n",
    "        \n",
    "        \n",
    "            # test error is thrown if u0 is not correct length\n",
    "            @test_throws ErrorException continuation(hopf2d, [1], 6, \"beta\", 0:0.01:2)\n",
    "        \n",
    "            \n",
    "            # test error is thrown if method input is incorrect\n",
    "            @test_throws ErrorException continuation(hopf2d, [1 1], 6, \"beta\", 0:0.01:2,\n",
    "                method = 1)\n",
    "            @test_throws ErrorException continuation(hopf2d, [1 1], 6, \"beta\", 0:0.01:2,\n",
    "                method = \"pseudo_arclengths\")\n",
    "    \n",
    "            \n",
    "            # test error is thrown if discretisation input is incorrect\n",
    "            @test_throws ErrorException continuation(hopf2d, [1 1], 6, \"beta\", 0:0.01:2,\n",
    "                discretisation = 2)\n",
    "            @test_throws ErrorException continuation(hopf2d, [1 1], 6, \"beta\", 0:0.01:2,\n",
    "                discretisation = \"shoot\")\n",
    "    \n",
    "    \n",
    "            # test error is thrown if par_values input is incorrect\n",
    "            @test_throws ErrorException continuation(hopf2d, [1 1], 6, \"beta\", [0 2])\n",
    "            @test_throws ErrorException continuation(hopf2d, [1 1], 6, \"beta\", [0.1 0.5 1.0 1.5 2.0])\n",
    "            @test_throws ErrorException continuation(hopf2d, [1 1], 6, \"beta\", 5)\n",
    "            @test_throws ErrorException continuation(hopf2d, [1 1], 6, \"beta\", [5])\n",
    "            @test_throws ErrorException continuation(hopf2d, [1 1], 6, \"beta\", \"0, 2\")\n",
    "    \n",
    "    \n",
    "            # test error is thrown if parameter input is incorrect\n",
    "            @test_throws ErrorException continuation(hopf2d, [1 1], 6, \"bet\", 0:0.01:2)\n",
    "            @test_throws ErrorException continuation(hopf2d, [1 1], 6, 1, 0:0.01:2)\n",
    "            @test_throws ErrorException continuation(hopf2d, [1 1], 6, [1], 0:0.01:2)\n",
    "\n",
    "            ProgressMeter.next!(test)\n",
    "    \n",
    "        end\n",
    "    \n",
    "        @testset verbose = true \"Output Tests\" begin\n",
    "            \n",
    "            # test if found limit cycle matches the analytical solution\n",
    "            new_par_values, conditions = continuation(hopf2d, [1 1], 6, \"beta\", 0:0.01:2)\n",
    "            @test isapprox(conditions[199, 1:2], [0; 0], atol=1e-8)\n",
    "\n",
    "\n",
    "            new_par_values, conditions = continuation(predprey, [1 1], 6, \"b\", 0.2:0.01:0.3)\n",
    "            @test isapprox(new_par_values[findfirst(isapprox.(conditions, 0.270, atol=0.001))], 0.26, atol=0.01)\n",
    "            \n",
    "            ProgressMeter.next!(test)\n",
    "    \n",
    "        end\n",
    "    end\n",
    "\n",
    "    @testset verbose = true \"finite_difference\" begin\n",
    "\n",
    "        @testset verbose = true \"Input Tests\" begin\n",
    "\n",
    "            # test error is thrown if t=0 is not included in t\n",
    "            t = 0:0.1:1\n",
    "            bad_t = 1:0.1:2\n",
    "            @test_throws ErrorException solve_ode(f2, [1], bad_t, method=\"rk4\")\n",
    "\n",
    "            ProgressMeter.next!(test)\n",
    "\n",
    "        end\n",
    "\n",
    "        @testset verbose = true \"Output Tests\" begin\n",
    "            \n",
    "            # test if found limit cycle matches the analytical solution\n",
    "            u0, T = find_limit_cycle(hopf2d, [-1 0], 6)\n",
    "            @test isapprox(T, 2*pi)\n",
    "\n",
    "            ProgressMeter.next!(test)\n",
    "\n",
    "            println(\"\\n\")\n",
    "\n",
    "        end\n",
    "    end\n",
    "end\n",
    "\n",
    "println(\"\\n\")\n",
    "ProgressMeter.finish!(test)"
   ]
  },
  {
   "cell_type": "code",
   "execution_count": 61,
   "metadata": {},
   "outputs": [
    {
     "name": "stdout",
     "output_type": "stream",
     "text": [
      "\u001b[0m\u001b[1mTest Summary:          | \u001b[22m\u001b[32m\u001b[1mPass  \u001b[22m\u001b[39m\u001b[36m\u001b[1mTotal\u001b[22m\u001b[39m\n",
      "numerical_continuation | \u001b[32m  19  \u001b[39m\u001b[36m   19\u001b[39m\n",
      "  Input Tests          | \u001b[32m  18  \u001b[39m\u001b[36m   18\u001b[39m\n",
      "  Output Tests         | \u001b[32m   1  \u001b[39m\u001b[36m    1\u001b[39m\n"
     ]
    }
   ],
   "source": [
    "using ProgressMeter\n",
    "prog = ProgressUnknown(\"Working hard:\", spinner=true)\n",
    "\n",
    "@testset verbose = true \"numerical_continuation\" begin\n",
    "\n",
    "    @testset verbose = true \"Input Tests\" begin\n",
    "\n",
    "        # test error is thrown if T is not an integer or float\n",
    "        T = 10\n",
    "        bad_T = 1:0.1:2\n",
    "        @test_throws ErrorException continuation(hopf2d, [1 1], bad_T, \"beta\", 0:0.01:2)\n",
    "        ProgressMeter.next!(prog)\n",
    "\n",
    "    \n",
    "        # test error is thrown if u0 is not a matrix\n",
    "        @test_throws ErrorException continuation(hopf2d, 1, 6, \"beta\", 0:0.01:2)\n",
    "        ProgressMeter.next!(prog)\n",
    "        @test_throws ErrorException continuation(hopf2d, [1;0], 6, \"beta\", 0:0.01:2)\n",
    "        ProgressMeter.next!(prog)\n",
    "        @test_throws ErrorException continuation(hopf2d, [1, 0], 6, \"beta\", 0:0.01:2)\n",
    "        ProgressMeter.next!(prog)\n",
    "\n",
    "    \n",
    "        # test error is thrown if u0 is not a 1xn matrix\n",
    "        @test_throws ErrorException continuation(hopf2d, [1 2; 3 4], 6, \"beta\", 0:0.01:2)\n",
    "        ProgressMeter.next!(prog)\n",
    "\n",
    "    \n",
    "        # test error is thrown if u0 is not correct length\n",
    "        @test_throws ErrorException continuation(hopf2d, [1], 6, \"beta\", 0:0.01:2)\n",
    "        ProgressMeter.next!(prog)\n",
    "\n",
    "        \n",
    "        # test error is thrown if method input is incorrect\n",
    "        @test_throws ErrorException continuation(hopf2d, [1 1], 6, \"beta\", 0:0.01:2,\n",
    "        method = 1)\n",
    "        ProgressMeter.next!(prog)\n",
    "        @test_throws ErrorException continuation(hopf2d, [1 1], 6, \"beta\", 0:0.01:2,\n",
    "        method = \"pseudo_arclengths\")\n",
    "        ProgressMeter.next!(prog)\n",
    "        \n",
    "        # test error is thrown if discretisation input is incorrect\n",
    "        @test_throws ErrorException continuation(hopf2d, [1 1], 6, \"beta\", 0:0.01:2,\n",
    "        discretisation = 2)\n",
    "        ProgressMeter.next!(prog)\n",
    "        @test_throws ErrorException continuation(hopf2d, [1 1], 6, \"beta\", 0:0.01:2,\n",
    "        discretisation = \"shoot\")\n",
    "        ProgressMeter.next!(prog)\n",
    "\n",
    "        # test error is thrown if par_values input is incorrect\n",
    "        @test_throws ErrorException continuation(hopf2d, [1 1], 6, \"beta\", [0 2])\n",
    "        ProgressMeter.next!(prog)\n",
    "        @test_throws ErrorException continuation(hopf2d, [1 1], 6, \"beta\", [0.1 0.5 1.0 1.5 2.0])\n",
    "        ProgressMeter.next!(prog)\n",
    "        @test_throws ErrorException continuation(hopf2d, [1 1], 6, \"beta\", 5)\n",
    "        ProgressMeter.next!(prog)\n",
    "        @test_throws ErrorException continuation(hopf2d, [1 1], 6, \"beta\", [5])\n",
    "        ProgressMeter.next!(prog)\n",
    "        @test_throws ErrorException continuation(hopf2d, [1 1], 6, \"beta\", \"0, 2\")\n",
    "        ProgressMeter.next!(prog)\n",
    "\n",
    "\n",
    "        # test error is thrown if parameter input is incorrect\n",
    "        @test_throws ErrorException continuation(hopf2d, [1 1], 6, \"bet\", 0:0.01:2)\n",
    "        ProgressMeter.next!(prog)\n",
    "        @test_throws ErrorException continuation(hopf2d, [1 1], 6, 1, 0:0.01:2)\n",
    "        ProgressMeter.next!(prog)\n",
    "        @test_throws ErrorException continuation(hopf2d, [1 1], 6, [1], 0:0.01:2)\n",
    "        ProgressMeter.next!(prog)\n",
    "\n",
    "    end\n",
    "\n",
    "    @testset verbose = true \"Output Tests\" begin\n",
    "        \n",
    "        # test if found limit cycle matches the analytical solution\n",
    "        new_par_values, conditions = continuation(hopf2d, [1 1], 6, \"beta\", 0:0.01:2)\n",
    "        @test isapprox(conditions[199, 1:2], [0; 0], atol=1e-8)\n",
    "        ProgressMeter.next!(prog)\n",
    "        \n",
    "\n",
    "    end\n",
    "end\n",
    "ProgressMeter.finish!(prog)"
   ]
  },
  {
   "cell_type": "code",
   "execution_count": 178,
   "metadata": {},
   "outputs": [
    {
     "data": {
      "text/plain": [
       "continuation (generic function with 1 method)"
      ]
     },
     "metadata": {},
     "output_type": "display_data"
    }
   ],
   "source": [
    "include(\"../numerical_continuation.jl\")\n"
   ]
  },
  {
   "cell_type": "code",
   "execution_count": 214,
   "metadata": {},
   "outputs": [
    {
     "data": {
      "text/plain": [
       "([0.2, 0.201, 0.20201112046106062, 0.20303356309367923, 0.20406753124583668, 0.20511323458110903, 0.20617088820538326, 0.20724071285247161, 0.2083229350780348, 0.20941778746044873  …  0.28333673933709874, 0.2853614489139725, 0.2873861584908463, 0.2894108680677201, 0.2914355776445939, 0.29346028722146766, 0.29548499679834145, 0.29750970637521523, 0.299534415952089, 0.3015591255289628], [0.5778714846989212 0.2861488834424689 20.8168665836801; 0.5748622521110464 0.2869094198797062 20.754726437437423; … ; 0.2701562115118438 0.2701562117465558 16.587484139453668; 0.27015621149018776 0.2701562117389168 16.513535554453536])"
      ]
     },
     "metadata": {},
     "output_type": "display_data"
    }
   ],
   "source": [
    "# test if found limit cycle matches the analytical solution\n",
    "new_par_values, conditions = continuation(predprey, [1 1], 6, \"b\", 0.2:0.001:0.3)\n",
    "\n",
    "# @test isapprox(conditions[size(conditions)[1], 1:2], [0; 0], atol=1e-8)\n"
   ]
  },
  {
   "cell_type": "code",
   "execution_count": 216,
   "metadata": {},
   "outputs": [
    {
     "data": {
      "application/vnd.plotly.v1+json": {
       "config": {
        "editable": false,
        "responsive": true,
        "scrollZoom": true,
        "showLink": false,
        "staticPlot": false
       },
       "data": [
        {
         "mode": "lines",
         "name": "u1",
         "showlegend": true,
         "type": "scatter",
         "x": [
          0.2,
          0.201,
          0.20201112046106062,
          0.20303356309367923,
          0.20406753124583668,
          0.20511323458110903,
          0.20617088820538326,
          0.20724071285247161,
          0.2083229350780348,
          0.20941778746044873,
          0.21052550880905455,
          0.21164634437961563,
          0.2127805460969196,
          0.21392837278438265,
          0.2150900904001556,
          0.2162659722790998,
          0.21745629937994032,
          0.21866136053610488,
          0.21988145270875595,
          0.2211168812394475,
          0.22236796009940046,
          0.2236350172710268,
          0.22491837503489812,
          0.226218379257912,
          0.22753538068970114,
          0.2288697396964319,
          0.23022182632745897,
          0.2315920202916915,
          0.2329807108076679,
          0.2343882962770961,
          0.23581518371067503,
          0.23726178780392065,
          0.23872852951350598,
          0.24021583391119547,
          0.24172412697537599,
          0.24325383078772436,
          0.24480535627531033,
          0.24637909205969627,
          0.24797538690269713,
          0.24959452114242012,
          0.25123665813605495,
          0.25290175681880434,
          0.2545894016599265,
          0.2562984351768873,
          0.2580260329285433,
          0.25976473809698164,
          0.2614872202773408,
          0.2630896435683609,
          0.2651143531452347,
          0.26713906272210847,
          0.26916377229898225,
          0.27118848187585604,
          0.2732131914527298,
          0.2752379010296036,
          0.2772626106064774,
          0.2792873201833512,
          0.28131202976022496,
          0.28333673933709874,
          0.2853614489139725,
          0.2873861584908463,
          0.2894108680677201,
          0.2914355776445939,
          0.29346028722146766,
          0.29548499679834145,
          0.29750970637521523,
          0.299534415952089,
          0.3015591255289628
         ],
         "y": [
          0.5778714846989212,
          0.5748622521110464,
          0.5718011128359962,
          0.568686450020338,
          0.565516570517976,
          0.5622896920739957,
          0.5590039388948612,
          0.5556573343120538,
          0.5522477926463671,
          0.5487731101676324,
          0.5452309550199893,
          0.5416188559597356,
          0.5379341897256603,
          0.5341741668278417,
          0.5303358155001737,
          0.526415963510582,
          0.5224112174600918,
          0.5183179391256832,
          0.5141322183004124,
          0.5098498414645667,
          0.5054662554616293,
          0.5009764958118867,
          0.49637524971886393,
          0.4916566345046866,
          0.4868142330248653,
          0.4818409848701032,
          0.4767290858186661,
          0.4714698654808986,
          0.46605363699353336,
          0.46046951045734835,
          0.4547051587158198,
          0.4487465195616744,
          0.4425774117511824,
          0.43617903200610153,
          0.42952928427149606,
          0.4226018669535946,
          0.41536500148811056,
          0.4077796125907059,
          0.39979663912139374,
          0.3913529052307613,
          0.3823644780509217,
          0.3727153398632943,
          0.3622365600245084,
          0.3506639192904777,
          0.3375382493189014,
          0.3219100137625394,
          0.30095700876305664,
          0.270156211901653,
          0.27015621187999694,
          0.2701562118583409,
          0.2701562118366848,
          0.27015621181502875,
          0.2701562117933727,
          0.2701562117717166,
          0.27015621175006055,
          0.2701562117284045,
          0.2701562117067484,
          0.27015621168509235,
          0.2701562116634363,
          0.2701562116417802,
          0.27015621162012415,
          0.2701562115984681,
          0.270156211576812,
          0.27015621155515596,
          0.2701562115334999,
          0.2701562115118438,
          0.27015621149018776
         ]
        },
        {
         "mode": "lines",
         "name": "u2",
         "showlegend": true,
         "type": "scatter",
         "x": [
          0.2,
          0.201,
          0.20201112046106062,
          0.20303356309367923,
          0.20406753124583668,
          0.20511323458110903,
          0.20617088820538326,
          0.20724071285247161,
          0.2083229350780348,
          0.20941778746044873,
          0.21052550880905455,
          0.21164634437961563,
          0.2127805460969196,
          0.21392837278438265,
          0.2150900904001556,
          0.2162659722790998,
          0.21745629937994032,
          0.21866136053610488,
          0.21988145270875595,
          0.2211168812394475,
          0.22236796009940046,
          0.2236350172710268,
          0.22491837503489812,
          0.226218379257912,
          0.22753538068970114,
          0.2288697396964319,
          0.23022182632745897,
          0.2315920202916915,
          0.2329807108076679,
          0.2343882962770961,
          0.23581518371067503,
          0.23726178780392065,
          0.23872852951350598,
          0.24021583391119547,
          0.24172412697537599,
          0.24325383078772436,
          0.24480535627531033,
          0.24637909205969627,
          0.24797538690269713,
          0.24959452114242012,
          0.25123665813605495,
          0.25290175681880434,
          0.2545894016599265,
          0.2562984351768873,
          0.2580260329285433,
          0.25976473809698164,
          0.2614872202773408,
          0.2630896435683609,
          0.2651143531452347,
          0.26713906272210847,
          0.26916377229898225,
          0.27118848187585604,
          0.2732131914527298,
          0.2752379010296036,
          0.2772626106064774,
          0.2792873201833512,
          0.28131202976022496,
          0.28333673933709874,
          0.2853614489139725,
          0.2873861584908463,
          0.2894108680677201,
          0.2914355776445939,
          0.29346028722146766,
          0.29548499679834145,
          0.29750970637521523,
          0.299534415952089,
          0.3015591255289628
         ],
         "y": [
          0.2861488834424689,
          0.2869094198797062,
          0.28766449185095194,
          0.28841352971013245,
          0.28915592526930034,
          0.28989102861039495,
          0.29061814510446493,
          0.29133653176960983,
          0.29204539325139606,
          0.2927438773765224,
          0.293431070221651,
          0.29410599062982984,
          0.2947675840950755,
          0.29541471592147495,
          0.29604616354577645,
          0.2966606078913448,
          0.2972566235952537,
          0.29783266791762736,
          0.2983870681025227,
          0.2989180069082603,
          0.29942350596122647,
          0.2999013968747417,
          0.3003493362135144,
          0.3007647248017447,
          0.30114471224679334,
          0.30148615168250537,
          0.30178555597130324,
          0.3020390448762391,
          0.3022422807392901,
          0.3023903893507988,
          0.3024778614814822,
          0.30249842878682703,
          0.30244490518374656,
          0.30230898084380686,
          0.3020809497977244,
          0.30174934230585576,
          0.30130041687860354,
          0.3007174388880181,
          0.2999796225585659,
          0.2990605182797223,
          0.2979254361818663,
          0.29652708133836386,
          0.29479757870367945,
          0.29263234347892086,
          0.28985235702040135,
          0.2860929554260698,
          0.2802861881782952,
          0.2701562118840578,
          0.2701562118764188,
          0.2701562118687798,
          0.2701562118611408,
          0.2701562118535018,
          0.2701562118458628,
          0.2701562118382238,
          0.2701562118305848,
          0.2701562118229458,
          0.2701562118153068,
          0.2701562118076678,
          0.2701562118000288,
          0.2701562117923898,
          0.2701562117847508,
          0.2701562117771118,
          0.2701562117694728,
          0.2701562117618338,
          0.2701562117541948,
          0.2701562117465558,
          0.2701562117389168
         ]
        }
       ],
       "frames": [],
       "layout": {
        "height": 350,
        "margin": {
         "b": 50,
         "l": 50,
         "r": 50,
         "t": 60
        },
        "template": {
         "data": {
          "bar": [
           {
            "error_x": {
             "color": "#2a3f5f"
            },
            "error_y": {
             "color": "#2a3f5f"
            },
            "marker": {
             "line": {
              "color": "#E5ECF6",
              "width": 0.5
             }
            },
            "type": "bar"
           }
          ],
          "barpolar": [
           {
            "marker": {
             "line": {
              "color": "#E5ECF6",
              "width": 0.5
             }
            },
            "type": "barpolar"
           }
          ],
          "carpet": [
           {
            "aaxis": {
             "endlinecolor": "#2a3f5f",
             "gridcolor": "white",
             "linecolor": "white",
             "minorgridcolor": "white",
             "startlinecolor": "#2a3f5f"
            },
            "baxis": {
             "endlinecolor": "#2a3f5f",
             "gridcolor": "white",
             "linecolor": "white",
             "minorgridcolor": "white",
             "startlinecolor": "#2a3f5f"
            },
            "type": "carpet"
           }
          ],
          "choropleth": [
           {
            "colorbar": {
             "outlinewidth": 0,
             "ticks": ""
            },
            "type": "choropleth"
           }
          ],
          "contour": [
           {
            "colorbar": {
             "outlinewidth": 0,
             "ticks": ""
            },
            "colorscale": [
             [
              0,
              "#0d0887"
             ],
             [
              0.1111111111111111,
              "#46039f"
             ],
             [
              0.2222222222222222,
              "#7201a8"
             ],
             [
              0.3333333333333333,
              "#9c179e"
             ],
             [
              0.4444444444444444,
              "#bd3786"
             ],
             [
              0.5555555555555556,
              "#d8576b"
             ],
             [
              0.6666666666666666,
              "#ed7953"
             ],
             [
              0.7777777777777778,
              "#fb9f3a"
             ],
             [
              0.8888888888888888,
              "#fdca26"
             ],
             [
              1,
              "#f0f921"
             ]
            ],
            "type": "contour"
           }
          ],
          "contourcarpet": [
           {
            "colorbar": {
             "outlinewidth": 0,
             "ticks": ""
            },
            "type": "contourcarpet"
           }
          ],
          "heatmap": [
           {
            "colorbar": {
             "outlinewidth": 0,
             "ticks": ""
            },
            "colorscale": [
             [
              0,
              "#0d0887"
             ],
             [
              0.1111111111111111,
              "#46039f"
             ],
             [
              0.2222222222222222,
              "#7201a8"
             ],
             [
              0.3333333333333333,
              "#9c179e"
             ],
             [
              0.4444444444444444,
              "#bd3786"
             ],
             [
              0.5555555555555556,
              "#d8576b"
             ],
             [
              0.6666666666666666,
              "#ed7953"
             ],
             [
              0.7777777777777778,
              "#fb9f3a"
             ],
             [
              0.8888888888888888,
              "#fdca26"
             ],
             [
              1,
              "#f0f921"
             ]
            ],
            "type": "heatmap"
           }
          ],
          "heatmapgl": [
           {
            "colorbar": {
             "outlinewidth": 0,
             "ticks": ""
            },
            "colorscale": [
             [
              0,
              "#0d0887"
             ],
             [
              0.1111111111111111,
              "#46039f"
             ],
             [
              0.2222222222222222,
              "#7201a8"
             ],
             [
              0.3333333333333333,
              "#9c179e"
             ],
             [
              0.4444444444444444,
              "#bd3786"
             ],
             [
              0.5555555555555556,
              "#d8576b"
             ],
             [
              0.6666666666666666,
              "#ed7953"
             ],
             [
              0.7777777777777778,
              "#fb9f3a"
             ],
             [
              0.8888888888888888,
              "#fdca26"
             ],
             [
              1,
              "#f0f921"
             ]
            ],
            "type": "heatmapgl"
           }
          ],
          "histogram": [
           {
            "marker": {
             "colorbar": {
              "outlinewidth": 0,
              "ticks": ""
             }
            },
            "type": "histogram"
           }
          ],
          "histogram2d": [
           {
            "colorbar": {
             "outlinewidth": 0,
             "ticks": ""
            },
            "colorscale": [
             [
              0,
              "#0d0887"
             ],
             [
              0.1111111111111111,
              "#46039f"
             ],
             [
              0.2222222222222222,
              "#7201a8"
             ],
             [
              0.3333333333333333,
              "#9c179e"
             ],
             [
              0.4444444444444444,
              "#bd3786"
             ],
             [
              0.5555555555555556,
              "#d8576b"
             ],
             [
              0.6666666666666666,
              "#ed7953"
             ],
             [
              0.7777777777777778,
              "#fb9f3a"
             ],
             [
              0.8888888888888888,
              "#fdca26"
             ],
             [
              1,
              "#f0f921"
             ]
            ],
            "type": "histogram2d"
           }
          ],
          "histogram2dcontour": [
           {
            "colorbar": {
             "outlinewidth": 0,
             "ticks": ""
            },
            "colorscale": [
             [
              0,
              "#0d0887"
             ],
             [
              0.1111111111111111,
              "#46039f"
             ],
             [
              0.2222222222222222,
              "#7201a8"
             ],
             [
              0.3333333333333333,
              "#9c179e"
             ],
             [
              0.4444444444444444,
              "#bd3786"
             ],
             [
              0.5555555555555556,
              "#d8576b"
             ],
             [
              0.6666666666666666,
              "#ed7953"
             ],
             [
              0.7777777777777778,
              "#fb9f3a"
             ],
             [
              0.8888888888888888,
              "#fdca26"
             ],
             [
              1,
              "#f0f921"
             ]
            ],
            "type": "histogram2dcontour"
           }
          ],
          "mesh3d": [
           {
            "colorbar": {
             "outlinewidth": 0,
             "ticks": ""
            },
            "type": "mesh3d"
           }
          ],
          "parcoords": [
           {
            "line": {
             "colorbar": {
              "outlinewidth": 0,
              "ticks": ""
             }
            },
            "type": "parcoords"
           }
          ],
          "pie": [
           {
            "automargin": true,
            "type": "pie"
           }
          ],
          "scatter": [
           {
            "marker": {
             "colorbar": {
              "outlinewidth": 0,
              "ticks": ""
             }
            },
            "type": "scatter"
           }
          ],
          "scatter3d": [
           {
            "line": {
             "colorbar": {
              "outlinewidth": 0,
              "ticks": ""
             }
            },
            "marker": {
             "colorbar": {
              "outlinewidth": 0,
              "ticks": ""
             }
            },
            "type": "scatter3d"
           }
          ],
          "scattercarpet": [
           {
            "marker": {
             "colorbar": {
              "outlinewidth": 0,
              "ticks": ""
             }
            },
            "type": "scattercarpet"
           }
          ],
          "scattergeo": [
           {
            "marker": {
             "colorbar": {
              "outlinewidth": 0,
              "ticks": ""
             }
            },
            "type": "scattergeo"
           }
          ],
          "scattergl": [
           {
            "marker": {
             "colorbar": {
              "outlinewidth": 0,
              "ticks": ""
             }
            },
            "type": "scattergl"
           }
          ],
          "scattermapbox": [
           {
            "marker": {
             "colorbar": {
              "outlinewidth": 0,
              "ticks": ""
             }
            },
            "type": "scattermapbox"
           }
          ],
          "scatterpolar": [
           {
            "marker": {
             "colorbar": {
              "outlinewidth": 0,
              "ticks": ""
             }
            },
            "type": "scatterpolar"
           }
          ],
          "scatterpolargl": [
           {
            "marker": {
             "colorbar": {
              "outlinewidth": 0,
              "ticks": ""
             }
            },
            "type": "scatterpolargl"
           }
          ],
          "scatterternary": [
           {
            "marker": {
             "colorbar": {
              "outlinewidth": 0,
              "ticks": ""
             }
            },
            "type": "scatterternary"
           }
          ],
          "surface": [
           {
            "colorbar": {
             "outlinewidth": 0,
             "ticks": ""
            },
            "colorscale": [
             [
              0,
              "#0d0887"
             ],
             [
              0.1111111111111111,
              "#46039f"
             ],
             [
              0.2222222222222222,
              "#7201a8"
             ],
             [
              0.3333333333333333,
              "#9c179e"
             ],
             [
              0.4444444444444444,
              "#bd3786"
             ],
             [
              0.5555555555555556,
              "#d8576b"
             ],
             [
              0.6666666666666666,
              "#ed7953"
             ],
             [
              0.7777777777777778,
              "#fb9f3a"
             ],
             [
              0.8888888888888888,
              "#fdca26"
             ],
             [
              1,
              "#f0f921"
             ]
            ],
            "type": "surface"
           }
          ],
          "table": [
           {
            "cells": {
             "fill": {
              "color": "#EBF0F8"
             },
             "line": {
              "color": "white"
             }
            },
            "header": {
             "fill": {
              "color": "#C8D4E3"
             },
             "line": {
              "color": "white"
             }
            },
            "type": "table"
           }
          ]
         },
         "layout": {
          "annotationdefaults": {
           "arrowcolor": "#2a3f5f",
           "arrowhead": 0,
           "arrowwidth": 1
          },
          "autotypenumbers": "strict",
          "coloraxis": {
           "colorbar": {
            "outlinewidth": 0,
            "ticks": ""
           }
          },
          "colorscale": {
           "diverging": [
            [
             0,
             "#8e0152"
            ],
            [
             0.1,
             "#c51b7d"
            ],
            [
             0.2,
             "#de77ae"
            ],
            [
             0.3,
             "#f1b6da"
            ],
            [
             0.4,
             "#fde0ef"
            ],
            [
             0.5,
             "#f7f7f7"
            ],
            [
             0.6,
             "#e6f5d0"
            ],
            [
             0.7,
             "#b8e186"
            ],
            [
             0.8,
             "#7fbc41"
            ],
            [
             0.9,
             "#4d9221"
            ],
            [
             1,
             "#276419"
            ]
           ],
           "sequential": [
            [
             0,
             "#0d0887"
            ],
            [
             0.1111111111111111,
             "#46039f"
            ],
            [
             0.2222222222222222,
             "#7201a8"
            ],
            [
             0.3333333333333333,
             "#9c179e"
            ],
            [
             0.4444444444444444,
             "#bd3786"
            ],
            [
             0.5555555555555556,
             "#d8576b"
            ],
            [
             0.6666666666666666,
             "#ed7953"
            ],
            [
             0.7777777777777778,
             "#fb9f3a"
            ],
            [
             0.8888888888888888,
             "#fdca26"
            ],
            [
             1,
             "#f0f921"
            ]
           ],
           "sequentialminus": [
            [
             0,
             "#0d0887"
            ],
            [
             0.1111111111111111,
             "#46039f"
            ],
            [
             0.2222222222222222,
             "#7201a8"
            ],
            [
             0.3333333333333333,
             "#9c179e"
            ],
            [
             0.4444444444444444,
             "#bd3786"
            ],
            [
             0.5555555555555556,
             "#d8576b"
            ],
            [
             0.6666666666666666,
             "#ed7953"
            ],
            [
             0.7777777777777778,
             "#fb9f3a"
            ],
            [
             0.8888888888888888,
             "#fdca26"
            ],
            [
             1,
             "#f0f921"
            ]
           ]
          },
          "colorway": [
           "#636efa",
           "#EF553B",
           "#00cc96",
           "#ab63fa",
           "#FFA15A",
           "#19d3f3",
           "#FF6692",
           "#B6E880",
           "#FF97FF",
           "#FECB52"
          ],
          "font": {
           "color": "#2a3f5f"
          },
          "geo": {
           "bgcolor": "white",
           "lakecolor": "white",
           "landcolor": "#E5ECF6",
           "showlakes": true,
           "showland": true,
           "subunitcolor": "white"
          },
          "hoverlabel": {
           "align": "left"
          },
          "hovermode": "closest",
          "mapbox": {
           "style": "light"
          },
          "paper_bgcolor": "white",
          "plot_bgcolor": "#E5ECF6",
          "polar": {
           "angularaxis": {
            "gridcolor": "white",
            "linecolor": "white",
            "ticks": ""
           },
           "bgcolor": "#E5ECF6",
           "radialaxis": {
            "gridcolor": "white",
            "linecolor": "white",
            "ticks": ""
           }
          },
          "scene": {
           "xaxis": {
            "backgroundcolor": "#E5ECF6",
            "gridcolor": "white",
            "gridwidth": 2,
            "linecolor": "white",
            "showbackground": true,
            "ticks": "",
            "zerolinecolor": "white"
           },
           "yaxis": {
            "backgroundcolor": "#E5ECF6",
            "gridcolor": "white",
            "gridwidth": 2,
            "linecolor": "white",
            "showbackground": true,
            "ticks": "",
            "zerolinecolor": "white"
           },
           "zaxis": {
            "backgroundcolor": "#E5ECF6",
            "gridcolor": "white",
            "gridwidth": 2,
            "linecolor": "white",
            "showbackground": true,
            "ticks": "",
            "zerolinecolor": "white"
           }
          },
          "shapedefaults": {
           "line": {
            "color": "#2a3f5f"
           }
          },
          "ternary": {
           "aaxis": {
            "gridcolor": "white",
            "linecolor": "white",
            "ticks": ""
           },
           "baxis": {
            "gridcolor": "white",
            "linecolor": "white",
            "ticks": ""
           },
           "bgcolor": "#E5ECF6",
           "caxis": {
            "gridcolor": "white",
            "linecolor": "white",
            "ticks": ""
           }
          },
          "title": {
           "x": 0.05
          },
          "xaxis": {
           "automargin": true,
           "gridcolor": "white",
           "linecolor": "white",
           "ticks": "",
           "title": {
            "standoff": 15
           },
           "zerolinecolor": "white",
           "zerolinewidth": 2
          },
          "yaxis": {
           "automargin": true,
           "gridcolor": "white",
           "linecolor": "white",
           "ticks": "",
           "title": {
            "standoff": 15
           },
           "zerolinecolor": "white",
           "zerolinewidth": 2
          }
         }
        },
        "width": 700,
        "xaxis": {
         "title": {
          "text": "parameter"
         }
        },
        "yaxis": {
         "exponentformat": "power"
        }
       }
      },
      "image/png": "[encoded data removed]",
      "image/svg+xml": "<svg class=\"main-svg\" xmlns=\"http://www.w3.org/2000/svg\" xmlns:xlink=\"http://www.w3.org/1999/xlink\" width=\"700\" height=\"500\" style=\"\" viewBox=\"0 0 700 500\"><rect x=\"0\" y=\"0\" width=\"700\" height=\"500\" style=\"fill: rgb(255, 255, 255); fill-opacity: 1;\"/><defs id=\"defs-3c1cc9\"><g class=\"clips\"><clipPath id=\"clip3c1cc9xyplot\" class=\"plotclip\"><rect width=\"566\" height=\"387\"/></clipPath><clipPath class=\"axesclip\" id=\"clip3c1cc9x\"><rect x=\"50\" y=\"0\" width=\"566\" height=\"500\"/></clipPath><clipPath class=\"axesclip\" id=\"clip3c1cc9y\"><rect x=\"0\" y=\"60\" width=\"700\" height=\"387\"/></clipPath><clipPath class=\"axesclip\" id=\"clip3c1cc9xy\"><rect x=\"50\" y=\"60\" width=\"566\" height=\"387\"/></clipPath></g><g class=\"gradients\"/></defs><g class=\"bglayer\"><rect class=\"bg\" x=\"50\" y=\"60\" width=\"566\" height=\"387\" style=\"fill: rgb(229, 236, 246); fill-opacity: 1; stroke-width: 0;\"/></g><g class=\"layer-below\"><g class=\"imagelayer\"/><g class=\"shapelayer\"/></g><g class=\"cartesianlayer\"><g class=\"subplot xy\"><g class=\"layer-subplot\"><g class=\"shapelayer\"/><g class=\"imagelayer\"/></g><g class=\"gridlayer\"><g class=\"x\"><path class=\"xgrid crisp\" transform=\"translate(161.45999999999998,0)\" d=\"M0,60v387\" style=\"stroke: rgb(255, 255, 255); stroke-opacity: 1; stroke-width: 1px;\"/><path class=\"xgrid crisp\" transform=\"translate(272.91999999999996,0)\" d=\"M0,60v387\" style=\"stroke: rgb(255, 255, 255); stroke-opacity: 1; stroke-width: 1px;\"/><path class=\"xgrid crisp\" transform=\"translate(384.39,0)\" d=\"M0,60v387\" style=\"stroke: rgb(255, 255, 255); stroke-opacity: 1; stroke-width: 1px;\"/><path class=\"xgrid crisp\" transform=\"translate(495.85,0)\" d=\"M0,60v387\" style=\"stroke: rgb(255, 255, 255); stroke-opacity: 1; stroke-width: 1px;\"/><path class=\"xgrid crisp\" transform=\"translate(607.31,0)\" d=\"M0,60v387\" style=\"stroke: rgb(255, 255, 255); stroke-opacity: 1; stroke-width: 1px;\"/></g><g class=\"y\"><path class=\"ygrid crisp\" transform=\"translate(0,393.87)\" d=\"M50,0h566\" style=\"stroke: rgb(255, 255, 255); stroke-opacity: 1; stroke-width: 1px;\"/><path class=\"ygrid crisp\" transform=\"translate(0,337.28)\" d=\"M50,0h566\" style=\"stroke: rgb(255, 255, 255); stroke-opacity: 1; stroke-width: 1px;\"/><path class=\"ygrid crisp\" transform=\"translate(0,280.68)\" d=\"M50,0h566\" style=\"stroke: rgb(255, 255, 255); stroke-opacity: 1; stroke-width: 1px;\"/><path class=\"ygrid crisp\" transform=\"translate(0,224.09)\" d=\"M50,0h566\" style=\"stroke: rgb(255, 255, 255); stroke-opacity: 1; stroke-width: 1px;\"/><path class=\"ygrid crisp\" transform=\"translate(0,167.49)\" d=\"M50,0h566\" style=\"stroke: rgb(255, 255, 255); stroke-opacity: 1; stroke-width: 1px;\"/><path class=\"ygrid crisp\" transform=\"translate(0,110.9)\" d=\"M50,0h566\" style=\"stroke: rgb(255, 255, 255); stroke-opacity: 1; stroke-width: 1px;\"/></g></g><g class=\"zerolinelayer\"/><path class=\"xlines-below\"/><path class=\"ylines-below\"/><g class=\"overlines-below\"/><g class=\"xaxislayer-below\"/><g class=\"yaxislayer-below\"/><g class=\"overaxes-below\"/><g class=\"plot\" transform=\"translate(50,60)\" clip-path=\"url('#clip3c1cc9xyplot')\"><g class=\"scatterlayer mlayer\"><g class=\"trace scatter trace4d0bc6\" style=\"stroke-miterlimit: 2; opacity: 1;\"><g class=\"fills\"/><g class=\"errorbars\"/><g class=\"lines\"><path class=\"js-line\" d=\"M0,19.35L52.49,52.29L58.66,56.3L104,86.76L110.8,91.5L146.12,116.94L153.46,122.42L191.65,152.24L199.6,158.76L232.53,187.26L241.06,195.1L267.37,220.91L276.4,230.47L294.83,251.56L304.23,263.43L313.76,276.52L323.39,291.38L333.08,309.07L342.67,332.79L351.61,367.65L362.89,367.65L566,367.65\" style=\"vector-effect: non-scaling-stroke; fill: none; stroke: rgb(99, 110, 250); stroke-opacity: 1; stroke-width: 2px; opacity: 1;\"/></g><g class=\"points\"/><g class=\"text\"/></g><g class=\"trace scatter traced04ecb\" style=\"stroke-miterlimit: 2; opacity: 1;\"><g class=\"fills\"/><g class=\"errorbars\"/><g class=\"lines\"><path class=\"js-line\" d=\"M0,349.55L52.49,342.08L58.66,341.31L104,336.32L110.8,335.7L153.46,332.57L160.89,332.19L199.6,331.07L207.66,331.04L241.06,331.89L249.71,332.4L276.4,334.93L285.55,336.22L304.23,339.76L313.76,342.21L323.39,345.36L333.08,349.61L342.67,356.18L351.61,367.65L566,367.65\" style=\"vector-effect: non-scaling-stroke; fill: none; stroke: rgb(239, 85, 59); stroke-opacity: 1; stroke-width: 2px; opacity: 1;\"/></g><g class=\"points\"/><g class=\"text\"/></g></g></g><g class=\"overplot\"/><path class=\"xlines-above crisp\" d=\"M0,0\" style=\"fill: none;\"/><path class=\"ylines-above crisp\" d=\"M0,0\" style=\"fill: none;\"/><g class=\"overlines-above\"/><g class=\"xaxislayer-above\"><g class=\"xtick\"><text text-anchor=\"middle\" x=\"0\" y=\"460\" transform=\"translate(50,0)\" style=\"font-family: 'Open Sans', verdana, arial, sans-serif; font-size: 12px; fill: rgb(42, 63, 95); fill-opacity: 1; white-space: pre;\">0.2</text></g><g class=\"xtick\"><text text-anchor=\"middle\" x=\"0\" y=\"460\" transform=\"translate(161.45999999999998,0)\" style=\"font-family: 'Open Sans', verdana, arial, sans-serif; font-size: 12px; fill: rgb(42, 63, 95); fill-opacity: 1; white-space: pre;\">0.22</text></g><g class=\"xtick\"><text text-anchor=\"middle\" x=\"0\" y=\"460\" transform=\"translate(272.91999999999996,0)\" style=\"font-family: 'Open Sans', verdana, arial, sans-serif; font-size: 12px; fill: rgb(42, 63, 95); fill-opacity: 1; white-space: pre;\">0.24</text></g><g class=\"xtick\"><text text-anchor=\"middle\" x=\"0\" y=\"460\" transform=\"translate(384.39,0)\" style=\"font-family: 'Open Sans', verdana, arial, sans-serif; font-size: 12px; fill: rgb(42, 63, 95); fill-opacity: 1; white-space: pre;\">0.26</text></g><g class=\"xtick\"><text text-anchor=\"middle\" x=\"0\" y=\"460\" transform=\"translate(495.85,0)\" style=\"font-family: 'Open Sans', verdana, arial, sans-serif; font-size: 12px; fill: rgb(42, 63, 95); fill-opacity: 1; white-space: pre;\">0.28</text></g><g class=\"xtick\"><text text-anchor=\"middle\" x=\"0\" y=\"460\" transform=\"translate(607.31,0)\" style=\"font-family: 'Open Sans', verdana, arial, sans-serif; font-size: 12px; fill: rgb(42, 63, 95); fill-opacity: 1; white-space: pre;\">0.3</text></g></g><g class=\"yaxislayer-above\"><g class=\"ytick\"><text text-anchor=\"end\" x=\"49\" y=\"4.199999999999999\" transform=\"translate(0,393.87)\" style=\"font-family: 'Open Sans', verdana, arial, sans-serif; font-size: 12px; fill: rgb(42, 63, 95); fill-opacity: 1; white-space: pre;\">0.3</text></g><g class=\"ytick\"><text text-anchor=\"end\" x=\"49\" y=\"4.199999999999999\" transform=\"translate(0,337.28)\" style=\"font-family: 'Open Sans', verdana, arial, sans-serif; font-size: 12px; fill: rgb(42, 63, 95); fill-opacity: 1; white-space: pre;\">0.35</text></g><g class=\"ytick\"><text text-anchor=\"end\" x=\"49\" y=\"4.199999999999999\" transform=\"translate(0,280.68)\" style=\"font-family: 'Open Sans', verdana, arial, sans-serif; font-size: 12px; fill: rgb(42, 63, 95); fill-opacity: 1; white-space: pre;\">0.4</text></g><g class=\"ytick\"><text text-anchor=\"end\" x=\"49\" y=\"4.199999999999999\" transform=\"translate(0,224.09)\" style=\"font-family: 'Open Sans', verdana, arial, sans-serif; font-size: 12px; fill: rgb(42, 63, 95); fill-opacity: 1; white-space: pre;\">0.45</text></g><g class=\"ytick\"><text text-anchor=\"end\" x=\"49\" y=\"4.199999999999999\" transform=\"translate(0,167.49)\" style=\"font-family: 'Open Sans', verdana, arial, sans-serif; font-size: 12px; fill: rgb(42, 63, 95); fill-opacity: 1; white-space: pre;\">0.5</text></g><g class=\"ytick\"><text text-anchor=\"end\" x=\"49\" y=\"4.199999999999999\" transform=\"translate(0,110.9)\" style=\"font-family: 'Open Sans', verdana, arial, sans-serif; font-size: 12px; fill: rgb(42, 63, 95); fill-opacity: 1; white-space: pre;\">0.55</text></g></g><g class=\"overaxes-above\"/></g></g><g class=\"polarlayer\"/><g class=\"ternarylayer\"/><g class=\"geolayer\"/><g class=\"funnelarealayer\"/><g class=\"pielayer\"/><g class=\"treemaplayer\"/><g class=\"sunburstlayer\"/><g class=\"glimages\"/><defs id=\"topdefs-3c1cc9\"><g class=\"clips\"/><clipPath id=\"legend3c1cc9\"><rect width=\"61\" height=\"48\" x=\"0\" y=\"0\"/></clipPath></defs><g class=\"layer-above\"><g class=\"imagelayer\"/><g class=\"shapelayer\"/></g><g class=\"infolayer\"><g class=\"legend\" pointer-events=\"all\" transform=\"translate(627.32,60)\"><rect class=\"bg\" shape-rendering=\"crispEdges\" style=\"stroke: rgb(68, 68, 68); stroke-opacity: 1; fill: rgb(255, 255, 255); fill-opacity: 1; stroke-width: 0px;\" width=\"61\" height=\"48\" x=\"0\" y=\"0\"/><g class=\"scrollbox\" transform=\"\" clip-path=\"url('#legend3c1cc9')\"><g class=\"groups\"><g class=\"traces\" transform=\"translate(0,14.5)\" style=\"opacity: 1;\"><text class=\"legendtext\" text-anchor=\"start\" x=\"40\" y=\"4.680000000000001\" style=\"font-family: 'Open Sans', verdana, arial, sans-serif; font-size: 12px; fill: rgb(42, 63, 95); fill-opacity: 1; white-space: pre;\">u1</text><g class=\"layers\" style=\"opacity: 1;\"><g class=\"legendfill\"/><g class=\"legendlines\"><path class=\"js-line\" d=\"M5,0h30\" style=\"fill: none; stroke: rgb(99, 110, 250); stroke-opacity: 1; stroke-width: 2px;\"/></g><g class=\"legendsymbols\"><g class=\"legendpoints\"/></g></g><rect class=\"legendtoggle\" x=\"0\" y=\"-9.5\" width=\"55.234375\" height=\"19\" style=\"fill: rgb(0, 0, 0); fill-opacity: 0;\"/></g><g class=\"traces\" transform=\"translate(0,33.5)\" style=\"opacity: 1;\"><text class=\"legendtext\" text-anchor=\"start\" x=\"40\" y=\"4.680000000000001\" style=\"font-family: 'Open Sans', verdana, arial, sans-serif; font-size: 12px; fill: rgb(42, 63, 95); fill-opacity: 1; white-space: pre;\">u2</text><g class=\"layers\" style=\"opacity: 1;\"><g class=\"legendfill\"/><g class=\"legendlines\"><path class=\"js-line\" d=\"M5,0h30\" style=\"fill: none; stroke: rgb(239, 85, 59); stroke-opacity: 1; stroke-width: 2px;\"/></g><g class=\"legendsymbols\"><g class=\"legendpoints\"/></g></g><rect class=\"legendtoggle\" x=\"0\" y=\"-9.5\" width=\"55.234375\" height=\"19\" style=\"fill: rgb(0, 0, 0); fill-opacity: 0;\"/></g></g></g><rect class=\"scrollbar\" rx=\"20\" ry=\"3\" width=\"0\" height=\"0\" style=\"fill: rgb(128, 139, 164); fill-opacity: 1;\" x=\"0\" y=\"0\"/></g><g class=\"g-gtitle\"/><g class=\"g-xtitle\"><text class=\"xtitle\" x=\"333\" y=\"487.8\" text-anchor=\"middle\" style=\"font-family: 'Open Sans', verdana, arial, sans-serif; font-size: 14px; fill: rgb(42, 63, 95); opacity: 1; font-weight: normal; white-space: pre;\">parameter</text></g><g class=\"g-ytitle\"/></g></svg>",
      "text/html": [
       "<div\n",
       "    class=\"webio-mountpoint\"\n",
       "    data-webio-mountpoint=\"4074555311911602389\"\n",
       ">\n",
       "    <script>\n",
       "    (function(){\n",
       "    // Some integrations (namely, IJulia/Jupyter) use an alternate render pathway than\n",
       "    // just putting the html on the page. If WebIO isn't defined, then it's pretty likely\n",
       "    // that we're in one of those situations and the integration just isn't installed\n",
       "    // correctly.\n",
       "    if (typeof window.WebIO === \"undefined\") {\n",
       "        document\n",
       "            .querySelector('[data-webio-mountpoint=\"4074555311911602389\"]')\n",
       "            .innerHTML = (\n",
       "                '<div style=\"padding: 1em; background-color: #f8d6da; border: 1px solid #f5c6cb; font-weight: bold;\">' +\n",
       "                '<p><strong>WebIO not detected.</strong></p>' +\n",
       "                '<p>Please read ' +\n",
       "                '<a href=\"https://juliagizmos.github.io/WebIO.jl/latest/troubleshooting/not-detected/\" target=\"_blank\">the troubleshooting guide</a> ' +\n",
       "                'for more information on how to resolve this issue.</p>' +\n",
       "                '<p><a href=\"https://juliagizmos.github.io/WebIO.jl/latest/troubleshooting/not-detected/\" target=\"_blank\">https://juliagizmos.github.io/WebIO.jl/latest/troubleshooting/not-detected/</a></p>' +\n",
       "                '</div>'\n",
       "            );\n",
       "        return;\n",
       "    }\n",
       "    WebIO.mount(\n",
       "        document.querySelector('[data-webio-mountpoint=\"4074555311911602389\"]'),\n",
       "        {\"props\":{},\"nodeType\":\"Scope\",\"type\":\"node\",\"instanceArgs\":{\"imports\":{\"data\":[{\"name\":\"Plotly\",\"type\":\"js\",\"url\":\"\\/assetserver\\/5b0bcbbb362c204ec77e728ffa8c7da4be28ce8a-plotly.min.js\"},{\"name\":null,\"type\":\"js\",\"url\":\"\\/assetserver\\/6303ac4e25f5217851dbb12ecf3059151c237374-plotly_webio.bundle.js\"}],\"type\":\"async_block\"},\"id\":\"9506312407338788344\",\"handlers\":{\"_toImage\":[\"(function (options){return this.Plotly.toImage(this.plotElem,options).then((function (data){return WebIO.setval({\\\"name\\\":\\\"image\\\",\\\"scope\\\":\\\"9506312407338788344\\\",\\\"id\\\":\\\"12261083197839735764\\\",\\\"type\\\":\\\"observable\\\"},data)}))})\"],\"__get_gd_contents\":[\"(function (prop){prop==\\\"data\\\" ? (WebIO.setval({\\\"name\\\":\\\"__gd_contents\\\",\\\"scope\\\":\\\"9506312407338788344\\\",\\\"id\\\":\\\"1717227066544905655\\\",\\\"type\\\":\\\"observable\\\"},this.plotElem.data)) : undefined; return prop==\\\"layout\\\" ? (WebIO.setval({\\\"name\\\":\\\"__gd_contents\\\",\\\"scope\\\":\\\"9506312407338788344\\\",\\\"id\\\":\\\"1717227066544905655\\\",\\\"type\\\":\\\"observable\\\"},this.plotElem.layout)) : undefined})\"],\"_downloadImage\":[\"(function (options){return this.Plotly.downloadImage(this.plotElem,options)})\"],\"_commands\":[\"(function (args){var fn=args.shift(); var elem=this.plotElem; var Plotly=this.Plotly; args.unshift(elem); return Plotly[fn].apply(this,args)})\"]},\"systemjs_options\":null,\"mount_callbacks\":[\"function () {\\n    var handler = ((function (Plotly,PlotlyWebIO){PlotlyWebIO.init(WebIO); var gd=this.dom.querySelector(\\\"#plot-ef1c5fa1-21dd-4f9a-ab54-1408095e5ff1\\\"); this.plotElem=gd; this.Plotly=Plotly; (window.Blink!==undefined) ? (gd.style.width=\\\"100%\\\", gd.style.height=\\\"100vh\\\", gd.style.marginLeft=\\\"0%\\\", gd.style.marginTop=\\\"0vh\\\") : undefined; window.onresize=(function (){return Plotly.Plots.resize(gd)}); Plotly.newPlot(gd,[{\\\"showlegend\\\":true,\\\"mode\\\":\\\"lines\\\",\\\"y\\\":[0.5778714846989212,0.5748622521110464,0.5718011128359962,0.568686450020338,0.565516570517976,0.5622896920739957,0.5590039388948612,0.5556573343120538,0.5522477926463671,0.5487731101676324,0.5452309550199893,0.5416188559597356,0.5379341897256603,0.5341741668278417,0.5303358155001737,0.526415963510582,0.5224112174600918,0.5183179391256832,0.5141322183004124,0.5098498414645667,0.5054662554616293,0.5009764958118867,0.49637524971886393,0.4916566345046866,0.4868142330248653,0.4818409848701032,0.4767290858186661,0.4714698654808986,0.46605363699353336,0.46046951045734835,0.4547051587158198,0.4487465195616744,0.4425774117511824,0.43617903200610153,0.42952928427149606,0.4226018669535946,0.41536500148811056,0.4077796125907059,0.39979663912139374,0.3913529052307613,0.3823644780509217,0.3727153398632943,0.3622365600245084,0.3506639192904777,0.3375382493189014,0.3219100137625394,0.30095700876305664,0.270156211901653,0.27015621187999694,0.2701562118583409,0.2701562118366848,0.27015621181502875,0.2701562117933727,0.2701562117717166,0.27015621175006055,0.2701562117284045,0.2701562117067484,0.27015621168509235,0.2701562116634363,0.2701562116417802,0.27015621162012415,0.2701562115984681,0.270156211576812,0.27015621155515596,0.2701562115334999,0.2701562115118438,0.27015621149018776],\\\"type\\\":\\\"scatter\\\",\\\"name\\\":\\\"u1\\\",\\\"x\\\":[0.2,0.201,0.20201112046106062,0.20303356309367923,0.20406753124583668,0.20511323458110903,0.20617088820538326,0.20724071285247161,0.2083229350780348,0.20941778746044873,0.21052550880905455,0.21164634437961563,0.2127805460969196,0.21392837278438265,0.2150900904001556,0.2162659722790998,0.21745629937994032,0.21866136053610488,0.21988145270875595,0.2211168812394475,0.22236796009940046,0.2236350172710268,0.22491837503489812,0.226218379257912,0.22753538068970114,0.2288697396964319,0.23022182632745897,0.2315920202916915,0.2329807108076679,0.2343882962770961,0.23581518371067503,0.23726178780392065,0.23872852951350598,0.24021583391119547,0.24172412697537599,0.24325383078772436,0.24480535627531033,0.24637909205969627,0.24797538690269713,0.24959452114242012,0.25123665813605495,0.25290175681880434,0.2545894016599265,0.2562984351768873,0.2580260329285433,0.25976473809698164,0.2614872202773408,0.2630896435683609,0.2651143531452347,0.26713906272210847,0.26916377229898225,0.27118848187585604,0.2732131914527298,0.2752379010296036,0.2772626106064774,0.2792873201833512,0.28131202976022496,0.28333673933709874,0.2853614489139725,0.2873861584908463,0.2894108680677201,0.2914355776445939,0.29346028722146766,0.29548499679834145,0.29750970637521523,0.299534415952089,0.3015591255289628]},{\\\"showlegend\\\":true,\\\"mode\\\":\\\"lines\\\",\\\"y\\\":[0.2861488834424689,0.2869094198797062,0.28766449185095194,0.28841352971013245,0.28915592526930034,0.28989102861039495,0.29061814510446493,0.29133653176960983,0.29204539325139606,0.2927438773765224,0.293431070221651,0.29410599062982984,0.2947675840950755,0.29541471592147495,0.29604616354577645,0.2966606078913448,0.2972566235952537,0.29783266791762736,0.2983870681025227,0.2989180069082603,0.29942350596122647,0.2999013968747417,0.3003493362135144,0.3007647248017447,0.30114471224679334,0.30148615168250537,0.30178555597130324,0.3020390448762391,0.3022422807392901,0.3023903893507988,0.3024778614814822,0.30249842878682703,0.30244490518374656,0.30230898084380686,0.3020809497977244,0.30174934230585576,0.30130041687860354,0.3007174388880181,0.2999796225585659,0.2990605182797223,0.2979254361818663,0.29652708133836386,0.29479757870367945,0.29263234347892086,0.28985235702040135,0.2860929554260698,0.2802861881782952,0.2701562118840578,0.2701562118764188,0.2701562118687798,0.2701562118611408,0.2701562118535018,0.2701562118458628,0.2701562118382238,0.2701562118305848,0.2701562118229458,0.2701562118153068,0.2701562118076678,0.2701562118000288,0.2701562117923898,0.2701562117847508,0.2701562117771118,0.2701562117694728,0.2701562117618338,0.2701562117541948,0.2701562117465558,0.2701562117389168],\\\"type\\\":\\\"scatter\\\",\\\"name\\\":\\\"u2\\\",\\\"x\\\":[0.2,0.201,0.20201112046106062,0.20303356309367923,0.20406753124583668,0.20511323458110903,0.20617088820538326,0.20724071285247161,0.2083229350780348,0.20941778746044873,0.21052550880905455,0.21164634437961563,0.2127805460969196,0.21392837278438265,0.2150900904001556,0.2162659722790998,0.21745629937994032,0.21866136053610488,0.21988145270875595,0.2211168812394475,0.22236796009940046,0.2236350172710268,0.22491837503489812,0.226218379257912,0.22753538068970114,0.2288697396964319,0.23022182632745897,0.2315920202916915,0.2329807108076679,0.2343882962770961,0.23581518371067503,0.23726178780392065,0.23872852951350598,0.24021583391119547,0.24172412697537599,0.24325383078772436,0.24480535627531033,0.24637909205969627,0.24797538690269713,0.24959452114242012,0.25123665813605495,0.25290175681880434,0.2545894016599265,0.2562984351768873,0.2580260329285433,0.25976473809698164,0.2614872202773408,0.2630896435683609,0.2651143531452347,0.26713906272210847,0.26916377229898225,0.27118848187585604,0.2732131914527298,0.2752379010296036,0.2772626106064774,0.2792873201833512,0.28131202976022496,0.28333673933709874,0.2853614489139725,0.2873861584908463,0.2894108680677201,0.2914355776445939,0.29346028722146766,0.29548499679834145,0.29750970637521523,0.299534415952089,0.3015591255289628]}],{\\\"xaxis\\\":{\\\"title\\\":{\\\"text\\\":\\\"parameter\\\"}},\\\"template\\\":{\\\"layout\\\":{\\\"coloraxis\\\":{\\\"colorbar\\\":{\\\"ticks\\\":\\\"\\\",\\\"outlinewidth\\\":0}},\\\"xaxis\\\":{\\\"gridcolor\\\":\\\"white\\\",\\\"zerolinewidth\\\":2,\\\"title\\\":{\\\"standoff\\\":15},\\\"ticks\\\":\\\"\\\",\\\"zerolinecolor\\\":\\\"white\\\",\\\"automargin\\\":true,\\\"linecolor\\\":\\\"white\\\"},\\\"hovermode\\\":\\\"closest\\\",\\\"paper_bgcolor\\\":\\\"white\\\",\\\"geo\\\":{\\\"showlakes\\\":true,\\\"showland\\\":true,\\\"landcolor\\\":\\\"#E5ECF6\\\",\\\"bgcolor\\\":\\\"white\\\",\\\"subunitcolor\\\":\\\"white\\\",\\\"lakecolor\\\":\\\"white\\\"},\\\"colorscale\\\":{\\\"sequential\\\":[[0.0,\\\"#0d0887\\\"],[0.1111111111111111,\\\"#46039f\\\"],[0.2222222222222222,\\\"#7201a8\\\"],[0.3333333333333333,\\\"#9c179e\\\"],[0.4444444444444444,\\\"#bd3786\\\"],[0.5555555555555556,\\\"#d8576b\\\"],[0.6666666666666666,\\\"#ed7953\\\"],[0.7777777777777778,\\\"#fb9f3a\\\"],[0.8888888888888888,\\\"#fdca26\\\"],[1.0,\\\"#f0f921\\\"]],\\\"diverging\\\":[[0,\\\"#8e0152\\\"],[0.1,\\\"#c51b7d\\\"],[0.2,\\\"#de77ae\\\"],[0.3,\\\"#f1b6da\\\"],[0.4,\\\"#fde0ef\\\"],[0.5,\\\"#f7f7f7\\\"],[0.6,\\\"#e6f5d0\\\"],[0.7,\\\"#b8e186\\\"],[0.8,\\\"#7fbc41\\\"],[0.9,\\\"#4d9221\\\"],[1,\\\"#276419\\\"]],\\\"sequentialminus\\\":[[0.0,\\\"#0d0887\\\"],[0.1111111111111111,\\\"#46039f\\\"],[0.2222222222222222,\\\"#7201a8\\\"],[0.3333333333333333,\\\"#9c179e\\\"],[0.4444444444444444,\\\"#bd3786\\\"],[0.5555555555555556,\\\"#d8576b\\\"],[0.6666666666666666,\\\"#ed7953\\\"],[0.7777777777777778,\\\"#fb9f3a\\\"],[0.8888888888888888,\\\"#fdca26\\\"],[1.0,\\\"#f0f921\\\"]]},\\\"yaxis\\\":{\\\"gridcolor\\\":\\\"white\\\",\\\"zerolinewidth\\\":2,\\\"title\\\":{\\\"standoff\\\":15},\\\"ticks\\\":\\\"\\\",\\\"zerolinecolor\\\":\\\"white\\\",\\\"automargin\\\":true,\\\"linecolor\\\":\\\"white\\\"},\\\"shapedefaults\\\":{\\\"line\\\":{\\\"color\\\":\\\"#2a3f5f\\\"}},\\\"hoverlabel\\\":{\\\"align\\\":\\\"left\\\"},\\\"mapbox\\\":{\\\"style\\\":\\\"light\\\"},\\\"polar\\\":{\\\"angularaxis\\\":{\\\"gridcolor\\\":\\\"white\\\",\\\"ticks\\\":\\\"\\\",\\\"linecolor\\\":\\\"white\\\"},\\\"bgcolor\\\":\\\"#E5ECF6\\\",\\\"radialaxis\\\":{\\\"gridcolor\\\":\\\"white\\\",\\\"ticks\\\":\\\"\\\",\\\"linecolor\\\":\\\"white\\\"}},\\\"autotypenumbers\\\":\\\"strict\\\",\\\"font\\\":{\\\"color\\\":\\\"#2a3f5f\\\"},\\\"ternary\\\":{\\\"baxis\\\":{\\\"gridcolor\\\":\\\"white\\\",\\\"ticks\\\":\\\"\\\",\\\"linecolor\\\":\\\"white\\\"},\\\"bgcolor\\\":\\\"#E5ECF6\\\",\\\"caxis\\\":{\\\"gridcolor\\\":\\\"white\\\",\\\"ticks\\\":\\\"\\\",\\\"linecolor\\\":\\\"white\\\"},\\\"aaxis\\\":{\\\"gridcolor\\\":\\\"white\\\",\\\"ticks\\\":\\\"\\\",\\\"linecolor\\\":\\\"white\\\"}},\\\"annotationdefaults\\\":{\\\"arrowhead\\\":0,\\\"arrowwidth\\\":1,\\\"arrowcolor\\\":\\\"#2a3f5f\\\"},\\\"plot_bgcolor\\\":\\\"#E5ECF6\\\",\\\"title\\\":{\\\"x\\\":0.05},\\\"scene\\\":{\\\"xaxis\\\":{\\\"gridcolor\\\":\\\"white\\\",\\\"gridwidth\\\":2,\\\"backgroundcolor\\\":\\\"#E5ECF6\\\",\\\"ticks\\\":\\\"\\\",\\\"showbackground\\\":true,\\\"zerolinecolor\\\":\\\"white\\\",\\\"linecolor\\\":\\\"white\\\"},\\\"zaxis\\\":{\\\"gridcolor\\\":\\\"white\\\",\\\"gridwidth\\\":2,\\\"backgroundcolor\\\":\\\"#E5ECF6\\\",\\\"ticks\\\":\\\"\\\",\\\"showbackground\\\":true,\\\"zerolinecolor\\\":\\\"white\\\",\\\"linecolor\\\":\\\"white\\\"},\\\"yaxis\\\":{\\\"gridcolor\\\":\\\"white\\\",\\\"gridwidth\\\":2,\\\"backgroundcolor\\\":\\\"#E5ECF6\\\",\\\"ticks\\\":\\\"\\\",\\\"showbackground\\\":true,\\\"zerolinecolor\\\":\\\"white\\\",\\\"linecolor\\\":\\\"white\\\"}},\\\"colorway\\\":[\\\"#636efa\\\",\\\"#EF553B\\\",\\\"#00cc96\\\",\\\"#ab63fa\\\",\\\"#FFA15A\\\",\\\"#19d3f3\\\",\\\"#FF6692\\\",\\\"#B6E880\\\",\\\"#FF97FF\\\",\\\"#FECB52\\\"]},\\\"data\\\":{\\\"barpolar\\\":[{\\\"type\\\":\\\"barpolar\\\",\\\"marker\\\":{\\\"line\\\":{\\\"color\\\":\\\"#E5ECF6\\\",\\\"width\\\":0.5}}}],\\\"carpet\\\":[{\\\"aaxis\\\":{\\\"gridcolor\\\":\\\"white\\\",\\\"endlinecolor\\\":\\\"#2a3f5f\\\",\\\"minorgridcolor\\\":\\\"white\\\",\\\"startlinecolor\\\":\\\"#2a3f5f\\\",\\\"linecolor\\\":\\\"white\\\"},\\\"type\\\":\\\"carpet\\\",\\\"baxis\\\":{\\\"gridcolor\\\":\\\"white\\\",\\\"endlinecolor\\\":\\\"#2a3f5f\\\",\\\"minorgridcolor\\\":\\\"white\\\",\\\"startlinecolor\\\":\\\"#2a3f5f\\\",\\\"linecolor\\\":\\\"white\\\"}}],\\\"scatterpolar\\\":[{\\\"type\\\":\\\"scatterpolar\\\",\\\"marker\\\":{\\\"colorbar\\\":{\\\"ticks\\\":\\\"\\\",\\\"outlinewidth\\\":0}}}],\\\"parcoords\\\":[{\\\"line\\\":{\\\"colorbar\\\":{\\\"ticks\\\":\\\"\\\",\\\"outlinewidth\\\":0}},\\\"type\\\":\\\"parcoords\\\"}],\\\"scatter\\\":[{\\\"type\\\":\\\"scatter\\\",\\\"marker\\\":{\\\"colorbar\\\":{\\\"ticks\\\":\\\"\\\",\\\"outlinewidth\\\":0}}}],\\\"histogram2dcontour\\\":[{\\\"colorbar\\\":{\\\"ticks\\\":\\\"\\\",\\\"outlinewidth\\\":0},\\\"type\\\":\\\"histogram2dcontour\\\",\\\"colorscale\\\":[[0.0,\\\"#0d0887\\\"],[0.1111111111111111,\\\"#46039f\\\"],[0.2222222222222222,\\\"#7201a8\\\"],[0.3333333333333333,\\\"#9c179e\\\"],[0.4444444444444444,\\\"#bd3786\\\"],[0.5555555555555556,\\\"#d8576b\\\"],[0.6666666666666666,\\\"#ed7953\\\"],[0.7777777777777778,\\\"#fb9f3a\\\"],[0.8888888888888888,\\\"#fdca26\\\"],[1.0,\\\"#f0f921\\\"]]}],\\\"contour\\\":[{\\\"colorbar\\\":{\\\"ticks\\\":\\\"\\\",\\\"outlinewidth\\\":0},\\\"type\\\":\\\"contour\\\",\\\"colorscale\\\":[[0.0,\\\"#0d0887\\\"],[0.1111111111111111,\\\"#46039f\\\"],[0.2222222222222222,\\\"#7201a8\\\"],[0.3333333333333333,\\\"#9c179e\\\"],[0.4444444444444444,\\\"#bd3786\\\"],[0.5555555555555556,\\\"#d8576b\\\"],[0.6666666666666666,\\\"#ed7953\\\"],[0.7777777777777778,\\\"#fb9f3a\\\"],[0.8888888888888888,\\\"#fdca26\\\"],[1.0,\\\"#f0f921\\\"]]}],\\\"scattercarpet\\\":[{\\\"type\\\":\\\"scattercarpet\\\",\\\"marker\\\":{\\\"colorbar\\\":{\\\"ticks\\\":\\\"\\\",\\\"outlinewidth\\\":0}}}],\\\"mesh3d\\\":[{\\\"colorbar\\\":{\\\"ticks\\\":\\\"\\\",\\\"outlinewidth\\\":0},\\\"type\\\":\\\"mesh3d\\\"}],\\\"surface\\\":[{\\\"colorbar\\\":{\\\"ticks\\\":\\\"\\\",\\\"outlinewidth\\\":0},\\\"type\\\":\\\"surface\\\",\\\"colorscale\\\":[[0.0,\\\"#0d0887\\\"],[0.1111111111111111,\\\"#46039f\\\"],[0.2222222222222222,\\\"#7201a8\\\"],[0.3333333333333333,\\\"#9c179e\\\"],[0.4444444444444444,\\\"#bd3786\\\"],[0.5555555555555556,\\\"#d8576b\\\"],[0.6666666666666666,\\\"#ed7953\\\"],[0.7777777777777778,\\\"#fb9f3a\\\"],[0.8888888888888888,\\\"#fdca26\\\"],[1.0,\\\"#f0f921\\\"]]}],\\\"scattermapbox\\\":[{\\\"type\\\":\\\"scattermapbox\\\",\\\"marker\\\":{\\\"colorbar\\\":{\\\"ticks\\\":\\\"\\\",\\\"outlinewidth\\\":0}}}],\\\"scattergeo\\\":[{\\\"type\\\":\\\"scattergeo\\\",\\\"marker\\\":{\\\"colorbar\\\":{\\\"ticks\\\":\\\"\\\",\\\"outlinewidth\\\":0}}}],\\\"histogram\\\":[{\\\"type\\\":\\\"histogram\\\",\\\"marker\\\":{\\\"colorbar\\\":{\\\"ticks\\\":\\\"\\\",\\\"outlinewidth\\\":0}}}],\\\"pie\\\":[{\\\"type\\\":\\\"pie\\\",\\\"automargin\\\":true}],\\\"choropleth\\\":[{\\\"colorbar\\\":{\\\"ticks\\\":\\\"\\\",\\\"outlinewidth\\\":0},\\\"type\\\":\\\"choropleth\\\"}],\\\"heatmapgl\\\":[{\\\"colorbar\\\":{\\\"ticks\\\":\\\"\\\",\\\"outlinewidth\\\":0},\\\"type\\\":\\\"heatmapgl\\\",\\\"colorscale\\\":[[0.0,\\\"#0d0887\\\"],[0.1111111111111111,\\\"#46039f\\\"],[0.2222222222222222,\\\"#7201a8\\\"],[0.3333333333333333,\\\"#9c179e\\\"],[0.4444444444444444,\\\"#bd3786\\\"],[0.5555555555555556,\\\"#d8576b\\\"],[0.6666666666666666,\\\"#ed7953\\\"],[0.7777777777777778,\\\"#fb9f3a\\\"],[0.8888888888888888,\\\"#fdca26\\\"],[1.0,\\\"#f0f921\\\"]]}],\\\"bar\\\":[{\\\"type\\\":\\\"bar\\\",\\\"error_y\\\":{\\\"color\\\":\\\"#2a3f5f\\\"},\\\"error_x\\\":{\\\"color\\\":\\\"#2a3f5f\\\"},\\\"marker\\\":{\\\"line\\\":{\\\"color\\\":\\\"#E5ECF6\\\",\\\"width\\\":0.5}}}],\\\"heatmap\\\":[{\\\"colorbar\\\":{\\\"ticks\\\":\\\"\\\",\\\"outlinewidth\\\":0},\\\"type\\\":\\\"heatmap\\\",\\\"colorscale\\\":[[0.0,\\\"#0d0887\\\"],[0.1111111111111111,\\\"#46039f\\\"],[0.2222222222222222,\\\"#7201a8\\\"],[0.3333333333333333,\\\"#9c179e\\\"],[0.4444444444444444,\\\"#bd3786\\\"],[0.5555555555555556,\\\"#d8576b\\\"],[0.6666666666666666,\\\"#ed7953\\\"],[0.7777777777777778,\\\"#fb9f3a\\\"],[0.8888888888888888,\\\"#fdca26\\\"],[1.0,\\\"#f0f921\\\"]]}],\\\"contourcarpet\\\":[{\\\"colorbar\\\":{\\\"ticks\\\":\\\"\\\",\\\"outlinewidth\\\":0},\\\"type\\\":\\\"contourcarpet\\\"}],\\\"table\\\":[{\\\"type\\\":\\\"table\\\",\\\"header\\\":{\\\"line\\\":{\\\"color\\\":\\\"white\\\"},\\\"fill\\\":{\\\"color\\\":\\\"#C8D4E3\\\"}},\\\"cells\\\":{\\\"line\\\":{\\\"color\\\":\\\"white\\\"},\\\"fill\\\":{\\\"color\\\":\\\"#EBF0F8\\\"}}}],\\\"scatter3d\\\":[{\\\"line\\\":{\\\"colorbar\\\":{\\\"ticks\\\":\\\"\\\",\\\"outlinewidth\\\":0}},\\\"type\\\":\\\"scatter3d\\\",\\\"marker\\\":{\\\"colorbar\\\":{\\\"ticks\\\":\\\"\\\",\\\"outlinewidth\\\":0}}}],\\\"scattergl\\\":[{\\\"type\\\":\\\"scattergl\\\",\\\"marker\\\":{\\\"colorbar\\\":{\\\"ticks\\\":\\\"\\\",\\\"outlinewidth\\\":0}}}],\\\"histogram2d\\\":[{\\\"colorbar\\\":{\\\"ticks\\\":\\\"\\\",\\\"outlinewidth\\\":0},\\\"type\\\":\\\"histogram2d\\\",\\\"colorscale\\\":[[0.0,\\\"#0d0887\\\"],[0.1111111111111111,\\\"#46039f\\\"],[0.2222222222222222,\\\"#7201a8\\\"],[0.3333333333333333,\\\"#9c179e\\\"],[0.4444444444444444,\\\"#bd3786\\\"],[0.5555555555555556,\\\"#d8576b\\\"],[0.6666666666666666,\\\"#ed7953\\\"],[0.7777777777777778,\\\"#fb9f3a\\\"],[0.8888888888888888,\\\"#fdca26\\\"],[1.0,\\\"#f0f921\\\"]]}],\\\"scatterternary\\\":[{\\\"type\\\":\\\"scatterternary\\\",\\\"marker\\\":{\\\"colorbar\\\":{\\\"ticks\\\":\\\"\\\",\\\"outlinewidth\\\":0}}}],\\\"scatterpolargl\\\":[{\\\"type\\\":\\\"scatterpolargl\\\",\\\"marker\\\":{\\\"colorbar\\\":{\\\"ticks\\\":\\\"\\\",\\\"outlinewidth\\\":0}}}]}},\\\"height\\\":350,\\\"margin\\\":{\\\"l\\\":50,\\\"b\\\":50,\\\"r\\\":50,\\\"t\\\":60},\\\"yaxis\\\":{\\\"exponentformat\\\":\\\"power\\\"},\\\"width\\\":700},{\\\"showLink\\\":false,\\\"editable\\\":false,\\\"responsive\\\":true,\\\"staticPlot\\\":false,\\\"scrollZoom\\\":true}); gd.on(\\\"plotly_hover\\\",(function (data){var filtered_data=WebIO.PlotlyCommands.filterEventData(gd,data,\\\"hover\\\"); return !(filtered_data.isnil) ? (WebIO.setval({\\\"name\\\":\\\"hover\\\",\\\"scope\\\":\\\"9506312407338788344\\\",\\\"id\\\":\\\"7175963608464482607\\\",\\\"type\\\":\\\"observable\\\"},filtered_data.out)) : undefined})); gd.on(\\\"plotly_unhover\\\",(function (){return WebIO.setval({\\\"name\\\":\\\"hover\\\",\\\"scope\\\":\\\"9506312407338788344\\\",\\\"id\\\":\\\"7175963608464482607\\\",\\\"type\\\":\\\"observable\\\"},{})})); gd.on(\\\"plotly_selected\\\",(function (data){var filtered_data=WebIO.PlotlyCommands.filterEventData(gd,data,\\\"selected\\\"); return !(filtered_data.isnil) ? (WebIO.setval({\\\"name\\\":\\\"selected\\\",\\\"scope\\\":\\\"9506312407338788344\\\",\\\"id\\\":\\\"2922861182078382925\\\",\\\"type\\\":\\\"observable\\\"},filtered_data.out)) : undefined})); gd.on(\\\"plotly_deselect\\\",(function (){return WebIO.setval({\\\"name\\\":\\\"selected\\\",\\\"scope\\\":\\\"9506312407338788344\\\",\\\"id\\\":\\\"2922861182078382925\\\",\\\"type\\\":\\\"observable\\\"},{})})); gd.on(\\\"plotly_relayout\\\",(function (data){var filtered_data=WebIO.PlotlyCommands.filterEventData(gd,data,\\\"relayout\\\"); return !(filtered_data.isnil) ? (WebIO.setval({\\\"name\\\":\\\"relayout\\\",\\\"scope\\\":\\\"9506312407338788344\\\",\\\"id\\\":\\\"4997023393487339450\\\",\\\"type\\\":\\\"observable\\\"},filtered_data.out)) : undefined})); return gd.on(\\\"plotly_click\\\",(function (data){var filtered_data=WebIO.PlotlyCommands.filterEventData(gd,data,\\\"click\\\"); return !(filtered_data.isnil) ? (WebIO.setval({\\\"name\\\":\\\"click\\\",\\\"scope\\\":\\\"9506312407338788344\\\",\\\"id\\\":\\\"12681295911295994041\\\",\\\"type\\\":\\\"observable\\\"},filtered_data.out)) : undefined}))}));\\n    (WebIO.importBlock({\\\"data\\\":[{\\\"name\\\":\\\"Plotly\\\",\\\"type\\\":\\\"js\\\",\\\"url\\\":\\\"\\/assetserver\\/5b0bcbbb362c204ec77e728ffa8c7da4be28ce8a-plotly.min.js\\\"},{\\\"name\\\":null,\\\"type\\\":\\\"js\\\",\\\"url\\\":\\\"\\/assetserver\\/6303ac4e25f5217851dbb12ecf3059151c237374-plotly_webio.bundle.js\\\"}],\\\"type\\\":\\\"async_block\\\"})).then((imports) => handler.apply(this, imports));\\n}\\n\"],\"observables\":{\"_toImage\":{\"sync\":false,\"id\":\"10242732593967117556\",\"value\":{}},\"hover\":{\"sync\":false,\"id\":\"7175963608464482607\",\"value\":{}},\"selected\":{\"sync\":false,\"id\":\"2922861182078382925\",\"value\":{}},\"__gd_contents\":{\"sync\":false,\"id\":\"1717227066544905655\",\"value\":{}},\"click\":{\"sync\":false,\"id\":\"12681295911295994041\",\"value\":{}},\"image\":{\"sync\":true,\"id\":\"12261083197839735764\",\"value\":\"\"},\"__get_gd_contents\":{\"sync\":false,\"id\":\"8179041549337980332\",\"value\":\"\"},\"_downloadImage\":{\"sync\":false,\"id\":\"9553024978360085948\",\"value\":{}},\"relayout\":{\"sync\":false,\"id\":\"4997023393487339450\",\"value\":{}},\"_commands\":{\"sync\":false,\"id\":\"16141393953943598673\",\"value\":[]}}},\"children\":[{\"props\":{\"id\":\"plot-ef1c5fa1-21dd-4f9a-ab54-1408095e5ff1\"},\"nodeType\":\"DOM\",\"type\":\"node\",\"instanceArgs\":{\"namespace\":\"html\",\"tag\":\"div\"},\"children\":[]}]},\n",
       "        window,\n",
       "    );\n",
       "    })()\n",
       "    </script>\n",
       "</div>\n"
      ],
      "text/plain": [
       "data: [\n",
       "  \"scatter with fields mode, name, showlegend, type, x, and y\",\n",
       "  \"scatter with fields mode, name, showlegend, type, x, and y\"\n",
       "]\n",
       "\n",
       "layout: \"layout with fields height, margin, template, width, xaxis, and yaxis\"\n",
       "\n"
      ]
     },
     "metadata": {},
     "output_type": "display_data"
    }
   ],
   "source": [
    "# Create trace\n",
    "u1 = scatter(\n",
    "    x = new_par_values,\n",
    "    y = conditions[:,1],\n",
    "    mode=\"lines\",\n",
    "    name=\"u1\",\n",
    "    showlegend=true\n",
    "    )\n",
    "u2 = scatter(\n",
    "    x = new_par_values,\n",
    "    y = conditions[:,2],\n",
    "    mode=\"lines\",\n",
    "    name=\"u2\",\n",
    "    showlegend=true\n",
    "    )\n",
    "\n",
    "layout = Layout(\n",
    "    xaxis_title = \"parameter\",\n",
    "    # yaxis_type=\"log\",\n",
    "    yaxis_exponentformat=\"power\",\n",
    "    # yaxis_title = \"\",\n",
    "    width=700, height=350,\n",
    "    )\n",
    "\n",
    "plot([u1, u2], layout)"
   ]
  },
  {
   "cell_type": "code",
   "execution_count": 220,
   "metadata": {},
   "outputs": [
    {
     "data": {
      "text/plain": [
       "([1.272019642438688 5.125409141395162e-8], 6.283185307699369)"
      ]
     },
     "metadata": {},
     "output_type": "display_data"
    }
   ],
   "source": [
    "find_limit_cycle(hopf2d_modified, [1 1], 6, phase_index = 0)"
   ]
  },
  {
   "cell_type": "code",
   "execution_count": 205,
   "metadata": {},
   "outputs": [
    {
     "data": {
      "text/plain": [
       "199"
      ]
     },
     "metadata": {},
     "output_type": "display_data"
    }
   ],
   "source": [
    "size(conditions)[1]"
   ]
  },
  {
   "cell_type": "code",
   "execution_count": null,
   "metadata": {},
   "outputs": [],
   "source": []
  }
 ],
 "metadata": {
  "kernelspec": {
   "display_name": "Julia 1.7.2",
   "language": "julia",
   "name": "julia-1.7"
  },
  "language_info": {
   "file_extension": ".jl",
   "mimetype": "application/julia",
   "name": "julia",
   "version": "1.7.2"
  },
  "orig_nbformat": 4
 },
 "nbformat": 4,
 "nbformat_minor": 2
}
