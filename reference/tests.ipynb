{
 "cells": [
  {
   "cell_type": "code",
   "execution_count": 86,
   "metadata": {},
   "outputs": [
    {
     "name": "stdout",
     "output_type": "stream",
     "text": [
      "deltax = 0.05\n",
      "deltat = 0.0005\n",
      "lambda = 0.19999999999999996\n"
     ]
    },
    {
     "data": {
      "application/vnd.plotly.v1+json": {
       "config": {
        "editable": false,
        "responsive": true,
        "scrollZoom": true,
        "showLink": false,
        "staticPlot": false
       },
       "data": [
        {
         "mode": "lines",
         "name": "exact",
         "showlegend": true,
         "type": "scatter",
         "x": [
          0,
          0.004016064257028112,
          0.008032128514056224,
          0.012048192771084338,
          0.01606425702811245,
          0.020080321285140562,
          0.024096385542168676,
          0.028112449799196786,
          0.0321285140562249,
          0.03614457831325301,
          0.040160642570281124,
          0.04417670682730924,
          0.04819277108433735,
          0.05220883534136546,
          0.05622489959839357,
          0.060240963855421686,
          0.0642570281124498,
          0.06827309236947791,
          0.07228915662650602,
          0.07630522088353414,
          0.08032128514056225,
          0.08433734939759036,
          0.08835341365461848,
          0.09236947791164658,
          0.0963855421686747,
          0.10040160642570281,
          0.10441767068273092,
          0.10843373493975904,
          0.11244979919678715,
          0.11646586345381527,
          0.12048192771084337,
          0.12449799196787148,
          0.1285140562248996,
          0.13253012048192772,
          0.13654618473895583,
          0.14056224899598393,
          0.14457831325301204,
          0.14859437751004015,
          0.15261044176706828,
          0.1566265060240964,
          0.1606425702811245,
          0.1646586345381526,
          0.1686746987951807,
          0.17269076305220885,
          0.17670682730923695,
          0.18072289156626506,
          0.18473895582329317,
          0.18875502008032127,
          0.1927710843373494,
          0.19678714859437751,
          0.20080321285140562,
          0.20481927710843373,
          0.20883534136546184,
          0.21285140562248997,
          0.21686746987951808,
          0.22088353413654618,
          0.2248995983935743,
          0.2289156626506024,
          0.23293172690763053,
          0.23694779116465864,
          0.24096385542168675,
          0.24497991967871485,
          0.24899598393574296,
          0.25301204819277107,
          0.2570281124497992,
          0.26104417670682734,
          0.26506024096385544,
          0.26907630522088355,
          0.27309236947791166,
          0.27710843373493976,
          0.28112449799196787,
          0.285140562248996,
          0.2891566265060241,
          0.2931726907630522,
          0.2971887550200803,
          0.30120481927710846,
          0.30522088353413657,
          0.3092369477911647,
          0.3132530120481928,
          0.3172690763052209,
          0.321285140562249,
          0.3253012048192771,
          0.3293172690763052,
          0.3333333333333333,
          0.3373493975903614,
          0.3413654618473896,
          0.3453815261044177,
          0.3493975903614458,
          0.3534136546184739,
          0.357429718875502,
          0.3614457831325301,
          0.3654618473895582,
          0.36947791164658633,
          0.37349397590361444,
          0.37751004016064255,
          0.3815261044176707,
          0.3855421686746988,
          0.3895582329317269,
          0.39357429718875503,
          0.39759036144578314,
          0.40160642570281124,
          0.40562248995983935,
          0.40963855421686746,
          0.41365461847389556,
          0.41767068273092367,
          0.42168674698795183,
          0.42570281124497994,
          0.42971887550200805,
          0.43373493975903615,
          0.43775100401606426,
          0.44176706827309237,
          0.4457831325301205,
          0.4497991967871486,
          0.4538152610441767,
          0.4578313253012048,
          0.46184738955823296,
          0.46586345381526106,
          0.46987951807228917,
          0.4738955823293173,
          0.4779116465863454,
          0.4819277108433735,
          0.4859437751004016,
          0.4899598393574297,
          0.4939759036144578,
          0.4979919678714859,
          0.5020080321285141,
          0.5060240963855421,
          0.5100401606425703,
          0.5140562248995983,
          0.5180722891566265,
          0.5220883534136547,
          0.5261044176706827,
          0.5301204819277109,
          0.5341365461847389,
          0.5381526104417671,
          0.5421686746987951,
          0.5461847389558233,
          0.5502008032128514,
          0.5542168674698795,
          0.5582329317269076,
          0.5622489959839357,
          0.5662650602409639,
          0.570281124497992,
          0.5742971887550201,
          0.5783132530120482,
          0.5823293172690763,
          0.5863453815261044,
          0.5903614457831325,
          0.5943775100401606,
          0.5983935742971888,
          0.6024096385542169,
          0.606425702811245,
          0.6104417670682731,
          0.6144578313253012,
          0.6184738955823293,
          0.6224899598393574,
          0.6265060240963856,
          0.6305220883534136,
          0.6345381526104418,
          0.6385542168674698,
          0.642570281124498,
          0.6465863453815262,
          0.6506024096385542,
          0.6546184738955824,
          0.6586345381526104,
          0.6626506024096386,
          0.6666666666666666,
          0.6706827309236948,
          0.6746987951807228,
          0.678714859437751,
          0.6827309236947792,
          0.6867469879518072,
          0.6907630522088354,
          0.6947791164658634,
          0.6987951807228916,
          0.7028112449799196,
          0.7068273092369478,
          0.7108433734939759,
          0.714859437751004,
          0.7188755020080321,
          0.7228915662650602,
          0.7269076305220884,
          0.7309236947791165,
          0.7349397590361446,
          0.7389558232931727,
          0.7429718875502008,
          0.7469879518072289,
          0.751004016064257,
          0.7550200803212851,
          0.7590361445783133,
          0.7630522088353414,
          0.7670682730923695,
          0.7710843373493976,
          0.7751004016064257,
          0.7791164658634538,
          0.7831325301204819,
          0.7871485943775101,
          0.7911646586345381,
          0.7951807228915663,
          0.7991967871485943,
          0.8032128514056225,
          0.8072289156626506,
          0.8112449799196787,
          0.8152610441767069,
          0.8192771084337349,
          0.8232931726907631,
          0.8273092369477911,
          0.8313253012048193,
          0.8353413654618473,
          0.8393574297188755,
          0.8433734939759037,
          0.8473895582329317,
          0.8514056224899599,
          0.8554216867469879,
          0.8594377510040161,
          0.8634538152610441,
          0.8674698795180723,
          0.8714859437751004,
          0.8755020080321285,
          0.8795180722891566,
          0.8835341365461847,
          0.8875502008032129,
          0.891566265060241,
          0.8955823293172691,
          0.8995983935742972,
          0.9036144578313253,
          0.9076305220883534,
          0.9116465863453815,
          0.9156626506024096,
          0.9196787148594378,
          0.9236947791164659,
          0.927710843373494,
          0.9317269076305221,
          0.9357429718875502,
          0.9397590361445783,
          0.9437751004016064,
          0.9477911646586346,
          0.9518072289156626,
          0.9558232931726908,
          0.9598393574297188,
          0.963855421686747,
          0.9678714859437751,
          0.9718875502008032,
          0.9759036144578314,
          0.9799196787148594,
          0.9839357429718876,
          0.9879518072289156,
          0.9919678714859438,
          0.9959839357429718,
          1
         ],
         "y": [
          0,
          0.00009073641962095579,
          0.00018145839559282674,
          0.000272151486565704,
          0.0003628012557876646,
          0.00045339327340285,
          0.0005439131187484461,
          0.0006343463826501999,
          0.0007246786697161084,
          0.0008148956006279127,
          0.0009049828144300334,
          0.000994925970815584,
          0.0010847107524090945,
          0.0011743228670455905,
          0.0012637480500456524,
          0.0013529720664861033,
          0.0014419807134659608,
          0.0015307598223672893,
          0.0016192952611105945,
          0.0017075729364044055,
          0.0017955787959886783,
          0.0018832988308716701,
          0.0019707190775599256,
          0.002057825620281019,
          0.002144604593198705,
          0.002231042182620113,
          0.0023171246291946476,
          0.002402838230104236,
          0.002488169341244575,
          0.0025731043793970356,
          0.0026576298243908727,
          0.0027417322212553996,
          0.002825398182361784,
          0.0029086143895541224,
          0.002991367596269459,
          0.0030736446296464074,
          0.0031554323926220366,
          0.0032367178660166972,
          0.0033174881106064454,
          0.0033977302691827376,
          0.0034774315685990793,
          0.0035565793218042836,
          0.0036351609298620234,
          0.0037131638839563697,
          0.0037905757673829667,
          0.0038673842575255627,
          0.0039435771278175475,
          0.004019142249688212,
          0.004094067594493405,
          0.004168341235430276,
          0.004241951349435822,
          0.0043148862190689075,
          0.0043871342343754765,
          0.004458683894736653,
          0.0045295238106994404,
          0.004599642705789719,
          0.0046690294183072715,
          0.00473767290310252,
          0.004805562233334727,
          0.004872686602211352,
          0.004939035324708313,
          0.0050045978392708424,
          0.005069363709494712,
          0.005133322625787522,
          0.0051964644070098065,
          0.005258779002095692,
          0.005320256491652858,
          0.005380887089541519,
          0.0054406611444322165,
          0.005499569141342138,
          0.005557601703149734,
          0.005614749592087395,
          0.00567100371121194,
          0.005726355105852691,
          0.005780794965036899,
          0.0058343146228923,
          0.005886905560026563,
          0.005938559404883438,
          0.005989267935075352,
          0.006039023078692273,
          0.00608781691558662,
          0.006135641678634006,
          0.00618248975496963,
          0.0062283536872001135,
          0.006273226174590586,
          0.006317100074226833,
          0.006359968402152325,
          0.006401824334479938,
          0.006442661208478201,
          0.006482472523631883,
          0.006521251942676763,
          0.006558993292608408,
          0.006595690565664812,
          0.006631337920282724,
          0.006665929682027524,
          0.0066994603444964895,
          0.006731924570195325,
          0.006763317191387791,
          0.00679363321091832,
          0.00682286780300748,
          0.006851016314020147,
          0.006878074263206287,
          0.006904037343414212,
          0.0069289014217762,
          0.006952662540366382,
          0.006975316916830768,
          0.006996860944989331,
          0.007017291195410057,
          0.007036604415954839,
          0.007054797532297168,
          0.0070718676484115076,
          0.007087812047034295,
          0.007102628190096476,
          0.007116313719127526,
          0.007128866455630876,
          0.007140284401430692,
          0.007150565738989945,
          0.007159708831699736,
          0.007167712224139812,
          0.00717457464231025,
          0.007180294993834245,
          0.007184872368132008,
          0.007188306036565705,
          0.007190595452555449,
          0.007191740251666307,
          0.007191740251666307,
          0.007190595452555449,
          0.007188306036565705,
          0.007184872368132008,
          0.007180294993834245,
          0.00717457464231025,
          0.007167712224139812,
          0.007159708831699736,
          0.007150565738989945,
          0.007140284401430692,
          0.007128866455630877,
          0.007116313719127526,
          0.007102628190096476,
          0.007087812047034295,
          0.0070718676484115076,
          0.007054797532297169,
          0.007036604415954839,
          0.007017291195410058,
          0.006996860944989331,
          0.006975316916830768,
          0.006952662540366383,
          0.006928901421776201,
          0.006904037343414212,
          0.006878074263206288,
          0.006851016314020147,
          0.00682286780300748,
          0.00679363321091832,
          0.00676331719138779,
          0.006731924570195325,
          0.00669946034449649,
          0.006665929682027525,
          0.006631337920282725,
          0.006595690565664813,
          0.006558993292608408,
          0.0065212519426767635,
          0.006482472523631884,
          0.006442661208478201,
          0.006401824334479939,
          0.006359968402152323,
          0.006317100074226832,
          0.006273226174590587,
          0.006228353687200114,
          0.0061824897549696296,
          0.0061356416786340065,
          0.0060878169155866215,
          0.0060390230786922725,
          0.005989267935075352,
          0.005938559404883437,
          0.005886905560026565,
          0.0058343146228923,
          0.005780794965036901,
          0.005726355105852691,
          0.005671003711211941,
          0.005614749592087396,
          0.005557601703149736,
          0.005499569141342138,
          0.005440661144432217,
          0.00538088708954152,
          0.005320256491652857,
          0.005258779002095693,
          0.005196464407009806,
          0.005133322625787524,
          0.0050693637094947125,
          0.005004597839270844,
          0.004939035324708313,
          0.004872686602211352,
          0.004805562233334728,
          0.00473767290310252,
          0.004669029418307272,
          0.0045996427057897185,
          0.004529523810699441,
          0.0044586838947366534,
          0.004387134234375478,
          0.0043148862190689075,
          0.004241951349435823,
          0.004168341235430277,
          0.004094067594493405,
          0.004019142249688213,
          0.003943577127817549,
          0.003867384257525565,
          0.0037905757673829667,
          0.0037131638839563706,
          0.003635160929862023,
          0.003556579321804286,
          0.0034774315685990806,
          0.0033977302691827367,
          0.0033174881106064454,
          0.003236717866016699,
          0.003155432392622039,
          0.0030736446296464074,
          0.00299136759626946,
          0.002908614389554121,
          0.002825398182361787,
          0.0027417322212554005,
          0.0026576298243908745,
          0.002573104379397035,
          0.0024881693412445757,
          0.0024028382301042373,
          0.0023171246291946476,
          0.002231042182620114,
          0.0021446045931987063,
          0.002057825620281022,
          0.001970719077559926,
          0.0018832988308716716,
          0.0017955787959886781,
          0.0017075729364044061,
          0.001619295261110596,
          0.0015307598223672887,
          0.0014419807134659615,
          0.0013529720664861048,
          0.0012637480500456548,
          0.0011743228670455907,
          0.001084710752409096,
          0.0009949259708155829,
          0.0009049828144300368,
          0.000814895600627914,
          0.0007246786697161075,
          0.0006343463826501999,
          0.0005439131187484472,
          0.00045339327340285224,
          0.0003628012557876646,
          0.0002721514865657049,
          0.00018145839559282874,
          0.00009073641962095885,
          8.807516931553887e-19
         ]
        },
        {
         "mode": "markers",
         "name": "num",
         "showlegend": true,
         "type": "scatter",
         "x": [
          0,
          0.05,
          0.1,
          0.15,
          0.2,
          0.25,
          0.3,
          0.35,
          0.4,
          0.45,
          0.5,
          0.55,
          0.6,
          0.65,
          0.7,
          0.75,
          0.8,
          0.85,
          0.9,
          0.95,
          1
         ],
         "y": [
          0,
          0.0011227794814507954,
          0.002217912405776811,
          0.0032584329658433405,
          0.004218720092171793,
          0.005075128328701709,
          0.005806570062393739,
          0.006395034770248446,
          0.006826032498156051,
          0.00708895065165602,
          0.007177315313233857,
          0.00708895065165602,
          0.006826032498156052,
          0.006395034770248447,
          0.00580657006239374,
          0.00507512832870171,
          0.004218720092171794,
          0.003258432965843341,
          0.002217912405776811,
          0.0011227794814507956,
          0
         ]
        }
       ],
       "frames": [],
       "layout": {
        "margin": {
         "b": 50,
         "l": 50,
         "r": 50,
         "t": 60
        },
        "template": {
         "data": {
          "bar": [
           {
            "error_x": {
             "color": "#2a3f5f"
            },
            "error_y": {
             "color": "#2a3f5f"
            },
            "marker": {
             "line": {
              "color": "#E5ECF6",
              "width": 0.5
             }
            },
            "type": "bar"
           }
          ],
          "barpolar": [
           {
            "marker": {
             "line": {
              "color": "#E5ECF6",
              "width": 0.5
             }
            },
            "type": "barpolar"
           }
          ],
          "carpet": [
           {
            "aaxis": {
             "endlinecolor": "#2a3f5f",
             "gridcolor": "white",
             "linecolor": "white",
             "minorgridcolor": "white",
             "startlinecolor": "#2a3f5f"
            },
            "baxis": {
             "endlinecolor": "#2a3f5f",
             "gridcolor": "white",
             "linecolor": "white",
             "minorgridcolor": "white",
             "startlinecolor": "#2a3f5f"
            },
            "type": "carpet"
           }
          ],
          "choropleth": [
           {
            "colorbar": {
             "outlinewidth": 0,
             "ticks": ""
            },
            "type": "choropleth"
           }
          ],
          "contour": [
           {
            "colorbar": {
             "outlinewidth": 0,
             "ticks": ""
            },
            "colorscale": [
             [
              0,
              "#0d0887"
             ],
             [
              0.1111111111111111,
              "#46039f"
             ],
             [
              0.2222222222222222,
              "#7201a8"
             ],
             [
              0.3333333333333333,
              "#9c179e"
             ],
             [
              0.4444444444444444,
              "#bd3786"
             ],
             [
              0.5555555555555556,
              "#d8576b"
             ],
             [
              0.6666666666666666,
              "#ed7953"
             ],
             [
              0.7777777777777778,
              "#fb9f3a"
             ],
             [
              0.8888888888888888,
              "#fdca26"
             ],
             [
              1,
              "#f0f921"
             ]
            ],
            "type": "contour"
           }
          ],
          "contourcarpet": [
           {
            "colorbar": {
             "outlinewidth": 0,
             "ticks": ""
            },
            "type": "contourcarpet"
           }
          ],
          "heatmap": [
           {
            "colorbar": {
             "outlinewidth": 0,
             "ticks": ""
            },
            "colorscale": [
             [
              0,
              "#0d0887"
             ],
             [
              0.1111111111111111,
              "#46039f"
             ],
             [
              0.2222222222222222,
              "#7201a8"
             ],
             [
              0.3333333333333333,
              "#9c179e"
             ],
             [
              0.4444444444444444,
              "#bd3786"
             ],
             [
              0.5555555555555556,
              "#d8576b"
             ],
             [
              0.6666666666666666,
              "#ed7953"
             ],
             [
              0.7777777777777778,
              "#fb9f3a"
             ],
             [
              0.8888888888888888,
              "#fdca26"
             ],
             [
              1,
              "#f0f921"
             ]
            ],
            "type": "heatmap"
           }
          ],
          "heatmapgl": [
           {
            "colorbar": {
             "outlinewidth": 0,
             "ticks": ""
            },
            "colorscale": [
             [
              0,
              "#0d0887"
             ],
             [
              0.1111111111111111,
              "#46039f"
             ],
             [
              0.2222222222222222,
              "#7201a8"
             ],
             [
              0.3333333333333333,
              "#9c179e"
             ],
             [
              0.4444444444444444,
              "#bd3786"
             ],
             [
              0.5555555555555556,
              "#d8576b"
             ],
             [
              0.6666666666666666,
              "#ed7953"
             ],
             [
              0.7777777777777778,
              "#fb9f3a"
             ],
             [
              0.8888888888888888,
              "#fdca26"
             ],
             [
              1,
              "#f0f921"
             ]
            ],
            "type": "heatmapgl"
           }
          ],
          "histogram": [
           {
            "marker": {
             "colorbar": {
              "outlinewidth": 0,
              "ticks": ""
             }
            },
            "type": "histogram"
           }
          ],
          "histogram2d": [
           {
            "colorbar": {
             "outlinewidth": 0,
             "ticks": ""
            },
            "colorscale": [
             [
              0,
              "#0d0887"
             ],
             [
              0.1111111111111111,
              "#46039f"
             ],
             [
              0.2222222222222222,
              "#7201a8"
             ],
             [
              0.3333333333333333,
              "#9c179e"
             ],
             [
              0.4444444444444444,
              "#bd3786"
             ],
             [
              0.5555555555555556,
              "#d8576b"
             ],
             [
              0.6666666666666666,
              "#ed7953"
             ],
             [
              0.7777777777777778,
              "#fb9f3a"
             ],
             [
              0.8888888888888888,
              "#fdca26"
             ],
             [
              1,
              "#f0f921"
             ]
            ],
            "type": "histogram2d"
           }
          ],
          "histogram2dcontour": [
           {
            "colorbar": {
             "outlinewidth": 0,
             "ticks": ""
            },
            "colorscale": [
             [
              0,
              "#0d0887"
             ],
             [
              0.1111111111111111,
              "#46039f"
             ],
             [
              0.2222222222222222,
              "#7201a8"
             ],
             [
              0.3333333333333333,
              "#9c179e"
             ],
             [
              0.4444444444444444,
              "#bd3786"
             ],
             [
              0.5555555555555556,
              "#d8576b"
             ],
             [
              0.6666666666666666,
              "#ed7953"
             ],
             [
              0.7777777777777778,
              "#fb9f3a"
             ],
             [
              0.8888888888888888,
              "#fdca26"
             ],
             [
              1,
              "#f0f921"
             ]
            ],
            "type": "histogram2dcontour"
           }
          ],
          "mesh3d": [
           {
            "colorbar": {
             "outlinewidth": 0,
             "ticks": ""
            },
            "type": "mesh3d"
           }
          ],
          "parcoords": [
           {
            "line": {
             "colorbar": {
              "outlinewidth": 0,
              "ticks": ""
             }
            },
            "type": "parcoords"
           }
          ],
          "pie": [
           {
            "automargin": true,
            "type": "pie"
           }
          ],
          "scatter": [
           {
            "marker": {
             "colorbar": {
              "outlinewidth": 0,
              "ticks": ""
             }
            },
            "type": "scatter"
           }
          ],
          "scatter3d": [
           {
            "line": {
             "colorbar": {
              "outlinewidth": 0,
              "ticks": ""
             }
            },
            "marker": {
             "colorbar": {
              "outlinewidth": 0,
              "ticks": ""
             }
            },
            "type": "scatter3d"
           }
          ],
          "scattercarpet": [
           {
            "marker": {
             "colorbar": {
              "outlinewidth": 0,
              "ticks": ""
             }
            },
            "type": "scattercarpet"
           }
          ],
          "scattergeo": [
           {
            "marker": {
             "colorbar": {
              "outlinewidth": 0,
              "ticks": ""
             }
            },
            "type": "scattergeo"
           }
          ],
          "scattergl": [
           {
            "marker": {
             "colorbar": {
              "outlinewidth": 0,
              "ticks": ""
             }
            },
            "type": "scattergl"
           }
          ],
          "scattermapbox": [
           {
            "marker": {
             "colorbar": {
              "outlinewidth": 0,
              "ticks": ""
             }
            },
            "type": "scattermapbox"
           }
          ],
          "scatterpolar": [
           {
            "marker": {
             "colorbar": {
              "outlinewidth": 0,
              "ticks": ""
             }
            },
            "type": "scatterpolar"
           }
          ],
          "scatterpolargl": [
           {
            "marker": {
             "colorbar": {
              "outlinewidth": 0,
              "ticks": ""
             }
            },
            "type": "scatterpolargl"
           }
          ],
          "scatterternary": [
           {
            "marker": {
             "colorbar": {
              "outlinewidth": 0,
              "ticks": ""
             }
            },
            "type": "scatterternary"
           }
          ],
          "surface": [
           {
            "colorbar": {
             "outlinewidth": 0,
             "ticks": ""
            },
            "colorscale": [
             [
              0,
              "#0d0887"
             ],
             [
              0.1111111111111111,
              "#46039f"
             ],
             [
              0.2222222222222222,
              "#7201a8"
             ],
             [
              0.3333333333333333,
              "#9c179e"
             ],
             [
              0.4444444444444444,
              "#bd3786"
             ],
             [
              0.5555555555555556,
              "#d8576b"
             ],
             [
              0.6666666666666666,
              "#ed7953"
             ],
             [
              0.7777777777777778,
              "#fb9f3a"
             ],
             [
              0.8888888888888888,
              "#fdca26"
             ],
             [
              1,
              "#f0f921"
             ]
            ],
            "type": "surface"
           }
          ],
          "table": [
           {
            "cells": {
             "fill": {
              "color": "#EBF0F8"
             },
             "line": {
              "color": "white"
             }
            },
            "header": {
             "fill": {
              "color": "#C8D4E3"
             },
             "line": {
              "color": "white"
             }
            },
            "type": "table"
           }
          ]
         },
         "layout": {
          "annotationdefaults": {
           "arrowcolor": "#2a3f5f",
           "arrowhead": 0,
           "arrowwidth": 1
          },
          "autotypenumbers": "strict",
          "coloraxis": {
           "colorbar": {
            "outlinewidth": 0,
            "ticks": ""
           }
          },
          "colorscale": {
           "diverging": [
            [
             0,
             "#8e0152"
            ],
            [
             0.1,
             "#c51b7d"
            ],
            [
             0.2,
             "#de77ae"
            ],
            [
             0.3,
             "#f1b6da"
            ],
            [
             0.4,
             "#fde0ef"
            ],
            [
             0.5,
             "#f7f7f7"
            ],
            [
             0.6,
             "#e6f5d0"
            ],
            [
             0.7,
             "#b8e186"
            ],
            [
             0.8,
             "#7fbc41"
            ],
            [
             0.9,
             "#4d9221"
            ],
            [
             1,
             "#276419"
            ]
           ],
           "sequential": [
            [
             0,
             "#0d0887"
            ],
            [
             0.1111111111111111,
             "#46039f"
            ],
            [
             0.2222222222222222,
             "#7201a8"
            ],
            [
             0.3333333333333333,
             "#9c179e"
            ],
            [
             0.4444444444444444,
             "#bd3786"
            ],
            [
             0.5555555555555556,
             "#d8576b"
            ],
            [
             0.6666666666666666,
             "#ed7953"
            ],
            [
             0.7777777777777778,
             "#fb9f3a"
            ],
            [
             0.8888888888888888,
             "#fdca26"
            ],
            [
             1,
             "#f0f921"
            ]
           ],
           "sequentialminus": [
            [
             0,
             "#0d0887"
            ],
            [
             0.1111111111111111,
             "#46039f"
            ],
            [
             0.2222222222222222,
             "#7201a8"
            ],
            [
             0.3333333333333333,
             "#9c179e"
            ],
            [
             0.4444444444444444,
             "#bd3786"
            ],
            [
             0.5555555555555556,
             "#d8576b"
            ],
            [
             0.6666666666666666,
             "#ed7953"
            ],
            [
             0.7777777777777778,
             "#fb9f3a"
            ],
            [
             0.8888888888888888,
             "#fdca26"
            ],
            [
             1,
             "#f0f921"
            ]
           ]
          },
          "colorway": [
           "#636efa",
           "#EF553B",
           "#00cc96",
           "#ab63fa",
           "#FFA15A",
           "#19d3f3",
           "#FF6692",
           "#B6E880",
           "#FF97FF",
           "#FECB52"
          ],
          "font": {
           "color": "#2a3f5f"
          },
          "geo": {
           "bgcolor": "white",
           "lakecolor": "white",
           "landcolor": "#E5ECF6",
           "showlakes": true,
           "showland": true,
           "subunitcolor": "white"
          },
          "hoverlabel": {
           "align": "left"
          },
          "hovermode": "closest",
          "mapbox": {
           "style": "light"
          },
          "paper_bgcolor": "white",
          "plot_bgcolor": "#E5ECF6",
          "polar": {
           "angularaxis": {
            "gridcolor": "white",
            "linecolor": "white",
            "ticks": ""
           },
           "bgcolor": "#E5ECF6",
           "radialaxis": {
            "gridcolor": "white",
            "linecolor": "white",
            "ticks": ""
           }
          },
          "scene": {
           "xaxis": {
            "backgroundcolor": "#E5ECF6",
            "gridcolor": "white",
            "gridwidth": 2,
            "linecolor": "white",
            "showbackground": true,
            "ticks": "",
            "zerolinecolor": "white"
           },
           "yaxis": {
            "backgroundcolor": "#E5ECF6",
            "gridcolor": "white",
            "gridwidth": 2,
            "linecolor": "white",
            "showbackground": true,
            "ticks": "",
            "zerolinecolor": "white"
           },
           "zaxis": {
            "backgroundcolor": "#E5ECF6",
            "gridcolor": "white",
            "gridwidth": 2,
            "linecolor": "white",
            "showbackground": true,
            "ticks": "",
            "zerolinecolor": "white"
           }
          },
          "shapedefaults": {
           "line": {
            "color": "#2a3f5f"
           }
          },
          "ternary": {
           "aaxis": {
            "gridcolor": "white",
            "linecolor": "white",
            "ticks": ""
           },
           "baxis": {
            "gridcolor": "white",
            "linecolor": "white",
            "ticks": ""
           },
           "bgcolor": "#E5ECF6",
           "caxis": {
            "gridcolor": "white",
            "linecolor": "white",
            "ticks": ""
           }
          },
          "title": {
           "x": 0.05
          },
          "xaxis": {
           "automargin": true,
           "gridcolor": "white",
           "linecolor": "white",
           "ticks": "",
           "title": {
            "standoff": 15
           },
           "zerolinecolor": "white",
           "zerolinewidth": 2
          },
          "yaxis": {
           "automargin": true,
           "gridcolor": "white",
           "linecolor": "white",
           "ticks": "",
           "title": {
            "standoff": 15
           },
           "zerolinecolor": "white",
           "zerolinewidth": 2
          }
         }
        },
        "xaxis": {
         "title": {
          "text": "x"
         }
        },
        "yaxis": {
         "title": {
          "text": "u(x,0.5)"
         }
        }
       }
      },
      "image/png": "[encoded data removed]",
      "image/svg+xml": "<svg class=\"main-svg\" xmlns=\"http://www.w3.org/2000/svg\" xmlns:xlink=\"http://www.w3.org/1999/xlink\" width=\"700\" height=\"500\" style=\"\" viewBox=\"0 0 700 500\"><rect x=\"0\" y=\"0\" width=\"700\" height=\"500\" style=\"fill: rgb(255, 255, 255); fill-opacity: 1;\"/><defs id=\"defs-c61e48\"><g class=\"clips\"><clipPath id=\"clipc61e48xyplot\" class=\"plotclip\"><rect width=\"526\" height=\"387\"/></clipPath><clipPath class=\"axesclip\" id=\"clipc61e48x\"><rect x=\"73\" y=\"0\" width=\"526\" height=\"500\"/></clipPath><clipPath class=\"axesclip\" id=\"clipc61e48y\"><rect x=\"0\" y=\"60\" width=\"700\" height=\"387\"/></clipPath><clipPath class=\"axesclip\" id=\"clipc61e48xy\"><rect x=\"73\" y=\"60\" width=\"526\" height=\"387\"/></clipPath></g><g class=\"gradients\"/></defs><g class=\"bglayer\"><rect class=\"bg\" x=\"73\" y=\"60\" width=\"526\" height=\"387\" style=\"fill: rgb(229, 236, 246); fill-opacity: 1; stroke-width: 0;\"/></g><g class=\"layer-below\"><g class=\"imagelayer\"/><g class=\"shapelayer\"/></g><g class=\"cartesianlayer\"><g class=\"subplot xy\"><g class=\"layer-subplot\"><g class=\"shapelayer\"/><g class=\"imagelayer\"/></g><g class=\"gridlayer\"><g class=\"x\"><path class=\"xgrid crisp\" transform=\"translate(196.23000000000002,0)\" d=\"M0,60v387\" style=\"stroke: rgb(255, 255, 255); stroke-opacity: 1; stroke-width: 1px;\"/><path class=\"xgrid crisp\" transform=\"translate(289.40999999999997,0)\" d=\"M0,60v387\" style=\"stroke: rgb(255, 255, 255); stroke-opacity: 1; stroke-width: 1px;\"/><path class=\"xgrid crisp\" transform=\"translate(382.59,0)\" d=\"M0,60v387\" style=\"stroke: rgb(255, 255, 255); stroke-opacity: 1; stroke-width: 1px;\"/><path class=\"xgrid crisp\" transform=\"translate(475.77,0)\" d=\"M0,60v387\" style=\"stroke: rgb(255, 255, 255); stroke-opacity: 1; stroke-width: 1px;\"/><path class=\"xgrid crisp\" transform=\"translate(568.95,0)\" d=\"M0,60v387\" style=\"stroke: rgb(255, 255, 255); stroke-opacity: 1; stroke-width: 1px;\"/></g><g class=\"y\"><path class=\"ygrid crisp\" transform=\"translate(0,376.42)\" d=\"M73,0h526\" style=\"stroke: rgb(255, 255, 255); stroke-opacity: 1; stroke-width: 1px;\"/><path class=\"ygrid crisp\" transform=\"translate(0,328.93)\" d=\"M73,0h526\" style=\"stroke: rgb(255, 255, 255); stroke-opacity: 1; stroke-width: 1px;\"/><path class=\"ygrid crisp\" transform=\"translate(0,281.45)\" d=\"M73,0h526\" style=\"stroke: rgb(255, 255, 255); stroke-opacity: 1; stroke-width: 1px;\"/><path class=\"ygrid crisp\" transform=\"translate(0,233.97)\" d=\"M73,0h526\" style=\"stroke: rgb(255, 255, 255); stroke-opacity: 1; stroke-width: 1px;\"/><path class=\"ygrid crisp\" transform=\"translate(0,186.49)\" d=\"M73,0h526\" style=\"stroke: rgb(255, 255, 255); stroke-opacity: 1; stroke-width: 1px;\"/><path class=\"ygrid crisp\" transform=\"translate(0,139)\" d=\"M73,0h526\" style=\"stroke: rgb(255, 255, 255); stroke-opacity: 1; stroke-width: 1px;\"/><path class=\"ygrid crisp\" transform=\"translate(0,91.52)\" d=\"M73,0h526\" style=\"stroke: rgb(255, 255, 255); stroke-opacity: 1; stroke-width: 1px;\"/></g></g><g class=\"zerolinelayer\"><path class=\"xzl zl crisp\" transform=\"translate(103.05,0)\" d=\"M0,60v387\" style=\"stroke: rgb(255, 255, 255); stroke-opacity: 1; stroke-width: 2px;\"/><path class=\"yzl zl crisp\" transform=\"translate(0,423.9)\" d=\"M73,0h526\" style=\"stroke: rgb(255, 255, 255); stroke-opacity: 1; stroke-width: 2px;\"/></g><path class=\"xlines-below\"/><path class=\"ylines-below\"/><g class=\"overlines-below\"/><g class=\"xaxislayer-below\"/><g class=\"yaxislayer-below\"/><g class=\"overaxes-below\"/><g class=\"plot\" transform=\"translate(73,60)\" clip-path=\"url('#clipc61e48xyplot')\"><g class=\"scatterlayer mlayer\"><g class=\"trace scatter tracefca3f2\" style=\"stroke-miterlimit: 2; opacity: 1;\"><g class=\"fills\"/><g class=\"errorbars\"/><g class=\"lines\"><path class=\"js-line\" d=\"M30.05,363.9L76.83,257.96L78.7,253.88L103.02,202.57L104.89,198.78L125.48,159.02L127.35,155.59L144.19,126.27L146.06,123.19L161.03,100.01L162.9,97.3L177.87,77.15L179.74,74.83L192.83,59.92L194.71,57.98L207.8,45.79L209.67,44.25L220.9,36.08L222.77,34.9L234,28.92L235.87,28.11L245.22,24.86L247.1,24.37L256.45,22.74L258.32,22.58L267.68,22.58L269.55,22.74L278.9,24.37L280.78,24.86L290.13,28.11L292,28.92L303.23,34.9L305.1,36.08L316.33,44.25L318.2,45.79L329.42,56.09L331.29,57.98L344.39,72.56L346.26,74.83L359.36,92L361.23,94.62L376.2,117.16L378.07,120.15L394.91,148.82L396.78,152.19L415.49,187.59L417.36,191.29L437.95,233.71L439.82,237.71L466.01,295.43L467.88,299.66L495.95,363.9\" style=\"vector-effect: non-scaling-stroke; fill: none; stroke: rgb(99, 110, 250); stroke-opacity: 1; stroke-width: 2px; opacity: 1;\"/></g><g class=\"points\"/><g class=\"text\"/></g><g class=\"trace scatter trace6b74a7\" style=\"stroke-miterlimit: 2; opacity: 1;\"><g class=\"fills\"/><g class=\"errorbars\"/><g class=\"lines\"/><g class=\"points\"><path class=\"point\" transform=\"translate(30.05,363.9)\" d=\"M3,0A3,3 0 1,1 0,-3A3,3 0 0,1 3,0Z\" style=\"opacity: 1; stroke-width: 0px; fill: rgb(239, 85, 59); fill-opacity: 1;\"/><path class=\"point\" transform=\"translate(53.35,310.59)\" d=\"M3,0A3,3 0 1,1 0,-3A3,3 0 0,1 3,0Z\" style=\"opacity: 1; stroke-width: 0px; fill: rgb(239, 85, 59); fill-opacity: 1;\"/><path class=\"point\" transform=\"translate(76.64,258.59)\" d=\"M3,0A3,3 0 1,1 0,-3A3,3 0 0,1 3,0Z\" style=\"opacity: 1; stroke-width: 0px; fill: rgb(239, 85, 59); fill-opacity: 1;\"/><path class=\"point\" transform=\"translate(99.94,209.18)\" d=\"M3,0A3,3 0 1,1 0,-3A3,3 0 0,1 3,0Z\" style=\"opacity: 1; stroke-width: 0px; fill: rgb(239, 85, 59); fill-opacity: 1;\"/><path class=\"point\" transform=\"translate(123.23,163.58)\" d=\"M3,0A3,3 0 1,1 0,-3A3,3 0 0,1 3,0Z\" style=\"opacity: 1; stroke-width: 0px; fill: rgb(239, 85, 59); fill-opacity: 1;\"/><path class=\"point\" transform=\"translate(146.53,122.92)\" d=\"M3,0A3,3 0 1,1 0,-3A3,3 0 0,1 3,0Z\" style=\"opacity: 1; stroke-width: 0px; fill: rgb(239, 85, 59); fill-opacity: 1;\"/><path class=\"point\" transform=\"translate(169.82,88.19)\" d=\"M3,0A3,3 0 1,1 0,-3A3,3 0 0,1 3,0Z\" style=\"opacity: 1; stroke-width: 0px; fill: rgb(239, 85, 59); fill-opacity: 1;\"/><path class=\"point\" transform=\"translate(193.12,60.24)\" d=\"M3,0A3,3 0 1,1 0,-3A3,3 0 0,1 3,0Z\" style=\"opacity: 1; stroke-width: 0px; fill: rgb(239, 85, 59); fill-opacity: 1;\"/><path class=\"point\" transform=\"translate(216.41,39.78)\" d=\"M3,0A3,3 0 1,1 0,-3A3,3 0 0,1 3,0Z\" style=\"opacity: 1; stroke-width: 0px; fill: rgb(239, 85, 59); fill-opacity: 1;\"/><path class=\"point\" transform=\"translate(239.71,27.3)\" d=\"M3,0A3,3 0 1,1 0,-3A3,3 0 0,1 3,0Z\" style=\"opacity: 1; stroke-width: 0px; fill: rgb(239, 85, 59); fill-opacity: 1;\"/><path class=\"point\" transform=\"translate(263,23.1)\" d=\"M3,0A3,3 0 1,1 0,-3A3,3 0 0,1 3,0Z\" style=\"opacity: 1; stroke-width: 0px; fill: rgb(239, 85, 59); fill-opacity: 1;\"/><path class=\"point\" transform=\"translate(286.3,27.3)\" d=\"M3,0A3,3 0 1,1 0,-3A3,3 0 0,1 3,0Z\" style=\"opacity: 1; stroke-width: 0px; fill: rgb(239, 85, 59); fill-opacity: 1;\"/><path class=\"point\" transform=\"translate(309.59,39.78)\" d=\"M3,0A3,3 0 1,1 0,-3A3,3 0 0,1 3,0Z\" style=\"opacity: 1; stroke-width: 0px; fill: rgb(239, 85, 59); fill-opacity: 1;\"/><path class=\"point\" transform=\"translate(332.89,60.24)\" d=\"M3,0A3,3 0 1,1 0,-3A3,3 0 0,1 3,0Z\" style=\"opacity: 1; stroke-width: 0px; fill: rgb(239, 85, 59); fill-opacity: 1;\"/><path class=\"point\" transform=\"translate(356.18,88.19)\" d=\"M3,0A3,3 0 1,1 0,-3A3,3 0 0,1 3,0Z\" style=\"opacity: 1; stroke-width: 0px; fill: rgb(239, 85, 59); fill-opacity: 1;\"/><path class=\"point\" transform=\"translate(379.48,122.92)\" d=\"M3,0A3,3 0 1,1 0,-3A3,3 0 0,1 3,0Z\" style=\"opacity: 1; stroke-width: 0px; fill: rgb(239, 85, 59); fill-opacity: 1;\"/><path class=\"point\" transform=\"translate(402.77,163.58)\" d=\"M3,0A3,3 0 1,1 0,-3A3,3 0 0,1 3,0Z\" style=\"opacity: 1; stroke-width: 0px; fill: rgb(239, 85, 59); fill-opacity: 1;\"/><path class=\"point\" transform=\"translate(426.07,209.18)\" d=\"M3,0A3,3 0 1,1 0,-3A3,3 0 0,1 3,0Z\" style=\"opacity: 1; stroke-width: 0px; fill: rgb(239, 85, 59); fill-opacity: 1;\"/><path class=\"point\" transform=\"translate(449.36,258.59)\" d=\"M3,0A3,3 0 1,1 0,-3A3,3 0 0,1 3,0Z\" style=\"opacity: 1; stroke-width: 0px; fill: rgb(239, 85, 59); fill-opacity: 1;\"/><path class=\"point\" transform=\"translate(472.66,310.59)\" d=\"M3,0A3,3 0 1,1 0,-3A3,3 0 0,1 3,0Z\" style=\"opacity: 1; stroke-width: 0px; fill: rgb(239, 85, 59); fill-opacity: 1;\"/><path class=\"point\" transform=\"translate(495.95,363.9)\" d=\"M3,0A3,3 0 1,1 0,-3A3,3 0 0,1 3,0Z\" style=\"opacity: 1; stroke-width: 0px; fill: rgb(239, 85, 59); fill-opacity: 1;\"/></g><g class=\"text\"/></g></g></g><g class=\"overplot\"/><path class=\"xlines-above crisp\" d=\"M0,0\" style=\"fill: none;\"/><path class=\"ylines-above crisp\" d=\"M0,0\" style=\"fill: none;\"/><g class=\"overlines-above\"/><g class=\"xaxislayer-above\"><g class=\"xtick\"><text text-anchor=\"middle\" x=\"0\" y=\"460\" transform=\"translate(103.05,0)\" style=\"font-family: 'Open Sans', verdana, arial, sans-serif; font-size: 12px; fill: rgb(42, 63, 95); fill-opacity: 1; white-space: pre;\">0</text></g><g class=\"xtick\"><text text-anchor=\"middle\" x=\"0\" y=\"460\" transform=\"translate(196.23000000000002,0)\" style=\"font-family: 'Open Sans', verdana, arial, sans-serif; font-size: 12px; fill: rgb(42, 63, 95); fill-opacity: 1; white-space: pre;\">0.2</text></g><g class=\"xtick\"><text text-anchor=\"middle\" x=\"0\" y=\"460\" transform=\"translate(289.40999999999997,0)\" style=\"font-family: 'Open Sans', verdana, arial, sans-serif; font-size: 12px; fill: rgb(42, 63, 95); fill-opacity: 1; white-space: pre;\">0.4</text></g><g class=\"xtick\"><text text-anchor=\"middle\" x=\"0\" y=\"460\" transform=\"translate(382.59,0)\" style=\"font-family: 'Open Sans', verdana, arial, sans-serif; font-size: 12px; fill: rgb(42, 63, 95); fill-opacity: 1; white-space: pre;\">0.6</text></g><g class=\"xtick\"><text text-anchor=\"middle\" x=\"0\" y=\"460\" transform=\"translate(475.77,0)\" style=\"font-family: 'Open Sans', verdana, arial, sans-serif; font-size: 12px; fill: rgb(42, 63, 95); fill-opacity: 1; white-space: pre;\">0.8</text></g><g class=\"xtick\"><text text-anchor=\"middle\" x=\"0\" y=\"460\" transform=\"translate(568.95,0)\" style=\"font-family: 'Open Sans', verdana, arial, sans-serif; font-size: 12px; fill: rgb(42, 63, 95); fill-opacity: 1; white-space: pre;\">1</text></g></g><g class=\"yaxislayer-above\"><g class=\"ytick\"><text text-anchor=\"end\" x=\"72\" y=\"4.199999999999999\" transform=\"translate(0,423.9)\" style=\"font-family: 'Open Sans', verdana, arial, sans-serif; font-size: 12px; fill: rgb(42, 63, 95); fill-opacity: 1; white-space: pre;\">0</text></g><g class=\"ytick\"><text text-anchor=\"end\" x=\"72\" y=\"4.199999999999999\" transform=\"translate(0,376.42)\" style=\"font-family: 'Open Sans', verdana, arial, sans-serif; font-size: 12px; fill: rgb(42, 63, 95); fill-opacity: 1; white-space: pre;\">0.001</text></g><g class=\"ytick\"><text text-anchor=\"end\" x=\"72\" y=\"4.199999999999999\" transform=\"translate(0,328.93)\" style=\"font-family: 'Open Sans', verdana, arial, sans-serif; font-size: 12px; fill: rgb(42, 63, 95); fill-opacity: 1; white-space: pre;\">0.002</text></g><g class=\"ytick\"><text text-anchor=\"end\" x=\"72\" y=\"4.199999999999999\" transform=\"translate(0,281.45)\" style=\"font-family: 'Open Sans', verdana, arial, sans-serif; font-size: 12px; fill: rgb(42, 63, 95); fill-opacity: 1; white-space: pre;\">0.003</text></g><g class=\"ytick\"><text text-anchor=\"end\" x=\"72\" y=\"4.199999999999999\" transform=\"translate(0,233.97)\" style=\"font-family: 'Open Sans', verdana, arial, sans-serif; font-size: 12px; fill: rgb(42, 63, 95); fill-opacity: 1; white-space: pre;\">0.004</text></g><g class=\"ytick\"><text text-anchor=\"end\" x=\"72\" y=\"4.199999999999999\" transform=\"translate(0,186.49)\" style=\"font-family: 'Open Sans', verdana, arial, sans-serif; font-size: 12px; fill: rgb(42, 63, 95); fill-opacity: 1; white-space: pre;\">0.005</text></g><g class=\"ytick\"><text text-anchor=\"end\" x=\"72\" y=\"4.199999999999999\" transform=\"translate(0,139)\" style=\"font-family: 'Open Sans', verdana, arial, sans-serif; font-size: 12px; fill: rgb(42, 63, 95); fill-opacity: 1; white-space: pre;\">0.006</text></g><g class=\"ytick\"><text text-anchor=\"end\" x=\"72\" y=\"4.199999999999999\" transform=\"translate(0,91.52)\" style=\"font-family: 'Open Sans', verdana, arial, sans-serif; font-size: 12px; fill: rgb(42, 63, 95); fill-opacity: 1; white-space: pre;\">0.007</text></g></g><g class=\"overaxes-above\"/></g></g><g class=\"polarlayer\"/><g class=\"ternarylayer\"/><g class=\"geolayer\"/><g class=\"funnelarealayer\"/><g class=\"pielayer\"/><g class=\"treemaplayer\"/><g class=\"sunburstlayer\"/><g class=\"glimages\"/><defs id=\"topdefs-c61e48\"><g class=\"clips\"/><clipPath id=\"legendc61e48\"><rect width=\"78\" height=\"48\" x=\"0\" y=\"0\"/></clipPath></defs><g class=\"layer-above\"><g class=\"imagelayer\"/><g class=\"shapelayer\"/></g><g class=\"infolayer\"><g class=\"legend\" pointer-events=\"all\" transform=\"translate(609.52,60)\"><rect class=\"bg\" shape-rendering=\"crispEdges\" width=\"78\" height=\"48\" x=\"0\" y=\"0\" style=\"stroke: rgb(68, 68, 68); stroke-opacity: 1; fill: rgb(255, 255, 255); fill-opacity: 1; stroke-width: 0px;\"/><g class=\"scrollbox\" transform=\"\" clip-path=\"url('#legendc61e48')\"><g class=\"groups\"><g class=\"traces\" transform=\"translate(0,14.5)\" style=\"opacity: 1;\"><text class=\"legendtext\" text-anchor=\"start\" x=\"40\" y=\"4.680000000000001\" style=\"font-family: 'Open Sans', verdana, arial, sans-serif; font-size: 12px; fill: rgb(42, 63, 95); fill-opacity: 1; white-space: pre;\">exact</text><g class=\"layers\" style=\"opacity: 1;\"><g class=\"legendfill\"/><g class=\"legendlines\"><path class=\"js-line\" d=\"M5,0h30\" style=\"fill: none; stroke: rgb(99, 110, 250); stroke-opacity: 1; stroke-width: 2px;\"/></g><g class=\"legendsymbols\"><g class=\"legendpoints\"/></g></g><rect class=\"legendtoggle\" x=\"0\" y=\"-9.5\" width=\"72.71875\" height=\"19\" style=\"fill: rgb(0, 0, 0); fill-opacity: 0;\"/></g><g class=\"traces\" transform=\"translate(0,33.5)\" style=\"opacity: 1;\"><text class=\"legendtext\" text-anchor=\"start\" x=\"40\" y=\"4.680000000000001\" style=\"font-family: 'Open Sans', verdana, arial, sans-serif; font-size: 12px; fill: rgb(42, 63, 95); fill-opacity: 1; white-space: pre;\">num</text><g class=\"layers\" style=\"opacity: 1;\"><g class=\"legendfill\"/><g class=\"legendlines\"/><g class=\"legendsymbols\"><g class=\"legendpoints\"><path class=\"scatterpts\" transform=\"translate(20,0)\" d=\"M3,0A3,3 0 1,1 0,-3A3,3 0 0,1 3,0Z\" style=\"opacity: 1; stroke-width: 0px; fill: rgb(239, 85, 59); fill-opacity: 1;\"/></g></g></g><rect class=\"legendtoggle\" x=\"0\" y=\"-9.5\" width=\"72.71875\" height=\"19\" style=\"fill: rgb(0, 0, 0); fill-opacity: 0;\"/></g></g></g><rect class=\"scrollbar\" rx=\"20\" ry=\"3\" width=\"0\" height=\"0\" x=\"0\" y=\"0\" style=\"fill: rgb(128, 139, 164); fill-opacity: 1;\"/></g><g class=\"g-gtitle\"/><g class=\"g-xtitle\"><text class=\"xtitle\" x=\"336\" y=\"487.8\" text-anchor=\"middle\" style=\"font-family: 'Open Sans', verdana, arial, sans-serif; font-size: 14px; fill: rgb(42, 63, 95); opacity: 1; font-weight: normal; white-space: pre;\">x</text></g><g class=\"g-ytitle\" transform=\"translate(1.6904296875,0)\"><text class=\"ytitle\" transform=\"rotate(-90,12.309375000000003,253.5)\" x=\"12.309375000000003\" y=\"253.5\" text-anchor=\"middle\" style=\"font-family: 'Open Sans', verdana, arial, sans-serif; font-size: 14px; fill: rgb(42, 63, 95); opacity: 1; font-weight: normal; white-space: pre;\">u(x,0.5)</text></g></g></svg>",
      "text/html": [
       "<div\n",
       "    class=\"webio-mountpoint\"\n",
       "    data-webio-mountpoint=\"451209330391151684\"\n",
       ">\n",
       "    <script>\n",
       "    (function(){\n",
       "    // Some integrations (namely, IJulia/Jupyter) use an alternate render pathway than\n",
       "    // just putting the html on the page. If WebIO isn't defined, then it's pretty likely\n",
       "    // that we're in one of those situations and the integration just isn't installed\n",
       "    // correctly.\n",
       "    if (typeof window.WebIO === \"undefined\") {\n",
       "        document\n",
       "            .querySelector('[data-webio-mountpoint=\"451209330391151684\"]')\n",
       "            .innerHTML = (\n",
       "                '<div style=\"padding: 1em; background-color: #f8d6da; border: 1px solid #f5c6cb; font-weight: bold;\">' +\n",
       "                '<p><strong>WebIO not detected.</strong></p>' +\n",
       "                '<p>Please read ' +\n",
       "                '<a href=\"https://juliagizmos.github.io/WebIO.jl/latest/troubleshooting/not-detected/\" target=\"_blank\">the troubleshooting guide</a> ' +\n",
       "                'for more information on how to resolve this issue.</p>' +\n",
       "                '<p><a href=\"https://juliagizmos.github.io/WebIO.jl/latest/troubleshooting/not-detected/\" target=\"_blank\">https://juliagizmos.github.io/WebIO.jl/latest/troubleshooting/not-detected/</a></p>' +\n",
       "                '</div>'\n",
       "            );\n",
       "        return;\n",
       "    }\n",
       "    WebIO.mount(\n",
       "        document.querySelector('[data-webio-mountpoint=\"451209330391151684\"]'),\n",
       "        {\"props\":{},\"nodeType\":\"Scope\",\"type\":\"node\",\"instanceArgs\":{\"imports\":{\"data\":[{\"name\":\"Plotly\",\"type\":\"js\",\"url\":\"\\/assetserver\\/5b0bcbbb362c204ec77e728ffa8c7da4be28ce8a-plotly.min.js\"},{\"name\":null,\"type\":\"js\",\"url\":\"\\/assetserver\\/6303ac4e25f5217851dbb12ecf3059151c237374-plotly_webio.bundle.js\"}],\"type\":\"async_block\"},\"id\":\"11359926523088974712\",\"handlers\":{\"_toImage\":[\"(function (options){return this.Plotly.toImage(this.plotElem,options).then((function (data){return WebIO.setval({\\\"name\\\":\\\"image\\\",\\\"scope\\\":\\\"11359926523088974712\\\",\\\"id\\\":\\\"5772498364552895415\\\",\\\"type\\\":\\\"observable\\\"},data)}))})\"],\"__get_gd_contents\":[\"(function (prop){prop==\\\"data\\\" ? (WebIO.setval({\\\"name\\\":\\\"__gd_contents\\\",\\\"scope\\\":\\\"11359926523088974712\\\",\\\"id\\\":\\\"17061482417405554803\\\",\\\"type\\\":\\\"observable\\\"},this.plotElem.data)) : undefined; return prop==\\\"layout\\\" ? (WebIO.setval({\\\"name\\\":\\\"__gd_contents\\\",\\\"scope\\\":\\\"11359926523088974712\\\",\\\"id\\\":\\\"17061482417405554803\\\",\\\"type\\\":\\\"observable\\\"},this.plotElem.layout)) : undefined})\"],\"_downloadImage\":[\"(function (options){return this.Plotly.downloadImage(this.plotElem,options)})\"],\"_commands\":[\"(function (args){var fn=args.shift(); var elem=this.plotElem; var Plotly=this.Plotly; args.unshift(elem); return Plotly[fn].apply(this,args)})\"]},\"systemjs_options\":null,\"mount_callbacks\":[\"function () {\\n    var handler = ((function (Plotly,PlotlyWebIO){PlotlyWebIO.init(WebIO); var gd=this.dom.querySelector(\\\"#plot-85000970-54ff-4b05-be40-f6ea66d0e442\\\"); this.plotElem=gd; this.Plotly=Plotly; (window.Blink!==undefined) ? (gd.style.width=\\\"100%\\\", gd.style.height=\\\"100vh\\\", gd.style.marginLeft=\\\"0%\\\", gd.style.marginTop=\\\"0vh\\\") : undefined; window.onresize=(function (){return Plotly.Plots.resize(gd)}); Plotly.newPlot(gd,[{\\\"showlegend\\\":true,\\\"mode\\\":\\\"lines\\\",\\\"y\\\":[0.0,9.073641962095579e-5,0.00018145839559282674,0.000272151486565704,0.0003628012557876646,0.00045339327340285,0.0005439131187484461,0.0006343463826501999,0.0007246786697161084,0.0008148956006279127,0.0009049828144300334,0.000994925970815584,0.0010847107524090945,0.0011743228670455905,0.0012637480500456524,0.0013529720664861033,0.0014419807134659608,0.0015307598223672893,0.0016192952611105945,0.0017075729364044055,0.0017955787959886783,0.0018832988308716701,0.0019707190775599256,0.002057825620281019,0.002144604593198705,0.002231042182620113,0.0023171246291946476,0.002402838230104236,0.002488169341244575,0.0025731043793970356,0.0026576298243908727,0.0027417322212553996,0.002825398182361784,0.0029086143895541224,0.002991367596269459,0.0030736446296464074,0.0031554323926220366,0.0032367178660166972,0.0033174881106064454,0.0033977302691827376,0.0034774315685990793,0.0035565793218042836,0.0036351609298620234,0.0037131638839563697,0.0037905757673829667,0.0038673842575255627,0.0039435771278175475,0.004019142249688212,0.004094067594493405,0.004168341235430276,0.004241951349435822,0.0043148862190689075,0.0043871342343754765,0.004458683894736653,0.0045295238106994404,0.004599642705789719,0.0046690294183072715,0.00473767290310252,0.004805562233334727,0.004872686602211352,0.004939035324708313,0.0050045978392708424,0.005069363709494712,0.005133322625787522,0.0051964644070098065,0.005258779002095692,0.005320256491652858,0.005380887089541519,0.0054406611444322165,0.005499569141342138,0.005557601703149734,0.005614749592087395,0.00567100371121194,0.005726355105852691,0.005780794965036899,0.0058343146228923,0.005886905560026563,0.005938559404883438,0.005989267935075352,0.006039023078692273,0.00608781691558662,0.006135641678634006,0.00618248975496963,0.0062283536872001135,0.006273226174590586,0.006317100074226833,0.006359968402152325,0.006401824334479938,0.006442661208478201,0.006482472523631883,0.006521251942676763,0.006558993292608408,0.006595690565664812,0.006631337920282724,0.006665929682027524,0.0066994603444964895,0.006731924570195325,0.006763317191387791,0.00679363321091832,0.00682286780300748,0.006851016314020147,0.006878074263206287,0.006904037343414212,0.0069289014217762,0.006952662540366382,0.006975316916830768,0.006996860944989331,0.007017291195410057,0.007036604415954839,0.007054797532297168,0.0070718676484115076,0.007087812047034295,0.007102628190096476,0.007116313719127526,0.007128866455630876,0.007140284401430692,0.007150565738989945,0.007159708831699736,0.007167712224139812,0.00717457464231025,0.007180294993834245,0.007184872368132008,0.007188306036565705,0.007190595452555449,0.007191740251666307,0.007191740251666307,0.007190595452555449,0.007188306036565705,0.007184872368132008,0.007180294993834245,0.00717457464231025,0.007167712224139812,0.007159708831699736,0.007150565738989945,0.007140284401430692,0.007128866455630877,0.007116313719127526,0.007102628190096476,0.007087812047034295,0.0070718676484115076,0.007054797532297169,0.007036604415954839,0.007017291195410058,0.006996860944989331,0.006975316916830768,0.006952662540366383,0.006928901421776201,0.006904037343414212,0.006878074263206288,0.006851016314020147,0.00682286780300748,0.00679363321091832,0.00676331719138779,0.006731924570195325,0.00669946034449649,0.006665929682027525,0.006631337920282725,0.006595690565664813,0.006558993292608408,0.0065212519426767635,0.006482472523631884,0.006442661208478201,0.006401824334479939,0.006359968402152323,0.006317100074226832,0.006273226174590587,0.006228353687200114,0.0061824897549696296,0.0061356416786340065,0.0060878169155866215,0.0060390230786922725,0.005989267935075352,0.005938559404883437,0.005886905560026565,0.0058343146228923,0.005780794965036901,0.005726355105852691,0.005671003711211941,0.005614749592087396,0.005557601703149736,0.005499569141342138,0.005440661144432217,0.00538088708954152,0.005320256491652857,0.005258779002095693,0.005196464407009806,0.005133322625787524,0.0050693637094947125,0.005004597839270844,0.004939035324708313,0.004872686602211352,0.004805562233334728,0.00473767290310252,0.004669029418307272,0.0045996427057897185,0.004529523810699441,0.0044586838947366534,0.004387134234375478,0.0043148862190689075,0.004241951349435823,0.004168341235430277,0.004094067594493405,0.004019142249688213,0.003943577127817549,0.003867384257525565,0.0037905757673829667,0.0037131638839563706,0.003635160929862023,0.003556579321804286,0.0034774315685990806,0.0033977302691827367,0.0033174881106064454,0.003236717866016699,0.003155432392622039,0.0030736446296464074,0.00299136759626946,0.002908614389554121,0.002825398182361787,0.0027417322212554005,0.0026576298243908745,0.002573104379397035,0.0024881693412445757,0.0024028382301042373,0.0023171246291946476,0.002231042182620114,0.0021446045931987063,0.002057825620281022,0.001970719077559926,0.0018832988308716716,0.0017955787959886781,0.0017075729364044061,0.001619295261110596,0.0015307598223672887,0.0014419807134659615,0.0013529720664861048,0.0012637480500456548,0.0011743228670455907,0.001084710752409096,0.0009949259708155829,0.0009049828144300368,0.000814895600627914,0.0007246786697161075,0.0006343463826501999,0.0005439131187484472,0.00045339327340285224,0.0003628012557876646,0.0002721514865657049,0.00018145839559282874,9.073641962095885e-5,8.807516931553887e-19],\\\"type\\\":\\\"scatter\\\",\\\"name\\\":\\\"exact\\\",\\\"x\\\":[0.0,0.004016064257028112,0.008032128514056224,0.012048192771084338,0.01606425702811245,0.020080321285140562,0.024096385542168676,0.028112449799196786,0.0321285140562249,0.03614457831325301,0.040160642570281124,0.04417670682730924,0.04819277108433735,0.05220883534136546,0.05622489959839357,0.060240963855421686,0.0642570281124498,0.06827309236947791,0.07228915662650602,0.07630522088353414,0.08032128514056225,0.08433734939759036,0.08835341365461848,0.09236947791164658,0.0963855421686747,0.10040160642570281,0.10441767068273092,0.10843373493975904,0.11244979919678715,0.11646586345381527,0.12048192771084337,0.12449799196787148,0.1285140562248996,0.13253012048192772,0.13654618473895583,0.14056224899598393,0.14457831325301204,0.14859437751004015,0.15261044176706828,0.1566265060240964,0.1606425702811245,0.1646586345381526,0.1686746987951807,0.17269076305220885,0.17670682730923695,0.18072289156626506,0.18473895582329317,0.18875502008032127,0.1927710843373494,0.19678714859437751,0.20080321285140562,0.20481927710843373,0.20883534136546184,0.21285140562248997,0.21686746987951808,0.22088353413654618,0.2248995983935743,0.2289156626506024,0.23293172690763053,0.23694779116465864,0.24096385542168675,0.24497991967871485,0.24899598393574296,0.25301204819277107,0.2570281124497992,0.26104417670682734,0.26506024096385544,0.26907630522088355,0.27309236947791166,0.27710843373493976,0.28112449799196787,0.285140562248996,0.2891566265060241,0.2931726907630522,0.2971887550200803,0.30120481927710846,0.30522088353413657,0.3092369477911647,0.3132530120481928,0.3172690763052209,0.321285140562249,0.3253012048192771,0.3293172690763052,0.3333333333333333,0.3373493975903614,0.3413654618473896,0.3453815261044177,0.3493975903614458,0.3534136546184739,0.357429718875502,0.3614457831325301,0.3654618473895582,0.36947791164658633,0.37349397590361444,0.37751004016064255,0.3815261044176707,0.3855421686746988,0.3895582329317269,0.39357429718875503,0.39759036144578314,0.40160642570281124,0.40562248995983935,0.40963855421686746,0.41365461847389556,0.41767068273092367,0.42168674698795183,0.42570281124497994,0.42971887550200805,0.43373493975903615,0.43775100401606426,0.44176706827309237,0.4457831325301205,0.4497991967871486,0.4538152610441767,0.4578313253012048,0.46184738955823296,0.46586345381526106,0.46987951807228917,0.4738955823293173,0.4779116465863454,0.4819277108433735,0.4859437751004016,0.4899598393574297,0.4939759036144578,0.4979919678714859,0.5020080321285141,0.5060240963855421,0.5100401606425703,0.5140562248995983,0.5180722891566265,0.5220883534136547,0.5261044176706827,0.5301204819277109,0.5341365461847389,0.5381526104417671,0.5421686746987951,0.5461847389558233,0.5502008032128514,0.5542168674698795,0.5582329317269076,0.5622489959839357,0.5662650602409639,0.570281124497992,0.5742971887550201,0.5783132530120482,0.5823293172690763,0.5863453815261044,0.5903614457831325,0.5943775100401606,0.5983935742971888,0.6024096385542169,0.606425702811245,0.6104417670682731,0.6144578313253012,0.6184738955823293,0.6224899598393574,0.6265060240963856,0.6305220883534136,0.6345381526104418,0.6385542168674698,0.642570281124498,0.6465863453815262,0.6506024096385542,0.6546184738955824,0.6586345381526104,0.6626506024096386,0.6666666666666666,0.6706827309236948,0.6746987951807228,0.678714859437751,0.6827309236947792,0.6867469879518072,0.6907630522088354,0.6947791164658634,0.6987951807228916,0.7028112449799196,0.7068273092369478,0.7108433734939759,0.714859437751004,0.7188755020080321,0.7228915662650602,0.7269076305220884,0.7309236947791165,0.7349397590361446,0.7389558232931727,0.7429718875502008,0.7469879518072289,0.751004016064257,0.7550200803212851,0.7590361445783133,0.7630522088353414,0.7670682730923695,0.7710843373493976,0.7751004016064257,0.7791164658634538,0.7831325301204819,0.7871485943775101,0.7911646586345381,0.7951807228915663,0.7991967871485943,0.8032128514056225,0.8072289156626506,0.8112449799196787,0.8152610441767069,0.8192771084337349,0.8232931726907631,0.8273092369477911,0.8313253012048193,0.8353413654618473,0.8393574297188755,0.8433734939759037,0.8473895582329317,0.8514056224899599,0.8554216867469879,0.8594377510040161,0.8634538152610441,0.8674698795180723,0.8714859437751004,0.8755020080321285,0.8795180722891566,0.8835341365461847,0.8875502008032129,0.891566265060241,0.8955823293172691,0.8995983935742972,0.9036144578313253,0.9076305220883534,0.9116465863453815,0.9156626506024096,0.9196787148594378,0.9236947791164659,0.927710843373494,0.9317269076305221,0.9357429718875502,0.9397590361445783,0.9437751004016064,0.9477911646586346,0.9518072289156626,0.9558232931726908,0.9598393574297188,0.963855421686747,0.9678714859437751,0.9718875502008032,0.9759036144578314,0.9799196787148594,0.9839357429718876,0.9879518072289156,0.9919678714859438,0.9959839357429718,1.0]},{\\\"showlegend\\\":true,\\\"mode\\\":\\\"markers\\\",\\\"y\\\":[0.0,0.0011227794814507954,0.002217912405776811,0.0032584329658433405,0.004218720092171793,0.005075128328701709,0.005806570062393739,0.006395034770248446,0.006826032498156051,0.00708895065165602,0.007177315313233857,0.00708895065165602,0.006826032498156052,0.006395034770248447,0.00580657006239374,0.00507512832870171,0.004218720092171794,0.003258432965843341,0.002217912405776811,0.0011227794814507956,0.0],\\\"type\\\":\\\"scatter\\\",\\\"name\\\":\\\"num\\\",\\\"x\\\":[0.0,0.05,0.1,0.15,0.2,0.25,0.3,0.35,0.4,0.45,0.5,0.55,0.6,0.65,0.7,0.75,0.8,0.85,0.9,0.95,1.0]}],{\\\"xaxis\\\":{\\\"title\\\":{\\\"text\\\":\\\"x\\\"}},\\\"template\\\":{\\\"layout\\\":{\\\"coloraxis\\\":{\\\"colorbar\\\":{\\\"ticks\\\":\\\"\\\",\\\"outlinewidth\\\":0}},\\\"xaxis\\\":{\\\"gridcolor\\\":\\\"white\\\",\\\"zerolinewidth\\\":2,\\\"title\\\":{\\\"standoff\\\":15},\\\"ticks\\\":\\\"\\\",\\\"zerolinecolor\\\":\\\"white\\\",\\\"automargin\\\":true,\\\"linecolor\\\":\\\"white\\\"},\\\"hovermode\\\":\\\"closest\\\",\\\"paper_bgcolor\\\":\\\"white\\\",\\\"geo\\\":{\\\"showlakes\\\":true,\\\"showland\\\":true,\\\"landcolor\\\":\\\"#E5ECF6\\\",\\\"bgcolor\\\":\\\"white\\\",\\\"subunitcolor\\\":\\\"white\\\",\\\"lakecolor\\\":\\\"white\\\"},\\\"colorscale\\\":{\\\"sequential\\\":[[0.0,\\\"#0d0887\\\"],[0.1111111111111111,\\\"#46039f\\\"],[0.2222222222222222,\\\"#7201a8\\\"],[0.3333333333333333,\\\"#9c179e\\\"],[0.4444444444444444,\\\"#bd3786\\\"],[0.5555555555555556,\\\"#d8576b\\\"],[0.6666666666666666,\\\"#ed7953\\\"],[0.7777777777777778,\\\"#fb9f3a\\\"],[0.8888888888888888,\\\"#fdca26\\\"],[1.0,\\\"#f0f921\\\"]],\\\"diverging\\\":[[0,\\\"#8e0152\\\"],[0.1,\\\"#c51b7d\\\"],[0.2,\\\"#de77ae\\\"],[0.3,\\\"#f1b6da\\\"],[0.4,\\\"#fde0ef\\\"],[0.5,\\\"#f7f7f7\\\"],[0.6,\\\"#e6f5d0\\\"],[0.7,\\\"#b8e186\\\"],[0.8,\\\"#7fbc41\\\"],[0.9,\\\"#4d9221\\\"],[1,\\\"#276419\\\"]],\\\"sequentialminus\\\":[[0.0,\\\"#0d0887\\\"],[0.1111111111111111,\\\"#46039f\\\"],[0.2222222222222222,\\\"#7201a8\\\"],[0.3333333333333333,\\\"#9c179e\\\"],[0.4444444444444444,\\\"#bd3786\\\"],[0.5555555555555556,\\\"#d8576b\\\"],[0.6666666666666666,\\\"#ed7953\\\"],[0.7777777777777778,\\\"#fb9f3a\\\"],[0.8888888888888888,\\\"#fdca26\\\"],[1.0,\\\"#f0f921\\\"]]},\\\"yaxis\\\":{\\\"gridcolor\\\":\\\"white\\\",\\\"zerolinewidth\\\":2,\\\"title\\\":{\\\"standoff\\\":15},\\\"ticks\\\":\\\"\\\",\\\"zerolinecolor\\\":\\\"white\\\",\\\"automargin\\\":true,\\\"linecolor\\\":\\\"white\\\"},\\\"shapedefaults\\\":{\\\"line\\\":{\\\"color\\\":\\\"#2a3f5f\\\"}},\\\"hoverlabel\\\":{\\\"align\\\":\\\"left\\\"},\\\"mapbox\\\":{\\\"style\\\":\\\"light\\\"},\\\"polar\\\":{\\\"angularaxis\\\":{\\\"gridcolor\\\":\\\"white\\\",\\\"ticks\\\":\\\"\\\",\\\"linecolor\\\":\\\"white\\\"},\\\"bgcolor\\\":\\\"#E5ECF6\\\",\\\"radialaxis\\\":{\\\"gridcolor\\\":\\\"white\\\",\\\"ticks\\\":\\\"\\\",\\\"linecolor\\\":\\\"white\\\"}},\\\"autotypenumbers\\\":\\\"strict\\\",\\\"font\\\":{\\\"color\\\":\\\"#2a3f5f\\\"},\\\"ternary\\\":{\\\"baxis\\\":{\\\"gridcolor\\\":\\\"white\\\",\\\"ticks\\\":\\\"\\\",\\\"linecolor\\\":\\\"white\\\"},\\\"bgcolor\\\":\\\"#E5ECF6\\\",\\\"caxis\\\":{\\\"gridcolor\\\":\\\"white\\\",\\\"ticks\\\":\\\"\\\",\\\"linecolor\\\":\\\"white\\\"},\\\"aaxis\\\":{\\\"gridcolor\\\":\\\"white\\\",\\\"ticks\\\":\\\"\\\",\\\"linecolor\\\":\\\"white\\\"}},\\\"annotationdefaults\\\":{\\\"arrowhead\\\":0,\\\"arrowwidth\\\":1,\\\"arrowcolor\\\":\\\"#2a3f5f\\\"},\\\"plot_bgcolor\\\":\\\"#E5ECF6\\\",\\\"title\\\":{\\\"x\\\":0.05},\\\"scene\\\":{\\\"xaxis\\\":{\\\"gridcolor\\\":\\\"white\\\",\\\"gridwidth\\\":2,\\\"backgroundcolor\\\":\\\"#E5ECF6\\\",\\\"ticks\\\":\\\"\\\",\\\"showbackground\\\":true,\\\"zerolinecolor\\\":\\\"white\\\",\\\"linecolor\\\":\\\"white\\\"},\\\"zaxis\\\":{\\\"gridcolor\\\":\\\"white\\\",\\\"gridwidth\\\":2,\\\"backgroundcolor\\\":\\\"#E5ECF6\\\",\\\"ticks\\\":\\\"\\\",\\\"showbackground\\\":true,\\\"zerolinecolor\\\":\\\"white\\\",\\\"linecolor\\\":\\\"white\\\"},\\\"yaxis\\\":{\\\"gridcolor\\\":\\\"white\\\",\\\"gridwidth\\\":2,\\\"backgroundcolor\\\":\\\"#E5ECF6\\\",\\\"ticks\\\":\\\"\\\",\\\"showbackground\\\":true,\\\"zerolinecolor\\\":\\\"white\\\",\\\"linecolor\\\":\\\"white\\\"}},\\\"colorway\\\":[\\\"#636efa\\\",\\\"#EF553B\\\",\\\"#00cc96\\\",\\\"#ab63fa\\\",\\\"#FFA15A\\\",\\\"#19d3f3\\\",\\\"#FF6692\\\",\\\"#B6E880\\\",\\\"#FF97FF\\\",\\\"#FECB52\\\"]},\\\"data\\\":{\\\"barpolar\\\":[{\\\"type\\\":\\\"barpolar\\\",\\\"marker\\\":{\\\"line\\\":{\\\"color\\\":\\\"#E5ECF6\\\",\\\"width\\\":0.5}}}],\\\"carpet\\\":[{\\\"aaxis\\\":{\\\"gridcolor\\\":\\\"white\\\",\\\"endlinecolor\\\":\\\"#2a3f5f\\\",\\\"minorgridcolor\\\":\\\"white\\\",\\\"startlinecolor\\\":\\\"#2a3f5f\\\",\\\"linecolor\\\":\\\"white\\\"},\\\"type\\\":\\\"carpet\\\",\\\"baxis\\\":{\\\"gridcolor\\\":\\\"white\\\",\\\"endlinecolor\\\":\\\"#2a3f5f\\\",\\\"minorgridcolor\\\":\\\"white\\\",\\\"startlinecolor\\\":\\\"#2a3f5f\\\",\\\"linecolor\\\":\\\"white\\\"}}],\\\"scatterpolar\\\":[{\\\"type\\\":\\\"scatterpolar\\\",\\\"marker\\\":{\\\"colorbar\\\":{\\\"ticks\\\":\\\"\\\",\\\"outlinewidth\\\":0}}}],\\\"parcoords\\\":[{\\\"line\\\":{\\\"colorbar\\\":{\\\"ticks\\\":\\\"\\\",\\\"outlinewidth\\\":0}},\\\"type\\\":\\\"parcoords\\\"}],\\\"scatter\\\":[{\\\"type\\\":\\\"scatter\\\",\\\"marker\\\":{\\\"colorbar\\\":{\\\"ticks\\\":\\\"\\\",\\\"outlinewidth\\\":0}}}],\\\"histogram2dcontour\\\":[{\\\"colorbar\\\":{\\\"ticks\\\":\\\"\\\",\\\"outlinewidth\\\":0},\\\"type\\\":\\\"histogram2dcontour\\\",\\\"colorscale\\\":[[0.0,\\\"#0d0887\\\"],[0.1111111111111111,\\\"#46039f\\\"],[0.2222222222222222,\\\"#7201a8\\\"],[0.3333333333333333,\\\"#9c179e\\\"],[0.4444444444444444,\\\"#bd3786\\\"],[0.5555555555555556,\\\"#d8576b\\\"],[0.6666666666666666,\\\"#ed7953\\\"],[0.7777777777777778,\\\"#fb9f3a\\\"],[0.8888888888888888,\\\"#fdca26\\\"],[1.0,\\\"#f0f921\\\"]]}],\\\"contour\\\":[{\\\"colorbar\\\":{\\\"ticks\\\":\\\"\\\",\\\"outlinewidth\\\":0},\\\"type\\\":\\\"contour\\\",\\\"colorscale\\\":[[0.0,\\\"#0d0887\\\"],[0.1111111111111111,\\\"#46039f\\\"],[0.2222222222222222,\\\"#7201a8\\\"],[0.3333333333333333,\\\"#9c179e\\\"],[0.4444444444444444,\\\"#bd3786\\\"],[0.5555555555555556,\\\"#d8576b\\\"],[0.6666666666666666,\\\"#ed7953\\\"],[0.7777777777777778,\\\"#fb9f3a\\\"],[0.8888888888888888,\\\"#fdca26\\\"],[1.0,\\\"#f0f921\\\"]]}],\\\"scattercarpet\\\":[{\\\"type\\\":\\\"scattercarpet\\\",\\\"marker\\\":{\\\"colorbar\\\":{\\\"ticks\\\":\\\"\\\",\\\"outlinewidth\\\":0}}}],\\\"mesh3d\\\":[{\\\"colorbar\\\":{\\\"ticks\\\":\\\"\\\",\\\"outlinewidth\\\":0},\\\"type\\\":\\\"mesh3d\\\"}],\\\"surface\\\":[{\\\"colorbar\\\":{\\\"ticks\\\":\\\"\\\",\\\"outlinewidth\\\":0},\\\"type\\\":\\\"surface\\\",\\\"colorscale\\\":[[0.0,\\\"#0d0887\\\"],[0.1111111111111111,\\\"#46039f\\\"],[0.2222222222222222,\\\"#7201a8\\\"],[0.3333333333333333,\\\"#9c179e\\\"],[0.4444444444444444,\\\"#bd3786\\\"],[0.5555555555555556,\\\"#d8576b\\\"],[0.6666666666666666,\\\"#ed7953\\\"],[0.7777777777777778,\\\"#fb9f3a\\\"],[0.8888888888888888,\\\"#fdca26\\\"],[1.0,\\\"#f0f921\\\"]]}],\\\"scattermapbox\\\":[{\\\"type\\\":\\\"scattermapbox\\\",\\\"marker\\\":{\\\"colorbar\\\":{\\\"ticks\\\":\\\"\\\",\\\"outlinewidth\\\":0}}}],\\\"scattergeo\\\":[{\\\"type\\\":\\\"scattergeo\\\",\\\"marker\\\":{\\\"colorbar\\\":{\\\"ticks\\\":\\\"\\\",\\\"outlinewidth\\\":0}}}],\\\"histogram\\\":[{\\\"type\\\":\\\"histogram\\\",\\\"marker\\\":{\\\"colorbar\\\":{\\\"ticks\\\":\\\"\\\",\\\"outlinewidth\\\":0}}}],\\\"pie\\\":[{\\\"type\\\":\\\"pie\\\",\\\"automargin\\\":true}],\\\"choropleth\\\":[{\\\"colorbar\\\":{\\\"ticks\\\":\\\"\\\",\\\"outlinewidth\\\":0},\\\"type\\\":\\\"choropleth\\\"}],\\\"heatmapgl\\\":[{\\\"colorbar\\\":{\\\"ticks\\\":\\\"\\\",\\\"outlinewidth\\\":0},\\\"type\\\":\\\"heatmapgl\\\",\\\"colorscale\\\":[[0.0,\\\"#0d0887\\\"],[0.1111111111111111,\\\"#46039f\\\"],[0.2222222222222222,\\\"#7201a8\\\"],[0.3333333333333333,\\\"#9c179e\\\"],[0.4444444444444444,\\\"#bd3786\\\"],[0.5555555555555556,\\\"#d8576b\\\"],[0.6666666666666666,\\\"#ed7953\\\"],[0.7777777777777778,\\\"#fb9f3a\\\"],[0.8888888888888888,\\\"#fdca26\\\"],[1.0,\\\"#f0f921\\\"]]}],\\\"bar\\\":[{\\\"type\\\":\\\"bar\\\",\\\"error_y\\\":{\\\"color\\\":\\\"#2a3f5f\\\"},\\\"error_x\\\":{\\\"color\\\":\\\"#2a3f5f\\\"},\\\"marker\\\":{\\\"line\\\":{\\\"color\\\":\\\"#E5ECF6\\\",\\\"width\\\":0.5}}}],\\\"heatmap\\\":[{\\\"colorbar\\\":{\\\"ticks\\\":\\\"\\\",\\\"outlinewidth\\\":0},\\\"type\\\":\\\"heatmap\\\",\\\"colorscale\\\":[[0.0,\\\"#0d0887\\\"],[0.1111111111111111,\\\"#46039f\\\"],[0.2222222222222222,\\\"#7201a8\\\"],[0.3333333333333333,\\\"#9c179e\\\"],[0.4444444444444444,\\\"#bd3786\\\"],[0.5555555555555556,\\\"#d8576b\\\"],[0.6666666666666666,\\\"#ed7953\\\"],[0.7777777777777778,\\\"#fb9f3a\\\"],[0.8888888888888888,\\\"#fdca26\\\"],[1.0,\\\"#f0f921\\\"]]}],\\\"contourcarpet\\\":[{\\\"colorbar\\\":{\\\"ticks\\\":\\\"\\\",\\\"outlinewidth\\\":0},\\\"type\\\":\\\"contourcarpet\\\"}],\\\"table\\\":[{\\\"type\\\":\\\"table\\\",\\\"header\\\":{\\\"line\\\":{\\\"color\\\":\\\"white\\\"},\\\"fill\\\":{\\\"color\\\":\\\"#C8D4E3\\\"}},\\\"cells\\\":{\\\"line\\\":{\\\"color\\\":\\\"white\\\"},\\\"fill\\\":{\\\"color\\\":\\\"#EBF0F8\\\"}}}],\\\"scatter3d\\\":[{\\\"line\\\":{\\\"colorbar\\\":{\\\"ticks\\\":\\\"\\\",\\\"outlinewidth\\\":0}},\\\"type\\\":\\\"scatter3d\\\",\\\"marker\\\":{\\\"colorbar\\\":{\\\"ticks\\\":\\\"\\\",\\\"outlinewidth\\\":0}}}],\\\"scattergl\\\":[{\\\"type\\\":\\\"scattergl\\\",\\\"marker\\\":{\\\"colorbar\\\":{\\\"ticks\\\":\\\"\\\",\\\"outlinewidth\\\":0}}}],\\\"histogram2d\\\":[{\\\"colorbar\\\":{\\\"ticks\\\":\\\"\\\",\\\"outlinewidth\\\":0},\\\"type\\\":\\\"histogram2d\\\",\\\"colorscale\\\":[[0.0,\\\"#0d0887\\\"],[0.1111111111111111,\\\"#46039f\\\"],[0.2222222222222222,\\\"#7201a8\\\"],[0.3333333333333333,\\\"#9c179e\\\"],[0.4444444444444444,\\\"#bd3786\\\"],[0.5555555555555556,\\\"#d8576b\\\"],[0.6666666666666666,\\\"#ed7953\\\"],[0.7777777777777778,\\\"#fb9f3a\\\"],[0.8888888888888888,\\\"#fdca26\\\"],[1.0,\\\"#f0f921\\\"]]}],\\\"scatterternary\\\":[{\\\"type\\\":\\\"scatterternary\\\",\\\"marker\\\":{\\\"colorbar\\\":{\\\"ticks\\\":\\\"\\\",\\\"outlinewidth\\\":0}}}],\\\"scatterpolargl\\\":[{\\\"type\\\":\\\"scatterpolargl\\\",\\\"marker\\\":{\\\"colorbar\\\":{\\\"ticks\\\":\\\"\\\",\\\"outlinewidth\\\":0}}}]}},\\\"margin\\\":{\\\"l\\\":50,\\\"b\\\":50,\\\"r\\\":50,\\\"t\\\":60},\\\"yaxis\\\":{\\\"title\\\":{\\\"text\\\":\\\"u(x,0.5)\\\"}}},{\\\"showLink\\\":false,\\\"editable\\\":false,\\\"responsive\\\":true,\\\"staticPlot\\\":false,\\\"scrollZoom\\\":true}); gd.on(\\\"plotly_hover\\\",(function (data){var filtered_data=WebIO.PlotlyCommands.filterEventData(gd,data,\\\"hover\\\"); return !(filtered_data.isnil) ? (WebIO.setval({\\\"name\\\":\\\"hover\\\",\\\"scope\\\":\\\"11359926523088974712\\\",\\\"id\\\":\\\"492637192584637210\\\",\\\"type\\\":\\\"observable\\\"},filtered_data.out)) : undefined})); gd.on(\\\"plotly_unhover\\\",(function (){return WebIO.setval({\\\"name\\\":\\\"hover\\\",\\\"scope\\\":\\\"11359926523088974712\\\",\\\"id\\\":\\\"492637192584637210\\\",\\\"type\\\":\\\"observable\\\"},{})})); gd.on(\\\"plotly_selected\\\",(function (data){var filtered_data=WebIO.PlotlyCommands.filterEventData(gd,data,\\\"selected\\\"); return !(filtered_data.isnil) ? (WebIO.setval({\\\"name\\\":\\\"selected\\\",\\\"scope\\\":\\\"11359926523088974712\\\",\\\"id\\\":\\\"9724264429316594743\\\",\\\"type\\\":\\\"observable\\\"},filtered_data.out)) : undefined})); gd.on(\\\"plotly_deselect\\\",(function (){return WebIO.setval({\\\"name\\\":\\\"selected\\\",\\\"scope\\\":\\\"11359926523088974712\\\",\\\"id\\\":\\\"9724264429316594743\\\",\\\"type\\\":\\\"observable\\\"},{})})); gd.on(\\\"plotly_relayout\\\",(function (data){var filtered_data=WebIO.PlotlyCommands.filterEventData(gd,data,\\\"relayout\\\"); return !(filtered_data.isnil) ? (WebIO.setval({\\\"name\\\":\\\"relayout\\\",\\\"scope\\\":\\\"11359926523088974712\\\",\\\"id\\\":\\\"15998327521938884478\\\",\\\"type\\\":\\\"observable\\\"},filtered_data.out)) : undefined})); return gd.on(\\\"plotly_click\\\",(function (data){var filtered_data=WebIO.PlotlyCommands.filterEventData(gd,data,\\\"click\\\"); return !(filtered_data.isnil) ? (WebIO.setval({\\\"name\\\":\\\"click\\\",\\\"scope\\\":\\\"11359926523088974712\\\",\\\"id\\\":\\\"8165203502144688009\\\",\\\"type\\\":\\\"observable\\\"},filtered_data.out)) : undefined}))}));\\n    (WebIO.importBlock({\\\"data\\\":[{\\\"name\\\":\\\"Plotly\\\",\\\"type\\\":\\\"js\\\",\\\"url\\\":\\\"\\/assetserver\\/5b0bcbbb362c204ec77e728ffa8c7da4be28ce8a-plotly.min.js\\\"},{\\\"name\\\":null,\\\"type\\\":\\\"js\\\",\\\"url\\\":\\\"\\/assetserver\\/6303ac4e25f5217851dbb12ecf3059151c237374-plotly_webio.bundle.js\\\"}],\\\"type\\\":\\\"async_block\\\"})).then((imports) => handler.apply(this, imports));\\n}\\n\"],\"observables\":{\"_toImage\":{\"sync\":false,\"id\":\"14373927540730347080\",\"value\":{}},\"hover\":{\"sync\":false,\"id\":\"492637192584637210\",\"value\":{}},\"selected\":{\"sync\":false,\"id\":\"9724264429316594743\",\"value\":{}},\"__gd_contents\":{\"sync\":false,\"id\":\"17061482417405554803\",\"value\":{}},\"click\":{\"sync\":false,\"id\":\"8165203502144688009\",\"value\":{}},\"image\":{\"sync\":true,\"id\":\"5772498364552895415\",\"value\":\"\"},\"__get_gd_contents\":{\"sync\":false,\"id\":\"8982439754222726262\",\"value\":\"\"},\"_downloadImage\":{\"sync\":false,\"id\":\"4463119142137573001\",\"value\":{}},\"relayout\":{\"sync\":false,\"id\":\"15998327521938884478\",\"value\":{}},\"_commands\":{\"sync\":false,\"id\":\"5148654231374411813\",\"value\":[]}}},\"children\":[{\"props\":{\"id\":\"plot-85000970-54ff-4b05-be40-f6ea66d0e442\"},\"nodeType\":\"DOM\",\"type\":\"node\",\"instanceArgs\":{\"namespace\":\"html\",\"tag\":\"div\"},\"children\":[]}]},\n",
       "        window,\n",
       "    );\n",
       "    })()\n",
       "    </script>\n",
       "</div>\n"
      ],
      "text/plain": [
       "data: [\n",
       "  \"scatter with fields mode, name, showlegend, type, x, and y\",\n",
       "  \"scatter with fields mode, name, showlegend, type, x, and y\"\n",
       "]\n",
       "\n",
       "layout: \"layout with fields margin, template, xaxis, and yaxis\"\n",
       "\n"
      ]
     },
     "metadata": {},
     "output_type": "display_data"
    }
   ],
   "source": [
    "using PlotlyJS\n",
    "using LinearAlgebra\n",
    "\n",
    "# Set problem parameters/functions\n",
    "kappa = 1   # diffusion constant\n",
    "L = 1.0         # length of spatial domain\n",
    "T = 0.5         # total time to solve for\n",
    "\n",
    "function u_I(x)\n",
    "    # initial temperature distribution\n",
    "    y = sin.(pi*x/L)\n",
    "    return y\n",
    "end\n",
    "function u_exact(x,t)\n",
    "    # the exact solution\n",
    "    y = exp.(-kappa*(pi^2/L^2)*t)*sin.(pi*x/L)\n",
    "    return y\n",
    "end\n",
    "# Set numerical parameters\n",
    "mx = 20     # number of gridpoints in space\n",
    "mt = 1000   # number of gridpoints in time\n",
    "\n",
    "# Set up the numerical environment variables\n",
    "x = LinRange(0, L, mx+1)     # mesh points in space\n",
    "t = LinRange(0, T, mt+1)     # mesh points in time\n",
    "deltax = x[2] - x[1]            # gridspacing in x\n",
    "deltat = t[2] - t[1]            # gridspacing in t\n",
    "lmbda = kappa*deltat/(deltax^2)    # mesh fourier number\n",
    "println(\"deltax = \", deltax)\n",
    "println(\"deltat = \", deltat)\n",
    "println(\"lambda = \", lmbda)\n",
    "\n",
    "# Set up the solution variables\n",
    "u_j = zeros(size(x))        # u at current time step\n",
    "u_jp1 = zeros(size(x))      # u at next time step\n",
    "\n",
    "# Set initial condition\n",
    "for i in 1:mx+1\n",
    "    u_j[i] = u_I(x[i])\n",
    "end\n",
    "\n",
    "# Solve the PDE: loop over all time points\n",
    "for j in 1:mt\n",
    "    # Forward Euler timestep at inner mesh points\n",
    "    # PDE discretised at position x[i], time t[j]\n",
    "    for i in 2:mx\n",
    "        u_jp1[i] = u_j[i] + lmbda*(u_j[i-1] - 2*u_j[i] + u_j[i+1])\n",
    "    end\n",
    "    # Boundary conditions\n",
    "    u_jp1[1] = 0; u_jp1[mx+1] = 0\n",
    "        \n",
    "    # Save u_j at time t[j+1]\n",
    "    u_j[:] = u_jp1[:]\n",
    "end\n",
    "\n",
    "# Plot the final result and exact solution\n",
    "xx = LinRange(0,L,250)\n",
    "\n",
    "# Create traces\n",
    "exact = scatter(x=xx, y=u_exact(xx,T), mode=\"lines\", name=\"exact\", showlegend=true)\n",
    "num = scatter(x=x, y=u_j, mode=\"markers\", name=\"num\", showlegend=true)\n",
    "\n",
    "layout = Layout(\n",
    "    xaxis_title = \"x\",\n",
    "    yaxis_title = \"u(x,0.5)\"\n",
    "    )\n",
    "\n",
    "plot([exact, num], layout)"
   ]
  },
  {
   "cell_type": "code",
   "execution_count": 85,
   "metadata": {},
   "outputs": [
    {
     "data": {
      "text/plain": [
       "forward_euler (generic function with 1 method)"
      ]
     },
     "metadata": {},
     "output_type": "display_data"
    }
   ],
   "source": [
    "function forward_euler(u_I, kappa, L, T, mx, mt)\n",
    "\n",
    "    using LinearAlgebra\n",
    "\n",
    "    # Set up the numerical environment variables\n",
    "    x = LinRange(0, L, mx+1)     # mesh points in space\n",
    "    t = LinRange(0, T, mt+1)     # mesh points in time\n",
    "    deltax = x[2] - x[1]            # gridspacing in x\n",
    "    deltat = t[2] - t[1]            # gridspacing in t\n",
    "    lmbda = kappa*deltat/(deltax^2)    # mesh fourier number\n",
    "    println(\"deltax = \", deltax)\n",
    "    println(\"deltat = \", deltat)\n",
    "    println(\"lambda = \", lmbda)\n",
    "\n",
    "    # Create A_FE matrix\n",
    "    A_FE = Tridiagonal(ones(mx-1)*(lmbda), ones(mx)*(1 - 2*lmbda), ones(mx-1)*(lmbda))\n",
    "\n",
    "    # Set up the solution variables\n",
    "    u_j = zeros(size(x))        # u at current time step\n",
    "    u_jp1 = zeros(size(x))      # u at next time step\n",
    "\n",
    "    # Set initial condition\n",
    "    for i in 1:mx+1\n",
    "        u_j[i] = u_I(x[i])\n",
    "    end\n",
    "\n",
    "    # Solve the PDE: loop over all time points\n",
    "    for j in 1:mt\n",
    "        # Forward Euler timestep at inner mesh points\n",
    "        # PDE discretised at position x[i], time t[j]\n",
    "        for i in 2:mx\n",
    "            u_jp1[i] = u_j[i] + lmbda*(u_j[i-1] - 2*u_j[i] + u_j[i+1])\n",
    "        end\n",
    "\n",
    "        u_jp1[2:end] = A_FE*(u_j[2:end])\n",
    "\n",
    "        # Boundary conditions\n",
    "        u_jp1[1] = 0\n",
    "        u_jp1[mx+1] = 0\n",
    "            \n",
    "        # Save u_j at time t[j+1]\n",
    "        u_j[:] = u_jp1[:]\n",
    "    end\n",
    "\n",
    "    # println(\"x: \", x)\n",
    "    # println(\"u_j: \", u_j) \n",
    "    return x, u_j\n",
    "end"
   ]
  },
  {
   "cell_type": "code",
   "execution_count": 87,
   "metadata": {},
   "outputs": [
    {
     "name": "stdout",
     "output_type": "stream",
     "text": [
      "deltax = 0.1\n",
      "deltat = 0.0005\n",
      "lambda = 0.04999999999999999\n"
     ]
    },
    {
     "data": {
      "application/vnd.plotly.v1+json": {
       "config": {
        "editable": false,
        "responsive": true,
        "scrollZoom": true,
        "showLink": false,
        "staticPlot": false
       },
       "data": [
        {
         "mode": "lines",
         "name": "exact",
         "showlegend": true,
         "type": "scatter",
         "x": [
          0,
          0.004016064257028112,
          0.008032128514056224,
          0.012048192771084338,
          0.01606425702811245,
          0.020080321285140562,
          0.024096385542168676,
          0.028112449799196786,
          0.0321285140562249,
          0.03614457831325301,
          0.040160642570281124,
          0.04417670682730924,
          0.04819277108433735,
          0.05220883534136546,
          0.05622489959839357,
          0.060240963855421686,
          0.0642570281124498,
          0.06827309236947791,
          0.07228915662650602,
          0.07630522088353414,
          0.08032128514056225,
          0.08433734939759036,
          0.08835341365461848,
          0.09236947791164658,
          0.0963855421686747,
          0.10040160642570281,
          0.10441767068273092,
          0.10843373493975904,
          0.11244979919678715,
          0.11646586345381527,
          0.12048192771084337,
          0.12449799196787148,
          0.1285140562248996,
          0.13253012048192772,
          0.13654618473895583,
          0.14056224899598393,
          0.14457831325301204,
          0.14859437751004015,
          0.15261044176706828,
          0.1566265060240964,
          0.1606425702811245,
          0.1646586345381526,
          0.1686746987951807,
          0.17269076305220885,
          0.17670682730923695,
          0.18072289156626506,
          0.18473895582329317,
          0.18875502008032127,
          0.1927710843373494,
          0.19678714859437751,
          0.20080321285140562,
          0.20481927710843373,
          0.20883534136546184,
          0.21285140562248997,
          0.21686746987951808,
          0.22088353413654618,
          0.2248995983935743,
          0.2289156626506024,
          0.23293172690763053,
          0.23694779116465864,
          0.24096385542168675,
          0.24497991967871485,
          0.24899598393574296,
          0.25301204819277107,
          0.2570281124497992,
          0.26104417670682734,
          0.26506024096385544,
          0.26907630522088355,
          0.27309236947791166,
          0.27710843373493976,
          0.28112449799196787,
          0.285140562248996,
          0.2891566265060241,
          0.2931726907630522,
          0.2971887550200803,
          0.30120481927710846,
          0.30522088353413657,
          0.3092369477911647,
          0.3132530120481928,
          0.3172690763052209,
          0.321285140562249,
          0.3253012048192771,
          0.3293172690763052,
          0.3333333333333333,
          0.3373493975903614,
          0.3413654618473896,
          0.3453815261044177,
          0.3493975903614458,
          0.3534136546184739,
          0.357429718875502,
          0.3614457831325301,
          0.3654618473895582,
          0.36947791164658633,
          0.37349397590361444,
          0.37751004016064255,
          0.3815261044176707,
          0.3855421686746988,
          0.3895582329317269,
          0.39357429718875503,
          0.39759036144578314,
          0.40160642570281124,
          0.40562248995983935,
          0.40963855421686746,
          0.41365461847389556,
          0.41767068273092367,
          0.42168674698795183,
          0.42570281124497994,
          0.42971887550200805,
          0.43373493975903615,
          0.43775100401606426,
          0.44176706827309237,
          0.4457831325301205,
          0.4497991967871486,
          0.4538152610441767,
          0.4578313253012048,
          0.46184738955823296,
          0.46586345381526106,
          0.46987951807228917,
          0.4738955823293173,
          0.4779116465863454,
          0.4819277108433735,
          0.4859437751004016,
          0.4899598393574297,
          0.4939759036144578,
          0.4979919678714859,
          0.5020080321285141,
          0.5060240963855421,
          0.5100401606425703,
          0.5140562248995983,
          0.5180722891566265,
          0.5220883534136547,
          0.5261044176706827,
          0.5301204819277109,
          0.5341365461847389,
          0.5381526104417671,
          0.5421686746987951,
          0.5461847389558233,
          0.5502008032128514,
          0.5542168674698795,
          0.5582329317269076,
          0.5622489959839357,
          0.5662650602409639,
          0.570281124497992,
          0.5742971887550201,
          0.5783132530120482,
          0.5823293172690763,
          0.5863453815261044,
          0.5903614457831325,
          0.5943775100401606,
          0.5983935742971888,
          0.6024096385542169,
          0.606425702811245,
          0.6104417670682731,
          0.6144578313253012,
          0.6184738955823293,
          0.6224899598393574,
          0.6265060240963856,
          0.6305220883534136,
          0.6345381526104418,
          0.6385542168674698,
          0.642570281124498,
          0.6465863453815262,
          0.6506024096385542,
          0.6546184738955824,
          0.6586345381526104,
          0.6626506024096386,
          0.6666666666666666,
          0.6706827309236948,
          0.6746987951807228,
          0.678714859437751,
          0.6827309236947792,
          0.6867469879518072,
          0.6907630522088354,
          0.6947791164658634,
          0.6987951807228916,
          0.7028112449799196,
          0.7068273092369478,
          0.7108433734939759,
          0.714859437751004,
          0.7188755020080321,
          0.7228915662650602,
          0.7269076305220884,
          0.7309236947791165,
          0.7349397590361446,
          0.7389558232931727,
          0.7429718875502008,
          0.7469879518072289,
          0.751004016064257,
          0.7550200803212851,
          0.7590361445783133,
          0.7630522088353414,
          0.7670682730923695,
          0.7710843373493976,
          0.7751004016064257,
          0.7791164658634538,
          0.7831325301204819,
          0.7871485943775101,
          0.7911646586345381,
          0.7951807228915663,
          0.7991967871485943,
          0.8032128514056225,
          0.8072289156626506,
          0.8112449799196787,
          0.8152610441767069,
          0.8192771084337349,
          0.8232931726907631,
          0.8273092369477911,
          0.8313253012048193,
          0.8353413654618473,
          0.8393574297188755,
          0.8433734939759037,
          0.8473895582329317,
          0.8514056224899599,
          0.8554216867469879,
          0.8594377510040161,
          0.8634538152610441,
          0.8674698795180723,
          0.8714859437751004,
          0.8755020080321285,
          0.8795180722891566,
          0.8835341365461847,
          0.8875502008032129,
          0.891566265060241,
          0.8955823293172691,
          0.8995983935742972,
          0.9036144578313253,
          0.9076305220883534,
          0.9116465863453815,
          0.9156626506024096,
          0.9196787148594378,
          0.9236947791164659,
          0.927710843373494,
          0.9317269076305221,
          0.9357429718875502,
          0.9397590361445783,
          0.9437751004016064,
          0.9477911646586346,
          0.9518072289156626,
          0.9558232931726908,
          0.9598393574297188,
          0.963855421686747,
          0.9678714859437751,
          0.9718875502008032,
          0.9759036144578314,
          0.9799196787148594,
          0.9839357429718876,
          0.9879518072289156,
          0.9919678714859438,
          0.9959839357429718,
          1
         ],
         "y": [
          0,
          0.00009073641962095579,
          0.00018145839559282674,
          0.000272151486565704,
          0.0003628012557876646,
          0.00045339327340285,
          0.0005439131187484461,
          0.0006343463826501999,
          0.0007246786697161084,
          0.0008148956006279127,
          0.0009049828144300334,
          0.000994925970815584,
          0.0010847107524090945,
          0.0011743228670455905,
          0.0012637480500456524,
          0.0013529720664861033,
          0.0014419807134659608,
          0.0015307598223672893,
          0.0016192952611105945,
          0.0017075729364044055,
          0.0017955787959886783,
          0.0018832988308716701,
          0.0019707190775599256,
          0.002057825620281019,
          0.002144604593198705,
          0.002231042182620113,
          0.0023171246291946476,
          0.002402838230104236,
          0.002488169341244575,
          0.0025731043793970356,
          0.0026576298243908727,
          0.0027417322212553996,
          0.002825398182361784,
          0.0029086143895541224,
          0.002991367596269459,
          0.0030736446296464074,
          0.0031554323926220366,
          0.0032367178660166972,
          0.0033174881106064454,
          0.0033977302691827376,
          0.0034774315685990793,
          0.0035565793218042836,
          0.0036351609298620234,
          0.0037131638839563697,
          0.0037905757673829667,
          0.0038673842575255627,
          0.0039435771278175475,
          0.004019142249688212,
          0.004094067594493405,
          0.004168341235430276,
          0.004241951349435822,
          0.0043148862190689075,
          0.0043871342343754765,
          0.004458683894736653,
          0.0045295238106994404,
          0.004599642705789719,
          0.0046690294183072715,
          0.00473767290310252,
          0.004805562233334727,
          0.004872686602211352,
          0.004939035324708313,
          0.0050045978392708424,
          0.005069363709494712,
          0.005133322625787522,
          0.0051964644070098065,
          0.005258779002095692,
          0.005320256491652858,
          0.005380887089541519,
          0.0054406611444322165,
          0.005499569141342138,
          0.005557601703149734,
          0.005614749592087395,
          0.00567100371121194,
          0.005726355105852691,
          0.005780794965036899,
          0.0058343146228923,
          0.005886905560026563,
          0.005938559404883438,
          0.005989267935075352,
          0.006039023078692273,
          0.00608781691558662,
          0.006135641678634006,
          0.00618248975496963,
          0.0062283536872001135,
          0.006273226174590586,
          0.006317100074226833,
          0.006359968402152325,
          0.006401824334479938,
          0.006442661208478201,
          0.006482472523631883,
          0.006521251942676763,
          0.006558993292608408,
          0.006595690565664812,
          0.006631337920282724,
          0.006665929682027524,
          0.0066994603444964895,
          0.006731924570195325,
          0.006763317191387791,
          0.00679363321091832,
          0.00682286780300748,
          0.006851016314020147,
          0.006878074263206287,
          0.006904037343414212,
          0.0069289014217762,
          0.006952662540366382,
          0.006975316916830768,
          0.006996860944989331,
          0.007017291195410057,
          0.007036604415954839,
          0.007054797532297168,
          0.0070718676484115076,
          0.007087812047034295,
          0.007102628190096476,
          0.007116313719127526,
          0.007128866455630876,
          0.007140284401430692,
          0.007150565738989945,
          0.007159708831699736,
          0.007167712224139812,
          0.00717457464231025,
          0.007180294993834245,
          0.007184872368132008,
          0.007188306036565705,
          0.007190595452555449,
          0.007191740251666307,
          0.007191740251666307,
          0.007190595452555449,
          0.007188306036565705,
          0.007184872368132008,
          0.007180294993834245,
          0.00717457464231025,
          0.007167712224139812,
          0.007159708831699736,
          0.007150565738989945,
          0.007140284401430692,
          0.007128866455630877,
          0.007116313719127526,
          0.007102628190096476,
          0.007087812047034295,
          0.0070718676484115076,
          0.007054797532297169,
          0.007036604415954839,
          0.007017291195410058,
          0.006996860944989331,
          0.006975316916830768,
          0.006952662540366383,
          0.006928901421776201,
          0.006904037343414212,
          0.006878074263206288,
          0.006851016314020147,
          0.00682286780300748,
          0.00679363321091832,
          0.00676331719138779,
          0.006731924570195325,
          0.00669946034449649,
          0.006665929682027525,
          0.006631337920282725,
          0.006595690565664813,
          0.006558993292608408,
          0.0065212519426767635,
          0.006482472523631884,
          0.006442661208478201,
          0.006401824334479939,
          0.006359968402152323,
          0.006317100074226832,
          0.006273226174590587,
          0.006228353687200114,
          0.0061824897549696296,
          0.0061356416786340065,
          0.0060878169155866215,
          0.0060390230786922725,
          0.005989267935075352,
          0.005938559404883437,
          0.005886905560026565,
          0.0058343146228923,
          0.005780794965036901,
          0.005726355105852691,
          0.005671003711211941,
          0.005614749592087396,
          0.005557601703149736,
          0.005499569141342138,
          0.005440661144432217,
          0.00538088708954152,
          0.005320256491652857,
          0.005258779002095693,
          0.005196464407009806,
          0.005133322625787524,
          0.0050693637094947125,
          0.005004597839270844,
          0.004939035324708313,
          0.004872686602211352,
          0.004805562233334728,
          0.00473767290310252,
          0.004669029418307272,
          0.0045996427057897185,
          0.004529523810699441,
          0.0044586838947366534,
          0.004387134234375478,
          0.0043148862190689075,
          0.004241951349435823,
          0.004168341235430277,
          0.004094067594493405,
          0.004019142249688213,
          0.003943577127817549,
          0.003867384257525565,
          0.0037905757673829667,
          0.0037131638839563706,
          0.003635160929862023,
          0.003556579321804286,
          0.0034774315685990806,
          0.0033977302691827367,
          0.0033174881106064454,
          0.003236717866016699,
          0.003155432392622039,
          0.0030736446296464074,
          0.00299136759626946,
          0.002908614389554121,
          0.002825398182361787,
          0.0027417322212554005,
          0.0026576298243908745,
          0.002573104379397035,
          0.0024881693412445757,
          0.0024028382301042373,
          0.0023171246291946476,
          0.002231042182620114,
          0.0021446045931987063,
          0.002057825620281022,
          0.001970719077559926,
          0.0018832988308716716,
          0.0017955787959886781,
          0.0017075729364044061,
          0.001619295261110596,
          0.0015307598223672887,
          0.0014419807134659615,
          0.0013529720664861048,
          0.0012637480500456548,
          0.0011743228670455907,
          0.001084710752409096,
          0.0009949259708155829,
          0.0009049828144300368,
          0.000814895600627914,
          0.0007246786697161075,
          0.0006343463826501999,
          0.0005439131187484472,
          0.00045339327340285224,
          0.0003628012557876646,
          0.0002721514865657049,
          0.00018145839559282874,
          0.00009073641962095885,
          8.807516931553887e-19
         ]
        },
        {
         "mode": "markers",
         "name": "num",
         "showlegend": true,
         "type": "scatter",
         "x": [
          0,
          0.1,
          0.2,
          0.3,
          0.4,
          0.5,
          0.6,
          0.7,
          0.8,
          0.9,
          1
         ],
         "y": [
          0,
          0.0022865207865784528,
          0.004349220987439513,
          0.005986189135245528,
          0.0070371873822615075,
          0.007399336697334155,
          0.007037187382261507,
          0.005986189135245528,
          0.004349220987439511,
          0.0022865207865784506,
          0
         ]
        }
       ],
       "frames": [],
       "layout": {
        "margin": {
         "b": 50,
         "l": 50,
         "r": 50,
         "t": 60
        },
        "template": {
         "data": {
          "bar": [
           {
            "error_x": {
             "color": "#2a3f5f"
            },
            "error_y": {
             "color": "#2a3f5f"
            },
            "marker": {
             "line": {
              "color": "#E5ECF6",
              "width": 0.5
             }
            },
            "type": "bar"
           }
          ],
          "barpolar": [
           {
            "marker": {
             "line": {
              "color": "#E5ECF6",
              "width": 0.5
             }
            },
            "type": "barpolar"
           }
          ],
          "carpet": [
           {
            "aaxis": {
             "endlinecolor": "#2a3f5f",
             "gridcolor": "white",
             "linecolor": "white",
             "minorgridcolor": "white",
             "startlinecolor": "#2a3f5f"
            },
            "baxis": {
             "endlinecolor": "#2a3f5f",
             "gridcolor": "white",
             "linecolor": "white",
             "minorgridcolor": "white",
             "startlinecolor": "#2a3f5f"
            },
            "type": "carpet"
           }
          ],
          "choropleth": [
           {
            "colorbar": {
             "outlinewidth": 0,
             "ticks": ""
            },
            "type": "choropleth"
           }
          ],
          "contour": [
           {
            "colorbar": {
             "outlinewidth": 0,
             "ticks": ""
            },
            "colorscale": [
             [
              0,
              "#0d0887"
             ],
             [
              0.1111111111111111,
              "#46039f"
             ],
             [
              0.2222222222222222,
              "#7201a8"
             ],
             [
              0.3333333333333333,
              "#9c179e"
             ],
             [
              0.4444444444444444,
              "#bd3786"
             ],
             [
              0.5555555555555556,
              "#d8576b"
             ],
             [
              0.6666666666666666,
              "#ed7953"
             ],
             [
              0.7777777777777778,
              "#fb9f3a"
             ],
             [
              0.8888888888888888,
              "#fdca26"
             ],
             [
              1,
              "#f0f921"
             ]
            ],
            "type": "contour"
           }
          ],
          "contourcarpet": [
           {
            "colorbar": {
             "outlinewidth": 0,
             "ticks": ""
            },
            "type": "contourcarpet"
           }
          ],
          "heatmap": [
           {
            "colorbar": {
             "outlinewidth": 0,
             "ticks": ""
            },
            "colorscale": [
             [
              0,
              "#0d0887"
             ],
             [
              0.1111111111111111,
              "#46039f"
             ],
             [
              0.2222222222222222,
              "#7201a8"
             ],
             [
              0.3333333333333333,
              "#9c179e"
             ],
             [
              0.4444444444444444,
              "#bd3786"
             ],
             [
              0.5555555555555556,
              "#d8576b"
             ],
             [
              0.6666666666666666,
              "#ed7953"
             ],
             [
              0.7777777777777778,
              "#fb9f3a"
             ],
             [
              0.8888888888888888,
              "#fdca26"
             ],
             [
              1,
              "#f0f921"
             ]
            ],
            "type": "heatmap"
           }
          ],
          "heatmapgl": [
           {
            "colorbar": {
             "outlinewidth": 0,
             "ticks": ""
            },
            "colorscale": [
             [
              0,
              "#0d0887"
             ],
             [
              0.1111111111111111,
              "#46039f"
             ],
             [
              0.2222222222222222,
              "#7201a8"
             ],
             [
              0.3333333333333333,
              "#9c179e"
             ],
             [
              0.4444444444444444,
              "#bd3786"
             ],
             [
              0.5555555555555556,
              "#d8576b"
             ],
             [
              0.6666666666666666,
              "#ed7953"
             ],
             [
              0.7777777777777778,
              "#fb9f3a"
             ],
             [
              0.8888888888888888,
              "#fdca26"
             ],
             [
              1,
              "#f0f921"
             ]
            ],
            "type": "heatmapgl"
           }
          ],
          "histogram": [
           {
            "marker": {
             "colorbar": {
              "outlinewidth": 0,
              "ticks": ""
             }
            },
            "type": "histogram"
           }
          ],
          "histogram2d": [
           {
            "colorbar": {
             "outlinewidth": 0,
             "ticks": ""
            },
            "colorscale": [
             [
              0,
              "#0d0887"
             ],
             [
              0.1111111111111111,
              "#46039f"
             ],
             [
              0.2222222222222222,
              "#7201a8"
             ],
             [
              0.3333333333333333,
              "#9c179e"
             ],
             [
              0.4444444444444444,
              "#bd3786"
             ],
             [
              0.5555555555555556,
              "#d8576b"
             ],
             [
              0.6666666666666666,
              "#ed7953"
             ],
             [
              0.7777777777777778,
              "#fb9f3a"
             ],
             [
              0.8888888888888888,
              "#fdca26"
             ],
             [
              1,
              "#f0f921"
             ]
            ],
            "type": "histogram2d"
           }
          ],
          "histogram2dcontour": [
           {
            "colorbar": {
             "outlinewidth": 0,
             "ticks": ""
            },
            "colorscale": [
             [
              0,
              "#0d0887"
             ],
             [
              0.1111111111111111,
              "#46039f"
             ],
             [
              0.2222222222222222,
              "#7201a8"
             ],
             [
              0.3333333333333333,
              "#9c179e"
             ],
             [
              0.4444444444444444,
              "#bd3786"
             ],
             [
              0.5555555555555556,
              "#d8576b"
             ],
             [
              0.6666666666666666,
              "#ed7953"
             ],
             [
              0.7777777777777778,
              "#fb9f3a"
             ],
             [
              0.8888888888888888,
              "#fdca26"
             ],
             [
              1,
              "#f0f921"
             ]
            ],
            "type": "histogram2dcontour"
           }
          ],
          "mesh3d": [
           {
            "colorbar": {
             "outlinewidth": 0,
             "ticks": ""
            },
            "type": "mesh3d"
           }
          ],
          "parcoords": [
           {
            "line": {
             "colorbar": {
              "outlinewidth": 0,
              "ticks": ""
             }
            },
            "type": "parcoords"
           }
          ],
          "pie": [
           {
            "automargin": true,
            "type": "pie"
           }
          ],
          "scatter": [
           {
            "marker": {
             "colorbar": {
              "outlinewidth": 0,
              "ticks": ""
             }
            },
            "type": "scatter"
           }
          ],
          "scatter3d": [
           {
            "line": {
             "colorbar": {
              "outlinewidth": 0,
              "ticks": ""
             }
            },
            "marker": {
             "colorbar": {
              "outlinewidth": 0,
              "ticks": ""
             }
            },
            "type": "scatter3d"
           }
          ],
          "scattercarpet": [
           {
            "marker": {
             "colorbar": {
              "outlinewidth": 0,
              "ticks": ""
             }
            },
            "type": "scattercarpet"
           }
          ],
          "scattergeo": [
           {
            "marker": {
             "colorbar": {
              "outlinewidth": 0,
              "ticks": ""
             }
            },
            "type": "scattergeo"
           }
          ],
          "scattergl": [
           {
            "marker": {
             "colorbar": {
              "outlinewidth": 0,
              "ticks": ""
             }
            },
            "type": "scattergl"
           }
          ],
          "scattermapbox": [
           {
            "marker": {
             "colorbar": {
              "outlinewidth": 0,
              "ticks": ""
             }
            },
            "type": "scattermapbox"
           }
          ],
          "scatterpolar": [
           {
            "marker": {
             "colorbar": {
              "outlinewidth": 0,
              "ticks": ""
             }
            },
            "type": "scatterpolar"
           }
          ],
          "scatterpolargl": [
           {
            "marker": {
             "colorbar": {
              "outlinewidth": 0,
              "ticks": ""
             }
            },
            "type": "scatterpolargl"
           }
          ],
          "scatterternary": [
           {
            "marker": {
             "colorbar": {
              "outlinewidth": 0,
              "ticks": ""
             }
            },
            "type": "scatterternary"
           }
          ],
          "surface": [
           {
            "colorbar": {
             "outlinewidth": 0,
             "ticks": ""
            },
            "colorscale": [
             [
              0,
              "#0d0887"
             ],
             [
              0.1111111111111111,
              "#46039f"
             ],
             [
              0.2222222222222222,
              "#7201a8"
             ],
             [
              0.3333333333333333,
              "#9c179e"
             ],
             [
              0.4444444444444444,
              "#bd3786"
             ],
             [
              0.5555555555555556,
              "#d8576b"
             ],
             [
              0.6666666666666666,
              "#ed7953"
             ],
             [
              0.7777777777777778,
              "#fb9f3a"
             ],
             [
              0.8888888888888888,
              "#fdca26"
             ],
             [
              1,
              "#f0f921"
             ]
            ],
            "type": "surface"
           }
          ],
          "table": [
           {
            "cells": {
             "fill": {
              "color": "#EBF0F8"
             },
             "line": {
              "color": "white"
             }
            },
            "header": {
             "fill": {
              "color": "#C8D4E3"
             },
             "line": {
              "color": "white"
             }
            },
            "type": "table"
           }
          ]
         },
         "layout": {
          "annotationdefaults": {
           "arrowcolor": "#2a3f5f",
           "arrowhead": 0,
           "arrowwidth": 1
          },
          "autotypenumbers": "strict",
          "coloraxis": {
           "colorbar": {
            "outlinewidth": 0,
            "ticks": ""
           }
          },
          "colorscale": {
           "diverging": [
            [
             0,
             "#8e0152"
            ],
            [
             0.1,
             "#c51b7d"
            ],
            [
             0.2,
             "#de77ae"
            ],
            [
             0.3,
             "#f1b6da"
            ],
            [
             0.4,
             "#fde0ef"
            ],
            [
             0.5,
             "#f7f7f7"
            ],
            [
             0.6,
             "#e6f5d0"
            ],
            [
             0.7,
             "#b8e186"
            ],
            [
             0.8,
             "#7fbc41"
            ],
            [
             0.9,
             "#4d9221"
            ],
            [
             1,
             "#276419"
            ]
           ],
           "sequential": [
            [
             0,
             "#0d0887"
            ],
            [
             0.1111111111111111,
             "#46039f"
            ],
            [
             0.2222222222222222,
             "#7201a8"
            ],
            [
             0.3333333333333333,
             "#9c179e"
            ],
            [
             0.4444444444444444,
             "#bd3786"
            ],
            [
             0.5555555555555556,
             "#d8576b"
            ],
            [
             0.6666666666666666,
             "#ed7953"
            ],
            [
             0.7777777777777778,
             "#fb9f3a"
            ],
            [
             0.8888888888888888,
             "#fdca26"
            ],
            [
             1,
             "#f0f921"
            ]
           ],
           "sequentialminus": [
            [
             0,
             "#0d0887"
            ],
            [
             0.1111111111111111,
             "#46039f"
            ],
            [
             0.2222222222222222,
             "#7201a8"
            ],
            [
             0.3333333333333333,
             "#9c179e"
            ],
            [
             0.4444444444444444,
             "#bd3786"
            ],
            [
             0.5555555555555556,
             "#d8576b"
            ],
            [
             0.6666666666666666,
             "#ed7953"
            ],
            [
             0.7777777777777778,
             "#fb9f3a"
            ],
            [
             0.8888888888888888,
             "#fdca26"
            ],
            [
             1,
             "#f0f921"
            ]
           ]
          },
          "colorway": [
           "#636efa",
           "#EF553B",
           "#00cc96",
           "#ab63fa",
           "#FFA15A",
           "#19d3f3",
           "#FF6692",
           "#B6E880",
           "#FF97FF",
           "#FECB52"
          ],
          "font": {
           "color": "#2a3f5f"
          },
          "geo": {
           "bgcolor": "white",
           "lakecolor": "white",
           "landcolor": "#E5ECF6",
           "showlakes": true,
           "showland": true,
           "subunitcolor": "white"
          },
          "hoverlabel": {
           "align": "left"
          },
          "hovermode": "closest",
          "mapbox": {
           "style": "light"
          },
          "paper_bgcolor": "white",
          "plot_bgcolor": "#E5ECF6",
          "polar": {
           "angularaxis": {
            "gridcolor": "white",
            "linecolor": "white",
            "ticks": ""
           },
           "bgcolor": "#E5ECF6",
           "radialaxis": {
            "gridcolor": "white",
            "linecolor": "white",
            "ticks": ""
           }
          },
          "scene": {
           "xaxis": {
            "backgroundcolor": "#E5ECF6",
            "gridcolor": "white",
            "gridwidth": 2,
            "linecolor": "white",
            "showbackground": true,
            "ticks": "",
            "zerolinecolor": "white"
           },
           "yaxis": {
            "backgroundcolor": "#E5ECF6",
            "gridcolor": "white",
            "gridwidth": 2,
            "linecolor": "white",
            "showbackground": true,
            "ticks": "",
            "zerolinecolor": "white"
           },
           "zaxis": {
            "backgroundcolor": "#E5ECF6",
            "gridcolor": "white",
            "gridwidth": 2,
            "linecolor": "white",
            "showbackground": true,
            "ticks": "",
            "zerolinecolor": "white"
           }
          },
          "shapedefaults": {
           "line": {
            "color": "#2a3f5f"
           }
          },
          "ternary": {
           "aaxis": {
            "gridcolor": "white",
            "linecolor": "white",
            "ticks": ""
           },
           "baxis": {
            "gridcolor": "white",
            "linecolor": "white",
            "ticks": ""
           },
           "bgcolor": "#E5ECF6",
           "caxis": {
            "gridcolor": "white",
            "linecolor": "white",
            "ticks": ""
           }
          },
          "title": {
           "x": 0.05
          },
          "xaxis": {
           "automargin": true,
           "gridcolor": "white",
           "linecolor": "white",
           "ticks": "",
           "title": {
            "standoff": 15
           },
           "zerolinecolor": "white",
           "zerolinewidth": 2
          },
          "yaxis": {
           "automargin": true,
           "gridcolor": "white",
           "linecolor": "white",
           "ticks": "",
           "title": {
            "standoff": 15
           },
           "zerolinecolor": "white",
           "zerolinewidth": 2
          }
         }
        },
        "xaxis": {
         "title": {
          "text": "x"
         }
        },
        "yaxis": {
         "title": {
          "text": "u(x,0.5)"
         }
        }
       }
      },
      "image/png": "[encoded data removed]",
      "image/svg+xml": "<svg class=\"main-svg\" xmlns=\"http://www.w3.org/2000/svg\" xmlns:xlink=\"http://www.w3.org/1999/xlink\" width=\"700\" height=\"500\" style=\"\" viewBox=\"0 0 700 500\"><rect x=\"0\" y=\"0\" width=\"700\" height=\"500\" style=\"fill: rgb(255, 255, 255); fill-opacity: 1;\"/><defs id=\"defs-6fa6a2\"><g class=\"clips\"><clipPath id=\"clip6fa6a2xyplot\" class=\"plotclip\"><rect width=\"526\" height=\"387\"/></clipPath><clipPath class=\"axesclip\" id=\"clip6fa6a2x\"><rect x=\"73\" y=\"0\" width=\"526\" height=\"500\"/></clipPath><clipPath class=\"axesclip\" id=\"clip6fa6a2y\"><rect x=\"0\" y=\"60\" width=\"700\" height=\"387\"/></clipPath><clipPath class=\"axesclip\" id=\"clip6fa6a2xy\"><rect x=\"73\" y=\"60\" width=\"526\" height=\"387\"/></clipPath></g><g class=\"gradients\"/></defs><g class=\"bglayer\"><rect class=\"bg\" x=\"73\" y=\"60\" width=\"526\" height=\"387\" style=\"fill: rgb(229, 236, 246); fill-opacity: 1; stroke-width: 0;\"/></g><g class=\"layer-below\"><g class=\"imagelayer\"/><g class=\"shapelayer\"/></g><g class=\"cartesianlayer\"><g class=\"subplot xy\"><g class=\"layer-subplot\"><g class=\"shapelayer\"/><g class=\"imagelayer\"/></g><g class=\"gridlayer\"><g class=\"x\"><path class=\"xgrid crisp\" transform=\"translate(196.23000000000002,0)\" d=\"M0,60v387\" style=\"stroke: rgb(255, 255, 255); stroke-opacity: 1; stroke-width: 1px;\"/><path class=\"xgrid crisp\" transform=\"translate(289.40999999999997,0)\" d=\"M0,60v387\" style=\"stroke: rgb(255, 255, 255); stroke-opacity: 1; stroke-width: 1px;\"/><path class=\"xgrid crisp\" transform=\"translate(382.59,0)\" d=\"M0,60v387\" style=\"stroke: rgb(255, 255, 255); stroke-opacity: 1; stroke-width: 1px;\"/><path class=\"xgrid crisp\" transform=\"translate(475.77,0)\" d=\"M0,60v387\" style=\"stroke: rgb(255, 255, 255); stroke-opacity: 1; stroke-width: 1px;\"/><path class=\"xgrid crisp\" transform=\"translate(568.95,0)\" d=\"M0,60v387\" style=\"stroke: rgb(255, 255, 255); stroke-opacity: 1; stroke-width: 1px;\"/></g><g class=\"y\"><path class=\"ygrid crisp\" transform=\"translate(0,377.84)\" d=\"M73,0h526\" style=\"stroke: rgb(255, 255, 255); stroke-opacity: 1; stroke-width: 1px;\"/><path class=\"ygrid crisp\" transform=\"translate(0,331.78)\" d=\"M73,0h526\" style=\"stroke: rgb(255, 255, 255); stroke-opacity: 1; stroke-width: 1px;\"/><path class=\"ygrid crisp\" transform=\"translate(0,285.73)\" d=\"M73,0h526\" style=\"stroke: rgb(255, 255, 255); stroke-opacity: 1; stroke-width: 1px;\"/><path class=\"ygrid crisp\" transform=\"translate(0,239.67)\" d=\"M73,0h526\" style=\"stroke: rgb(255, 255, 255); stroke-opacity: 1; stroke-width: 1px;\"/><path class=\"ygrid crisp\" transform=\"translate(0,193.61)\" d=\"M73,0h526\" style=\"stroke: rgb(255, 255, 255); stroke-opacity: 1; stroke-width: 1px;\"/><path class=\"ygrid crisp\" transform=\"translate(0,147.55)\" d=\"M73,0h526\" style=\"stroke: rgb(255, 255, 255); stroke-opacity: 1; stroke-width: 1px;\"/><path class=\"ygrid crisp\" transform=\"translate(0,101.49000000000001)\" d=\"M73,0h526\" style=\"stroke: rgb(255, 255, 255); stroke-opacity: 1; stroke-width: 1px;\"/></g></g><g class=\"zerolinelayer\"><path class=\"xzl zl crisp\" transform=\"translate(103.05,0)\" d=\"M0,60v387\" style=\"stroke: rgb(255, 255, 255); stroke-opacity: 1; stroke-width: 2px;\"/><path class=\"yzl zl crisp\" transform=\"translate(0,423.9)\" d=\"M73,0h526\" style=\"stroke: rgb(255, 255, 255); stroke-opacity: 1; stroke-width: 2px;\"/></g><path class=\"xlines-below\"/><path class=\"ylines-below\"/><g class=\"overlines-below\"/><g class=\"xaxislayer-below\"/><g class=\"yaxislayer-below\"/><g class=\"overaxes-below\"/><g class=\"plot\" transform=\"translate(73,60)\" clip-path=\"url('#clip6fa6a2xyplot')\"><g class=\"scatterlayer mlayer\"><g class=\"trace scatter tracebef579\" style=\"stroke-miterlimit: 2; opacity: 1;\"><g class=\"fills\"/><g class=\"errorbars\"/><g class=\"lines\"><path class=\"js-line\" d=\"M30.05,363.9L76.83,261.14L78.7,257.18L103.02,207.41L104.89,203.74L125.48,165.16L127.35,161.84L144.19,133.4L146.06,130.41L162.9,105.29L164.77,102.7L179.74,83.51L181.61,81.3L194.71,67.16L196.58,65.33L207.8,55.34L209.67,53.84L220.9,45.91L222.77,44.77L234,38.97L235.87,38.18L247.1,34.56L248.97,34.14L258.32,32.82L260.19,32.71L269.55,32.98L271.42,33.19L280.78,35.03L282.65,35.56L293.87,39.81L295.74,40.7L306.97,47.11L308.84,48.35L320.07,56.88L321.94,58.47L333.17,69.04L335.04,70.97L348.13,85.75L350.01,88.05L363.1,105.29L364.97,107.93L379.94,130.41L381.81,133.4L398.65,161.84L400.52,165.16L419.24,200.09L421.11,203.74L443.56,249.3L445.43,253.23L475.37,318.08L477.24,322.22L495.95,363.9\" style=\"vector-effect: non-scaling-stroke; fill: none; stroke: rgb(99, 110, 250); stroke-opacity: 1; stroke-width: 2px; opacity: 1;\"/></g><g class=\"points\"/><g class=\"text\"/></g><g class=\"trace scatter trace31578f\" style=\"stroke-miterlimit: 2; opacity: 1;\"><g class=\"fills\"/><g class=\"errorbars\"/><g class=\"lines\"/><g class=\"points\"><path class=\"point\" transform=\"translate(30.05,363.9)\" d=\"M3,0A3,3 0 1,1 0,-3A3,3 0 0,1 3,0Z\" style=\"opacity: 1; stroke-width: 0px; fill: rgb(239, 85, 59); fill-opacity: 1;\"/><path class=\"point\" transform=\"translate(76.64,258.59)\" d=\"M3,0A3,3 0 1,1 0,-3A3,3 0 0,1 3,0Z\" style=\"opacity: 1; stroke-width: 0px; fill: rgb(239, 85, 59); fill-opacity: 1;\"/><path class=\"point\" transform=\"translate(123.23,163.58)\" d=\"M3,0A3,3 0 1,1 0,-3A3,3 0 0,1 3,0Z\" style=\"opacity: 1; stroke-width: 0px; fill: rgb(239, 85, 59); fill-opacity: 1;\"/><path class=\"point\" transform=\"translate(169.82,88.19)\" d=\"M3,0A3,3 0 1,1 0,-3A3,3 0 0,1 3,0Z\" style=\"opacity: 1; stroke-width: 0px; fill: rgb(239, 85, 59); fill-opacity: 1;\"/><path class=\"point\" transform=\"translate(216.41,39.78)\" d=\"M3,0A3,3 0 1,1 0,-3A3,3 0 0,1 3,0Z\" style=\"opacity: 1; stroke-width: 0px; fill: rgb(239, 85, 59); fill-opacity: 1;\"/><path class=\"point\" transform=\"translate(263,23.1)\" d=\"M3,0A3,3 0 1,1 0,-3A3,3 0 0,1 3,0Z\" style=\"opacity: 1; stroke-width: 0px; fill: rgb(239, 85, 59); fill-opacity: 1;\"/><path class=\"point\" transform=\"translate(309.59,39.78)\" d=\"M3,0A3,3 0 1,1 0,-3A3,3 0 0,1 3,0Z\" style=\"opacity: 1; stroke-width: 0px; fill: rgb(239, 85, 59); fill-opacity: 1;\"/><path class=\"point\" transform=\"translate(356.18,88.19)\" d=\"M3,0A3,3 0 1,1 0,-3A3,3 0 0,1 3,0Z\" style=\"opacity: 1; stroke-width: 0px; fill: rgb(239, 85, 59); fill-opacity: 1;\"/><path class=\"point\" transform=\"translate(402.77,163.58)\" d=\"M3,0A3,3 0 1,1 0,-3A3,3 0 0,1 3,0Z\" style=\"opacity: 1; stroke-width: 0px; fill: rgb(239, 85, 59); fill-opacity: 1;\"/><path class=\"point\" transform=\"translate(449.36,258.59)\" d=\"M3,0A3,3 0 1,1 0,-3A3,3 0 0,1 3,0Z\" style=\"opacity: 1; stroke-width: 0px; fill: rgb(239, 85, 59); fill-opacity: 1;\"/><path class=\"point\" transform=\"translate(495.95,363.9)\" d=\"M3,0A3,3 0 1,1 0,-3A3,3 0 0,1 3,0Z\" style=\"opacity: 1; stroke-width: 0px; fill: rgb(239, 85, 59); fill-opacity: 1;\"/></g><g class=\"text\"/></g></g></g><g class=\"overplot\"/><path class=\"xlines-above crisp\" d=\"M0,0\" style=\"fill: none;\"/><path class=\"ylines-above crisp\" d=\"M0,0\" style=\"fill: none;\"/><g class=\"overlines-above\"/><g class=\"xaxislayer-above\"><g class=\"xtick\"><text text-anchor=\"middle\" x=\"0\" y=\"460\" transform=\"translate(103.05,0)\" style=\"font-family: 'Open Sans', verdana, arial, sans-serif; font-size: 12px; fill: rgb(42, 63, 95); fill-opacity: 1; white-space: pre;\">0</text></g><g class=\"xtick\"><text text-anchor=\"middle\" x=\"0\" y=\"460\" transform=\"translate(196.23000000000002,0)\" style=\"font-family: 'Open Sans', verdana, arial, sans-serif; font-size: 12px; fill: rgb(42, 63, 95); fill-opacity: 1; white-space: pre;\">0.2</text></g><g class=\"xtick\"><text text-anchor=\"middle\" x=\"0\" y=\"460\" transform=\"translate(289.40999999999997,0)\" style=\"font-family: 'Open Sans', verdana, arial, sans-serif; font-size: 12px; fill: rgb(42, 63, 95); fill-opacity: 1; white-space: pre;\">0.4</text></g><g class=\"xtick\"><text text-anchor=\"middle\" x=\"0\" y=\"460\" transform=\"translate(382.59,0)\" style=\"font-family: 'Open Sans', verdana, arial, sans-serif; font-size: 12px; fill: rgb(42, 63, 95); fill-opacity: 1; white-space: pre;\">0.6</text></g><g class=\"xtick\"><text text-anchor=\"middle\" x=\"0\" y=\"460\" transform=\"translate(475.77,0)\" style=\"font-family: 'Open Sans', verdana, arial, sans-serif; font-size: 12px; fill: rgb(42, 63, 95); fill-opacity: 1; white-space: pre;\">0.8</text></g><g class=\"xtick\"><text text-anchor=\"middle\" x=\"0\" y=\"460\" transform=\"translate(568.95,0)\" style=\"font-family: 'Open Sans', verdana, arial, sans-serif; font-size: 12px; fill: rgb(42, 63, 95); fill-opacity: 1; white-space: pre;\">1</text></g></g><g class=\"yaxislayer-above\"><g class=\"ytick\"><text text-anchor=\"end\" x=\"72\" y=\"4.199999999999999\" transform=\"translate(0,423.9)\" style=\"font-family: 'Open Sans', verdana, arial, sans-serif; font-size: 12px; fill: rgb(42, 63, 95); fill-opacity: 1; white-space: pre;\">0</text></g><g class=\"ytick\"><text text-anchor=\"end\" x=\"72\" y=\"4.199999999999999\" transform=\"translate(0,377.84)\" style=\"font-family: 'Open Sans', verdana, arial, sans-serif; font-size: 12px; fill: rgb(42, 63, 95); fill-opacity: 1; white-space: pre;\">0.001</text></g><g class=\"ytick\"><text text-anchor=\"end\" x=\"72\" y=\"4.199999999999999\" transform=\"translate(0,331.78)\" style=\"font-family: 'Open Sans', verdana, arial, sans-serif; font-size: 12px; fill: rgb(42, 63, 95); fill-opacity: 1; white-space: pre;\">0.002</text></g><g class=\"ytick\"><text text-anchor=\"end\" x=\"72\" y=\"4.199999999999999\" transform=\"translate(0,285.73)\" style=\"font-family: 'Open Sans', verdana, arial, sans-serif; font-size: 12px; fill: rgb(42, 63, 95); fill-opacity: 1; white-space: pre;\">0.003</text></g><g class=\"ytick\"><text text-anchor=\"end\" x=\"72\" y=\"4.199999999999999\" transform=\"translate(0,239.67)\" style=\"font-family: 'Open Sans', verdana, arial, sans-serif; font-size: 12px; fill: rgb(42, 63, 95); fill-opacity: 1; white-space: pre;\">0.004</text></g><g class=\"ytick\"><text text-anchor=\"end\" x=\"72\" y=\"4.199999999999999\" transform=\"translate(0,193.61)\" style=\"font-family: 'Open Sans', verdana, arial, sans-serif; font-size: 12px; fill: rgb(42, 63, 95); fill-opacity: 1; white-space: pre;\">0.005</text></g><g class=\"ytick\"><text text-anchor=\"end\" x=\"72\" y=\"4.199999999999999\" transform=\"translate(0,147.55)\" style=\"font-family: 'Open Sans', verdana, arial, sans-serif; font-size: 12px; fill: rgb(42, 63, 95); fill-opacity: 1; white-space: pre;\">0.006</text></g><g class=\"ytick\"><text text-anchor=\"end\" x=\"72\" y=\"4.199999999999999\" transform=\"translate(0,101.49000000000001)\" style=\"font-family: 'Open Sans', verdana, arial, sans-serif; font-size: 12px; fill: rgb(42, 63, 95); fill-opacity: 1; white-space: pre;\">0.007</text></g></g><g class=\"overaxes-above\"/></g></g><g class=\"polarlayer\"/><g class=\"ternarylayer\"/><g class=\"geolayer\"/><g class=\"funnelarealayer\"/><g class=\"pielayer\"/><g class=\"treemaplayer\"/><g class=\"sunburstlayer\"/><g class=\"glimages\"/><defs id=\"topdefs-6fa6a2\"><g class=\"clips\"/><clipPath id=\"legend6fa6a2\"><rect width=\"78\" height=\"48\" x=\"0\" y=\"0\"/></clipPath></defs><g class=\"layer-above\"><g class=\"imagelayer\"/><g class=\"shapelayer\"/></g><g class=\"infolayer\"><g class=\"legend\" pointer-events=\"all\" transform=\"translate(609.52,60)\"><rect class=\"bg\" shape-rendering=\"crispEdges\" width=\"78\" height=\"48\" x=\"0\" y=\"0\" style=\"stroke: rgb(68, 68, 68); stroke-opacity: 1; fill: rgb(255, 255, 255); fill-opacity: 1; stroke-width: 0px;\"/><g class=\"scrollbox\" transform=\"\" clip-path=\"url('#legend6fa6a2')\"><g class=\"groups\"><g class=\"traces\" transform=\"translate(0,14.5)\" style=\"opacity: 1;\"><text class=\"legendtext\" text-anchor=\"start\" x=\"40\" y=\"4.680000000000001\" style=\"font-family: 'Open Sans', verdana, arial, sans-serif; font-size: 12px; fill: rgb(42, 63, 95); fill-opacity: 1; white-space: pre;\">exact</text><g class=\"layers\" style=\"opacity: 1;\"><g class=\"legendfill\"/><g class=\"legendlines\"><path class=\"js-line\" d=\"M5,0h30\" style=\"fill: none; stroke: rgb(99, 110, 250); stroke-opacity: 1; stroke-width: 2px;\"/></g><g class=\"legendsymbols\"><g class=\"legendpoints\"/></g></g><rect class=\"legendtoggle\" x=\"0\" y=\"-9.5\" width=\"72.71875\" height=\"19\" style=\"fill: rgb(0, 0, 0); fill-opacity: 0;\"/></g><g class=\"traces\" transform=\"translate(0,33.5)\" style=\"opacity: 1;\"><text class=\"legendtext\" text-anchor=\"start\" x=\"40\" y=\"4.680000000000001\" style=\"font-family: 'Open Sans', verdana, arial, sans-serif; font-size: 12px; fill: rgb(42, 63, 95); fill-opacity: 1; white-space: pre;\">num</text><g class=\"layers\" style=\"opacity: 1;\"><g class=\"legendfill\"/><g class=\"legendlines\"/><g class=\"legendsymbols\"><g class=\"legendpoints\"><path class=\"scatterpts\" transform=\"translate(20,0)\" d=\"M3,0A3,3 0 1,1 0,-3A3,3 0 0,1 3,0Z\" style=\"opacity: 1; stroke-width: 0px; fill: rgb(239, 85, 59); fill-opacity: 1;\"/></g></g></g><rect class=\"legendtoggle\" x=\"0\" y=\"-9.5\" width=\"72.71875\" height=\"19\" style=\"fill: rgb(0, 0, 0); fill-opacity: 0;\"/></g></g></g><rect class=\"scrollbar\" rx=\"20\" ry=\"3\" width=\"0\" height=\"0\" x=\"0\" y=\"0\" style=\"fill: rgb(128, 139, 164); fill-opacity: 1;\"/></g><g class=\"g-gtitle\"/><g class=\"g-xtitle\"><text class=\"xtitle\" x=\"336\" y=\"487.8\" text-anchor=\"middle\" style=\"font-family: 'Open Sans', verdana, arial, sans-serif; font-size: 14px; fill: rgb(42, 63, 95); opacity: 1; font-weight: normal; white-space: pre;\">x</text></g><g class=\"g-ytitle\" transform=\"translate(1.6904296875,0)\"><text class=\"ytitle\" transform=\"rotate(-90,12.309375000000003,253.5)\" x=\"12.309375000000003\" y=\"253.5\" text-anchor=\"middle\" style=\"font-family: 'Open Sans', verdana, arial, sans-serif; font-size: 14px; fill: rgb(42, 63, 95); opacity: 1; font-weight: normal; white-space: pre;\">u(x,0.5)</text></g></g></svg>",
      "text/html": [
       "<div\n",
       "    class=\"webio-mountpoint\"\n",
       "    data-webio-mountpoint=\"11443811951488713805\"\n",
       ">\n",
       "    <script>\n",
       "    (function(){\n",
       "    // Some integrations (namely, IJulia/Jupyter) use an alternate render pathway than\n",
       "    // just putting the html on the page. If WebIO isn't defined, then it's pretty likely\n",
       "    // that we're in one of those situations and the integration just isn't installed\n",
       "    // correctly.\n",
       "    if (typeof window.WebIO === \"undefined\") {\n",
       "        document\n",
       "            .querySelector('[data-webio-mountpoint=\"11443811951488713805\"]')\n",
       "            .innerHTML = (\n",
       "                '<div style=\"padding: 1em; background-color: #f8d6da; border: 1px solid #f5c6cb; font-weight: bold;\">' +\n",
       "                '<p><strong>WebIO not detected.</strong></p>' +\n",
       "                '<p>Please read ' +\n",
       "                '<a href=\"https://juliagizmos.github.io/WebIO.jl/latest/troubleshooting/not-detected/\" target=\"_blank\">the troubleshooting guide</a> ' +\n",
       "                'for more information on how to resolve this issue.</p>' +\n",
       "                '<p><a href=\"https://juliagizmos.github.io/WebIO.jl/latest/troubleshooting/not-detected/\" target=\"_blank\">https://juliagizmos.github.io/WebIO.jl/latest/troubleshooting/not-detected/</a></p>' +\n",
       "                '</div>'\n",
       "            );\n",
       "        return;\n",
       "    }\n",
       "    WebIO.mount(\n",
       "        document.querySelector('[data-webio-mountpoint=\"11443811951488713805\"]'),\n",
       "        {\"props\":{},\"nodeType\":\"Scope\",\"type\":\"node\",\"instanceArgs\":{\"imports\":{\"data\":[{\"name\":\"Plotly\",\"type\":\"js\",\"url\":\"\\/assetserver\\/5b0bcbbb362c204ec77e728ffa8c7da4be28ce8a-plotly.min.js\"},{\"name\":null,\"type\":\"js\",\"url\":\"\\/assetserver\\/6303ac4e25f5217851dbb12ecf3059151c237374-plotly_webio.bundle.js\"}],\"type\":\"async_block\"},\"id\":\"17765947339513613453\",\"handlers\":{\"_toImage\":[\"(function (options){return this.Plotly.toImage(this.plotElem,options).then((function (data){return WebIO.setval({\\\"name\\\":\\\"image\\\",\\\"scope\\\":\\\"17765947339513613453\\\",\\\"id\\\":\\\"5653983989006684142\\\",\\\"type\\\":\\\"observable\\\"},data)}))})\"],\"__get_gd_contents\":[\"(function (prop){prop==\\\"data\\\" ? (WebIO.setval({\\\"name\\\":\\\"__gd_contents\\\",\\\"scope\\\":\\\"17765947339513613453\\\",\\\"id\\\":\\\"3588185592902906450\\\",\\\"type\\\":\\\"observable\\\"},this.plotElem.data)) : undefined; return prop==\\\"layout\\\" ? (WebIO.setval({\\\"name\\\":\\\"__gd_contents\\\",\\\"scope\\\":\\\"17765947339513613453\\\",\\\"id\\\":\\\"3588185592902906450\\\",\\\"type\\\":\\\"observable\\\"},this.plotElem.layout)) : undefined})\"],\"_downloadImage\":[\"(function (options){return this.Plotly.downloadImage(this.plotElem,options)})\"],\"_commands\":[\"(function (args){var fn=args.shift(); var elem=this.plotElem; var Plotly=this.Plotly; args.unshift(elem); return Plotly[fn].apply(this,args)})\"]},\"systemjs_options\":null,\"mount_callbacks\":[\"function () {\\n    var handler = ((function (Plotly,PlotlyWebIO){PlotlyWebIO.init(WebIO); var gd=this.dom.querySelector(\\\"#plot-387dbbcc-7897-4de3-bf4f-6eebd27ce0b6\\\"); this.plotElem=gd; this.Plotly=Plotly; (window.Blink!==undefined) ? (gd.style.width=\\\"100%\\\", gd.style.height=\\\"100vh\\\", gd.style.marginLeft=\\\"0%\\\", gd.style.marginTop=\\\"0vh\\\") : undefined; window.onresize=(function (){return Plotly.Plots.resize(gd)}); Plotly.newPlot(gd,[{\\\"showlegend\\\":true,\\\"mode\\\":\\\"lines\\\",\\\"y\\\":[0.0,9.073641962095579e-5,0.00018145839559282674,0.000272151486565704,0.0003628012557876646,0.00045339327340285,0.0005439131187484461,0.0006343463826501999,0.0007246786697161084,0.0008148956006279127,0.0009049828144300334,0.000994925970815584,0.0010847107524090945,0.0011743228670455905,0.0012637480500456524,0.0013529720664861033,0.0014419807134659608,0.0015307598223672893,0.0016192952611105945,0.0017075729364044055,0.0017955787959886783,0.0018832988308716701,0.0019707190775599256,0.002057825620281019,0.002144604593198705,0.002231042182620113,0.0023171246291946476,0.002402838230104236,0.002488169341244575,0.0025731043793970356,0.0026576298243908727,0.0027417322212553996,0.002825398182361784,0.0029086143895541224,0.002991367596269459,0.0030736446296464074,0.0031554323926220366,0.0032367178660166972,0.0033174881106064454,0.0033977302691827376,0.0034774315685990793,0.0035565793218042836,0.0036351609298620234,0.0037131638839563697,0.0037905757673829667,0.0038673842575255627,0.0039435771278175475,0.004019142249688212,0.004094067594493405,0.004168341235430276,0.004241951349435822,0.0043148862190689075,0.0043871342343754765,0.004458683894736653,0.0045295238106994404,0.004599642705789719,0.0046690294183072715,0.00473767290310252,0.004805562233334727,0.004872686602211352,0.004939035324708313,0.0050045978392708424,0.005069363709494712,0.005133322625787522,0.0051964644070098065,0.005258779002095692,0.005320256491652858,0.005380887089541519,0.0054406611444322165,0.005499569141342138,0.005557601703149734,0.005614749592087395,0.00567100371121194,0.005726355105852691,0.005780794965036899,0.0058343146228923,0.005886905560026563,0.005938559404883438,0.005989267935075352,0.006039023078692273,0.00608781691558662,0.006135641678634006,0.00618248975496963,0.0062283536872001135,0.006273226174590586,0.006317100074226833,0.006359968402152325,0.006401824334479938,0.006442661208478201,0.006482472523631883,0.006521251942676763,0.006558993292608408,0.006595690565664812,0.006631337920282724,0.006665929682027524,0.0066994603444964895,0.006731924570195325,0.006763317191387791,0.00679363321091832,0.00682286780300748,0.006851016314020147,0.006878074263206287,0.006904037343414212,0.0069289014217762,0.006952662540366382,0.006975316916830768,0.006996860944989331,0.007017291195410057,0.007036604415954839,0.007054797532297168,0.0070718676484115076,0.007087812047034295,0.007102628190096476,0.007116313719127526,0.007128866455630876,0.007140284401430692,0.007150565738989945,0.007159708831699736,0.007167712224139812,0.00717457464231025,0.007180294993834245,0.007184872368132008,0.007188306036565705,0.007190595452555449,0.007191740251666307,0.007191740251666307,0.007190595452555449,0.007188306036565705,0.007184872368132008,0.007180294993834245,0.00717457464231025,0.007167712224139812,0.007159708831699736,0.007150565738989945,0.007140284401430692,0.007128866455630877,0.007116313719127526,0.007102628190096476,0.007087812047034295,0.0070718676484115076,0.007054797532297169,0.007036604415954839,0.007017291195410058,0.006996860944989331,0.006975316916830768,0.006952662540366383,0.006928901421776201,0.006904037343414212,0.006878074263206288,0.006851016314020147,0.00682286780300748,0.00679363321091832,0.00676331719138779,0.006731924570195325,0.00669946034449649,0.006665929682027525,0.006631337920282725,0.006595690565664813,0.006558993292608408,0.0065212519426767635,0.006482472523631884,0.006442661208478201,0.006401824334479939,0.006359968402152323,0.006317100074226832,0.006273226174590587,0.006228353687200114,0.0061824897549696296,0.0061356416786340065,0.0060878169155866215,0.0060390230786922725,0.005989267935075352,0.005938559404883437,0.005886905560026565,0.0058343146228923,0.005780794965036901,0.005726355105852691,0.005671003711211941,0.005614749592087396,0.005557601703149736,0.005499569141342138,0.005440661144432217,0.00538088708954152,0.005320256491652857,0.005258779002095693,0.005196464407009806,0.005133322625787524,0.0050693637094947125,0.005004597839270844,0.004939035324708313,0.004872686602211352,0.004805562233334728,0.00473767290310252,0.004669029418307272,0.0045996427057897185,0.004529523810699441,0.0044586838947366534,0.004387134234375478,0.0043148862190689075,0.004241951349435823,0.004168341235430277,0.004094067594493405,0.004019142249688213,0.003943577127817549,0.003867384257525565,0.0037905757673829667,0.0037131638839563706,0.003635160929862023,0.003556579321804286,0.0034774315685990806,0.0033977302691827367,0.0033174881106064454,0.003236717866016699,0.003155432392622039,0.0030736446296464074,0.00299136759626946,0.002908614389554121,0.002825398182361787,0.0027417322212554005,0.0026576298243908745,0.002573104379397035,0.0024881693412445757,0.0024028382301042373,0.0023171246291946476,0.002231042182620114,0.0021446045931987063,0.002057825620281022,0.001970719077559926,0.0018832988308716716,0.0017955787959886781,0.0017075729364044061,0.001619295261110596,0.0015307598223672887,0.0014419807134659615,0.0013529720664861048,0.0012637480500456548,0.0011743228670455907,0.001084710752409096,0.0009949259708155829,0.0009049828144300368,0.000814895600627914,0.0007246786697161075,0.0006343463826501999,0.0005439131187484472,0.00045339327340285224,0.0003628012557876646,0.0002721514865657049,0.00018145839559282874,9.073641962095885e-5,8.807516931553887e-19],\\\"type\\\":\\\"scatter\\\",\\\"name\\\":\\\"exact\\\",\\\"x\\\":[0.0,0.004016064257028112,0.008032128514056224,0.012048192771084338,0.01606425702811245,0.020080321285140562,0.024096385542168676,0.028112449799196786,0.0321285140562249,0.03614457831325301,0.040160642570281124,0.04417670682730924,0.04819277108433735,0.05220883534136546,0.05622489959839357,0.060240963855421686,0.0642570281124498,0.06827309236947791,0.07228915662650602,0.07630522088353414,0.08032128514056225,0.08433734939759036,0.08835341365461848,0.09236947791164658,0.0963855421686747,0.10040160642570281,0.10441767068273092,0.10843373493975904,0.11244979919678715,0.11646586345381527,0.12048192771084337,0.12449799196787148,0.1285140562248996,0.13253012048192772,0.13654618473895583,0.14056224899598393,0.14457831325301204,0.14859437751004015,0.15261044176706828,0.1566265060240964,0.1606425702811245,0.1646586345381526,0.1686746987951807,0.17269076305220885,0.17670682730923695,0.18072289156626506,0.18473895582329317,0.18875502008032127,0.1927710843373494,0.19678714859437751,0.20080321285140562,0.20481927710843373,0.20883534136546184,0.21285140562248997,0.21686746987951808,0.22088353413654618,0.2248995983935743,0.2289156626506024,0.23293172690763053,0.23694779116465864,0.24096385542168675,0.24497991967871485,0.24899598393574296,0.25301204819277107,0.2570281124497992,0.26104417670682734,0.26506024096385544,0.26907630522088355,0.27309236947791166,0.27710843373493976,0.28112449799196787,0.285140562248996,0.2891566265060241,0.2931726907630522,0.2971887550200803,0.30120481927710846,0.30522088353413657,0.3092369477911647,0.3132530120481928,0.3172690763052209,0.321285140562249,0.3253012048192771,0.3293172690763052,0.3333333333333333,0.3373493975903614,0.3413654618473896,0.3453815261044177,0.3493975903614458,0.3534136546184739,0.357429718875502,0.3614457831325301,0.3654618473895582,0.36947791164658633,0.37349397590361444,0.37751004016064255,0.3815261044176707,0.3855421686746988,0.3895582329317269,0.39357429718875503,0.39759036144578314,0.40160642570281124,0.40562248995983935,0.40963855421686746,0.41365461847389556,0.41767068273092367,0.42168674698795183,0.42570281124497994,0.42971887550200805,0.43373493975903615,0.43775100401606426,0.44176706827309237,0.4457831325301205,0.4497991967871486,0.4538152610441767,0.4578313253012048,0.46184738955823296,0.46586345381526106,0.46987951807228917,0.4738955823293173,0.4779116465863454,0.4819277108433735,0.4859437751004016,0.4899598393574297,0.4939759036144578,0.4979919678714859,0.5020080321285141,0.5060240963855421,0.5100401606425703,0.5140562248995983,0.5180722891566265,0.5220883534136547,0.5261044176706827,0.5301204819277109,0.5341365461847389,0.5381526104417671,0.5421686746987951,0.5461847389558233,0.5502008032128514,0.5542168674698795,0.5582329317269076,0.5622489959839357,0.5662650602409639,0.570281124497992,0.5742971887550201,0.5783132530120482,0.5823293172690763,0.5863453815261044,0.5903614457831325,0.5943775100401606,0.5983935742971888,0.6024096385542169,0.606425702811245,0.6104417670682731,0.6144578313253012,0.6184738955823293,0.6224899598393574,0.6265060240963856,0.6305220883534136,0.6345381526104418,0.6385542168674698,0.642570281124498,0.6465863453815262,0.6506024096385542,0.6546184738955824,0.6586345381526104,0.6626506024096386,0.6666666666666666,0.6706827309236948,0.6746987951807228,0.678714859437751,0.6827309236947792,0.6867469879518072,0.6907630522088354,0.6947791164658634,0.6987951807228916,0.7028112449799196,0.7068273092369478,0.7108433734939759,0.714859437751004,0.7188755020080321,0.7228915662650602,0.7269076305220884,0.7309236947791165,0.7349397590361446,0.7389558232931727,0.7429718875502008,0.7469879518072289,0.751004016064257,0.7550200803212851,0.7590361445783133,0.7630522088353414,0.7670682730923695,0.7710843373493976,0.7751004016064257,0.7791164658634538,0.7831325301204819,0.7871485943775101,0.7911646586345381,0.7951807228915663,0.7991967871485943,0.8032128514056225,0.8072289156626506,0.8112449799196787,0.8152610441767069,0.8192771084337349,0.8232931726907631,0.8273092369477911,0.8313253012048193,0.8353413654618473,0.8393574297188755,0.8433734939759037,0.8473895582329317,0.8514056224899599,0.8554216867469879,0.8594377510040161,0.8634538152610441,0.8674698795180723,0.8714859437751004,0.8755020080321285,0.8795180722891566,0.8835341365461847,0.8875502008032129,0.891566265060241,0.8955823293172691,0.8995983935742972,0.9036144578313253,0.9076305220883534,0.9116465863453815,0.9156626506024096,0.9196787148594378,0.9236947791164659,0.927710843373494,0.9317269076305221,0.9357429718875502,0.9397590361445783,0.9437751004016064,0.9477911646586346,0.9518072289156626,0.9558232931726908,0.9598393574297188,0.963855421686747,0.9678714859437751,0.9718875502008032,0.9759036144578314,0.9799196787148594,0.9839357429718876,0.9879518072289156,0.9919678714859438,0.9959839357429718,1.0]},{\\\"showlegend\\\":true,\\\"mode\\\":\\\"markers\\\",\\\"y\\\":[0.0,0.0022865207865784528,0.004349220987439513,0.005986189135245528,0.0070371873822615075,0.007399336697334155,0.007037187382261507,0.005986189135245528,0.004349220987439511,0.0022865207865784506,0.0],\\\"type\\\":\\\"scatter\\\",\\\"name\\\":\\\"num\\\",\\\"x\\\":[0.0,0.1,0.2,0.3,0.4,0.5,0.6,0.7,0.8,0.9,1.0]}],{\\\"xaxis\\\":{\\\"title\\\":{\\\"text\\\":\\\"x\\\"}},\\\"template\\\":{\\\"layout\\\":{\\\"coloraxis\\\":{\\\"colorbar\\\":{\\\"ticks\\\":\\\"\\\",\\\"outlinewidth\\\":0}},\\\"xaxis\\\":{\\\"gridcolor\\\":\\\"white\\\",\\\"zerolinewidth\\\":2,\\\"title\\\":{\\\"standoff\\\":15},\\\"ticks\\\":\\\"\\\",\\\"zerolinecolor\\\":\\\"white\\\",\\\"automargin\\\":true,\\\"linecolor\\\":\\\"white\\\"},\\\"hovermode\\\":\\\"closest\\\",\\\"paper_bgcolor\\\":\\\"white\\\",\\\"geo\\\":{\\\"showlakes\\\":true,\\\"showland\\\":true,\\\"landcolor\\\":\\\"#E5ECF6\\\",\\\"bgcolor\\\":\\\"white\\\",\\\"subunitcolor\\\":\\\"white\\\",\\\"lakecolor\\\":\\\"white\\\"},\\\"colorscale\\\":{\\\"sequential\\\":[[0.0,\\\"#0d0887\\\"],[0.1111111111111111,\\\"#46039f\\\"],[0.2222222222222222,\\\"#7201a8\\\"],[0.3333333333333333,\\\"#9c179e\\\"],[0.4444444444444444,\\\"#bd3786\\\"],[0.5555555555555556,\\\"#d8576b\\\"],[0.6666666666666666,\\\"#ed7953\\\"],[0.7777777777777778,\\\"#fb9f3a\\\"],[0.8888888888888888,\\\"#fdca26\\\"],[1.0,\\\"#f0f921\\\"]],\\\"diverging\\\":[[0,\\\"#8e0152\\\"],[0.1,\\\"#c51b7d\\\"],[0.2,\\\"#de77ae\\\"],[0.3,\\\"#f1b6da\\\"],[0.4,\\\"#fde0ef\\\"],[0.5,\\\"#f7f7f7\\\"],[0.6,\\\"#e6f5d0\\\"],[0.7,\\\"#b8e186\\\"],[0.8,\\\"#7fbc41\\\"],[0.9,\\\"#4d9221\\\"],[1,\\\"#276419\\\"]],\\\"sequentialminus\\\":[[0.0,\\\"#0d0887\\\"],[0.1111111111111111,\\\"#46039f\\\"],[0.2222222222222222,\\\"#7201a8\\\"],[0.3333333333333333,\\\"#9c179e\\\"],[0.4444444444444444,\\\"#bd3786\\\"],[0.5555555555555556,\\\"#d8576b\\\"],[0.6666666666666666,\\\"#ed7953\\\"],[0.7777777777777778,\\\"#fb9f3a\\\"],[0.8888888888888888,\\\"#fdca26\\\"],[1.0,\\\"#f0f921\\\"]]},\\\"yaxis\\\":{\\\"gridcolor\\\":\\\"white\\\",\\\"zerolinewidth\\\":2,\\\"title\\\":{\\\"standoff\\\":15},\\\"ticks\\\":\\\"\\\",\\\"zerolinecolor\\\":\\\"white\\\",\\\"automargin\\\":true,\\\"linecolor\\\":\\\"white\\\"},\\\"shapedefaults\\\":{\\\"line\\\":{\\\"color\\\":\\\"#2a3f5f\\\"}},\\\"hoverlabel\\\":{\\\"align\\\":\\\"left\\\"},\\\"mapbox\\\":{\\\"style\\\":\\\"light\\\"},\\\"polar\\\":{\\\"angularaxis\\\":{\\\"gridcolor\\\":\\\"white\\\",\\\"ticks\\\":\\\"\\\",\\\"linecolor\\\":\\\"white\\\"},\\\"bgcolor\\\":\\\"#E5ECF6\\\",\\\"radialaxis\\\":{\\\"gridcolor\\\":\\\"white\\\",\\\"ticks\\\":\\\"\\\",\\\"linecolor\\\":\\\"white\\\"}},\\\"autotypenumbers\\\":\\\"strict\\\",\\\"font\\\":{\\\"color\\\":\\\"#2a3f5f\\\"},\\\"ternary\\\":{\\\"baxis\\\":{\\\"gridcolor\\\":\\\"white\\\",\\\"ticks\\\":\\\"\\\",\\\"linecolor\\\":\\\"white\\\"},\\\"bgcolor\\\":\\\"#E5ECF6\\\",\\\"caxis\\\":{\\\"gridcolor\\\":\\\"white\\\",\\\"ticks\\\":\\\"\\\",\\\"linecolor\\\":\\\"white\\\"},\\\"aaxis\\\":{\\\"gridcolor\\\":\\\"white\\\",\\\"ticks\\\":\\\"\\\",\\\"linecolor\\\":\\\"white\\\"}},\\\"annotationdefaults\\\":{\\\"arrowhead\\\":0,\\\"arrowwidth\\\":1,\\\"arrowcolor\\\":\\\"#2a3f5f\\\"},\\\"plot_bgcolor\\\":\\\"#E5ECF6\\\",\\\"title\\\":{\\\"x\\\":0.05},\\\"scene\\\":{\\\"xaxis\\\":{\\\"gridcolor\\\":\\\"white\\\",\\\"gridwidth\\\":2,\\\"backgroundcolor\\\":\\\"#E5ECF6\\\",\\\"ticks\\\":\\\"\\\",\\\"showbackground\\\":true,\\\"zerolinecolor\\\":\\\"white\\\",\\\"linecolor\\\":\\\"white\\\"},\\\"zaxis\\\":{\\\"gridcolor\\\":\\\"white\\\",\\\"gridwidth\\\":2,\\\"backgroundcolor\\\":\\\"#E5ECF6\\\",\\\"ticks\\\":\\\"\\\",\\\"showbackground\\\":true,\\\"zerolinecolor\\\":\\\"white\\\",\\\"linecolor\\\":\\\"white\\\"},\\\"yaxis\\\":{\\\"gridcolor\\\":\\\"white\\\",\\\"gridwidth\\\":2,\\\"backgroundcolor\\\":\\\"#E5ECF6\\\",\\\"ticks\\\":\\\"\\\",\\\"showbackground\\\":true,\\\"zerolinecolor\\\":\\\"white\\\",\\\"linecolor\\\":\\\"white\\\"}},\\\"colorway\\\":[\\\"#636efa\\\",\\\"#EF553B\\\",\\\"#00cc96\\\",\\\"#ab63fa\\\",\\\"#FFA15A\\\",\\\"#19d3f3\\\",\\\"#FF6692\\\",\\\"#B6E880\\\",\\\"#FF97FF\\\",\\\"#FECB52\\\"]},\\\"data\\\":{\\\"barpolar\\\":[{\\\"type\\\":\\\"barpolar\\\",\\\"marker\\\":{\\\"line\\\":{\\\"color\\\":\\\"#E5ECF6\\\",\\\"width\\\":0.5}}}],\\\"carpet\\\":[{\\\"aaxis\\\":{\\\"gridcolor\\\":\\\"white\\\",\\\"endlinecolor\\\":\\\"#2a3f5f\\\",\\\"minorgridcolor\\\":\\\"white\\\",\\\"startlinecolor\\\":\\\"#2a3f5f\\\",\\\"linecolor\\\":\\\"white\\\"},\\\"type\\\":\\\"carpet\\\",\\\"baxis\\\":{\\\"gridcolor\\\":\\\"white\\\",\\\"endlinecolor\\\":\\\"#2a3f5f\\\",\\\"minorgridcolor\\\":\\\"white\\\",\\\"startlinecolor\\\":\\\"#2a3f5f\\\",\\\"linecolor\\\":\\\"white\\\"}}],\\\"scatterpolar\\\":[{\\\"type\\\":\\\"scatterpolar\\\",\\\"marker\\\":{\\\"colorbar\\\":{\\\"ticks\\\":\\\"\\\",\\\"outlinewidth\\\":0}}}],\\\"parcoords\\\":[{\\\"line\\\":{\\\"colorbar\\\":{\\\"ticks\\\":\\\"\\\",\\\"outlinewidth\\\":0}},\\\"type\\\":\\\"parcoords\\\"}],\\\"scatter\\\":[{\\\"type\\\":\\\"scatter\\\",\\\"marker\\\":{\\\"colorbar\\\":{\\\"ticks\\\":\\\"\\\",\\\"outlinewidth\\\":0}}}],\\\"histogram2dcontour\\\":[{\\\"colorbar\\\":{\\\"ticks\\\":\\\"\\\",\\\"outlinewidth\\\":0},\\\"type\\\":\\\"histogram2dcontour\\\",\\\"colorscale\\\":[[0.0,\\\"#0d0887\\\"],[0.1111111111111111,\\\"#46039f\\\"],[0.2222222222222222,\\\"#7201a8\\\"],[0.3333333333333333,\\\"#9c179e\\\"],[0.4444444444444444,\\\"#bd3786\\\"],[0.5555555555555556,\\\"#d8576b\\\"],[0.6666666666666666,\\\"#ed7953\\\"],[0.7777777777777778,\\\"#fb9f3a\\\"],[0.8888888888888888,\\\"#fdca26\\\"],[1.0,\\\"#f0f921\\\"]]}],\\\"contour\\\":[{\\\"colorbar\\\":{\\\"ticks\\\":\\\"\\\",\\\"outlinewidth\\\":0},\\\"type\\\":\\\"contour\\\",\\\"colorscale\\\":[[0.0,\\\"#0d0887\\\"],[0.1111111111111111,\\\"#46039f\\\"],[0.2222222222222222,\\\"#7201a8\\\"],[0.3333333333333333,\\\"#9c179e\\\"],[0.4444444444444444,\\\"#bd3786\\\"],[0.5555555555555556,\\\"#d8576b\\\"],[0.6666666666666666,\\\"#ed7953\\\"],[0.7777777777777778,\\\"#fb9f3a\\\"],[0.8888888888888888,\\\"#fdca26\\\"],[1.0,\\\"#f0f921\\\"]]}],\\\"scattercarpet\\\":[{\\\"type\\\":\\\"scattercarpet\\\",\\\"marker\\\":{\\\"colorbar\\\":{\\\"ticks\\\":\\\"\\\",\\\"outlinewidth\\\":0}}}],\\\"mesh3d\\\":[{\\\"colorbar\\\":{\\\"ticks\\\":\\\"\\\",\\\"outlinewidth\\\":0},\\\"type\\\":\\\"mesh3d\\\"}],\\\"surface\\\":[{\\\"colorbar\\\":{\\\"ticks\\\":\\\"\\\",\\\"outlinewidth\\\":0},\\\"type\\\":\\\"surface\\\",\\\"colorscale\\\":[[0.0,\\\"#0d0887\\\"],[0.1111111111111111,\\\"#46039f\\\"],[0.2222222222222222,\\\"#7201a8\\\"],[0.3333333333333333,\\\"#9c179e\\\"],[0.4444444444444444,\\\"#bd3786\\\"],[0.5555555555555556,\\\"#d8576b\\\"],[0.6666666666666666,\\\"#ed7953\\\"],[0.7777777777777778,\\\"#fb9f3a\\\"],[0.8888888888888888,\\\"#fdca26\\\"],[1.0,\\\"#f0f921\\\"]]}],\\\"scattermapbox\\\":[{\\\"type\\\":\\\"scattermapbox\\\",\\\"marker\\\":{\\\"colorbar\\\":{\\\"ticks\\\":\\\"\\\",\\\"outlinewidth\\\":0}}}],\\\"scattergeo\\\":[{\\\"type\\\":\\\"scattergeo\\\",\\\"marker\\\":{\\\"colorbar\\\":{\\\"ticks\\\":\\\"\\\",\\\"outlinewidth\\\":0}}}],\\\"histogram\\\":[{\\\"type\\\":\\\"histogram\\\",\\\"marker\\\":{\\\"colorbar\\\":{\\\"ticks\\\":\\\"\\\",\\\"outlinewidth\\\":0}}}],\\\"pie\\\":[{\\\"type\\\":\\\"pie\\\",\\\"automargin\\\":true}],\\\"choropleth\\\":[{\\\"colorbar\\\":{\\\"ticks\\\":\\\"\\\",\\\"outlinewidth\\\":0},\\\"type\\\":\\\"choropleth\\\"}],\\\"heatmapgl\\\":[{\\\"colorbar\\\":{\\\"ticks\\\":\\\"\\\",\\\"outlinewidth\\\":0},\\\"type\\\":\\\"heatmapgl\\\",\\\"colorscale\\\":[[0.0,\\\"#0d0887\\\"],[0.1111111111111111,\\\"#46039f\\\"],[0.2222222222222222,\\\"#7201a8\\\"],[0.3333333333333333,\\\"#9c179e\\\"],[0.4444444444444444,\\\"#bd3786\\\"],[0.5555555555555556,\\\"#d8576b\\\"],[0.6666666666666666,\\\"#ed7953\\\"],[0.7777777777777778,\\\"#fb9f3a\\\"],[0.8888888888888888,\\\"#fdca26\\\"],[1.0,\\\"#f0f921\\\"]]}],\\\"bar\\\":[{\\\"type\\\":\\\"bar\\\",\\\"error_y\\\":{\\\"color\\\":\\\"#2a3f5f\\\"},\\\"error_x\\\":{\\\"color\\\":\\\"#2a3f5f\\\"},\\\"marker\\\":{\\\"line\\\":{\\\"color\\\":\\\"#E5ECF6\\\",\\\"width\\\":0.5}}}],\\\"heatmap\\\":[{\\\"colorbar\\\":{\\\"ticks\\\":\\\"\\\",\\\"outlinewidth\\\":0},\\\"type\\\":\\\"heatmap\\\",\\\"colorscale\\\":[[0.0,\\\"#0d0887\\\"],[0.1111111111111111,\\\"#46039f\\\"],[0.2222222222222222,\\\"#7201a8\\\"],[0.3333333333333333,\\\"#9c179e\\\"],[0.4444444444444444,\\\"#bd3786\\\"],[0.5555555555555556,\\\"#d8576b\\\"],[0.6666666666666666,\\\"#ed7953\\\"],[0.7777777777777778,\\\"#fb9f3a\\\"],[0.8888888888888888,\\\"#fdca26\\\"],[1.0,\\\"#f0f921\\\"]]}],\\\"contourcarpet\\\":[{\\\"colorbar\\\":{\\\"ticks\\\":\\\"\\\",\\\"outlinewidth\\\":0},\\\"type\\\":\\\"contourcarpet\\\"}],\\\"table\\\":[{\\\"type\\\":\\\"table\\\",\\\"header\\\":{\\\"line\\\":{\\\"color\\\":\\\"white\\\"},\\\"fill\\\":{\\\"color\\\":\\\"#C8D4E3\\\"}},\\\"cells\\\":{\\\"line\\\":{\\\"color\\\":\\\"white\\\"},\\\"fill\\\":{\\\"color\\\":\\\"#EBF0F8\\\"}}}],\\\"scatter3d\\\":[{\\\"line\\\":{\\\"colorbar\\\":{\\\"ticks\\\":\\\"\\\",\\\"outlinewidth\\\":0}},\\\"type\\\":\\\"scatter3d\\\",\\\"marker\\\":{\\\"colorbar\\\":{\\\"ticks\\\":\\\"\\\",\\\"outlinewidth\\\":0}}}],\\\"scattergl\\\":[{\\\"type\\\":\\\"scattergl\\\",\\\"marker\\\":{\\\"colorbar\\\":{\\\"ticks\\\":\\\"\\\",\\\"outlinewidth\\\":0}}}],\\\"histogram2d\\\":[{\\\"colorbar\\\":{\\\"ticks\\\":\\\"\\\",\\\"outlinewidth\\\":0},\\\"type\\\":\\\"histogram2d\\\",\\\"colorscale\\\":[[0.0,\\\"#0d0887\\\"],[0.1111111111111111,\\\"#46039f\\\"],[0.2222222222222222,\\\"#7201a8\\\"],[0.3333333333333333,\\\"#9c179e\\\"],[0.4444444444444444,\\\"#bd3786\\\"],[0.5555555555555556,\\\"#d8576b\\\"],[0.6666666666666666,\\\"#ed7953\\\"],[0.7777777777777778,\\\"#fb9f3a\\\"],[0.8888888888888888,\\\"#fdca26\\\"],[1.0,\\\"#f0f921\\\"]]}],\\\"scatterternary\\\":[{\\\"type\\\":\\\"scatterternary\\\",\\\"marker\\\":{\\\"colorbar\\\":{\\\"ticks\\\":\\\"\\\",\\\"outlinewidth\\\":0}}}],\\\"scatterpolargl\\\":[{\\\"type\\\":\\\"scatterpolargl\\\",\\\"marker\\\":{\\\"colorbar\\\":{\\\"ticks\\\":\\\"\\\",\\\"outlinewidth\\\":0}}}]}},\\\"margin\\\":{\\\"l\\\":50,\\\"b\\\":50,\\\"r\\\":50,\\\"t\\\":60},\\\"yaxis\\\":{\\\"title\\\":{\\\"text\\\":\\\"u(x,0.5)\\\"}}},{\\\"showLink\\\":false,\\\"editable\\\":false,\\\"responsive\\\":true,\\\"staticPlot\\\":false,\\\"scrollZoom\\\":true}); gd.on(\\\"plotly_hover\\\",(function (data){var filtered_data=WebIO.PlotlyCommands.filterEventData(gd,data,\\\"hover\\\"); return !(filtered_data.isnil) ? (WebIO.setval({\\\"name\\\":\\\"hover\\\",\\\"scope\\\":\\\"17765947339513613453\\\",\\\"id\\\":\\\"7333568198993475095\\\",\\\"type\\\":\\\"observable\\\"},filtered_data.out)) : undefined})); gd.on(\\\"plotly_unhover\\\",(function (){return WebIO.setval({\\\"name\\\":\\\"hover\\\",\\\"scope\\\":\\\"17765947339513613453\\\",\\\"id\\\":\\\"7333568198993475095\\\",\\\"type\\\":\\\"observable\\\"},{})})); gd.on(\\\"plotly_selected\\\",(function (data){var filtered_data=WebIO.PlotlyCommands.filterEventData(gd,data,\\\"selected\\\"); return !(filtered_data.isnil) ? (WebIO.setval({\\\"name\\\":\\\"selected\\\",\\\"scope\\\":\\\"17765947339513613453\\\",\\\"id\\\":\\\"15340798912316981367\\\",\\\"type\\\":\\\"observable\\\"},filtered_data.out)) : undefined})); gd.on(\\\"plotly_deselect\\\",(function (){return WebIO.setval({\\\"name\\\":\\\"selected\\\",\\\"scope\\\":\\\"17765947339513613453\\\",\\\"id\\\":\\\"15340798912316981367\\\",\\\"type\\\":\\\"observable\\\"},{})})); gd.on(\\\"plotly_relayout\\\",(function (data){var filtered_data=WebIO.PlotlyCommands.filterEventData(gd,data,\\\"relayout\\\"); return !(filtered_data.isnil) ? (WebIO.setval({\\\"name\\\":\\\"relayout\\\",\\\"scope\\\":\\\"17765947339513613453\\\",\\\"id\\\":\\\"5740058788675775064\\\",\\\"type\\\":\\\"observable\\\"},filtered_data.out)) : undefined})); return gd.on(\\\"plotly_click\\\",(function (data){var filtered_data=WebIO.PlotlyCommands.filterEventData(gd,data,\\\"click\\\"); return !(filtered_data.isnil) ? (WebIO.setval({\\\"name\\\":\\\"click\\\",\\\"scope\\\":\\\"17765947339513613453\\\",\\\"id\\\":\\\"16938925227796439508\\\",\\\"type\\\":\\\"observable\\\"},filtered_data.out)) : undefined}))}));\\n    (WebIO.importBlock({\\\"data\\\":[{\\\"name\\\":\\\"Plotly\\\",\\\"type\\\":\\\"js\\\",\\\"url\\\":\\\"\\/assetserver\\/5b0bcbbb362c204ec77e728ffa8c7da4be28ce8a-plotly.min.js\\\"},{\\\"name\\\":null,\\\"type\\\":\\\"js\\\",\\\"url\\\":\\\"\\/assetserver\\/6303ac4e25f5217851dbb12ecf3059151c237374-plotly_webio.bundle.js\\\"}],\\\"type\\\":\\\"async_block\\\"})).then((imports) => handler.apply(this, imports));\\n}\\n\"],\"observables\":{\"_toImage\":{\"sync\":false,\"id\":\"10024618893433934053\",\"value\":{}},\"hover\":{\"sync\":false,\"id\":\"7333568198993475095\",\"value\":{}},\"selected\":{\"sync\":false,\"id\":\"15340798912316981367\",\"value\":{}},\"__gd_contents\":{\"sync\":false,\"id\":\"3588185592902906450\",\"value\":{}},\"click\":{\"sync\":false,\"id\":\"16938925227796439508\",\"value\":{}},\"image\":{\"sync\":true,\"id\":\"5653983989006684142\",\"value\":\"\"},\"__get_gd_contents\":{\"sync\":false,\"id\":\"12312395226861548629\",\"value\":\"\"},\"_downloadImage\":{\"sync\":false,\"id\":\"13664891512164861442\",\"value\":{}},\"relayout\":{\"sync\":false,\"id\":\"5740058788675775064\",\"value\":{}},\"_commands\":{\"sync\":false,\"id\":\"11082110161553620882\",\"value\":[]}}},\"children\":[{\"props\":{\"id\":\"plot-387dbbcc-7897-4de3-bf4f-6eebd27ce0b6\"},\"nodeType\":\"DOM\",\"type\":\"node\",\"instanceArgs\":{\"namespace\":\"html\",\"tag\":\"div\"},\"children\":[]}]},\n",
       "        window,\n",
       "    );\n",
       "    })()\n",
       "    </script>\n",
       "</div>\n"
      ],
      "text/plain": [
       "data: [\n",
       "  \"scatter with fields mode, name, showlegend, type, x, and y\",\n",
       "  \"scatter with fields mode, name, showlegend, type, x, and y\"\n",
       "]\n",
       "\n",
       "layout: \"layout with fields margin, template, xaxis, and yaxis\"\n",
       "\n"
      ]
     },
     "metadata": {},
     "output_type": "display_data"
    }
   ],
   "source": [
    "kappa = 1   # diffusion constant\n",
    "L = 1.0         # length of spatial domain\n",
    "T = 0.5         # total time to solve for\n",
    "\n",
    "function u_I(x)\n",
    "    # initial temperature distribution\n",
    "    y = sin.(pi*x/L)\n",
    "    return y\n",
    "end\n",
    "\n",
    "function u_exact(x,t)\n",
    "    # the exact solution\n",
    "    y = exp.(-kappa*(pi^2/L^2)*t)*sin.(pi*x/L)\n",
    "    return y\n",
    "end\n",
    "\n",
    "# Set numerical parameters\n",
    "mx = 10     # number of gridpoints in space\n",
    "mt = 1000   # number of gridpoints in time\n",
    "\n",
    "x, u_j = forward_euler(u_I, kappa, L, T, mx, mt);\n",
    "\n",
    "# Plot the final result and exact solution\n",
    "using PlotlyJS\n",
    "xx = LinRange(0,L,250)\n",
    "\n",
    "# Create traces\n",
    "exact = scatter(x=xx, y=u_exact(xx,T), mode=\"lines\", name=\"exact\", showlegend=true)\n",
    "num = scatter(x=x, y=u_j, mode=\"markers\", name=\"num\", showlegend=true)\n",
    "\n",
    "layout = Layout(\n",
    "    xaxis_title = \"x\",\n",
    "    yaxis_title = \"u(x,0.5)\"\n",
    "    )\n",
    "\n",
    "plot([exact, num], layout)"
   ]
  },
  {
   "cell_type": "code",
   "execution_count": 73,
   "metadata": {},
   "outputs": [
    {
     "data": {
      "text/plain": [
       "5×5 Tridiagonal{Float64, Vector{Float64}}:\n",
       " -3.0   2.0    ⋅     ⋅     ⋅ \n",
       "  2.0  -3.0   2.0    ⋅     ⋅ \n",
       "   ⋅    2.0  -3.0   2.0    ⋅ \n",
       "   ⋅     ⋅    2.0  -3.0   2.0\n",
       "   ⋅     ⋅     ⋅    2.0  -3.0"
      ]
     },
     "metadata": {},
     "output_type": "display_data"
    }
   ],
   "source": [
    "using LinearAlgebra\n",
    "\n",
    "lmbda = 2\n",
    "mx = 5\n",
    "D = Tridiagonal(ones(mx-1)*(lmbda), ones(mx)*(1 - 2*lmbda), ones(mx-1)*(lmbda))"
   ]
  },
  {
   "cell_type": "code",
   "execution_count": 74,
   "metadata": {},
   "outputs": [
    {
     "data": {
      "text/plain": [
       "5-element Vector{Float64}:\n",
       "  1.0\n",
       "  2.0\n",
       "  3.0\n",
       "  4.0\n",
       " -7.0"
      ]
     },
     "metadata": {},
     "output_type": "display_data"
    }
   ],
   "source": [
    "y = [1;2;3;4;5]\n",
    "x = fill(2., (5,5))\n",
    "\n",
    "D*y"
   ]
  },
  {
   "cell_type": "code",
   "execution_count": null,
   "metadata": {},
   "outputs": [],
   "source": []
  }
 ],
 "metadata": {
  "kernelspec": {
   "display_name": "Julia 1.7.2",
   "language": "julia",
   "name": "julia-1.7"
  },
  "language_info": {
   "file_extension": ".jl",
   "mimetype": "application/julia",
   "name": "julia",
   "version": "1.7.2"
  },
  "orig_nbformat": 4
 },
 "nbformat": 4,
 "nbformat_minor": 2
}
