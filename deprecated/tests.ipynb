{
 "cells": [
  {
   "cell_type": "code",
   "execution_count": 22,
   "metadata": {},
   "outputs": [
    {
     "data": {
      "text/plain": [
       "lorenz (generic function with 9 methods)"
      ]
     },
     "execution_count": 22,
     "metadata": {},
     "output_type": "execute_result"
    }
   ],
   "source": [
    "include(\"../visualisation.jl\")\n",
    "include(\"../ode_solver.jl\")\n",
    "include(\"../numerical_shooting.jl\")\n",
    "\n",
    "function hopf2d(u, t, beta=1, sigma=-1.0)\n",
    "\n",
    "    u1, u2 = u\n",
    "    du1dt = beta*u1 - u2 + sigma*u1*(u1^2 + u2^2)\n",
    "    du2dt = u1 + beta*u2 + sigma*u2*(u1^2 + u2^2)\n",
    "\n",
    "    return [du1dt du2dt]\n",
    "end\n",
    "\n",
    "function hopf_sol(t, beta=1, theta=0.0)\n",
    "\n",
    "    u1 = √(beta) * cos.(t .+ theta)\n",
    "    u2 = √(beta) * sin.(t .+ theta)\n",
    "\n",
    "    return u1, u2\n",
    "end\n",
    "\n",
    "function hopf3d(u, beta=1, sigma=-1.0)\n",
    "\n",
    "    u1, u2, u3 = u\n",
    "    du1dt = beta*u1 - u2 + sigma*u1*(u1^2 + u2^2)\n",
    "    du2dt = u1 + beta*u2 + sigma*u2*(u1^2 + u2^2)\n",
    "    du3dt = -u3\n",
    "\n",
    "    return [du1dt du2dt du3dt]\n",
    "end\n",
    "\n",
    "function hopf_sol3d(t, beta=1, theta=0.0)\n",
    "\n",
    "    u1 = √(beta) * cos.(t .+ theta)\n",
    "    u2 = √(beta) * sin.(t .+ theta)\n",
    "    u3 = exp.(-t)\n",
    "\n",
    "    return u1, u2, u3\n",
    "end\n",
    "\n",
    "function cheng_wang(u, a=-0.01)\n",
    "\n",
    "    x, y, z = u\n",
    "    dxdt = y\n",
    "    dydt = z\n",
    "    dzdt = a - y - x^2 - x*z + 3*y^2\n",
    "\n",
    "    return [dxdt dydt dzdt]\n",
    "end\n",
    "\n",
    "function lorenz(u, beta=2.6666666667, sigma=10.0, rho=28.0)\n",
    "\n",
    "    x, y, z = u\n",
    "    dxdt = sigma*(y - x)\n",
    "    dydt = x*(rho - z) - y\n",
    "    dzdt = x*y - beta*z\n",
    "\n",
    "    return [dxdt dydt dzdt]\n",
    "end"
   ]
  },
  {
   "cell_type": "code",
   "execution_count": 32,
   "metadata": {},
   "outputs": [
    {
     "data": {
      "text/plain": [
       "1×3 Matrix{Float64}:\n",
       " 0.0  26.0  -1.66667"
      ]
     },
     "execution_count": 32,
     "metadata": {},
     "output_type": "execute_result"
    }
   ],
   "source": [
    "t = 0:0.01:50\n",
    "u0 = [1 1 1]\n",
    "\n",
    "lorenz(u0,  sigma=9)\n",
    "\n",
    "# plot_phase_portrait_3d(lorenz, u0, t)"
   ]
  },
  {
   "cell_type": "code",
   "execution_count": null,
   "metadata": {},
   "outputs": [],
   "source": []
  },
  {
   "cell_type": "code",
   "execution_count": 8,
   "metadata": {},
   "outputs": [
    {
     "name": "stdout",
     "output_type": "stream",
     "text": [
      "U0: [-1.000000000050683 -7.651853634629792e-11]\n",
      "Period: 6.283185307230901\n"
     ]
    }
   ],
   "source": [
    "u0, T = find_limit_cycle((u, t) -> hopf2d(u, t, 1), [-1 0], 6.28)\n",
    "println(\"U0: \", u0)\n",
    "println(\"Period: \", T)"
   ]
  },
  {
   "cell_type": "code",
   "execution_count": null,
   "metadata": {},
   "outputs": [],
   "source": []
  }
 ],
 "metadata": {
  "kernelspec": {
   "display_name": "Julia 1.7.2",
   "language": "julia",
   "name": "julia-1.7"
  },
  "language_info": {
   "file_extension": ".jl",
   "mimetype": "application/julia",
   "name": "julia",
   "version": "1.7.2"
  },
  "orig_nbformat": 4
 },
 "nbformat": 4,
 "nbformat_minor": 2
}
