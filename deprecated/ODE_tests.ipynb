{
 "cells": [
  {
   "cell_type": "code",
   "execution_count": 19,
   "metadata": {},
   "outputs": [
    {
     "data": {
      "text/plain": [
       "solve_ode (generic function with 1 method)"
      ]
     },
     "execution_count": 19,
     "metadata": {},
     "output_type": "execute_result"
    }
   ],
   "source": [
    "include(\"../ode_solver.jl\")\n"
   ]
  },
  {
   "cell_type": "code",
   "execution_count": 23,
   "metadata": {},
   "outputs": [
    {
     "ename": "LoadError",
     "evalue": "DimensionMismatch(\"dimensions must match: a has dims (Base.OneTo(1), Base.OneTo(2)), b has dims (Base.OneTo(2),), mismatch at 1\")",
     "output_type": "error",
     "traceback": [
      "DimensionMismatch(\"dimensions must match: a has dims (Base.OneTo(1), Base.OneTo(2)), b has dims (Base.OneTo(2),), mismatch at 1\")",
      "",
      "Stacktrace:",
      " [1] promote_shape",
      "   @ .\\indices.jl:178 [inlined]",
      " [2] promote_shape",
      "   @ .\\indices.jl:174 [inlined]",
      " [3] promote_shape(a::Vector{Int64}, b::Matrix{Float64})",
      "   @ Base .\\indices.jl:169",
      " [4] +(A::Vector{Int64}, Bs::Matrix{Float64})",
      "   @ Base .\\arraymath.jl:45",
      " [5] euler_step(::Function, ::Vector{Int64}, ::Int64, ::Float64)",
      "   @ Main c:\\Users\\crisp\\Desktop\\Uni\\SciComp\\ode_solver.jl:3",
      " [6] top-level scope",
      "   @ In[23]:1",
      " [7] eval",
      "   @ .\\boot.jl:373 [inlined]",
      " [8] include_string(mapexpr::typeof(REPL.softscope), mod::Module, code::String, filename::String)",
      "   @ Base .\\loading.jl:1196"
     ]
    }
   ],
   "source": [
    "euler_step(predprey, [1; 1], 2, 0.001)"
   ]
  },
  {
   "cell_type": "code",
   "execution_count": 9,
   "metadata": {},
   "outputs": [
    {
     "data": {
      "text/plain": [
       "4-element Vector{Int64}:\n",
       " 1\n",
       " 2\n",
       " 3\n",
       " 4"
      ]
     },
     "execution_count": 9,
     "metadata": {},
     "output_type": "execute_result"
    }
   ],
   "source": [
    "u = [[1, 2]; [3, 4]]\n",
    "\n",
    "# println(typeof(u))"
   ]
  },
  {
   "cell_type": "code",
   "execution_count": 3,
   "metadata": {},
   "outputs": [
    {
     "data": {
      "text/plain": [
       "21"
      ]
     },
     "execution_count": 3,
     "metadata": {},
     "output_type": "execute_result"
    }
   ],
   "source": [
    "F = [0.35 0.35]\n",
    "T = 21\n",
    "# ehh = [u0 T]"
   ]
  },
  {
   "cell_type": "code",
   "execution_count": 17,
   "metadata": {},
   "outputs": [
    {
     "data": {
      "text/plain": [
       "2-element Vector{Int64}:\n",
       " 2\n",
       " 2"
      ]
     },
     "execution_count": 17,
     "metadata": {},
     "output_type": "execute_result"
    }
   ],
   "source": [
    "x0 = [1; 1]\n",
    "x1 = [2; 2]\n",
    "\n",
    "x_series = Any[]\n",
    "push!(x_series, x0)\n",
    "push!(x_series, x1)\n",
    "x_series[2]"
   ]
  },
  {
   "cell_type": "code",
   "execution_count": 20,
   "metadata": {},
   "outputs": [
    {
     "data": {
      "text/plain": [
       "predprey (generic function with 1 method)"
      ]
     },
     "execution_count": 20,
     "metadata": {},
     "output_type": "execute_result"
    }
   ],
   "source": [
    "function predprey(u, t)\n",
    "\n",
    "    # println(u)\n",
    "\n",
    "    if(!isapprox(length(u), 2.0; atol=eps(Float64), rtol=0))\n",
    "        throw(error(\"Please make sure you have entered two initial conditions for the function.\"))\n",
    "    end\n",
    "\n",
    "    a = 1\n",
    "    b = 0.2\n",
    "    d = 0.1\n",
    "    x = u[1]    \n",
    "    y = u[2]\n",
    "    \n",
    "    x_dot = x.*(1-x)- (a.*x.*y)./(d + x)\n",
    "    y_dot = b.*y.*(1 - (y./x))\n",
    "    \n",
    "    return [x_dot; y_dot]\n",
    "end"
   ]
  },
  {
   "cell_type": "code",
   "execution_count": 101,
   "metadata": {},
   "outputs": [
    {
     "name": "stdout",
     "output_type": "stream",
     "text": [
      "x_series: [1 1]\n",
      "x1: [0.8350858229707269 0.996227091751152]\n",
      "x2: [0.6956566758401999 0.9843025123908978]\n",
      "x3: [0.5735694275906736 0.9631597846291109]\n",
      "x4: [0.46440565350382934 0.9314751275339432]\n",
      "x5: [0.3661385210667807 0.8876163963163592]\n",
      "x6: [0.2785615181739073 0.8296688395068608]\n",
      "x7: [0.20296084431227723 0.7557539804910239]\n",
      "x8: [0.14152174742391865 0.6651493974259038]\n",
      "x9: [0.09595313053643907 0.5608024312970398]\n",
      "x10: [0.06567376714250123 0.4520490269591728]\n",
      "x11: [0.04742683254886346 0.3525987649494247]\n",
      "x12: [0.03707264149896863 0.2725057160422821]\n",
      "x13: [0.03137332448462201 0.21346674339935434]\n",
      "x14: [0.028361460142581413 0.17174027738444475]\n",
      "x15: [0.026965442953753443 0.1424944253534293]\n"
     ]
    },
    {
     "data": {
      "text/plain": [
       "16-element Vector{Float64}:\n",
       " 1.0\n",
       " 0.8350858229707269\n",
       " 0.6956566758401999\n",
       " 0.5735694275906736\n",
       " 0.46440565350382934\n",
       " 0.3661385210667807\n",
       " 0.2785615181739073\n",
       " 0.20296084431227723\n",
       " 0.14152174742391865\n",
       " 0.09595313053643907\n",
       " 0.06567376714250123\n",
       " 0.04742683254886346\n",
       " 0.03707264149896863\n",
       " 0.03137332448462201\n",
       " 0.028361460142581413\n",
       " 0.026965442953753443"
      ]
     },
     "execution_count": 101,
     "metadata": {},
     "output_type": "execute_result"
    }
   ],
   "source": [
    "include(\"../ode_solver.jl\")\n",
    "\n",
    "x0 = 0\n",
    "t = 0:0.1:2\n",
    "\n",
    "\n",
    "t = 0:0.2:3\n",
    "x0 = [1 1]\n",
    "deltat_max = 0.01\n",
    "\n",
    "s3 = solve_ode(predprey, x0, t, rk4_step, deltat_max)[:,1]"
   ]
  },
  {
   "cell_type": "code",
   "execution_count": 96,
   "metadata": {},
   "outputs": [
    {
     "data": {
      "text/plain": [
       "1×2 Matrix{Int64}:\n",
       " 1  1"
      ]
     },
     "execution_count": 96,
     "metadata": {},
     "output_type": "execute_result"
    }
   ],
   "source": []
  },
  {
   "cell_type": "code",
   "execution_count": null,
   "metadata": {},
   "outputs": [],
   "source": []
  }
 ],
 "metadata": {
  "interpreter": {
   "hash": "1baa965d5efe3ac65b79dfc60c0d706280b1da80fedb7760faf2759126c4f253"
  },
  "kernelspec": {
   "display_name": "Julia 1.7.2",
   "language": "julia",
   "name": "julia-1.7"
  },
  "language_info": {
   "file_extension": ".jl",
   "mimetype": "application/julia",
   "name": "julia",
   "version": "1.7.2"
  },
  "orig_nbformat": 4
 },
 "nbformat": 4,
 "nbformat_minor": 2
}
