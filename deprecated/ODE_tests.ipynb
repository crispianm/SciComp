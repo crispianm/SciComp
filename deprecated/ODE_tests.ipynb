{
 "cells": [
  {
   "cell_type": "code",
   "execution_count": 51,
   "metadata": {},
   "outputs": [],
   "source": [
    "import numpy as np\n",
    "import matplotlib.pyplot as plt\n",
    "\n",
    "## Functions\n",
    "# dx/dt = f(x,t)\n",
    "def f(x,t):\n",
    "    return x\n",
    "\n",
    "# Euler step\n",
    "# f - the function\n",
    "# tn - the time to estimate at\n",
    "# h - the timestep\n",
    "# x0 - the initial condition\n",
    "\n",
    "def euler_step(f, tn, h, x0):\n",
    "    xn1 = x0 + h*f(x0, tn)\n",
    "    return xn1\n",
    "\n",
    "\n",
    "def rk4_step(f, tn, h, x0):\n",
    "    k1 = h * f(x0, tn)\n",
    "    k2 = h * f((x0+h/2), (tn+k1/2))\n",
    "    k3 = h * f((x0+h/2), (tn+k2/2))\n",
    "    k4 = h * f((x0+h), (tn+k3))\n",
    "    xn1 = x0 + (k1+2*k2+2*k3+k4)/6\n",
    "    return xn1\n",
    "\n",
    "\n",
    "# solve to\n",
    "def solve_to(f,x0,t1,t2,deltat_max, method):\n",
    "    timesteps = int((t2-t1)/deltat_max)\n",
    "    x = x0\n",
    "\n",
    "    if method == 'euler':\n",
    "        for step in range(timesteps):\n",
    "            x = euler_step(f, step, deltat_max, x)\n",
    "        return x\n",
    "    elif method == 'rk4':\n",
    "        for step in range(timesteps):\n",
    "            x = rk4_step(f, step, deltat_max, x)\n",
    "        return x\n",
    "\n",
    "\n",
    "# solve the ode\n",
    "def solve_ode(f,t,x0,deltat_max,method):\n",
    "\n",
    "    x_series = [x0]\n",
    "    x = x0\n",
    "\n",
    "    for i in range(len(t)-1):\n",
    "        \n",
    "        x = solve_to(f,x,t[i],t[i+1],deltat_max, method)\n",
    "        x_series.append(x)\n",
    "\n",
    "    return x_series\n",
    "\n"
   ]
  },
  {
   "cell_type": "code",
   "execution_count": 61,
   "metadata": {},
   "outputs": [
    {
     "name": "stdout",
     "output_type": "stream",
     "text": [
      "[1, 2.704813829421526, 7.316017851829933]\n",
      "[1, 2.7177823942020134, 7.384866491382936]\n"
     ]
    }
   ],
   "source": [
    "# print(solve_to(f, 1, 0, 1, 0.0001))\n",
    "# print(solve_to(f, 2.718, 1, 2, 0.0001))\n",
    "# print(solve_to(f, 1, 2, 3, 0.0001))\n",
    "print(solve_ode(f, [0,1,2], 1, 0.01, 'euler'))\n",
    "print(solve_ode(f, [0,1,2], 1, 0.001, 'rk4'))"
   ]
  },
  {
   "cell_type": "code",
   "execution_count": 63,
   "metadata": {},
   "outputs": [
    {
     "data": {
      "image/png": "[encoded data removed]",
      "text/plain": [
       "<Figure size 432x288 with 1 Axes>"
      ]
     },
     "metadata": {
      "needs_background": "light"
     },
     "output_type": "display_data"
    }
   ],
   "source": [
    "ax = plt.subplot()\n",
    "\n",
    "t = np.arange(0.0, 5.0, 0.01)\n",
    "s1 = np.exp(t)\n",
    "s2 = solve_ode(f, t, 1, 0.01, 'euler')\n",
    "s3 = solve_ode(f, t, 1, 0.001, 'rk4')\n",
    "\n",
    "plt.plot(t, s1, lw=2,color=\"black\")\n",
    "plt.plot(t, s2, lw=2,color=\"blue\")\n",
    "plt.plot(t, s3, lw=2,color=\"red\")\n",
    "# plt.yscale('log')\n",
    "plt.show()"
   ]
  },
  {
   "cell_type": "code",
   "execution_count": 1,
   "metadata": {},
   "outputs": [
    {
     "ename": "LoadError",
     "evalue": "syntax: extra token \"f\" after end of expression",
     "output_type": "error",
     "traceback": [
      "syntax: extra token \"f\" after end of expression",
      "",
      "Stacktrace:",
      " [1] top-level scope",
      "   @ In[1]:1",
      " [2] eval",
      "   @ .\\boot.jl:373 [inlined]",
      " [3] include_string(mapexpr::typeof(REPL.softscope), mod::Module, code::String, filename::String)",
      "   @ Base .\\loading.jl:1196"
     ]
    }
   ],
   "source": [
    "def f(x,t):\n",
    "    return x"
   ]
  },
  {
   "cell_type": "code",
   "execution_count": 3,
   "metadata": {},
   "outputs": [
    {
     "ename": "LoadError",
     "evalue": "syntax: extra token \"a\" after end of expression",
     "output_type": "error",
     "traceback": [
      "syntax: extra token \"a\" after end of expression",
      "",
      "Stacktrace:",
      " [1] top-level scope",
      "   @ In[3]:1",
      " [2] eval",
      "   @ .\\boot.jl:373 [inlined]",
      " [3] include_string(mapexpr::typeof(REPL.softscope), mod::Module, code::String, filename::String)",
      "   @ Base .\\loading.jl:1196"
     ]
    }
   ],
   "source": [
    "x = lambda a,b : f(a,b)\n",
    "print(x(5, 3))"
   ]
  },
  {
   "cell_type": "code",
   "execution_count": 7,
   "metadata": {},
   "outputs": [
    {
     "data": {
      "text/plain": [
       "2-element Vector{Int64}:\n",
       " 1\n",
       " 2"
      ]
     },
     "execution_count": 7,
     "metadata": {},
     "output_type": "execute_result"
    }
   ],
   "source": [
    "vector = [1,2]"
   ]
  },
  {
   "cell_type": "code",
   "execution_count": 8,
   "metadata": {},
   "outputs": [
    {
     "ename": "LoadError",
     "evalue": "DimensionMismatch(\"mismatch in dimension 1 (expected 2 got 1)\")",
     "output_type": "error",
     "traceback": [
      "DimensionMismatch(\"mismatch in dimension 1 (expected 2 got 1)\")",
      "",
      "Stacktrace:",
      "  [1] _cs",
      "    @ .\\abstractarray.jl:1688 [inlined]",
      "  [2] _cshp",
      "    @ .\\abstractarray.jl:1684 [inlined]",
      "  [3] _cat_size_shape(dims::Tuple{Bool, Bool}, shape::Tuple{Int64, Int64}, X::Int64, tail::Int64)",
      "    @ Base .\\abstractarray.jl:1664",
      "  [4] cat_size_shape(::Tuple{Bool, Bool}, ::Vector{Int64}, ::Int64, ::Vararg{Int64})",
      "    @ Base .\\abstractarray.jl:1662",
      "  [5] _cat_t(::Val{2}, ::Type{Int64}, ::Vector{Int64}, ::Vararg{Any})",
      "    @ Base .\\abstractarray.jl:1708",
      "  [6] cat_t(::Type{Int64}, ::Vector{Int64}, ::Vararg{Any}; dims::Val{2})",
      "    @ Base .\\abstractarray.jl:1705",
      "  [7] _cat",
      "    @ .\\abstractarray.jl:1703 [inlined]",
      "  [8] #cat#141",
      "    @ .\\abstractarray.jl:1861 [inlined]",
      "  [9] hcat(::Vector{Int64}, ::Int64, ::Int64)",
      "    @ Base .\\abstractarray.jl:1823",
      " [10] top-level scope",
      "    @ In[8]:1",
      " [11] eval",
      "    @ .\\boot.jl:373 [inlined]",
      " [12] include_string(mapexpr::typeof(REPL.softscope), mod::Module, code::String, filename::String)",
      "    @ Base .\\loading.jl:1196"
     ]
    }
   ],
   "source": [
    "U = [vector 2 3]"
   ]
  },
  {
   "cell_type": "code",
   "execution_count": 5,
   "metadata": {},
   "outputs": [
    {
     "data": {
      "text/plain": [
       "1×2 Matrix{Int64}:\n",
       " 1  2"
      ]
     },
     "execution_count": 5,
     "metadata": {},
     "output_type": "execute_result"
    }
   ],
   "source": [
    "yub = U[:, 1:end-1]"
   ]
  },
  {
   "cell_type": "code",
   "execution_count": 6,
   "metadata": {},
   "outputs": [
    {
     "data": {
      "text/plain": [
       "2"
      ]
     },
     "execution_count": 6,
     "metadata": {},
     "output_type": "execute_result"
    }
   ],
   "source": [
    "length(yub)"
   ]
  },
  {
   "cell_type": "code",
   "execution_count": 46,
   "metadata": {},
   "outputs": [
    {
     "data": {
      "text/plain": [
       "f (generic function with 1 method)"
      ]
     },
     "execution_count": 46,
     "metadata": {},
     "output_type": "execute_result"
    }
   ],
   "source": [
    "function f(u,t)\n",
    "    g = u .- t\n",
    "    return g\n",
    "end"
   ]
  },
  {
   "cell_type": "code",
   "execution_count": 48,
   "metadata": {},
   "outputs": [
    {
     "data": {
      "text/plain": [
       "1-element Vector{Matrix{Int64}}:\n",
       " [0 1]"
      ]
     },
     "execution_count": 48,
     "metadata": {},
     "output_type": "execute_result"
    }
   ],
   "source": [
    "map((u,t) -> f(u, t), [[1 2]], 1)"
   ]
  },
  {
   "cell_type": "code",
   "execution_count": 38,
   "metadata": {},
   "outputs": [
    {
     "data": {
      "text/plain": [
       "2×2 Matrix{Int64}:\n",
       " 1  2\n",
       " 3  4"
      ]
     },
     "execution_count": 38,
     "metadata": {},
     "output_type": "execute_result"
    }
   ],
   "source": [
    "u = [1 2; 3 4]\n",
    "\n",
    "# println(typeof(u))"
   ]
  },
  {
   "cell_type": "code",
   "execution_count": 65,
   "metadata": {},
   "outputs": [
    {
     "data": {
      "text/plain": [
       "1×3 Matrix{Float64}:\n",
       " 0.35  0.35  21.0"
      ]
     },
     "execution_count": 65,
     "metadata": {},
     "output_type": "execute_result"
    }
   ],
   "source": [
    "u0 = [0.35 0.35]\n",
    "T = 21\n",
    "ehh = [u0 T]"
   ]
  },
  {
   "cell_type": "code",
   "execution_count": 66,
   "metadata": {},
   "outputs": [
    {
     "data": {
      "text/plain": [
       "1×2 Matrix{Float64}:\n",
       " 0.35  0.35"
      ]
     },
     "execution_count": 66,
     "metadata": {},
     "output_type": "execute_result"
    }
   ],
   "source": [
    "ehh[:, 1:end .!= end]"
   ]
  },
  {
   "cell_type": "code",
   "execution_count": 77,
   "metadata": {},
   "outputs": [
    {
     "data": {
      "text/plain": [
       "solve_ode (generic function with 1 method)"
      ]
     },
     "execution_count": 77,
     "metadata": {},
     "output_type": "execute_result"
    }
   ],
   "source": []
  },
  {
   "cell_type": "code",
   "execution_count": 79,
   "metadata": {},
   "outputs": [
    {
     "data": {
      "text/plain": [
       "predprey (generic function with 1 method)"
      ]
     },
     "execution_count": 79,
     "metadata": {},
     "output_type": "execute_result"
    }
   ],
   "source": [
    "function predprey(u, t)\n",
    "\n",
    "    # println(u)\n",
    "\n",
    "    if(!isapprox(length(u), 2.0; atol=eps(Float64), rtol=0))\n",
    "        throw(error(\"Please make sure you have entered two initial conditions for the function.\"))\n",
    "    end\n",
    "\n",
    "    a = 1\n",
    "    b = 0.2\n",
    "    d = 0.1\n",
    "    x = u[1]    \n",
    "    y = u[2]\n",
    "    \n",
    "    x_dot = x.*(1-x)- (a.*x.*y)./(d + x)\n",
    "    y_dot = b.*y.*(1 - (y./x))\n",
    "    \n",
    "    return [x_dot y_dot]\n",
    "end"
   ]
  },
  {
   "cell_type": "code",
   "execution_count": 101,
   "metadata": {},
   "outputs": [
    {
     "name": "stdout",
     "output_type": "stream",
     "text": [
      "x_series: [1 1]\n",
      "x1: [0.8350858229707269 0.996227091751152]\n",
      "x2: [0.6956566758401999 0.9843025123908978]\n",
      "x3: [0.5735694275906736 0.9631597846291109]\n",
      "x4: [0.46440565350382934 0.9314751275339432]\n",
      "x5: [0.3661385210667807 0.8876163963163592]\n",
      "x6: [0.2785615181739073 0.8296688395068608]\n",
      "x7: [0.20296084431227723 0.7557539804910239]\n",
      "x8: [0.14152174742391865 0.6651493974259038]\n",
      "x9: [0.09595313053643907 0.5608024312970398]\n",
      "x10: [0.06567376714250123 0.4520490269591728]\n",
      "x11: [0.04742683254886346 0.3525987649494247]\n",
      "x12: [0.03707264149896863 0.2725057160422821]\n",
      "x13: [0.03137332448462201 0.21346674339935434]\n",
      "x14: [0.028361460142581413 0.17174027738444475]\n",
      "x15: [0.026965442953753443 0.1424944253534293]\n"
     ]
    },
    {
     "data": {
      "text/plain": [
       "16-element Vector{Float64}:\n",
       " 1.0\n",
       " 0.8350858229707269\n",
       " 0.6956566758401999\n",
       " 0.5735694275906736\n",
       " 0.46440565350382934\n",
       " 0.3661385210667807\n",
       " 0.2785615181739073\n",
       " 0.20296084431227723\n",
       " 0.14152174742391865\n",
       " 0.09595313053643907\n",
       " 0.06567376714250123\n",
       " 0.04742683254886346\n",
       " 0.03707264149896863\n",
       " 0.03137332448462201\n",
       " 0.028361460142581413\n",
       " 0.026965442953753443"
      ]
     },
     "execution_count": 101,
     "metadata": {},
     "output_type": "execute_result"
    }
   ],
   "source": [
    "include(\"../ode_solver.jl\")\n",
    "\n",
    "x0 = 0\n",
    "t = 0:0.1:2\n",
    "\n",
    "\n",
    "t = 0:0.2:3\n",
    "x0 = [1 1]\n",
    "deltat_max = 0.01\n",
    "\n",
    "s3 = solve_ode(predprey, x0, t, rk4_step, deltat_max)[:,1]"
   ]
  },
  {
   "cell_type": "code",
   "execution_count": 96,
   "metadata": {},
   "outputs": [
    {
     "data": {
      "text/plain": [
       "1×2 Matrix{Int64}:\n",
       " 1  1"
      ]
     },
     "execution_count": 96,
     "metadata": {},
     "output_type": "execute_result"
    }
   ],
   "source": []
  },
  {
   "cell_type": "code",
   "execution_count": null,
   "metadata": {},
   "outputs": [],
   "source": []
  }
 ],
 "metadata": {
  "interpreter": {
   "hash": "1baa965d5efe3ac65b79dfc60c0d706280b1da80fedb7760faf2759126c4f253"
  },
  "kernelspec": {
   "display_name": "Julia 1.7.2",
   "language": "julia",
   "name": "julia-1.7"
  },
  "language_info": {
   "file_extension": ".jl",
   "mimetype": "application/julia",
   "name": "julia",
   "version": "1.7.2"
  },
  "orig_nbformat": 4
 },
 "nbformat": 4,
 "nbformat_minor": 2
}
