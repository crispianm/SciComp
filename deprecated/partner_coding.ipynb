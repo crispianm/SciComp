{
 "cells": [
  {
   "cell_type": "code",
   "execution_count": 1,
   "metadata": {},
   "outputs": [],
   "source": [
    "from scipy.integrate import odeint"
   ]
  },
  {
   "cell_type": "code",
   "execution_count": null,
   "metadata": {},
   "outputs": [],
   "source": [
    "a = 1\n",
    "d = 0.1\n",
    "b = 0.4\n",
    "\n",
    "def pend(vector, t, b, c):\n",
    "    dxdt = x*(1-x) - (a*x*y)/(d + x)\n",
    "    dydt = b*y*(1-(y/x))\n",
    "    dUdt = [dxdt, dydt]\n",
    "    return dUdt"
   ]
  },
  {
   "cell_type": "code",
   "execution_count": null,
   "metadata": {},
   "outputs": [],
   "source": [
    "sol = odeint(pend, y0, t, args=(b, c))"
   ]
  }
 ],
 "metadata": {
  "interpreter": {
   "hash": "83f04404d209c6cc3b6cffac370ec9e5fa12fa083cb42565d1feea4721fa912d"
  },
  "kernelspec": {
   "display_name": "Python 3.9.7 ('base')",
   "language": "python",
   "name": "python3"
  },
  "language_info": {
   "codemirror_mode": {
    "name": "ipython",
    "version": 3
   },
   "file_extension": ".py",
   "mimetype": "text/x-python",
   "name": "python",
   "nbconvert_exporter": "python",
   "pygments_lexer": "ipython3",
   "version": "3.9.7"
  },
  "orig_nbformat": 4
 },
 "nbformat": 4,
 "nbformat_minor": 2
}
